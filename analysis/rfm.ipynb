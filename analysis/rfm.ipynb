{
 "cells": [
  {
   "cell_type": "markdown",
   "metadata": {},
   "source": [
    "## Setup"
   ]
  },
  {
   "cell_type": "code",
   "execution_count": 1,
   "metadata": {},
   "outputs": [],
   "source": [
    "# imports\n",
    "import csv, io, os, psycopg2\n",
    "import pandas as pd\n",
    "from dotenv import load_dotenv"
   ]
  },
  {
   "cell_type": "code",
   "execution_count": 4,
   "metadata": {},
   "outputs": [],
   "source": [
    "# database setup\n",
    "db = 'order_mgmt'\n",
    "\n",
    "# pull credentials from .env\n",
    "load_dotenv('../.env')\n",
    "\n",
    "dsn = f'''\n",
    "dbname={db} \n",
    "user={os.getenv('super_user')} \n",
    "password={os.getenv('pg_password')} \n",
    "host={os.getenv('host')} \n",
    "port={os.getenv('port')}\n",
    "'''"
   ]
  },
  {
   "cell_type": "markdown",
   "metadata": {},
   "source": [
    "### Get data from database"
   ]
  },
  {
   "cell_type": "code",
   "execution_count": 6,
   "metadata": {},
   "outputs": [],
   "source": [
    "# connect to database to create dataframe\n",
    "with psycopg2.connect(dsn) as conn, conn.cursor() as cur:\n",
    "    # get one record per purchase\n",
    "    cur.execute(\n",
    "        '''\n",
    "        SELECT \to.order_no,\n",
    "\t\t        o.customer_id,\n",
    "                o.order_date,\n",
    "                SUM(ol.sales) AS monetary\n",
    "        FROM orders o\n",
    "        JOIN order_lines ol USING (order_no)\n",
    "        WHERE o.status IN \n",
    "            ('Shipped', 'Resolved')\n",
    "        GROUP BY o.order_no, o.customer_id, o.order_date\n",
    "        ORDER BY o.order_no\n",
    "        '''\n",
    "    )\n",
    "\n",
    "    # fetch data\n",
    "    records = cur.fetchall()\n",
    "    fields = [field.name for field in cur.description]\n",
    "\n",
    "    # setup dataframe\n",
    "    rfm_df = pd.DataFrame(records, columns=fields)"
   ]
  },
  {
   "cell_type": "code",
   "execution_count": 8,
   "metadata": {},
   "outputs": [
    {
     "data": {
      "text/html": [
       "<div>\n",
       "<style scoped>\n",
       "    .dataframe tbody tr th:only-of-type {\n",
       "        vertical-align: middle;\n",
       "    }\n",
       "\n",
       "    .dataframe tbody tr th {\n",
       "        vertical-align: top;\n",
       "    }\n",
       "\n",
       "    .dataframe thead th {\n",
       "        text-align: right;\n",
       "    }\n",
       "</style>\n",
       "<table border=\"1\" class=\"dataframe\">\n",
       "  <thead>\n",
       "    <tr style=\"text-align: right;\">\n",
       "      <th></th>\n",
       "      <th>order_no</th>\n",
       "      <th>customer_id</th>\n",
       "      <th>order_date</th>\n",
       "      <th>monetary</th>\n",
       "    </tr>\n",
       "  </thead>\n",
       "  <tbody>\n",
       "    <tr>\n",
       "      <th>0</th>\n",
       "      <td>10100</td>\n",
       "      <td>15</td>\n",
       "      <td>2003-01-06</td>\n",
       "      <td>12133.25</td>\n",
       "    </tr>\n",
       "    <tr>\n",
       "      <th>1</th>\n",
       "      <td>10101</td>\n",
       "      <td>51</td>\n",
       "      <td>2003-01-09</td>\n",
       "      <td>11432.34</td>\n",
       "    </tr>\n",
       "    <tr>\n",
       "      <th>2</th>\n",
       "      <td>10102</td>\n",
       "      <td>42</td>\n",
       "      <td>2003-01-10</td>\n",
       "      <td>6864.05</td>\n",
       "    </tr>\n",
       "    <tr>\n",
       "      <th>3</th>\n",
       "      <td>10103</td>\n",
       "      <td>65</td>\n",
       "      <td>2003-01-29</td>\n",
       "      <td>54702.00</td>\n",
       "    </tr>\n",
       "    <tr>\n",
       "      <th>4</th>\n",
       "      <td>10104</td>\n",
       "      <td>37</td>\n",
       "      <td>2003-01-31</td>\n",
       "      <td>44621.96</td>\n",
       "    </tr>\n",
       "  </tbody>\n",
       "</table>\n",
       "</div>"
      ],
      "text/plain": [
       "   order_no  customer_id  order_date  monetary\n",
       "0     10100           15  2003-01-06  12133.25\n",
       "1     10101           51  2003-01-09  11432.34\n",
       "2     10102           42  2003-01-10   6864.05\n",
       "3     10103           65  2003-01-29  54702.00\n",
       "4     10104           37  2003-01-31  44621.96"
      ]
     },
     "execution_count": 8,
     "metadata": {},
     "output_type": "execute_result"
    }
   ],
   "source": [
    "# display data\n",
    "rfm_df.head()"
   ]
  }
 ],
 "metadata": {
  "kernelspec": {
   "display_name": "base",
   "language": "python",
   "name": "python3"
  },
  "language_info": {
   "codemirror_mode": {
    "name": "ipython",
    "version": 3
   },
   "file_extension": ".py",
   "mimetype": "text/x-python",
   "name": "python",
   "nbconvert_exporter": "python",
   "pygments_lexer": "ipython3",
   "version": "3.12.4"
  }
 },
 "nbformat": 4,
 "nbformat_minor": 2
}
