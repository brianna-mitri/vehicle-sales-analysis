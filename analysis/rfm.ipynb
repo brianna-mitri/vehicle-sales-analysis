{
 "cells": [
  {
   "cell_type": "markdown",
   "metadata": {},
   "source": [
    "## Setup"
   ]
  },
  {
   "cell_type": "code",
   "execution_count": 1,
   "metadata": {},
   "outputs": [
    {
     "data": {
      "text/html": [
       "<script type=\"esms-options\">{\"shimMode\": true}</script><style>*[data-root-id],\n",
       "*[data-root-id] > * {\n",
       "  box-sizing: border-box;\n",
       "  font-family: var(--jp-ui-font-family);\n",
       "  font-size: var(--jp-ui-font-size1);\n",
       "  color: var(--vscode-editor-foreground, var(--jp-ui-font-color1));\n",
       "}\n",
       "\n",
       "/* Override VSCode background color */\n",
       ".cell-output-ipywidget-background:has(\n",
       "    > .cell-output-ipywidget-background > .lm-Widget > *[data-root-id]\n",
       "  ),\n",
       ".cell-output-ipywidget-background:has(> .lm-Widget > *[data-root-id]) {\n",
       "  background-color: transparent !important;\n",
       "}\n",
       "</style>"
      ]
     },
     "metadata": {},
     "output_type": "display_data"
    },
    {
     "data": {
      "application/javascript": "(function(root) {\n  function now() {\n    return new Date();\n  }\n\n  const force = true;\n  const py_version = '3.5.2'.replace('rc', '-rc.').replace('.dev', '-dev.');\n  const reloading = false;\n  const Bokeh = root.Bokeh;\n\n  // Set a timeout for this load but only if we are not already initializing\n  if (typeof (root._bokeh_timeout) === \"undefined\" || (force || !root._bokeh_is_initializing)) {\n    root._bokeh_timeout = Date.now() + 5000;\n    root._bokeh_failed_load = false;\n  }\n\n  function run_callbacks() {\n    try {\n      root._bokeh_onload_callbacks.forEach(function(callback) {\n        if (callback != null)\n          callback();\n      });\n    } finally {\n      delete root._bokeh_onload_callbacks;\n    }\n    console.debug(\"Bokeh: all callbacks have finished\");\n  }\n\n  function load_libs(css_urls, js_urls, js_modules, js_exports, callback) {\n    if (css_urls == null) css_urls = [];\n    if (js_urls == null) js_urls = [];\n    if (js_modules == null) js_modules = [];\n    if (js_exports == null) js_exports = {};\n\n    root._bokeh_onload_callbacks.push(callback);\n\n    if (root._bokeh_is_loading > 0) {\n      // Don't load bokeh if it is still initializing\n      console.debug(\"Bokeh: BokehJS is being loaded, scheduling callback at\", now());\n      return null;\n    } else if (js_urls.length === 0 && js_modules.length === 0 && Object.keys(js_exports).length === 0) {\n      // There is nothing to load\n      run_callbacks();\n      return null;\n    }\n\n    function on_load() {\n      root._bokeh_is_loading--;\n      if (root._bokeh_is_loading === 0) {\n        console.debug(\"Bokeh: all BokehJS libraries/stylesheets loaded\");\n        run_callbacks()\n      }\n    }\n    window._bokeh_on_load = on_load\n\n    function on_error(e) {\n      const src_el = e.srcElement\n      console.error(\"failed to load \" + (src_el.href || src_el.src));\n    }\n\n    const skip = [];\n    if (window.requirejs) {\n      window.requirejs.config({'packages': {}, 'paths': {}, 'shim': {}});\n      root._bokeh_is_loading = css_urls.length + 0;\n    } else {\n      root._bokeh_is_loading = css_urls.length + js_urls.length + js_modules.length + Object.keys(js_exports).length;\n    }\n\n    const existing_stylesheets = []\n    const links = document.getElementsByTagName('link')\n    for (let i = 0; i < links.length; i++) {\n      const link = links[i]\n      if (link.href != null) {\n        existing_stylesheets.push(link.href)\n      }\n    }\n    for (let i = 0; i < css_urls.length; i++) {\n      const url = css_urls[i];\n      const escaped = encodeURI(url)\n      if (existing_stylesheets.indexOf(escaped) !== -1) {\n        on_load()\n        continue;\n      }\n      const element = document.createElement(\"link\");\n      element.onload = on_load;\n      element.onerror = on_error;\n      element.rel = \"stylesheet\";\n      element.type = \"text/css\";\n      element.href = url;\n      console.debug(\"Bokeh: injecting link tag for BokehJS stylesheet: \", url);\n      document.body.appendChild(element);\n    }    var existing_scripts = []\n    const scripts = document.getElementsByTagName('script')\n    for (let i = 0; i < scripts.length; i++) {\n      var script = scripts[i]\n      if (script.src != null) {\n        existing_scripts.push(script.src)\n      }\n    }\n    for (let i = 0; i < js_urls.length; i++) {\n      const url = js_urls[i];\n      const escaped = encodeURI(url)\n      if (skip.indexOf(escaped) !== -1 || existing_scripts.indexOf(escaped) !== -1) {\n        if (!window.requirejs) {\n          on_load();\n        }\n        continue;\n      }\n      const element = document.createElement('script');\n      element.onload = on_load;\n      element.onerror = on_error;\n      element.async = false;\n      element.src = url;\n      console.debug(\"Bokeh: injecting script tag for BokehJS library: \", url);\n      document.head.appendChild(element);\n    }\n    for (let i = 0; i < js_modules.length; i++) {\n      const url = js_modules[i];\n      const escaped = encodeURI(url)\n      if (skip.indexOf(escaped) !== -1 || existing_scripts.indexOf(escaped) !== -1) {\n        if (!window.requirejs) {\n          on_load();\n        }\n        continue;\n      }\n      var element = document.createElement('script');\n      element.onload = on_load;\n      element.onerror = on_error;\n      element.async = false;\n      element.src = url;\n      element.type = \"module\";\n      console.debug(\"Bokeh: injecting script tag for BokehJS library: \", url);\n      document.head.appendChild(element);\n    }\n    for (const name in js_exports) {\n      const url = js_exports[name];\n      const escaped = encodeURI(url)\n      if (skip.indexOf(escaped) >= 0 || root[name] != null) {\n        if (!window.requirejs) {\n          on_load();\n        }\n        continue;\n      }\n      var element = document.createElement('script');\n      element.onerror = on_error;\n      element.async = false;\n      element.type = \"module\";\n      console.debug(\"Bokeh: injecting script tag for BokehJS library: \", url);\n      element.textContent = `\n      import ${name} from \"${url}\"\n      window.${name} = ${name}\n      window._bokeh_on_load()\n      `\n      document.head.appendChild(element);\n    }\n    if (!js_urls.length && !js_modules.length) {\n      on_load()\n    }\n  };\n\n  function inject_raw_css(css) {\n    const element = document.createElement(\"style\");\n    element.appendChild(document.createTextNode(css));\n    document.body.appendChild(element);\n  }\n\n  const js_urls = [\"https://cdn.holoviz.org/panel/1.5.3/dist/bundled/reactiveesm/es-module-shims@^1.10.0/dist/es-module-shims.min.js\", \"https://cdn.bokeh.org/bokeh/release/bokeh-3.5.2.min.js\", \"https://cdn.bokeh.org/bokeh/release/bokeh-gl-3.5.2.min.js\", \"https://cdn.bokeh.org/bokeh/release/bokeh-widgets-3.5.2.min.js\", \"https://cdn.bokeh.org/bokeh/release/bokeh-tables-3.5.2.min.js\", \"https://cdn.holoviz.org/panel/1.5.3/dist/panel.min.js\"];\n  const js_modules = [];\n  const js_exports = {};\n  const css_urls = [];\n  const inline_js = [    function(Bokeh) {\n      Bokeh.set_log_level(\"info\");\n    },\nfunction(Bokeh) {} // ensure no trailing comma for IE\n  ];\n\n  function run_inline_js() {\n    if ((root.Bokeh !== undefined) || (force === true)) {\n      for (let i = 0; i < inline_js.length; i++) {\n        try {\n          inline_js[i].call(root, root.Bokeh);\n        } catch(e) {\n          if (!reloading) {\n            throw e;\n          }\n        }\n      }\n      // Cache old bokeh versions\n      if (Bokeh != undefined && !reloading) {\n        var NewBokeh = root.Bokeh;\n        if (Bokeh.versions === undefined) {\n          Bokeh.versions = new Map();\n        }\n        if (NewBokeh.version !== Bokeh.version) {\n          Bokeh.versions.set(NewBokeh.version, NewBokeh)\n        }\n        root.Bokeh = Bokeh;\n      }\n    } else if (Date.now() < root._bokeh_timeout) {\n      setTimeout(run_inline_js, 100);\n    } else if (!root._bokeh_failed_load) {\n      console.log(\"Bokeh: BokehJS failed to load within specified timeout.\");\n      root._bokeh_failed_load = true;\n    }\n    root._bokeh_is_initializing = false\n  }\n\n  function load_or_wait() {\n    // Implement a backoff loop that tries to ensure we do not load multiple\n    // versions of Bokeh and its dependencies at the same time.\n    // In recent versions we use the root._bokeh_is_initializing flag\n    // to determine whether there is an ongoing attempt to initialize\n    // bokeh, however for backward compatibility we also try to ensure\n    // that we do not start loading a newer (Panel>=1.0 and Bokeh>3) version\n    // before older versions are fully initialized.\n    if (root._bokeh_is_initializing && Date.now() > root._bokeh_timeout) {\n      // If the timeout and bokeh was not successfully loaded we reset\n      // everything and try loading again\n      root._bokeh_timeout = Date.now() + 5000;\n      root._bokeh_is_initializing = false;\n      root._bokeh_onload_callbacks = undefined;\n      root._bokeh_is_loading = 0\n      console.log(\"Bokeh: BokehJS was loaded multiple times but one version failed to initialize.\");\n      load_or_wait();\n    } else if (root._bokeh_is_initializing || (typeof root._bokeh_is_initializing === \"undefined\" && root._bokeh_onload_callbacks !== undefined)) {\n      setTimeout(load_or_wait, 100);\n    } else {\n      root._bokeh_is_initializing = true\n      root._bokeh_onload_callbacks = []\n      const bokeh_loaded = root.Bokeh != null && (root.Bokeh.version === py_version || (root.Bokeh.versions !== undefined && root.Bokeh.versions.has(py_version)));\n      if (!reloading && !bokeh_loaded) {\n        if (root.Bokeh) {\n          root.Bokeh = undefined;\n        }\n        console.debug(\"Bokeh: BokehJS not loaded, scheduling load and callback at\", now());\n      }\n      load_libs(css_urls, js_urls, js_modules, js_exports, function() {\n        console.debug(\"Bokeh: BokehJS plotting callback run at\", now());\n        run_inline_js();\n      });\n    }\n  }\n  // Give older versions of the autoload script a head-start to ensure\n  // they initialize before we start loading newer version.\n  setTimeout(load_or_wait, 100)\n}(window));",
      "application/vnd.holoviews_load.v0+json": ""
     },
     "metadata": {},
     "output_type": "display_data"
    },
    {
     "data": {
      "application/javascript": "\nif ((window.PyViz === undefined) || (window.PyViz instanceof HTMLElement)) {\n  window.PyViz = {comms: {}, comm_status:{}, kernels:{}, receivers: {}, plot_index: []}\n}\n\n\n    function JupyterCommManager() {\n    }\n\n    JupyterCommManager.prototype.register_target = function(plot_id, comm_id, msg_handler) {\n      if (window.comm_manager || ((window.Jupyter !== undefined) && (Jupyter.notebook.kernel != null))) {\n        var comm_manager = window.comm_manager || Jupyter.notebook.kernel.comm_manager;\n        comm_manager.register_target(comm_id, function(comm) {\n          comm.on_msg(msg_handler);\n        });\n      } else if ((plot_id in window.PyViz.kernels) && (window.PyViz.kernels[plot_id])) {\n        window.PyViz.kernels[plot_id].registerCommTarget(comm_id, function(comm) {\n          comm.onMsg = msg_handler;\n        });\n      } else if (typeof google != 'undefined' && google.colab.kernel != null) {\n        google.colab.kernel.comms.registerTarget(comm_id, (comm) => {\n          var messages = comm.messages[Symbol.asyncIterator]();\n          function processIteratorResult(result) {\n            var message = result.value;\n            console.log(message)\n            var content = {data: message.data, comm_id};\n            var buffers = []\n            for (var buffer of message.buffers || []) {\n              buffers.push(new DataView(buffer))\n            }\n            var metadata = message.metadata || {};\n            var msg = {content, buffers, metadata}\n            msg_handler(msg);\n            return messages.next().then(processIteratorResult);\n          }\n          return messages.next().then(processIteratorResult);\n        })\n      }\n    }\n\n    JupyterCommManager.prototype.get_client_comm = function(plot_id, comm_id, msg_handler) {\n      if (comm_id in window.PyViz.comms) {\n        return window.PyViz.comms[comm_id];\n      } else if (window.comm_manager || ((window.Jupyter !== undefined) && (Jupyter.notebook.kernel != null))) {\n        var comm_manager = window.comm_manager || Jupyter.notebook.kernel.comm_manager;\n        var comm = comm_manager.new_comm(comm_id, {}, {}, {}, comm_id);\n        if (msg_handler) {\n          comm.on_msg(msg_handler);\n        }\n      } else if ((plot_id in window.PyViz.kernels) && (window.PyViz.kernels[plot_id])) {\n        var comm = window.PyViz.kernels[plot_id].connectToComm(comm_id);\n        comm.open();\n        if (msg_handler) {\n          comm.onMsg = msg_handler;\n        }\n      } else if (typeof google != 'undefined' && google.colab.kernel != null) {\n        var comm_promise = google.colab.kernel.comms.open(comm_id)\n        comm_promise.then((comm) => {\n          window.PyViz.comms[comm_id] = comm;\n          if (msg_handler) {\n            var messages = comm.messages[Symbol.asyncIterator]();\n            function processIteratorResult(result) {\n              var message = result.value;\n              var content = {data: message.data};\n              var metadata = message.metadata || {comm_id};\n              var msg = {content, metadata}\n              msg_handler(msg);\n              return messages.next().then(processIteratorResult);\n            }\n            return messages.next().then(processIteratorResult);\n          }\n        }) \n        var sendClosure = (data, metadata, buffers, disposeOnDone) => {\n          return comm_promise.then((comm) => {\n            comm.send(data, metadata, buffers, disposeOnDone);\n          });\n        };\n        var comm = {\n          send: sendClosure\n        };\n      }\n      window.PyViz.comms[comm_id] = comm;\n      return comm;\n    }\n    window.PyViz.comm_manager = new JupyterCommManager();\n    \n\n\nvar JS_MIME_TYPE = 'application/javascript';\nvar HTML_MIME_TYPE = 'text/html';\nvar EXEC_MIME_TYPE = 'application/vnd.holoviews_exec.v0+json';\nvar CLASS_NAME = 'output';\n\n/**\n * Render data to the DOM node\n */\nfunction render(props, node) {\n  var div = document.createElement(\"div\");\n  var script = document.createElement(\"script\");\n  node.appendChild(div);\n  node.appendChild(script);\n}\n\n/**\n * Handle when a new output is added\n */\nfunction handle_add_output(event, handle) {\n  var output_area = handle.output_area;\n  var output = handle.output;\n  if ((output.data == undefined) || (!output.data.hasOwnProperty(EXEC_MIME_TYPE))) {\n    return\n  }\n  var id = output.metadata[EXEC_MIME_TYPE][\"id\"];\n  var toinsert = output_area.element.find(\".\" + CLASS_NAME.split(' ')[0]);\n  if (id !== undefined) {\n    var nchildren = toinsert.length;\n    var html_node = toinsert[nchildren-1].children[0];\n    html_node.innerHTML = output.data[HTML_MIME_TYPE];\n    var scripts = [];\n    var nodelist = html_node.querySelectorAll(\"script\");\n    for (var i in nodelist) {\n      if (nodelist.hasOwnProperty(i)) {\n        scripts.push(nodelist[i])\n      }\n    }\n\n    scripts.forEach( function (oldScript) {\n      var newScript = document.createElement(\"script\");\n      var attrs = [];\n      var nodemap = oldScript.attributes;\n      for (var j in nodemap) {\n        if (nodemap.hasOwnProperty(j)) {\n          attrs.push(nodemap[j])\n        }\n      }\n      attrs.forEach(function(attr) { newScript.setAttribute(attr.name, attr.value) });\n      newScript.appendChild(document.createTextNode(oldScript.innerHTML));\n      oldScript.parentNode.replaceChild(newScript, oldScript);\n    });\n    if (JS_MIME_TYPE in output.data) {\n      toinsert[nchildren-1].children[1].textContent = output.data[JS_MIME_TYPE];\n    }\n    output_area._hv_plot_id = id;\n    if ((window.Bokeh !== undefined) && (id in Bokeh.index)) {\n      window.PyViz.plot_index[id] = Bokeh.index[id];\n    } else {\n      window.PyViz.plot_index[id] = null;\n    }\n  } else if (output.metadata[EXEC_MIME_TYPE][\"server_id\"] !== undefined) {\n    var bk_div = document.createElement(\"div\");\n    bk_div.innerHTML = output.data[HTML_MIME_TYPE];\n    var script_attrs = bk_div.children[0].attributes;\n    for (var i = 0; i < script_attrs.length; i++) {\n      toinsert[toinsert.length - 1].childNodes[1].setAttribute(script_attrs[i].name, script_attrs[i].value);\n    }\n    // store reference to server id on output_area\n    output_area._bokeh_server_id = output.metadata[EXEC_MIME_TYPE][\"server_id\"];\n  }\n}\n\n/**\n * Handle when an output is cleared or removed\n */\nfunction handle_clear_output(event, handle) {\n  var id = handle.cell.output_area._hv_plot_id;\n  var server_id = handle.cell.output_area._bokeh_server_id;\n  if (((id === undefined) || !(id in PyViz.plot_index)) && (server_id !== undefined)) { return; }\n  var comm = window.PyViz.comm_manager.get_client_comm(\"hv-extension-comm\", \"hv-extension-comm\", function () {});\n  if (server_id !== null) {\n    comm.send({event_type: 'server_delete', 'id': server_id});\n    return;\n  } else if (comm !== null) {\n    comm.send({event_type: 'delete', 'id': id});\n  }\n  delete PyViz.plot_index[id];\n  if ((window.Bokeh !== undefined) & (id in window.Bokeh.index)) {\n    var doc = window.Bokeh.index[id].model.document\n    doc.clear();\n    const i = window.Bokeh.documents.indexOf(doc);\n    if (i > -1) {\n      window.Bokeh.documents.splice(i, 1);\n    }\n  }\n}\n\n/**\n * Handle kernel restart event\n */\nfunction handle_kernel_cleanup(event, handle) {\n  delete PyViz.comms[\"hv-extension-comm\"];\n  window.PyViz.plot_index = {}\n}\n\n/**\n * Handle update_display_data messages\n */\nfunction handle_update_output(event, handle) {\n  handle_clear_output(event, {cell: {output_area: handle.output_area}})\n  handle_add_output(event, handle)\n}\n\nfunction register_renderer(events, OutputArea) {\n  function append_mime(data, metadata, element) {\n    // create a DOM node to render to\n    var toinsert = this.create_output_subarea(\n    metadata,\n    CLASS_NAME,\n    EXEC_MIME_TYPE\n    );\n    this.keyboard_manager.register_events(toinsert);\n    // Render to node\n    var props = {data: data, metadata: metadata[EXEC_MIME_TYPE]};\n    render(props, toinsert[0]);\n    element.append(toinsert);\n    return toinsert\n  }\n\n  events.on('output_added.OutputArea', handle_add_output);\n  events.on('output_updated.OutputArea', handle_update_output);\n  events.on('clear_output.CodeCell', handle_clear_output);\n  events.on('delete.Cell', handle_clear_output);\n  events.on('kernel_ready.Kernel', handle_kernel_cleanup);\n\n  OutputArea.prototype.register_mime_type(EXEC_MIME_TYPE, append_mime, {\n    safe: true,\n    index: 0\n  });\n}\n\nif (window.Jupyter !== undefined) {\n  try {\n    var events = require('base/js/events');\n    var OutputArea = require('notebook/js/outputarea').OutputArea;\n    if (OutputArea.prototype.mime_types().indexOf(EXEC_MIME_TYPE) == -1) {\n      register_renderer(events, OutputArea);\n    }\n  } catch(err) {\n  }\n}\n",
      "application/vnd.holoviews_load.v0+json": ""
     },
     "metadata": {},
     "output_type": "display_data"
    },
    {
     "data": {
      "application/vnd.holoviews_exec.v0+json": "",
      "text/html": [
       "<div id='4c08c4be-7f7d-4a3a-a778-ea561d65c747'>\n",
       "  <div id=\"fa6b14bb-9e4a-4eca-87fc-b4294b6738f6\" data-root-id=\"4c08c4be-7f7d-4a3a-a778-ea561d65c747\" style=\"display: contents;\"></div>\n",
       "</div>\n",
       "<script type=\"application/javascript\">(function(root) {\n",
       "  var docs_json = {\"2e6d37fe-3bca-4718-8692-edebc1bc4bf7\":{\"version\":\"3.5.2\",\"title\":\"Bokeh Application\",\"roots\":[{\"type\":\"object\",\"name\":\"panel.models.browser.BrowserInfo\",\"id\":\"4c08c4be-7f7d-4a3a-a778-ea561d65c747\"},{\"type\":\"object\",\"name\":\"panel.models.comm_manager.CommManager\",\"id\":\"7098685b-e88e-44ec-b3b1-f2df5a7e1054\",\"attributes\":{\"plot_id\":\"4c08c4be-7f7d-4a3a-a778-ea561d65c747\",\"comm_id\":\"2f3d379e06a747c6873cfea05b2f49b2\",\"client_comm_id\":\"c8cff42465a646e2ba78559280b35374\"}}],\"defs\":[{\"type\":\"model\",\"name\":\"ReactiveHTML1\"},{\"type\":\"model\",\"name\":\"FlexBox1\",\"properties\":[{\"name\":\"align_content\",\"kind\":\"Any\",\"default\":\"flex-start\"},{\"name\":\"align_items\",\"kind\":\"Any\",\"default\":\"flex-start\"},{\"name\":\"flex_direction\",\"kind\":\"Any\",\"default\":\"row\"},{\"name\":\"flex_wrap\",\"kind\":\"Any\",\"default\":\"wrap\"},{\"name\":\"gap\",\"kind\":\"Any\",\"default\":\"\"},{\"name\":\"justify_content\",\"kind\":\"Any\",\"default\":\"flex-start\"}]},{\"type\":\"model\",\"name\":\"FloatPanel1\",\"properties\":[{\"name\":\"config\",\"kind\":\"Any\",\"default\":{\"type\":\"map\"}},{\"name\":\"contained\",\"kind\":\"Any\",\"default\":true},{\"name\":\"position\",\"kind\":\"Any\",\"default\":\"right-top\"},{\"name\":\"offsetx\",\"kind\":\"Any\",\"default\":null},{\"name\":\"offsety\",\"kind\":\"Any\",\"default\":null},{\"name\":\"theme\",\"kind\":\"Any\",\"default\":\"primary\"},{\"name\":\"status\",\"kind\":\"Any\",\"default\":\"normalized\"}]},{\"type\":\"model\",\"name\":\"GridStack1\",\"properties\":[{\"name\":\"mode\",\"kind\":\"Any\",\"default\":\"warn\"},{\"name\":\"ncols\",\"kind\":\"Any\",\"default\":null},{\"name\":\"nrows\",\"kind\":\"Any\",\"default\":null},{\"name\":\"allow_resize\",\"kind\":\"Any\",\"default\":true},{\"name\":\"allow_drag\",\"kind\":\"Any\",\"default\":true},{\"name\":\"state\",\"kind\":\"Any\",\"default\":[]}]},{\"type\":\"model\",\"name\":\"drag1\",\"properties\":[{\"name\":\"slider_width\",\"kind\":\"Any\",\"default\":5},{\"name\":\"slider_color\",\"kind\":\"Any\",\"default\":\"black\"},{\"name\":\"value\",\"kind\":\"Any\",\"default\":50}]},{\"type\":\"model\",\"name\":\"click1\",\"properties\":[{\"name\":\"terminal_output\",\"kind\":\"Any\",\"default\":\"\"},{\"name\":\"debug_name\",\"kind\":\"Any\",\"default\":\"\"},{\"name\":\"clears\",\"kind\":\"Any\",\"default\":0}]},{\"type\":\"model\",\"name\":\"FastWrapper1\",\"properties\":[{\"name\":\"object\",\"kind\":\"Any\",\"default\":null},{\"name\":\"style\",\"kind\":\"Any\",\"default\":null}]},{\"type\":\"model\",\"name\":\"NotificationAreaBase1\",\"properties\":[{\"name\":\"js_events\",\"kind\":\"Any\",\"default\":{\"type\":\"map\"}},{\"name\":\"position\",\"kind\":\"Any\",\"default\":\"bottom-right\"},{\"name\":\"_clear\",\"kind\":\"Any\",\"default\":0}]},{\"type\":\"model\",\"name\":\"NotificationArea1\",\"properties\":[{\"name\":\"js_events\",\"kind\":\"Any\",\"default\":{\"type\":\"map\"}},{\"name\":\"notifications\",\"kind\":\"Any\",\"default\":[]},{\"name\":\"position\",\"kind\":\"Any\",\"default\":\"bottom-right\"},{\"name\":\"_clear\",\"kind\":\"Any\",\"default\":0},{\"name\":\"types\",\"kind\":\"Any\",\"default\":[{\"type\":\"map\",\"entries\":[[\"type\",\"warning\"],[\"background\",\"#ffc107\"],[\"icon\",{\"type\":\"map\",\"entries\":[[\"className\",\"fas fa-exclamation-triangle\"],[\"tagName\",\"i\"],[\"color\",\"white\"]]}]]},{\"type\":\"map\",\"entries\":[[\"type\",\"info\"],[\"background\",\"#007bff\"],[\"icon\",{\"type\":\"map\",\"entries\":[[\"className\",\"fas fa-info-circle\"],[\"tagName\",\"i\"],[\"color\",\"white\"]]}]]}]}]},{\"type\":\"model\",\"name\":\"Notification\",\"properties\":[{\"name\":\"background\",\"kind\":\"Any\",\"default\":null},{\"name\":\"duration\",\"kind\":\"Any\",\"default\":3000},{\"name\":\"icon\",\"kind\":\"Any\",\"default\":null},{\"name\":\"message\",\"kind\":\"Any\",\"default\":\"\"},{\"name\":\"notification_type\",\"kind\":\"Any\",\"default\":null},{\"name\":\"_destroyed\",\"kind\":\"Any\",\"default\":false}]},{\"type\":\"model\",\"name\":\"TemplateActions1\",\"properties\":[{\"name\":\"open_modal\",\"kind\":\"Any\",\"default\":0},{\"name\":\"close_modal\",\"kind\":\"Any\",\"default\":0}]},{\"type\":\"model\",\"name\":\"BootstrapTemplateActions1\",\"properties\":[{\"name\":\"open_modal\",\"kind\":\"Any\",\"default\":0},{\"name\":\"close_modal\",\"kind\":\"Any\",\"default\":0}]},{\"type\":\"model\",\"name\":\"TemplateEditor1\",\"properties\":[{\"name\":\"layout\",\"kind\":\"Any\",\"default\":[]}]},{\"type\":\"model\",\"name\":\"MaterialTemplateActions1\",\"properties\":[{\"name\":\"open_modal\",\"kind\":\"Any\",\"default\":0},{\"name\":\"close_modal\",\"kind\":\"Any\",\"default\":0}]},{\"type\":\"model\",\"name\":\"ReactiveESM1\"},{\"type\":\"model\",\"name\":\"JSComponent1\"},{\"type\":\"model\",\"name\":\"ReactComponent1\"},{\"type\":\"model\",\"name\":\"AnyWidgetComponent1\"},{\"type\":\"model\",\"name\":\"request_value1\",\"properties\":[{\"name\":\"fill\",\"kind\":\"Any\",\"default\":\"none\"},{\"name\":\"_synced\",\"kind\":\"Any\",\"default\":null},{\"name\":\"_request_sync\",\"kind\":\"Any\",\"default\":0}]}]}};\n",
       "  var render_items = [{\"docid\":\"2e6d37fe-3bca-4718-8692-edebc1bc4bf7\",\"roots\":{\"4c08c4be-7f7d-4a3a-a778-ea561d65c747\":\"fa6b14bb-9e4a-4eca-87fc-b4294b6738f6\"},\"root_ids\":[\"4c08c4be-7f7d-4a3a-a778-ea561d65c747\"]}];\n",
       "  var docs = Object.values(docs_json)\n",
       "  if (!docs) {\n",
       "    return\n",
       "  }\n",
       "  const py_version = docs[0].version.replace('rc', '-rc.').replace('.dev', '-dev.')\n",
       "  async function embed_document(root) {\n",
       "    var Bokeh = get_bokeh(root)\n",
       "    await Bokeh.embed.embed_items_notebook(docs_json, render_items);\n",
       "    for (const render_item of render_items) {\n",
       "      for (const root_id of render_item.root_ids) {\n",
       "\tconst id_el = document.getElementById(root_id)\n",
       "\tif (id_el.children.length && id_el.children[0].hasAttribute('data-root-id')) {\n",
       "\t  const root_el = id_el.children[0]\n",
       "\t  root_el.id = root_el.id + '-rendered'\n",
       "\t  for (const child of root_el.children) {\n",
       "            // Ensure JupyterLab does not capture keyboard shortcuts\n",
       "            // see: https://jupyterlab.readthedocs.io/en/4.1.x/extension/notebook.html#keyboard-interaction-model\n",
       "\t    child.setAttribute('data-lm-suppress-shortcuts', 'true')\n",
       "\t  }\n",
       "\t}\n",
       "      }\n",
       "    }\n",
       "  }\n",
       "  function get_bokeh(root) {\n",
       "    if (root.Bokeh === undefined) {\n",
       "      return null\n",
       "    } else if (root.Bokeh.version !== py_version) {\n",
       "      if (root.Bokeh.versions === undefined || !root.Bokeh.versions.has(py_version)) {\n",
       "\treturn null\n",
       "      }\n",
       "      return root.Bokeh.versions.get(py_version);\n",
       "    } else if (root.Bokeh.version === py_version) {\n",
       "      return root.Bokeh\n",
       "    }\n",
       "    return null\n",
       "  }\n",
       "  function is_loaded(root) {\n",
       "    var Bokeh = get_bokeh(root)\n",
       "    return (Bokeh != null && Bokeh.Panel !== undefined)\n",
       "  }\n",
       "  if (is_loaded(root)) {\n",
       "    embed_document(root);\n",
       "  } else {\n",
       "    var attempts = 0;\n",
       "    var timer = setInterval(function(root) {\n",
       "      if (is_loaded(root)) {\n",
       "        clearInterval(timer);\n",
       "        embed_document(root);\n",
       "      } else if (document.readyState == \"complete\") {\n",
       "        attempts++;\n",
       "        if (attempts > 200) {\n",
       "          clearInterval(timer);\n",
       "\t  var Bokeh = get_bokeh(root)\n",
       "\t  if (Bokeh == null || Bokeh.Panel == null) {\n",
       "            console.warn(\"Panel: ERROR: Unable to run Panel code because Bokeh or Panel library is missing\");\n",
       "\t  } else {\n",
       "\t    console.warn(\"Panel: WARNING: Attempting to render but not all required libraries could be resolved.\")\n",
       "\t    embed_document(root)\n",
       "\t  }\n",
       "        }\n",
       "      }\n",
       "    }, 25, root)\n",
       "  }\n",
       "})(window);</script>"
      ]
     },
     "metadata": {
      "application/vnd.holoviews_exec.v0+json": {
       "id": "4c08c4be-7f7d-4a3a-a778-ea561d65c747"
      }
     },
     "output_type": "display_data"
    }
   ],
   "source": [
    "# imports\n",
    "import os, threadpoolctl, psycopg2, pandas as pd, numpy as np, seaborn as sns, matplotlib.pyplot as plt, hvplot.pandas\n",
    "from dotenv import load_dotenv\n",
    "from sklearn.preprocessing import PowerTransformer, RobustScaler\n",
    "from sklearn import metrics\n",
    "from sklearn.cluster import KMeans\n",
    "from typing import List, Literal, Tuple, Union, Sequence"
   ]
  },
  {
   "cell_type": "code",
   "execution_count": 2,
   "metadata": {},
   "outputs": [
    {
     "data": {
      "text/plain": [
       "<threadpoolctl.threadpool_limits at 0x23a90f2aa20>"
      ]
     },
     "execution_count": 2,
     "metadata": {},
     "output_type": "execute_result"
    }
   ],
   "source": [
    "# stop leak message from modeling\n",
    "#os.environ.setdefault(\"OMP_NUM_THREADS\", \"1\")\n",
    "os.environ['OMP_NUM_THREADS'] = '1'\n",
    "threadpoolctl.threadpool_limits(1)"
   ]
  },
  {
   "cell_type": "code",
   "execution_count": 3,
   "metadata": {},
   "outputs": [],
   "source": [
    "# database setup\n",
    "db = 'order_mgmt'\n",
    "\n",
    "# pull credentials from .env\n",
    "load_dotenv('../.env')\n",
    "\n",
    "dsn = f'''\n",
    "dbname={db} \n",
    "user={os.getenv('super_user')} \n",
    "password={os.getenv('pg_password')} \n",
    "host={os.getenv('host')} \n",
    "port={os.getenv('port')}\n",
    "'''"
   ]
  },
  {
   "cell_type": "markdown",
   "metadata": {},
   "source": [
    "### Get data from database"
   ]
  },
  {
   "cell_type": "code",
   "execution_count": 4,
   "metadata": {},
   "outputs": [],
   "source": [
    "# connect to database to create dataframe\n",
    "with psycopg2.connect(dsn) as conn, conn.cursor() as cur:\n",
    "    # get one record per purchase\n",
    "    cur.execute(\n",
    "        '''\n",
    "        SELECT \to.order_no,\n",
    "\t\t        o.customer_id,\n",
    "                o.order_date,\n",
    "                -- SUM(ol.quantity) AS total_quantity,\n",
    "                SUM(ol.sales) AS total_sales\n",
    "        FROM orders o\n",
    "        JOIN order_lines ol USING (order_no)\n",
    "        WHERE o.status IN \n",
    "            ('Shipped', 'Resolved')\n",
    "        GROUP BY o.order_no, o.customer_id, o.order_date\n",
    "        ORDER BY o.order_no\n",
    "        '''\n",
    "    )\n",
    "\n",
    "    # fetch data\n",
    "    records = cur.fetchall()\n",
    "    fields = [field.name for field in cur.description]\n",
    "\n",
    "    # setup dataframe\n",
    "    df = pd.DataFrame(records, columns=fields)"
   ]
  },
  {
   "cell_type": "code",
   "execution_count": 5,
   "metadata": {},
   "outputs": [
    {
     "data": {
      "text/html": [
       "<div>\n",
       "<style scoped>\n",
       "    .dataframe tbody tr th:only-of-type {\n",
       "        vertical-align: middle;\n",
       "    }\n",
       "\n",
       "    .dataframe tbody tr th {\n",
       "        vertical-align: top;\n",
       "    }\n",
       "\n",
       "    .dataframe thead th {\n",
       "        text-align: right;\n",
       "    }\n",
       "</style>\n",
       "<table border=\"1\" class=\"dataframe\">\n",
       "  <thead>\n",
       "    <tr style=\"text-align: right;\">\n",
       "      <th></th>\n",
       "      <th>order_no</th>\n",
       "      <th>customer_id</th>\n",
       "      <th>order_date</th>\n",
       "      <th>total_sales</th>\n",
       "    </tr>\n",
       "  </thead>\n",
       "  <tbody>\n",
       "    <tr>\n",
       "      <th>0</th>\n",
       "      <td>10100</td>\n",
       "      <td>15</td>\n",
       "      <td>2003-01-06</td>\n",
       "      <td>12133.25</td>\n",
       "    </tr>\n",
       "    <tr>\n",
       "      <th>1</th>\n",
       "      <td>10101</td>\n",
       "      <td>51</td>\n",
       "      <td>2003-01-09</td>\n",
       "      <td>11432.34</td>\n",
       "    </tr>\n",
       "    <tr>\n",
       "      <th>2</th>\n",
       "      <td>10102</td>\n",
       "      <td>42</td>\n",
       "      <td>2003-01-10</td>\n",
       "      <td>6864.05</td>\n",
       "    </tr>\n",
       "    <tr>\n",
       "      <th>3</th>\n",
       "      <td>10103</td>\n",
       "      <td>65</td>\n",
       "      <td>2003-01-29</td>\n",
       "      <td>54702.00</td>\n",
       "    </tr>\n",
       "    <tr>\n",
       "      <th>4</th>\n",
       "      <td>10104</td>\n",
       "      <td>37</td>\n",
       "      <td>2003-01-31</td>\n",
       "      <td>44621.96</td>\n",
       "    </tr>\n",
       "  </tbody>\n",
       "</table>\n",
       "</div>"
      ],
      "text/plain": [
       "   order_no  customer_id  order_date total_sales\n",
       "0     10100           15  2003-01-06    12133.25\n",
       "1     10101           51  2003-01-09    11432.34\n",
       "2     10102           42  2003-01-10     6864.05\n",
       "3     10103           65  2003-01-29    54702.00\n",
       "4     10104           37  2003-01-31    44621.96"
      ]
     },
     "execution_count": 5,
     "metadata": {},
     "output_type": "execute_result"
    }
   ],
   "source": [
    "# display data\n",
    "df.head()"
   ]
  },
  {
   "cell_type": "markdown",
   "metadata": {},
   "source": [
    "# Preprocessing\n",
    "---"
   ]
  },
  {
   "cell_type": "markdown",
   "metadata": {},
   "source": [
    "## Update data types"
   ]
  },
  {
   "cell_type": "code",
   "execution_count": 6,
   "metadata": {},
   "outputs": [
    {
     "data": {
      "text/plain": [
       "order_no        int64\n",
       "customer_id     int64\n",
       "order_date     object\n",
       "total_sales    object\n",
       "dtype: object"
      ]
     },
     "execution_count": 6,
     "metadata": {},
     "output_type": "execute_result"
    }
   ],
   "source": [
    "# data types\n",
    "df.dtypes"
   ]
  },
  {
   "cell_type": "code",
   "execution_count": 7,
   "metadata": {},
   "outputs": [],
   "source": [
    "# update data types\n",
    "df.total_sales = pd.to_numeric(df.total_sales)\n",
    "df.order_date = pd.to_datetime(df.order_date)"
   ]
  },
  {
   "cell_type": "code",
   "execution_count": 8,
   "metadata": {},
   "outputs": [
    {
     "data": {
      "text/plain": [
       "order_no                int64\n",
       "customer_id             int64\n",
       "order_date     datetime64[ns]\n",
       "total_sales           float64\n",
       "dtype: object"
      ]
     },
     "execution_count": 8,
     "metadata": {},
     "output_type": "execute_result"
    }
   ],
   "source": [
    "# double check dtypes\n",
    "df.dtypes"
   ]
  },
  {
   "cell_type": "markdown",
   "metadata": {},
   "source": [
    "## Get RFM (Recency, Frequency, Monetary)"
   ]
  },
  {
   "cell_type": "markdown",
   "metadata": {},
   "source": [
    "For each customer:\n",
    "- Recency: number of days between \"present\" date and date of last purchase\n",
    "- Frequency: number of orders\n",
    "- Monetary: sum of purchase price"
   ]
  },
  {
   "cell_type": "code",
   "execution_count": 9,
   "metadata": {},
   "outputs": [
    {
     "data": {
      "text/html": [
       "<div>\n",
       "<style scoped>\n",
       "    .dataframe tbody tr th:only-of-type {\n",
       "        vertical-align: middle;\n",
       "    }\n",
       "\n",
       "    .dataframe tbody tr th {\n",
       "        vertical-align: top;\n",
       "    }\n",
       "\n",
       "    .dataframe thead th {\n",
       "        text-align: right;\n",
       "    }\n",
       "</style>\n",
       "<table border=\"1\" class=\"dataframe\">\n",
       "  <thead>\n",
       "    <tr style=\"text-align: right;\">\n",
       "      <th></th>\n",
       "      <th>recency</th>\n",
       "      <th>frequency</th>\n",
       "      <th>monetary</th>\n",
       "    </tr>\n",
       "    <tr>\n",
       "      <th>customer_id</th>\n",
       "      <th></th>\n",
       "      <th></th>\n",
       "      <th></th>\n",
       "    </tr>\n",
       "  </thead>\n",
       "  <tbody>\n",
       "    <tr>\n",
       "      <th>1</th>\n",
       "      <td>183</td>\n",
       "      <td>3</td>\n",
       "      <td>118711.78</td>\n",
       "    </tr>\n",
       "    <tr>\n",
       "      <th>2</th>\n",
       "      <td>213</td>\n",
       "      <td>2</td>\n",
       "      <td>100306.58</td>\n",
       "    </tr>\n",
       "    <tr>\n",
       "      <th>3</th>\n",
       "      <td>188</td>\n",
       "      <td>4</td>\n",
       "      <td>119028.73</td>\n",
       "    </tr>\n",
       "    <tr>\n",
       "      <th>4</th>\n",
       "      <td>441</td>\n",
       "      <td>3</td>\n",
       "      <td>142874.25</td>\n",
       "    </tr>\n",
       "    <tr>\n",
       "      <th>5</th>\n",
       "      <td>132</td>\n",
       "      <td>4</td>\n",
       "      <td>120783.07</td>\n",
       "    </tr>\n",
       "  </tbody>\n",
       "</table>\n",
       "</div>"
      ],
      "text/plain": [
       "             recency  frequency   monetary\n",
       "customer_id                               \n",
       "1                183          3  118711.78\n",
       "2                213          2  100306.58\n",
       "3                188          4  119028.73\n",
       "4                441          3  142874.25\n",
       "5                132          4  120783.07"
      ]
     },
     "execution_count": 9,
     "metadata": {},
     "output_type": "execute_result"
    }
   ],
   "source": [
    "# calculate recency, frequency, monetary for each customer\n",
    "recent_date = df.order_date.max()\n",
    "rfm_df = df.groupby('customer_id').agg({\n",
    "    'order_date': lambda date: (recent_date - date.max()).days,\n",
    "    'order_no': lambda orders: len(orders),\n",
    "    'total_sales': lambda sale: sale.sum()\n",
    "})\n",
    "\n",
    "# update columns\n",
    "rfm_cols = ['recency', 'frequency', 'monetary']\n",
    "rfm_df.columns = rfm_cols\n",
    "#rfm_df = rfm_df.reset_index()\n",
    "\n",
    "# display\n",
    "rfm_df.head()"
   ]
  },
  {
   "cell_type": "markdown",
   "metadata": {},
   "source": [
    "## Check outliers/distribution"
   ]
  },
  {
   "cell_type": "markdown",
   "metadata": {},
   "source": [
    "#### **Analysis:**\n",
    "Recency: mild right skew--> most customers bought at around same time \n",
    "- Outliers: 4 (upper) \n",
    "- Percentiles: 99th percentile is 1.08 times greater than 95th percentile\n",
    "- Skew: 0.769 \n",
    "- Mean > Median --> 189.05 > 181.0\n",
    "\n",
    "Frequency: heavy right skew driven by a few very active/loyal customers (good to look into outliers since they more than triple the 95th percentile)\n",
    "- Outliers: 5 (upper)  \n",
    "- Percentiles: 99th percentile is 3.74 times greater than 95th percentile\n",
    "- Skew: 6.138\n",
    "- Mean > Median: 3.15 > 3.0\n",
    "\n",
    "Monetary: heavy right skew with a few high spending customers (good to look into since they're four times the 95th percentile)\n",
    "- Outliers: 4 (upper)\n",
    "- Percentiles: 99th percentile is 4.01 times greater than 95th percentile\n",
    "- Skew: 5.393\n",
    "- Mean > Median: 102,632.82 > 85,360.0\n",
    "\n",
    "OVERALL:\n",
    "- Overall, all RFM measures are right skewed but mainly Frequency and Monetary driven by high activity/spenders; recency is only mildly skewed\n",
    "- Keep outliers as they are valid and important to understand (transforming/scaling will prevent them from dominating before modeling)"
   ]
  },
  {
   "cell_type": "markdown",
   "metadata": {},
   "source": [
    "#### Outliers"
   ]
  },
  {
   "cell_type": "code",
   "execution_count": 10,
   "metadata": {},
   "outputs": [
    {
     "data": {
      "image/png": "[encoded data removed]",
      "text/plain": [
       "<Figure size 1400x600 with 3 Axes>"
      ]
     },
     "metadata": {},
     "output_type": "display_data"
    }
   ],
   "source": [
    "# boxplots\n",
    "rfm_df.plot(kind='box', subplots=True, figsize=(14,6))\n",
    "plt.show()"
   ]
  },
  {
   "cell_type": "code",
   "execution_count": 11,
   "metadata": {},
   "outputs": [
    {
     "name": "stdout",
     "output_type": "stream",
     "text": [
      "------------------------------\n",
      "RECENCY\n",
      "\n",
      "Number of outliers: 4\n",
      "Upper: 4\n",
      "Lower: 0\n",
      "------------------------------\n",
      "------------------------------\n",
      "FREQUENCY\n",
      "\n",
      "Number of outliers: 5\n",
      "Upper: 5\n",
      "Lower: 0\n",
      "------------------------------\n",
      "------------------------------\n",
      "MONETARY\n",
      "\n",
      "Number of outliers: 4\n",
      "Upper: 4\n",
      "Lower: 0\n",
      "------------------------------\n"
     ]
    }
   ],
   "source": [
    "# number of outliers\n",
    "for rfm_col in rfm_cols:\n",
    "    # calculate iqr\n",
    "    col = rfm_df[rfm_col]\n",
    "    q1, q3 = col.quantile([.25, .75])\n",
    "    iqr = q3 - q1\n",
    "\n",
    "    # find outliers\n",
    "    lower, upper = q1 - 1.5*iqr, q3 + 1.5*iqr\n",
    "    l_outliers = (col < lower).sum()\n",
    "    u_outliers = (col > upper).sum()\n",
    "\n",
    "    # display\n",
    "    print('-'*30)\n",
    "    print(rfm_col.upper())\n",
    "    print(f'\\nNumber of outliers: {l_outliers + u_outliers}')\n",
    "    print(f'Upper: {u_outliers}')\n",
    "    print(f'Lower: {l_outliers}')\n",
    "    print('-'*30)"
   ]
  },
  {
   "cell_type": "markdown",
   "metadata": {},
   "source": [
    "### Distribution"
   ]
  },
  {
   "cell_type": "code",
   "execution_count": 12,
   "metadata": {},
   "outputs": [
    {
     "data": {
      "text/html": [
       "<div>\n",
       "<style scoped>\n",
       "    .dataframe tbody tr th:only-of-type {\n",
       "        vertical-align: middle;\n",
       "    }\n",
       "\n",
       "    .dataframe tbody tr th {\n",
       "        vertical-align: top;\n",
       "    }\n",
       "\n",
       "    .dataframe thead th {\n",
       "        text-align: right;\n",
       "    }\n",
       "</style>\n",
       "<table border=\"1\" class=\"dataframe\">\n",
       "  <thead>\n",
       "    <tr style=\"text-align: right;\">\n",
       "      <th></th>\n",
       "      <th>recency</th>\n",
       "      <th>frequency</th>\n",
       "      <th>monetary</th>\n",
       "    </tr>\n",
       "  </thead>\n",
       "  <tbody>\n",
       "    <tr>\n",
       "      <th>0.25</th>\n",
       "      <td>101.75</td>\n",
       "      <td>2.00</td>\n",
       "      <td>66129.0075</td>\n",
       "    </tr>\n",
       "    <tr>\n",
       "      <th>0.50</th>\n",
       "      <td>181.00</td>\n",
       "      <td>3.00</td>\n",
       "      <td>85360.0000</td>\n",
       "    </tr>\n",
       "    <tr>\n",
       "      <th>0.75</th>\n",
       "      <td>243.25</td>\n",
       "      <td>3.00</td>\n",
       "      <td>115616.8825</td>\n",
       "    </tr>\n",
       "    <tr>\n",
       "      <th>0.90</th>\n",
       "      <td>385.20</td>\n",
       "      <td>4.00</td>\n",
       "      <td>142846.9580</td>\n",
       "    </tr>\n",
       "    <tr>\n",
       "      <th>0.95</th>\n",
       "      <td>448.25</td>\n",
       "      <td>4.45</td>\n",
       "      <td>164639.6515</td>\n",
       "    </tr>\n",
       "    <tr>\n",
       "      <th>0.99</th>\n",
       "      <td>482.17</td>\n",
       "      <td>16.63</td>\n",
       "      <td>660892.1819</td>\n",
       "    </tr>\n",
       "  </tbody>\n",
       "</table>\n",
       "</div>"
      ],
      "text/plain": [
       "      recency  frequency     monetary\n",
       "0.25   101.75       2.00   66129.0075\n",
       "0.50   181.00       3.00   85360.0000\n",
       "0.75   243.25       3.00  115616.8825\n",
       "0.90   385.20       4.00  142846.9580\n",
       "0.95   448.25       4.45  164639.6515\n",
       "0.99   482.17      16.63  660892.1819"
      ]
     },
     "metadata": {},
     "output_type": "display_data"
    },
    {
     "name": "stdout",
     "output_type": "stream",
     "text": [
      "RECENCY\n",
      "top 1: 482.1700000000001\n",
      "top 5: 448.25\n",
      "99th percentile is 1.08 times greater than 95th percentile\n",
      "------------------------------\n",
      "FREQUENCY\n",
      "top 1: 16.630000000000024\n",
      "top 5: 4.450000000000003\n",
      "99th percentile is 3.74 times greater than 95th percentile\n",
      "------------------------------\n",
      "MONETARY\n",
      "top 1: 660892.1819000005\n",
      "top 5: 164639.65150000007\n",
      "99th percentile is 4.01 times greater than 95th percentile\n",
      "------------------------------\n"
     ]
    }
   ],
   "source": [
    "# compare percentiles (mainly 95% and 99%)\n",
    "percentiles = rfm_df.quantile([.25,.5,.75,.9,.95,.99])\n",
    "display(percentiles)\n",
    "\n",
    "for col in rfm_cols:\n",
    "\n",
    "    # calculate top 1% and top 5%\n",
    "    top_1 = percentiles.loc[0.99, col]\n",
    "    top_5 = percentiles.loc[0.95, col]\n",
    "\n",
    "    # display\n",
    "    print(col.upper())\n",
    "    print(f'top 1: {top_1}')\n",
    "    print(f'top 5: {top_5}')\n",
    "    print(f'99th percentile is {round(top_1/top_5,2)} times greater than 95th percentile')\n",
    "    print('-'*30)"
   ]
  },
  {
   "cell_type": "code",
   "execution_count": 13,
   "metadata": {},
   "outputs": [
    {
     "data": {
      "image/png": "[encoded data removed]",
      "text/plain": [
       "<Figure size 1400x600 with 4 Axes>"
      ]
     },
     "metadata": {},
     "output_type": "display_data"
    }
   ],
   "source": [
    "# histograms\n",
    "rfm_df[rfm_cols].hist(bins=20, figsize=(14,6))\n",
    "plt.show()"
   ]
  },
  {
   "cell_type": "code",
   "execution_count": 14,
   "metadata": {},
   "outputs": [
    {
     "name": "stdout",
     "output_type": "stream",
     "text": [
      "RECENCY\n",
      "Skewness: 0.7692197491282079\n",
      "\n",
      "Mean: 189.05434782608697\n",
      "Median: 181.0\n",
      "------------------------------\n",
      "FREQUENCY\n",
      "Skewness: 6.138049494790223\n",
      "\n",
      "Mean: 3.152173913043478\n",
      "Median: 3.0\n",
      "------------------------------\n",
      "MONETARY\n",
      "Skewness: 5.392615515812862\n",
      "\n",
      "Mean: 102632.8191304348\n",
      "Median: 85360.0\n",
      "------------------------------\n"
     ]
    }
   ],
   "source": [
    "# find skewness and compare mean with median (mean > median --> right skew)\n",
    "for col in rfm_cols:\n",
    "    print(col.upper())\n",
    "    print(f'Skewness: {rfm_df[col].skew()}')\n",
    "    print(f'\\nMean: {rfm_df[col].mean()}')\n",
    "    print(f'Median: {rfm_df[col].median()}')\n",
    "    print('-'*30)"
   ]
  },
  {
   "cell_type": "markdown",
   "metadata": {},
   "source": [
    "## Check correlation"
   ]
  },
  {
   "cell_type": "markdown",
   "metadata": {},
   "source": [
    "**Analysis:** \n",
    "- <ins>Frequency & Monetary</ins> (r = 0.95) --> strong relationship where more frequent buyers spend more & vise versa\n",
    "- <ins>Frequency & Recency</ins> (r = -0.35) --> mild relationship where more frequent a buyer, the more recent their last purchase & vise versa\n",
    "- <ins>Monetary and Recency</ins> (r = -0.31) --> mild relationship where higher spending customers have purchased more recently and vise versa\n",
    "\n",
    "Overall:\n",
    "- There is multicollinearity--> recency gives independent information while frequency and monetary have high multicollinearity"
   ]
  },
  {
   "cell_type": "code",
   "execution_count": 15,
   "metadata": {},
   "outputs": [
    {
     "data": {
      "text/html": [
       "<div>\n",
       "<style scoped>\n",
       "    .dataframe tbody tr th:only-of-type {\n",
       "        vertical-align: middle;\n",
       "    }\n",
       "\n",
       "    .dataframe tbody tr th {\n",
       "        vertical-align: top;\n",
       "    }\n",
       "\n",
       "    .dataframe thead th {\n",
       "        text-align: right;\n",
       "    }\n",
       "</style>\n",
       "<table border=\"1\" class=\"dataframe\">\n",
       "  <thead>\n",
       "    <tr style=\"text-align: right;\">\n",
       "      <th></th>\n",
       "      <th>recency</th>\n",
       "      <th>frequency</th>\n",
       "      <th>monetary</th>\n",
       "    </tr>\n",
       "  </thead>\n",
       "  <tbody>\n",
       "    <tr>\n",
       "      <th>recency</th>\n",
       "      <td>1.000000</td>\n",
       "      <td>-0.347882</td>\n",
       "      <td>-0.309187</td>\n",
       "    </tr>\n",
       "    <tr>\n",
       "      <th>frequency</th>\n",
       "      <td>-0.347882</td>\n",
       "      <td>1.000000</td>\n",
       "      <td>0.953394</td>\n",
       "    </tr>\n",
       "    <tr>\n",
       "      <th>monetary</th>\n",
       "      <td>-0.309187</td>\n",
       "      <td>0.953394</td>\n",
       "      <td>1.000000</td>\n",
       "    </tr>\n",
       "  </tbody>\n",
       "</table>\n",
       "</div>"
      ],
      "text/plain": [
       "            recency  frequency  monetary\n",
       "recency    1.000000  -0.347882 -0.309187\n",
       "frequency -0.347882   1.000000  0.953394\n",
       "monetary  -0.309187   0.953394  1.000000"
      ]
     },
     "execution_count": 15,
     "metadata": {},
     "output_type": "execute_result"
    }
   ],
   "source": [
    "# check correlation matrix\n",
    "rfm_df.corr()"
   ]
  },
  {
   "cell_type": "markdown",
   "metadata": {},
   "source": [
    "## Transforming & Scaling"
   ]
  },
  {
   "cell_type": "markdown",
   "metadata": {},
   "source": [
    "### Transforming frequency & monetary"
   ]
  },
  {
   "cell_type": "code",
   "execution_count": 16,
   "metadata": {},
   "outputs": [],
   "source": [
    "# function: get quick distribution view\n",
    "def check_distribution(col, b_vs_a='before'):\n",
    "    # before or after display\n",
    "    if b_vs_a.upper() == 'BEFORE':\n",
    "        print('before transformation...')\n",
    "    else:\n",
    "        print('after transformation...')\n",
    "    \n",
    "    # check skewness\n",
    "    print(f'\\nSkewness: {col.skew()}')\n",
    "\n",
    "    # display histogram\n",
    "    col.hist(bins=20)\n",
    "    plt.show()"
   ]
  },
  {
   "cell_type": "code",
   "execution_count": 17,
   "metadata": {},
   "outputs": [
    {
     "name": "stdout",
     "output_type": "stream",
     "text": [
      "------------------------------FREQUENCY------------------------------\n",
      "before transformation...\n",
      "\n",
      "Skewness: 6.138049494790223\n"
     ]
    },
    {
     "data": {
      "image/png": "[encoded data removed]",
      "text/plain": [
       "<Figure size 640x480 with 1 Axes>"
      ]
     },
     "metadata": {},
     "output_type": "display_data"
    },
    {
     "name": "stdout",
     "output_type": "stream",
     "text": [
      "after transformation...\n",
      "\n",
      "Skewness: -0.2567243779940801\n"
     ]
    },
    {
     "data": {
      "image/png": "[encoded data removed]",
      "text/plain": [
       "<Figure size 640x480 with 1 Axes>"
      ]
     },
     "metadata": {},
     "output_type": "display_data"
    },
    {
     "name": "stdout",
     "output_type": "stream",
     "text": [
      "------------------------------MONETARY------------------------------\n",
      "before transformation...\n",
      "\n",
      "Skewness: 5.392615515812862\n"
     ]
    },
    {
     "data": {
      "image/png": "[encoded data removed]",
      "text/plain": [
       "<Figure size 640x480 with 1 Axes>"
      ]
     },
     "metadata": {},
     "output_type": "display_data"
    },
    {
     "name": "stdout",
     "output_type": "stream",
     "text": [
      "after transformation...\n",
      "\n",
      "Skewness: 0.18604987274083093\n"
     ]
    },
    {
     "data": {
      "image/png": "[encoded data removed]",
      "text/plain": [
       "<Figure size 640x480 with 1 Axes>"
      ]
     },
     "metadata": {},
     "output_type": "display_data"
    }
   ],
   "source": [
    "# set up new df\n",
    "transformed_rfm_df = rfm_df.copy()\n",
    "\n",
    "# transform columns accordingly\n",
    "transformed_rfm_df['monetary'] = np.log1p(transformed_rfm_df['monetary'])\n",
    "pt_frequency = PowerTransformer(method='box-cox', standardize=False)\n",
    "transformed_rfm_df['frequency'] = pt_frequency.fit_transform(transformed_rfm_df[['frequency']])\n",
    "\n",
    "# check og distributions vs new\n",
    "for col_name in ['frequency', 'monetary']:\n",
    "    print('-'*30 + col_name.upper() + '-'*30)\n",
    "    check_distribution(rfm_df[col_name], b_vs_a='before')\n",
    "    check_distribution(transformed_rfm_df[col_name], b_vs_a='after')"
   ]
  },
  {
   "cell_type": "markdown",
   "metadata": {},
   "source": [
    "### Scale Data"
   ]
  },
  {
   "cell_type": "markdown",
   "metadata": {},
   "source": [
    "Using RobustScaler, because it has low outlier sensitivity (ignores tails beyond IQR)"
   ]
  },
  {
   "cell_type": "code",
   "execution_count": 18,
   "metadata": {},
   "outputs": [
    {
     "data": {
      "image/png": "[encoded data removed]",
      "text/plain": [
       "<Figure size 1400x600 with 3 Axes>"
      ]
     },
     "metadata": {},
     "output_type": "display_data"
    }
   ],
   "source": [
    "# quick outliers check\n",
    "transformed_rfm_df.plot(kind='box', subplots=True, figsize=(14,6))\n",
    "plt.show()"
   ]
  },
  {
   "cell_type": "code",
   "execution_count": 19,
   "metadata": {},
   "outputs": [],
   "source": [
    "# normalize data\n",
    "scaler = RobustScaler()\n",
    "scaled_rfm = scaler.fit_transform(transformed_rfm_df)"
   ]
  },
  {
   "cell_type": "code",
   "execution_count": 20,
   "metadata": {},
   "outputs": [
    {
     "data": {
      "text/html": [
       "<div>\n",
       "<style scoped>\n",
       "    .dataframe tbody tr th:only-of-type {\n",
       "        vertical-align: middle;\n",
       "    }\n",
       "\n",
       "    .dataframe tbody tr th {\n",
       "        vertical-align: top;\n",
       "    }\n",
       "\n",
       "    .dataframe thead th {\n",
       "        text-align: right;\n",
       "    }\n",
       "</style>\n",
       "<table border=\"1\" class=\"dataframe\">\n",
       "  <thead>\n",
       "    <tr style=\"text-align: right;\">\n",
       "      <th></th>\n",
       "      <th>recency</th>\n",
       "      <th>frequency</th>\n",
       "      <th>monetary</th>\n",
       "    </tr>\n",
       "    <tr>\n",
       "      <th>customer_id</th>\n",
       "      <th></th>\n",
       "      <th></th>\n",
       "      <th></th>\n",
       "    </tr>\n",
       "  </thead>\n",
       "  <tbody>\n",
       "    <tr>\n",
       "      <th>1</th>\n",
       "      <td>0.014134</td>\n",
       "      <td>0.000000</td>\n",
       "      <td>0.590302</td>\n",
       "    </tr>\n",
       "    <tr>\n",
       "      <th>2</th>\n",
       "      <td>0.226148</td>\n",
       "      <td>-1.000000</td>\n",
       "      <td>0.288787</td>\n",
       "    </tr>\n",
       "    <tr>\n",
       "      <th>3</th>\n",
       "      <td>0.049470</td>\n",
       "      <td>0.548011</td>\n",
       "      <td>0.595074</td>\n",
       "    </tr>\n",
       "    <tr>\n",
       "      <th>4</th>\n",
       "      <td>1.837456</td>\n",
       "      <td>0.000000</td>\n",
       "      <td>0.921884</td>\n",
       "    </tr>\n",
       "    <tr>\n",
       "      <th>5</th>\n",
       "      <td>-0.346290</td>\n",
       "      <td>0.548011</td>\n",
       "      <td>0.621261</td>\n",
       "    </tr>\n",
       "  </tbody>\n",
       "</table>\n",
       "</div>"
      ],
      "text/plain": [
       "              recency  frequency  monetary\n",
       "customer_id                               \n",
       "1            0.014134   0.000000  0.590302\n",
       "2            0.226148  -1.000000  0.288787\n",
       "3            0.049470   0.548011  0.595074\n",
       "4            1.837456   0.000000  0.921884\n",
       "5           -0.346290   0.548011  0.621261"
      ]
     },
     "execution_count": 20,
     "metadata": {},
     "output_type": "execute_result"
    }
   ],
   "source": [
    "# convert to df\n",
    "scaled_rfm_df = pd.DataFrame(\n",
    "    scaled_rfm,\n",
    "    columns=rfm_cols,\n",
    "    index=rfm_df.index\n",
    ")\n",
    "\n",
    "scaled_rfm_df.head()"
   ]
  },
  {
   "cell_type": "markdown",
   "metadata": {},
   "source": [
    "# Modeling\n",
    "---"
   ]
  },
  {
   "cell_type": "markdown",
   "metadata": {},
   "source": [
    "## Functions"
   ]
  },
  {
   "cell_type": "code",
   "execution_count": 106,
   "metadata": {},
   "outputs": [],
   "source": [
    "# function: k means model\n",
    "def get_k_model(\n",
    "    k: int, \n",
    "    df: pd.DataFrame\n",
    "):\n",
    "    # fit k means model\n",
    "    k_model = KMeans(n_clusters=k, init='k-means++', n_init=50, random_state=42)\n",
    "    k_model.fit(df)\n",
    "\n",
    "    # return\n",
    "    return k_model"
   ]
  },
  {
   "cell_type": "code",
   "execution_count": 107,
   "metadata": {},
   "outputs": [],
   "source": [
    "# function: elbow plot\n",
    "def get_elbow_plot(main_df):\n",
    "    # get copy of df\n",
    "    df = main_df.copy()\n",
    "\n",
    "    # get inertias for k vals\n",
    "    inertias = []\n",
    "    k_vals = list(range(1, 11))\n",
    "\n",
    "    for k in k_vals:\n",
    "        # fit k means model\n",
    "        # k_model = KMeans(n_clusters=k, n_init=50, random_state=0)\n",
    "        # k_model.fit(df)\n",
    "        k_model = get_k_model(k, df)\n",
    "\n",
    "        # save inertia\n",
    "        inertias.append(k_model.inertia_)\n",
    "\n",
    "    # save to df\n",
    "    elbow_df = pd.DataFrame({\n",
    "        'k': k_vals, \n",
    "        'inertia': inertias\n",
    "    })\n",
    "\n",
    "    # plot\n",
    "    elbow_plot = elbow_df.hvplot.line(\n",
    "        x='k',\n",
    "        y='inertia',\n",
    "        xticks=k\n",
    "    )\n",
    "    \n",
    "    # return \n",
    "    return elbow_plot"
   ]
  },
  {
   "cell_type": "code",
   "execution_count": 108,
   "metadata": {},
   "outputs": [],
   "source": [
    "# function: get best k value based on metric to do clusters and return segment labels and plot\n",
    "def get_k_means_segments(\n",
    "        scaled_data: pd.DataFrame,\n",
    "        og_data: pd.DataFrame,\n",
    "        k_values: List[int], \n",
    "        metric: Literal['silhouette', 'ch_score'] = 'silhouette', \n",
    "        x_val: str | None = None, \n",
    "        y_val: str | None = None\n",
    ") -> Tuple[pd.DataFrame, 'hvplot.core.chart.Chart']:\n",
    "    \n",
    "    '''\n",
    "    choose the best k by metric (silhouette or calinksi-harabasz), run k means, get segment labels, and return\n",
    "        - dataframe with segment labels\n",
    "        - scatter plot color coded by segment labels\n",
    "    \n",
    "    Parameters\n",
    "    ----------\n",
    "    scaled_data: scaled/transformed dataframe\n",
    "    og_data: dataframe to attach predictions to and use for plotting (transformed or og data)\n",
    "    k_values: list of potential number of segments\n",
    "    metric: use silhouette or calinksi-harabasz score to get best number of segments\n",
    "    x_val, y_val: optional features to plot in scatter plot (default select first two features in dataframe)\n",
    "    '''\n",
    "    # get copy of df\n",
    "    df = scaled_data.copy()\n",
    "    og_df = og_data.copy()\n",
    "\n",
    "    # check df if it has minimum 2 cols and get axis for plot\n",
    "    if x_val is None or y_val is None:\n",
    "        if df.shape[1] < 2:\n",
    "            raise ValueError(f'⚠ VALUE ERROR: DataFrame, {df}, must have at least 2 columns')\n",
    "        cols = list(df.columns)\n",
    "        x_val = x_val or cols[0]\n",
    "        y_val = y_val or cols[1]\n",
    "\n",
    "    \n",
    "    # score all k values\n",
    "    k_scores = []\n",
    "\n",
    "    for k in k_values:\n",
    "        # get scores\n",
    "        k_model = get_k_model(k, df)\n",
    "        labels = k_model.labels_\n",
    "\n",
    "        # score based on metric selected\n",
    "        if metric.lower() == 'silhouette':\n",
    "            score = metrics.silhouette_score(df, labels)\n",
    "        elif metric.lower() == 'ch_score':\n",
    "            score = metrics.calinski_harabasz_score(df, labels)\n",
    "        else:\n",
    "            raise ValueError(f'⚠ VALUE ERROR: metric entered is \"{metric}\" when metric needs to be either: \\n\\tsilhouette \\n\\tch_score')\n",
    "            \n",
    "        k_scores.append({\n",
    "            'k': k,\n",
    "            'score': score\n",
    "        })\n",
    "        \n",
    "    # display best score\n",
    "    print(k_scores)\n",
    "    top_k_score = max(k_scores, key=lambda item: item.get('score'))\n",
    "    best_k, best_score = top_k_score['k'], top_k_score['score']\n",
    "    print(f'Best k value = {best_k} ({metric} score = {best_score:.3f})')\n",
    "\n",
    "    # get segments based on best k value\n",
    "    # k_model = KMeans(n_clusters=best_k, n_init=50, random_state=0)\n",
    "    # predictions = k_model.fit_predict(df)\n",
    "    k_model = get_k_model(best_k, df)\n",
    "    predictions = k_model.labels_\n",
    "    #df['predictions'] = predictions\n",
    "\n",
    "    # add labels to original dataframe\n",
    "    labeled_og_df = og_df.assign(segment=predictions)\n",
    "\n",
    "    # get scatter plot\n",
    "    scatter_plot = labeled_og_df.hvplot.scatter(\n",
    "        x=x_val,\n",
    "        y=y_val,\n",
    "        by='segment',\n",
    "        hover_cols='all'\n",
    "    )\n",
    "    display(scatter_plot)\n",
    "\n",
    "    # return df\n",
    "    return labeled_og_df, scatter_plot"
   ]
  },
  {
   "cell_type": "markdown",
   "metadata": {},
   "source": [
    "## With full scaled data"
   ]
  },
  {
   "cell_type": "code",
   "execution_count": 109,
   "metadata": {},
   "outputs": [
    {
     "data": {},
     "metadata": {},
     "output_type": "display_data"
    },
    {
     "data": {
      "application/vnd.holoviews_exec.v0+json": "",
      "text/html": [
       "<div id='87a28049-1d75-4038-9520-6ea35df135a8'>\n",
       "  <div id=\"dd12f476-1f22-4300-a834-f81702e0a7d4\" data-root-id=\"87a28049-1d75-4038-9520-6ea35df135a8\" style=\"display: contents;\"></div>\n",
       "</div>\n",
       "<script type=\"application/javascript\">(function(root) {\n",
       "  var docs_json = {\"8e518dbd-5b34-4443-8eb3-2f53a966e012\":{\"version\":\"3.5.2\",\"title\":\"Bokeh Application\",\"roots\":[{\"type\":\"object\",\"name\":\"Row\",\"id\":\"87a28049-1d75-4038-9520-6ea35df135a8\",\"attributes\":{\"name\":\"Row10056\",\"tags\":[\"embedded\"],\"stylesheets\":[\"\\n:host(.pn-loading):before, .pn-loading:before {\\n  background-color: #c3c3c3;\\n  mask-size: auto calc(min(50%, 400px));\\n  -webkit-mask-size: auto calc(min(50%, 400px));\\n}\",{\"type\":\"object\",\"name\":\"ImportedStyleSheet\",\"id\":\"5a6f2253-17c3-4479-88e8-7f2c2508e8d5\",\"attributes\":{\"url\":\"https://cdn.holoviz.org/panel/1.5.3/dist/css/loading.css\"}},{\"type\":\"object\",\"name\":\"ImportedStyleSheet\",\"id\":\"c859b8ab-c3e0-4645-aa67-ee9f524a0d4e\",\"attributes\":{\"url\":\"https://cdn.holoviz.org/panel/1.5.3/dist/css/listpanel.css\"}},{\"type\":\"object\",\"name\":\"ImportedStyleSheet\",\"id\":\"90ec4ac9-1fe0-4f2f-a968-c089200b428a\",\"attributes\":{\"url\":\"https://cdn.holoviz.org/panel/1.5.3/dist/bundled/theme/default.css\"}},{\"type\":\"object\",\"name\":\"ImportedStyleSheet\",\"id\":\"8a5ce69f-6aff-488e-ae4d-5a8d510859be\",\"attributes\":{\"url\":\"https://cdn.holoviz.org/panel/1.5.3/dist/bundled/theme/native.css\"}}],\"min_width\":700,\"margin\":0,\"sizing_mode\":\"stretch_width\",\"align\":\"start\",\"children\":[{\"type\":\"object\",\"name\":\"Spacer\",\"id\":\"99055146-d0de-41e5-871c-48ad16a5bc04\",\"attributes\":{\"name\":\"HSpacer10060\",\"stylesheets\":[\"\\n:host(.pn-loading):before, .pn-loading:before {\\n  background-color: #c3c3c3;\\n  mask-size: auto calc(min(50%, 400px));\\n  -webkit-mask-size: auto calc(min(50%, 400px));\\n}\",{\"id\":\"5a6f2253-17c3-4479-88e8-7f2c2508e8d5\"},{\"id\":\"90ec4ac9-1fe0-4f2f-a968-c089200b428a\"},{\"id\":\"8a5ce69f-6aff-488e-ae4d-5a8d510859be\"}],\"margin\":0,\"sizing_mode\":\"stretch_width\",\"align\":\"start\"}},{\"type\":\"object\",\"name\":\"Figure\",\"id\":\"c85dce01-b109-4f9d-9fb9-097570345bcb\",\"attributes\":{\"width\":700,\"height\":300,\"margin\":[5,10],\"sizing_mode\":\"fixed\",\"align\":\"start\",\"x_range\":{\"type\":\"object\",\"name\":\"Range1d\",\"id\":\"3b2ee54e-0f14-4e8a-bee4-e5a3553e73a9\",\"attributes\":{\"name\":\"k\",\"tags\":[[[\"k\",null]],[]],\"start\":1.0,\"end\":10.0,\"reset_start\":1.0,\"reset_end\":10.0}},\"y_range\":{\"type\":\"object\",\"name\":\"Range1d\",\"id\":\"aaec8778-2586-48ae-b2d5-6f454186447a\",\"attributes\":{\"name\":\"inertia\",\"tags\":[[[\"inertia\",null]],{\"type\":\"map\",\"entries\":[[\"invert_yaxis\",false],[\"autorange\",false]]}],\"start\":5.060071165869886,\"end\":247.3025996420727,\"reset_start\":5.060071165869886,\"reset_end\":247.3025996420727}},\"x_scale\":{\"type\":\"object\",\"name\":\"LinearScale\",\"id\":\"14176e51-e120-49c8-be66-a32b8ea296d8\"},\"y_scale\":{\"type\":\"object\",\"name\":\"LinearScale\",\"id\":\"21c9e615-87fe-4310-ad42-e015b5071b1c\"},\"title\":{\"type\":\"object\",\"name\":\"Title\",\"id\":\"570c286a-8e4c-4b12-a26f-61b7662233a3\",\"attributes\":{\"text_color\":\"black\",\"text_font_size\":\"12pt\"}},\"renderers\":[{\"type\":\"object\",\"name\":\"GlyphRenderer\",\"id\":\"4fa6723b-6dc8-402a-a99d-62244b262e67\",\"attributes\":{\"data_source\":{\"type\":\"object\",\"name\":\"ColumnDataSource\",\"id\":\"f2e66781-aeda-4161-8765-8296bafce76c\",\"attributes\":{\"selected\":{\"type\":\"object\",\"name\":\"Selection\",\"id\":\"08c98a42-0942-40eb-90ce-6996c47d9444\",\"attributes\":{\"indices\":[],\"line_indices\":[]}},\"selection_policy\":{\"type\":\"object\",\"name\":\"UnionRenderers\",\"id\":\"45080ca2-2d74-4b98-a673-968769c59434\"},\"data\":{\"type\":\"map\",\"entries\":[[\"k\",{\"type\":\"ndarray\",\"array\":{\"type\":\"bytes\",\"data\":\"AQAAAAIAAAADAAAABAAAAAUAAAAGAAAABwAAAAgAAAAJAAAACgAAAA==\"},\"shape\":[10],\"dtype\":\"int32\",\"order\":\"little\"}],[\"inertia\",{\"type\":\"ndarray\",\"array\":{\"type\":\"bytes\",\"data\":\"byAw/7NjbEAbjzx6DY5gQIw6X3d7GVlAs+lRxVJSU0AFcnLImaVOQPm/KO+tA0lAz1s3qobnREBNxBb9VW1BQC94Txdeyj1AUVD6BDg/OUA=\"},\"shape\":[10],\"dtype\":\"float64\",\"order\":\"little\"}]]}}},\"view\":{\"type\":\"object\",\"name\":\"CDSView\",\"id\":\"ee32143b-2198-41a2-93c3-5287b8be117a\",\"attributes\":{\"filter\":{\"type\":\"object\",\"name\":\"AllIndices\",\"id\":\"163641df-15fb-49d9-84df-0b579cbc77eb\"}}},\"glyph\":{\"type\":\"object\",\"name\":\"Line\",\"id\":\"8d7d0bfa-3378-499a-b3a8-5495bc942d66\",\"attributes\":{\"tags\":[\"apply_ranges\"],\"x\":{\"type\":\"field\",\"field\":\"k\"},\"y\":{\"type\":\"field\",\"field\":\"inertia\"},\"line_color\":\"#30a2da\",\"line_width\":2}},\"selection_glyph\":{\"type\":\"object\",\"name\":\"Line\",\"id\":\"473c6301-ec55-4d7a-919e-da3e66ac484e\",\"attributes\":{\"tags\":[\"apply_ranges\"],\"x\":{\"type\":\"field\",\"field\":\"k\"},\"y\":{\"type\":\"field\",\"field\":\"inertia\"},\"line_color\":\"#30a2da\",\"line_width\":2}},\"nonselection_glyph\":{\"type\":\"object\",\"name\":\"Line\",\"id\":\"bd9747b2-df21-413a-8c45-035b32167a2f\",\"attributes\":{\"tags\":[\"apply_ranges\"],\"x\":{\"type\":\"field\",\"field\":\"k\"},\"y\":{\"type\":\"field\",\"field\":\"inertia\"},\"line_color\":\"#30a2da\",\"line_alpha\":0.1,\"line_width\":2}},\"muted_glyph\":{\"type\":\"object\",\"name\":\"Line\",\"id\":\"65965548-3d46-4f4a-9690-7bd6a3288e29\",\"attributes\":{\"tags\":[\"apply_ranges\"],\"x\":{\"type\":\"field\",\"field\":\"k\"},\"y\":{\"type\":\"field\",\"field\":\"inertia\"},\"line_color\":\"#30a2da\",\"line_alpha\":0.2,\"line_width\":2}}}}],\"toolbar\":{\"type\":\"object\",\"name\":\"Toolbar\",\"id\":\"b1248f04-6f83-452f-98b8-c871ac6a260d\",\"attributes\":{\"tools\":[{\"type\":\"object\",\"name\":\"WheelZoomTool\",\"id\":\"aa7025bf-1322-40dc-8eb4-d7ffd9798d94\",\"attributes\":{\"tags\":[\"hv_created\"],\"renderers\":\"auto\",\"zoom_together\":\"none\"}},{\"type\":\"object\",\"name\":\"HoverTool\",\"id\":\"ffbf1992-2de2-470f-8415-8540ade366b5\",\"attributes\":{\"tags\":[\"hv_created\"],\"renderers\":[{\"id\":\"4fa6723b-6dc8-402a-a99d-62244b262e67\"}],\"tooltips\":[[\"k\",\"@{k}\"],[\"inertia\",\"@{inertia}\"]]}},{\"type\":\"object\",\"name\":\"SaveTool\",\"id\":\"e42848d9-1568-48f5-bea0-d385114f0f51\"},{\"type\":\"object\",\"name\":\"PanTool\",\"id\":\"4c646775-90fa-4258-aaaf-689d716f9425\"},{\"type\":\"object\",\"name\":\"BoxZoomTool\",\"id\":\"ae916e6e-8437-48b0-9a27-e07833d4cac2\",\"attributes\":{\"overlay\":{\"type\":\"object\",\"name\":\"BoxAnnotation\",\"id\":\"b92ed04e-344b-4fc8-9022-0e1ef82c433d\",\"attributes\":{\"syncable\":false,\"line_color\":\"black\",\"line_alpha\":1.0,\"line_width\":2,\"line_dash\":[4,4],\"fill_color\":\"lightgrey\",\"fill_alpha\":0.5,\"level\":\"overlay\",\"visible\":false,\"left\":{\"type\":\"number\",\"value\":\"nan\"},\"right\":{\"type\":\"number\",\"value\":\"nan\"},\"top\":{\"type\":\"number\",\"value\":\"nan\"},\"bottom\":{\"type\":\"number\",\"value\":\"nan\"},\"left_units\":\"canvas\",\"right_units\":\"canvas\",\"top_units\":\"canvas\",\"bottom_units\":\"canvas\",\"handles\":{\"type\":\"object\",\"name\":\"BoxInteractionHandles\",\"id\":\"3f5beb2c-2289-4246-9f80-b7b927353080\",\"attributes\":{\"all\":{\"type\":\"object\",\"name\":\"AreaVisuals\",\"id\":\"16bab752-f860-4e9d-8a85-9aee2dfc7b4d\",\"attributes\":{\"fill_color\":\"white\",\"hover_fill_color\":\"lightgray\"}}}}}}}},{\"type\":\"object\",\"name\":\"ResetTool\",\"id\":\"d37d3e2a-47ef-40b1-8b60-a58c3a8b64cc\"}],\"active_drag\":{\"id\":\"4c646775-90fa-4258-aaaf-689d716f9425\"},\"active_scroll\":{\"id\":\"aa7025bf-1322-40dc-8eb4-d7ffd9798d94\"}}},\"left\":[{\"type\":\"object\",\"name\":\"LinearAxis\",\"id\":\"12f25690-3987-46b0-8048-81f671787716\",\"attributes\":{\"ticker\":{\"type\":\"object\",\"name\":\"BasicTicker\",\"id\":\"1775f9c5-437d-42ff-bf04-31f45b2dd35a\",\"attributes\":{\"mantissas\":[1,2,5]}},\"formatter\":{\"type\":\"object\",\"name\":\"BasicTickFormatter\",\"id\":\"3fe57c76-44b9-40f3-8a8e-508fcd907caf\"},\"axis_label\":\"inertia\",\"major_label_policy\":{\"type\":\"object\",\"name\":\"AllLabels\",\"id\":\"5fb756b5-814c-44e4-a81f-605bf41e4836\"}}}],\"below\":[{\"type\":\"object\",\"name\":\"LinearAxis\",\"id\":\"7b75e17d-0f67-4214-8fcf-5c63b19cfe85\",\"attributes\":{\"ticker\":{\"type\":\"object\",\"name\":\"BasicTicker\",\"id\":\"31561f77-0e3a-41fd-acbf-384636efd57f\",\"attributes\":{\"desired_num_ticks\":10,\"mantissas\":[1,2,5]}},\"formatter\":{\"type\":\"object\",\"name\":\"BasicTickFormatter\",\"id\":\"5e3a7ebb-faec-44c5-b43b-0addc4789fb3\"},\"axis_label\":\"k\",\"major_label_policy\":{\"type\":\"object\",\"name\":\"AllLabels\",\"id\":\"545e35fc-4a74-4006-9e26-a1f0f5bef802\"}}}],\"center\":[{\"type\":\"object\",\"name\":\"Grid\",\"id\":\"ddb7cd34-3ef4-4bb4-99c1-8284562e677e\",\"attributes\":{\"axis\":{\"id\":\"7b75e17d-0f67-4214-8fcf-5c63b19cfe85\"},\"grid_line_color\":null}},{\"type\":\"object\",\"name\":\"Grid\",\"id\":\"1a1144f0-4f6f-422c-bde6-3fee6ea5250d\",\"attributes\":{\"dimension\":1,\"axis\":{\"id\":\"12f25690-3987-46b0-8048-81f671787716\"},\"grid_line_color\":null}}],\"min_border_top\":10,\"min_border_bottom\":10,\"min_border_left\":10,\"min_border_right\":10,\"output_backend\":\"webgl\"}},{\"type\":\"object\",\"name\":\"Spacer\",\"id\":\"2bce4b3b-3416-47a8-8a3f-0af9e5c64c99\",\"attributes\":{\"name\":\"HSpacer10061\",\"stylesheets\":[\"\\n:host(.pn-loading):before, .pn-loading:before {\\n  background-color: #c3c3c3;\\n  mask-size: auto calc(min(50%, 400px));\\n  -webkit-mask-size: auto calc(min(50%, 400px));\\n}\",{\"id\":\"5a6f2253-17c3-4479-88e8-7f2c2508e8d5\"},{\"id\":\"90ec4ac9-1fe0-4f2f-a968-c089200b428a\"},{\"id\":\"8a5ce69f-6aff-488e-ae4d-5a8d510859be\"}],\"margin\":0,\"sizing_mode\":\"stretch_width\",\"align\":\"start\"}}]}}],\"defs\":[{\"type\":\"model\",\"name\":\"ReactiveHTML1\"},{\"type\":\"model\",\"name\":\"FlexBox1\",\"properties\":[{\"name\":\"align_content\",\"kind\":\"Any\",\"default\":\"flex-start\"},{\"name\":\"align_items\",\"kind\":\"Any\",\"default\":\"flex-start\"},{\"name\":\"flex_direction\",\"kind\":\"Any\",\"default\":\"row\"},{\"name\":\"flex_wrap\",\"kind\":\"Any\",\"default\":\"wrap\"},{\"name\":\"gap\",\"kind\":\"Any\",\"default\":\"\"},{\"name\":\"justify_content\",\"kind\":\"Any\",\"default\":\"flex-start\"}]},{\"type\":\"model\",\"name\":\"FloatPanel1\",\"properties\":[{\"name\":\"config\",\"kind\":\"Any\",\"default\":{\"type\":\"map\"}},{\"name\":\"contained\",\"kind\":\"Any\",\"default\":true},{\"name\":\"position\",\"kind\":\"Any\",\"default\":\"right-top\"},{\"name\":\"offsetx\",\"kind\":\"Any\",\"default\":null},{\"name\":\"offsety\",\"kind\":\"Any\",\"default\":null},{\"name\":\"theme\",\"kind\":\"Any\",\"default\":\"primary\"},{\"name\":\"status\",\"kind\":\"Any\",\"default\":\"normalized\"}]},{\"type\":\"model\",\"name\":\"GridStack1\",\"properties\":[{\"name\":\"mode\",\"kind\":\"Any\",\"default\":\"warn\"},{\"name\":\"ncols\",\"kind\":\"Any\",\"default\":null},{\"name\":\"nrows\",\"kind\":\"Any\",\"default\":null},{\"name\":\"allow_resize\",\"kind\":\"Any\",\"default\":true},{\"name\":\"allow_drag\",\"kind\":\"Any\",\"default\":true},{\"name\":\"state\",\"kind\":\"Any\",\"default\":[]}]},{\"type\":\"model\",\"name\":\"drag1\",\"properties\":[{\"name\":\"slider_width\",\"kind\":\"Any\",\"default\":5},{\"name\":\"slider_color\",\"kind\":\"Any\",\"default\":\"black\"},{\"name\":\"value\",\"kind\":\"Any\",\"default\":50}]},{\"type\":\"model\",\"name\":\"click1\",\"properties\":[{\"name\":\"terminal_output\",\"kind\":\"Any\",\"default\":\"\"},{\"name\":\"debug_name\",\"kind\":\"Any\",\"default\":\"\"},{\"name\":\"clears\",\"kind\":\"Any\",\"default\":0}]},{\"type\":\"model\",\"name\":\"FastWrapper1\",\"properties\":[{\"name\":\"object\",\"kind\":\"Any\",\"default\":null},{\"name\":\"style\",\"kind\":\"Any\",\"default\":null}]},{\"type\":\"model\",\"name\":\"NotificationAreaBase1\",\"properties\":[{\"name\":\"js_events\",\"kind\":\"Any\",\"default\":{\"type\":\"map\"}},{\"name\":\"position\",\"kind\":\"Any\",\"default\":\"bottom-right\"},{\"name\":\"_clear\",\"kind\":\"Any\",\"default\":0}]},{\"type\":\"model\",\"name\":\"NotificationArea1\",\"properties\":[{\"name\":\"js_events\",\"kind\":\"Any\",\"default\":{\"type\":\"map\"}},{\"name\":\"notifications\",\"kind\":\"Any\",\"default\":[]},{\"name\":\"position\",\"kind\":\"Any\",\"default\":\"bottom-right\"},{\"name\":\"_clear\",\"kind\":\"Any\",\"default\":0},{\"name\":\"types\",\"kind\":\"Any\",\"default\":[{\"type\":\"map\",\"entries\":[[\"type\",\"warning\"],[\"background\",\"#ffc107\"],[\"icon\",{\"type\":\"map\",\"entries\":[[\"className\",\"fas fa-exclamation-triangle\"],[\"tagName\",\"i\"],[\"color\",\"white\"]]}]]},{\"type\":\"map\",\"entries\":[[\"type\",\"info\"],[\"background\",\"#007bff\"],[\"icon\",{\"type\":\"map\",\"entries\":[[\"className\",\"fas fa-info-circle\"],[\"tagName\",\"i\"],[\"color\",\"white\"]]}]]}]}]},{\"type\":\"model\",\"name\":\"Notification\",\"properties\":[{\"name\":\"background\",\"kind\":\"Any\",\"default\":null},{\"name\":\"duration\",\"kind\":\"Any\",\"default\":3000},{\"name\":\"icon\",\"kind\":\"Any\",\"default\":null},{\"name\":\"message\",\"kind\":\"Any\",\"default\":\"\"},{\"name\":\"notification_type\",\"kind\":\"Any\",\"default\":null},{\"name\":\"_destroyed\",\"kind\":\"Any\",\"default\":false}]},{\"type\":\"model\",\"name\":\"TemplateActions1\",\"properties\":[{\"name\":\"open_modal\",\"kind\":\"Any\",\"default\":0},{\"name\":\"close_modal\",\"kind\":\"Any\",\"default\":0}]},{\"type\":\"model\",\"name\":\"BootstrapTemplateActions1\",\"properties\":[{\"name\":\"open_modal\",\"kind\":\"Any\",\"default\":0},{\"name\":\"close_modal\",\"kind\":\"Any\",\"default\":0}]},{\"type\":\"model\",\"name\":\"TemplateEditor1\",\"properties\":[{\"name\":\"layout\",\"kind\":\"Any\",\"default\":[]}]},{\"type\":\"model\",\"name\":\"MaterialTemplateActions1\",\"properties\":[{\"name\":\"open_modal\",\"kind\":\"Any\",\"default\":0},{\"name\":\"close_modal\",\"kind\":\"Any\",\"default\":0}]},{\"type\":\"model\",\"name\":\"ReactiveESM1\"},{\"type\":\"model\",\"name\":\"JSComponent1\"},{\"type\":\"model\",\"name\":\"ReactComponent1\"},{\"type\":\"model\",\"name\":\"AnyWidgetComponent1\"},{\"type\":\"model\",\"name\":\"request_value1\",\"properties\":[{\"name\":\"fill\",\"kind\":\"Any\",\"default\":\"none\"},{\"name\":\"_synced\",\"kind\":\"Any\",\"default\":null},{\"name\":\"_request_sync\",\"kind\":\"Any\",\"default\":0}]}]}};\n",
       "  var render_items = [{\"docid\":\"8e518dbd-5b34-4443-8eb3-2f53a966e012\",\"roots\":{\"87a28049-1d75-4038-9520-6ea35df135a8\":\"dd12f476-1f22-4300-a834-f81702e0a7d4\"},\"root_ids\":[\"87a28049-1d75-4038-9520-6ea35df135a8\"]}];\n",
       "  var docs = Object.values(docs_json)\n",
       "  if (!docs) {\n",
       "    return\n",
       "  }\n",
       "  const py_version = docs[0].version.replace('rc', '-rc.').replace('.dev', '-dev.')\n",
       "  async function embed_document(root) {\n",
       "    var Bokeh = get_bokeh(root)\n",
       "    await Bokeh.embed.embed_items_notebook(docs_json, render_items);\n",
       "    for (const render_item of render_items) {\n",
       "      for (const root_id of render_item.root_ids) {\n",
       "\tconst id_el = document.getElementById(root_id)\n",
       "\tif (id_el.children.length && id_el.children[0].hasAttribute('data-root-id')) {\n",
       "\t  const root_el = id_el.children[0]\n",
       "\t  root_el.id = root_el.id + '-rendered'\n",
       "\t  for (const child of root_el.children) {\n",
       "            // Ensure JupyterLab does not capture keyboard shortcuts\n",
       "            // see: https://jupyterlab.readthedocs.io/en/4.1.x/extension/notebook.html#keyboard-interaction-model\n",
       "\t    child.setAttribute('data-lm-suppress-shortcuts', 'true')\n",
       "\t  }\n",
       "\t}\n",
       "      }\n",
       "    }\n",
       "  }\n",
       "  function get_bokeh(root) {\n",
       "    if (root.Bokeh === undefined) {\n",
       "      return null\n",
       "    } else if (root.Bokeh.version !== py_version) {\n",
       "      if (root.Bokeh.versions === undefined || !root.Bokeh.versions.has(py_version)) {\n",
       "\treturn null\n",
       "      }\n",
       "      return root.Bokeh.versions.get(py_version);\n",
       "    } else if (root.Bokeh.version === py_version) {\n",
       "      return root.Bokeh\n",
       "    }\n",
       "    return null\n",
       "  }\n",
       "  function is_loaded(root) {\n",
       "    var Bokeh = get_bokeh(root)\n",
       "    return (Bokeh != null && Bokeh.Panel !== undefined)\n",
       "  }\n",
       "  if (is_loaded(root)) {\n",
       "    embed_document(root);\n",
       "  } else {\n",
       "    var attempts = 0;\n",
       "    var timer = setInterval(function(root) {\n",
       "      if (is_loaded(root)) {\n",
       "        clearInterval(timer);\n",
       "        embed_document(root);\n",
       "      } else if (document.readyState == \"complete\") {\n",
       "        attempts++;\n",
       "        if (attempts > 200) {\n",
       "          clearInterval(timer);\n",
       "\t  var Bokeh = get_bokeh(root)\n",
       "\t  if (Bokeh == null || Bokeh.Panel == null) {\n",
       "            console.warn(\"Panel: ERROR: Unable to run Panel code because Bokeh or Panel library is missing\");\n",
       "\t  } else {\n",
       "\t    console.warn(\"Panel: WARNING: Attempting to render but not all required libraries could be resolved.\")\n",
       "\t    embed_document(root)\n",
       "\t  }\n",
       "        }\n",
       "      }\n",
       "    }, 25, root)\n",
       "  }\n",
       "})(window);</script>"
      ],
      "text/plain": [
       ":Curve   [k]   (inertia)"
      ]
     },
     "execution_count": 109,
     "metadata": {
      "application/vnd.holoviews_exec.v0+json": {
       "id": "87a28049-1d75-4038-9520-6ea35df135a8"
      }
     },
     "output_type": "execute_result"
    }
   ],
   "source": [
    "# see it's k = 3 or 4\n",
    "get_elbow_plot(scaled_rfm_df)"
   ]
  },
  {
   "cell_type": "code",
   "execution_count": 110,
   "metadata": {},
   "outputs": [
    {
     "name": "stdout",
     "output_type": "stream",
     "text": [
      "-------------------------------------------------------------------SILHOUETTE SCORE-------------------------------------------------------------------\n",
      "[{'k': 2, 'score': 0.40910663221363913}, {'k': 3, 'score': 0.43389384683890814}, {'k': 4, 'score': 0.44591393776542587}, {'k': 5, 'score': 0.4252379550048305}]\n",
      "Best k value = 4 (silhouette score = 0.446)\n"
     ]
    },
    {
     "data": {},
     "metadata": {},
     "output_type": "display_data"
    },
    {
     "data": {
      "application/vnd.holoviews_exec.v0+json": "",
      "text/html": [
       "<div id='95b63c32-ec9e-4626-904a-5023689fe69c'>\n",
       "  <div id=\"d3e906f4-9d68-434e-a919-21a57090f9f3\" data-root-id=\"95b63c32-ec9e-4626-904a-5023689fe69c\" style=\"display: contents;\"></div>\n",
       "</div>\n",
       "<script type=\"application/javascript\">(function(root) {\n",
       "  var docs_json = {\"9a6358f1-79de-4936-8a0b-45f430a738b8\":{\"version\":\"3.5.2\",\"title\":\"Bokeh Application\",\"roots\":[{\"type\":\"object\",\"name\":\"Row\",\"id\":\"95b63c32-ec9e-4626-904a-5023689fe69c\",\"attributes\":{\"name\":\"Row10131\",\"tags\":[\"embedded\"],\"stylesheets\":[\"\\n:host(.pn-loading):before, .pn-loading:before {\\n  background-color: #c3c3c3;\\n  mask-size: auto calc(min(50%, 400px));\\n  -webkit-mask-size: auto calc(min(50%, 400px));\\n}\",{\"type\":\"object\",\"name\":\"ImportedStyleSheet\",\"id\":\"7048bd7c-dc4b-4267-87a0-f6b9f362d32b\",\"attributes\":{\"url\":\"https://cdn.holoviz.org/panel/1.5.3/dist/css/loading.css\"}},{\"type\":\"object\",\"name\":\"ImportedStyleSheet\",\"id\":\"48073398-7b31-45f8-a9da-8f229168880a\",\"attributes\":{\"url\":\"https://cdn.holoviz.org/panel/1.5.3/dist/css/listpanel.css\"}},{\"type\":\"object\",\"name\":\"ImportedStyleSheet\",\"id\":\"ddd41d6f-532f-40c9-bf10-fa03bf022b6e\",\"attributes\":{\"url\":\"https://cdn.holoviz.org/panel/1.5.3/dist/bundled/theme/default.css\"}},{\"type\":\"object\",\"name\":\"ImportedStyleSheet\",\"id\":\"9a4c3bed-1fa9-492c-8ba7-3d5d9b44d568\",\"attributes\":{\"url\":\"https://cdn.holoviz.org/panel/1.5.3/dist/bundled/theme/native.css\"}}],\"min_width\":700,\"margin\":0,\"sizing_mode\":\"stretch_width\",\"align\":\"start\",\"children\":[{\"type\":\"object\",\"name\":\"Spacer\",\"id\":\"201ca507-544c-4f33-b9aa-79dde744548a\",\"attributes\":{\"name\":\"HSpacer10135\",\"stylesheets\":[\"\\n:host(.pn-loading):before, .pn-loading:before {\\n  background-color: #c3c3c3;\\n  mask-size: auto calc(min(50%, 400px));\\n  -webkit-mask-size: auto calc(min(50%, 400px));\\n}\",{\"id\":\"7048bd7c-dc4b-4267-87a0-f6b9f362d32b\"},{\"id\":\"ddd41d6f-532f-40c9-bf10-fa03bf022b6e\"},{\"id\":\"9a4c3bed-1fa9-492c-8ba7-3d5d9b44d568\"}],\"margin\":0,\"sizing_mode\":\"stretch_width\",\"align\":\"start\"}},{\"type\":\"object\",\"name\":\"Figure\",\"id\":\"554be10c-fc7d-4629-bc57-99d4773dcdf0\",\"attributes\":{\"width\":700,\"height\":300,\"margin\":[5,10],\"sizing_mode\":\"fixed\",\"align\":\"start\",\"x_range\":{\"type\":\"object\",\"name\":\"Range1d\",\"id\":\"b295c2c2-b859-41a0-8f9d-661c0146091c\",\"attributes\":{\"name\":\"recency\",\"tags\":[[[\"recency\",null]],[]],\"start\":-21.17142857142857,\"end\":515.1714285714286,\"reset_start\":-21.17142857142857,\"reset_end\":515.1714285714286}},\"y_range\":{\"type\":\"object\",\"name\":\"Range1d\",\"id\":\"6a2e3580-a477-4278-933e-d7d347406b06\",\"attributes\":{\"name\":\"monetary\",\"tags\":[[[\"monetary\",null]],{\"type\":\"map\",\"entries\":[[\"invert_yaxis\",false],[\"autorange\",false]]}],\"start\":8.672644096702083,\"end\":14.03322663243378,\"reset_start\":8.672644096702083,\"reset_end\":14.03322663243378}},\"x_scale\":{\"type\":\"object\",\"name\":\"LinearScale\",\"id\":\"c04440cb-6c3f-4ba9-8020-981af44fa0ad\"},\"y_scale\":{\"type\":\"object\",\"name\":\"LinearScale\",\"id\":\"8d39449c-f238-4cba-88b4-825e698c02e7\"},\"title\":{\"type\":\"object\",\"name\":\"Title\",\"id\":\"070072e5-3716-4fac-a788-b93ffc4a5674\",\"attributes\":{\"text_color\":\"black\",\"text_font_size\":\"12pt\"}},\"renderers\":[{\"type\":\"object\",\"name\":\"GlyphRenderer\",\"id\":\"db399ed7-00f9-4a5a-a7c9-587eedfacd37\",\"attributes\":{\"name\":\"1\",\"data_source\":{\"type\":\"object\",\"name\":\"ColumnDataSource\",\"id\":\"5043c0c9-bb8f-45a3-826e-c4770ad03dbd\",\"attributes\":{\"selected\":{\"type\":\"object\",\"name\":\"Selection\",\"id\":\"92ec4853-4011-4868-a73d-9f994877e975\",\"attributes\":{\"indices\":[],\"line_indices\":[]}},\"selection_policy\":{\"type\":\"object\",\"name\":\"UnionRenderers\",\"id\":\"581bbb6a-b997-4296-9fbf-1dc278f3771c\"},\"data\":{\"type\":\"map\",\"entries\":[[\"recency\",{\"type\":\"ndarray\",\"array\":{\"type\":\"bytes\",\"data\":\"twAAALwAAACEAAAApQAAACgAAACnAAAAggAAAC4AAAAMAAAAYQAAAMIAAAC6AAAAqQAAABkAAACDAAAASwAAAEUAAAC1AAAArgAAAIMAAAAhAAAASwAAAD0AAADBAAAAAAAAAFMAAADEAAAARAAAAMEAAADFAAAAtgAAAJcAAACpAAAAEAAAAH0AAADBAAAAsgAAAGcAAABqAAAABwAAAHUAAACxAAAAtAAAACcAAAC1AAAAGAAAAEwAAABoAAAAAAEAAKQAAAAyAAAAMAAAAA==\"},\"shape\":[52],\"dtype\":\"int32\",\"order\":\"little\"}],[\"monetary\",{\"type\":\"ndarray\",\"array\":{\"type\":\"bytes\",\"data\":\"pn+61XFeJ0Bw2fhQz18nQI7RoAtNZydAq6q/FtXJJkDtoCfkZ+ImQPk9XnGvYyhAwmvNEoQyJ0B/YM9YZhEnQK3kk8E7ECdAJNL2VzU9J0BaR1cMjJMnQPp5aC5dqydA5rfNeq+lJkDhvu66XWYnQDLkC8eISSdAsr4VKBUBJ0CiGQdPruMnQOv2/A0z8CdASn6myBuKJkA8vTcz5XImQAHUUl4slyZARPlY9rS2JkDtVPlsJIsmQOZmWbhpxSZAEGsPFojVJ0AQrExz0dUnQDVxp518UidAr1yOu2i6JUADdXpacrQmQKdGTdaWZidA6G4NXAfnJkBsY8nrHywnQAcTYr0NbChAXb/Tt99tJkCqxEd+dh0nQEn6X0xAVSdAUpDxGRr4JkAaXEU8VaUnQFX3ih+GHCdAFVmkQ1K8J0DoHcIYYJ4mQPknaOwQhiZAtVdPNb5vJkAILp1NJT4mQAZGWP5pqyZA1rFjYWVQJ0ClqnF5Oh8oQKKMWoyI/CVAPiXG5/8+J0BY86eudeklQF1Oq1WRUyZAoE5YIXCgJ0A=\"},\"shape\":[52],\"dtype\":\"float64\",\"order\":\"little\"}],[\"customer_id\",{\"type\":\"ndarray\",\"array\":{\"type\":\"bytes\",\"data\":\"AQAAAAMAAAAFAAAABgAAAAcAAAAIAAAACQAAAAoAAAALAAAADAAAAA8AAAARAAAAEwAAABUAAAAWAAAAGAAAABsAAAAdAAAAHwAAACAAAAAmAAAAJwAAACgAAAAqAAAAKwAAACwAAAAuAAAAMAAAADMAAAA1AAAAOgAAAD0AAAA+AAAAPwAAAEAAAABBAAAAQgAAAEMAAABFAAAARwAAAEgAAABKAAAASwAAAE8AAABQAAAAUQAAAFIAAABTAAAAVAAAAFUAAABYAAAAWgAAAA==\"},\"shape\":[52],\"dtype\":\"int32\",\"order\":\"little\"}],[\"frequency\",{\"type\":\"ndarray\",\"array\":{\"type\":\"bytes\",\"data\":\"REQLbI4Q6D+KO75yNr7rP4o7vnI2vus/REQLbI4Q6D9ERAtsjhDoP4o7vnI2vus/REQLbI4Q6D9ERAtsjhDoP0REC2yOEOg/REQLbI4Q6D9ERAtsjhDoP0REC2yOEOg/REQLbI4Q6D+KO75yNr7rP0REC2yOEOg/REQLbI4Q6D+KO75yNr7rP0REC2yOEOg/REQLbI4Q6D9ERAtsjhDoP0REC2yOEOg/YfF8Rz1a4T9ERAtsjhDoP0REC2yOEOg/iju+cja+6z+KO75yNr7rP0REC2yOEOg/REQLbI4Q6D+KO75yNr7rP0REC2yOEOg/REQLbI4Q6D9ERAtsjhDoPyld0uZkGu4/REQLbI4Q6D9ERAtsjhDoP4o7vnI2vus/REQLbI4Q6D9ERAtsjhDoP0REC2yOEOg/REQLbI4Q6D9ERAtsjhDoP0REC2yOEOg/REQLbI4Q6D9h8XxHPVrhP0REC2yOEOg/iju+cja+6z8pXdLmZBruP0REC2yOEOg/REQLbI4Q6D9ERAtsjhDoP0REC2yOEOg/KV3S5mQa7j8=\"},\"shape\":[52],\"dtype\":\"float64\",\"order\":\"little\"}],[\"segment\",{\"type\":\"ndarray\",\"array\":{\"type\":\"bytes\",\"data\":\"AQAAAAEAAAABAAAAAQAAAAEAAAABAAAAAQAAAAEAAAABAAAAAQAAAAEAAAABAAAAAQAAAAEAAAABAAAAAQAAAAEAAAABAAAAAQAAAAEAAAABAAAAAQAAAAEAAAABAAAAAQAAAAEAAAABAAAAAQAAAAEAAAABAAAAAQAAAAEAAAABAAAAAQAAAAEAAAABAAAAAQAAAAEAAAABAAAAAQAAAAEAAAABAAAAAQAAAAEAAAABAAAAAQAAAAEAAAABAAAAAQAAAAEAAAABAAAAAQAAAA==\"},\"shape\":[52],\"dtype\":\"int32\",\"order\":\"little\"}]]}}},\"view\":{\"type\":\"object\",\"name\":\"CDSView\",\"id\":\"64885914-3319-4c0d-a0b9-f1bf475cf2ef\",\"attributes\":{\"filter\":{\"type\":\"object\",\"name\":\"AllIndices\",\"id\":\"55a774f9-fa9f-4d69-938d-46df77b534a3\"}}},\"glyph\":{\"type\":\"object\",\"name\":\"Scatter\",\"id\":\"b1eab5b7-6356-40f1-8070-88c599af2d6f\",\"attributes\":{\"tags\":[\"apply_ranges\"],\"x\":{\"type\":\"field\",\"field\":\"recency\"},\"y\":{\"type\":\"field\",\"field\":\"monetary\"},\"size\":{\"type\":\"value\",\"value\":5.477225575051661},\"line_color\":{\"type\":\"value\",\"value\":\"#30a2da\"},\"fill_color\":{\"type\":\"value\",\"value\":\"#30a2da\"},\"hatch_color\":{\"type\":\"value\",\"value\":\"#30a2da\"}}},\"selection_glyph\":{\"type\":\"object\",\"name\":\"Scatter\",\"id\":\"80eeb94f-8245-4e7f-8e05-0d380afe4d5b\",\"attributes\":{\"tags\":[\"apply_ranges\"],\"x\":{\"type\":\"field\",\"field\":\"recency\"},\"y\":{\"type\":\"field\",\"field\":\"monetary\"},\"size\":{\"type\":\"value\",\"value\":5.477225575051661},\"angle\":{\"type\":\"value\",\"value\":0.0},\"line_color\":{\"type\":\"value\",\"value\":\"#30a2da\"},\"line_alpha\":{\"type\":\"value\",\"value\":1.0},\"line_width\":{\"type\":\"value\",\"value\":1},\"line_join\":{\"type\":\"value\",\"value\":\"bevel\"},\"line_cap\":{\"type\":\"value\",\"value\":\"butt\"},\"line_dash\":{\"type\":\"value\",\"value\":[]},\"line_dash_offset\":{\"type\":\"value\",\"value\":0},\"fill_color\":{\"type\":\"value\",\"value\":\"#30a2da\"},\"fill_alpha\":{\"type\":\"value\",\"value\":1.0},\"hatch_color\":{\"type\":\"value\",\"value\":\"#30a2da\"},\"hatch_alpha\":{\"type\":\"value\",\"value\":1.0},\"hatch_scale\":{\"type\":\"value\",\"value\":12.0},\"hatch_pattern\":{\"type\":\"value\",\"value\":null},\"hatch_weight\":{\"type\":\"value\",\"value\":1.0},\"marker\":{\"type\":\"value\",\"value\":\"circle\"}}},\"nonselection_glyph\":{\"type\":\"object\",\"name\":\"Scatter\",\"id\":\"37027815-6d74-47f9-a06b-4d75d6336212\",\"attributes\":{\"tags\":[\"apply_ranges\"],\"x\":{\"type\":\"field\",\"field\":\"recency\"},\"y\":{\"type\":\"field\",\"field\":\"monetary\"},\"size\":{\"type\":\"value\",\"value\":5.477225575051661},\"line_color\":{\"type\":\"value\",\"value\":\"#30a2da\"},\"line_alpha\":{\"type\":\"value\",\"value\":0.1},\"fill_color\":{\"type\":\"value\",\"value\":\"#30a2da\"},\"fill_alpha\":{\"type\":\"value\",\"value\":0.1},\"hatch_color\":{\"type\":\"value\",\"value\":\"#30a2da\"},\"hatch_alpha\":{\"type\":\"value\",\"value\":0.1}}},\"muted_glyph\":{\"type\":\"object\",\"name\":\"Scatter\",\"id\":\"af93f903-9957-4a3e-b0a2-328fb31189b3\",\"attributes\":{\"tags\":[\"apply_ranges\"],\"x\":{\"type\":\"field\",\"field\":\"recency\"},\"y\":{\"type\":\"field\",\"field\":\"monetary\"},\"size\":{\"type\":\"value\",\"value\":5.477225575051661},\"line_color\":{\"type\":\"value\",\"value\":\"#30a2da\"},\"line_alpha\":{\"type\":\"value\",\"value\":0.2},\"fill_color\":{\"type\":\"value\",\"value\":\"#30a2da\"},\"fill_alpha\":{\"type\":\"value\",\"value\":0.2},\"hatch_color\":{\"type\":\"value\",\"value\":\"#30a2da\"},\"hatch_alpha\":{\"type\":\"value\",\"value\":0.2}}}}},{\"type\":\"object\",\"name\":\"GlyphRenderer\",\"id\":\"7d7cc834-2b46-4b31-aa8d-db90887f3be5\",\"attributes\":{\"name\":\"2\",\"data_source\":{\"type\":\"object\",\"name\":\"ColumnDataSource\",\"id\":\"9e7c62d4-69bf-4582-b4ac-b6507523cbaf\",\"attributes\":{\"selected\":{\"type\":\"object\",\"name\":\"Selection\",\"id\":\"18745108-0a87-41b6-9130-c540db07ebfb\",\"attributes\":{\"indices\":[],\"line_indices\":[]}},\"selection_policy\":{\"type\":\"object\",\"name\":\"UnionRenderers\",\"id\":\"16aa8c75-19ab-420b-b83e-9ea875b164ad\"},\"data\":{\"type\":\"map\",\"entries\":[[\"recency\",{\"type\":\"ndarray\",\"array\":{\"type\":\"bytes\",\"data\":\"1QAAALkBAADfAAAAjwEAAA0BAAAOAQAALAEAAHYBAAB6AQAABAEAANcAAADaAQAAqAEAAD8BAADYAAAAxQAAAM8AAADWAAAAvgEAAPoAAABsAQAA7gEAAOEBAADzAAAAzgEAAPkAAADPAAAAggEAANoAAAD0AAAAwwEAAA==\"},\"shape\":[31],\"dtype\":\"int32\",\"order\":\"little\"}],[\"monetary\",{\"type\":\"ndarray\",\"array\":{\"type\":\"bytes\",\"data\":\"XuD1sjAIJ0Ay64rgTL0nQEoDqI/00SVAWjkjGC8+JkBTpZ+5Yo8mQKejWSfVcCZA2jqdQDY2JkCzWohK3v0kQIXK/B38kCZAD4WsBx9aJ0AhooPDcD0mQFk0scf8eSVAiS925g6gJUBsTnS86qUlQIEaPwQoFidAntXYmf2IJkDmdyu59XQmQFPSQ5PAtiZAA/DMTTHCJkBKXWjUlOcmQOUtvdeIBSVAF90aWVqPJUCTXcI80fskQJg8qVyS7SVAKsfyJvilJUAzFlDUmOglQBrR6MCpCSdAVx84A0JWJkCaJUEXwigmQHnZAdsI7SRAplKZhgdJJkA=\"},\"shape\":[31],\"dtype\":\"float64\",\"order\":\"little\"}],[\"customer_id\",{\"type\":\"ndarray\",\"array\":{\"type\":\"bytes\",\"data\":\"AgAAAAQAAAAOAAAAEAAAABQAAAAXAAAAGQAAABoAAAAcAAAAHgAAACEAAAAkAAAAKQAAAC0AAAAvAAAAMgAAADQAAAA2AAAANwAAADsAAAA8AAAARAAAAEYAAABJAAAATAAAAE0AAABOAAAAVgAAAFcAAABZAAAAXAAAAA==\"},\"shape\":[31],\"dtype\":\"int32\",\"order\":\"little\"}],[\"frequency\",{\"type\":\"ndarray\",\"array\":{\"type\":\"bytes\",\"data\":\"YfF8Rz1a4T9ERAtsjhDoP2HxfEc9WuE/YfF8Rz1a4T9h8XxHPVrhP2HxfEc9WuE/YfF8Rz1a4T9h8XxHPVrhP2HxfEc9WuE/YfF8Rz1a4T9h8XxHPVrhP2HxfEc9WuE/YfF8Rz1a4T9h8XxHPVrhP2HxfEc9WuE/YfF8Rz1a4T9h8XxHPVrhP2HxfEc9WuE/YfF8Rz1a4T9h8XxHPVrhP2HxfEc9WuE/YfF8Rz1a4T9h8XxHPVrhP2HxfEc9WuE/YfF8Rz1a4T9h8XxHPVrhP2HxfEc9WuE/YfF8Rz1a4T9h8XxHPVrhPwAAAAAAAAAAYfF8Rz1a4T8=\"},\"shape\":[31],\"dtype\":\"float64\",\"order\":\"little\"}],[\"segment\",{\"type\":\"ndarray\",\"array\":{\"type\":\"bytes\",\"data\":\"AgAAAAIAAAACAAAAAgAAAAIAAAACAAAAAgAAAAIAAAACAAAAAgAAAAIAAAACAAAAAgAAAAIAAAACAAAAAgAAAAIAAAACAAAAAgAAAAIAAAACAAAAAgAAAAIAAAACAAAAAgAAAAIAAAACAAAAAgAAAAIAAAACAAAAAgAAAA==\"},\"shape\":[31],\"dtype\":\"int32\",\"order\":\"little\"}]]}}},\"view\":{\"type\":\"object\",\"name\":\"CDSView\",\"id\":\"3e936c12-663a-474d-b8dc-c8fafcb0005c\",\"attributes\":{\"filter\":{\"type\":\"object\",\"name\":\"AllIndices\",\"id\":\"0cc6f6e4-8855-4b8c-b353-9ac79213fca2\"}}},\"glyph\":{\"type\":\"object\",\"name\":\"Scatter\",\"id\":\"646e2710-7162-41ba-b45a-e44ab7d074be\",\"attributes\":{\"tags\":[\"apply_ranges\"],\"x\":{\"type\":\"field\",\"field\":\"recency\"},\"y\":{\"type\":\"field\",\"field\":\"monetary\"},\"size\":{\"type\":\"value\",\"value\":5.477225575051661},\"line_color\":{\"type\":\"value\",\"value\":\"#fc4f30\"},\"fill_color\":{\"type\":\"value\",\"value\":\"#fc4f30\"},\"hatch_color\":{\"type\":\"value\",\"value\":\"#fc4f30\"}}},\"selection_glyph\":{\"type\":\"object\",\"name\":\"Scatter\",\"id\":\"a6ab10e6-36dc-4334-adb3-099bb11d4fce\",\"attributes\":{\"tags\":[\"apply_ranges\"],\"x\":{\"type\":\"field\",\"field\":\"recency\"},\"y\":{\"type\":\"field\",\"field\":\"monetary\"},\"size\":{\"type\":\"value\",\"value\":5.477225575051661},\"angle\":{\"type\":\"value\",\"value\":0.0},\"line_color\":{\"type\":\"value\",\"value\":\"#fc4f30\"},\"line_alpha\":{\"type\":\"value\",\"value\":1.0},\"line_width\":{\"type\":\"value\",\"value\":1},\"line_join\":{\"type\":\"value\",\"value\":\"bevel\"},\"line_cap\":{\"type\":\"value\",\"value\":\"butt\"},\"line_dash\":{\"type\":\"value\",\"value\":[]},\"line_dash_offset\":{\"type\":\"value\",\"value\":0},\"fill_color\":{\"type\":\"value\",\"value\":\"#fc4f30\"},\"fill_alpha\":{\"type\":\"value\",\"value\":1.0},\"hatch_color\":{\"type\":\"value\",\"value\":\"#fc4f30\"},\"hatch_alpha\":{\"type\":\"value\",\"value\":1.0},\"hatch_scale\":{\"type\":\"value\",\"value\":12.0},\"hatch_pattern\":{\"type\":\"value\",\"value\":null},\"hatch_weight\":{\"type\":\"value\",\"value\":1.0},\"marker\":{\"type\":\"value\",\"value\":\"circle\"}}},\"nonselection_glyph\":{\"type\":\"object\",\"name\":\"Scatter\",\"id\":\"4793a409-1d79-4ddc-95c9-a71eb7bdae62\",\"attributes\":{\"tags\":[\"apply_ranges\"],\"x\":{\"type\":\"field\",\"field\":\"recency\"},\"y\":{\"type\":\"field\",\"field\":\"monetary\"},\"size\":{\"type\":\"value\",\"value\":5.477225575051661},\"line_color\":{\"type\":\"value\",\"value\":\"#fc4f30\"},\"line_alpha\":{\"type\":\"value\",\"value\":0.1},\"fill_color\":{\"type\":\"value\",\"value\":\"#fc4f30\"},\"fill_alpha\":{\"type\":\"value\",\"value\":0.1},\"hatch_color\":{\"type\":\"value\",\"value\":\"#fc4f30\"},\"hatch_alpha\":{\"type\":\"value\",\"value\":0.1}}},\"muted_glyph\":{\"type\":\"object\",\"name\":\"Scatter\",\"id\":\"96863077-380c-4138-a8c4-e119b10818a1\",\"attributes\":{\"tags\":[\"apply_ranges\"],\"x\":{\"type\":\"field\",\"field\":\"recency\"},\"y\":{\"type\":\"field\",\"field\":\"monetary\"},\"size\":{\"type\":\"value\",\"value\":5.477225575051661},\"line_color\":{\"type\":\"value\",\"value\":\"#fc4f30\"},\"line_alpha\":{\"type\":\"value\",\"value\":0.2},\"fill_color\":{\"type\":\"value\",\"value\":\"#fc4f30\"},\"fill_alpha\":{\"type\":\"value\",\"value\":0.2},\"hatch_color\":{\"type\":\"value\",\"value\":\"#fc4f30\"},\"hatch_alpha\":{\"type\":\"value\",\"value\":0.2}}}}},{\"type\":\"object\",\"name\":\"GlyphRenderer\",\"id\":\"40307421-7185-4e67-810c-41a6c011acb8\",\"attributes\":{\"name\":\"0\",\"data_source\":{\"type\":\"object\",\"name\":\"ColumnDataSource\",\"id\":\"9ca3d9cc-7c50-4990-974f-0c36cc42cb5e\",\"attributes\":{\"selected\":{\"type\":\"object\",\"name\":\"Selection\",\"id\":\"c7ca2506-9b23-42e8-9004-a76dc1faf207\",\"attributes\":{\"indices\":[],\"line_indices\":[]}},\"selection_policy\":{\"type\":\"object\",\"name\":\"UnionRenderers\",\"id\":\"32e6b8f7-91d8-4487-86bc-c3ce52d9aef4\"},\"data\":{\"type\":\"map\",\"entries\":[[\"recency\",{\"type\":\"ndarray\",\"array\":{\"type\":\"bytes\",\"data\":\"vQAAAMMAAAD5AAAApQAAAGIAAAB/AAAArQAAAA==\"},\"shape\":[7],\"dtype\":\"int32\",\"order\":\"little\"}],[\"monetary\",{\"type\":\"ndarray\",\"array\":{\"type\":\"bytes\",\"data\":\"CjEYMomeJUB6bqPgPdEkQNCSvUeO6yRA9J+tikleJEBPx8ipHD0iQPXby+3H1SRAUxhMv8cvJEA=\"},\"shape\":[7],\"dtype\":\"float64\",\"order\":\"little\"}],[\"customer_id\",{\"type\":\"ndarray\",\"array\":{\"type\":\"bytes\",\"data\":\"DQAAABIAAAAiAAAAIwAAADEAAAA4AAAAOQAAAA==\"},\"shape\":[7],\"dtype\":\"int32\",\"order\":\"little\"}],[\"frequency\",{\"type\":\"ndarray\",\"array\":{\"type\":\"bytes\",\"data\":\"REQLbI4Q6D9h8XxHPVrhP2HxfEc9WuE/REQLbI4Q6D9h8XxHPVrhP4o7vnI2vus/REQLbI4Q6D8=\"},\"shape\":[7],\"dtype\":\"float64\",\"order\":\"little\"}],[\"segment\",{\"type\":\"ndarray\",\"array\":{\"type\":\"bytes\",\"data\":\"AAAAAAAAAAAAAAAAAAAAAAAAAAAAAAAAAAAAAA==\"},\"shape\":[7],\"dtype\":\"int32\",\"order\":\"little\"}]]}}},\"view\":{\"type\":\"object\",\"name\":\"CDSView\",\"id\":\"8e24c7c9-96d1-484a-811a-e25c0e0f7441\",\"attributes\":{\"filter\":{\"type\":\"object\",\"name\":\"AllIndices\",\"id\":\"77828aa6-2d87-4749-9b21-dc4bec72220e\"}}},\"glyph\":{\"type\":\"object\",\"name\":\"Scatter\",\"id\":\"c623b69d-696c-4f2d-a499-d0ac1e7a47e1\",\"attributes\":{\"tags\":[\"apply_ranges\"],\"x\":{\"type\":\"field\",\"field\":\"recency\"},\"y\":{\"type\":\"field\",\"field\":\"monetary\"},\"size\":{\"type\":\"value\",\"value\":5.477225575051661},\"line_color\":{\"type\":\"value\",\"value\":\"#e5ae38\"},\"fill_color\":{\"type\":\"value\",\"value\":\"#e5ae38\"},\"hatch_color\":{\"type\":\"value\",\"value\":\"#e5ae38\"}}},\"selection_glyph\":{\"type\":\"object\",\"name\":\"Scatter\",\"id\":\"69ce246f-d8b5-43ce-8336-e08e97de02de\",\"attributes\":{\"tags\":[\"apply_ranges\"],\"x\":{\"type\":\"field\",\"field\":\"recency\"},\"y\":{\"type\":\"field\",\"field\":\"monetary\"},\"size\":{\"type\":\"value\",\"value\":5.477225575051661},\"angle\":{\"type\":\"value\",\"value\":0.0},\"line_color\":{\"type\":\"value\",\"value\":\"#e5ae38\"},\"line_alpha\":{\"type\":\"value\",\"value\":1.0},\"line_width\":{\"type\":\"value\",\"value\":1},\"line_join\":{\"type\":\"value\",\"value\":\"bevel\"},\"line_cap\":{\"type\":\"value\",\"value\":\"butt\"},\"line_dash\":{\"type\":\"value\",\"value\":[]},\"line_dash_offset\":{\"type\":\"value\",\"value\":0},\"fill_color\":{\"type\":\"value\",\"value\":\"#e5ae38\"},\"fill_alpha\":{\"type\":\"value\",\"value\":1.0},\"hatch_color\":{\"type\":\"value\",\"value\":\"#e5ae38\"},\"hatch_alpha\":{\"type\":\"value\",\"value\":1.0},\"hatch_scale\":{\"type\":\"value\",\"value\":12.0},\"hatch_pattern\":{\"type\":\"value\",\"value\":null},\"hatch_weight\":{\"type\":\"value\",\"value\":1.0},\"marker\":{\"type\":\"value\",\"value\":\"circle\"}}},\"nonselection_glyph\":{\"type\":\"object\",\"name\":\"Scatter\",\"id\":\"7c9f2fa6-7bfb-424c-952c-82a560e10b0e\",\"attributes\":{\"tags\":[\"apply_ranges\"],\"x\":{\"type\":\"field\",\"field\":\"recency\"},\"y\":{\"type\":\"field\",\"field\":\"monetary\"},\"size\":{\"type\":\"value\",\"value\":5.477225575051661},\"line_color\":{\"type\":\"value\",\"value\":\"#e5ae38\"},\"line_alpha\":{\"type\":\"value\",\"value\":0.1},\"fill_color\":{\"type\":\"value\",\"value\":\"#e5ae38\"},\"fill_alpha\":{\"type\":\"value\",\"value\":0.1},\"hatch_color\":{\"type\":\"value\",\"value\":\"#e5ae38\"},\"hatch_alpha\":{\"type\":\"value\",\"value\":0.1}}},\"muted_glyph\":{\"type\":\"object\",\"name\":\"Scatter\",\"id\":\"368b31f5-373f-42d8-a66e-3267a727013a\",\"attributes\":{\"tags\":[\"apply_ranges\"],\"x\":{\"type\":\"field\",\"field\":\"recency\"},\"y\":{\"type\":\"field\",\"field\":\"monetary\"},\"size\":{\"type\":\"value\",\"value\":5.477225575051661},\"line_color\":{\"type\":\"value\",\"value\":\"#e5ae38\"},\"line_alpha\":{\"type\":\"value\",\"value\":0.2},\"fill_color\":{\"type\":\"value\",\"value\":\"#e5ae38\"},\"fill_alpha\":{\"type\":\"value\",\"value\":0.2},\"hatch_color\":{\"type\":\"value\",\"value\":\"#e5ae38\"},\"hatch_alpha\":{\"type\":\"value\",\"value\":0.2}}}}},{\"type\":\"object\",\"name\":\"GlyphRenderer\",\"id\":\"4a6e325f-7375-43fc-aae4-a0b242406e3a\",\"attributes\":{\"name\":\"3\",\"data_source\":{\"type\":\"object\",\"name\":\"ColumnDataSource\",\"id\":\"0c9b7a81-065a-4040-9f7a-4cea684c4f57\",\"attributes\":{\"selected\":{\"type\":\"object\",\"name\":\"Selection\",\"id\":\"160b4ef1-a604-427c-8912-6beaa828131f\",\"attributes\":{\"indices\":[],\"line_indices\":[]}},\"selection_policy\":{\"type\":\"object\",\"name\":\"UnionRenderers\",\"id\":\"51417a9c-4df7-49cf-bc75-fcf717ccfa37\"},\"data\":{\"type\":\"map\",\"entries\":[[\"recency\",{\"type\":\"ndarray\",\"array\":{\"type\":\"bytes\",\"data\":\"DgAAADcAAAA=\"},\"shape\":[2],\"dtype\":\"int32\",\"order\":\"little\"}],[\"monetary\",{\"type\":\"ndarray\",\"array\":{\"type\":\"bytes\",\"data\":\"5+eYOUssK0DngIqfFcMqQA==\"},\"shape\":[2],\"dtype\":\"float64\",\"order\":\"little\"}],[\"customer_id\",{\"type\":\"ndarray\",\"array\":{\"type\":\"bytes\",\"data\":\"JQAAAFsAAAA=\"},\"shape\":[2],\"dtype\":\"int32\",\"order\":\"little\"}],[\"frequency\",{\"type\":\"ndarray\",\"array\":{\"type\":\"bytes\",\"data\":\"+XZkR/N/8z+gPTe0W9jyPw==\"},\"shape\":[2],\"dtype\":\"float64\",\"order\":\"little\"}],[\"segment\",{\"type\":\"ndarray\",\"array\":{\"type\":\"bytes\",\"data\":\"AwAAAAMAAAA=\"},\"shape\":[2],\"dtype\":\"int32\",\"order\":\"little\"}]]}}},\"view\":{\"type\":\"object\",\"name\":\"CDSView\",\"id\":\"0f21da75-9f65-4f47-8359-b4d84cb6bd16\",\"attributes\":{\"filter\":{\"type\":\"object\",\"name\":\"AllIndices\",\"id\":\"d1ac68ae-413d-4d9e-a8e1-bbf02c1815f1\"}}},\"glyph\":{\"type\":\"object\",\"name\":\"Scatter\",\"id\":\"690f2eb5-6c69-4e88-9745-76af52152542\",\"attributes\":{\"tags\":[\"apply_ranges\"],\"x\":{\"type\":\"field\",\"field\":\"recency\"},\"y\":{\"type\":\"field\",\"field\":\"monetary\"},\"size\":{\"type\":\"value\",\"value\":5.477225575051661},\"line_color\":{\"type\":\"value\",\"value\":\"#6d904f\"},\"fill_color\":{\"type\":\"value\",\"value\":\"#6d904f\"},\"hatch_color\":{\"type\":\"value\",\"value\":\"#6d904f\"}}},\"selection_glyph\":{\"type\":\"object\",\"name\":\"Scatter\",\"id\":\"9817a3dd-a2d7-401b-81a9-8646c4f1a80d\",\"attributes\":{\"tags\":[\"apply_ranges\"],\"x\":{\"type\":\"field\",\"field\":\"recency\"},\"y\":{\"type\":\"field\",\"field\":\"monetary\"},\"size\":{\"type\":\"value\",\"value\":5.477225575051661},\"angle\":{\"type\":\"value\",\"value\":0.0},\"line_color\":{\"type\":\"value\",\"value\":\"#6d904f\"},\"line_alpha\":{\"type\":\"value\",\"value\":1.0},\"line_width\":{\"type\":\"value\",\"value\":1},\"line_join\":{\"type\":\"value\",\"value\":\"bevel\"},\"line_cap\":{\"type\":\"value\",\"value\":\"butt\"},\"line_dash\":{\"type\":\"value\",\"value\":[]},\"line_dash_offset\":{\"type\":\"value\",\"value\":0},\"fill_color\":{\"type\":\"value\",\"value\":\"#6d904f\"},\"fill_alpha\":{\"type\":\"value\",\"value\":1.0},\"hatch_color\":{\"type\":\"value\",\"value\":\"#6d904f\"},\"hatch_alpha\":{\"type\":\"value\",\"value\":1.0},\"hatch_scale\":{\"type\":\"value\",\"value\":12.0},\"hatch_pattern\":{\"type\":\"value\",\"value\":null},\"hatch_weight\":{\"type\":\"value\",\"value\":1.0},\"marker\":{\"type\":\"value\",\"value\":\"circle\"}}},\"nonselection_glyph\":{\"type\":\"object\",\"name\":\"Scatter\",\"id\":\"c1f12602-3052-4547-95f7-08c389fa33b2\",\"attributes\":{\"tags\":[\"apply_ranges\"],\"x\":{\"type\":\"field\",\"field\":\"recency\"},\"y\":{\"type\":\"field\",\"field\":\"monetary\"},\"size\":{\"type\":\"value\",\"value\":5.477225575051661},\"line_color\":{\"type\":\"value\",\"value\":\"#6d904f\"},\"line_alpha\":{\"type\":\"value\",\"value\":0.1},\"fill_color\":{\"type\":\"value\",\"value\":\"#6d904f\"},\"fill_alpha\":{\"type\":\"value\",\"value\":0.1},\"hatch_color\":{\"type\":\"value\",\"value\":\"#6d904f\"},\"hatch_alpha\":{\"type\":\"value\",\"value\":0.1}}},\"muted_glyph\":{\"type\":\"object\",\"name\":\"Scatter\",\"id\":\"dccff772-6f26-4ced-a415-37f671e9f28c\",\"attributes\":{\"tags\":[\"apply_ranges\"],\"x\":{\"type\":\"field\",\"field\":\"recency\"},\"y\":{\"type\":\"field\",\"field\":\"monetary\"},\"size\":{\"type\":\"value\",\"value\":5.477225575051661},\"line_color\":{\"type\":\"value\",\"value\":\"#6d904f\"},\"line_alpha\":{\"type\":\"value\",\"value\":0.2},\"fill_color\":{\"type\":\"value\",\"value\":\"#6d904f\"},\"fill_alpha\":{\"type\":\"value\",\"value\":0.2},\"hatch_color\":{\"type\":\"value\",\"value\":\"#6d904f\"},\"hatch_alpha\":{\"type\":\"value\",\"value\":0.2}}}}}],\"toolbar\":{\"type\":\"object\",\"name\":\"Toolbar\",\"id\":\"a7f14534-c27f-48ae-b518-72d879806210\",\"attributes\":{\"tools\":[{\"type\":\"object\",\"name\":\"WheelZoomTool\",\"id\":\"1a63389e-ab82-4dc6-8d3d-2d7f5b1a2a38\",\"attributes\":{\"tags\":[\"hv_created\"],\"renderers\":\"auto\",\"zoom_together\":\"none\"}},{\"type\":\"object\",\"name\":\"HoverTool\",\"id\":\"d6a1a9c2-ba15-4667-aaf4-561fb43c13f4\",\"attributes\":{\"tags\":[\"hv_created\"],\"renderers\":[{\"id\":\"db399ed7-00f9-4a5a-a7c9-587eedfacd37\"},{\"id\":\"7d7cc834-2b46-4b31-aa8d-db90887f3be5\"},{\"id\":\"40307421-7185-4e67-810c-41a6c011acb8\"},{\"id\":\"4a6e325f-7375-43fc-aae4-a0b242406e3a\"}],\"tooltips\":[[\"segment\",\"@{segment}\"],[\"recency\",\"@{recency}\"],[\"monetary\",\"@{monetary}\"],[\"customer_id\",\"@{customer_id}\"],[\"frequency\",\"@{frequency}\"]]}},{\"type\":\"object\",\"name\":\"SaveTool\",\"id\":\"ba6b3361-d7db-4faa-9990-5383a395981b\"},{\"type\":\"object\",\"name\":\"PanTool\",\"id\":\"f81dde05-88e1-475b-b129-2380438e22c8\"},{\"type\":\"object\",\"name\":\"BoxZoomTool\",\"id\":\"da0e3df0-4aba-403d-b510-3eefaf5f57de\",\"attributes\":{\"overlay\":{\"type\":\"object\",\"name\":\"BoxAnnotation\",\"id\":\"4a4c730f-1346-4bbe-b307-982bb6a89749\",\"attributes\":{\"syncable\":false,\"line_color\":\"black\",\"line_alpha\":1.0,\"line_width\":2,\"line_dash\":[4,4],\"fill_color\":\"lightgrey\",\"fill_alpha\":0.5,\"level\":\"overlay\",\"visible\":false,\"left\":{\"type\":\"number\",\"value\":\"nan\"},\"right\":{\"type\":\"number\",\"value\":\"nan\"},\"top\":{\"type\":\"number\",\"value\":\"nan\"},\"bottom\":{\"type\":\"number\",\"value\":\"nan\"},\"left_units\":\"canvas\",\"right_units\":\"canvas\",\"top_units\":\"canvas\",\"bottom_units\":\"canvas\",\"handles\":{\"type\":\"object\",\"name\":\"BoxInteractionHandles\",\"id\":\"947bafad-7be5-472d-9689-5b27a6921b7c\",\"attributes\":{\"all\":{\"type\":\"object\",\"name\":\"AreaVisuals\",\"id\":\"d7e4c7bf-f0c5-4073-911d-e2451d1e0cc3\",\"attributes\":{\"fill_color\":\"white\",\"hover_fill_color\":\"lightgray\"}}}}}}}},{\"type\":\"object\",\"name\":\"ResetTool\",\"id\":\"5f8ed43b-0994-4e75-961d-8f0ad3613ed8\"}],\"active_drag\":{\"id\":\"f81dde05-88e1-475b-b129-2380438e22c8\"},\"active_scroll\":{\"id\":\"1a63389e-ab82-4dc6-8d3d-2d7f5b1a2a38\"}}},\"left\":[{\"type\":\"object\",\"name\":\"LinearAxis\",\"id\":\"55e0d09a-8dc7-4cf1-b5e7-5fdeb51d8db6\",\"attributes\":{\"ticker\":{\"type\":\"object\",\"name\":\"BasicTicker\",\"id\":\"bb5c6706-bf3e-4f5e-82e3-bbcfec3a886f\",\"attributes\":{\"mantissas\":[1,2,5]}},\"formatter\":{\"type\":\"object\",\"name\":\"BasicTickFormatter\",\"id\":\"3939e336-aca5-48fe-97c1-85628ec57d99\"},\"axis_label\":\"monetary\",\"major_label_policy\":{\"type\":\"object\",\"name\":\"AllLabels\",\"id\":\"9a8d6eba-dba6-4c77-89aa-09d3bdfeecd4\"}}}],\"right\":[{\"type\":\"object\",\"name\":\"Legend\",\"id\":\"28df4e16-e1c0-4f8c-ae36-1b84e4346918\",\"attributes\":{\"location\":[0,0],\"title\":\"segment\",\"click_policy\":\"mute\",\"items\":[{\"type\":\"object\",\"name\":\"LegendItem\",\"id\":\"5bb2c65e-0816-44a1-bd03-528a4a33f05d\",\"attributes\":{\"label\":{\"type\":\"value\",\"value\":\"1\"},\"renderers\":[{\"id\":\"db399ed7-00f9-4a5a-a7c9-587eedfacd37\"}]}},{\"type\":\"object\",\"name\":\"LegendItem\",\"id\":\"a7a30bee-5c43-474c-a761-8344d8e187f2\",\"attributes\":{\"label\":{\"type\":\"value\",\"value\":\"2\"},\"renderers\":[{\"id\":\"7d7cc834-2b46-4b31-aa8d-db90887f3be5\"}]}},{\"type\":\"object\",\"name\":\"LegendItem\",\"id\":\"598e259f-6302-4a44-ad35-6bf6ed7a3455\",\"attributes\":{\"label\":{\"type\":\"value\",\"value\":\"0\"},\"renderers\":[{\"id\":\"40307421-7185-4e67-810c-41a6c011acb8\"}]}},{\"type\":\"object\",\"name\":\"LegendItem\",\"id\":\"32c19489-c19a-434b-9225-58dc93416f10\",\"attributes\":{\"label\":{\"type\":\"value\",\"value\":\"3\"},\"renderers\":[{\"id\":\"4a6e325f-7375-43fc-aae4-a0b242406e3a\"}]}}]}}],\"below\":[{\"type\":\"object\",\"name\":\"LinearAxis\",\"id\":\"c0a6891f-5d27-4db4-80a5-c25a73a7ae1b\",\"attributes\":{\"ticker\":{\"type\":\"object\",\"name\":\"BasicTicker\",\"id\":\"afdc7b1e-e5b4-447a-b667-14de4acd76b9\",\"attributes\":{\"mantissas\":[1,2,5]}},\"formatter\":{\"type\":\"object\",\"name\":\"BasicTickFormatter\",\"id\":\"96e01cf7-7d68-4427-a891-83a00c6cb4cd\"},\"axis_label\":\"recency\",\"major_label_policy\":{\"type\":\"object\",\"name\":\"AllLabels\",\"id\":\"e2a2b68c-8dad-4451-89e7-826a224f39bb\"}}}],\"center\":[{\"type\":\"object\",\"name\":\"Grid\",\"id\":\"952533ac-8ebf-4890-98e0-c9947fe40fe9\",\"attributes\":{\"axis\":{\"id\":\"c0a6891f-5d27-4db4-80a5-c25a73a7ae1b\"},\"grid_line_color\":null}},{\"type\":\"object\",\"name\":\"Grid\",\"id\":\"f5488491-ed44-465e-a902-b858219a338f\",\"attributes\":{\"dimension\":1,\"axis\":{\"id\":\"55e0d09a-8dc7-4cf1-b5e7-5fdeb51d8db6\"},\"grid_line_color\":null}}],\"min_border_top\":10,\"min_border_bottom\":10,\"min_border_left\":10,\"min_border_right\":10,\"output_backend\":\"webgl\"}},{\"type\":\"object\",\"name\":\"Spacer\",\"id\":\"3bc77bb3-c641-464f-8546-5279e2341e2e\",\"attributes\":{\"name\":\"HSpacer10136\",\"stylesheets\":[\"\\n:host(.pn-loading):before, .pn-loading:before {\\n  background-color: #c3c3c3;\\n  mask-size: auto calc(min(50%, 400px));\\n  -webkit-mask-size: auto calc(min(50%, 400px));\\n}\",{\"id\":\"7048bd7c-dc4b-4267-87a0-f6b9f362d32b\"},{\"id\":\"ddd41d6f-532f-40c9-bf10-fa03bf022b6e\"},{\"id\":\"9a4c3bed-1fa9-492c-8ba7-3d5d9b44d568\"}],\"margin\":0,\"sizing_mode\":\"stretch_width\",\"align\":\"start\"}}]}}],\"defs\":[{\"type\":\"model\",\"name\":\"ReactiveHTML1\"},{\"type\":\"model\",\"name\":\"FlexBox1\",\"properties\":[{\"name\":\"align_content\",\"kind\":\"Any\",\"default\":\"flex-start\"},{\"name\":\"align_items\",\"kind\":\"Any\",\"default\":\"flex-start\"},{\"name\":\"flex_direction\",\"kind\":\"Any\",\"default\":\"row\"},{\"name\":\"flex_wrap\",\"kind\":\"Any\",\"default\":\"wrap\"},{\"name\":\"gap\",\"kind\":\"Any\",\"default\":\"\"},{\"name\":\"justify_content\",\"kind\":\"Any\",\"default\":\"flex-start\"}]},{\"type\":\"model\",\"name\":\"FloatPanel1\",\"properties\":[{\"name\":\"config\",\"kind\":\"Any\",\"default\":{\"type\":\"map\"}},{\"name\":\"contained\",\"kind\":\"Any\",\"default\":true},{\"name\":\"position\",\"kind\":\"Any\",\"default\":\"right-top\"},{\"name\":\"offsetx\",\"kind\":\"Any\",\"default\":null},{\"name\":\"offsety\",\"kind\":\"Any\",\"default\":null},{\"name\":\"theme\",\"kind\":\"Any\",\"default\":\"primary\"},{\"name\":\"status\",\"kind\":\"Any\",\"default\":\"normalized\"}]},{\"type\":\"model\",\"name\":\"GridStack1\",\"properties\":[{\"name\":\"mode\",\"kind\":\"Any\",\"default\":\"warn\"},{\"name\":\"ncols\",\"kind\":\"Any\",\"default\":null},{\"name\":\"nrows\",\"kind\":\"Any\",\"default\":null},{\"name\":\"allow_resize\",\"kind\":\"Any\",\"default\":true},{\"name\":\"allow_drag\",\"kind\":\"Any\",\"default\":true},{\"name\":\"state\",\"kind\":\"Any\",\"default\":[]}]},{\"type\":\"model\",\"name\":\"drag1\",\"properties\":[{\"name\":\"slider_width\",\"kind\":\"Any\",\"default\":5},{\"name\":\"slider_color\",\"kind\":\"Any\",\"default\":\"black\"},{\"name\":\"value\",\"kind\":\"Any\",\"default\":50}]},{\"type\":\"model\",\"name\":\"click1\",\"properties\":[{\"name\":\"terminal_output\",\"kind\":\"Any\",\"default\":\"\"},{\"name\":\"debug_name\",\"kind\":\"Any\",\"default\":\"\"},{\"name\":\"clears\",\"kind\":\"Any\",\"default\":0}]},{\"type\":\"model\",\"name\":\"FastWrapper1\",\"properties\":[{\"name\":\"object\",\"kind\":\"Any\",\"default\":null},{\"name\":\"style\",\"kind\":\"Any\",\"default\":null}]},{\"type\":\"model\",\"name\":\"NotificationAreaBase1\",\"properties\":[{\"name\":\"js_events\",\"kind\":\"Any\",\"default\":{\"type\":\"map\"}},{\"name\":\"position\",\"kind\":\"Any\",\"default\":\"bottom-right\"},{\"name\":\"_clear\",\"kind\":\"Any\",\"default\":0}]},{\"type\":\"model\",\"name\":\"NotificationArea1\",\"properties\":[{\"name\":\"js_events\",\"kind\":\"Any\",\"default\":{\"type\":\"map\"}},{\"name\":\"notifications\",\"kind\":\"Any\",\"default\":[]},{\"name\":\"position\",\"kind\":\"Any\",\"default\":\"bottom-right\"},{\"name\":\"_clear\",\"kind\":\"Any\",\"default\":0},{\"name\":\"types\",\"kind\":\"Any\",\"default\":[{\"type\":\"map\",\"entries\":[[\"type\",\"warning\"],[\"background\",\"#ffc107\"],[\"icon\",{\"type\":\"map\",\"entries\":[[\"className\",\"fas fa-exclamation-triangle\"],[\"tagName\",\"i\"],[\"color\",\"white\"]]}]]},{\"type\":\"map\",\"entries\":[[\"type\",\"info\"],[\"background\",\"#007bff\"],[\"icon\",{\"type\":\"map\",\"entries\":[[\"className\",\"fas fa-info-circle\"],[\"tagName\",\"i\"],[\"color\",\"white\"]]}]]}]}]},{\"type\":\"model\",\"name\":\"Notification\",\"properties\":[{\"name\":\"background\",\"kind\":\"Any\",\"default\":null},{\"name\":\"duration\",\"kind\":\"Any\",\"default\":3000},{\"name\":\"icon\",\"kind\":\"Any\",\"default\":null},{\"name\":\"message\",\"kind\":\"Any\",\"default\":\"\"},{\"name\":\"notification_type\",\"kind\":\"Any\",\"default\":null},{\"name\":\"_destroyed\",\"kind\":\"Any\",\"default\":false}]},{\"type\":\"model\",\"name\":\"TemplateActions1\",\"properties\":[{\"name\":\"open_modal\",\"kind\":\"Any\",\"default\":0},{\"name\":\"close_modal\",\"kind\":\"Any\",\"default\":0}]},{\"type\":\"model\",\"name\":\"BootstrapTemplateActions1\",\"properties\":[{\"name\":\"open_modal\",\"kind\":\"Any\",\"default\":0},{\"name\":\"close_modal\",\"kind\":\"Any\",\"default\":0}]},{\"type\":\"model\",\"name\":\"TemplateEditor1\",\"properties\":[{\"name\":\"layout\",\"kind\":\"Any\",\"default\":[]}]},{\"type\":\"model\",\"name\":\"MaterialTemplateActions1\",\"properties\":[{\"name\":\"open_modal\",\"kind\":\"Any\",\"default\":0},{\"name\":\"close_modal\",\"kind\":\"Any\",\"default\":0}]},{\"type\":\"model\",\"name\":\"ReactiveESM1\"},{\"type\":\"model\",\"name\":\"JSComponent1\"},{\"type\":\"model\",\"name\":\"ReactComponent1\"},{\"type\":\"model\",\"name\":\"AnyWidgetComponent1\"},{\"type\":\"model\",\"name\":\"request_value1\",\"properties\":[{\"name\":\"fill\",\"kind\":\"Any\",\"default\":\"none\"},{\"name\":\"_synced\",\"kind\":\"Any\",\"default\":null},{\"name\":\"_request_sync\",\"kind\":\"Any\",\"default\":0}]}]}};\n",
       "  var render_items = [{\"docid\":\"9a6358f1-79de-4936-8a0b-45f430a738b8\",\"roots\":{\"95b63c32-ec9e-4626-904a-5023689fe69c\":\"d3e906f4-9d68-434e-a919-21a57090f9f3\"},\"root_ids\":[\"95b63c32-ec9e-4626-904a-5023689fe69c\"]}];\n",
       "  var docs = Object.values(docs_json)\n",
       "  if (!docs) {\n",
       "    return\n",
       "  }\n",
       "  const py_version = docs[0].version.replace('rc', '-rc.').replace('.dev', '-dev.')\n",
       "  async function embed_document(root) {\n",
       "    var Bokeh = get_bokeh(root)\n",
       "    await Bokeh.embed.embed_items_notebook(docs_json, render_items);\n",
       "    for (const render_item of render_items) {\n",
       "      for (const root_id of render_item.root_ids) {\n",
       "\tconst id_el = document.getElementById(root_id)\n",
       "\tif (id_el.children.length && id_el.children[0].hasAttribute('data-root-id')) {\n",
       "\t  const root_el = id_el.children[0]\n",
       "\t  root_el.id = root_el.id + '-rendered'\n",
       "\t  for (const child of root_el.children) {\n",
       "            // Ensure JupyterLab does not capture keyboard shortcuts\n",
       "            // see: https://jupyterlab.readthedocs.io/en/4.1.x/extension/notebook.html#keyboard-interaction-model\n",
       "\t    child.setAttribute('data-lm-suppress-shortcuts', 'true')\n",
       "\t  }\n",
       "\t}\n",
       "      }\n",
       "    }\n",
       "  }\n",
       "  function get_bokeh(root) {\n",
       "    if (root.Bokeh === undefined) {\n",
       "      return null\n",
       "    } else if (root.Bokeh.version !== py_version) {\n",
       "      if (root.Bokeh.versions === undefined || !root.Bokeh.versions.has(py_version)) {\n",
       "\treturn null\n",
       "      }\n",
       "      return root.Bokeh.versions.get(py_version);\n",
       "    } else if (root.Bokeh.version === py_version) {\n",
       "      return root.Bokeh\n",
       "    }\n",
       "    return null\n",
       "  }\n",
       "  function is_loaded(root) {\n",
       "    var Bokeh = get_bokeh(root)\n",
       "    return (Bokeh != null && Bokeh.Panel !== undefined)\n",
       "  }\n",
       "  if (is_loaded(root)) {\n",
       "    embed_document(root);\n",
       "  } else {\n",
       "    var attempts = 0;\n",
       "    var timer = setInterval(function(root) {\n",
       "      if (is_loaded(root)) {\n",
       "        clearInterval(timer);\n",
       "        embed_document(root);\n",
       "      } else if (document.readyState == \"complete\") {\n",
       "        attempts++;\n",
       "        if (attempts > 200) {\n",
       "          clearInterval(timer);\n",
       "\t  var Bokeh = get_bokeh(root)\n",
       "\t  if (Bokeh == null || Bokeh.Panel == null) {\n",
       "            console.warn(\"Panel: ERROR: Unable to run Panel code because Bokeh or Panel library is missing\");\n",
       "\t  } else {\n",
       "\t    console.warn(\"Panel: WARNING: Attempting to render but not all required libraries could be resolved.\")\n",
       "\t    embed_document(root)\n",
       "\t  }\n",
       "        }\n",
       "      }\n",
       "    }, 25, root)\n",
       "  }\n",
       "})(window);</script>"
      ],
      "text/plain": [
       ":NdOverlay   [segment]\n",
       "   :Scatter   [recency]   (monetary,customer_id,frequency,segment)"
      ]
     },
     "metadata": {
      "application/vnd.holoviews_exec.v0+json": {
       "id": "95b63c32-ec9e-4626-904a-5023689fe69c"
      }
     },
     "output_type": "display_data"
    },
    {
     "name": "stdout",
     "output_type": "stream",
     "text": [
      "---------------------------------------------------------------CALINSKI HARABASZ SCORE----------------------------------------------------------------\n",
      "[{'k': 2, 'score': 64.33816771615149}, {'k': 3, 'score': 56.1656851278826}, {'k': 4, 'score': 56.866433254066415}, {'k': 5, 'score': 58.84168364277497}]\n",
      "Best k value = 2 (ch_score score = 64.338)\n"
     ]
    },
    {
     "data": {},
     "metadata": {},
     "output_type": "display_data"
    },
    {
     "data": {
      "application/vnd.holoviews_exec.v0+json": "",
      "text/html": [
       "<div id='8e5ec645-abf7-4e1f-85b8-5c9f257d4be6'>\n",
       "  <div id=\"a38f35fd-886b-4157-ae76-dafb82b24135\" data-root-id=\"8e5ec645-abf7-4e1f-85b8-5c9f257d4be6\" style=\"display: contents;\"></div>\n",
       "</div>\n",
       "<script type=\"application/javascript\">(function(root) {\n",
       "  var docs_json = {\"b7f37523-7edc-47c2-ae07-3b7143114841\":{\"version\":\"3.5.2\",\"title\":\"Bokeh Application\",\"roots\":[{\"type\":\"object\",\"name\":\"Row\",\"id\":\"8e5ec645-abf7-4e1f-85b8-5c9f257d4be6\",\"attributes\":{\"name\":\"Row10279\",\"tags\":[\"embedded\"],\"stylesheets\":[\"\\n:host(.pn-loading):before, .pn-loading:before {\\n  background-color: #c3c3c3;\\n  mask-size: auto calc(min(50%, 400px));\\n  -webkit-mask-size: auto calc(min(50%, 400px));\\n}\",{\"type\":\"object\",\"name\":\"ImportedStyleSheet\",\"id\":\"d72a5f4d-7774-47fc-abb6-2eab264b9cb0\",\"attributes\":{\"url\":\"https://cdn.holoviz.org/panel/1.5.3/dist/css/loading.css\"}},{\"type\":\"object\",\"name\":\"ImportedStyleSheet\",\"id\":\"e6ea6bae-baad-4cc5-ae5a-664955adb00e\",\"attributes\":{\"url\":\"https://cdn.holoviz.org/panel/1.5.3/dist/css/listpanel.css\"}},{\"type\":\"object\",\"name\":\"ImportedStyleSheet\",\"id\":\"a0ea9b14-76ef-445c-8d5b-219b89e3246b\",\"attributes\":{\"url\":\"https://cdn.holoviz.org/panel/1.5.3/dist/bundled/theme/default.css\"}},{\"type\":\"object\",\"name\":\"ImportedStyleSheet\",\"id\":\"4248a25e-87b8-4fa5-bf22-3339947880fc\",\"attributes\":{\"url\":\"https://cdn.holoviz.org/panel/1.5.3/dist/bundled/theme/native.css\"}}],\"min_width\":700,\"margin\":0,\"sizing_mode\":\"stretch_width\",\"align\":\"start\",\"children\":[{\"type\":\"object\",\"name\":\"Spacer\",\"id\":\"25438a87-6cd3-4cfe-906d-22d21c09f2cd\",\"attributes\":{\"name\":\"HSpacer10283\",\"stylesheets\":[\"\\n:host(.pn-loading):before, .pn-loading:before {\\n  background-color: #c3c3c3;\\n  mask-size: auto calc(min(50%, 400px));\\n  -webkit-mask-size: auto calc(min(50%, 400px));\\n}\",{\"id\":\"d72a5f4d-7774-47fc-abb6-2eab264b9cb0\"},{\"id\":\"a0ea9b14-76ef-445c-8d5b-219b89e3246b\"},{\"id\":\"4248a25e-87b8-4fa5-bf22-3339947880fc\"}],\"margin\":0,\"sizing_mode\":\"stretch_width\",\"align\":\"start\"}},{\"type\":\"object\",\"name\":\"Figure\",\"id\":\"13c7c17a-a567-4faf-a747-278097296a84\",\"attributes\":{\"width\":700,\"height\":300,\"margin\":[5,10],\"sizing_mode\":\"fixed\",\"align\":\"start\",\"x_range\":{\"type\":\"object\",\"name\":\"Range1d\",\"id\":\"407466eb-d3ea-40d6-9e1a-42ab0712c6e3\",\"attributes\":{\"name\":\"recency\",\"tags\":[[[\"recency\",null]],[]],\"start\":-21.17142857142857,\"end\":515.1714285714286,\"reset_start\":-21.17142857142857,\"reset_end\":515.1714285714286}},\"y_range\":{\"type\":\"object\",\"name\":\"Range1d\",\"id\":\"03195052-249f-4ce1-8e36-69ec47b8ee13\",\"attributes\":{\"name\":\"monetary\",\"tags\":[[[\"monetary\",null]],{\"type\":\"map\",\"entries\":[[\"invert_yaxis\",false],[\"autorange\",false]]}],\"start\":8.672644096702083,\"end\":14.03322663243378,\"reset_start\":8.672644096702083,\"reset_end\":14.03322663243378}},\"x_scale\":{\"type\":\"object\",\"name\":\"LinearScale\",\"id\":\"bab7bab8-5056-46e1-885b-ad35883587f6\"},\"y_scale\":{\"type\":\"object\",\"name\":\"LinearScale\",\"id\":\"5371e297-5759-498b-8697-4e728e9e1619\"},\"title\":{\"type\":\"object\",\"name\":\"Title\",\"id\":\"7b9bfc6c-6539-40f8-80ac-55a2b93f0ae9\",\"attributes\":{\"text_color\":\"black\",\"text_font_size\":\"12pt\"}},\"renderers\":[{\"type\":\"object\",\"name\":\"GlyphRenderer\",\"id\":\"632186a4-616d-46f7-a9ec-4fab46ee76c6\",\"attributes\":{\"name\":\"1\",\"data_source\":{\"type\":\"object\",\"name\":\"ColumnDataSource\",\"id\":\"b2f44f70-bcac-469e-9c7b-bfc6700b4ac4\",\"attributes\":{\"selected\":{\"type\":\"object\",\"name\":\"Selection\",\"id\":\"b281f59f-55f5-4037-a21e-6229ab62807c\",\"attributes\":{\"indices\":[],\"line_indices\":[]}},\"selection_policy\":{\"type\":\"object\",\"name\":\"UnionRenderers\",\"id\":\"dbdc6fac-295f-4912-b3c8-f4934d237446\"},\"data\":{\"type\":\"map\",\"entries\":[[\"recency\",{\"type\":\"ndarray\",\"array\":{\"type\":\"bytes\",\"data\":\"twAAALwAAACEAAAApQAAACgAAACnAAAAggAAAC4AAAAMAAAAYQAAAMIAAAC6AAAAqQAAABkAAACDAAAASwAAAEUAAAC1AAAArgAAAIMAAAAOAAAAIQAAAEsAAAA9AAAAwQAAAAAAAABTAAAAxAAAAEQAAADBAAAAxQAAALYAAACXAAAAqQAAABAAAAB9AAAAwQAAALIAAABnAAAAagAAAAcAAAB1AAAAsQAAALQAAAAnAAAAtQAAABgAAABMAAAAaAAAAAABAACkAAAAMgAAADAAAAA3AAAA\"},\"shape\":[54],\"dtype\":\"int32\",\"order\":\"little\"}],[\"monetary\",{\"type\":\"ndarray\",\"array\":{\"type\":\"bytes\",\"data\":\"pn+61XFeJ0Bw2fhQz18nQI7RoAtNZydAq6q/FtXJJkDtoCfkZ+ImQPk9XnGvYyhAwmvNEoQyJ0B/YM9YZhEnQK3kk8E7ECdAJNL2VzU9J0BaR1cMjJMnQPp5aC5dqydA5rfNeq+lJkDhvu66XWYnQDLkC8eISSdAsr4VKBUBJ0CiGQdPruMnQOv2/A0z8CdASn6myBuKJkA8vTcz5XImQOfnmDlLLCtAAdRSXiyXJkBE+Vj2tLYmQO1U+WwkiyZA5mZZuGnFJkAQaw8WiNUnQBCsTHPR1SdANXGnnXxSJ0CvXI67aLolQAN1elpytCZAp0ZN1pZmJ0Dobg1cB+cmQGxjyesfLCdABxNivQ1sKEBdv9O3320mQKrER352HSdASfpfTEBVJ0BSkPEZGvgmQBpcRTxVpSdAVfeKH4YcJ0AVWaRDUrwnQOgdwhhgniZA+Sdo7BCGJkC1V081vm8mQAgunU0lPiZABkZY/mmrJkDWsWNhZVAnQKWqcXk6HyhAooxajIj8JUA+Jcbn/z4nQFjzp6516SVAXU6rVZFTJkCgTlghcKAnQOeAip8VwypA\"},\"shape\":[54],\"dtype\":\"float64\",\"order\":\"little\"}],[\"customer_id\",{\"type\":\"ndarray\",\"array\":{\"type\":\"bytes\",\"data\":\"AQAAAAMAAAAFAAAABgAAAAcAAAAIAAAACQAAAAoAAAALAAAADAAAAA8AAAARAAAAEwAAABUAAAAWAAAAGAAAABsAAAAdAAAAHwAAACAAAAAlAAAAJgAAACcAAAAoAAAAKgAAACsAAAAsAAAALgAAADAAAAAzAAAANQAAADoAAAA9AAAAPgAAAD8AAABAAAAAQQAAAEIAAABDAAAARQAAAEcAAABIAAAASgAAAEsAAABPAAAAUAAAAFEAAABSAAAAUwAAAFQAAABVAAAAWAAAAFoAAABbAAAA\"},\"shape\":[54],\"dtype\":\"int32\",\"order\":\"little\"}],[\"frequency\",{\"type\":\"ndarray\",\"array\":{\"type\":\"bytes\",\"data\":\"REQLbI4Q6D+KO75yNr7rP4o7vnI2vus/REQLbI4Q6D9ERAtsjhDoP4o7vnI2vus/REQLbI4Q6D9ERAtsjhDoP0REC2yOEOg/REQLbI4Q6D9ERAtsjhDoP0REC2yOEOg/REQLbI4Q6D+KO75yNr7rP0REC2yOEOg/REQLbI4Q6D+KO75yNr7rP0REC2yOEOg/REQLbI4Q6D9ERAtsjhDoP/l2ZEfzf/M/REQLbI4Q6D9h8XxHPVrhP0REC2yOEOg/REQLbI4Q6D+KO75yNr7rP4o7vnI2vus/REQLbI4Q6D9ERAtsjhDoP4o7vnI2vus/REQLbI4Q6D9ERAtsjhDoP0REC2yOEOg/KV3S5mQa7j9ERAtsjhDoP0REC2yOEOg/iju+cja+6z9ERAtsjhDoP0REC2yOEOg/REQLbI4Q6D9ERAtsjhDoP0REC2yOEOg/REQLbI4Q6D9ERAtsjhDoP2HxfEc9WuE/REQLbI4Q6D+KO75yNr7rPyld0uZkGu4/REQLbI4Q6D9ERAtsjhDoP0REC2yOEOg/REQLbI4Q6D8pXdLmZBruP6A9N7Rb2PI/\"},\"shape\":[54],\"dtype\":\"float64\",\"order\":\"little\"}],[\"segment\",{\"type\":\"ndarray\",\"array\":{\"type\":\"bytes\",\"data\":\"AQAAAAEAAAABAAAAAQAAAAEAAAABAAAAAQAAAAEAAAABAAAAAQAAAAEAAAABAAAAAQAAAAEAAAABAAAAAQAAAAEAAAABAAAAAQAAAAEAAAABAAAAAQAAAAEAAAABAAAAAQAAAAEAAAABAAAAAQAAAAEAAAABAAAAAQAAAAEAAAABAAAAAQAAAAEAAAABAAAAAQAAAAEAAAABAAAAAQAAAAEAAAABAAAAAQAAAAEAAAABAAAAAQAAAAEAAAABAAAAAQAAAAEAAAABAAAAAQAAAAEAAAABAAAA\"},\"shape\":[54],\"dtype\":\"int32\",\"order\":\"little\"}]]}}},\"view\":{\"type\":\"object\",\"name\":\"CDSView\",\"id\":\"d01cf70d-2ad7-461e-a3fd-dc05d1b22ae2\",\"attributes\":{\"filter\":{\"type\":\"object\",\"name\":\"AllIndices\",\"id\":\"21294210-1a4f-4cbd-9cef-c5a502615d49\"}}},\"glyph\":{\"type\":\"object\",\"name\":\"Scatter\",\"id\":\"a4071b99-0403-407f-b76b-ab1c2940709c\",\"attributes\":{\"tags\":[\"apply_ranges\"],\"x\":{\"type\":\"field\",\"field\":\"recency\"},\"y\":{\"type\":\"field\",\"field\":\"monetary\"},\"size\":{\"type\":\"value\",\"value\":5.477225575051661},\"line_color\":{\"type\":\"value\",\"value\":\"#30a2da\"},\"fill_color\":{\"type\":\"value\",\"value\":\"#30a2da\"},\"hatch_color\":{\"type\":\"value\",\"value\":\"#30a2da\"}}},\"selection_glyph\":{\"type\":\"object\",\"name\":\"Scatter\",\"id\":\"7236dc77-9f18-4140-9d89-f03095459ff9\",\"attributes\":{\"tags\":[\"apply_ranges\"],\"x\":{\"type\":\"field\",\"field\":\"recency\"},\"y\":{\"type\":\"field\",\"field\":\"monetary\"},\"size\":{\"type\":\"value\",\"value\":5.477225575051661},\"angle\":{\"type\":\"value\",\"value\":0.0},\"line_color\":{\"type\":\"value\",\"value\":\"#30a2da\"},\"line_alpha\":{\"type\":\"value\",\"value\":1.0},\"line_width\":{\"type\":\"value\",\"value\":1},\"line_join\":{\"type\":\"value\",\"value\":\"bevel\"},\"line_cap\":{\"type\":\"value\",\"value\":\"butt\"},\"line_dash\":{\"type\":\"value\",\"value\":[]},\"line_dash_offset\":{\"type\":\"value\",\"value\":0},\"fill_color\":{\"type\":\"value\",\"value\":\"#30a2da\"},\"fill_alpha\":{\"type\":\"value\",\"value\":1.0},\"hatch_color\":{\"type\":\"value\",\"value\":\"#30a2da\"},\"hatch_alpha\":{\"type\":\"value\",\"value\":1.0},\"hatch_scale\":{\"type\":\"value\",\"value\":12.0},\"hatch_pattern\":{\"type\":\"value\",\"value\":null},\"hatch_weight\":{\"type\":\"value\",\"value\":1.0},\"marker\":{\"type\":\"value\",\"value\":\"circle\"}}},\"nonselection_glyph\":{\"type\":\"object\",\"name\":\"Scatter\",\"id\":\"d14583bc-bee9-4360-807f-5c2bf7e9bd0c\",\"attributes\":{\"tags\":[\"apply_ranges\"],\"x\":{\"type\":\"field\",\"field\":\"recency\"},\"y\":{\"type\":\"field\",\"field\":\"monetary\"},\"size\":{\"type\":\"value\",\"value\":5.477225575051661},\"line_color\":{\"type\":\"value\",\"value\":\"#30a2da\"},\"line_alpha\":{\"type\":\"value\",\"value\":0.1},\"fill_color\":{\"type\":\"value\",\"value\":\"#30a2da\"},\"fill_alpha\":{\"type\":\"value\",\"value\":0.1},\"hatch_color\":{\"type\":\"value\",\"value\":\"#30a2da\"},\"hatch_alpha\":{\"type\":\"value\",\"value\":0.1}}},\"muted_glyph\":{\"type\":\"object\",\"name\":\"Scatter\",\"id\":\"ccb4ef2d-f713-4461-82a1-1c9580bfba9c\",\"attributes\":{\"tags\":[\"apply_ranges\"],\"x\":{\"type\":\"field\",\"field\":\"recency\"},\"y\":{\"type\":\"field\",\"field\":\"monetary\"},\"size\":{\"type\":\"value\",\"value\":5.477225575051661},\"line_color\":{\"type\":\"value\",\"value\":\"#30a2da\"},\"line_alpha\":{\"type\":\"value\",\"value\":0.2},\"fill_color\":{\"type\":\"value\",\"value\":\"#30a2da\"},\"fill_alpha\":{\"type\":\"value\",\"value\":0.2},\"hatch_color\":{\"type\":\"value\",\"value\":\"#30a2da\"},\"hatch_alpha\":{\"type\":\"value\",\"value\":0.2}}}}},{\"type\":\"object\",\"name\":\"GlyphRenderer\",\"id\":\"fbd3ef9a-f6e5-461b-92f6-b37144c6bbc2\",\"attributes\":{\"name\":\"0\",\"data_source\":{\"type\":\"object\",\"name\":\"ColumnDataSource\",\"id\":\"d1c197f3-13b6-4820-84cf-2f0c29ecf0f6\",\"attributes\":{\"selected\":{\"type\":\"object\",\"name\":\"Selection\",\"id\":\"4fffcbc1-6753-4162-bc95-dc40ecc287ae\",\"attributes\":{\"indices\":[],\"line_indices\":[]}},\"selection_policy\":{\"type\":\"object\",\"name\":\"UnionRenderers\",\"id\":\"d2fa8cd1-e82b-40ec-8013-11342557ddf7\"},\"data\":{\"type\":\"map\",\"entries\":[[\"recency\",{\"type\":\"ndarray\",\"array\":{\"type\":\"bytes\",\"data\":\"1QAAALkBAAC9AAAA3wAAAI8BAADDAAAADQEAAA4BAAAsAQAAdgEAAHoBAAAEAQAA1wAAAPkAAAClAAAA2gEAAKgBAAA/AQAA2AAAAGIAAADFAAAAzwAAANYAAAC+AQAAfwAAAK0AAAD6AAAAbAEAAO4BAADhAQAA8wAAAM4BAAD5AAAAzwAAAIIBAADaAAAA9AAAAMMBAAA=\"},\"shape\":[38],\"dtype\":\"int32\",\"order\":\"little\"}],[\"monetary\",{\"type\":\"ndarray\",\"array\":{\"type\":\"bytes\",\"data\":\"XuD1sjAIJ0Ay64rgTL0nQAoxGDKJniVASgOoj/TRJUBaOSMYLz4mQHpuo+A90SRAU6WfuWKPJkCno1kn1XAmQNo6nUA2NiZAs1qISt79JECFyvwd/JAmQA+FrAcfWidAIaKDw3A9JkDQkr1HjuskQPSfrYpJXiRAWTSxx/x5JUCJL3bmDqAlQGxOdLzqpSVAgRo/BCgWJ0BPx8ipHD0iQJ7V2Jn9iCZA5ncrufV0JkBT0kOTwLYmQAPwzE0xwiZA9dvL7cfVJEBTGEy/xy8kQEpdaNSU5yZA5S2914gFJUAX3RpZWo8lQJNdwjzR+yRAmDypXJLtJUAqx/Im+KUlQDMWUNSY6CVAGtHowKkJJ0BXHzgDQlYmQJolQRfCKCZAedkB2wjtJECmUpmGB0kmQA==\"},\"shape\":[38],\"dtype\":\"float64\",\"order\":\"little\"}],[\"customer_id\",{\"type\":\"ndarray\",\"array\":{\"type\":\"bytes\",\"data\":\"AgAAAAQAAAANAAAADgAAABAAAAASAAAAFAAAABcAAAAZAAAAGgAAABwAAAAeAAAAIQAAACIAAAAjAAAAJAAAACkAAAAtAAAALwAAADEAAAAyAAAANAAAADYAAAA3AAAAOAAAADkAAAA7AAAAPAAAAEQAAABGAAAASQAAAEwAAABNAAAATgAAAFYAAABXAAAAWQAAAFwAAAA=\"},\"shape\":[38],\"dtype\":\"int32\",\"order\":\"little\"}],[\"frequency\",{\"type\":\"ndarray\",\"array\":{\"type\":\"bytes\",\"data\":\"YfF8Rz1a4T9ERAtsjhDoP0REC2yOEOg/YfF8Rz1a4T9h8XxHPVrhP2HxfEc9WuE/YfF8Rz1a4T9h8XxHPVrhP2HxfEc9WuE/YfF8Rz1a4T9h8XxHPVrhP2HxfEc9WuE/YfF8Rz1a4T9h8XxHPVrhP0REC2yOEOg/YfF8Rz1a4T9h8XxHPVrhP2HxfEc9WuE/YfF8Rz1a4T9h8XxHPVrhP2HxfEc9WuE/YfF8Rz1a4T9h8XxHPVrhP2HxfEc9WuE/iju+cja+6z9ERAtsjhDoP2HxfEc9WuE/YfF8Rz1a4T9h8XxHPVrhP2HxfEc9WuE/YfF8Rz1a4T9h8XxHPVrhP2HxfEc9WuE/YfF8Rz1a4T9h8XxHPVrhP2HxfEc9WuE/AAAAAAAAAABh8XxHPVrhPw==\"},\"shape\":[38],\"dtype\":\"float64\",\"order\":\"little\"}],[\"segment\",{\"type\":\"ndarray\",\"array\":{\"type\":\"bytes\",\"data\":\"AAAAAAAAAAAAAAAAAAAAAAAAAAAAAAAAAAAAAAAAAAAAAAAAAAAAAAAAAAAAAAAAAAAAAAAAAAAAAAAAAAAAAAAAAAAAAAAAAAAAAAAAAAAAAAAAAAAAAAAAAAAAAAAAAAAAAAAAAAAAAAAAAAAAAAAAAAAAAAAAAAAAAAAAAAAAAAAAAAAAAAAAAAAAAAAAAAAAAAAAAAA=\"},\"shape\":[38],\"dtype\":\"int32\",\"order\":\"little\"}]]}}},\"view\":{\"type\":\"object\",\"name\":\"CDSView\",\"id\":\"a22798a0-dfdf-49ff-b012-40412455b88b\",\"attributes\":{\"filter\":{\"type\":\"object\",\"name\":\"AllIndices\",\"id\":\"29c2e4e9-5e17-4797-821c-8e712a2ae27c\"}}},\"glyph\":{\"type\":\"object\",\"name\":\"Scatter\",\"id\":\"301d0eb2-e1ba-4e69-acf3-8e0a583b937a\",\"attributes\":{\"tags\":[\"apply_ranges\"],\"x\":{\"type\":\"field\",\"field\":\"recency\"},\"y\":{\"type\":\"field\",\"field\":\"monetary\"},\"size\":{\"type\":\"value\",\"value\":5.477225575051661},\"line_color\":{\"type\":\"value\",\"value\":\"#fc4f30\"},\"fill_color\":{\"type\":\"value\",\"value\":\"#fc4f30\"},\"hatch_color\":{\"type\":\"value\",\"value\":\"#fc4f30\"}}},\"selection_glyph\":{\"type\":\"object\",\"name\":\"Scatter\",\"id\":\"22e63887-1064-46c9-9db3-7f2001fb809f\",\"attributes\":{\"tags\":[\"apply_ranges\"],\"x\":{\"type\":\"field\",\"field\":\"recency\"},\"y\":{\"type\":\"field\",\"field\":\"monetary\"},\"size\":{\"type\":\"value\",\"value\":5.477225575051661},\"angle\":{\"type\":\"value\",\"value\":0.0},\"line_color\":{\"type\":\"value\",\"value\":\"#fc4f30\"},\"line_alpha\":{\"type\":\"value\",\"value\":1.0},\"line_width\":{\"type\":\"value\",\"value\":1},\"line_join\":{\"type\":\"value\",\"value\":\"bevel\"},\"line_cap\":{\"type\":\"value\",\"value\":\"butt\"},\"line_dash\":{\"type\":\"value\",\"value\":[]},\"line_dash_offset\":{\"type\":\"value\",\"value\":0},\"fill_color\":{\"type\":\"value\",\"value\":\"#fc4f30\"},\"fill_alpha\":{\"type\":\"value\",\"value\":1.0},\"hatch_color\":{\"type\":\"value\",\"value\":\"#fc4f30\"},\"hatch_alpha\":{\"type\":\"value\",\"value\":1.0},\"hatch_scale\":{\"type\":\"value\",\"value\":12.0},\"hatch_pattern\":{\"type\":\"value\",\"value\":null},\"hatch_weight\":{\"type\":\"value\",\"value\":1.0},\"marker\":{\"type\":\"value\",\"value\":\"circle\"}}},\"nonselection_glyph\":{\"type\":\"object\",\"name\":\"Scatter\",\"id\":\"f3805e64-dd55-4c18-9f2b-54650dfa4b37\",\"attributes\":{\"tags\":[\"apply_ranges\"],\"x\":{\"type\":\"field\",\"field\":\"recency\"},\"y\":{\"type\":\"field\",\"field\":\"monetary\"},\"size\":{\"type\":\"value\",\"value\":5.477225575051661},\"line_color\":{\"type\":\"value\",\"value\":\"#fc4f30\"},\"line_alpha\":{\"type\":\"value\",\"value\":0.1},\"fill_color\":{\"type\":\"value\",\"value\":\"#fc4f30\"},\"fill_alpha\":{\"type\":\"value\",\"value\":0.1},\"hatch_color\":{\"type\":\"value\",\"value\":\"#fc4f30\"},\"hatch_alpha\":{\"type\":\"value\",\"value\":0.1}}},\"muted_glyph\":{\"type\":\"object\",\"name\":\"Scatter\",\"id\":\"7b63347f-f0ce-42e2-b0cf-25218495eae9\",\"attributes\":{\"tags\":[\"apply_ranges\"],\"x\":{\"type\":\"field\",\"field\":\"recency\"},\"y\":{\"type\":\"field\",\"field\":\"monetary\"},\"size\":{\"type\":\"value\",\"value\":5.477225575051661},\"line_color\":{\"type\":\"value\",\"value\":\"#fc4f30\"},\"line_alpha\":{\"type\":\"value\",\"value\":0.2},\"fill_color\":{\"type\":\"value\",\"value\":\"#fc4f30\"},\"fill_alpha\":{\"type\":\"value\",\"value\":0.2},\"hatch_color\":{\"type\":\"value\",\"value\":\"#fc4f30\"},\"hatch_alpha\":{\"type\":\"value\",\"value\":0.2}}}}}],\"toolbar\":{\"type\":\"object\",\"name\":\"Toolbar\",\"id\":\"06cc9f77-f1c8-49dc-a5ad-06dcdf4fa943\",\"attributes\":{\"tools\":[{\"type\":\"object\",\"name\":\"WheelZoomTool\",\"id\":\"07b75b7b-1437-4470-b60a-57c569edd719\",\"attributes\":{\"tags\":[\"hv_created\"],\"renderers\":\"auto\",\"zoom_together\":\"none\"}},{\"type\":\"object\",\"name\":\"HoverTool\",\"id\":\"12015e4b-92b3-43fe-89ea-e4df1a9172ae\",\"attributes\":{\"tags\":[\"hv_created\"],\"renderers\":[{\"id\":\"632186a4-616d-46f7-a9ec-4fab46ee76c6\"},{\"id\":\"fbd3ef9a-f6e5-461b-92f6-b37144c6bbc2\"}],\"tooltips\":[[\"segment\",\"@{segment}\"],[\"recency\",\"@{recency}\"],[\"monetary\",\"@{monetary}\"],[\"customer_id\",\"@{customer_id}\"],[\"frequency\",\"@{frequency}\"]]}},{\"type\":\"object\",\"name\":\"SaveTool\",\"id\":\"95f880fe-d1c4-41b9-b482-1971397699ee\"},{\"type\":\"object\",\"name\":\"PanTool\",\"id\":\"1aa0a131-4122-4c4d-96c8-6f4a0f197bf6\"},{\"type\":\"object\",\"name\":\"BoxZoomTool\",\"id\":\"d7f951cf-80f1-4f95-a41b-d83231f9407b\",\"attributes\":{\"overlay\":{\"type\":\"object\",\"name\":\"BoxAnnotation\",\"id\":\"816e8e49-cfac-4a2c-adc0-5dd541e8178f\",\"attributes\":{\"syncable\":false,\"line_color\":\"black\",\"line_alpha\":1.0,\"line_width\":2,\"line_dash\":[4,4],\"fill_color\":\"lightgrey\",\"fill_alpha\":0.5,\"level\":\"overlay\",\"visible\":false,\"left\":{\"type\":\"number\",\"value\":\"nan\"},\"right\":{\"type\":\"number\",\"value\":\"nan\"},\"top\":{\"type\":\"number\",\"value\":\"nan\"},\"bottom\":{\"type\":\"number\",\"value\":\"nan\"},\"left_units\":\"canvas\",\"right_units\":\"canvas\",\"top_units\":\"canvas\",\"bottom_units\":\"canvas\",\"handles\":{\"type\":\"object\",\"name\":\"BoxInteractionHandles\",\"id\":\"abb6e169-100a-43d5-8a02-488ba40925f6\",\"attributes\":{\"all\":{\"type\":\"object\",\"name\":\"AreaVisuals\",\"id\":\"b367f54c-fa47-445b-9e46-e3830f6142e2\",\"attributes\":{\"fill_color\":\"white\",\"hover_fill_color\":\"lightgray\"}}}}}}}},{\"type\":\"object\",\"name\":\"ResetTool\",\"id\":\"c547974f-3ab1-49ae-83c1-d4e057f166ce\"}],\"active_drag\":{\"id\":\"1aa0a131-4122-4c4d-96c8-6f4a0f197bf6\"},\"active_scroll\":{\"id\":\"07b75b7b-1437-4470-b60a-57c569edd719\"}}},\"left\":[{\"type\":\"object\",\"name\":\"LinearAxis\",\"id\":\"91a67285-412d-4217-9984-a4a76e6e7978\",\"attributes\":{\"ticker\":{\"type\":\"object\",\"name\":\"BasicTicker\",\"id\":\"d9af491c-561f-476b-9fda-eaab66537cd3\",\"attributes\":{\"mantissas\":[1,2,5]}},\"formatter\":{\"type\":\"object\",\"name\":\"BasicTickFormatter\",\"id\":\"345e2edb-fe3c-4c12-8d36-75031a078299\"},\"axis_label\":\"monetary\",\"major_label_policy\":{\"type\":\"object\",\"name\":\"AllLabels\",\"id\":\"2d0f50e9-a524-4633-ba7c-0288ba2ed8c6\"}}}],\"right\":[{\"type\":\"object\",\"name\":\"Legend\",\"id\":\"36374dea-72d9-45a2-af79-54f7e9d8184c\",\"attributes\":{\"location\":[0,0],\"title\":\"segment\",\"click_policy\":\"mute\",\"items\":[{\"type\":\"object\",\"name\":\"LegendItem\",\"id\":\"c40c9dce-5ad9-40bf-b75c-a9afd4cf729b\",\"attributes\":{\"label\":{\"type\":\"value\",\"value\":\"1\"},\"renderers\":[{\"id\":\"632186a4-616d-46f7-a9ec-4fab46ee76c6\"}]}},{\"type\":\"object\",\"name\":\"LegendItem\",\"id\":\"17b31e19-9a65-44fe-9ff1-9415b64cfd75\",\"attributes\":{\"label\":{\"type\":\"value\",\"value\":\"0\"},\"renderers\":[{\"id\":\"fbd3ef9a-f6e5-461b-92f6-b37144c6bbc2\"}]}}]}}],\"below\":[{\"type\":\"object\",\"name\":\"LinearAxis\",\"id\":\"38acb8ac-6f84-4ccd-99e5-2448a2a88e68\",\"attributes\":{\"ticker\":{\"type\":\"object\",\"name\":\"BasicTicker\",\"id\":\"5e58c240-8f2f-4a50-a886-1374dde81812\",\"attributes\":{\"mantissas\":[1,2,5]}},\"formatter\":{\"type\":\"object\",\"name\":\"BasicTickFormatter\",\"id\":\"6d9762ee-41bf-49a5-a3ba-645e633a9e53\"},\"axis_label\":\"recency\",\"major_label_policy\":{\"type\":\"object\",\"name\":\"AllLabels\",\"id\":\"de233cac-4413-49f8-b592-46e3e68b8832\"}}}],\"center\":[{\"type\":\"object\",\"name\":\"Grid\",\"id\":\"633ef2ab-c019-4871-9a4c-9617006901a8\",\"attributes\":{\"axis\":{\"id\":\"38acb8ac-6f84-4ccd-99e5-2448a2a88e68\"},\"grid_line_color\":null}},{\"type\":\"object\",\"name\":\"Grid\",\"id\":\"ae627d55-adb8-4427-9cdf-7a4822ee5f11\",\"attributes\":{\"dimension\":1,\"axis\":{\"id\":\"91a67285-412d-4217-9984-a4a76e6e7978\"},\"grid_line_color\":null}}],\"min_border_top\":10,\"min_border_bottom\":10,\"min_border_left\":10,\"min_border_right\":10,\"output_backend\":\"webgl\"}},{\"type\":\"object\",\"name\":\"Spacer\",\"id\":\"b4f96465-9d94-41c4-ad37-40ae871baadc\",\"attributes\":{\"name\":\"HSpacer10284\",\"stylesheets\":[\"\\n:host(.pn-loading):before, .pn-loading:before {\\n  background-color: #c3c3c3;\\n  mask-size: auto calc(min(50%, 400px));\\n  -webkit-mask-size: auto calc(min(50%, 400px));\\n}\",{\"id\":\"d72a5f4d-7774-47fc-abb6-2eab264b9cb0\"},{\"id\":\"a0ea9b14-76ef-445c-8d5b-219b89e3246b\"},{\"id\":\"4248a25e-87b8-4fa5-bf22-3339947880fc\"}],\"margin\":0,\"sizing_mode\":\"stretch_width\",\"align\":\"start\"}}]}}],\"defs\":[{\"type\":\"model\",\"name\":\"ReactiveHTML1\"},{\"type\":\"model\",\"name\":\"FlexBox1\",\"properties\":[{\"name\":\"align_content\",\"kind\":\"Any\",\"default\":\"flex-start\"},{\"name\":\"align_items\",\"kind\":\"Any\",\"default\":\"flex-start\"},{\"name\":\"flex_direction\",\"kind\":\"Any\",\"default\":\"row\"},{\"name\":\"flex_wrap\",\"kind\":\"Any\",\"default\":\"wrap\"},{\"name\":\"gap\",\"kind\":\"Any\",\"default\":\"\"},{\"name\":\"justify_content\",\"kind\":\"Any\",\"default\":\"flex-start\"}]},{\"type\":\"model\",\"name\":\"FloatPanel1\",\"properties\":[{\"name\":\"config\",\"kind\":\"Any\",\"default\":{\"type\":\"map\"}},{\"name\":\"contained\",\"kind\":\"Any\",\"default\":true},{\"name\":\"position\",\"kind\":\"Any\",\"default\":\"right-top\"},{\"name\":\"offsetx\",\"kind\":\"Any\",\"default\":null},{\"name\":\"offsety\",\"kind\":\"Any\",\"default\":null},{\"name\":\"theme\",\"kind\":\"Any\",\"default\":\"primary\"},{\"name\":\"status\",\"kind\":\"Any\",\"default\":\"normalized\"}]},{\"type\":\"model\",\"name\":\"GridStack1\",\"properties\":[{\"name\":\"mode\",\"kind\":\"Any\",\"default\":\"warn\"},{\"name\":\"ncols\",\"kind\":\"Any\",\"default\":null},{\"name\":\"nrows\",\"kind\":\"Any\",\"default\":null},{\"name\":\"allow_resize\",\"kind\":\"Any\",\"default\":true},{\"name\":\"allow_drag\",\"kind\":\"Any\",\"default\":true},{\"name\":\"state\",\"kind\":\"Any\",\"default\":[]}]},{\"type\":\"model\",\"name\":\"drag1\",\"properties\":[{\"name\":\"slider_width\",\"kind\":\"Any\",\"default\":5},{\"name\":\"slider_color\",\"kind\":\"Any\",\"default\":\"black\"},{\"name\":\"value\",\"kind\":\"Any\",\"default\":50}]},{\"type\":\"model\",\"name\":\"click1\",\"properties\":[{\"name\":\"terminal_output\",\"kind\":\"Any\",\"default\":\"\"},{\"name\":\"debug_name\",\"kind\":\"Any\",\"default\":\"\"},{\"name\":\"clears\",\"kind\":\"Any\",\"default\":0}]},{\"type\":\"model\",\"name\":\"FastWrapper1\",\"properties\":[{\"name\":\"object\",\"kind\":\"Any\",\"default\":null},{\"name\":\"style\",\"kind\":\"Any\",\"default\":null}]},{\"type\":\"model\",\"name\":\"NotificationAreaBase1\",\"properties\":[{\"name\":\"js_events\",\"kind\":\"Any\",\"default\":{\"type\":\"map\"}},{\"name\":\"position\",\"kind\":\"Any\",\"default\":\"bottom-right\"},{\"name\":\"_clear\",\"kind\":\"Any\",\"default\":0}]},{\"type\":\"model\",\"name\":\"NotificationArea1\",\"properties\":[{\"name\":\"js_events\",\"kind\":\"Any\",\"default\":{\"type\":\"map\"}},{\"name\":\"notifications\",\"kind\":\"Any\",\"default\":[]},{\"name\":\"position\",\"kind\":\"Any\",\"default\":\"bottom-right\"},{\"name\":\"_clear\",\"kind\":\"Any\",\"default\":0},{\"name\":\"types\",\"kind\":\"Any\",\"default\":[{\"type\":\"map\",\"entries\":[[\"type\",\"warning\"],[\"background\",\"#ffc107\"],[\"icon\",{\"type\":\"map\",\"entries\":[[\"className\",\"fas fa-exclamation-triangle\"],[\"tagName\",\"i\"],[\"color\",\"white\"]]}]]},{\"type\":\"map\",\"entries\":[[\"type\",\"info\"],[\"background\",\"#007bff\"],[\"icon\",{\"type\":\"map\",\"entries\":[[\"className\",\"fas fa-info-circle\"],[\"tagName\",\"i\"],[\"color\",\"white\"]]}]]}]}]},{\"type\":\"model\",\"name\":\"Notification\",\"properties\":[{\"name\":\"background\",\"kind\":\"Any\",\"default\":null},{\"name\":\"duration\",\"kind\":\"Any\",\"default\":3000},{\"name\":\"icon\",\"kind\":\"Any\",\"default\":null},{\"name\":\"message\",\"kind\":\"Any\",\"default\":\"\"},{\"name\":\"notification_type\",\"kind\":\"Any\",\"default\":null},{\"name\":\"_destroyed\",\"kind\":\"Any\",\"default\":false}]},{\"type\":\"model\",\"name\":\"TemplateActions1\",\"properties\":[{\"name\":\"open_modal\",\"kind\":\"Any\",\"default\":0},{\"name\":\"close_modal\",\"kind\":\"Any\",\"default\":0}]},{\"type\":\"model\",\"name\":\"BootstrapTemplateActions1\",\"properties\":[{\"name\":\"open_modal\",\"kind\":\"Any\",\"default\":0},{\"name\":\"close_modal\",\"kind\":\"Any\",\"default\":0}]},{\"type\":\"model\",\"name\":\"TemplateEditor1\",\"properties\":[{\"name\":\"layout\",\"kind\":\"Any\",\"default\":[]}]},{\"type\":\"model\",\"name\":\"MaterialTemplateActions1\",\"properties\":[{\"name\":\"open_modal\",\"kind\":\"Any\",\"default\":0},{\"name\":\"close_modal\",\"kind\":\"Any\",\"default\":0}]},{\"type\":\"model\",\"name\":\"ReactiveESM1\"},{\"type\":\"model\",\"name\":\"JSComponent1\"},{\"type\":\"model\",\"name\":\"ReactComponent1\"},{\"type\":\"model\",\"name\":\"AnyWidgetComponent1\"},{\"type\":\"model\",\"name\":\"request_value1\",\"properties\":[{\"name\":\"fill\",\"kind\":\"Any\",\"default\":\"none\"},{\"name\":\"_synced\",\"kind\":\"Any\",\"default\":null},{\"name\":\"_request_sync\",\"kind\":\"Any\",\"default\":0}]}]}};\n",
       "  var render_items = [{\"docid\":\"b7f37523-7edc-47c2-ae07-3b7143114841\",\"roots\":{\"8e5ec645-abf7-4e1f-85b8-5c9f257d4be6\":\"a38f35fd-886b-4157-ae76-dafb82b24135\"},\"root_ids\":[\"8e5ec645-abf7-4e1f-85b8-5c9f257d4be6\"]}];\n",
       "  var docs = Object.values(docs_json)\n",
       "  if (!docs) {\n",
       "    return\n",
       "  }\n",
       "  const py_version = docs[0].version.replace('rc', '-rc.').replace('.dev', '-dev.')\n",
       "  async function embed_document(root) {\n",
       "    var Bokeh = get_bokeh(root)\n",
       "    await Bokeh.embed.embed_items_notebook(docs_json, render_items);\n",
       "    for (const render_item of render_items) {\n",
       "      for (const root_id of render_item.root_ids) {\n",
       "\tconst id_el = document.getElementById(root_id)\n",
       "\tif (id_el.children.length && id_el.children[0].hasAttribute('data-root-id')) {\n",
       "\t  const root_el = id_el.children[0]\n",
       "\t  root_el.id = root_el.id + '-rendered'\n",
       "\t  for (const child of root_el.children) {\n",
       "            // Ensure JupyterLab does not capture keyboard shortcuts\n",
       "            // see: https://jupyterlab.readthedocs.io/en/4.1.x/extension/notebook.html#keyboard-interaction-model\n",
       "\t    child.setAttribute('data-lm-suppress-shortcuts', 'true')\n",
       "\t  }\n",
       "\t}\n",
       "      }\n",
       "    }\n",
       "  }\n",
       "  function get_bokeh(root) {\n",
       "    if (root.Bokeh === undefined) {\n",
       "      return null\n",
       "    } else if (root.Bokeh.version !== py_version) {\n",
       "      if (root.Bokeh.versions === undefined || !root.Bokeh.versions.has(py_version)) {\n",
       "\treturn null\n",
       "      }\n",
       "      return root.Bokeh.versions.get(py_version);\n",
       "    } else if (root.Bokeh.version === py_version) {\n",
       "      return root.Bokeh\n",
       "    }\n",
       "    return null\n",
       "  }\n",
       "  function is_loaded(root) {\n",
       "    var Bokeh = get_bokeh(root)\n",
       "    return (Bokeh != null && Bokeh.Panel !== undefined)\n",
       "  }\n",
       "  if (is_loaded(root)) {\n",
       "    embed_document(root);\n",
       "  } else {\n",
       "    var attempts = 0;\n",
       "    var timer = setInterval(function(root) {\n",
       "      if (is_loaded(root)) {\n",
       "        clearInterval(timer);\n",
       "        embed_document(root);\n",
       "      } else if (document.readyState == \"complete\") {\n",
       "        attempts++;\n",
       "        if (attempts > 200) {\n",
       "          clearInterval(timer);\n",
       "\t  var Bokeh = get_bokeh(root)\n",
       "\t  if (Bokeh == null || Bokeh.Panel == null) {\n",
       "            console.warn(\"Panel: ERROR: Unable to run Panel code because Bokeh or Panel library is missing\");\n",
       "\t  } else {\n",
       "\t    console.warn(\"Panel: WARNING: Attempting to render but not all required libraries could be resolved.\")\n",
       "\t    embed_document(root)\n",
       "\t  }\n",
       "        }\n",
       "      }\n",
       "    }, 25, root)\n",
       "  }\n",
       "})(window);</script>"
      ],
      "text/plain": [
       ":NdOverlay   [segment]\n",
       "   :Scatter   [recency]   (monetary,customer_id,frequency,segment)"
      ]
     },
     "metadata": {
      "application/vnd.holoviews_exec.v0+json": {
       "id": "8e5ec645-abf7-4e1f-85b8-5c9f257d4be6"
      }
     },
     "output_type": "display_data"
    }
   ],
   "source": [
    "# select best k (3 or 4) but include 2 and 5 just in case\n",
    "k_options = [2,3,4,5]\n",
    "x_val = 'recency'\n",
    "y_val = 'monetary'\n",
    "\n",
    "\n",
    "# get segments for both metrics\n",
    "print('SILHOUETTE SCORE'.center(150, '-'))\n",
    "s_segments_df, s_segments_plot = get_k_means_segments(\n",
    "    scaled_data=scaled_rfm_df, og_data=transformed_rfm_df, \n",
    "    k_values=k_options, metric='silhouette', x_val=x_val, y_val=y_val\n",
    ")\n",
    "\n",
    "print('CALINSKI HARABASZ SCORE'.center(150, '-'))\n",
    "ch_segments_df, ch_segments_plot = get_k_means_segments(\n",
    "    scaled_data=scaled_rfm_df, og_data=transformed_rfm_df, \n",
    "    k_values=k_options, metric='ch_score', x_val=x_val, y_val=y_val\n",
    ")"
   ]
  },
  {
   "cell_type": "markdown",
   "metadata": {},
   "source": [
    "## Without multicollinearity (only monetary or frequency)"
   ]
  },
  {
   "cell_type": "markdown",
   "metadata": {},
   "source": [
    "### Recency & Monetary"
   ]
  },
  {
   "cell_type": "code",
   "execution_count": 111,
   "metadata": {},
   "outputs": [
    {
     "data": {},
     "metadata": {},
     "output_type": "display_data"
    },
    {
     "data": {
      "application/vnd.holoviews_exec.v0+json": "",
      "text/html": [
       "<div id='1ecdcc8d-c2a7-4b44-8483-cfdb157c7d8a'>\n",
       "  <div id=\"e2696280-fb67-48cd-9f5b-ac2bc6f36aee\" data-root-id=\"1ecdcc8d-c2a7-4b44-8483-cfdb157c7d8a\" style=\"display: contents;\"></div>\n",
       "</div>\n",
       "<script type=\"application/javascript\">(function(root) {\n",
       "  var docs_json = {\"d001ef04-28d6-429f-8661-10e8b2e317d0\":{\"version\":\"3.5.2\",\"title\":\"Bokeh Application\",\"roots\":[{\"type\":\"object\",\"name\":\"Row\",\"id\":\"1ecdcc8d-c2a7-4b44-8483-cfdb157c7d8a\",\"attributes\":{\"name\":\"Row10363\",\"tags\":[\"embedded\"],\"stylesheets\":[\"\\n:host(.pn-loading):before, .pn-loading:before {\\n  background-color: #c3c3c3;\\n  mask-size: auto calc(min(50%, 400px));\\n  -webkit-mask-size: auto calc(min(50%, 400px));\\n}\",{\"type\":\"object\",\"name\":\"ImportedStyleSheet\",\"id\":\"1746514f-f31a-498c-8662-1512672b0869\",\"attributes\":{\"url\":\"https://cdn.holoviz.org/panel/1.5.3/dist/css/loading.css\"}},{\"type\":\"object\",\"name\":\"ImportedStyleSheet\",\"id\":\"f7cad02f-d674-4357-8775-bb09ae8aabfc\",\"attributes\":{\"url\":\"https://cdn.holoviz.org/panel/1.5.3/dist/css/listpanel.css\"}},{\"type\":\"object\",\"name\":\"ImportedStyleSheet\",\"id\":\"4f859ed4-a118-431f-a352-43cce008aaa4\",\"attributes\":{\"url\":\"https://cdn.holoviz.org/panel/1.5.3/dist/bundled/theme/default.css\"}},{\"type\":\"object\",\"name\":\"ImportedStyleSheet\",\"id\":\"ae436719-ebc0-46ad-a58f-e890d58afa96\",\"attributes\":{\"url\":\"https://cdn.holoviz.org/panel/1.5.3/dist/bundled/theme/native.css\"}}],\"min_width\":700,\"margin\":0,\"sizing_mode\":\"stretch_width\",\"align\":\"start\",\"children\":[{\"type\":\"object\",\"name\":\"Spacer\",\"id\":\"ce3e2bab-4be6-4dd7-a10f-176718725034\",\"attributes\":{\"name\":\"HSpacer10367\",\"stylesheets\":[\"\\n:host(.pn-loading):before, .pn-loading:before {\\n  background-color: #c3c3c3;\\n  mask-size: auto calc(min(50%, 400px));\\n  -webkit-mask-size: auto calc(min(50%, 400px));\\n}\",{\"id\":\"1746514f-f31a-498c-8662-1512672b0869\"},{\"id\":\"4f859ed4-a118-431f-a352-43cce008aaa4\"},{\"id\":\"ae436719-ebc0-46ad-a58f-e890d58afa96\"}],\"margin\":0,\"sizing_mode\":\"stretch_width\",\"align\":\"start\"}},{\"type\":\"object\",\"name\":\"Figure\",\"id\":\"ea089080-b84e-4334-9708-5b969e02059f\",\"attributes\":{\"width\":700,\"height\":300,\"margin\":[5,10],\"sizing_mode\":\"fixed\",\"align\":\"start\",\"x_range\":{\"type\":\"object\",\"name\":\"Range1d\",\"id\":\"a92c4525-bec5-4e6b-8e27-13d071511cc2\",\"attributes\":{\"name\":\"k\",\"tags\":[[[\"k\",null]],[]],\"start\":1.0,\"end\":10.0,\"reset_start\":1.0,\"reset_end\":10.0}},\"y_range\":{\"type\":\"object\",\"name\":\"Range1d\",\"id\":\"fb620b6f-dda2-40e4-9034-8ab7bd322d30\",\"attributes\":{\"name\":\"inertia\",\"tags\":[[[\"inertia\",null]],{\"type\":\"map\",\"entries\":[[\"invert_yaxis\",false],[\"autorange\",false]]}],\"start\":-2.024364882190815,\"end\":187.86214161288453,\"reset_start\":-2.024364882190815,\"reset_end\":187.86214161288453}},\"x_scale\":{\"type\":\"object\",\"name\":\"LinearScale\",\"id\":\"73bd53ee-69c2-49f1-bbbc-656f6cbcb09e\"},\"y_scale\":{\"type\":\"object\",\"name\":\"LinearScale\",\"id\":\"065e08f6-61b4-4da4-8ad6-849934cca7d2\"},\"title\":{\"type\":\"object\",\"name\":\"Title\",\"id\":\"7fe897a2-7f3e-47ea-8d3a-b1056a4c8909\",\"attributes\":{\"text_color\":\"black\",\"text_font_size\":\"12pt\"}},\"renderers\":[{\"type\":\"object\",\"name\":\"GlyphRenderer\",\"id\":\"8c0de867-0dce-4a3d-901e-fa3abfa16f9a\",\"attributes\":{\"data_source\":{\"type\":\"object\",\"name\":\"ColumnDataSource\",\"id\":\"ebce5ed5-fde4-4253-a914-f142d35664c6\",\"attributes\":{\"selected\":{\"type\":\"object\",\"name\":\"Selection\",\"id\":\"7be1446d-aa92-4808-9351-56c19d5411b1\",\"attributes\":{\"indices\":[],\"line_indices\":[]}},\"selection_policy\":{\"type\":\"object\",\"name\":\"UnionRenderers\",\"id\":\"7fc06d00-caa0-432d-b619-30f5dd9bed1d\"},\"data\":{\"type\":\"map\",\"entries\":[[\"k\",{\"type\":\"ndarray\",\"array\":{\"type\":\"bytes\",\"data\":\"AQAAAAIAAAADAAAABAAAAAUAAAAGAAAABwAAAAgAAAAJAAAACgAAAA==\"},\"shape\":[10],\"dtype\":\"int32\",\"order\":\"little\"}],[\"inertia\",{\"type\":\"ndarray\",\"array\":{\"type\":\"bytes\",\"data\":\"EsbEeTmBZUAryUdWcZFYQB9fPYHVelJApCBAAcKLSkDgNGpcAg5DQEwKhjt9DD5ApzX8ofJMOUC0I87SHME0QJvKDzByTDBAqfoKdlmZK0A=\"},\"shape\":[10],\"dtype\":\"float64\",\"order\":\"little\"}]]}}},\"view\":{\"type\":\"object\",\"name\":\"CDSView\",\"id\":\"83eca502-6ff2-4ecc-9397-ef2efadb41b7\",\"attributes\":{\"filter\":{\"type\":\"object\",\"name\":\"AllIndices\",\"id\":\"13d70508-c7ce-41c3-9927-4ec72647eac5\"}}},\"glyph\":{\"type\":\"object\",\"name\":\"Line\",\"id\":\"925660d8-1de4-44d1-a950-5f48f5f5844e\",\"attributes\":{\"tags\":[\"apply_ranges\"],\"x\":{\"type\":\"field\",\"field\":\"k\"},\"y\":{\"type\":\"field\",\"field\":\"inertia\"},\"line_color\":\"#30a2da\",\"line_width\":2}},\"selection_glyph\":{\"type\":\"object\",\"name\":\"Line\",\"id\":\"e2d47425-c87a-47d1-bc30-3214a8925df6\",\"attributes\":{\"tags\":[\"apply_ranges\"],\"x\":{\"type\":\"field\",\"field\":\"k\"},\"y\":{\"type\":\"field\",\"field\":\"inertia\"},\"line_color\":\"#30a2da\",\"line_width\":2}},\"nonselection_glyph\":{\"type\":\"object\",\"name\":\"Line\",\"id\":\"28a82541-080d-4b22-808b-3b3d8552afdb\",\"attributes\":{\"tags\":[\"apply_ranges\"],\"x\":{\"type\":\"field\",\"field\":\"k\"},\"y\":{\"type\":\"field\",\"field\":\"inertia\"},\"line_color\":\"#30a2da\",\"line_alpha\":0.1,\"line_width\":2}},\"muted_glyph\":{\"type\":\"object\",\"name\":\"Line\",\"id\":\"d0560a61-8c4a-4898-9020-2505c9889f2d\",\"attributes\":{\"tags\":[\"apply_ranges\"],\"x\":{\"type\":\"field\",\"field\":\"k\"},\"y\":{\"type\":\"field\",\"field\":\"inertia\"},\"line_color\":\"#30a2da\",\"line_alpha\":0.2,\"line_width\":2}}}}],\"toolbar\":{\"type\":\"object\",\"name\":\"Toolbar\",\"id\":\"da791775-a555-40de-a0b4-6a68d6b314c4\",\"attributes\":{\"tools\":[{\"type\":\"object\",\"name\":\"WheelZoomTool\",\"id\":\"55cdd9c7-0778-45a8-bb7e-135b8e0f395d\",\"attributes\":{\"tags\":[\"hv_created\"],\"renderers\":\"auto\",\"zoom_together\":\"none\"}},{\"type\":\"object\",\"name\":\"HoverTool\",\"id\":\"642b1fed-52f3-4ed2-89b3-dae5518bd02e\",\"attributes\":{\"tags\":[\"hv_created\"],\"renderers\":[{\"id\":\"8c0de867-0dce-4a3d-901e-fa3abfa16f9a\"}],\"tooltips\":[[\"k\",\"@{k}\"],[\"inertia\",\"@{inertia}\"]]}},{\"type\":\"object\",\"name\":\"SaveTool\",\"id\":\"4be96cfb-e345-425a-9739-21f98c5e2635\"},{\"type\":\"object\",\"name\":\"PanTool\",\"id\":\"6f70cfd8-e828-4245-b55b-f9a5125a5d40\"},{\"type\":\"object\",\"name\":\"BoxZoomTool\",\"id\":\"15b65a05-4e60-4ade-a176-9543e235b59a\",\"attributes\":{\"overlay\":{\"type\":\"object\",\"name\":\"BoxAnnotation\",\"id\":\"312d1306-d782-4296-86bb-b200bb546263\",\"attributes\":{\"syncable\":false,\"line_color\":\"black\",\"line_alpha\":1.0,\"line_width\":2,\"line_dash\":[4,4],\"fill_color\":\"lightgrey\",\"fill_alpha\":0.5,\"level\":\"overlay\",\"visible\":false,\"left\":{\"type\":\"number\",\"value\":\"nan\"},\"right\":{\"type\":\"number\",\"value\":\"nan\"},\"top\":{\"type\":\"number\",\"value\":\"nan\"},\"bottom\":{\"type\":\"number\",\"value\":\"nan\"},\"left_units\":\"canvas\",\"right_units\":\"canvas\",\"top_units\":\"canvas\",\"bottom_units\":\"canvas\",\"handles\":{\"type\":\"object\",\"name\":\"BoxInteractionHandles\",\"id\":\"39663327-0893-4a5e-a73e-44c680fcfcd1\",\"attributes\":{\"all\":{\"type\":\"object\",\"name\":\"AreaVisuals\",\"id\":\"fdf9645e-0037-444e-b331-fdf78414746c\",\"attributes\":{\"fill_color\":\"white\",\"hover_fill_color\":\"lightgray\"}}}}}}}},{\"type\":\"object\",\"name\":\"ResetTool\",\"id\":\"545e185f-6161-4602-a3f8-969ff02d4673\"}],\"active_drag\":{\"id\":\"6f70cfd8-e828-4245-b55b-f9a5125a5d40\"},\"active_scroll\":{\"id\":\"55cdd9c7-0778-45a8-bb7e-135b8e0f395d\"}}},\"left\":[{\"type\":\"object\",\"name\":\"LinearAxis\",\"id\":\"f8249e51-ef49-4ec7-ba23-b805052ab17b\",\"attributes\":{\"ticker\":{\"type\":\"object\",\"name\":\"BasicTicker\",\"id\":\"5df86ae9-b5ee-4fd8-8b8c-7bac0aa3689b\",\"attributes\":{\"mantissas\":[1,2,5]}},\"formatter\":{\"type\":\"object\",\"name\":\"BasicTickFormatter\",\"id\":\"fb02803c-a917-402a-919d-8ef331707cb0\"},\"axis_label\":\"inertia\",\"major_label_policy\":{\"type\":\"object\",\"name\":\"AllLabels\",\"id\":\"73e47c41-df9e-4d2c-9d17-41357be4a43b\"}}}],\"below\":[{\"type\":\"object\",\"name\":\"LinearAxis\",\"id\":\"79f3743a-23ef-497e-b3e0-025a25889829\",\"attributes\":{\"ticker\":{\"type\":\"object\",\"name\":\"BasicTicker\",\"id\":\"522b1b8c-bfb1-48a4-86c6-c59f3e646773\",\"attributes\":{\"desired_num_ticks\":10,\"mantissas\":[1,2,5]}},\"formatter\":{\"type\":\"object\",\"name\":\"BasicTickFormatter\",\"id\":\"e7dc51ca-3c18-4353-b6f0-1bfb0d9370c1\"},\"axis_label\":\"k\",\"major_label_policy\":{\"type\":\"object\",\"name\":\"AllLabels\",\"id\":\"94ca651b-89ef-4af3-bb7a-b7a283fb4699\"}}}],\"center\":[{\"type\":\"object\",\"name\":\"Grid\",\"id\":\"f0051544-c215-4efa-aeb6-45880f99a2ea\",\"attributes\":{\"axis\":{\"id\":\"79f3743a-23ef-497e-b3e0-025a25889829\"},\"grid_line_color\":null}},{\"type\":\"object\",\"name\":\"Grid\",\"id\":\"5e15dc9b-f700-4ec9-b1a9-da5071ab9a49\",\"attributes\":{\"dimension\":1,\"axis\":{\"id\":\"f8249e51-ef49-4ec7-ba23-b805052ab17b\"},\"grid_line_color\":null}}],\"min_border_top\":10,\"min_border_bottom\":10,\"min_border_left\":10,\"min_border_right\":10,\"output_backend\":\"webgl\"}},{\"type\":\"object\",\"name\":\"Spacer\",\"id\":\"c0464b82-8e5b-4d32-b7b3-ca45d6e7a1ee\",\"attributes\":{\"name\":\"HSpacer10368\",\"stylesheets\":[\"\\n:host(.pn-loading):before, .pn-loading:before {\\n  background-color: #c3c3c3;\\n  mask-size: auto calc(min(50%, 400px));\\n  -webkit-mask-size: auto calc(min(50%, 400px));\\n}\",{\"id\":\"1746514f-f31a-498c-8662-1512672b0869\"},{\"id\":\"4f859ed4-a118-431f-a352-43cce008aaa4\"},{\"id\":\"ae436719-ebc0-46ad-a58f-e890d58afa96\"}],\"margin\":0,\"sizing_mode\":\"stretch_width\",\"align\":\"start\"}}]}}],\"defs\":[{\"type\":\"model\",\"name\":\"ReactiveHTML1\"},{\"type\":\"model\",\"name\":\"FlexBox1\",\"properties\":[{\"name\":\"align_content\",\"kind\":\"Any\",\"default\":\"flex-start\"},{\"name\":\"align_items\",\"kind\":\"Any\",\"default\":\"flex-start\"},{\"name\":\"flex_direction\",\"kind\":\"Any\",\"default\":\"row\"},{\"name\":\"flex_wrap\",\"kind\":\"Any\",\"default\":\"wrap\"},{\"name\":\"gap\",\"kind\":\"Any\",\"default\":\"\"},{\"name\":\"justify_content\",\"kind\":\"Any\",\"default\":\"flex-start\"}]},{\"type\":\"model\",\"name\":\"FloatPanel1\",\"properties\":[{\"name\":\"config\",\"kind\":\"Any\",\"default\":{\"type\":\"map\"}},{\"name\":\"contained\",\"kind\":\"Any\",\"default\":true},{\"name\":\"position\",\"kind\":\"Any\",\"default\":\"right-top\"},{\"name\":\"offsetx\",\"kind\":\"Any\",\"default\":null},{\"name\":\"offsety\",\"kind\":\"Any\",\"default\":null},{\"name\":\"theme\",\"kind\":\"Any\",\"default\":\"primary\"},{\"name\":\"status\",\"kind\":\"Any\",\"default\":\"normalized\"}]},{\"type\":\"model\",\"name\":\"GridStack1\",\"properties\":[{\"name\":\"mode\",\"kind\":\"Any\",\"default\":\"warn\"},{\"name\":\"ncols\",\"kind\":\"Any\",\"default\":null},{\"name\":\"nrows\",\"kind\":\"Any\",\"default\":null},{\"name\":\"allow_resize\",\"kind\":\"Any\",\"default\":true},{\"name\":\"allow_drag\",\"kind\":\"Any\",\"default\":true},{\"name\":\"state\",\"kind\":\"Any\",\"default\":[]}]},{\"type\":\"model\",\"name\":\"drag1\",\"properties\":[{\"name\":\"slider_width\",\"kind\":\"Any\",\"default\":5},{\"name\":\"slider_color\",\"kind\":\"Any\",\"default\":\"black\"},{\"name\":\"value\",\"kind\":\"Any\",\"default\":50}]},{\"type\":\"model\",\"name\":\"click1\",\"properties\":[{\"name\":\"terminal_output\",\"kind\":\"Any\",\"default\":\"\"},{\"name\":\"debug_name\",\"kind\":\"Any\",\"default\":\"\"},{\"name\":\"clears\",\"kind\":\"Any\",\"default\":0}]},{\"type\":\"model\",\"name\":\"FastWrapper1\",\"properties\":[{\"name\":\"object\",\"kind\":\"Any\",\"default\":null},{\"name\":\"style\",\"kind\":\"Any\",\"default\":null}]},{\"type\":\"model\",\"name\":\"NotificationAreaBase1\",\"properties\":[{\"name\":\"js_events\",\"kind\":\"Any\",\"default\":{\"type\":\"map\"}},{\"name\":\"position\",\"kind\":\"Any\",\"default\":\"bottom-right\"},{\"name\":\"_clear\",\"kind\":\"Any\",\"default\":0}]},{\"type\":\"model\",\"name\":\"NotificationArea1\",\"properties\":[{\"name\":\"js_events\",\"kind\":\"Any\",\"default\":{\"type\":\"map\"}},{\"name\":\"notifications\",\"kind\":\"Any\",\"default\":[]},{\"name\":\"position\",\"kind\":\"Any\",\"default\":\"bottom-right\"},{\"name\":\"_clear\",\"kind\":\"Any\",\"default\":0},{\"name\":\"types\",\"kind\":\"Any\",\"default\":[{\"type\":\"map\",\"entries\":[[\"type\",\"warning\"],[\"background\",\"#ffc107\"],[\"icon\",{\"type\":\"map\",\"entries\":[[\"className\",\"fas fa-exclamation-triangle\"],[\"tagName\",\"i\"],[\"color\",\"white\"]]}]]},{\"type\":\"map\",\"entries\":[[\"type\",\"info\"],[\"background\",\"#007bff\"],[\"icon\",{\"type\":\"map\",\"entries\":[[\"className\",\"fas fa-info-circle\"],[\"tagName\",\"i\"],[\"color\",\"white\"]]}]]}]}]},{\"type\":\"model\",\"name\":\"Notification\",\"properties\":[{\"name\":\"background\",\"kind\":\"Any\",\"default\":null},{\"name\":\"duration\",\"kind\":\"Any\",\"default\":3000},{\"name\":\"icon\",\"kind\":\"Any\",\"default\":null},{\"name\":\"message\",\"kind\":\"Any\",\"default\":\"\"},{\"name\":\"notification_type\",\"kind\":\"Any\",\"default\":null},{\"name\":\"_destroyed\",\"kind\":\"Any\",\"default\":false}]},{\"type\":\"model\",\"name\":\"TemplateActions1\",\"properties\":[{\"name\":\"open_modal\",\"kind\":\"Any\",\"default\":0},{\"name\":\"close_modal\",\"kind\":\"Any\",\"default\":0}]},{\"type\":\"model\",\"name\":\"BootstrapTemplateActions1\",\"properties\":[{\"name\":\"open_modal\",\"kind\":\"Any\",\"default\":0},{\"name\":\"close_modal\",\"kind\":\"Any\",\"default\":0}]},{\"type\":\"model\",\"name\":\"TemplateEditor1\",\"properties\":[{\"name\":\"layout\",\"kind\":\"Any\",\"default\":[]}]},{\"type\":\"model\",\"name\":\"MaterialTemplateActions1\",\"properties\":[{\"name\":\"open_modal\",\"kind\":\"Any\",\"default\":0},{\"name\":\"close_modal\",\"kind\":\"Any\",\"default\":0}]},{\"type\":\"model\",\"name\":\"ReactiveESM1\"},{\"type\":\"model\",\"name\":\"JSComponent1\"},{\"type\":\"model\",\"name\":\"ReactComponent1\"},{\"type\":\"model\",\"name\":\"AnyWidgetComponent1\"},{\"type\":\"model\",\"name\":\"request_value1\",\"properties\":[{\"name\":\"fill\",\"kind\":\"Any\",\"default\":\"none\"},{\"name\":\"_synced\",\"kind\":\"Any\",\"default\":null},{\"name\":\"_request_sync\",\"kind\":\"Any\",\"default\":0}]}]}};\n",
       "  var render_items = [{\"docid\":\"d001ef04-28d6-429f-8661-10e8b2e317d0\",\"roots\":{\"1ecdcc8d-c2a7-4b44-8483-cfdb157c7d8a\":\"e2696280-fb67-48cd-9f5b-ac2bc6f36aee\"},\"root_ids\":[\"1ecdcc8d-c2a7-4b44-8483-cfdb157c7d8a\"]}];\n",
       "  var docs = Object.values(docs_json)\n",
       "  if (!docs) {\n",
       "    return\n",
       "  }\n",
       "  const py_version = docs[0].version.replace('rc', '-rc.').replace('.dev', '-dev.')\n",
       "  async function embed_document(root) {\n",
       "    var Bokeh = get_bokeh(root)\n",
       "    await Bokeh.embed.embed_items_notebook(docs_json, render_items);\n",
       "    for (const render_item of render_items) {\n",
       "      for (const root_id of render_item.root_ids) {\n",
       "\tconst id_el = document.getElementById(root_id)\n",
       "\tif (id_el.children.length && id_el.children[0].hasAttribute('data-root-id')) {\n",
       "\t  const root_el = id_el.children[0]\n",
       "\t  root_el.id = root_el.id + '-rendered'\n",
       "\t  for (const child of root_el.children) {\n",
       "            // Ensure JupyterLab does not capture keyboard shortcuts\n",
       "            // see: https://jupyterlab.readthedocs.io/en/4.1.x/extension/notebook.html#keyboard-interaction-model\n",
       "\t    child.setAttribute('data-lm-suppress-shortcuts', 'true')\n",
       "\t  }\n",
       "\t}\n",
       "      }\n",
       "    }\n",
       "  }\n",
       "  function get_bokeh(root) {\n",
       "    if (root.Bokeh === undefined) {\n",
       "      return null\n",
       "    } else if (root.Bokeh.version !== py_version) {\n",
       "      if (root.Bokeh.versions === undefined || !root.Bokeh.versions.has(py_version)) {\n",
       "\treturn null\n",
       "      }\n",
       "      return root.Bokeh.versions.get(py_version);\n",
       "    } else if (root.Bokeh.version === py_version) {\n",
       "      return root.Bokeh\n",
       "    }\n",
       "    return null\n",
       "  }\n",
       "  function is_loaded(root) {\n",
       "    var Bokeh = get_bokeh(root)\n",
       "    return (Bokeh != null && Bokeh.Panel !== undefined)\n",
       "  }\n",
       "  if (is_loaded(root)) {\n",
       "    embed_document(root);\n",
       "  } else {\n",
       "    var attempts = 0;\n",
       "    var timer = setInterval(function(root) {\n",
       "      if (is_loaded(root)) {\n",
       "        clearInterval(timer);\n",
       "        embed_document(root);\n",
       "      } else if (document.readyState == \"complete\") {\n",
       "        attempts++;\n",
       "        if (attempts > 200) {\n",
       "          clearInterval(timer);\n",
       "\t  var Bokeh = get_bokeh(root)\n",
       "\t  if (Bokeh == null || Bokeh.Panel == null) {\n",
       "            console.warn(\"Panel: ERROR: Unable to run Panel code because Bokeh or Panel library is missing\");\n",
       "\t  } else {\n",
       "\t    console.warn(\"Panel: WARNING: Attempting to render but not all required libraries could be resolved.\")\n",
       "\t    embed_document(root)\n",
       "\t  }\n",
       "        }\n",
       "      }\n",
       "    }, 25, root)\n",
       "  }\n",
       "})(window);</script>"
      ],
      "text/plain": [
       ":Curve   [k]   (inertia)"
      ]
     },
     "execution_count": 111,
     "metadata": {
      "application/vnd.holoviews_exec.v0+json": {
       "id": "1ecdcc8d-c2a7-4b44-8483-cfdb157c7d8a"
      }
     },
     "output_type": "execute_result"
    }
   ],
   "source": [
    "# k is 3 or 4\n",
    "cols = ['recency', 'monetary']\n",
    "get_elbow_plot(scaled_rfm_df[cols])"
   ]
  },
  {
   "cell_type": "code",
   "execution_count": 112,
   "metadata": {},
   "outputs": [
    {
     "name": "stdout",
     "output_type": "stream",
     "text": [
      "-------------------------------------------------------------------SILHOUETTE SCORE-------------------------------------------------------------------\n",
      "[{'k': 2, 'score': 0.4337782295921043}, {'k': 3, 'score': 0.4588957572938468}, {'k': 4, 'score': 0.45947146116531395}, {'k': 5, 'score': 0.3806610717314592}]\n",
      "Best k value = 4 (silhouette score = 0.459)\n"
     ]
    },
    {
     "data": {},
     "metadata": {},
     "output_type": "display_data"
    },
    {
     "data": {
      "application/vnd.holoviews_exec.v0+json": "",
      "text/html": [
       "<div id='a3a0f567-a2b6-4fbf-a9dd-4423c2f85f17'>\n",
       "  <div id=\"a4d87bf2-ffb1-4863-88af-ff216cb0b880\" data-root-id=\"a3a0f567-a2b6-4fbf-a9dd-4423c2f85f17\" style=\"display: contents;\"></div>\n",
       "</div>\n",
       "<script type=\"application/javascript\">(function(root) {\n",
       "  var docs_json = {\"d4d38cef-fd83-40da-99c4-d2c1215aa6ed\":{\"version\":\"3.5.2\",\"title\":\"Bokeh Application\",\"roots\":[{\"type\":\"object\",\"name\":\"Row\",\"id\":\"a3a0f567-a2b6-4fbf-a9dd-4423c2f85f17\",\"attributes\":{\"name\":\"Row10438\",\"tags\":[\"embedded\"],\"stylesheets\":[\"\\n:host(.pn-loading):before, .pn-loading:before {\\n  background-color: #c3c3c3;\\n  mask-size: auto calc(min(50%, 400px));\\n  -webkit-mask-size: auto calc(min(50%, 400px));\\n}\",{\"type\":\"object\",\"name\":\"ImportedStyleSheet\",\"id\":\"cafd1383-071c-4076-8cb2-b4fef71375fb\",\"attributes\":{\"url\":\"https://cdn.holoviz.org/panel/1.5.3/dist/css/loading.css\"}},{\"type\":\"object\",\"name\":\"ImportedStyleSheet\",\"id\":\"5abd9ed4-9067-4bd6-a9a5-07ffb3f463d8\",\"attributes\":{\"url\":\"https://cdn.holoviz.org/panel/1.5.3/dist/css/listpanel.css\"}},{\"type\":\"object\",\"name\":\"ImportedStyleSheet\",\"id\":\"5a01c71b-732b-4ed2-b55e-a0d607292a3e\",\"attributes\":{\"url\":\"https://cdn.holoviz.org/panel/1.5.3/dist/bundled/theme/default.css\"}},{\"type\":\"object\",\"name\":\"ImportedStyleSheet\",\"id\":\"d5974906-4fc6-412c-a8e1-207e2c43aa71\",\"attributes\":{\"url\":\"https://cdn.holoviz.org/panel/1.5.3/dist/bundled/theme/native.css\"}}],\"min_width\":700,\"margin\":0,\"sizing_mode\":\"stretch_width\",\"align\":\"start\",\"children\":[{\"type\":\"object\",\"name\":\"Spacer\",\"id\":\"3fcd5195-6b79-4625-8543-d8a2e8270181\",\"attributes\":{\"name\":\"HSpacer10442\",\"stylesheets\":[\"\\n:host(.pn-loading):before, .pn-loading:before {\\n  background-color: #c3c3c3;\\n  mask-size: auto calc(min(50%, 400px));\\n  -webkit-mask-size: auto calc(min(50%, 400px));\\n}\",{\"id\":\"cafd1383-071c-4076-8cb2-b4fef71375fb\"},{\"id\":\"5a01c71b-732b-4ed2-b55e-a0d607292a3e\"},{\"id\":\"d5974906-4fc6-412c-a8e1-207e2c43aa71\"}],\"margin\":0,\"sizing_mode\":\"stretch_width\",\"align\":\"start\"}},{\"type\":\"object\",\"name\":\"Figure\",\"id\":\"9950cb01-9567-48b7-b6fb-0a0389c7149e\",\"attributes\":{\"width\":700,\"height\":300,\"margin\":[5,10],\"sizing_mode\":\"fixed\",\"align\":\"start\",\"x_range\":{\"type\":\"object\",\"name\":\"Range1d\",\"id\":\"9e16e5f2-2f31-4ae4-be8b-57ff6ef516bf\",\"attributes\":{\"name\":\"recency\",\"tags\":[[[\"recency\",null]],[]],\"start\":-21.17142857142857,\"end\":515.1714285714286,\"reset_start\":-21.17142857142857,\"reset_end\":515.1714285714286}},\"y_range\":{\"type\":\"object\",\"name\":\"Range1d\",\"id\":\"e3a39c08-7de6-405c-9c4f-077bca18bee1\",\"attributes\":{\"name\":\"monetary\",\"tags\":[[[\"monetary\",null]],{\"type\":\"map\",\"entries\":[[\"invert_yaxis\",false],[\"autorange\",false]]}],\"start\":8.672644096702083,\"end\":14.03322663243378,\"reset_start\":8.672644096702083,\"reset_end\":14.03322663243378}},\"x_scale\":{\"type\":\"object\",\"name\":\"LinearScale\",\"id\":\"cd202ea7-af7f-474e-81d3-98f18063d194\"},\"y_scale\":{\"type\":\"object\",\"name\":\"LinearScale\",\"id\":\"091f8e68-e762-402e-a8a1-4dc312729c42\"},\"title\":{\"type\":\"object\",\"name\":\"Title\",\"id\":\"29009a87-950c-4c7d-8ed0-310accf9b087\",\"attributes\":{\"text_color\":\"black\",\"text_font_size\":\"12pt\"}},\"renderers\":[{\"type\":\"object\",\"name\":\"GlyphRenderer\",\"id\":\"33ba06aa-2851-40bf-b48e-3493612af4b7\",\"attributes\":{\"name\":\"1\",\"data_source\":{\"type\":\"object\",\"name\":\"ColumnDataSource\",\"id\":\"6402d041-e4a8-4984-a91a-5b2f592d59ba\",\"attributes\":{\"selected\":{\"type\":\"object\",\"name\":\"Selection\",\"id\":\"81ab1709-9d12-43b0-8bb2-99a76611ef91\",\"attributes\":{\"indices\":[],\"line_indices\":[]}},\"selection_policy\":{\"type\":\"object\",\"name\":\"UnionRenderers\",\"id\":\"78785e00-f7bf-41e0-b727-6236bd3cb98d\"},\"data\":{\"type\":\"map\",\"entries\":[[\"recency\",{\"type\":\"ndarray\",\"array\":{\"type\":\"bytes\",\"data\":\"twAAANUAAAC8AAAAhAAAAKUAAAAoAAAApwAAAIIAAAAuAAAADAAAAGEAAADCAAAAugAAAKkAAAAZAAAAgwAAAEsAAABFAAAAtQAAAAQBAACuAAAAgwAAANcAAAAhAAAASwAAAD0AAADBAAAAAAAAAFMAAADEAAAA2AAAAMUAAADBAAAAzwAAAMUAAADWAAAAtgAAAPoAAACXAAAAqQAAABAAAAB9AAAAwQAAALIAAABnAAAAagAAAAcAAAB1AAAAsQAAALQAAADPAAAAJwAAALUAAAAYAAAATAAAAAABAAAyAAAAMAAAAA==\"},\"shape\":[58],\"dtype\":\"int32\",\"order\":\"little\"}],[\"monetary\",{\"type\":\"ndarray\",\"array\":{\"type\":\"bytes\",\"data\":\"pn+61XFeJ0Be4PWyMAgnQHDZ+FDPXydAjtGgC01nJ0Crqr8W1ckmQO2gJ+Rn4iZA+T1eca9jKEDCa80ShDInQH9gz1hmESdAreSTwTsQJ0Ak0vZXNT0nQFpHVwyMkydA+nloLl2rJ0Dmt816r6UmQOG+7rpdZidAMuQLx4hJJ0CyvhUoFQEnQKIZB0+u4ydA6/b8DTPwJ0APhawHH1onQEp+psgbiiZAPL03M+VyJkAhooPDcD0mQAHUUl4slyZARPlY9rS2JkDtVPlsJIsmQOZmWbhpxSZAEGsPFojVJ0AQrExz0dUnQDVxp518UidAgRo/BCgWJ0Ce1diZ/YgmQAN1elpytCZA5ncrufV0JkCnRk3WlmYnQFPSQ5PAtiZA6G4NXAfnJkBKXWjUlOcmQGxjyesfLCdABxNivQ1sKEBdv9O3320mQKrER352HSdASfpfTEBVJ0BSkPEZGvgmQBpcRTxVpSdAVfeKH4YcJ0AVWaRDUrwnQOgdwhhgniZA+Sdo7BCGJkC1V081vm8mQBrR6MCpCSdACC6dTSU+JkAGRlj+aasmQNaxY2FlUCdApapxeTofKEA+Jcbn/z4nQF1Oq1WRUyZAoE5YIXCgJ0A=\"},\"shape\":[58],\"dtype\":\"float64\",\"order\":\"little\"}],[\"customer_id\",{\"type\":\"ndarray\",\"array\":{\"type\":\"bytes\",\"data\":\"AQAAAAIAAAADAAAABQAAAAYAAAAHAAAACAAAAAkAAAAKAAAACwAAAAwAAAAPAAAAEQAAABMAAAAVAAAAFgAAABgAAAAbAAAAHQAAAB4AAAAfAAAAIAAAACEAAAAmAAAAJwAAACgAAAAqAAAAKwAAACwAAAAuAAAALwAAADIAAAAzAAAANAAAADUAAAA2AAAAOgAAADsAAAA9AAAAPgAAAD8AAABAAAAAQQAAAEIAAABDAAAARQAAAEcAAABIAAAASgAAAEsAAABOAAAATwAAAFAAAABRAAAAUgAAAFQAAABYAAAAWgAAAA==\"},\"shape\":[58],\"dtype\":\"int32\",\"order\":\"little\"}],[\"frequency\",{\"type\":\"ndarray\",\"array\":{\"type\":\"bytes\",\"data\":\"REQLbI4Q6D9h8XxHPVrhP4o7vnI2vus/iju+cja+6z9ERAtsjhDoP0REC2yOEOg/iju+cja+6z9ERAtsjhDoP0REC2yOEOg/REQLbI4Q6D9ERAtsjhDoP0REC2yOEOg/REQLbI4Q6D9ERAtsjhDoP4o7vnI2vus/REQLbI4Q6D9ERAtsjhDoP4o7vnI2vus/REQLbI4Q6D9h8XxHPVrhP0REC2yOEOg/REQLbI4Q6D9h8XxHPVrhP0REC2yOEOg/YfF8Rz1a4T9ERAtsjhDoP0REC2yOEOg/iju+cja+6z+KO75yNr7rP0REC2yOEOg/YfF8Rz1a4T9h8XxHPVrhP4o7vnI2vus/YfF8Rz1a4T9ERAtsjhDoP2HxfEc9WuE/REQLbI4Q6D9h8XxHPVrhP0REC2yOEOg/KV3S5mQa7j9ERAtsjhDoP0REC2yOEOg/iju+cja+6z9ERAtsjhDoP0REC2yOEOg/REQLbI4Q6D9ERAtsjhDoP0REC2yOEOg/REQLbI4Q6D9ERAtsjhDoP2HxfEc9WuE/YfF8Rz1a4T9ERAtsjhDoP4o7vnI2vus/KV3S5mQa7j9ERAtsjhDoP0REC2yOEOg/KV3S5mQa7j8=\"},\"shape\":[58],\"dtype\":\"float64\",\"order\":\"little\"}],[\"segment\",{\"type\":\"ndarray\",\"array\":{\"type\":\"bytes\",\"data\":\"AQAAAAEAAAABAAAAAQAAAAEAAAABAAAAAQAAAAEAAAABAAAAAQAAAAEAAAABAAAAAQAAAAEAAAABAAAAAQAAAAEAAAABAAAAAQAAAAEAAAABAAAAAQAAAAEAAAABAAAAAQAAAAEAAAABAAAAAQAAAAEAAAABAAAAAQAAAAEAAAABAAAAAQAAAAEAAAABAAAAAQAAAAEAAAABAAAAAQAAAAEAAAABAAAAAQAAAAEAAAABAAAAAQAAAAEAAAABAAAAAQAAAAEAAAABAAAAAQAAAAEAAAABAAAAAQAAAAEAAAABAAAAAQAAAA==\"},\"shape\":[58],\"dtype\":\"int32\",\"order\":\"little\"}]]}}},\"view\":{\"type\":\"object\",\"name\":\"CDSView\",\"id\":\"5b08f6bc-e1b5-406e-91e7-dc2e68d6b65c\",\"attributes\":{\"filter\":{\"type\":\"object\",\"name\":\"AllIndices\",\"id\":\"82b64764-5832-4c15-a4e1-5fecf6b27cb7\"}}},\"glyph\":{\"type\":\"object\",\"name\":\"Scatter\",\"id\":\"2062402b-e184-4a20-9718-2edefe7f44f6\",\"attributes\":{\"tags\":[\"apply_ranges\"],\"x\":{\"type\":\"field\",\"field\":\"recency\"},\"y\":{\"type\":\"field\",\"field\":\"monetary\"},\"size\":{\"type\":\"value\",\"value\":5.477225575051661},\"line_color\":{\"type\":\"value\",\"value\":\"#30a2da\"},\"fill_color\":{\"type\":\"value\",\"value\":\"#30a2da\"},\"hatch_color\":{\"type\":\"value\",\"value\":\"#30a2da\"}}},\"selection_glyph\":{\"type\":\"object\",\"name\":\"Scatter\",\"id\":\"b4247ed1-0bd8-422b-8ca7-f5eda7db8b8d\",\"attributes\":{\"tags\":[\"apply_ranges\"],\"x\":{\"type\":\"field\",\"field\":\"recency\"},\"y\":{\"type\":\"field\",\"field\":\"monetary\"},\"size\":{\"type\":\"value\",\"value\":5.477225575051661},\"angle\":{\"type\":\"value\",\"value\":0.0},\"line_color\":{\"type\":\"value\",\"value\":\"#30a2da\"},\"line_alpha\":{\"type\":\"value\",\"value\":1.0},\"line_width\":{\"type\":\"value\",\"value\":1},\"line_join\":{\"type\":\"value\",\"value\":\"bevel\"},\"line_cap\":{\"type\":\"value\",\"value\":\"butt\"},\"line_dash\":{\"type\":\"value\",\"value\":[]},\"line_dash_offset\":{\"type\":\"value\",\"value\":0},\"fill_color\":{\"type\":\"value\",\"value\":\"#30a2da\"},\"fill_alpha\":{\"type\":\"value\",\"value\":1.0},\"hatch_color\":{\"type\":\"value\",\"value\":\"#30a2da\"},\"hatch_alpha\":{\"type\":\"value\",\"value\":1.0},\"hatch_scale\":{\"type\":\"value\",\"value\":12.0},\"hatch_pattern\":{\"type\":\"value\",\"value\":null},\"hatch_weight\":{\"type\":\"value\",\"value\":1.0},\"marker\":{\"type\":\"value\",\"value\":\"circle\"}}},\"nonselection_glyph\":{\"type\":\"object\",\"name\":\"Scatter\",\"id\":\"480ea574-ff75-446b-8dd0-48d4e3597ae8\",\"attributes\":{\"tags\":[\"apply_ranges\"],\"x\":{\"type\":\"field\",\"field\":\"recency\"},\"y\":{\"type\":\"field\",\"field\":\"monetary\"},\"size\":{\"type\":\"value\",\"value\":5.477225575051661},\"line_color\":{\"type\":\"value\",\"value\":\"#30a2da\"},\"line_alpha\":{\"type\":\"value\",\"value\":0.1},\"fill_color\":{\"type\":\"value\",\"value\":\"#30a2da\"},\"fill_alpha\":{\"type\":\"value\",\"value\":0.1},\"hatch_color\":{\"type\":\"value\",\"value\":\"#30a2da\"},\"hatch_alpha\":{\"type\":\"value\",\"value\":0.1}}},\"muted_glyph\":{\"type\":\"object\",\"name\":\"Scatter\",\"id\":\"5c32ee38-a11e-4f88-8a31-84cdccd34ecc\",\"attributes\":{\"tags\":[\"apply_ranges\"],\"x\":{\"type\":\"field\",\"field\":\"recency\"},\"y\":{\"type\":\"field\",\"field\":\"monetary\"},\"size\":{\"type\":\"value\",\"value\":5.477225575051661},\"line_color\":{\"type\":\"value\",\"value\":\"#30a2da\"},\"line_alpha\":{\"type\":\"value\",\"value\":0.2},\"fill_color\":{\"type\":\"value\",\"value\":\"#30a2da\"},\"fill_alpha\":{\"type\":\"value\",\"value\":0.2},\"hatch_color\":{\"type\":\"value\",\"value\":\"#30a2da\"},\"hatch_alpha\":{\"type\":\"value\",\"value\":0.2}}}}},{\"type\":\"object\",\"name\":\"GlyphRenderer\",\"id\":\"14aad8fa-2442-4fa3-a3fc-e40cf3b49056\",\"attributes\":{\"name\":\"2\",\"data_source\":{\"type\":\"object\",\"name\":\"ColumnDataSource\",\"id\":\"fec9957c-2982-4ee8-852b-bc1afc701b49\",\"attributes\":{\"selected\":{\"type\":\"object\",\"name\":\"Selection\",\"id\":\"53bb69b6-67f6-4e08-b6e8-c41dad4230b8\",\"attributes\":{\"indices\":[],\"line_indices\":[]}},\"selection_policy\":{\"type\":\"object\",\"name\":\"UnionRenderers\",\"id\":\"baa3ed16-0c34-476c-90c4-dd81105c6766\"},\"data\":{\"type\":\"map\",\"entries\":[[\"recency\",{\"type\":\"ndarray\",\"array\":{\"type\":\"bytes\",\"data\":\"uQEAAI8BAAANAQAADgEAACwBAAB2AQAAegEAANoBAACoAQAAPwEAAL4BAABsAQAA7gEAAOEBAADOAQAAggEAAMMBAAA=\"},\"shape\":[17],\"dtype\":\"int32\",\"order\":\"little\"}],[\"monetary\",{\"type\":\"ndarray\",\"array\":{\"type\":\"bytes\",\"data\":\"MuuK4Ey9J0BaOSMYLz4mQFOln7lijyZAp6NZJ9VwJkDaOp1ANjYmQLNaiEre/SRAhcr8HfyQJkBZNLHH/HklQIkvduYOoCVAbE50vOqlJUAD8MxNMcImQOUtvdeIBSVAF90aWVqPJUCTXcI80fskQCrH8ib4pSVAVx84A0JWJkCmUpmGB0kmQA==\"},\"shape\":[17],\"dtype\":\"float64\",\"order\":\"little\"}],[\"customer_id\",{\"type\":\"ndarray\",\"array\":{\"type\":\"bytes\",\"data\":\"BAAAABAAAAAUAAAAFwAAABkAAAAaAAAAHAAAACQAAAApAAAALQAAADcAAAA8AAAARAAAAEYAAABMAAAAVgAAAFwAAAA=\"},\"shape\":[17],\"dtype\":\"int32\",\"order\":\"little\"}],[\"frequency\",{\"type\":\"ndarray\",\"array\":{\"type\":\"bytes\",\"data\":\"REQLbI4Q6D9h8XxHPVrhP2HxfEc9WuE/YfF8Rz1a4T9h8XxHPVrhP2HxfEc9WuE/YfF8Rz1a4T9h8XxHPVrhP2HxfEc9WuE/YfF8Rz1a4T9h8XxHPVrhP2HxfEc9WuE/YfF8Rz1a4T9h8XxHPVrhP2HxfEc9WuE/YfF8Rz1a4T9h8XxHPVrhPw==\"},\"shape\":[17],\"dtype\":\"float64\",\"order\":\"little\"}],[\"segment\",{\"type\":\"ndarray\",\"array\":{\"type\":\"bytes\",\"data\":\"AgAAAAIAAAACAAAAAgAAAAIAAAACAAAAAgAAAAIAAAACAAAAAgAAAAIAAAACAAAAAgAAAAIAAAACAAAAAgAAAAIAAAA=\"},\"shape\":[17],\"dtype\":\"int32\",\"order\":\"little\"}]]}}},\"view\":{\"type\":\"object\",\"name\":\"CDSView\",\"id\":\"aa2e3ef4-9e1d-4828-ab57-884699877ef2\",\"attributes\":{\"filter\":{\"type\":\"object\",\"name\":\"AllIndices\",\"id\":\"8412c63c-c467-420c-9d7f-9d99871eed15\"}}},\"glyph\":{\"type\":\"object\",\"name\":\"Scatter\",\"id\":\"e3354421-240c-41fb-b393-c398dea715c8\",\"attributes\":{\"tags\":[\"apply_ranges\"],\"x\":{\"type\":\"field\",\"field\":\"recency\"},\"y\":{\"type\":\"field\",\"field\":\"monetary\"},\"size\":{\"type\":\"value\",\"value\":5.477225575051661},\"line_color\":{\"type\":\"value\",\"value\":\"#fc4f30\"},\"fill_color\":{\"type\":\"value\",\"value\":\"#fc4f30\"},\"hatch_color\":{\"type\":\"value\",\"value\":\"#fc4f30\"}}},\"selection_glyph\":{\"type\":\"object\",\"name\":\"Scatter\",\"id\":\"38dd2297-efff-407b-914c-56ebe27b7af3\",\"attributes\":{\"tags\":[\"apply_ranges\"],\"x\":{\"type\":\"field\",\"field\":\"recency\"},\"y\":{\"type\":\"field\",\"field\":\"monetary\"},\"size\":{\"type\":\"value\",\"value\":5.477225575051661},\"angle\":{\"type\":\"value\",\"value\":0.0},\"line_color\":{\"type\":\"value\",\"value\":\"#fc4f30\"},\"line_alpha\":{\"type\":\"value\",\"value\":1.0},\"line_width\":{\"type\":\"value\",\"value\":1},\"line_join\":{\"type\":\"value\",\"value\":\"bevel\"},\"line_cap\":{\"type\":\"value\",\"value\":\"butt\"},\"line_dash\":{\"type\":\"value\",\"value\":[]},\"line_dash_offset\":{\"type\":\"value\",\"value\":0},\"fill_color\":{\"type\":\"value\",\"value\":\"#fc4f30\"},\"fill_alpha\":{\"type\":\"value\",\"value\":1.0},\"hatch_color\":{\"type\":\"value\",\"value\":\"#fc4f30\"},\"hatch_alpha\":{\"type\":\"value\",\"value\":1.0},\"hatch_scale\":{\"type\":\"value\",\"value\":12.0},\"hatch_pattern\":{\"type\":\"value\",\"value\":null},\"hatch_weight\":{\"type\":\"value\",\"value\":1.0},\"marker\":{\"type\":\"value\",\"value\":\"circle\"}}},\"nonselection_glyph\":{\"type\":\"object\",\"name\":\"Scatter\",\"id\":\"012bd3f7-7b2e-452c-8388-2fb9e58d3a98\",\"attributes\":{\"tags\":[\"apply_ranges\"],\"x\":{\"type\":\"field\",\"field\":\"recency\"},\"y\":{\"type\":\"field\",\"field\":\"monetary\"},\"size\":{\"type\":\"value\",\"value\":5.477225575051661},\"line_color\":{\"type\":\"value\",\"value\":\"#fc4f30\"},\"line_alpha\":{\"type\":\"value\",\"value\":0.1},\"fill_color\":{\"type\":\"value\",\"value\":\"#fc4f30\"},\"fill_alpha\":{\"type\":\"value\",\"value\":0.1},\"hatch_color\":{\"type\":\"value\",\"value\":\"#fc4f30\"},\"hatch_alpha\":{\"type\":\"value\",\"value\":0.1}}},\"muted_glyph\":{\"type\":\"object\",\"name\":\"Scatter\",\"id\":\"abbd2fa2-7b70-4583-80a7-5e8c8e1e4241\",\"attributes\":{\"tags\":[\"apply_ranges\"],\"x\":{\"type\":\"field\",\"field\":\"recency\"},\"y\":{\"type\":\"field\",\"field\":\"monetary\"},\"size\":{\"type\":\"value\",\"value\":5.477225575051661},\"line_color\":{\"type\":\"value\",\"value\":\"#fc4f30\"},\"line_alpha\":{\"type\":\"value\",\"value\":0.2},\"fill_color\":{\"type\":\"value\",\"value\":\"#fc4f30\"},\"fill_alpha\":{\"type\":\"value\",\"value\":0.2},\"hatch_color\":{\"type\":\"value\",\"value\":\"#fc4f30\"},\"hatch_alpha\":{\"type\":\"value\",\"value\":0.2}}}}},{\"type\":\"object\",\"name\":\"GlyphRenderer\",\"id\":\"0555958a-4447-4a86-95aa-80f756e268a1\",\"attributes\":{\"name\":\"0\",\"data_source\":{\"type\":\"object\",\"name\":\"ColumnDataSource\",\"id\":\"685c7d2b-d294-4cf6-a5e9-b4e63766425a\",\"attributes\":{\"selected\":{\"type\":\"object\",\"name\":\"Selection\",\"id\":\"ca995bd3-1faa-453d-9305-886b94b4cd8c\",\"attributes\":{\"indices\":[],\"line_indices\":[]}},\"selection_policy\":{\"type\":\"object\",\"name\":\"UnionRenderers\",\"id\":\"1f6dec29-4c20-4ceb-876f-60c259804478\"},\"data\":{\"type\":\"map\",\"entries\":[[\"recency\",{\"type\":\"ndarray\",\"array\":{\"type\":\"bytes\",\"data\":\"vQAAAN8AAADDAAAA+QAAAKUAAABEAAAAYgAAAH8AAACtAAAA8wAAAPkAAABoAAAApAAAANoAAAD0AAAA\"},\"shape\":[15],\"dtype\":\"int32\",\"order\":\"little\"}],[\"monetary\",{\"type\":\"ndarray\",\"array\":{\"type\":\"bytes\",\"data\":\"CjEYMomeJUBKA6iP9NElQHpuo+A90SRA0JK9R47rJED0n62KSV4kQK9cjrtouiVAT8fIqRw9IkD128vtx9UkQFMYTL/HLyRAmDypXJLtJUAzFlDUmOglQKKMWoyI/CVAWPOnrnXpJUCaJUEXwigmQHnZAdsI7SRA\"},\"shape\":[15],\"dtype\":\"float64\",\"order\":\"little\"}],[\"customer_id\",{\"type\":\"ndarray\",\"array\":{\"type\":\"bytes\",\"data\":\"DQAAAA4AAAASAAAAIgAAACMAAAAwAAAAMQAAADgAAAA5AAAASQAAAE0AAABTAAAAVQAAAFcAAABZAAAA\"},\"shape\":[15],\"dtype\":\"int32\",\"order\":\"little\"}],[\"frequency\",{\"type\":\"ndarray\",\"array\":{\"type\":\"bytes\",\"data\":\"REQLbI4Q6D9h8XxHPVrhP2HxfEc9WuE/YfF8Rz1a4T9ERAtsjhDoP0REC2yOEOg/YfF8Rz1a4T+KO75yNr7rP0REC2yOEOg/YfF8Rz1a4T9h8XxHPVrhP0REC2yOEOg/REQLbI4Q6D9h8XxHPVrhPwAAAAAAAAAA\"},\"shape\":[15],\"dtype\":\"float64\",\"order\":\"little\"}],[\"segment\",{\"type\":\"ndarray\",\"array\":{\"type\":\"bytes\",\"data\":\"AAAAAAAAAAAAAAAAAAAAAAAAAAAAAAAAAAAAAAAAAAAAAAAAAAAAAAAAAAAAAAAAAAAAAAAAAAAAAAAA\"},\"shape\":[15],\"dtype\":\"int32\",\"order\":\"little\"}]]}}},\"view\":{\"type\":\"object\",\"name\":\"CDSView\",\"id\":\"2f34e703-2c29-4970-91a2-0181ca5dbd84\",\"attributes\":{\"filter\":{\"type\":\"object\",\"name\":\"AllIndices\",\"id\":\"88701fbc-40d1-422a-b34f-27e819e70712\"}}},\"glyph\":{\"type\":\"object\",\"name\":\"Scatter\",\"id\":\"64396fcf-9a76-44b8-aa05-2239f3c24b3d\",\"attributes\":{\"tags\":[\"apply_ranges\"],\"x\":{\"type\":\"field\",\"field\":\"recency\"},\"y\":{\"type\":\"field\",\"field\":\"monetary\"},\"size\":{\"type\":\"value\",\"value\":5.477225575051661},\"line_color\":{\"type\":\"value\",\"value\":\"#e5ae38\"},\"fill_color\":{\"type\":\"value\",\"value\":\"#e5ae38\"},\"hatch_color\":{\"type\":\"value\",\"value\":\"#e5ae38\"}}},\"selection_glyph\":{\"type\":\"object\",\"name\":\"Scatter\",\"id\":\"d40695aa-e06c-4567-91cd-a512d4fae37e\",\"attributes\":{\"tags\":[\"apply_ranges\"],\"x\":{\"type\":\"field\",\"field\":\"recency\"},\"y\":{\"type\":\"field\",\"field\":\"monetary\"},\"size\":{\"type\":\"value\",\"value\":5.477225575051661},\"angle\":{\"type\":\"value\",\"value\":0.0},\"line_color\":{\"type\":\"value\",\"value\":\"#e5ae38\"},\"line_alpha\":{\"type\":\"value\",\"value\":1.0},\"line_width\":{\"type\":\"value\",\"value\":1},\"line_join\":{\"type\":\"value\",\"value\":\"bevel\"},\"line_cap\":{\"type\":\"value\",\"value\":\"butt\"},\"line_dash\":{\"type\":\"value\",\"value\":[]},\"line_dash_offset\":{\"type\":\"value\",\"value\":0},\"fill_color\":{\"type\":\"value\",\"value\":\"#e5ae38\"},\"fill_alpha\":{\"type\":\"value\",\"value\":1.0},\"hatch_color\":{\"type\":\"value\",\"value\":\"#e5ae38\"},\"hatch_alpha\":{\"type\":\"value\",\"value\":1.0},\"hatch_scale\":{\"type\":\"value\",\"value\":12.0},\"hatch_pattern\":{\"type\":\"value\",\"value\":null},\"hatch_weight\":{\"type\":\"value\",\"value\":1.0},\"marker\":{\"type\":\"value\",\"value\":\"circle\"}}},\"nonselection_glyph\":{\"type\":\"object\",\"name\":\"Scatter\",\"id\":\"fef97db7-6028-4263-80b2-640ae93ff770\",\"attributes\":{\"tags\":[\"apply_ranges\"],\"x\":{\"type\":\"field\",\"field\":\"recency\"},\"y\":{\"type\":\"field\",\"field\":\"monetary\"},\"size\":{\"type\":\"value\",\"value\":5.477225575051661},\"line_color\":{\"type\":\"value\",\"value\":\"#e5ae38\"},\"line_alpha\":{\"type\":\"value\",\"value\":0.1},\"fill_color\":{\"type\":\"value\",\"value\":\"#e5ae38\"},\"fill_alpha\":{\"type\":\"value\",\"value\":0.1},\"hatch_color\":{\"type\":\"value\",\"value\":\"#e5ae38\"},\"hatch_alpha\":{\"type\":\"value\",\"value\":0.1}}},\"muted_glyph\":{\"type\":\"object\",\"name\":\"Scatter\",\"id\":\"6c74c01a-68fb-440d-af10-e622ad2335f9\",\"attributes\":{\"tags\":[\"apply_ranges\"],\"x\":{\"type\":\"field\",\"field\":\"recency\"},\"y\":{\"type\":\"field\",\"field\":\"monetary\"},\"size\":{\"type\":\"value\",\"value\":5.477225575051661},\"line_color\":{\"type\":\"value\",\"value\":\"#e5ae38\"},\"line_alpha\":{\"type\":\"value\",\"value\":0.2},\"fill_color\":{\"type\":\"value\",\"value\":\"#e5ae38\"},\"fill_alpha\":{\"type\":\"value\",\"value\":0.2},\"hatch_color\":{\"type\":\"value\",\"value\":\"#e5ae38\"},\"hatch_alpha\":{\"type\":\"value\",\"value\":0.2}}}}},{\"type\":\"object\",\"name\":\"GlyphRenderer\",\"id\":\"788ce833-f9ce-4329-8fd5-b4183c9b7499\",\"attributes\":{\"name\":\"3\",\"data_source\":{\"type\":\"object\",\"name\":\"ColumnDataSource\",\"id\":\"2b46737e-e372-4679-b148-8ca1a813adb8\",\"attributes\":{\"selected\":{\"type\":\"object\",\"name\":\"Selection\",\"id\":\"472a42dc-9e92-46ab-bb31-62cba1ce7537\",\"attributes\":{\"indices\":[],\"line_indices\":[]}},\"selection_policy\":{\"type\":\"object\",\"name\":\"UnionRenderers\",\"id\":\"799c55b7-67c2-41ac-91b3-4e83809de436\"},\"data\":{\"type\":\"map\",\"entries\":[[\"recency\",{\"type\":\"ndarray\",\"array\":{\"type\":\"bytes\",\"data\":\"DgAAADcAAAA=\"},\"shape\":[2],\"dtype\":\"int32\",\"order\":\"little\"}],[\"monetary\",{\"type\":\"ndarray\",\"array\":{\"type\":\"bytes\",\"data\":\"5+eYOUssK0DngIqfFcMqQA==\"},\"shape\":[2],\"dtype\":\"float64\",\"order\":\"little\"}],[\"customer_id\",{\"type\":\"ndarray\",\"array\":{\"type\":\"bytes\",\"data\":\"JQAAAFsAAAA=\"},\"shape\":[2],\"dtype\":\"int32\",\"order\":\"little\"}],[\"frequency\",{\"type\":\"ndarray\",\"array\":{\"type\":\"bytes\",\"data\":\"+XZkR/N/8z+gPTe0W9jyPw==\"},\"shape\":[2],\"dtype\":\"float64\",\"order\":\"little\"}],[\"segment\",{\"type\":\"ndarray\",\"array\":{\"type\":\"bytes\",\"data\":\"AwAAAAMAAAA=\"},\"shape\":[2],\"dtype\":\"int32\",\"order\":\"little\"}]]}}},\"view\":{\"type\":\"object\",\"name\":\"CDSView\",\"id\":\"2f9c14c6-d323-446c-8a42-498ef85c3983\",\"attributes\":{\"filter\":{\"type\":\"object\",\"name\":\"AllIndices\",\"id\":\"5732ec19-26c5-4fb5-a441-831dcd319f36\"}}},\"glyph\":{\"type\":\"object\",\"name\":\"Scatter\",\"id\":\"65abbd73-453c-4ace-8bc5-f7304ddba74f\",\"attributes\":{\"tags\":[\"apply_ranges\"],\"x\":{\"type\":\"field\",\"field\":\"recency\"},\"y\":{\"type\":\"field\",\"field\":\"monetary\"},\"size\":{\"type\":\"value\",\"value\":5.477225575051661},\"line_color\":{\"type\":\"value\",\"value\":\"#6d904f\"},\"fill_color\":{\"type\":\"value\",\"value\":\"#6d904f\"},\"hatch_color\":{\"type\":\"value\",\"value\":\"#6d904f\"}}},\"selection_glyph\":{\"type\":\"object\",\"name\":\"Scatter\",\"id\":\"c671624d-7337-4c43-8b96-d3a9c2fb7f4b\",\"attributes\":{\"tags\":[\"apply_ranges\"],\"x\":{\"type\":\"field\",\"field\":\"recency\"},\"y\":{\"type\":\"field\",\"field\":\"monetary\"},\"size\":{\"type\":\"value\",\"value\":5.477225575051661},\"angle\":{\"type\":\"value\",\"value\":0.0},\"line_color\":{\"type\":\"value\",\"value\":\"#6d904f\"},\"line_alpha\":{\"type\":\"value\",\"value\":1.0},\"line_width\":{\"type\":\"value\",\"value\":1},\"line_join\":{\"type\":\"value\",\"value\":\"bevel\"},\"line_cap\":{\"type\":\"value\",\"value\":\"butt\"},\"line_dash\":{\"type\":\"value\",\"value\":[]},\"line_dash_offset\":{\"type\":\"value\",\"value\":0},\"fill_color\":{\"type\":\"value\",\"value\":\"#6d904f\"},\"fill_alpha\":{\"type\":\"value\",\"value\":1.0},\"hatch_color\":{\"type\":\"value\",\"value\":\"#6d904f\"},\"hatch_alpha\":{\"type\":\"value\",\"value\":1.0},\"hatch_scale\":{\"type\":\"value\",\"value\":12.0},\"hatch_pattern\":{\"type\":\"value\",\"value\":null},\"hatch_weight\":{\"type\":\"value\",\"value\":1.0},\"marker\":{\"type\":\"value\",\"value\":\"circle\"}}},\"nonselection_glyph\":{\"type\":\"object\",\"name\":\"Scatter\",\"id\":\"8ad31b16-8b9a-47e6-bbe9-441fd36c533e\",\"attributes\":{\"tags\":[\"apply_ranges\"],\"x\":{\"type\":\"field\",\"field\":\"recency\"},\"y\":{\"type\":\"field\",\"field\":\"monetary\"},\"size\":{\"type\":\"value\",\"value\":5.477225575051661},\"line_color\":{\"type\":\"value\",\"value\":\"#6d904f\"},\"line_alpha\":{\"type\":\"value\",\"value\":0.1},\"fill_color\":{\"type\":\"value\",\"value\":\"#6d904f\"},\"fill_alpha\":{\"type\":\"value\",\"value\":0.1},\"hatch_color\":{\"type\":\"value\",\"value\":\"#6d904f\"},\"hatch_alpha\":{\"type\":\"value\",\"value\":0.1}}},\"muted_glyph\":{\"type\":\"object\",\"name\":\"Scatter\",\"id\":\"773138dd-f626-42ac-b328-582de7fb6270\",\"attributes\":{\"tags\":[\"apply_ranges\"],\"x\":{\"type\":\"field\",\"field\":\"recency\"},\"y\":{\"type\":\"field\",\"field\":\"monetary\"},\"size\":{\"type\":\"value\",\"value\":5.477225575051661},\"line_color\":{\"type\":\"value\",\"value\":\"#6d904f\"},\"line_alpha\":{\"type\":\"value\",\"value\":0.2},\"fill_color\":{\"type\":\"value\",\"value\":\"#6d904f\"},\"fill_alpha\":{\"type\":\"value\",\"value\":0.2},\"hatch_color\":{\"type\":\"value\",\"value\":\"#6d904f\"},\"hatch_alpha\":{\"type\":\"value\",\"value\":0.2}}}}}],\"toolbar\":{\"type\":\"object\",\"name\":\"Toolbar\",\"id\":\"1b50d089-02f2-4789-abc9-5ebfe4450d68\",\"attributes\":{\"tools\":[{\"type\":\"object\",\"name\":\"WheelZoomTool\",\"id\":\"1225e019-d4bf-4d6e-b0ec-b0c06e692fc3\",\"attributes\":{\"tags\":[\"hv_created\"],\"renderers\":\"auto\",\"zoom_together\":\"none\"}},{\"type\":\"object\",\"name\":\"HoverTool\",\"id\":\"c48bc7d6-af2c-4672-a602-5019c5eefce3\",\"attributes\":{\"tags\":[\"hv_created\"],\"renderers\":[{\"id\":\"33ba06aa-2851-40bf-b48e-3493612af4b7\"},{\"id\":\"14aad8fa-2442-4fa3-a3fc-e40cf3b49056\"},{\"id\":\"0555958a-4447-4a86-95aa-80f756e268a1\"},{\"id\":\"788ce833-f9ce-4329-8fd5-b4183c9b7499\"}],\"tooltips\":[[\"segment\",\"@{segment}\"],[\"recency\",\"@{recency}\"],[\"monetary\",\"@{monetary}\"],[\"customer_id\",\"@{customer_id}\"],[\"frequency\",\"@{frequency}\"]]}},{\"type\":\"object\",\"name\":\"SaveTool\",\"id\":\"ed620364-5622-4538-80ef-7dba0f615bf8\"},{\"type\":\"object\",\"name\":\"PanTool\",\"id\":\"a265a545-674d-4b43-9cf5-da386e6289b5\"},{\"type\":\"object\",\"name\":\"BoxZoomTool\",\"id\":\"1adf8d11-4d96-49b4-bdd4-cde9b637f0a3\",\"attributes\":{\"overlay\":{\"type\":\"object\",\"name\":\"BoxAnnotation\",\"id\":\"ed4f78f6-58ce-4d77-ac05-4f5aa6970109\",\"attributes\":{\"syncable\":false,\"line_color\":\"black\",\"line_alpha\":1.0,\"line_width\":2,\"line_dash\":[4,4],\"fill_color\":\"lightgrey\",\"fill_alpha\":0.5,\"level\":\"overlay\",\"visible\":false,\"left\":{\"type\":\"number\",\"value\":\"nan\"},\"right\":{\"type\":\"number\",\"value\":\"nan\"},\"top\":{\"type\":\"number\",\"value\":\"nan\"},\"bottom\":{\"type\":\"number\",\"value\":\"nan\"},\"left_units\":\"canvas\",\"right_units\":\"canvas\",\"top_units\":\"canvas\",\"bottom_units\":\"canvas\",\"handles\":{\"type\":\"object\",\"name\":\"BoxInteractionHandles\",\"id\":\"1366ffae-fcd7-4fa4-8bde-8e372ccc3bf4\",\"attributes\":{\"all\":{\"type\":\"object\",\"name\":\"AreaVisuals\",\"id\":\"11ddeb8a-14bb-4f90-9e7a-618faf23d0d6\",\"attributes\":{\"fill_color\":\"white\",\"hover_fill_color\":\"lightgray\"}}}}}}}},{\"type\":\"object\",\"name\":\"ResetTool\",\"id\":\"ad42b638-b170-46d3-994a-4fd45d42082e\"}],\"active_drag\":{\"id\":\"a265a545-674d-4b43-9cf5-da386e6289b5\"},\"active_scroll\":{\"id\":\"1225e019-d4bf-4d6e-b0ec-b0c06e692fc3\"}}},\"left\":[{\"type\":\"object\",\"name\":\"LinearAxis\",\"id\":\"162c5b9d-1758-49ca-8ecf-4b315c24de47\",\"attributes\":{\"ticker\":{\"type\":\"object\",\"name\":\"BasicTicker\",\"id\":\"c904535e-aef6-4584-a8d9-ac2a18c0bc4b\",\"attributes\":{\"mantissas\":[1,2,5]}},\"formatter\":{\"type\":\"object\",\"name\":\"BasicTickFormatter\",\"id\":\"78b0f252-76ef-4f7b-a54c-ac10dfec90ac\"},\"axis_label\":\"monetary\",\"major_label_policy\":{\"type\":\"object\",\"name\":\"AllLabels\",\"id\":\"7451a9ab-1cfd-4ff7-8abc-ad229be1ac4a\"}}}],\"right\":[{\"type\":\"object\",\"name\":\"Legend\",\"id\":\"b773137d-98b0-4812-8072-b6ef98a40e47\",\"attributes\":{\"location\":[0,0],\"title\":\"segment\",\"click_policy\":\"mute\",\"items\":[{\"type\":\"object\",\"name\":\"LegendItem\",\"id\":\"fefa559e-bf1b-49e2-95c9-2fbec60b555a\",\"attributes\":{\"label\":{\"type\":\"value\",\"value\":\"1\"},\"renderers\":[{\"id\":\"33ba06aa-2851-40bf-b48e-3493612af4b7\"}]}},{\"type\":\"object\",\"name\":\"LegendItem\",\"id\":\"265934d2-5925-466f-927b-f8b6ceace0a1\",\"attributes\":{\"label\":{\"type\":\"value\",\"value\":\"2\"},\"renderers\":[{\"id\":\"14aad8fa-2442-4fa3-a3fc-e40cf3b49056\"}]}},{\"type\":\"object\",\"name\":\"LegendItem\",\"id\":\"2516e6c6-7bb8-4251-8d5a-03a0f7514126\",\"attributes\":{\"label\":{\"type\":\"value\",\"value\":\"0\"},\"renderers\":[{\"id\":\"0555958a-4447-4a86-95aa-80f756e268a1\"}]}},{\"type\":\"object\",\"name\":\"LegendItem\",\"id\":\"97f31db6-0390-4315-9eb6-03c7b1b3d3e8\",\"attributes\":{\"label\":{\"type\":\"value\",\"value\":\"3\"},\"renderers\":[{\"id\":\"788ce833-f9ce-4329-8fd5-b4183c9b7499\"}]}}]}}],\"below\":[{\"type\":\"object\",\"name\":\"LinearAxis\",\"id\":\"98201409-6af5-4368-b687-6f11b3761852\",\"attributes\":{\"ticker\":{\"type\":\"object\",\"name\":\"BasicTicker\",\"id\":\"605d5290-b938-45fd-bd31-4107ed0e701e\",\"attributes\":{\"mantissas\":[1,2,5]}},\"formatter\":{\"type\":\"object\",\"name\":\"BasicTickFormatter\",\"id\":\"cb326561-2113-42c5-8ffb-2b29be7fbcba\"},\"axis_label\":\"recency\",\"major_label_policy\":{\"type\":\"object\",\"name\":\"AllLabels\",\"id\":\"a89a174c-4fa6-4c8b-af85-a192e9d52432\"}}}],\"center\":[{\"type\":\"object\",\"name\":\"Grid\",\"id\":\"7bb58637-beae-4938-b016-3496293f9a71\",\"attributes\":{\"axis\":{\"id\":\"98201409-6af5-4368-b687-6f11b3761852\"},\"grid_line_color\":null}},{\"type\":\"object\",\"name\":\"Grid\",\"id\":\"5cae1d8a-d52d-4b1f-b199-53f34739430b\",\"attributes\":{\"dimension\":1,\"axis\":{\"id\":\"162c5b9d-1758-49ca-8ecf-4b315c24de47\"},\"grid_line_color\":null}}],\"min_border_top\":10,\"min_border_bottom\":10,\"min_border_left\":10,\"min_border_right\":10,\"output_backend\":\"webgl\"}},{\"type\":\"object\",\"name\":\"Spacer\",\"id\":\"5a0c1012-2877-4ae1-b109-7d93a33e1c37\",\"attributes\":{\"name\":\"HSpacer10443\",\"stylesheets\":[\"\\n:host(.pn-loading):before, .pn-loading:before {\\n  background-color: #c3c3c3;\\n  mask-size: auto calc(min(50%, 400px));\\n  -webkit-mask-size: auto calc(min(50%, 400px));\\n}\",{\"id\":\"cafd1383-071c-4076-8cb2-b4fef71375fb\"},{\"id\":\"5a01c71b-732b-4ed2-b55e-a0d607292a3e\"},{\"id\":\"d5974906-4fc6-412c-a8e1-207e2c43aa71\"}],\"margin\":0,\"sizing_mode\":\"stretch_width\",\"align\":\"start\"}}]}}],\"defs\":[{\"type\":\"model\",\"name\":\"ReactiveHTML1\"},{\"type\":\"model\",\"name\":\"FlexBox1\",\"properties\":[{\"name\":\"align_content\",\"kind\":\"Any\",\"default\":\"flex-start\"},{\"name\":\"align_items\",\"kind\":\"Any\",\"default\":\"flex-start\"},{\"name\":\"flex_direction\",\"kind\":\"Any\",\"default\":\"row\"},{\"name\":\"flex_wrap\",\"kind\":\"Any\",\"default\":\"wrap\"},{\"name\":\"gap\",\"kind\":\"Any\",\"default\":\"\"},{\"name\":\"justify_content\",\"kind\":\"Any\",\"default\":\"flex-start\"}]},{\"type\":\"model\",\"name\":\"FloatPanel1\",\"properties\":[{\"name\":\"config\",\"kind\":\"Any\",\"default\":{\"type\":\"map\"}},{\"name\":\"contained\",\"kind\":\"Any\",\"default\":true},{\"name\":\"position\",\"kind\":\"Any\",\"default\":\"right-top\"},{\"name\":\"offsetx\",\"kind\":\"Any\",\"default\":null},{\"name\":\"offsety\",\"kind\":\"Any\",\"default\":null},{\"name\":\"theme\",\"kind\":\"Any\",\"default\":\"primary\"},{\"name\":\"status\",\"kind\":\"Any\",\"default\":\"normalized\"}]},{\"type\":\"model\",\"name\":\"GridStack1\",\"properties\":[{\"name\":\"mode\",\"kind\":\"Any\",\"default\":\"warn\"},{\"name\":\"ncols\",\"kind\":\"Any\",\"default\":null},{\"name\":\"nrows\",\"kind\":\"Any\",\"default\":null},{\"name\":\"allow_resize\",\"kind\":\"Any\",\"default\":true},{\"name\":\"allow_drag\",\"kind\":\"Any\",\"default\":true},{\"name\":\"state\",\"kind\":\"Any\",\"default\":[]}]},{\"type\":\"model\",\"name\":\"drag1\",\"properties\":[{\"name\":\"slider_width\",\"kind\":\"Any\",\"default\":5},{\"name\":\"slider_color\",\"kind\":\"Any\",\"default\":\"black\"},{\"name\":\"value\",\"kind\":\"Any\",\"default\":50}]},{\"type\":\"model\",\"name\":\"click1\",\"properties\":[{\"name\":\"terminal_output\",\"kind\":\"Any\",\"default\":\"\"},{\"name\":\"debug_name\",\"kind\":\"Any\",\"default\":\"\"},{\"name\":\"clears\",\"kind\":\"Any\",\"default\":0}]},{\"type\":\"model\",\"name\":\"FastWrapper1\",\"properties\":[{\"name\":\"object\",\"kind\":\"Any\",\"default\":null},{\"name\":\"style\",\"kind\":\"Any\",\"default\":null}]},{\"type\":\"model\",\"name\":\"NotificationAreaBase1\",\"properties\":[{\"name\":\"js_events\",\"kind\":\"Any\",\"default\":{\"type\":\"map\"}},{\"name\":\"position\",\"kind\":\"Any\",\"default\":\"bottom-right\"},{\"name\":\"_clear\",\"kind\":\"Any\",\"default\":0}]},{\"type\":\"model\",\"name\":\"NotificationArea1\",\"properties\":[{\"name\":\"js_events\",\"kind\":\"Any\",\"default\":{\"type\":\"map\"}},{\"name\":\"notifications\",\"kind\":\"Any\",\"default\":[]},{\"name\":\"position\",\"kind\":\"Any\",\"default\":\"bottom-right\"},{\"name\":\"_clear\",\"kind\":\"Any\",\"default\":0},{\"name\":\"types\",\"kind\":\"Any\",\"default\":[{\"type\":\"map\",\"entries\":[[\"type\",\"warning\"],[\"background\",\"#ffc107\"],[\"icon\",{\"type\":\"map\",\"entries\":[[\"className\",\"fas fa-exclamation-triangle\"],[\"tagName\",\"i\"],[\"color\",\"white\"]]}]]},{\"type\":\"map\",\"entries\":[[\"type\",\"info\"],[\"background\",\"#007bff\"],[\"icon\",{\"type\":\"map\",\"entries\":[[\"className\",\"fas fa-info-circle\"],[\"tagName\",\"i\"],[\"color\",\"white\"]]}]]}]}]},{\"type\":\"model\",\"name\":\"Notification\",\"properties\":[{\"name\":\"background\",\"kind\":\"Any\",\"default\":null},{\"name\":\"duration\",\"kind\":\"Any\",\"default\":3000},{\"name\":\"icon\",\"kind\":\"Any\",\"default\":null},{\"name\":\"message\",\"kind\":\"Any\",\"default\":\"\"},{\"name\":\"notification_type\",\"kind\":\"Any\",\"default\":null},{\"name\":\"_destroyed\",\"kind\":\"Any\",\"default\":false}]},{\"type\":\"model\",\"name\":\"TemplateActions1\",\"properties\":[{\"name\":\"open_modal\",\"kind\":\"Any\",\"default\":0},{\"name\":\"close_modal\",\"kind\":\"Any\",\"default\":0}]},{\"type\":\"model\",\"name\":\"BootstrapTemplateActions1\",\"properties\":[{\"name\":\"open_modal\",\"kind\":\"Any\",\"default\":0},{\"name\":\"close_modal\",\"kind\":\"Any\",\"default\":0}]},{\"type\":\"model\",\"name\":\"TemplateEditor1\",\"properties\":[{\"name\":\"layout\",\"kind\":\"Any\",\"default\":[]}]},{\"type\":\"model\",\"name\":\"MaterialTemplateActions1\",\"properties\":[{\"name\":\"open_modal\",\"kind\":\"Any\",\"default\":0},{\"name\":\"close_modal\",\"kind\":\"Any\",\"default\":0}]},{\"type\":\"model\",\"name\":\"ReactiveESM1\"},{\"type\":\"model\",\"name\":\"JSComponent1\"},{\"type\":\"model\",\"name\":\"ReactComponent1\"},{\"type\":\"model\",\"name\":\"AnyWidgetComponent1\"},{\"type\":\"model\",\"name\":\"request_value1\",\"properties\":[{\"name\":\"fill\",\"kind\":\"Any\",\"default\":\"none\"},{\"name\":\"_synced\",\"kind\":\"Any\",\"default\":null},{\"name\":\"_request_sync\",\"kind\":\"Any\",\"default\":0}]}]}};\n",
       "  var render_items = [{\"docid\":\"d4d38cef-fd83-40da-99c4-d2c1215aa6ed\",\"roots\":{\"a3a0f567-a2b6-4fbf-a9dd-4423c2f85f17\":\"a4d87bf2-ffb1-4863-88af-ff216cb0b880\"},\"root_ids\":[\"a3a0f567-a2b6-4fbf-a9dd-4423c2f85f17\"]}];\n",
       "  var docs = Object.values(docs_json)\n",
       "  if (!docs) {\n",
       "    return\n",
       "  }\n",
       "  const py_version = docs[0].version.replace('rc', '-rc.').replace('.dev', '-dev.')\n",
       "  async function embed_document(root) {\n",
       "    var Bokeh = get_bokeh(root)\n",
       "    await Bokeh.embed.embed_items_notebook(docs_json, render_items);\n",
       "    for (const render_item of render_items) {\n",
       "      for (const root_id of render_item.root_ids) {\n",
       "\tconst id_el = document.getElementById(root_id)\n",
       "\tif (id_el.children.length && id_el.children[0].hasAttribute('data-root-id')) {\n",
       "\t  const root_el = id_el.children[0]\n",
       "\t  root_el.id = root_el.id + '-rendered'\n",
       "\t  for (const child of root_el.children) {\n",
       "            // Ensure JupyterLab does not capture keyboard shortcuts\n",
       "            // see: https://jupyterlab.readthedocs.io/en/4.1.x/extension/notebook.html#keyboard-interaction-model\n",
       "\t    child.setAttribute('data-lm-suppress-shortcuts', 'true')\n",
       "\t  }\n",
       "\t}\n",
       "      }\n",
       "    }\n",
       "  }\n",
       "  function get_bokeh(root) {\n",
       "    if (root.Bokeh === undefined) {\n",
       "      return null\n",
       "    } else if (root.Bokeh.version !== py_version) {\n",
       "      if (root.Bokeh.versions === undefined || !root.Bokeh.versions.has(py_version)) {\n",
       "\treturn null\n",
       "      }\n",
       "      return root.Bokeh.versions.get(py_version);\n",
       "    } else if (root.Bokeh.version === py_version) {\n",
       "      return root.Bokeh\n",
       "    }\n",
       "    return null\n",
       "  }\n",
       "  function is_loaded(root) {\n",
       "    var Bokeh = get_bokeh(root)\n",
       "    return (Bokeh != null && Bokeh.Panel !== undefined)\n",
       "  }\n",
       "  if (is_loaded(root)) {\n",
       "    embed_document(root);\n",
       "  } else {\n",
       "    var attempts = 0;\n",
       "    var timer = setInterval(function(root) {\n",
       "      if (is_loaded(root)) {\n",
       "        clearInterval(timer);\n",
       "        embed_document(root);\n",
       "      } else if (document.readyState == \"complete\") {\n",
       "        attempts++;\n",
       "        if (attempts > 200) {\n",
       "          clearInterval(timer);\n",
       "\t  var Bokeh = get_bokeh(root)\n",
       "\t  if (Bokeh == null || Bokeh.Panel == null) {\n",
       "            console.warn(\"Panel: ERROR: Unable to run Panel code because Bokeh or Panel library is missing\");\n",
       "\t  } else {\n",
       "\t    console.warn(\"Panel: WARNING: Attempting to render but not all required libraries could be resolved.\")\n",
       "\t    embed_document(root)\n",
       "\t  }\n",
       "        }\n",
       "      }\n",
       "    }, 25, root)\n",
       "  }\n",
       "})(window);</script>"
      ],
      "text/plain": [
       ":NdOverlay   [segment]\n",
       "   :Scatter   [recency]   (monetary,customer_id,frequency,segment)"
      ]
     },
     "metadata": {
      "application/vnd.holoviews_exec.v0+json": {
       "id": "a3a0f567-a2b6-4fbf-a9dd-4423c2f85f17"
      }
     },
     "output_type": "display_data"
    },
    {
     "name": "stdout",
     "output_type": "stream",
     "text": [
      "---------------------------------------------------------------CALINSKI HARABASZ SCORE----------------------------------------------------------------\n",
      "[{'k': 2, 'score': 67.55615501238614}, {'k': 3, 'score': 59.06841551216313}, {'k': 4, 'score': 65.71807359121111}, {'k': 5, 'score': 76.4364754417785}]\n",
      "Best k value = 5 (ch_score score = 76.436)\n"
     ]
    },
    {
     "data": {},
     "metadata": {},
     "output_type": "display_data"
    },
    {
     "data": {
      "application/vnd.holoviews_exec.v0+json": "",
      "text/html": [
       "<div id='342bfecd-2cc6-46af-a8bc-740302cdb3a8'>\n",
       "  <div id=\"edddb6e3-9dec-422f-bf25-cea02eab3ea7\" data-root-id=\"342bfecd-2cc6-46af-a8bc-740302cdb3a8\" style=\"display: contents;\"></div>\n",
       "</div>\n",
       "<script type=\"application/javascript\">(function(root) {\n",
       "  var docs_json = {\"6ea4e400-cbbf-4dcd-813d-09a7d565d0b0\":{\"version\":\"3.5.2\",\"title\":\"Bokeh Application\",\"roots\":[{\"type\":\"object\",\"name\":\"Row\",\"id\":\"342bfecd-2cc6-46af-a8bc-740302cdb3a8\",\"attributes\":{\"name\":\"Row10604\",\"tags\":[\"embedded\"],\"stylesheets\":[\"\\n:host(.pn-loading):before, .pn-loading:before {\\n  background-color: #c3c3c3;\\n  mask-size: auto calc(min(50%, 400px));\\n  -webkit-mask-size: auto calc(min(50%, 400px));\\n}\",{\"type\":\"object\",\"name\":\"ImportedStyleSheet\",\"id\":\"a69104e4-add4-4c04-b0b6-9e18192cc58b\",\"attributes\":{\"url\":\"https://cdn.holoviz.org/panel/1.5.3/dist/css/loading.css\"}},{\"type\":\"object\",\"name\":\"ImportedStyleSheet\",\"id\":\"554ee528-7059-4c0a-8c21-f5b18fc418a9\",\"attributes\":{\"url\":\"https://cdn.holoviz.org/panel/1.5.3/dist/css/listpanel.css\"}},{\"type\":\"object\",\"name\":\"ImportedStyleSheet\",\"id\":\"83a0c47a-15fe-4c9c-81b7-e01fa965605c\",\"attributes\":{\"url\":\"https://cdn.holoviz.org/panel/1.5.3/dist/bundled/theme/default.css\"}},{\"type\":\"object\",\"name\":\"ImportedStyleSheet\",\"id\":\"80ce1dc2-5889-4fa4-bff7-4aa9a446bbe3\",\"attributes\":{\"url\":\"https://cdn.holoviz.org/panel/1.5.3/dist/bundled/theme/native.css\"}}],\"min_width\":700,\"margin\":0,\"sizing_mode\":\"stretch_width\",\"align\":\"start\",\"children\":[{\"type\":\"object\",\"name\":\"Spacer\",\"id\":\"098f60c8-af58-41ad-bf92-74bcd13695d6\",\"attributes\":{\"name\":\"HSpacer10608\",\"stylesheets\":[\"\\n:host(.pn-loading):before, .pn-loading:before {\\n  background-color: #c3c3c3;\\n  mask-size: auto calc(min(50%, 400px));\\n  -webkit-mask-size: auto calc(min(50%, 400px));\\n}\",{\"id\":\"a69104e4-add4-4c04-b0b6-9e18192cc58b\"},{\"id\":\"83a0c47a-15fe-4c9c-81b7-e01fa965605c\"},{\"id\":\"80ce1dc2-5889-4fa4-bff7-4aa9a446bbe3\"}],\"margin\":0,\"sizing_mode\":\"stretch_width\",\"align\":\"start\"}},{\"type\":\"object\",\"name\":\"Figure\",\"id\":\"96e649fa-b8aa-4010-b54a-19bea0543a42\",\"attributes\":{\"width\":700,\"height\":300,\"margin\":[5,10],\"sizing_mode\":\"fixed\",\"align\":\"start\",\"x_range\":{\"type\":\"object\",\"name\":\"Range1d\",\"id\":\"3ccfd8ca-54ed-43f8-abb8-f043518f6c4e\",\"attributes\":{\"name\":\"recency\",\"tags\":[[[\"recency\",null]],[]],\"start\":-21.17142857142857,\"end\":515.1714285714286,\"reset_start\":-21.17142857142857,\"reset_end\":515.1714285714286}},\"y_range\":{\"type\":\"object\",\"name\":\"Range1d\",\"id\":\"fb0b1653-7a3d-4f06-be4d-bf23761508e6\",\"attributes\":{\"name\":\"monetary\",\"tags\":[[[\"monetary\",null]],{\"type\":\"map\",\"entries\":[[\"invert_yaxis\",false],[\"autorange\",false]]}],\"start\":8.672644096702083,\"end\":14.03322663243378,\"reset_start\":8.672644096702083,\"reset_end\":14.03322663243378}},\"x_scale\":{\"type\":\"object\",\"name\":\"LinearScale\",\"id\":\"eb69f193-4cca-446e-97a8-074369f70dd0\"},\"y_scale\":{\"type\":\"object\",\"name\":\"LinearScale\",\"id\":\"437c8834-3fd8-4728-a216-d7e8ac9490e4\"},\"title\":{\"type\":\"object\",\"name\":\"Title\",\"id\":\"67eb1b67-e85c-4e83-89d0-b27f91b95300\",\"attributes\":{\"text_color\":\"black\",\"text_font_size\":\"12pt\"}},\"renderers\":[{\"type\":\"object\",\"name\":\"GlyphRenderer\",\"id\":\"a329a381-cc43-4b85-87fe-61c35b89cda3\",\"attributes\":{\"name\":\"2\",\"data_source\":{\"type\":\"object\",\"name\":\"ColumnDataSource\",\"id\":\"28de2ff2-d436-4599-a70f-107e99c00186\",\"attributes\":{\"selected\":{\"type\":\"object\",\"name\":\"Selection\",\"id\":\"60ba44ee-1ee1-40c2-8c5d-41abc50d9916\",\"attributes\":{\"indices\":[],\"line_indices\":[]}},\"selection_policy\":{\"type\":\"object\",\"name\":\"UnionRenderers\",\"id\":\"5d40cc11-8ff6-4606-b672-d0517fc7c56d\"},\"data\":{\"type\":\"map\",\"entries\":[[\"recency\",{\"type\":\"ndarray\",\"array\":{\"type\":\"bytes\",\"data\":\"twAAALwAAACEAAAAKAAAAKcAAACCAAAALgAAAAwAAABhAAAAwgAAALoAAAAZAAAAgwAAAEsAAABFAAAAtQAAACEAAABLAAAAPQAAAAAAAABTAAAAxAAAAMUAAACXAAAAqQAAABAAAAB9AAAAwQAAAGcAAABqAAAABwAAACcAAAAYAAAATAAAADIAAAAwAAAA\"},\"shape\":[36],\"dtype\":\"int32\",\"order\":\"little\"}],[\"monetary\",{\"type\":\"ndarray\",\"array\":{\"type\":\"bytes\",\"data\":\"pn+61XFeJ0Bw2fhQz18nQI7RoAtNZydA7aAn5GfiJkD5PV5xr2MoQMJrzRKEMidAf2DPWGYRJ0Ct5JPBOxAnQCTS9lc1PSdAWkdXDIyTJ0D6eWguXasnQOG+7rpdZidAMuQLx4hJJ0CyvhUoFQEnQKIZB0+u4ydA6/b8DTPwJ0AB1FJeLJcmQET5WPa0tiZA7VT5bCSLJkAQaw8WiNUnQBCsTHPR1SdANXGnnXxSJ0CnRk3WlmYnQGxjyesfLCdABxNivQ1sKEBdv9O3320mQKrER352HSdASfpfTEBVJ0AaXEU8VaUnQFX3ih+GHCdAFVmkQ1K8J0AILp1NJT4mQNaxY2FlUCdApapxeTofKEBdTqtVkVMmQKBOWCFwoCdA\"},\"shape\":[36],\"dtype\":\"float64\",\"order\":\"little\"}],[\"customer_id\",{\"type\":\"ndarray\",\"array\":{\"type\":\"bytes\",\"data\":\"AQAAAAMAAAAFAAAABwAAAAgAAAAJAAAACgAAAAsAAAAMAAAADwAAABEAAAAVAAAAFgAAABgAAAAbAAAAHQAAACYAAAAnAAAAKAAAACsAAAAsAAAALgAAADUAAAA9AAAAPgAAAD8AAABAAAAAQQAAAEMAAABFAAAARwAAAE8AAABRAAAAUgAAAFgAAABaAAAA\"},\"shape\":[36],\"dtype\":\"int32\",\"order\":\"little\"}],[\"frequency\",{\"type\":\"ndarray\",\"array\":{\"type\":\"bytes\",\"data\":\"REQLbI4Q6D+KO75yNr7rP4o7vnI2vus/REQLbI4Q6D+KO75yNr7rP0REC2yOEOg/REQLbI4Q6D9ERAtsjhDoP0REC2yOEOg/REQLbI4Q6D9ERAtsjhDoP4o7vnI2vus/REQLbI4Q6D9ERAtsjhDoP4o7vnI2vus/REQLbI4Q6D9ERAtsjhDoP2HxfEc9WuE/REQLbI4Q6D+KO75yNr7rP4o7vnI2vus/REQLbI4Q6D9ERAtsjhDoP0REC2yOEOg/KV3S5mQa7j9ERAtsjhDoP0REC2yOEOg/iju+cja+6z9ERAtsjhDoP0REC2yOEOg/REQLbI4Q6D9h8XxHPVrhP4o7vnI2vus/KV3S5mQa7j9ERAtsjhDoPyld0uZkGu4/\"},\"shape\":[36],\"dtype\":\"float64\",\"order\":\"little\"}],[\"segment\",{\"type\":\"ndarray\",\"array\":{\"type\":\"bytes\",\"data\":\"AgAAAAIAAAACAAAAAgAAAAIAAAACAAAAAgAAAAIAAAACAAAAAgAAAAIAAAACAAAAAgAAAAIAAAACAAAAAgAAAAIAAAACAAAAAgAAAAIAAAACAAAAAgAAAAIAAAACAAAAAgAAAAIAAAACAAAAAgAAAAIAAAACAAAAAgAAAAIAAAACAAAAAgAAAAIAAAACAAAA\"},\"shape\":[36],\"dtype\":\"int32\",\"order\":\"little\"}]]}}},\"view\":{\"type\":\"object\",\"name\":\"CDSView\",\"id\":\"23b2bc7c-85ff-4fc1-86d0-b5b7fee05914\",\"attributes\":{\"filter\":{\"type\":\"object\",\"name\":\"AllIndices\",\"id\":\"7f358ef0-33d7-45f5-a527-613e4dd9d0b2\"}}},\"glyph\":{\"type\":\"object\",\"name\":\"Scatter\",\"id\":\"0b89cb96-2795-431a-8777-4ad7389aced1\",\"attributes\":{\"tags\":[\"apply_ranges\"],\"x\":{\"type\":\"field\",\"field\":\"recency\"},\"y\":{\"type\":\"field\",\"field\":\"monetary\"},\"size\":{\"type\":\"value\",\"value\":5.477225575051661},\"line_color\":{\"type\":\"value\",\"value\":\"#30a2da\"},\"fill_color\":{\"type\":\"value\",\"value\":\"#30a2da\"},\"hatch_color\":{\"type\":\"value\",\"value\":\"#30a2da\"}}},\"selection_glyph\":{\"type\":\"object\",\"name\":\"Scatter\",\"id\":\"02b8b759-b398-412a-ac0a-3ead67a85534\",\"attributes\":{\"tags\":[\"apply_ranges\"],\"x\":{\"type\":\"field\",\"field\":\"recency\"},\"y\":{\"type\":\"field\",\"field\":\"monetary\"},\"size\":{\"type\":\"value\",\"value\":5.477225575051661},\"angle\":{\"type\":\"value\",\"value\":0.0},\"line_color\":{\"type\":\"value\",\"value\":\"#30a2da\"},\"line_alpha\":{\"type\":\"value\",\"value\":1.0},\"line_width\":{\"type\":\"value\",\"value\":1},\"line_join\":{\"type\":\"value\",\"value\":\"bevel\"},\"line_cap\":{\"type\":\"value\",\"value\":\"butt\"},\"line_dash\":{\"type\":\"value\",\"value\":[]},\"line_dash_offset\":{\"type\":\"value\",\"value\":0},\"fill_color\":{\"type\":\"value\",\"value\":\"#30a2da\"},\"fill_alpha\":{\"type\":\"value\",\"value\":1.0},\"hatch_color\":{\"type\":\"value\",\"value\":\"#30a2da\"},\"hatch_alpha\":{\"type\":\"value\",\"value\":1.0},\"hatch_scale\":{\"type\":\"value\",\"value\":12.0},\"hatch_pattern\":{\"type\":\"value\",\"value\":null},\"hatch_weight\":{\"type\":\"value\",\"value\":1.0},\"marker\":{\"type\":\"value\",\"value\":\"circle\"}}},\"nonselection_glyph\":{\"type\":\"object\",\"name\":\"Scatter\",\"id\":\"e85c3b22-917a-4610-a8ce-c721df61e7db\",\"attributes\":{\"tags\":[\"apply_ranges\"],\"x\":{\"type\":\"field\",\"field\":\"recency\"},\"y\":{\"type\":\"field\",\"field\":\"monetary\"},\"size\":{\"type\":\"value\",\"value\":5.477225575051661},\"line_color\":{\"type\":\"value\",\"value\":\"#30a2da\"},\"line_alpha\":{\"type\":\"value\",\"value\":0.1},\"fill_color\":{\"type\":\"value\",\"value\":\"#30a2da\"},\"fill_alpha\":{\"type\":\"value\",\"value\":0.1},\"hatch_color\":{\"type\":\"value\",\"value\":\"#30a2da\"},\"hatch_alpha\":{\"type\":\"value\",\"value\":0.1}}},\"muted_glyph\":{\"type\":\"object\",\"name\":\"Scatter\",\"id\":\"871d086e-e918-4477-97fe-1baf1d8ea451\",\"attributes\":{\"tags\":[\"apply_ranges\"],\"x\":{\"type\":\"field\",\"field\":\"recency\"},\"y\":{\"type\":\"field\",\"field\":\"monetary\"},\"size\":{\"type\":\"value\",\"value\":5.477225575051661},\"line_color\":{\"type\":\"value\",\"value\":\"#30a2da\"},\"line_alpha\":{\"type\":\"value\",\"value\":0.2},\"fill_color\":{\"type\":\"value\",\"value\":\"#30a2da\"},\"fill_alpha\":{\"type\":\"value\",\"value\":0.2},\"hatch_color\":{\"type\":\"value\",\"value\":\"#30a2da\"},\"hatch_alpha\":{\"type\":\"value\",\"value\":0.2}}}}},{\"type\":\"object\",\"name\":\"GlyphRenderer\",\"id\":\"95aed821-2086-4f65-8d43-2143c6f05004\",\"attributes\":{\"name\":\"3\",\"data_source\":{\"type\":\"object\",\"name\":\"ColumnDataSource\",\"id\":\"d6f72b50-a05c-4d7b-bd3d-06f4206bf736\",\"attributes\":{\"selected\":{\"type\":\"object\",\"name\":\"Selection\",\"id\":\"31eaa8ed-5917-47d7-8fe4-b87e89ef3b7f\",\"attributes\":{\"indices\":[],\"line_indices\":[]}},\"selection_policy\":{\"type\":\"object\",\"name\":\"UnionRenderers\",\"id\":\"8b9d4a69-45a7-4f59-b062-491aa6ec5161\"},\"data\":{\"type\":\"map\",\"entries\":[[\"recency\",{\"type\":\"ndarray\",\"array\":{\"type\":\"bytes\",\"data\":\"1QAAAKUAAAC9AAAA3wAAAKkAAAANAQAADgEAACwBAAAEAQAArgAAAIMAAADXAAAAwQAAANgAAABEAAAAxQAAAMEAAADPAAAA1gAAALYAAAD6AAAAsgAAAHUAAADzAAAAsQAAALQAAAD5AAAAzwAAALUAAABoAAAAAAEAAKQAAADaAAAA\"},\"shape\":[33],\"dtype\":\"int32\",\"order\":\"little\"}],[\"monetary\",{\"type\":\"ndarray\",\"array\":{\"type\":\"bytes\",\"data\":\"XuD1sjAIJ0Crqr8W1ckmQAoxGDKJniVASgOoj/TRJUDmt816r6UmQFOln7lijyZAp6NZJ9VwJkDaOp1ANjYmQA+FrAcfWidASn6myBuKJkA8vTcz5XImQCGig8NwPSZA5mZZuGnFJkCBGj8EKBYnQK9cjrtouiVAntXYmf2IJkADdXpacrQmQOZ3K7n1dCZAU9JDk8C2JkDobg1cB+cmQEpdaNSU5yZAUpDxGRr4JkDoHcIYYJ4mQJg8qVyS7SVA+Sdo7BCGJkC1V081vm8mQDMWUNSY6CVAGtHowKkJJ0AGRlj+aasmQKKMWoyI/CVAPiXG5/8+J0BY86eudeklQJolQRfCKCZA\"},\"shape\":[33],\"dtype\":\"float64\",\"order\":\"little\"}],[\"customer_id\",{\"type\":\"ndarray\",\"array\":{\"type\":\"bytes\",\"data\":\"AgAAAAYAAAANAAAADgAAABMAAAAUAAAAFwAAABkAAAAeAAAAHwAAACAAAAAhAAAAKgAAAC8AAAAwAAAAMgAAADMAAAA0AAAANgAAADoAAAA7AAAAQgAAAEgAAABJAAAASgAAAEsAAABNAAAATgAAAFAAAABTAAAAVAAAAFUAAABXAAAA\"},\"shape\":[33],\"dtype\":\"int32\",\"order\":\"little\"}],[\"frequency\",{\"type\":\"ndarray\",\"array\":{\"type\":\"bytes\",\"data\":\"YfF8Rz1a4T9ERAtsjhDoP0REC2yOEOg/YfF8Rz1a4T9ERAtsjhDoP2HxfEc9WuE/YfF8Rz1a4T9h8XxHPVrhP2HxfEc9WuE/REQLbI4Q6D9ERAtsjhDoP2HxfEc9WuE/REQLbI4Q6D9h8XxHPVrhP0REC2yOEOg/YfF8Rz1a4T+KO75yNr7rP2HxfEc9WuE/YfF8Rz1a4T9ERAtsjhDoP2HxfEc9WuE/REQLbI4Q6D9ERAtsjhDoP2HxfEc9WuE/REQLbI4Q6D9ERAtsjhDoP2HxfEc9WuE/YfF8Rz1a4T9ERAtsjhDoP0REC2yOEOg/REQLbI4Q6D9ERAtsjhDoP2HxfEc9WuE/\"},\"shape\":[33],\"dtype\":\"float64\",\"order\":\"little\"}],[\"segment\",{\"type\":\"ndarray\",\"array\":{\"type\":\"bytes\",\"data\":\"AwAAAAMAAAADAAAAAwAAAAMAAAADAAAAAwAAAAMAAAADAAAAAwAAAAMAAAADAAAAAwAAAAMAAAADAAAAAwAAAAMAAAADAAAAAwAAAAMAAAADAAAAAwAAAAMAAAADAAAAAwAAAAMAAAADAAAAAwAAAAMAAAADAAAAAwAAAAMAAAADAAAA\"},\"shape\":[33],\"dtype\":\"int32\",\"order\":\"little\"}]]}}},\"view\":{\"type\":\"object\",\"name\":\"CDSView\",\"id\":\"70b5dc3d-fed9-4c80-bf14-e83072ca6f8a\",\"attributes\":{\"filter\":{\"type\":\"object\",\"name\":\"AllIndices\",\"id\":\"3bb194f9-a9d0-44ba-b3d3-2ccd5911747e\"}}},\"glyph\":{\"type\":\"object\",\"name\":\"Scatter\",\"id\":\"e53058f4-9066-45cd-a675-57f91282a0fb\",\"attributes\":{\"tags\":[\"apply_ranges\"],\"x\":{\"type\":\"field\",\"field\":\"recency\"},\"y\":{\"type\":\"field\",\"field\":\"monetary\"},\"size\":{\"type\":\"value\",\"value\":5.477225575051661},\"line_color\":{\"type\":\"value\",\"value\":\"#fc4f30\"},\"fill_color\":{\"type\":\"value\",\"value\":\"#fc4f30\"},\"hatch_color\":{\"type\":\"value\",\"value\":\"#fc4f30\"}}},\"selection_glyph\":{\"type\":\"object\",\"name\":\"Scatter\",\"id\":\"2e8e31cf-6126-4cdf-a94b-9b27fd04d7f6\",\"attributes\":{\"tags\":[\"apply_ranges\"],\"x\":{\"type\":\"field\",\"field\":\"recency\"},\"y\":{\"type\":\"field\",\"field\":\"monetary\"},\"size\":{\"type\":\"value\",\"value\":5.477225575051661},\"angle\":{\"type\":\"value\",\"value\":0.0},\"line_color\":{\"type\":\"value\",\"value\":\"#fc4f30\"},\"line_alpha\":{\"type\":\"value\",\"value\":1.0},\"line_width\":{\"type\":\"value\",\"value\":1},\"line_join\":{\"type\":\"value\",\"value\":\"bevel\"},\"line_cap\":{\"type\":\"value\",\"value\":\"butt\"},\"line_dash\":{\"type\":\"value\",\"value\":[]},\"line_dash_offset\":{\"type\":\"value\",\"value\":0},\"fill_color\":{\"type\":\"value\",\"value\":\"#fc4f30\"},\"fill_alpha\":{\"type\":\"value\",\"value\":1.0},\"hatch_color\":{\"type\":\"value\",\"value\":\"#fc4f30\"},\"hatch_alpha\":{\"type\":\"value\",\"value\":1.0},\"hatch_scale\":{\"type\":\"value\",\"value\":12.0},\"hatch_pattern\":{\"type\":\"value\",\"value\":null},\"hatch_weight\":{\"type\":\"value\",\"value\":1.0},\"marker\":{\"type\":\"value\",\"value\":\"circle\"}}},\"nonselection_glyph\":{\"type\":\"object\",\"name\":\"Scatter\",\"id\":\"2e87cfec-e09c-4dca-a8f7-65efe9e3fffe\",\"attributes\":{\"tags\":[\"apply_ranges\"],\"x\":{\"type\":\"field\",\"field\":\"recency\"},\"y\":{\"type\":\"field\",\"field\":\"monetary\"},\"size\":{\"type\":\"value\",\"value\":5.477225575051661},\"line_color\":{\"type\":\"value\",\"value\":\"#fc4f30\"},\"line_alpha\":{\"type\":\"value\",\"value\":0.1},\"fill_color\":{\"type\":\"value\",\"value\":\"#fc4f30\"},\"fill_alpha\":{\"type\":\"value\",\"value\":0.1},\"hatch_color\":{\"type\":\"value\",\"value\":\"#fc4f30\"},\"hatch_alpha\":{\"type\":\"value\",\"value\":0.1}}},\"muted_glyph\":{\"type\":\"object\",\"name\":\"Scatter\",\"id\":\"66c5733e-ddb9-4789-a7d3-0a058b87118f\",\"attributes\":{\"tags\":[\"apply_ranges\"],\"x\":{\"type\":\"field\",\"field\":\"recency\"},\"y\":{\"type\":\"field\",\"field\":\"monetary\"},\"size\":{\"type\":\"value\",\"value\":5.477225575051661},\"line_color\":{\"type\":\"value\",\"value\":\"#fc4f30\"},\"line_alpha\":{\"type\":\"value\",\"value\":0.2},\"fill_color\":{\"type\":\"value\",\"value\":\"#fc4f30\"},\"fill_alpha\":{\"type\":\"value\",\"value\":0.2},\"hatch_color\":{\"type\":\"value\",\"value\":\"#fc4f30\"},\"hatch_alpha\":{\"type\":\"value\",\"value\":0.2}}}}},{\"type\":\"object\",\"name\":\"GlyphRenderer\",\"id\":\"e0c65c4a-3fe2-4bb5-8440-274f3dbbf4c8\",\"attributes\":{\"name\":\"1\",\"data_source\":{\"type\":\"object\",\"name\":\"ColumnDataSource\",\"id\":\"3e0cc4c9-8388-4c42-b008-5f3e39ce68a2\",\"attributes\":{\"selected\":{\"type\":\"object\",\"name\":\"Selection\",\"id\":\"000cf20e-04cd-43b4-aa80-122f64dea632\",\"attributes\":{\"indices\":[],\"line_indices\":[]}},\"selection_policy\":{\"type\":\"object\",\"name\":\"UnionRenderers\",\"id\":\"67a0f57e-c522-4019-b7e1-a0ca187e6eb5\"},\"data\":{\"type\":\"map\",\"entries\":[[\"recency\",{\"type\":\"ndarray\",\"array\":{\"type\":\"bytes\",\"data\":\"uQEAAI8BAAB2AQAAegEAANoBAACoAQAAPwEAAL4BAABsAQAA7gEAAOEBAADOAQAAggEAAMMBAAA=\"},\"shape\":[14],\"dtype\":\"int32\",\"order\":\"little\"}],[\"monetary\",{\"type\":\"ndarray\",\"array\":{\"type\":\"bytes\",\"data\":\"MuuK4Ey9J0BaOSMYLz4mQLNaiEre/SRAhcr8HfyQJkBZNLHH/HklQIkvduYOoCVAbE50vOqlJUAD8MxNMcImQOUtvdeIBSVAF90aWVqPJUCTXcI80fskQCrH8ib4pSVAVx84A0JWJkCmUpmGB0kmQA==\"},\"shape\":[14],\"dtype\":\"float64\",\"order\":\"little\"}],[\"customer_id\",{\"type\":\"ndarray\",\"array\":{\"type\":\"bytes\",\"data\":\"BAAAABAAAAAaAAAAHAAAACQAAAApAAAALQAAADcAAAA8AAAARAAAAEYAAABMAAAAVgAAAFwAAAA=\"},\"shape\":[14],\"dtype\":\"int32\",\"order\":\"little\"}],[\"frequency\",{\"type\":\"ndarray\",\"array\":{\"type\":\"bytes\",\"data\":\"REQLbI4Q6D9h8XxHPVrhP2HxfEc9WuE/YfF8Rz1a4T9h8XxHPVrhP2HxfEc9WuE/YfF8Rz1a4T9h8XxHPVrhP2HxfEc9WuE/YfF8Rz1a4T9h8XxHPVrhP2HxfEc9WuE/YfF8Rz1a4T9h8XxHPVrhPw==\"},\"shape\":[14],\"dtype\":\"float64\",\"order\":\"little\"}],[\"segment\",{\"type\":\"ndarray\",\"array\":{\"type\":\"bytes\",\"data\":\"AQAAAAEAAAABAAAAAQAAAAEAAAABAAAAAQAAAAEAAAABAAAAAQAAAAEAAAABAAAAAQAAAAEAAAA=\"},\"shape\":[14],\"dtype\":\"int32\",\"order\":\"little\"}]]}}},\"view\":{\"type\":\"object\",\"name\":\"CDSView\",\"id\":\"d89aec2c-796c-406b-83da-1b8bbce21581\",\"attributes\":{\"filter\":{\"type\":\"object\",\"name\":\"AllIndices\",\"id\":\"f1c14b76-31e7-45da-b41b-3d6e0b95be21\"}}},\"glyph\":{\"type\":\"object\",\"name\":\"Scatter\",\"id\":\"731cf29e-b5bd-475e-88ad-b9cac5751636\",\"attributes\":{\"tags\":[\"apply_ranges\"],\"x\":{\"type\":\"field\",\"field\":\"recency\"},\"y\":{\"type\":\"field\",\"field\":\"monetary\"},\"size\":{\"type\":\"value\",\"value\":5.477225575051661},\"line_color\":{\"type\":\"value\",\"value\":\"#e5ae38\"},\"fill_color\":{\"type\":\"value\",\"value\":\"#e5ae38\"},\"hatch_color\":{\"type\":\"value\",\"value\":\"#e5ae38\"}}},\"selection_glyph\":{\"type\":\"object\",\"name\":\"Scatter\",\"id\":\"51ec964e-cbdb-4be9-95e9-7b3159a5364a\",\"attributes\":{\"tags\":[\"apply_ranges\"],\"x\":{\"type\":\"field\",\"field\":\"recency\"},\"y\":{\"type\":\"field\",\"field\":\"monetary\"},\"size\":{\"type\":\"value\",\"value\":5.477225575051661},\"angle\":{\"type\":\"value\",\"value\":0.0},\"line_color\":{\"type\":\"value\",\"value\":\"#e5ae38\"},\"line_alpha\":{\"type\":\"value\",\"value\":1.0},\"line_width\":{\"type\":\"value\",\"value\":1},\"line_join\":{\"type\":\"value\",\"value\":\"bevel\"},\"line_cap\":{\"type\":\"value\",\"value\":\"butt\"},\"line_dash\":{\"type\":\"value\",\"value\":[]},\"line_dash_offset\":{\"type\":\"value\",\"value\":0},\"fill_color\":{\"type\":\"value\",\"value\":\"#e5ae38\"},\"fill_alpha\":{\"type\":\"value\",\"value\":1.0},\"hatch_color\":{\"type\":\"value\",\"value\":\"#e5ae38\"},\"hatch_alpha\":{\"type\":\"value\",\"value\":1.0},\"hatch_scale\":{\"type\":\"value\",\"value\":12.0},\"hatch_pattern\":{\"type\":\"value\",\"value\":null},\"hatch_weight\":{\"type\":\"value\",\"value\":1.0},\"marker\":{\"type\":\"value\",\"value\":\"circle\"}}},\"nonselection_glyph\":{\"type\":\"object\",\"name\":\"Scatter\",\"id\":\"0db8175c-9b9f-492d-a258-4be80c5999ae\",\"attributes\":{\"tags\":[\"apply_ranges\"],\"x\":{\"type\":\"field\",\"field\":\"recency\"},\"y\":{\"type\":\"field\",\"field\":\"monetary\"},\"size\":{\"type\":\"value\",\"value\":5.477225575051661},\"line_color\":{\"type\":\"value\",\"value\":\"#e5ae38\"},\"line_alpha\":{\"type\":\"value\",\"value\":0.1},\"fill_color\":{\"type\":\"value\",\"value\":\"#e5ae38\"},\"fill_alpha\":{\"type\":\"value\",\"value\":0.1},\"hatch_color\":{\"type\":\"value\",\"value\":\"#e5ae38\"},\"hatch_alpha\":{\"type\":\"value\",\"value\":0.1}}},\"muted_glyph\":{\"type\":\"object\",\"name\":\"Scatter\",\"id\":\"437f4781-7621-454d-b22b-ed58ff05427e\",\"attributes\":{\"tags\":[\"apply_ranges\"],\"x\":{\"type\":\"field\",\"field\":\"recency\"},\"y\":{\"type\":\"field\",\"field\":\"monetary\"},\"size\":{\"type\":\"value\",\"value\":5.477225575051661},\"line_color\":{\"type\":\"value\",\"value\":\"#e5ae38\"},\"line_alpha\":{\"type\":\"value\",\"value\":0.2},\"fill_color\":{\"type\":\"value\",\"value\":\"#e5ae38\"},\"fill_alpha\":{\"type\":\"value\",\"value\":0.2},\"hatch_color\":{\"type\":\"value\",\"value\":\"#e5ae38\"},\"hatch_alpha\":{\"type\":\"value\",\"value\":0.2}}}}},{\"type\":\"object\",\"name\":\"GlyphRenderer\",\"id\":\"11476c68-b335-4f18-a615-da1446c38b04\",\"attributes\":{\"name\":\"0\",\"data_source\":{\"type\":\"object\",\"name\":\"ColumnDataSource\",\"id\":\"d56613cd-aab0-476b-bd9b-a13c5ad6c16d\",\"attributes\":{\"selected\":{\"type\":\"object\",\"name\":\"Selection\",\"id\":\"b530c810-253f-4f42-af14-3c5970a9d5b4\",\"attributes\":{\"indices\":[],\"line_indices\":[]}},\"selection_policy\":{\"type\":\"object\",\"name\":\"UnionRenderers\",\"id\":\"266e9c73-b04e-4a9a-b4fa-c0d0e688bf00\"},\"data\":{\"type\":\"map\",\"entries\":[[\"recency\",{\"type\":\"ndarray\",\"array\":{\"type\":\"bytes\",\"data\":\"wwAAAPkAAAClAAAAYgAAAH8AAACtAAAA9AAAAA==\"},\"shape\":[7],\"dtype\":\"int32\",\"order\":\"little\"}],[\"monetary\",{\"type\":\"ndarray\",\"array\":{\"type\":\"bytes\",\"data\":\"em6j4D3RJEDQkr1HjuskQPSfrYpJXiRAT8fIqRw9IkD128vtx9UkQFMYTL/HLyRAedkB2wjtJEA=\"},\"shape\":[7],\"dtype\":\"float64\",\"order\":\"little\"}],[\"customer_id\",{\"type\":\"ndarray\",\"array\":{\"type\":\"bytes\",\"data\":\"EgAAACIAAAAjAAAAMQAAADgAAAA5AAAAWQAAAA==\"},\"shape\":[7],\"dtype\":\"int32\",\"order\":\"little\"}],[\"frequency\",{\"type\":\"ndarray\",\"array\":{\"type\":\"bytes\",\"data\":\"YfF8Rz1a4T9h8XxHPVrhP0REC2yOEOg/YfF8Rz1a4T+KO75yNr7rP0REC2yOEOg/AAAAAAAAAAA=\"},\"shape\":[7],\"dtype\":\"float64\",\"order\":\"little\"}],[\"segment\",{\"type\":\"ndarray\",\"array\":{\"type\":\"bytes\",\"data\":\"AAAAAAAAAAAAAAAAAAAAAAAAAAAAAAAAAAAAAA==\"},\"shape\":[7],\"dtype\":\"int32\",\"order\":\"little\"}]]}}},\"view\":{\"type\":\"object\",\"name\":\"CDSView\",\"id\":\"8a261c30-cf9d-4726-8dfd-960aa6f6165a\",\"attributes\":{\"filter\":{\"type\":\"object\",\"name\":\"AllIndices\",\"id\":\"bf74d592-6da3-46d6-abb3-45cc4a427192\"}}},\"glyph\":{\"type\":\"object\",\"name\":\"Scatter\",\"id\":\"9a986fc8-fd1f-4101-a08c-2b089f60e2db\",\"attributes\":{\"tags\":[\"apply_ranges\"],\"x\":{\"type\":\"field\",\"field\":\"recency\"},\"y\":{\"type\":\"field\",\"field\":\"monetary\"},\"size\":{\"type\":\"value\",\"value\":5.477225575051661},\"line_color\":{\"type\":\"value\",\"value\":\"#6d904f\"},\"fill_color\":{\"type\":\"value\",\"value\":\"#6d904f\"},\"hatch_color\":{\"type\":\"value\",\"value\":\"#6d904f\"}}},\"selection_glyph\":{\"type\":\"object\",\"name\":\"Scatter\",\"id\":\"81a68eda-a3b8-49fa-bead-6d5c9f8a23a0\",\"attributes\":{\"tags\":[\"apply_ranges\"],\"x\":{\"type\":\"field\",\"field\":\"recency\"},\"y\":{\"type\":\"field\",\"field\":\"monetary\"},\"size\":{\"type\":\"value\",\"value\":5.477225575051661},\"angle\":{\"type\":\"value\",\"value\":0.0},\"line_color\":{\"type\":\"value\",\"value\":\"#6d904f\"},\"line_alpha\":{\"type\":\"value\",\"value\":1.0},\"line_width\":{\"type\":\"value\",\"value\":1},\"line_join\":{\"type\":\"value\",\"value\":\"bevel\"},\"line_cap\":{\"type\":\"value\",\"value\":\"butt\"},\"line_dash\":{\"type\":\"value\",\"value\":[]},\"line_dash_offset\":{\"type\":\"value\",\"value\":0},\"fill_color\":{\"type\":\"value\",\"value\":\"#6d904f\"},\"fill_alpha\":{\"type\":\"value\",\"value\":1.0},\"hatch_color\":{\"type\":\"value\",\"value\":\"#6d904f\"},\"hatch_alpha\":{\"type\":\"value\",\"value\":1.0},\"hatch_scale\":{\"type\":\"value\",\"value\":12.0},\"hatch_pattern\":{\"type\":\"value\",\"value\":null},\"hatch_weight\":{\"type\":\"value\",\"value\":1.0},\"marker\":{\"type\":\"value\",\"value\":\"circle\"}}},\"nonselection_glyph\":{\"type\":\"object\",\"name\":\"Scatter\",\"id\":\"2ed5125a-2575-4358-9d2c-ebf8bbb27002\",\"attributes\":{\"tags\":[\"apply_ranges\"],\"x\":{\"type\":\"field\",\"field\":\"recency\"},\"y\":{\"type\":\"field\",\"field\":\"monetary\"},\"size\":{\"type\":\"value\",\"value\":5.477225575051661},\"line_color\":{\"type\":\"value\",\"value\":\"#6d904f\"},\"line_alpha\":{\"type\":\"value\",\"value\":0.1},\"fill_color\":{\"type\":\"value\",\"value\":\"#6d904f\"},\"fill_alpha\":{\"type\":\"value\",\"value\":0.1},\"hatch_color\":{\"type\":\"value\",\"value\":\"#6d904f\"},\"hatch_alpha\":{\"type\":\"value\",\"value\":0.1}}},\"muted_glyph\":{\"type\":\"object\",\"name\":\"Scatter\",\"id\":\"ff4aca60-290e-4566-af9c-e156d19b762d\",\"attributes\":{\"tags\":[\"apply_ranges\"],\"x\":{\"type\":\"field\",\"field\":\"recency\"},\"y\":{\"type\":\"field\",\"field\":\"monetary\"},\"size\":{\"type\":\"value\",\"value\":5.477225575051661},\"line_color\":{\"type\":\"value\",\"value\":\"#6d904f\"},\"line_alpha\":{\"type\":\"value\",\"value\":0.2},\"fill_color\":{\"type\":\"value\",\"value\":\"#6d904f\"},\"fill_alpha\":{\"type\":\"value\",\"value\":0.2},\"hatch_color\":{\"type\":\"value\",\"value\":\"#6d904f\"},\"hatch_alpha\":{\"type\":\"value\",\"value\":0.2}}}}},{\"type\":\"object\",\"name\":\"GlyphRenderer\",\"id\":\"a09a27e9-cc9e-4686-9ee3-9aeeb60c9102\",\"attributes\":{\"name\":\"4\",\"data_source\":{\"type\":\"object\",\"name\":\"ColumnDataSource\",\"id\":\"8328a2ad-bbc5-4aa3-b769-744966fd03d0\",\"attributes\":{\"selected\":{\"type\":\"object\",\"name\":\"Selection\",\"id\":\"60e4cbc1-9798-42d4-a6b5-454dd2dea061\",\"attributes\":{\"indices\":[],\"line_indices\":[]}},\"selection_policy\":{\"type\":\"object\",\"name\":\"UnionRenderers\",\"id\":\"84adcacf-0f54-4f11-a2b1-a47e8eeb8e31\"},\"data\":{\"type\":\"map\",\"entries\":[[\"recency\",{\"type\":\"ndarray\",\"array\":{\"type\":\"bytes\",\"data\":\"DgAAADcAAAA=\"},\"shape\":[2],\"dtype\":\"int32\",\"order\":\"little\"}],[\"monetary\",{\"type\":\"ndarray\",\"array\":{\"type\":\"bytes\",\"data\":\"5+eYOUssK0DngIqfFcMqQA==\"},\"shape\":[2],\"dtype\":\"float64\",\"order\":\"little\"}],[\"customer_id\",{\"type\":\"ndarray\",\"array\":{\"type\":\"bytes\",\"data\":\"JQAAAFsAAAA=\"},\"shape\":[2],\"dtype\":\"int32\",\"order\":\"little\"}],[\"frequency\",{\"type\":\"ndarray\",\"array\":{\"type\":\"bytes\",\"data\":\"+XZkR/N/8z+gPTe0W9jyPw==\"},\"shape\":[2],\"dtype\":\"float64\",\"order\":\"little\"}],[\"segment\",{\"type\":\"ndarray\",\"array\":{\"type\":\"bytes\",\"data\":\"BAAAAAQAAAA=\"},\"shape\":[2],\"dtype\":\"int32\",\"order\":\"little\"}]]}}},\"view\":{\"type\":\"object\",\"name\":\"CDSView\",\"id\":\"0af4cca7-ded8-4d11-9bd5-45362c1bb833\",\"attributes\":{\"filter\":{\"type\":\"object\",\"name\":\"AllIndices\",\"id\":\"9896399e-c6a7-41eb-a001-3f2fd4c61ac2\"}}},\"glyph\":{\"type\":\"object\",\"name\":\"Scatter\",\"id\":\"438910ba-01b0-4bed-ad2e-a90d59a9eb3a\",\"attributes\":{\"tags\":[\"apply_ranges\"],\"x\":{\"type\":\"field\",\"field\":\"recency\"},\"y\":{\"type\":\"field\",\"field\":\"monetary\"},\"size\":{\"type\":\"value\",\"value\":5.477225575051661},\"line_color\":{\"type\":\"value\",\"value\":\"#8b8b8b\"},\"fill_color\":{\"type\":\"value\",\"value\":\"#8b8b8b\"},\"hatch_color\":{\"type\":\"value\",\"value\":\"#8b8b8b\"}}},\"selection_glyph\":{\"type\":\"object\",\"name\":\"Scatter\",\"id\":\"fe099ca3-18ab-4400-90e8-ceafbaa7b9aa\",\"attributes\":{\"tags\":[\"apply_ranges\"],\"x\":{\"type\":\"field\",\"field\":\"recency\"},\"y\":{\"type\":\"field\",\"field\":\"monetary\"},\"size\":{\"type\":\"value\",\"value\":5.477225575051661},\"angle\":{\"type\":\"value\",\"value\":0.0},\"line_color\":{\"type\":\"value\",\"value\":\"#8b8b8b\"},\"line_alpha\":{\"type\":\"value\",\"value\":1.0},\"line_width\":{\"type\":\"value\",\"value\":1},\"line_join\":{\"type\":\"value\",\"value\":\"bevel\"},\"line_cap\":{\"type\":\"value\",\"value\":\"butt\"},\"line_dash\":{\"type\":\"value\",\"value\":[]},\"line_dash_offset\":{\"type\":\"value\",\"value\":0},\"fill_color\":{\"type\":\"value\",\"value\":\"#8b8b8b\"},\"fill_alpha\":{\"type\":\"value\",\"value\":1.0},\"hatch_color\":{\"type\":\"value\",\"value\":\"#8b8b8b\"},\"hatch_alpha\":{\"type\":\"value\",\"value\":1.0},\"hatch_scale\":{\"type\":\"value\",\"value\":12.0},\"hatch_pattern\":{\"type\":\"value\",\"value\":null},\"hatch_weight\":{\"type\":\"value\",\"value\":1.0},\"marker\":{\"type\":\"value\",\"value\":\"circle\"}}},\"nonselection_glyph\":{\"type\":\"object\",\"name\":\"Scatter\",\"id\":\"d69c7838-4f44-49e8-8ae0-d3fb16bdb998\",\"attributes\":{\"tags\":[\"apply_ranges\"],\"x\":{\"type\":\"field\",\"field\":\"recency\"},\"y\":{\"type\":\"field\",\"field\":\"monetary\"},\"size\":{\"type\":\"value\",\"value\":5.477225575051661},\"line_color\":{\"type\":\"value\",\"value\":\"#8b8b8b\"},\"line_alpha\":{\"type\":\"value\",\"value\":0.1},\"fill_color\":{\"type\":\"value\",\"value\":\"#8b8b8b\"},\"fill_alpha\":{\"type\":\"value\",\"value\":0.1},\"hatch_color\":{\"type\":\"value\",\"value\":\"#8b8b8b\"},\"hatch_alpha\":{\"type\":\"value\",\"value\":0.1}}},\"muted_glyph\":{\"type\":\"object\",\"name\":\"Scatter\",\"id\":\"0c65e951-862b-4b2d-87b5-20d9274a22e6\",\"attributes\":{\"tags\":[\"apply_ranges\"],\"x\":{\"type\":\"field\",\"field\":\"recency\"},\"y\":{\"type\":\"field\",\"field\":\"monetary\"},\"size\":{\"type\":\"value\",\"value\":5.477225575051661},\"line_color\":{\"type\":\"value\",\"value\":\"#8b8b8b\"},\"line_alpha\":{\"type\":\"value\",\"value\":0.2},\"fill_color\":{\"type\":\"value\",\"value\":\"#8b8b8b\"},\"fill_alpha\":{\"type\":\"value\",\"value\":0.2},\"hatch_color\":{\"type\":\"value\",\"value\":\"#8b8b8b\"},\"hatch_alpha\":{\"type\":\"value\",\"value\":0.2}}}}}],\"toolbar\":{\"type\":\"object\",\"name\":\"Toolbar\",\"id\":\"f7d66c13-5def-479a-80f6-9fb956b12da1\",\"attributes\":{\"tools\":[{\"type\":\"object\",\"name\":\"WheelZoomTool\",\"id\":\"c6c64f32-372b-40dd-a907-375c2fb8f4ca\",\"attributes\":{\"tags\":[\"hv_created\"],\"renderers\":\"auto\",\"zoom_together\":\"none\"}},{\"type\":\"object\",\"name\":\"HoverTool\",\"id\":\"7e7bb3c1-9ad8-4f6e-972e-cdf25bba6b8c\",\"attributes\":{\"tags\":[\"hv_created\"],\"renderers\":[{\"id\":\"a329a381-cc43-4b85-87fe-61c35b89cda3\"},{\"id\":\"95aed821-2086-4f65-8d43-2143c6f05004\"},{\"id\":\"e0c65c4a-3fe2-4bb5-8440-274f3dbbf4c8\"},{\"id\":\"11476c68-b335-4f18-a615-da1446c38b04\"},{\"id\":\"a09a27e9-cc9e-4686-9ee3-9aeeb60c9102\"}],\"tooltips\":[[\"segment\",\"@{segment}\"],[\"recency\",\"@{recency}\"],[\"monetary\",\"@{monetary}\"],[\"customer_id\",\"@{customer_id}\"],[\"frequency\",\"@{frequency}\"]]}},{\"type\":\"object\",\"name\":\"SaveTool\",\"id\":\"bc58d7dc-6bba-4f95-ae9c-426515e98a0a\"},{\"type\":\"object\",\"name\":\"PanTool\",\"id\":\"b33ff339-fe5d-49c5-9f5b-47bf1ffbc16e\"},{\"type\":\"object\",\"name\":\"BoxZoomTool\",\"id\":\"c98ab855-fb18-49a4-9294-fbda1a5576dc\",\"attributes\":{\"overlay\":{\"type\":\"object\",\"name\":\"BoxAnnotation\",\"id\":\"6354472c-a439-48a3-b545-faef1b6b0d8a\",\"attributes\":{\"syncable\":false,\"line_color\":\"black\",\"line_alpha\":1.0,\"line_width\":2,\"line_dash\":[4,4],\"fill_color\":\"lightgrey\",\"fill_alpha\":0.5,\"level\":\"overlay\",\"visible\":false,\"left\":{\"type\":\"number\",\"value\":\"nan\"},\"right\":{\"type\":\"number\",\"value\":\"nan\"},\"top\":{\"type\":\"number\",\"value\":\"nan\"},\"bottom\":{\"type\":\"number\",\"value\":\"nan\"},\"left_units\":\"canvas\",\"right_units\":\"canvas\",\"top_units\":\"canvas\",\"bottom_units\":\"canvas\",\"handles\":{\"type\":\"object\",\"name\":\"BoxInteractionHandles\",\"id\":\"2dbeb4b1-7cfb-4a0c-a77a-6a5a3cd2e0e1\",\"attributes\":{\"all\":{\"type\":\"object\",\"name\":\"AreaVisuals\",\"id\":\"039037b7-43a9-4c62-93cb-de46785fd0c9\",\"attributes\":{\"fill_color\":\"white\",\"hover_fill_color\":\"lightgray\"}}}}}}}},{\"type\":\"object\",\"name\":\"ResetTool\",\"id\":\"505da993-2d78-4537-a4b1-f5834e2d9355\"}],\"active_drag\":{\"id\":\"b33ff339-fe5d-49c5-9f5b-47bf1ffbc16e\"},\"active_scroll\":{\"id\":\"c6c64f32-372b-40dd-a907-375c2fb8f4ca\"}}},\"left\":[{\"type\":\"object\",\"name\":\"LinearAxis\",\"id\":\"997f8904-d43a-4c0f-80f6-97c06c39a8d3\",\"attributes\":{\"ticker\":{\"type\":\"object\",\"name\":\"BasicTicker\",\"id\":\"9e7875b6-f4da-417e-8f05-9abc2313d9c1\",\"attributes\":{\"mantissas\":[1,2,5]}},\"formatter\":{\"type\":\"object\",\"name\":\"BasicTickFormatter\",\"id\":\"d3185ea5-0f3d-4aea-adb7-8512e7e5945f\"},\"axis_label\":\"monetary\",\"major_label_policy\":{\"type\":\"object\",\"name\":\"AllLabels\",\"id\":\"7e4104eb-330f-4a97-9d0d-4b361aa35c75\"}}}],\"right\":[{\"type\":\"object\",\"name\":\"Legend\",\"id\":\"dc57df6c-26e0-4b6a-8ddc-b96356961920\",\"attributes\":{\"location\":[0,0],\"title\":\"segment\",\"click_policy\":\"mute\",\"items\":[{\"type\":\"object\",\"name\":\"LegendItem\",\"id\":\"0e29030c-838e-48d0-87ac-15ed76873b5a\",\"attributes\":{\"label\":{\"type\":\"value\",\"value\":\"2\"},\"renderers\":[{\"id\":\"a329a381-cc43-4b85-87fe-61c35b89cda3\"}]}},{\"type\":\"object\",\"name\":\"LegendItem\",\"id\":\"6fce32e2-70ff-4a35-bcf5-58ebbae7cbe5\",\"attributes\":{\"label\":{\"type\":\"value\",\"value\":\"3\"},\"renderers\":[{\"id\":\"95aed821-2086-4f65-8d43-2143c6f05004\"}]}},{\"type\":\"object\",\"name\":\"LegendItem\",\"id\":\"fc73538d-9f9f-4ab9-a4bc-367c43f78d0c\",\"attributes\":{\"label\":{\"type\":\"value\",\"value\":\"1\"},\"renderers\":[{\"id\":\"e0c65c4a-3fe2-4bb5-8440-274f3dbbf4c8\"}]}},{\"type\":\"object\",\"name\":\"LegendItem\",\"id\":\"7cb57e4f-945b-4d3f-9d26-db15cbb23dd7\",\"attributes\":{\"label\":{\"type\":\"value\",\"value\":\"0\"},\"renderers\":[{\"id\":\"11476c68-b335-4f18-a615-da1446c38b04\"}]}},{\"type\":\"object\",\"name\":\"LegendItem\",\"id\":\"ef79d822-1cee-4a76-b757-c2e6b4f2e78b\",\"attributes\":{\"label\":{\"type\":\"value\",\"value\":\"4\"},\"renderers\":[{\"id\":\"a09a27e9-cc9e-4686-9ee3-9aeeb60c9102\"}]}}]}}],\"below\":[{\"type\":\"object\",\"name\":\"LinearAxis\",\"id\":\"fb636a7d-d293-40ed-b22d-3881c5b5fc02\",\"attributes\":{\"ticker\":{\"type\":\"object\",\"name\":\"BasicTicker\",\"id\":\"ab17bc8f-85a4-4e8d-aade-568c2f693dba\",\"attributes\":{\"mantissas\":[1,2,5]}},\"formatter\":{\"type\":\"object\",\"name\":\"BasicTickFormatter\",\"id\":\"c5c09599-806a-456e-a801-d7bac0e7bfdc\"},\"axis_label\":\"recency\",\"major_label_policy\":{\"type\":\"object\",\"name\":\"AllLabels\",\"id\":\"fab2bf60-42dd-4441-9816-b9bca3886dbb\"}}}],\"center\":[{\"type\":\"object\",\"name\":\"Grid\",\"id\":\"296d9efb-30fc-4716-a53b-c2819c1a5f29\",\"attributes\":{\"axis\":{\"id\":\"fb636a7d-d293-40ed-b22d-3881c5b5fc02\"},\"grid_line_color\":null}},{\"type\":\"object\",\"name\":\"Grid\",\"id\":\"ad07e877-3dc2-44c4-be1c-213bc103ca56\",\"attributes\":{\"dimension\":1,\"axis\":{\"id\":\"997f8904-d43a-4c0f-80f6-97c06c39a8d3\"},\"grid_line_color\":null}}],\"min_border_top\":10,\"min_border_bottom\":10,\"min_border_left\":10,\"min_border_right\":10,\"output_backend\":\"webgl\"}},{\"type\":\"object\",\"name\":\"Spacer\",\"id\":\"d5243d12-c50c-4987-a127-d60d18b21a70\",\"attributes\":{\"name\":\"HSpacer10609\",\"stylesheets\":[\"\\n:host(.pn-loading):before, .pn-loading:before {\\n  background-color: #c3c3c3;\\n  mask-size: auto calc(min(50%, 400px));\\n  -webkit-mask-size: auto calc(min(50%, 400px));\\n}\",{\"id\":\"a69104e4-add4-4c04-b0b6-9e18192cc58b\"},{\"id\":\"83a0c47a-15fe-4c9c-81b7-e01fa965605c\"},{\"id\":\"80ce1dc2-5889-4fa4-bff7-4aa9a446bbe3\"}],\"margin\":0,\"sizing_mode\":\"stretch_width\",\"align\":\"start\"}}]}}],\"defs\":[{\"type\":\"model\",\"name\":\"ReactiveHTML1\"},{\"type\":\"model\",\"name\":\"FlexBox1\",\"properties\":[{\"name\":\"align_content\",\"kind\":\"Any\",\"default\":\"flex-start\"},{\"name\":\"align_items\",\"kind\":\"Any\",\"default\":\"flex-start\"},{\"name\":\"flex_direction\",\"kind\":\"Any\",\"default\":\"row\"},{\"name\":\"flex_wrap\",\"kind\":\"Any\",\"default\":\"wrap\"},{\"name\":\"gap\",\"kind\":\"Any\",\"default\":\"\"},{\"name\":\"justify_content\",\"kind\":\"Any\",\"default\":\"flex-start\"}]},{\"type\":\"model\",\"name\":\"FloatPanel1\",\"properties\":[{\"name\":\"config\",\"kind\":\"Any\",\"default\":{\"type\":\"map\"}},{\"name\":\"contained\",\"kind\":\"Any\",\"default\":true},{\"name\":\"position\",\"kind\":\"Any\",\"default\":\"right-top\"},{\"name\":\"offsetx\",\"kind\":\"Any\",\"default\":null},{\"name\":\"offsety\",\"kind\":\"Any\",\"default\":null},{\"name\":\"theme\",\"kind\":\"Any\",\"default\":\"primary\"},{\"name\":\"status\",\"kind\":\"Any\",\"default\":\"normalized\"}]},{\"type\":\"model\",\"name\":\"GridStack1\",\"properties\":[{\"name\":\"mode\",\"kind\":\"Any\",\"default\":\"warn\"},{\"name\":\"ncols\",\"kind\":\"Any\",\"default\":null},{\"name\":\"nrows\",\"kind\":\"Any\",\"default\":null},{\"name\":\"allow_resize\",\"kind\":\"Any\",\"default\":true},{\"name\":\"allow_drag\",\"kind\":\"Any\",\"default\":true},{\"name\":\"state\",\"kind\":\"Any\",\"default\":[]}]},{\"type\":\"model\",\"name\":\"drag1\",\"properties\":[{\"name\":\"slider_width\",\"kind\":\"Any\",\"default\":5},{\"name\":\"slider_color\",\"kind\":\"Any\",\"default\":\"black\"},{\"name\":\"value\",\"kind\":\"Any\",\"default\":50}]},{\"type\":\"model\",\"name\":\"click1\",\"properties\":[{\"name\":\"terminal_output\",\"kind\":\"Any\",\"default\":\"\"},{\"name\":\"debug_name\",\"kind\":\"Any\",\"default\":\"\"},{\"name\":\"clears\",\"kind\":\"Any\",\"default\":0}]},{\"type\":\"model\",\"name\":\"FastWrapper1\",\"properties\":[{\"name\":\"object\",\"kind\":\"Any\",\"default\":null},{\"name\":\"style\",\"kind\":\"Any\",\"default\":null}]},{\"type\":\"model\",\"name\":\"NotificationAreaBase1\",\"properties\":[{\"name\":\"js_events\",\"kind\":\"Any\",\"default\":{\"type\":\"map\"}},{\"name\":\"position\",\"kind\":\"Any\",\"default\":\"bottom-right\"},{\"name\":\"_clear\",\"kind\":\"Any\",\"default\":0}]},{\"type\":\"model\",\"name\":\"NotificationArea1\",\"properties\":[{\"name\":\"js_events\",\"kind\":\"Any\",\"default\":{\"type\":\"map\"}},{\"name\":\"notifications\",\"kind\":\"Any\",\"default\":[]},{\"name\":\"position\",\"kind\":\"Any\",\"default\":\"bottom-right\"},{\"name\":\"_clear\",\"kind\":\"Any\",\"default\":0},{\"name\":\"types\",\"kind\":\"Any\",\"default\":[{\"type\":\"map\",\"entries\":[[\"type\",\"warning\"],[\"background\",\"#ffc107\"],[\"icon\",{\"type\":\"map\",\"entries\":[[\"className\",\"fas fa-exclamation-triangle\"],[\"tagName\",\"i\"],[\"color\",\"white\"]]}]]},{\"type\":\"map\",\"entries\":[[\"type\",\"info\"],[\"background\",\"#007bff\"],[\"icon\",{\"type\":\"map\",\"entries\":[[\"className\",\"fas fa-info-circle\"],[\"tagName\",\"i\"],[\"color\",\"white\"]]}]]}]}]},{\"type\":\"model\",\"name\":\"Notification\",\"properties\":[{\"name\":\"background\",\"kind\":\"Any\",\"default\":null},{\"name\":\"duration\",\"kind\":\"Any\",\"default\":3000},{\"name\":\"icon\",\"kind\":\"Any\",\"default\":null},{\"name\":\"message\",\"kind\":\"Any\",\"default\":\"\"},{\"name\":\"notification_type\",\"kind\":\"Any\",\"default\":null},{\"name\":\"_destroyed\",\"kind\":\"Any\",\"default\":false}]},{\"type\":\"model\",\"name\":\"TemplateActions1\",\"properties\":[{\"name\":\"open_modal\",\"kind\":\"Any\",\"default\":0},{\"name\":\"close_modal\",\"kind\":\"Any\",\"default\":0}]},{\"type\":\"model\",\"name\":\"BootstrapTemplateActions1\",\"properties\":[{\"name\":\"open_modal\",\"kind\":\"Any\",\"default\":0},{\"name\":\"close_modal\",\"kind\":\"Any\",\"default\":0}]},{\"type\":\"model\",\"name\":\"TemplateEditor1\",\"properties\":[{\"name\":\"layout\",\"kind\":\"Any\",\"default\":[]}]},{\"type\":\"model\",\"name\":\"MaterialTemplateActions1\",\"properties\":[{\"name\":\"open_modal\",\"kind\":\"Any\",\"default\":0},{\"name\":\"close_modal\",\"kind\":\"Any\",\"default\":0}]},{\"type\":\"model\",\"name\":\"ReactiveESM1\"},{\"type\":\"model\",\"name\":\"JSComponent1\"},{\"type\":\"model\",\"name\":\"ReactComponent1\"},{\"type\":\"model\",\"name\":\"AnyWidgetComponent1\"},{\"type\":\"model\",\"name\":\"request_value1\",\"properties\":[{\"name\":\"fill\",\"kind\":\"Any\",\"default\":\"none\"},{\"name\":\"_synced\",\"kind\":\"Any\",\"default\":null},{\"name\":\"_request_sync\",\"kind\":\"Any\",\"default\":0}]}]}};\n",
       "  var render_items = [{\"docid\":\"6ea4e400-cbbf-4dcd-813d-09a7d565d0b0\",\"roots\":{\"342bfecd-2cc6-46af-a8bc-740302cdb3a8\":\"edddb6e3-9dec-422f-bf25-cea02eab3ea7\"},\"root_ids\":[\"342bfecd-2cc6-46af-a8bc-740302cdb3a8\"]}];\n",
       "  var docs = Object.values(docs_json)\n",
       "  if (!docs) {\n",
       "    return\n",
       "  }\n",
       "  const py_version = docs[0].version.replace('rc', '-rc.').replace('.dev', '-dev.')\n",
       "  async function embed_document(root) {\n",
       "    var Bokeh = get_bokeh(root)\n",
       "    await Bokeh.embed.embed_items_notebook(docs_json, render_items);\n",
       "    for (const render_item of render_items) {\n",
       "      for (const root_id of render_item.root_ids) {\n",
       "\tconst id_el = document.getElementById(root_id)\n",
       "\tif (id_el.children.length && id_el.children[0].hasAttribute('data-root-id')) {\n",
       "\t  const root_el = id_el.children[0]\n",
       "\t  root_el.id = root_el.id + '-rendered'\n",
       "\t  for (const child of root_el.children) {\n",
       "            // Ensure JupyterLab does not capture keyboard shortcuts\n",
       "            // see: https://jupyterlab.readthedocs.io/en/4.1.x/extension/notebook.html#keyboard-interaction-model\n",
       "\t    child.setAttribute('data-lm-suppress-shortcuts', 'true')\n",
       "\t  }\n",
       "\t}\n",
       "      }\n",
       "    }\n",
       "  }\n",
       "  function get_bokeh(root) {\n",
       "    if (root.Bokeh === undefined) {\n",
       "      return null\n",
       "    } else if (root.Bokeh.version !== py_version) {\n",
       "      if (root.Bokeh.versions === undefined || !root.Bokeh.versions.has(py_version)) {\n",
       "\treturn null\n",
       "      }\n",
       "      return root.Bokeh.versions.get(py_version);\n",
       "    } else if (root.Bokeh.version === py_version) {\n",
       "      return root.Bokeh\n",
       "    }\n",
       "    return null\n",
       "  }\n",
       "  function is_loaded(root) {\n",
       "    var Bokeh = get_bokeh(root)\n",
       "    return (Bokeh != null && Bokeh.Panel !== undefined)\n",
       "  }\n",
       "  if (is_loaded(root)) {\n",
       "    embed_document(root);\n",
       "  } else {\n",
       "    var attempts = 0;\n",
       "    var timer = setInterval(function(root) {\n",
       "      if (is_loaded(root)) {\n",
       "        clearInterval(timer);\n",
       "        embed_document(root);\n",
       "      } else if (document.readyState == \"complete\") {\n",
       "        attempts++;\n",
       "        if (attempts > 200) {\n",
       "          clearInterval(timer);\n",
       "\t  var Bokeh = get_bokeh(root)\n",
       "\t  if (Bokeh == null || Bokeh.Panel == null) {\n",
       "            console.warn(\"Panel: ERROR: Unable to run Panel code because Bokeh or Panel library is missing\");\n",
       "\t  } else {\n",
       "\t    console.warn(\"Panel: WARNING: Attempting to render but not all required libraries could be resolved.\")\n",
       "\t    embed_document(root)\n",
       "\t  }\n",
       "        }\n",
       "      }\n",
       "    }, 25, root)\n",
       "  }\n",
       "})(window);</script>"
      ],
      "text/plain": [
       ":NdOverlay   [segment]\n",
       "   :Scatter   [recency]   (monetary,customer_id,frequency,segment)"
      ]
     },
     "metadata": {
      "application/vnd.holoviews_exec.v0+json": {
       "id": "342bfecd-2cc6-46af-a8bc-740302cdb3a8"
      }
     },
     "output_type": "display_data"
    }
   ],
   "source": [
    "k_options = [2,3,4,5]\n",
    "#cols = ['recency', 'monetary']\n",
    "\n",
    "\n",
    "# get segments for both metrics\n",
    "print('SILHOUETTE SCORE'.center(150, '-'))\n",
    "s_segments_df, s_segments_plot = get_k_means_segments(\n",
    "    scaled_data=scaled_rfm_df[cols], og_data=transformed_rfm_df,\n",
    "    k_values=k_options, metric='silhouette'\n",
    ")\n",
    "\n",
    "print('CALINSKI HARABASZ SCORE'.center(150, '-'))\n",
    "ch_segments_df, ch_segments_plot = get_k_means_segments(\n",
    "    scaled_data=scaled_rfm_df[cols], og_data=transformed_rfm_df, \n",
    "    k_values=k_options, metric='ch_score'\n",
    ")"
   ]
  },
  {
   "cell_type": "markdown",
   "metadata": {},
   "source": [
    "### Recency & Frequency"
   ]
  },
  {
   "cell_type": "code",
   "execution_count": 113,
   "metadata": {},
   "outputs": [
    {
     "data": {},
     "metadata": {},
     "output_type": "display_data"
    },
    {
     "data": {
      "application/vnd.holoviews_exec.v0+json": "",
      "text/html": [
       "<div id='bead9316-55b7-430a-a15c-94cdca7c2e95'>\n",
       "  <div id=\"b558ecd4-becf-46bb-8f7a-f04087d94a0b\" data-root-id=\"bead9316-55b7-430a-a15c-94cdca7c2e95\" style=\"display: contents;\"></div>\n",
       "</div>\n",
       "<script type=\"application/javascript\">(function(root) {\n",
       "  var docs_json = {\"a1601350-3d31-415b-815a-23d17a9fa5a4\":{\"version\":\"3.5.2\",\"title\":\"Bokeh Application\",\"roots\":[{\"type\":\"object\",\"name\":\"Row\",\"id\":\"bead9316-55b7-430a-a15c-94cdca7c2e95\",\"attributes\":{\"name\":\"Row10754\",\"tags\":[\"embedded\"],\"stylesheets\":[\"\\n:host(.pn-loading):before, .pn-loading:before {\\n  background-color: #c3c3c3;\\n  mask-size: auto calc(min(50%, 400px));\\n  -webkit-mask-size: auto calc(min(50%, 400px));\\n}\",{\"type\":\"object\",\"name\":\"ImportedStyleSheet\",\"id\":\"ef5f2f69-b153-412c-a781-f275ea42b6ba\",\"attributes\":{\"url\":\"https://cdn.holoviz.org/panel/1.5.3/dist/css/loading.css\"}},{\"type\":\"object\",\"name\":\"ImportedStyleSheet\",\"id\":\"078328d0-0f98-4abd-b95c-78e6291ede2e\",\"attributes\":{\"url\":\"https://cdn.holoviz.org/panel/1.5.3/dist/css/listpanel.css\"}},{\"type\":\"object\",\"name\":\"ImportedStyleSheet\",\"id\":\"d12bb426-7bc3-4e79-96e1-f3738e64f674\",\"attributes\":{\"url\":\"https://cdn.holoviz.org/panel/1.5.3/dist/bundled/theme/default.css\"}},{\"type\":\"object\",\"name\":\"ImportedStyleSheet\",\"id\":\"ab987aa6-9430-486e-808c-806e19edc5a3\",\"attributes\":{\"url\":\"https://cdn.holoviz.org/panel/1.5.3/dist/bundled/theme/native.css\"}}],\"min_width\":700,\"margin\":0,\"sizing_mode\":\"stretch_width\",\"align\":\"start\",\"children\":[{\"type\":\"object\",\"name\":\"Spacer\",\"id\":\"95fe4ebb-56dd-4677-9f63-9160fa17bfd1\",\"attributes\":{\"name\":\"HSpacer10758\",\"stylesheets\":[\"\\n:host(.pn-loading):before, .pn-loading:before {\\n  background-color: #c3c3c3;\\n  mask-size: auto calc(min(50%, 400px));\\n  -webkit-mask-size: auto calc(min(50%, 400px));\\n}\",{\"id\":\"ef5f2f69-b153-412c-a781-f275ea42b6ba\"},{\"id\":\"d12bb426-7bc3-4e79-96e1-f3738e64f674\"},{\"id\":\"ab987aa6-9430-486e-808c-806e19edc5a3\"}],\"margin\":0,\"sizing_mode\":\"stretch_width\",\"align\":\"start\"}},{\"type\":\"object\",\"name\":\"Figure\",\"id\":\"0653c0bc-82f1-46e1-81d4-3b8afb4f28cb\",\"attributes\":{\"width\":700,\"height\":300,\"margin\":[5,10],\"sizing_mode\":\"fixed\",\"align\":\"start\",\"x_range\":{\"type\":\"object\",\"name\":\"Range1d\",\"id\":\"a6f61232-5558-4ba6-9070-6497dfbe6ddd\",\"attributes\":{\"name\":\"k\",\"tags\":[[[\"k\",null]],[]],\"start\":1.0,\"end\":10.0,\"reset_start\":1.0,\"reset_end\":10.0}},\"y_range\":{\"type\":\"object\",\"name\":\"Range1d\",\"id\":\"d5fbb677-f812-4867-8b18-07d3ccf0c7c2\",\"attributes\":{\"name\":\"inertia\",\"tags\":[[[\"inertia\",null]],{\"type\":\"map\",\"entries\":[[\"invert_yaxis\",false],[\"autorange\",false]]}],\"start\":-7.123471482050694,\"end\":135.50504987837056,\"reset_start\":-7.123471482050694,\"reset_end\":135.50504987837056}},\"x_scale\":{\"type\":\"object\",\"name\":\"LinearScale\",\"id\":\"c03a9c11-8a0a-4a2c-a915-0a44579ad883\"},\"y_scale\":{\"type\":\"object\",\"name\":\"LinearScale\",\"id\":\"46836d6f-cc11-4651-b246-bbced98113b4\"},\"title\":{\"type\":\"object\",\"name\":\"Title\",\"id\":\"735a8b0f-caf6-4e34-9a9b-69186bf2bec0\",\"attributes\":{\"text_color\":\"black\",\"text_font_size\":\"12pt\"}},\"renderers\":[{\"type\":\"object\",\"name\":\"GlyphRenderer\",\"id\":\"f653de74-78a0-4c07-90c9-9a512539c689\",\"attributes\":{\"data_source\":{\"type\":\"object\",\"name\":\"ColumnDataSource\",\"id\":\"0969f268-9263-4daa-8574-97f6246645ee\",\"attributes\":{\"selected\":{\"type\":\"object\",\"name\":\"Selection\",\"id\":\"78b7f13c-cb26-43d3-b7fa-f5ef1a8839a8\",\"attributes\":{\"indices\":[],\"line_indices\":[]}},\"selection_policy\":{\"type\":\"object\",\"name\":\"UnionRenderers\",\"id\":\"0b04f17f-21d0-439e-8f0d-d0727e4eac71\"},\"data\":{\"type\":\"map\",\"entries\":[[\"k\",{\"type\":\"ndarray\",\"array\":{\"type\":\"bytes\",\"data\":\"AQAAAAIAAAADAAAABAAAAAUAAAAGAAAABwAAAAgAAAAJAAAACgAAAA==\"},\"shape\":[10],\"dtype\":\"int32\",\"order\":\"little\"}],[\"inertia\",{\"type\":\"ndarray\",\"array\":{\"type\":\"bytes\",\"data\":\"+PJAQ6PnXkCzVj3nmlxKQP4gwPrrhEJAZYaMv0VKOkCsj7HBmcYzQAu61aJFwCpAIOHskuvtI0DULEBstl4fQClZFFgk9BdAsQelSIgME0A=\"},\"shape\":[10],\"dtype\":\"float64\",\"order\":\"little\"}]]}}},\"view\":{\"type\":\"object\",\"name\":\"CDSView\",\"id\":\"3fb302bf-5f24-45a3-9128-3ae20d393cf4\",\"attributes\":{\"filter\":{\"type\":\"object\",\"name\":\"AllIndices\",\"id\":\"06007565-b721-42c2-9287-3d4e8cdeb16a\"}}},\"glyph\":{\"type\":\"object\",\"name\":\"Line\",\"id\":\"ed33c247-074b-4fe0-aa51-226fd00f9434\",\"attributes\":{\"tags\":[\"apply_ranges\"],\"x\":{\"type\":\"field\",\"field\":\"k\"},\"y\":{\"type\":\"field\",\"field\":\"inertia\"},\"line_color\":\"#30a2da\",\"line_width\":2}},\"selection_glyph\":{\"type\":\"object\",\"name\":\"Line\",\"id\":\"0c3461f7-5474-4f8c-8187-2b0340ff9989\",\"attributes\":{\"tags\":[\"apply_ranges\"],\"x\":{\"type\":\"field\",\"field\":\"k\"},\"y\":{\"type\":\"field\",\"field\":\"inertia\"},\"line_color\":\"#30a2da\",\"line_width\":2}},\"nonselection_glyph\":{\"type\":\"object\",\"name\":\"Line\",\"id\":\"f8cd6df0-799f-4062-bded-53c579e5093b\",\"attributes\":{\"tags\":[\"apply_ranges\"],\"x\":{\"type\":\"field\",\"field\":\"k\"},\"y\":{\"type\":\"field\",\"field\":\"inertia\"},\"line_color\":\"#30a2da\",\"line_alpha\":0.1,\"line_width\":2}},\"muted_glyph\":{\"type\":\"object\",\"name\":\"Line\",\"id\":\"8a4ac9a3-16b7-4aef-8645-641202e1e3a5\",\"attributes\":{\"tags\":[\"apply_ranges\"],\"x\":{\"type\":\"field\",\"field\":\"k\"},\"y\":{\"type\":\"field\",\"field\":\"inertia\"},\"line_color\":\"#30a2da\",\"line_alpha\":0.2,\"line_width\":2}}}}],\"toolbar\":{\"type\":\"object\",\"name\":\"Toolbar\",\"id\":\"0751cad3-7eef-40a5-a623-cb21bdacfc51\",\"attributes\":{\"tools\":[{\"type\":\"object\",\"name\":\"WheelZoomTool\",\"id\":\"b5368053-5f5f-4bc2-82b0-52c17e91ffd9\",\"attributes\":{\"tags\":[\"hv_created\"],\"renderers\":\"auto\",\"zoom_together\":\"none\"}},{\"type\":\"object\",\"name\":\"HoverTool\",\"id\":\"973abc10-d727-4175-9075-2c8a2d23a57b\",\"attributes\":{\"tags\":[\"hv_created\"],\"renderers\":[{\"id\":\"f653de74-78a0-4c07-90c9-9a512539c689\"}],\"tooltips\":[[\"k\",\"@{k}\"],[\"inertia\",\"@{inertia}\"]]}},{\"type\":\"object\",\"name\":\"SaveTool\",\"id\":\"659495a8-4228-4404-b9f7-62e0408c762f\"},{\"type\":\"object\",\"name\":\"PanTool\",\"id\":\"b3bf1b93-8102-4fbe-ad33-417b2cc0b439\"},{\"type\":\"object\",\"name\":\"BoxZoomTool\",\"id\":\"7bd41817-3c40-4e32-a989-466c01bed5fa\",\"attributes\":{\"overlay\":{\"type\":\"object\",\"name\":\"BoxAnnotation\",\"id\":\"d75e75eb-c339-4ae3-8975-62e0db3963cb\",\"attributes\":{\"syncable\":false,\"line_color\":\"black\",\"line_alpha\":1.0,\"line_width\":2,\"line_dash\":[4,4],\"fill_color\":\"lightgrey\",\"fill_alpha\":0.5,\"level\":\"overlay\",\"visible\":false,\"left\":{\"type\":\"number\",\"value\":\"nan\"},\"right\":{\"type\":\"number\",\"value\":\"nan\"},\"top\":{\"type\":\"number\",\"value\":\"nan\"},\"bottom\":{\"type\":\"number\",\"value\":\"nan\"},\"left_units\":\"canvas\",\"right_units\":\"canvas\",\"top_units\":\"canvas\",\"bottom_units\":\"canvas\",\"handles\":{\"type\":\"object\",\"name\":\"BoxInteractionHandles\",\"id\":\"0e4c4be3-69a4-47f4-9296-38e7ed49e4e1\",\"attributes\":{\"all\":{\"type\":\"object\",\"name\":\"AreaVisuals\",\"id\":\"b4af3dd6-dc3e-41a1-b85e-98522edd0523\",\"attributes\":{\"fill_color\":\"white\",\"hover_fill_color\":\"lightgray\"}}}}}}}},{\"type\":\"object\",\"name\":\"ResetTool\",\"id\":\"2283b5fd-effa-4915-8535-5bcc406dfa54\"}],\"active_drag\":{\"id\":\"b3bf1b93-8102-4fbe-ad33-417b2cc0b439\"},\"active_scroll\":{\"id\":\"b5368053-5f5f-4bc2-82b0-52c17e91ffd9\"}}},\"left\":[{\"type\":\"object\",\"name\":\"LinearAxis\",\"id\":\"dfae89fa-d8b1-487f-b48b-051bfa8b748a\",\"attributes\":{\"ticker\":{\"type\":\"object\",\"name\":\"BasicTicker\",\"id\":\"d4f0b013-da78-4b66-9247-a5010d33de49\",\"attributes\":{\"mantissas\":[1,2,5]}},\"formatter\":{\"type\":\"object\",\"name\":\"BasicTickFormatter\",\"id\":\"910e5368-585d-496b-ab6e-4a02f0c9a76c\"},\"axis_label\":\"inertia\",\"major_label_policy\":{\"type\":\"object\",\"name\":\"AllLabels\",\"id\":\"775f3cba-33e9-4a69-9f53-eff22d8b53ba\"}}}],\"below\":[{\"type\":\"object\",\"name\":\"LinearAxis\",\"id\":\"d24174d4-9cdd-495b-8986-d92bf049e847\",\"attributes\":{\"ticker\":{\"type\":\"object\",\"name\":\"BasicTicker\",\"id\":\"95341a4b-693a-4810-b5de-b0ad39eb8c9f\",\"attributes\":{\"desired_num_ticks\":10,\"mantissas\":[1,2,5]}},\"formatter\":{\"type\":\"object\",\"name\":\"BasicTickFormatter\",\"id\":\"af2b5a21-ca81-4ca1-911e-e412373a6c77\"},\"axis_label\":\"k\",\"major_label_policy\":{\"type\":\"object\",\"name\":\"AllLabels\",\"id\":\"22b3921b-dcd9-49b1-875b-427127fc0d1b\"}}}],\"center\":[{\"type\":\"object\",\"name\":\"Grid\",\"id\":\"824f3c05-98da-43af-b2c9-2b1befec55ef\",\"attributes\":{\"axis\":{\"id\":\"d24174d4-9cdd-495b-8986-d92bf049e847\"},\"grid_line_color\":null}},{\"type\":\"object\",\"name\":\"Grid\",\"id\":\"74afb321-b788-4b82-8c8e-9aac4e43b00d\",\"attributes\":{\"dimension\":1,\"axis\":{\"id\":\"dfae89fa-d8b1-487f-b48b-051bfa8b748a\"},\"grid_line_color\":null}}],\"min_border_top\":10,\"min_border_bottom\":10,\"min_border_left\":10,\"min_border_right\":10,\"output_backend\":\"webgl\"}},{\"type\":\"object\",\"name\":\"Spacer\",\"id\":\"f00665cd-761e-4587-b157-f05efe1d328c\",\"attributes\":{\"name\":\"HSpacer10759\",\"stylesheets\":[\"\\n:host(.pn-loading):before, .pn-loading:before {\\n  background-color: #c3c3c3;\\n  mask-size: auto calc(min(50%, 400px));\\n  -webkit-mask-size: auto calc(min(50%, 400px));\\n}\",{\"id\":\"ef5f2f69-b153-412c-a781-f275ea42b6ba\"},{\"id\":\"d12bb426-7bc3-4e79-96e1-f3738e64f674\"},{\"id\":\"ab987aa6-9430-486e-808c-806e19edc5a3\"}],\"margin\":0,\"sizing_mode\":\"stretch_width\",\"align\":\"start\"}}]}}],\"defs\":[{\"type\":\"model\",\"name\":\"ReactiveHTML1\"},{\"type\":\"model\",\"name\":\"FlexBox1\",\"properties\":[{\"name\":\"align_content\",\"kind\":\"Any\",\"default\":\"flex-start\"},{\"name\":\"align_items\",\"kind\":\"Any\",\"default\":\"flex-start\"},{\"name\":\"flex_direction\",\"kind\":\"Any\",\"default\":\"row\"},{\"name\":\"flex_wrap\",\"kind\":\"Any\",\"default\":\"wrap\"},{\"name\":\"gap\",\"kind\":\"Any\",\"default\":\"\"},{\"name\":\"justify_content\",\"kind\":\"Any\",\"default\":\"flex-start\"}]},{\"type\":\"model\",\"name\":\"FloatPanel1\",\"properties\":[{\"name\":\"config\",\"kind\":\"Any\",\"default\":{\"type\":\"map\"}},{\"name\":\"contained\",\"kind\":\"Any\",\"default\":true},{\"name\":\"position\",\"kind\":\"Any\",\"default\":\"right-top\"},{\"name\":\"offsetx\",\"kind\":\"Any\",\"default\":null},{\"name\":\"offsety\",\"kind\":\"Any\",\"default\":null},{\"name\":\"theme\",\"kind\":\"Any\",\"default\":\"primary\"},{\"name\":\"status\",\"kind\":\"Any\",\"default\":\"normalized\"}]},{\"type\":\"model\",\"name\":\"GridStack1\",\"properties\":[{\"name\":\"mode\",\"kind\":\"Any\",\"default\":\"warn\"},{\"name\":\"ncols\",\"kind\":\"Any\",\"default\":null},{\"name\":\"nrows\",\"kind\":\"Any\",\"default\":null},{\"name\":\"allow_resize\",\"kind\":\"Any\",\"default\":true},{\"name\":\"allow_drag\",\"kind\":\"Any\",\"default\":true},{\"name\":\"state\",\"kind\":\"Any\",\"default\":[]}]},{\"type\":\"model\",\"name\":\"drag1\",\"properties\":[{\"name\":\"slider_width\",\"kind\":\"Any\",\"default\":5},{\"name\":\"slider_color\",\"kind\":\"Any\",\"default\":\"black\"},{\"name\":\"value\",\"kind\":\"Any\",\"default\":50}]},{\"type\":\"model\",\"name\":\"click1\",\"properties\":[{\"name\":\"terminal_output\",\"kind\":\"Any\",\"default\":\"\"},{\"name\":\"debug_name\",\"kind\":\"Any\",\"default\":\"\"},{\"name\":\"clears\",\"kind\":\"Any\",\"default\":0}]},{\"type\":\"model\",\"name\":\"FastWrapper1\",\"properties\":[{\"name\":\"object\",\"kind\":\"Any\",\"default\":null},{\"name\":\"style\",\"kind\":\"Any\",\"default\":null}]},{\"type\":\"model\",\"name\":\"NotificationAreaBase1\",\"properties\":[{\"name\":\"js_events\",\"kind\":\"Any\",\"default\":{\"type\":\"map\"}},{\"name\":\"position\",\"kind\":\"Any\",\"default\":\"bottom-right\"},{\"name\":\"_clear\",\"kind\":\"Any\",\"default\":0}]},{\"type\":\"model\",\"name\":\"NotificationArea1\",\"properties\":[{\"name\":\"js_events\",\"kind\":\"Any\",\"default\":{\"type\":\"map\"}},{\"name\":\"notifications\",\"kind\":\"Any\",\"default\":[]},{\"name\":\"position\",\"kind\":\"Any\",\"default\":\"bottom-right\"},{\"name\":\"_clear\",\"kind\":\"Any\",\"default\":0},{\"name\":\"types\",\"kind\":\"Any\",\"default\":[{\"type\":\"map\",\"entries\":[[\"type\",\"warning\"],[\"background\",\"#ffc107\"],[\"icon\",{\"type\":\"map\",\"entries\":[[\"className\",\"fas fa-exclamation-triangle\"],[\"tagName\",\"i\"],[\"color\",\"white\"]]}]]},{\"type\":\"map\",\"entries\":[[\"type\",\"info\"],[\"background\",\"#007bff\"],[\"icon\",{\"type\":\"map\",\"entries\":[[\"className\",\"fas fa-info-circle\"],[\"tagName\",\"i\"],[\"color\",\"white\"]]}]]}]}]},{\"type\":\"model\",\"name\":\"Notification\",\"properties\":[{\"name\":\"background\",\"kind\":\"Any\",\"default\":null},{\"name\":\"duration\",\"kind\":\"Any\",\"default\":3000},{\"name\":\"icon\",\"kind\":\"Any\",\"default\":null},{\"name\":\"message\",\"kind\":\"Any\",\"default\":\"\"},{\"name\":\"notification_type\",\"kind\":\"Any\",\"default\":null},{\"name\":\"_destroyed\",\"kind\":\"Any\",\"default\":false}]},{\"type\":\"model\",\"name\":\"TemplateActions1\",\"properties\":[{\"name\":\"open_modal\",\"kind\":\"Any\",\"default\":0},{\"name\":\"close_modal\",\"kind\":\"Any\",\"default\":0}]},{\"type\":\"model\",\"name\":\"BootstrapTemplateActions1\",\"properties\":[{\"name\":\"open_modal\",\"kind\":\"Any\",\"default\":0},{\"name\":\"close_modal\",\"kind\":\"Any\",\"default\":0}]},{\"type\":\"model\",\"name\":\"TemplateEditor1\",\"properties\":[{\"name\":\"layout\",\"kind\":\"Any\",\"default\":[]}]},{\"type\":\"model\",\"name\":\"MaterialTemplateActions1\",\"properties\":[{\"name\":\"open_modal\",\"kind\":\"Any\",\"default\":0},{\"name\":\"close_modal\",\"kind\":\"Any\",\"default\":0}]},{\"type\":\"model\",\"name\":\"ReactiveESM1\"},{\"type\":\"model\",\"name\":\"JSComponent1\"},{\"type\":\"model\",\"name\":\"ReactComponent1\"},{\"type\":\"model\",\"name\":\"AnyWidgetComponent1\"},{\"type\":\"model\",\"name\":\"request_value1\",\"properties\":[{\"name\":\"fill\",\"kind\":\"Any\",\"default\":\"none\"},{\"name\":\"_synced\",\"kind\":\"Any\",\"default\":null},{\"name\":\"_request_sync\",\"kind\":\"Any\",\"default\":0}]}]}};\n",
       "  var render_items = [{\"docid\":\"a1601350-3d31-415b-815a-23d17a9fa5a4\",\"roots\":{\"bead9316-55b7-430a-a15c-94cdca7c2e95\":\"b558ecd4-becf-46bb-8f7a-f04087d94a0b\"},\"root_ids\":[\"bead9316-55b7-430a-a15c-94cdca7c2e95\"]}];\n",
       "  var docs = Object.values(docs_json)\n",
       "  if (!docs) {\n",
       "    return\n",
       "  }\n",
       "  const py_version = docs[0].version.replace('rc', '-rc.').replace('.dev', '-dev.')\n",
       "  async function embed_document(root) {\n",
       "    var Bokeh = get_bokeh(root)\n",
       "    await Bokeh.embed.embed_items_notebook(docs_json, render_items);\n",
       "    for (const render_item of render_items) {\n",
       "      for (const root_id of render_item.root_ids) {\n",
       "\tconst id_el = document.getElementById(root_id)\n",
       "\tif (id_el.children.length && id_el.children[0].hasAttribute('data-root-id')) {\n",
       "\t  const root_el = id_el.children[0]\n",
       "\t  root_el.id = root_el.id + '-rendered'\n",
       "\t  for (const child of root_el.children) {\n",
       "            // Ensure JupyterLab does not capture keyboard shortcuts\n",
       "            // see: https://jupyterlab.readthedocs.io/en/4.1.x/extension/notebook.html#keyboard-interaction-model\n",
       "\t    child.setAttribute('data-lm-suppress-shortcuts', 'true')\n",
       "\t  }\n",
       "\t}\n",
       "      }\n",
       "    }\n",
       "  }\n",
       "  function get_bokeh(root) {\n",
       "    if (root.Bokeh === undefined) {\n",
       "      return null\n",
       "    } else if (root.Bokeh.version !== py_version) {\n",
       "      if (root.Bokeh.versions === undefined || !root.Bokeh.versions.has(py_version)) {\n",
       "\treturn null\n",
       "      }\n",
       "      return root.Bokeh.versions.get(py_version);\n",
       "    } else if (root.Bokeh.version === py_version) {\n",
       "      return root.Bokeh\n",
       "    }\n",
       "    return null\n",
       "  }\n",
       "  function is_loaded(root) {\n",
       "    var Bokeh = get_bokeh(root)\n",
       "    return (Bokeh != null && Bokeh.Panel !== undefined)\n",
       "  }\n",
       "  if (is_loaded(root)) {\n",
       "    embed_document(root);\n",
       "  } else {\n",
       "    var attempts = 0;\n",
       "    var timer = setInterval(function(root) {\n",
       "      if (is_loaded(root)) {\n",
       "        clearInterval(timer);\n",
       "        embed_document(root);\n",
       "      } else if (document.readyState == \"complete\") {\n",
       "        attempts++;\n",
       "        if (attempts > 200) {\n",
       "          clearInterval(timer);\n",
       "\t  var Bokeh = get_bokeh(root)\n",
       "\t  if (Bokeh == null || Bokeh.Panel == null) {\n",
       "            console.warn(\"Panel: ERROR: Unable to run Panel code because Bokeh or Panel library is missing\");\n",
       "\t  } else {\n",
       "\t    console.warn(\"Panel: WARNING: Attempting to render but not all required libraries could be resolved.\")\n",
       "\t    embed_document(root)\n",
       "\t  }\n",
       "        }\n",
       "      }\n",
       "    }, 25, root)\n",
       "  }\n",
       "})(window);</script>"
      ],
      "text/plain": [
       ":Curve   [k]   (inertia)"
      ]
     },
     "execution_count": 113,
     "metadata": {
      "application/vnd.holoviews_exec.v0+json": {
       "id": "bead9316-55b7-430a-a15c-94cdca7c2e95"
      }
     },
     "output_type": "execute_result"
    }
   ],
   "source": [
    "cols = ['recency', 'frequency']\n",
    "get_elbow_plot(scaled_rfm_df[cols])"
   ]
  },
  {
   "cell_type": "code",
   "execution_count": 114,
   "metadata": {},
   "outputs": [
    {
     "name": "stdout",
     "output_type": "stream",
     "text": [
      "-------------------------------------------------------------------SILHOUETTE SCORE-------------------------------------------------------------------\n",
      "[{'k': 2, 'score': 0.5546091779179882}, {'k': 3, 'score': 0.5468970161282904}, {'k': 4, 'score': 0.5218983825867292}, {'k': 5, 'score': 0.5359261064462826}]\n",
      "Best k value = 2 (silhouette score = 0.555)\n"
     ]
    },
    {
     "data": {},
     "metadata": {},
     "output_type": "display_data"
    },
    {
     "data": {
      "application/vnd.holoviews_exec.v0+json": "",
      "text/html": [
       "<div id='110345c5-da01-4c44-886f-b830a4610317'>\n",
       "  <div id=\"e238b598-77ca-4975-94cf-acb8fd8ea242\" data-root-id=\"110345c5-da01-4c44-886f-b830a4610317\" style=\"display: contents;\"></div>\n",
       "</div>\n",
       "<script type=\"application/javascript\">(function(root) {\n",
       "  var docs_json = {\"98a795dc-b033-47c1-b713-2918702732f7\":{\"version\":\"3.5.2\",\"title\":\"Bokeh Application\",\"roots\":[{\"type\":\"object\",\"name\":\"Row\",\"id\":\"110345c5-da01-4c44-886f-b830a4610317\",\"attributes\":{\"name\":\"Row10817\",\"tags\":[\"embedded\"],\"stylesheets\":[\"\\n:host(.pn-loading):before, .pn-loading:before {\\n  background-color: #c3c3c3;\\n  mask-size: auto calc(min(50%, 400px));\\n  -webkit-mask-size: auto calc(min(50%, 400px));\\n}\",{\"type\":\"object\",\"name\":\"ImportedStyleSheet\",\"id\":\"d3789c9c-dbcb-438c-acca-f92dca6202e9\",\"attributes\":{\"url\":\"https://cdn.holoviz.org/panel/1.5.3/dist/css/loading.css\"}},{\"type\":\"object\",\"name\":\"ImportedStyleSheet\",\"id\":\"d259cbd7-7657-4c44-a857-79112ad0da0b\",\"attributes\":{\"url\":\"https://cdn.holoviz.org/panel/1.5.3/dist/css/listpanel.css\"}},{\"type\":\"object\",\"name\":\"ImportedStyleSheet\",\"id\":\"aaf6b4c1-f700-4210-b84a-9f6f3c493fff\",\"attributes\":{\"url\":\"https://cdn.holoviz.org/panel/1.5.3/dist/bundled/theme/default.css\"}},{\"type\":\"object\",\"name\":\"ImportedStyleSheet\",\"id\":\"a7d8bfe0-3641-4802-8a2d-2df209263ac1\",\"attributes\":{\"url\":\"https://cdn.holoviz.org/panel/1.5.3/dist/bundled/theme/native.css\"}}],\"min_width\":700,\"margin\":0,\"sizing_mode\":\"stretch_width\",\"align\":\"start\",\"children\":[{\"type\":\"object\",\"name\":\"Spacer\",\"id\":\"459fe0b3-8723-4e32-a08b-2906896e1661\",\"attributes\":{\"name\":\"HSpacer10821\",\"stylesheets\":[\"\\n:host(.pn-loading):before, .pn-loading:before {\\n  background-color: #c3c3c3;\\n  mask-size: auto calc(min(50%, 400px));\\n  -webkit-mask-size: auto calc(min(50%, 400px));\\n}\",{\"id\":\"d3789c9c-dbcb-438c-acca-f92dca6202e9\"},{\"id\":\"aaf6b4c1-f700-4210-b84a-9f6f3c493fff\"},{\"id\":\"a7d8bfe0-3641-4802-8a2d-2df209263ac1\"}],\"margin\":0,\"sizing_mode\":\"stretch_width\",\"align\":\"start\"}},{\"type\":\"object\",\"name\":\"Figure\",\"id\":\"6cbb9be0-2e46-4bb2-8435-f3a7789c0748\",\"attributes\":{\"width\":700,\"height\":300,\"margin\":[5,10],\"sizing_mode\":\"fixed\",\"align\":\"start\",\"x_range\":{\"type\":\"object\",\"name\":\"Range1d\",\"id\":\"34a87c90-ee82-4004-b6c0-521b3ffdc8d5\",\"attributes\":{\"name\":\"recency\",\"tags\":[[[\"recency\",null]],[]],\"start\":-21.17142857142857,\"end\":515.1714285714286,\"reset_start\":-21.17142857142857,\"reset_end\":515.1714285714286}},\"y_range\":{\"type\":\"object\",\"name\":\"Range1d\",\"id\":\"635ac829-718f-4f91-bf90-01db575f22cb\",\"attributes\":{\"name\":\"frequency\",\"tags\":[[[\"frequency\",null]],{\"type\":\"map\",\"entries\":[[\"invert_yaxis\",false],[\"autorange\",false]]}],\"start\":-0.12187378681914524,\"end\":1.3406116550105975,\"reset_start\":-0.12187378681914524,\"reset_end\":1.3406116550105975}},\"x_scale\":{\"type\":\"object\",\"name\":\"LinearScale\",\"id\":\"798f67ba-cec7-4d28-913e-0e1862303d9f\"},\"y_scale\":{\"type\":\"object\",\"name\":\"LinearScale\",\"id\":\"e794c32e-aa39-4ae6-a543-63a4525215ee\"},\"title\":{\"type\":\"object\",\"name\":\"Title\",\"id\":\"56998a4a-cade-4297-aaa1-c18abf8c8cff\",\"attributes\":{\"text_color\":\"black\",\"text_font_size\":\"12pt\"}},\"renderers\":[{\"type\":\"object\",\"name\":\"GlyphRenderer\",\"id\":\"cc405560-0ba4-4a30-9c55-0884769c39c2\",\"attributes\":{\"name\":\"0\",\"data_source\":{\"type\":\"object\",\"name\":\"ColumnDataSource\",\"id\":\"0cc362a3-20ea-4e2d-ba74-82ee87b2c9b0\",\"attributes\":{\"selected\":{\"type\":\"object\",\"name\":\"Selection\",\"id\":\"c50b5a88-7a2e-40a4-b8d3-e1c4880155f1\",\"attributes\":{\"indices\":[],\"line_indices\":[]}},\"selection_policy\":{\"type\":\"object\",\"name\":\"UnionRenderers\",\"id\":\"3588dee8-f098-4ba1-a3b6-fce1fcc25a8b\"},\"data\":{\"type\":\"map\",\"entries\":[[\"recency\",{\"type\":\"ndarray\",\"array\":{\"type\":\"bytes\",\"data\":\"twAAALwAAACEAAAApQAAACgAAACnAAAAggAAAC4AAAAMAAAAYQAAAL0AAADCAAAAugAAAKkAAAAZAAAAgwAAAEsAAABFAAAAtQAAAK4AAACDAAAApQAAAA4AAAAhAAAASwAAAD0AAADBAAAAAAAAAFMAAADEAAAARAAAAGIAAADBAAAAxQAAAH8AAACtAAAAtgAAAJcAAACpAAAAEAAAAH0AAADBAAAAsgAAAGcAAABqAAAABwAAAHUAAACxAAAAtAAAACcAAAC1AAAAGAAAAEwAAABoAAAAAAEAAKQAAAAyAAAAMAAAADcAAAA=\"},\"shape\":[59],\"dtype\":\"int32\",\"order\":\"little\"}],[\"frequency\",{\"type\":\"ndarray\",\"array\":{\"type\":\"bytes\",\"data\":\"REQLbI4Q6D+KO75yNr7rP4o7vnI2vus/REQLbI4Q6D9ERAtsjhDoP4o7vnI2vus/REQLbI4Q6D9ERAtsjhDoP0REC2yOEOg/REQLbI4Q6D9ERAtsjhDoP0REC2yOEOg/REQLbI4Q6D9ERAtsjhDoP4o7vnI2vus/REQLbI4Q6D9ERAtsjhDoP4o7vnI2vus/REQLbI4Q6D9ERAtsjhDoP0REC2yOEOg/REQLbI4Q6D/5dmRH83/zP0REC2yOEOg/YfF8Rz1a4T9ERAtsjhDoP0REC2yOEOg/iju+cja+6z+KO75yNr7rP0REC2yOEOg/REQLbI4Q6D9h8XxHPVrhP4o7vnI2vus/REQLbI4Q6D+KO75yNr7rP0REC2yOEOg/REQLbI4Q6D9ERAtsjhDoPyld0uZkGu4/REQLbI4Q6D9ERAtsjhDoP4o7vnI2vus/REQLbI4Q6D9ERAtsjhDoP0REC2yOEOg/REQLbI4Q6D9ERAtsjhDoP0REC2yOEOg/REQLbI4Q6D9h8XxHPVrhP0REC2yOEOg/iju+cja+6z8pXdLmZBruP0REC2yOEOg/REQLbI4Q6D9ERAtsjhDoP0REC2yOEOg/KV3S5mQa7j+gPTe0W9jyPw==\"},\"shape\":[59],\"dtype\":\"float64\",\"order\":\"little\"}],[\"customer_id\",{\"type\":\"ndarray\",\"array\":{\"type\":\"bytes\",\"data\":\"AQAAAAMAAAAFAAAABgAAAAcAAAAIAAAACQAAAAoAAAALAAAADAAAAA0AAAAPAAAAEQAAABMAAAAVAAAAFgAAABgAAAAbAAAAHQAAAB8AAAAgAAAAIwAAACUAAAAmAAAAJwAAACgAAAAqAAAAKwAAACwAAAAuAAAAMAAAADEAAAAzAAAANQAAADgAAAA5AAAAOgAAAD0AAAA+AAAAPwAAAEAAAABBAAAAQgAAAEMAAABFAAAARwAAAEgAAABKAAAASwAAAE8AAABQAAAAUQAAAFIAAABTAAAAVAAAAFUAAABYAAAAWgAAAFsAAAA=\"},\"shape\":[59],\"dtype\":\"int32\",\"order\":\"little\"}],[\"monetary\",{\"type\":\"ndarray\",\"array\":{\"type\":\"bytes\",\"data\":\"pn+61XFeJ0Bw2fhQz18nQI7RoAtNZydAq6q/FtXJJkDtoCfkZ+ImQPk9XnGvYyhAwmvNEoQyJ0B/YM9YZhEnQK3kk8E7ECdAJNL2VzU9J0AKMRgyiZ4lQFpHVwyMkydA+nloLl2rJ0Dmt816r6UmQOG+7rpdZidAMuQLx4hJJ0CyvhUoFQEnQKIZB0+u4ydA6/b8DTPwJ0BKfqbIG4omQDy9NzPlciZA9J+tikleJEDn55g5SywrQAHUUl4slyZARPlY9rS2JkDtVPlsJIsmQOZmWbhpxSZAEGsPFojVJ0AQrExz0dUnQDVxp518UidAr1yOu2i6JUBPx8ipHD0iQAN1elpytCZAp0ZN1pZmJ0D128vtx9UkQFMYTL/HLyRA6G4NXAfnJkBsY8nrHywnQAcTYr0NbChAXb/Tt99tJkCqxEd+dh0nQEn6X0xAVSdAUpDxGRr4JkAaXEU8VaUnQFX3ih+GHCdAFVmkQ1K8J0DoHcIYYJ4mQPknaOwQhiZAtVdPNb5vJkAILp1NJT4mQAZGWP5pqyZA1rFjYWVQJ0ClqnF5Oh8oQKKMWoyI/CVAPiXG5/8+J0BY86eudeklQF1Oq1WRUyZAoE5YIXCgJ0DngIqfFcMqQA==\"},\"shape\":[59],\"dtype\":\"float64\",\"order\":\"little\"}],[\"segment\",{\"type\":\"ndarray\",\"array\":{\"type\":\"bytes\",\"data\":\"AAAAAAAAAAAAAAAAAAAAAAAAAAAAAAAAAAAAAAAAAAAAAAAAAAAAAAAAAAAAAAAAAAAAAAAAAAAAAAAAAAAAAAAAAAAAAAAAAAAAAAAAAAAAAAAAAAAAAAAAAAAAAAAAAAAAAAAAAAAAAAAAAAAAAAAAAAAAAAAAAAAAAAAAAAAAAAAAAAAAAAAAAAAAAAAAAAAAAAAAAAAAAAAAAAAAAAAAAAAAAAAAAAAAAAAAAAAAAAAAAAAAAAAAAAAAAAAAAAAAAAAAAAAAAAAAAAAAAAAAAAAAAAAAAAAAAAAAAAAAAAAAAAAAAAAAAAA=\"},\"shape\":[59],\"dtype\":\"int32\",\"order\":\"little\"}]]}}},\"view\":{\"type\":\"object\",\"name\":\"CDSView\",\"id\":\"73dd71c9-4569-4294-b50d-019d1ca1decc\",\"attributes\":{\"filter\":{\"type\":\"object\",\"name\":\"AllIndices\",\"id\":\"b7aa32bb-c4ad-46d6-9f92-de8c897fe487\"}}},\"glyph\":{\"type\":\"object\",\"name\":\"Scatter\",\"id\":\"a41a94ad-0f71-4ebc-880f-26c76a8a499c\",\"attributes\":{\"tags\":[\"apply_ranges\"],\"x\":{\"type\":\"field\",\"field\":\"recency\"},\"y\":{\"type\":\"field\",\"field\":\"frequency\"},\"size\":{\"type\":\"value\",\"value\":5.477225575051661},\"line_color\":{\"type\":\"value\",\"value\":\"#30a2da\"},\"fill_color\":{\"type\":\"value\",\"value\":\"#30a2da\"},\"hatch_color\":{\"type\":\"value\",\"value\":\"#30a2da\"}}},\"selection_glyph\":{\"type\":\"object\",\"name\":\"Scatter\",\"id\":\"6e4e134d-cbdf-4065-a8a2-36437af58102\",\"attributes\":{\"tags\":[\"apply_ranges\"],\"x\":{\"type\":\"field\",\"field\":\"recency\"},\"y\":{\"type\":\"field\",\"field\":\"frequency\"},\"size\":{\"type\":\"value\",\"value\":5.477225575051661},\"angle\":{\"type\":\"value\",\"value\":0.0},\"line_color\":{\"type\":\"value\",\"value\":\"#30a2da\"},\"line_alpha\":{\"type\":\"value\",\"value\":1.0},\"line_width\":{\"type\":\"value\",\"value\":1},\"line_join\":{\"type\":\"value\",\"value\":\"bevel\"},\"line_cap\":{\"type\":\"value\",\"value\":\"butt\"},\"line_dash\":{\"type\":\"value\",\"value\":[]},\"line_dash_offset\":{\"type\":\"value\",\"value\":0},\"fill_color\":{\"type\":\"value\",\"value\":\"#30a2da\"},\"fill_alpha\":{\"type\":\"value\",\"value\":1.0},\"hatch_color\":{\"type\":\"value\",\"value\":\"#30a2da\"},\"hatch_alpha\":{\"type\":\"value\",\"value\":1.0},\"hatch_scale\":{\"type\":\"value\",\"value\":12.0},\"hatch_pattern\":{\"type\":\"value\",\"value\":null},\"hatch_weight\":{\"type\":\"value\",\"value\":1.0},\"marker\":{\"type\":\"value\",\"value\":\"circle\"}}},\"nonselection_glyph\":{\"type\":\"object\",\"name\":\"Scatter\",\"id\":\"98f39886-23f1-47fd-bc0f-b2228d6df145\",\"attributes\":{\"tags\":[\"apply_ranges\"],\"x\":{\"type\":\"field\",\"field\":\"recency\"},\"y\":{\"type\":\"field\",\"field\":\"frequency\"},\"size\":{\"type\":\"value\",\"value\":5.477225575051661},\"line_color\":{\"type\":\"value\",\"value\":\"#30a2da\"},\"line_alpha\":{\"type\":\"value\",\"value\":0.1},\"fill_color\":{\"type\":\"value\",\"value\":\"#30a2da\"},\"fill_alpha\":{\"type\":\"value\",\"value\":0.1},\"hatch_color\":{\"type\":\"value\",\"value\":\"#30a2da\"},\"hatch_alpha\":{\"type\":\"value\",\"value\":0.1}}},\"muted_glyph\":{\"type\":\"object\",\"name\":\"Scatter\",\"id\":\"442364dc-1d68-4089-8bf9-af7f56747b27\",\"attributes\":{\"tags\":[\"apply_ranges\"],\"x\":{\"type\":\"field\",\"field\":\"recency\"},\"y\":{\"type\":\"field\",\"field\":\"frequency\"},\"size\":{\"type\":\"value\",\"value\":5.477225575051661},\"line_color\":{\"type\":\"value\",\"value\":\"#30a2da\"},\"line_alpha\":{\"type\":\"value\",\"value\":0.2},\"fill_color\":{\"type\":\"value\",\"value\":\"#30a2da\"},\"fill_alpha\":{\"type\":\"value\",\"value\":0.2},\"hatch_color\":{\"type\":\"value\",\"value\":\"#30a2da\"},\"hatch_alpha\":{\"type\":\"value\",\"value\":0.2}}}}},{\"type\":\"object\",\"name\":\"GlyphRenderer\",\"id\":\"f067523e-90e3-4579-9dbf-8b58ef4be280\",\"attributes\":{\"name\":\"1\",\"data_source\":{\"type\":\"object\",\"name\":\"ColumnDataSource\",\"id\":\"d81bf6a8-fab6-4db4-801f-c7a698f91d4c\",\"attributes\":{\"selected\":{\"type\":\"object\",\"name\":\"Selection\",\"id\":\"39021730-5673-491c-b223-d077c597d20f\",\"attributes\":{\"indices\":[],\"line_indices\":[]}},\"selection_policy\":{\"type\":\"object\",\"name\":\"UnionRenderers\",\"id\":\"b4154466-a2a9-4908-bacc-8a496d0154e4\"},\"data\":{\"type\":\"map\",\"entries\":[[\"recency\",{\"type\":\"ndarray\",\"array\":{\"type\":\"bytes\",\"data\":\"1QAAALkBAADfAAAAjwEAAMMAAAANAQAADgEAACwBAAB2AQAAegEAAAQBAADXAAAA+QAAANoBAACoAQAAPwEAANgAAADFAAAAzwAAANYAAAC+AQAA+gAAAGwBAADuAQAA4QEAAPMAAADOAQAA+QAAAM8AAACCAQAA2gAAAPQAAADDAQAA\"},\"shape\":[33],\"dtype\":\"int32\",\"order\":\"little\"}],[\"frequency\",{\"type\":\"ndarray\",\"array\":{\"type\":\"bytes\",\"data\":\"YfF8Rz1a4T9ERAtsjhDoP2HxfEc9WuE/YfF8Rz1a4T9h8XxHPVrhP2HxfEc9WuE/YfF8Rz1a4T9h8XxHPVrhP2HxfEc9WuE/YfF8Rz1a4T9h8XxHPVrhP2HxfEc9WuE/YfF8Rz1a4T9h8XxHPVrhP2HxfEc9WuE/YfF8Rz1a4T9h8XxHPVrhP2HxfEc9WuE/YfF8Rz1a4T9h8XxHPVrhP2HxfEc9WuE/YfF8Rz1a4T9h8XxHPVrhP2HxfEc9WuE/YfF8Rz1a4T9h8XxHPVrhP2HxfEc9WuE/YfF8Rz1a4T9h8XxHPVrhP2HxfEc9WuE/YfF8Rz1a4T8AAAAAAAAAAGHxfEc9WuE/\"},\"shape\":[33],\"dtype\":\"float64\",\"order\":\"little\"}],[\"customer_id\",{\"type\":\"ndarray\",\"array\":{\"type\":\"bytes\",\"data\":\"AgAAAAQAAAAOAAAAEAAAABIAAAAUAAAAFwAAABkAAAAaAAAAHAAAAB4AAAAhAAAAIgAAACQAAAApAAAALQAAAC8AAAAyAAAANAAAADYAAAA3AAAAOwAAADwAAABEAAAARgAAAEkAAABMAAAATQAAAE4AAABWAAAAVwAAAFkAAABcAAAA\"},\"shape\":[33],\"dtype\":\"int32\",\"order\":\"little\"}],[\"monetary\",{\"type\":\"ndarray\",\"array\":{\"type\":\"bytes\",\"data\":\"XuD1sjAIJ0Ay64rgTL0nQEoDqI/00SVAWjkjGC8+JkB6bqPgPdEkQFOln7lijyZAp6NZJ9VwJkDaOp1ANjYmQLNaiEre/SRAhcr8HfyQJkAPhawHH1onQCGig8NwPSZA0JK9R47rJEBZNLHH/HklQIkvduYOoCVAbE50vOqlJUCBGj8EKBYnQJ7V2Jn9iCZA5ncrufV0JkBT0kOTwLYmQAPwzE0xwiZASl1o1JTnJkDlLb3XiAUlQBfdGllajyVAk13CPNH7JECYPKlcku0lQCrH8ib4pSVAMxZQ1JjoJUAa0ejAqQknQFcfOANCViZAmiVBF8IoJkB52QHbCO0kQKZSmYYHSSZA\"},\"shape\":[33],\"dtype\":\"float64\",\"order\":\"little\"}],[\"segment\",{\"type\":\"ndarray\",\"array\":{\"type\":\"bytes\",\"data\":\"AQAAAAEAAAABAAAAAQAAAAEAAAABAAAAAQAAAAEAAAABAAAAAQAAAAEAAAABAAAAAQAAAAEAAAABAAAAAQAAAAEAAAABAAAAAQAAAAEAAAABAAAAAQAAAAEAAAABAAAAAQAAAAEAAAABAAAAAQAAAAEAAAABAAAAAQAAAAEAAAABAAAA\"},\"shape\":[33],\"dtype\":\"int32\",\"order\":\"little\"}]]}}},\"view\":{\"type\":\"object\",\"name\":\"CDSView\",\"id\":\"03adde58-16e2-4373-8f33-daaf87b224f9\",\"attributes\":{\"filter\":{\"type\":\"object\",\"name\":\"AllIndices\",\"id\":\"d172e63c-2493-4ad2-9f27-fe2d703eefba\"}}},\"glyph\":{\"type\":\"object\",\"name\":\"Scatter\",\"id\":\"4d2eff31-e350-4da0-9624-c567ff9cf87f\",\"attributes\":{\"tags\":[\"apply_ranges\"],\"x\":{\"type\":\"field\",\"field\":\"recency\"},\"y\":{\"type\":\"field\",\"field\":\"frequency\"},\"size\":{\"type\":\"value\",\"value\":5.477225575051661},\"line_color\":{\"type\":\"value\",\"value\":\"#fc4f30\"},\"fill_color\":{\"type\":\"value\",\"value\":\"#fc4f30\"},\"hatch_color\":{\"type\":\"value\",\"value\":\"#fc4f30\"}}},\"selection_glyph\":{\"type\":\"object\",\"name\":\"Scatter\",\"id\":\"7b0459aa-4f8c-46e4-84c9-5451d5b9ad6c\",\"attributes\":{\"tags\":[\"apply_ranges\"],\"x\":{\"type\":\"field\",\"field\":\"recency\"},\"y\":{\"type\":\"field\",\"field\":\"frequency\"},\"size\":{\"type\":\"value\",\"value\":5.477225575051661},\"angle\":{\"type\":\"value\",\"value\":0.0},\"line_color\":{\"type\":\"value\",\"value\":\"#fc4f30\"},\"line_alpha\":{\"type\":\"value\",\"value\":1.0},\"line_width\":{\"type\":\"value\",\"value\":1},\"line_join\":{\"type\":\"value\",\"value\":\"bevel\"},\"line_cap\":{\"type\":\"value\",\"value\":\"butt\"},\"line_dash\":{\"type\":\"value\",\"value\":[]},\"line_dash_offset\":{\"type\":\"value\",\"value\":0},\"fill_color\":{\"type\":\"value\",\"value\":\"#fc4f30\"},\"fill_alpha\":{\"type\":\"value\",\"value\":1.0},\"hatch_color\":{\"type\":\"value\",\"value\":\"#fc4f30\"},\"hatch_alpha\":{\"type\":\"value\",\"value\":1.0},\"hatch_scale\":{\"type\":\"value\",\"value\":12.0},\"hatch_pattern\":{\"type\":\"value\",\"value\":null},\"hatch_weight\":{\"type\":\"value\",\"value\":1.0},\"marker\":{\"type\":\"value\",\"value\":\"circle\"}}},\"nonselection_glyph\":{\"type\":\"object\",\"name\":\"Scatter\",\"id\":\"36051ee7-2f69-457e-8019-35cfdf750f4c\",\"attributes\":{\"tags\":[\"apply_ranges\"],\"x\":{\"type\":\"field\",\"field\":\"recency\"},\"y\":{\"type\":\"field\",\"field\":\"frequency\"},\"size\":{\"type\":\"value\",\"value\":5.477225575051661},\"line_color\":{\"type\":\"value\",\"value\":\"#fc4f30\"},\"line_alpha\":{\"type\":\"value\",\"value\":0.1},\"fill_color\":{\"type\":\"value\",\"value\":\"#fc4f30\"},\"fill_alpha\":{\"type\":\"value\",\"value\":0.1},\"hatch_color\":{\"type\":\"value\",\"value\":\"#fc4f30\"},\"hatch_alpha\":{\"type\":\"value\",\"value\":0.1}}},\"muted_glyph\":{\"type\":\"object\",\"name\":\"Scatter\",\"id\":\"76aed7dd-6dd6-4545-a289-63aec5f6806d\",\"attributes\":{\"tags\":[\"apply_ranges\"],\"x\":{\"type\":\"field\",\"field\":\"recency\"},\"y\":{\"type\":\"field\",\"field\":\"frequency\"},\"size\":{\"type\":\"value\",\"value\":5.477225575051661},\"line_color\":{\"type\":\"value\",\"value\":\"#fc4f30\"},\"line_alpha\":{\"type\":\"value\",\"value\":0.2},\"fill_color\":{\"type\":\"value\",\"value\":\"#fc4f30\"},\"fill_alpha\":{\"type\":\"value\",\"value\":0.2},\"hatch_color\":{\"type\":\"value\",\"value\":\"#fc4f30\"},\"hatch_alpha\":{\"type\":\"value\",\"value\":0.2}}}}}],\"toolbar\":{\"type\":\"object\",\"name\":\"Toolbar\",\"id\":\"d3862353-183c-4be4-9aa0-a0e4e853ef72\",\"attributes\":{\"tools\":[{\"type\":\"object\",\"name\":\"WheelZoomTool\",\"id\":\"72d3f57b-2b3c-420b-b82f-899fbc229976\",\"attributes\":{\"tags\":[\"hv_created\"],\"renderers\":\"auto\",\"zoom_together\":\"none\"}},{\"type\":\"object\",\"name\":\"HoverTool\",\"id\":\"97ca934d-e8b8-4974-b923-dc6ee1da6f00\",\"attributes\":{\"tags\":[\"hv_created\"],\"renderers\":[{\"id\":\"cc405560-0ba4-4a30-9c55-0884769c39c2\"},{\"id\":\"f067523e-90e3-4579-9dbf-8b58ef4be280\"}],\"tooltips\":[[\"segment\",\"@{segment}\"],[\"recency\",\"@{recency}\"],[\"frequency\",\"@{frequency}\"],[\"customer_id\",\"@{customer_id}\"],[\"monetary\",\"@{monetary}\"]]}},{\"type\":\"object\",\"name\":\"SaveTool\",\"id\":\"ebc5ccb1-348b-4e27-b1d4-f4adeb9e0fef\"},{\"type\":\"object\",\"name\":\"PanTool\",\"id\":\"d529db00-c57e-421f-9e6b-39c5359857c3\"},{\"type\":\"object\",\"name\":\"BoxZoomTool\",\"id\":\"510ebc72-7261-4862-a930-d0b0491a8758\",\"attributes\":{\"overlay\":{\"type\":\"object\",\"name\":\"BoxAnnotation\",\"id\":\"f179b06f-fed7-47ea-ba75-60b8ef95f95a\",\"attributes\":{\"syncable\":false,\"line_color\":\"black\",\"line_alpha\":1.0,\"line_width\":2,\"line_dash\":[4,4],\"fill_color\":\"lightgrey\",\"fill_alpha\":0.5,\"level\":\"overlay\",\"visible\":false,\"left\":{\"type\":\"number\",\"value\":\"nan\"},\"right\":{\"type\":\"number\",\"value\":\"nan\"},\"top\":{\"type\":\"number\",\"value\":\"nan\"},\"bottom\":{\"type\":\"number\",\"value\":\"nan\"},\"left_units\":\"canvas\",\"right_units\":\"canvas\",\"top_units\":\"canvas\",\"bottom_units\":\"canvas\",\"handles\":{\"type\":\"object\",\"name\":\"BoxInteractionHandles\",\"id\":\"a66e1a28-cd48-45dd-9ba3-fe51a6487243\",\"attributes\":{\"all\":{\"type\":\"object\",\"name\":\"AreaVisuals\",\"id\":\"a8a180e5-2d49-45bb-83e4-a8196b8e2a13\",\"attributes\":{\"fill_color\":\"white\",\"hover_fill_color\":\"lightgray\"}}}}}}}},{\"type\":\"object\",\"name\":\"ResetTool\",\"id\":\"e222f98e-63c7-4234-b2ba-cf8417232429\"}],\"active_drag\":{\"id\":\"d529db00-c57e-421f-9e6b-39c5359857c3\"},\"active_scroll\":{\"id\":\"72d3f57b-2b3c-420b-b82f-899fbc229976\"}}},\"left\":[{\"type\":\"object\",\"name\":\"LinearAxis\",\"id\":\"d3587c53-6dda-42f5-b442-e70ac9cb3f29\",\"attributes\":{\"ticker\":{\"type\":\"object\",\"name\":\"BasicTicker\",\"id\":\"4a331579-92be-4b42-8cc5-1c23a598b127\",\"attributes\":{\"mantissas\":[1,2,5]}},\"formatter\":{\"type\":\"object\",\"name\":\"BasicTickFormatter\",\"id\":\"0b3fd37b-d846-498f-a3e7-7b5a8f0cd4bc\"},\"axis_label\":\"frequency\",\"major_label_policy\":{\"type\":\"object\",\"name\":\"AllLabels\",\"id\":\"07c72181-33ef-4ea0-bac3-7d2e23c8525e\"}}}],\"right\":[{\"type\":\"object\",\"name\":\"Legend\",\"id\":\"a03cd52b-8f8c-43ee-a053-eaf5521426a5\",\"attributes\":{\"location\":[0,0],\"title\":\"segment\",\"click_policy\":\"mute\",\"items\":[{\"type\":\"object\",\"name\":\"LegendItem\",\"id\":\"a894b980-9e6a-4527-8895-3b63d3b6420a\",\"attributes\":{\"label\":{\"type\":\"value\",\"value\":\"0\"},\"renderers\":[{\"id\":\"cc405560-0ba4-4a30-9c55-0884769c39c2\"}]}},{\"type\":\"object\",\"name\":\"LegendItem\",\"id\":\"c7a9ef87-44b5-4d75-b0c6-ba53c0181985\",\"attributes\":{\"label\":{\"type\":\"value\",\"value\":\"1\"},\"renderers\":[{\"id\":\"f067523e-90e3-4579-9dbf-8b58ef4be280\"}]}}]}}],\"below\":[{\"type\":\"object\",\"name\":\"LinearAxis\",\"id\":\"77b9e17a-e7de-478f-87a0-370abf798a18\",\"attributes\":{\"ticker\":{\"type\":\"object\",\"name\":\"BasicTicker\",\"id\":\"c826fdf0-9990-44f2-92aa-33161eb9e4ea\",\"attributes\":{\"mantissas\":[1,2,5]}},\"formatter\":{\"type\":\"object\",\"name\":\"BasicTickFormatter\",\"id\":\"deaf4004-6716-4705-ac18-076bb08cc419\"},\"axis_label\":\"recency\",\"major_label_policy\":{\"type\":\"object\",\"name\":\"AllLabels\",\"id\":\"c0caa675-d0cf-4fa3-a7f9-798d45e830fa\"}}}],\"center\":[{\"type\":\"object\",\"name\":\"Grid\",\"id\":\"9ff98b47-a618-4777-9942-3bbef0eeb26c\",\"attributes\":{\"axis\":{\"id\":\"77b9e17a-e7de-478f-87a0-370abf798a18\"},\"grid_line_color\":null}},{\"type\":\"object\",\"name\":\"Grid\",\"id\":\"2ddd91ad-d8c3-4cab-b610-1041af0d05ff\",\"attributes\":{\"dimension\":1,\"axis\":{\"id\":\"d3587c53-6dda-42f5-b442-e70ac9cb3f29\"},\"grid_line_color\":null}}],\"min_border_top\":10,\"min_border_bottom\":10,\"min_border_left\":10,\"min_border_right\":10,\"output_backend\":\"webgl\"}},{\"type\":\"object\",\"name\":\"Spacer\",\"id\":\"89ca5bee-15d4-435d-9dfc-4ad57c2b2d1d\",\"attributes\":{\"name\":\"HSpacer10822\",\"stylesheets\":[\"\\n:host(.pn-loading):before, .pn-loading:before {\\n  background-color: #c3c3c3;\\n  mask-size: auto calc(min(50%, 400px));\\n  -webkit-mask-size: auto calc(min(50%, 400px));\\n}\",{\"id\":\"d3789c9c-dbcb-438c-acca-f92dca6202e9\"},{\"id\":\"aaf6b4c1-f700-4210-b84a-9f6f3c493fff\"},{\"id\":\"a7d8bfe0-3641-4802-8a2d-2df209263ac1\"}],\"margin\":0,\"sizing_mode\":\"stretch_width\",\"align\":\"start\"}}]}}],\"defs\":[{\"type\":\"model\",\"name\":\"ReactiveHTML1\"},{\"type\":\"model\",\"name\":\"FlexBox1\",\"properties\":[{\"name\":\"align_content\",\"kind\":\"Any\",\"default\":\"flex-start\"},{\"name\":\"align_items\",\"kind\":\"Any\",\"default\":\"flex-start\"},{\"name\":\"flex_direction\",\"kind\":\"Any\",\"default\":\"row\"},{\"name\":\"flex_wrap\",\"kind\":\"Any\",\"default\":\"wrap\"},{\"name\":\"gap\",\"kind\":\"Any\",\"default\":\"\"},{\"name\":\"justify_content\",\"kind\":\"Any\",\"default\":\"flex-start\"}]},{\"type\":\"model\",\"name\":\"FloatPanel1\",\"properties\":[{\"name\":\"config\",\"kind\":\"Any\",\"default\":{\"type\":\"map\"}},{\"name\":\"contained\",\"kind\":\"Any\",\"default\":true},{\"name\":\"position\",\"kind\":\"Any\",\"default\":\"right-top\"},{\"name\":\"offsetx\",\"kind\":\"Any\",\"default\":null},{\"name\":\"offsety\",\"kind\":\"Any\",\"default\":null},{\"name\":\"theme\",\"kind\":\"Any\",\"default\":\"primary\"},{\"name\":\"status\",\"kind\":\"Any\",\"default\":\"normalized\"}]},{\"type\":\"model\",\"name\":\"GridStack1\",\"properties\":[{\"name\":\"mode\",\"kind\":\"Any\",\"default\":\"warn\"},{\"name\":\"ncols\",\"kind\":\"Any\",\"default\":null},{\"name\":\"nrows\",\"kind\":\"Any\",\"default\":null},{\"name\":\"allow_resize\",\"kind\":\"Any\",\"default\":true},{\"name\":\"allow_drag\",\"kind\":\"Any\",\"default\":true},{\"name\":\"state\",\"kind\":\"Any\",\"default\":[]}]},{\"type\":\"model\",\"name\":\"drag1\",\"properties\":[{\"name\":\"slider_width\",\"kind\":\"Any\",\"default\":5},{\"name\":\"slider_color\",\"kind\":\"Any\",\"default\":\"black\"},{\"name\":\"value\",\"kind\":\"Any\",\"default\":50}]},{\"type\":\"model\",\"name\":\"click1\",\"properties\":[{\"name\":\"terminal_output\",\"kind\":\"Any\",\"default\":\"\"},{\"name\":\"debug_name\",\"kind\":\"Any\",\"default\":\"\"},{\"name\":\"clears\",\"kind\":\"Any\",\"default\":0}]},{\"type\":\"model\",\"name\":\"FastWrapper1\",\"properties\":[{\"name\":\"object\",\"kind\":\"Any\",\"default\":null},{\"name\":\"style\",\"kind\":\"Any\",\"default\":null}]},{\"type\":\"model\",\"name\":\"NotificationAreaBase1\",\"properties\":[{\"name\":\"js_events\",\"kind\":\"Any\",\"default\":{\"type\":\"map\"}},{\"name\":\"position\",\"kind\":\"Any\",\"default\":\"bottom-right\"},{\"name\":\"_clear\",\"kind\":\"Any\",\"default\":0}]},{\"type\":\"model\",\"name\":\"NotificationArea1\",\"properties\":[{\"name\":\"js_events\",\"kind\":\"Any\",\"default\":{\"type\":\"map\"}},{\"name\":\"notifications\",\"kind\":\"Any\",\"default\":[]},{\"name\":\"position\",\"kind\":\"Any\",\"default\":\"bottom-right\"},{\"name\":\"_clear\",\"kind\":\"Any\",\"default\":0},{\"name\":\"types\",\"kind\":\"Any\",\"default\":[{\"type\":\"map\",\"entries\":[[\"type\",\"warning\"],[\"background\",\"#ffc107\"],[\"icon\",{\"type\":\"map\",\"entries\":[[\"className\",\"fas fa-exclamation-triangle\"],[\"tagName\",\"i\"],[\"color\",\"white\"]]}]]},{\"type\":\"map\",\"entries\":[[\"type\",\"info\"],[\"background\",\"#007bff\"],[\"icon\",{\"type\":\"map\",\"entries\":[[\"className\",\"fas fa-info-circle\"],[\"tagName\",\"i\"],[\"color\",\"white\"]]}]]}]}]},{\"type\":\"model\",\"name\":\"Notification\",\"properties\":[{\"name\":\"background\",\"kind\":\"Any\",\"default\":null},{\"name\":\"duration\",\"kind\":\"Any\",\"default\":3000},{\"name\":\"icon\",\"kind\":\"Any\",\"default\":null},{\"name\":\"message\",\"kind\":\"Any\",\"default\":\"\"},{\"name\":\"notification_type\",\"kind\":\"Any\",\"default\":null},{\"name\":\"_destroyed\",\"kind\":\"Any\",\"default\":false}]},{\"type\":\"model\",\"name\":\"TemplateActions1\",\"properties\":[{\"name\":\"open_modal\",\"kind\":\"Any\",\"default\":0},{\"name\":\"close_modal\",\"kind\":\"Any\",\"default\":0}]},{\"type\":\"model\",\"name\":\"BootstrapTemplateActions1\",\"properties\":[{\"name\":\"open_modal\",\"kind\":\"Any\",\"default\":0},{\"name\":\"close_modal\",\"kind\":\"Any\",\"default\":0}]},{\"type\":\"model\",\"name\":\"TemplateEditor1\",\"properties\":[{\"name\":\"layout\",\"kind\":\"Any\",\"default\":[]}]},{\"type\":\"model\",\"name\":\"MaterialTemplateActions1\",\"properties\":[{\"name\":\"open_modal\",\"kind\":\"Any\",\"default\":0},{\"name\":\"close_modal\",\"kind\":\"Any\",\"default\":0}]},{\"type\":\"model\",\"name\":\"ReactiveESM1\"},{\"type\":\"model\",\"name\":\"JSComponent1\"},{\"type\":\"model\",\"name\":\"ReactComponent1\"},{\"type\":\"model\",\"name\":\"AnyWidgetComponent1\"},{\"type\":\"model\",\"name\":\"request_value1\",\"properties\":[{\"name\":\"fill\",\"kind\":\"Any\",\"default\":\"none\"},{\"name\":\"_synced\",\"kind\":\"Any\",\"default\":null},{\"name\":\"_request_sync\",\"kind\":\"Any\",\"default\":0}]}]}};\n",
       "  var render_items = [{\"docid\":\"98a795dc-b033-47c1-b713-2918702732f7\",\"roots\":{\"110345c5-da01-4c44-886f-b830a4610317\":\"e238b598-77ca-4975-94cf-acb8fd8ea242\"},\"root_ids\":[\"110345c5-da01-4c44-886f-b830a4610317\"]}];\n",
       "  var docs = Object.values(docs_json)\n",
       "  if (!docs) {\n",
       "    return\n",
       "  }\n",
       "  const py_version = docs[0].version.replace('rc', '-rc.').replace('.dev', '-dev.')\n",
       "  async function embed_document(root) {\n",
       "    var Bokeh = get_bokeh(root)\n",
       "    await Bokeh.embed.embed_items_notebook(docs_json, render_items);\n",
       "    for (const render_item of render_items) {\n",
       "      for (const root_id of render_item.root_ids) {\n",
       "\tconst id_el = document.getElementById(root_id)\n",
       "\tif (id_el.children.length && id_el.children[0].hasAttribute('data-root-id')) {\n",
       "\t  const root_el = id_el.children[0]\n",
       "\t  root_el.id = root_el.id + '-rendered'\n",
       "\t  for (const child of root_el.children) {\n",
       "            // Ensure JupyterLab does not capture keyboard shortcuts\n",
       "            // see: https://jupyterlab.readthedocs.io/en/4.1.x/extension/notebook.html#keyboard-interaction-model\n",
       "\t    child.setAttribute('data-lm-suppress-shortcuts', 'true')\n",
       "\t  }\n",
       "\t}\n",
       "      }\n",
       "    }\n",
       "  }\n",
       "  function get_bokeh(root) {\n",
       "    if (root.Bokeh === undefined) {\n",
       "      return null\n",
       "    } else if (root.Bokeh.version !== py_version) {\n",
       "      if (root.Bokeh.versions === undefined || !root.Bokeh.versions.has(py_version)) {\n",
       "\treturn null\n",
       "      }\n",
       "      return root.Bokeh.versions.get(py_version);\n",
       "    } else if (root.Bokeh.version === py_version) {\n",
       "      return root.Bokeh\n",
       "    }\n",
       "    return null\n",
       "  }\n",
       "  function is_loaded(root) {\n",
       "    var Bokeh = get_bokeh(root)\n",
       "    return (Bokeh != null && Bokeh.Panel !== undefined)\n",
       "  }\n",
       "  if (is_loaded(root)) {\n",
       "    embed_document(root);\n",
       "  } else {\n",
       "    var attempts = 0;\n",
       "    var timer = setInterval(function(root) {\n",
       "      if (is_loaded(root)) {\n",
       "        clearInterval(timer);\n",
       "        embed_document(root);\n",
       "      } else if (document.readyState == \"complete\") {\n",
       "        attempts++;\n",
       "        if (attempts > 200) {\n",
       "          clearInterval(timer);\n",
       "\t  var Bokeh = get_bokeh(root)\n",
       "\t  if (Bokeh == null || Bokeh.Panel == null) {\n",
       "            console.warn(\"Panel: ERROR: Unable to run Panel code because Bokeh or Panel library is missing\");\n",
       "\t  } else {\n",
       "\t    console.warn(\"Panel: WARNING: Attempting to render but not all required libraries could be resolved.\")\n",
       "\t    embed_document(root)\n",
       "\t  }\n",
       "        }\n",
       "      }\n",
       "    }, 25, root)\n",
       "  }\n",
       "})(window);</script>"
      ],
      "text/plain": [
       ":NdOverlay   [segment]\n",
       "   :Scatter   [recency]   (frequency,customer_id,monetary,segment)"
      ]
     },
     "metadata": {
      "application/vnd.holoviews_exec.v0+json": {
       "id": "110345c5-da01-4c44-886f-b830a4610317"
      }
     },
     "output_type": "display_data"
    },
    {
     "name": "stdout",
     "output_type": "stream",
     "text": [
      "---------------------------------------------------------------CALINSKI HARABASZ SCORE----------------------------------------------------------------\n",
      "[{'k': 2, 'score': 121.02061461641048}, {'k': 3, 'score': 104.02296447055114}, {'k': 4, 'score': 108.5955298856788}, {'k': 5, 'score': 114.21025770035112}]\n",
      "Best k value = 2 (ch_score score = 121.021)\n"
     ]
    },
    {
     "data": {},
     "metadata": {},
     "output_type": "display_data"
    },
    {
     "data": {
      "application/vnd.holoviews_exec.v0+json": "",
      "text/html": [
       "<div id='b9935ff2-cab6-4680-890f-34092e7d01f1'>\n",
       "  <div id=\"ae4450fb-3a03-4365-a349-613f40d442ca\" data-root-id=\"b9935ff2-cab6-4680-890f-34092e7d01f1\" style=\"display: contents;\"></div>\n",
       "</div>\n",
       "<script type=\"application/javascript\">(function(root) {\n",
       "  var docs_json = {\"eadbe4af-88e3-4edc-821a-258d6fcb9dd6\":{\"version\":\"3.5.2\",\"title\":\"Bokeh Application\",\"roots\":[{\"type\":\"object\",\"name\":\"Row\",\"id\":\"b9935ff2-cab6-4680-890f-34092e7d01f1\",\"attributes\":{\"name\":\"Row10921\",\"tags\":[\"embedded\"],\"stylesheets\":[\"\\n:host(.pn-loading):before, .pn-loading:before {\\n  background-color: #c3c3c3;\\n  mask-size: auto calc(min(50%, 400px));\\n  -webkit-mask-size: auto calc(min(50%, 400px));\\n}\",{\"type\":\"object\",\"name\":\"ImportedStyleSheet\",\"id\":\"782d9d90-fd2a-45aa-acd3-d947037f1226\",\"attributes\":{\"url\":\"https://cdn.holoviz.org/panel/1.5.3/dist/css/loading.css\"}},{\"type\":\"object\",\"name\":\"ImportedStyleSheet\",\"id\":\"5524d856-9ade-4a0d-9993-bcdd3bfb4fa0\",\"attributes\":{\"url\":\"https://cdn.holoviz.org/panel/1.5.3/dist/css/listpanel.css\"}},{\"type\":\"object\",\"name\":\"ImportedStyleSheet\",\"id\":\"c0bde685-035e-410a-b29c-4a51503f49ca\",\"attributes\":{\"url\":\"https://cdn.holoviz.org/panel/1.5.3/dist/bundled/theme/default.css\"}},{\"type\":\"object\",\"name\":\"ImportedStyleSheet\",\"id\":\"7fdb803a-63da-4f32-8476-762df4109f1e\",\"attributes\":{\"url\":\"https://cdn.holoviz.org/panel/1.5.3/dist/bundled/theme/native.css\"}}],\"min_width\":700,\"margin\":0,\"sizing_mode\":\"stretch_width\",\"align\":\"start\",\"children\":[{\"type\":\"object\",\"name\":\"Spacer\",\"id\":\"3b5af12e-a308-482d-80f3-dd2235d40150\",\"attributes\":{\"name\":\"HSpacer10925\",\"stylesheets\":[\"\\n:host(.pn-loading):before, .pn-loading:before {\\n  background-color: #c3c3c3;\\n  mask-size: auto calc(min(50%, 400px));\\n  -webkit-mask-size: auto calc(min(50%, 400px));\\n}\",{\"id\":\"782d9d90-fd2a-45aa-acd3-d947037f1226\"},{\"id\":\"c0bde685-035e-410a-b29c-4a51503f49ca\"},{\"id\":\"7fdb803a-63da-4f32-8476-762df4109f1e\"}],\"margin\":0,\"sizing_mode\":\"stretch_width\",\"align\":\"start\"}},{\"type\":\"object\",\"name\":\"Figure\",\"id\":\"87c3c058-cba2-41e7-a6d2-77ba89d38b77\",\"attributes\":{\"width\":700,\"height\":300,\"margin\":[5,10],\"sizing_mode\":\"fixed\",\"align\":\"start\",\"x_range\":{\"type\":\"object\",\"name\":\"Range1d\",\"id\":\"482338d9-dfd9-4c60-bebc-855487a8e549\",\"attributes\":{\"name\":\"recency\",\"tags\":[[[\"recency\",null]],[]],\"start\":-21.17142857142857,\"end\":515.1714285714286,\"reset_start\":-21.17142857142857,\"reset_end\":515.1714285714286}},\"y_range\":{\"type\":\"object\",\"name\":\"Range1d\",\"id\":\"ab333841-2493-40e7-966f-0b3a06a9fdce\",\"attributes\":{\"name\":\"frequency\",\"tags\":[[[\"frequency\",null]],{\"type\":\"map\",\"entries\":[[\"invert_yaxis\",false],[\"autorange\",false]]}],\"start\":-0.12187378681914524,\"end\":1.3406116550105975,\"reset_start\":-0.12187378681914524,\"reset_end\":1.3406116550105975}},\"x_scale\":{\"type\":\"object\",\"name\":\"LinearScale\",\"id\":\"8f4ff744-2431-40be-aeee-207daf0eab77\"},\"y_scale\":{\"type\":\"object\",\"name\":\"LinearScale\",\"id\":\"362a6563-92b6-4ef4-9be5-73221e5010ed\"},\"title\":{\"type\":\"object\",\"name\":\"Title\",\"id\":\"9188fd6d-4d15-4d27-bb80-9301c269b508\",\"attributes\":{\"text_color\":\"black\",\"text_font_size\":\"12pt\"}},\"renderers\":[{\"type\":\"object\",\"name\":\"GlyphRenderer\",\"id\":\"bd890dc4-aa23-4951-84da-32d3c06947b9\",\"attributes\":{\"name\":\"0\",\"data_source\":{\"type\":\"object\",\"name\":\"ColumnDataSource\",\"id\":\"77d6fb8d-1a79-4c0d-873e-deda1e5ed98f\",\"attributes\":{\"selected\":{\"type\":\"object\",\"name\":\"Selection\",\"id\":\"58560f44-b3b2-4476-82cd-5860be29ee28\",\"attributes\":{\"indices\":[],\"line_indices\":[]}},\"selection_policy\":{\"type\":\"object\",\"name\":\"UnionRenderers\",\"id\":\"45d455ec-06dd-42c2-b424-793d1c32bf55\"},\"data\":{\"type\":\"map\",\"entries\":[[\"recency\",{\"type\":\"ndarray\",\"array\":{\"type\":\"bytes\",\"data\":\"twAAALwAAACEAAAApQAAACgAAACnAAAAggAAAC4AAAAMAAAAYQAAAL0AAADCAAAAugAAAKkAAAAZAAAAgwAAAEsAAABFAAAAtQAAAK4AAACDAAAApQAAAA4AAAAhAAAASwAAAD0AAADBAAAAAAAAAFMAAADEAAAARAAAAGIAAADBAAAAxQAAAH8AAACtAAAAtgAAAJcAAACpAAAAEAAAAH0AAADBAAAAsgAAAGcAAABqAAAABwAAAHUAAACxAAAAtAAAACcAAAC1AAAAGAAAAEwAAABoAAAAAAEAAKQAAAAyAAAAMAAAADcAAAA=\"},\"shape\":[59],\"dtype\":\"int32\",\"order\":\"little\"}],[\"frequency\",{\"type\":\"ndarray\",\"array\":{\"type\":\"bytes\",\"data\":\"REQLbI4Q6D+KO75yNr7rP4o7vnI2vus/REQLbI4Q6D9ERAtsjhDoP4o7vnI2vus/REQLbI4Q6D9ERAtsjhDoP0REC2yOEOg/REQLbI4Q6D9ERAtsjhDoP0REC2yOEOg/REQLbI4Q6D9ERAtsjhDoP4o7vnI2vus/REQLbI4Q6D9ERAtsjhDoP4o7vnI2vus/REQLbI4Q6D9ERAtsjhDoP0REC2yOEOg/REQLbI4Q6D/5dmRH83/zP0REC2yOEOg/YfF8Rz1a4T9ERAtsjhDoP0REC2yOEOg/iju+cja+6z+KO75yNr7rP0REC2yOEOg/REQLbI4Q6D9h8XxHPVrhP4o7vnI2vus/REQLbI4Q6D+KO75yNr7rP0REC2yOEOg/REQLbI4Q6D9ERAtsjhDoPyld0uZkGu4/REQLbI4Q6D9ERAtsjhDoP4o7vnI2vus/REQLbI4Q6D9ERAtsjhDoP0REC2yOEOg/REQLbI4Q6D9ERAtsjhDoP0REC2yOEOg/REQLbI4Q6D9h8XxHPVrhP0REC2yOEOg/iju+cja+6z8pXdLmZBruP0REC2yOEOg/REQLbI4Q6D9ERAtsjhDoP0REC2yOEOg/KV3S5mQa7j+gPTe0W9jyPw==\"},\"shape\":[59],\"dtype\":\"float64\",\"order\":\"little\"}],[\"customer_id\",{\"type\":\"ndarray\",\"array\":{\"type\":\"bytes\",\"data\":\"AQAAAAMAAAAFAAAABgAAAAcAAAAIAAAACQAAAAoAAAALAAAADAAAAA0AAAAPAAAAEQAAABMAAAAVAAAAFgAAABgAAAAbAAAAHQAAAB8AAAAgAAAAIwAAACUAAAAmAAAAJwAAACgAAAAqAAAAKwAAACwAAAAuAAAAMAAAADEAAAAzAAAANQAAADgAAAA5AAAAOgAAAD0AAAA+AAAAPwAAAEAAAABBAAAAQgAAAEMAAABFAAAARwAAAEgAAABKAAAASwAAAE8AAABQAAAAUQAAAFIAAABTAAAAVAAAAFUAAABYAAAAWgAAAFsAAAA=\"},\"shape\":[59],\"dtype\":\"int32\",\"order\":\"little\"}],[\"monetary\",{\"type\":\"ndarray\",\"array\":{\"type\":\"bytes\",\"data\":\"pn+61XFeJ0Bw2fhQz18nQI7RoAtNZydAq6q/FtXJJkDtoCfkZ+ImQPk9XnGvYyhAwmvNEoQyJ0B/YM9YZhEnQK3kk8E7ECdAJNL2VzU9J0AKMRgyiZ4lQFpHVwyMkydA+nloLl2rJ0Dmt816r6UmQOG+7rpdZidAMuQLx4hJJ0CyvhUoFQEnQKIZB0+u4ydA6/b8DTPwJ0BKfqbIG4omQDy9NzPlciZA9J+tikleJEDn55g5SywrQAHUUl4slyZARPlY9rS2JkDtVPlsJIsmQOZmWbhpxSZAEGsPFojVJ0AQrExz0dUnQDVxp518UidAr1yOu2i6JUBPx8ipHD0iQAN1elpytCZAp0ZN1pZmJ0D128vtx9UkQFMYTL/HLyRA6G4NXAfnJkBsY8nrHywnQAcTYr0NbChAXb/Tt99tJkCqxEd+dh0nQEn6X0xAVSdAUpDxGRr4JkAaXEU8VaUnQFX3ih+GHCdAFVmkQ1K8J0DoHcIYYJ4mQPknaOwQhiZAtVdPNb5vJkAILp1NJT4mQAZGWP5pqyZA1rFjYWVQJ0ClqnF5Oh8oQKKMWoyI/CVAPiXG5/8+J0BY86eudeklQF1Oq1WRUyZAoE5YIXCgJ0DngIqfFcMqQA==\"},\"shape\":[59],\"dtype\":\"float64\",\"order\":\"little\"}],[\"segment\",{\"type\":\"ndarray\",\"array\":{\"type\":\"bytes\",\"data\":\"AAAAAAAAAAAAAAAAAAAAAAAAAAAAAAAAAAAAAAAAAAAAAAAAAAAAAAAAAAAAAAAAAAAAAAAAAAAAAAAAAAAAAAAAAAAAAAAAAAAAAAAAAAAAAAAAAAAAAAAAAAAAAAAAAAAAAAAAAAAAAAAAAAAAAAAAAAAAAAAAAAAAAAAAAAAAAAAAAAAAAAAAAAAAAAAAAAAAAAAAAAAAAAAAAAAAAAAAAAAAAAAAAAAAAAAAAAAAAAAAAAAAAAAAAAAAAAAAAAAAAAAAAAAAAAAAAAAAAAAAAAAAAAAAAAAAAAAAAAAAAAAAAAAAAAAAAAA=\"},\"shape\":[59],\"dtype\":\"int32\",\"order\":\"little\"}]]}}},\"view\":{\"type\":\"object\",\"name\":\"CDSView\",\"id\":\"8edd0d2f-9cf8-4248-9413-8aae4a09ef17\",\"attributes\":{\"filter\":{\"type\":\"object\",\"name\":\"AllIndices\",\"id\":\"d70f3592-ceac-4586-88c8-c30478ac7d15\"}}},\"glyph\":{\"type\":\"object\",\"name\":\"Scatter\",\"id\":\"6cdc0777-7fda-4761-84c4-83a055d817c0\",\"attributes\":{\"tags\":[\"apply_ranges\"],\"x\":{\"type\":\"field\",\"field\":\"recency\"},\"y\":{\"type\":\"field\",\"field\":\"frequency\"},\"size\":{\"type\":\"value\",\"value\":5.477225575051661},\"line_color\":{\"type\":\"value\",\"value\":\"#30a2da\"},\"fill_color\":{\"type\":\"value\",\"value\":\"#30a2da\"},\"hatch_color\":{\"type\":\"value\",\"value\":\"#30a2da\"}}},\"selection_glyph\":{\"type\":\"object\",\"name\":\"Scatter\",\"id\":\"1ef13ab8-de21-4448-b8e4-6403448df7d9\",\"attributes\":{\"tags\":[\"apply_ranges\"],\"x\":{\"type\":\"field\",\"field\":\"recency\"},\"y\":{\"type\":\"field\",\"field\":\"frequency\"},\"size\":{\"type\":\"value\",\"value\":5.477225575051661},\"angle\":{\"type\":\"value\",\"value\":0.0},\"line_color\":{\"type\":\"value\",\"value\":\"#30a2da\"},\"line_alpha\":{\"type\":\"value\",\"value\":1.0},\"line_width\":{\"type\":\"value\",\"value\":1},\"line_join\":{\"type\":\"value\",\"value\":\"bevel\"},\"line_cap\":{\"type\":\"value\",\"value\":\"butt\"},\"line_dash\":{\"type\":\"value\",\"value\":[]},\"line_dash_offset\":{\"type\":\"value\",\"value\":0},\"fill_color\":{\"type\":\"value\",\"value\":\"#30a2da\"},\"fill_alpha\":{\"type\":\"value\",\"value\":1.0},\"hatch_color\":{\"type\":\"value\",\"value\":\"#30a2da\"},\"hatch_alpha\":{\"type\":\"value\",\"value\":1.0},\"hatch_scale\":{\"type\":\"value\",\"value\":12.0},\"hatch_pattern\":{\"type\":\"value\",\"value\":null},\"hatch_weight\":{\"type\":\"value\",\"value\":1.0},\"marker\":{\"type\":\"value\",\"value\":\"circle\"}}},\"nonselection_glyph\":{\"type\":\"object\",\"name\":\"Scatter\",\"id\":\"03415903-64d7-454e-8c45-a8aae4215843\",\"attributes\":{\"tags\":[\"apply_ranges\"],\"x\":{\"type\":\"field\",\"field\":\"recency\"},\"y\":{\"type\":\"field\",\"field\":\"frequency\"},\"size\":{\"type\":\"value\",\"value\":5.477225575051661},\"line_color\":{\"type\":\"value\",\"value\":\"#30a2da\"},\"line_alpha\":{\"type\":\"value\",\"value\":0.1},\"fill_color\":{\"type\":\"value\",\"value\":\"#30a2da\"},\"fill_alpha\":{\"type\":\"value\",\"value\":0.1},\"hatch_color\":{\"type\":\"value\",\"value\":\"#30a2da\"},\"hatch_alpha\":{\"type\":\"value\",\"value\":0.1}}},\"muted_glyph\":{\"type\":\"object\",\"name\":\"Scatter\",\"id\":\"f300d914-cd32-42fd-b016-f68789186cb2\",\"attributes\":{\"tags\":[\"apply_ranges\"],\"x\":{\"type\":\"field\",\"field\":\"recency\"},\"y\":{\"type\":\"field\",\"field\":\"frequency\"},\"size\":{\"type\":\"value\",\"value\":5.477225575051661},\"line_color\":{\"type\":\"value\",\"value\":\"#30a2da\"},\"line_alpha\":{\"type\":\"value\",\"value\":0.2},\"fill_color\":{\"type\":\"value\",\"value\":\"#30a2da\"},\"fill_alpha\":{\"type\":\"value\",\"value\":0.2},\"hatch_color\":{\"type\":\"value\",\"value\":\"#30a2da\"},\"hatch_alpha\":{\"type\":\"value\",\"value\":0.2}}}}},{\"type\":\"object\",\"name\":\"GlyphRenderer\",\"id\":\"193a2b7c-4758-4dc1-b61e-8600d46b8ab3\",\"attributes\":{\"name\":\"1\",\"data_source\":{\"type\":\"object\",\"name\":\"ColumnDataSource\",\"id\":\"ca0178f1-d2a4-4c65-88f3-d9f6665f67d6\",\"attributes\":{\"selected\":{\"type\":\"object\",\"name\":\"Selection\",\"id\":\"665ed373-ceec-4ead-93f8-5156728328b6\",\"attributes\":{\"indices\":[],\"line_indices\":[]}},\"selection_policy\":{\"type\":\"object\",\"name\":\"UnionRenderers\",\"id\":\"11fa67e7-3bf4-4f0e-9dba-df6aaf686c73\"},\"data\":{\"type\":\"map\",\"entries\":[[\"recency\",{\"type\":\"ndarray\",\"array\":{\"type\":\"bytes\",\"data\":\"1QAAALkBAADfAAAAjwEAAMMAAAANAQAADgEAACwBAAB2AQAAegEAAAQBAADXAAAA+QAAANoBAACoAQAAPwEAANgAAADFAAAAzwAAANYAAAC+AQAA+gAAAGwBAADuAQAA4QEAAPMAAADOAQAA+QAAAM8AAACCAQAA2gAAAPQAAADDAQAA\"},\"shape\":[33],\"dtype\":\"int32\",\"order\":\"little\"}],[\"frequency\",{\"type\":\"ndarray\",\"array\":{\"type\":\"bytes\",\"data\":\"YfF8Rz1a4T9ERAtsjhDoP2HxfEc9WuE/YfF8Rz1a4T9h8XxHPVrhP2HxfEc9WuE/YfF8Rz1a4T9h8XxHPVrhP2HxfEc9WuE/YfF8Rz1a4T9h8XxHPVrhP2HxfEc9WuE/YfF8Rz1a4T9h8XxHPVrhP2HxfEc9WuE/YfF8Rz1a4T9h8XxHPVrhP2HxfEc9WuE/YfF8Rz1a4T9h8XxHPVrhP2HxfEc9WuE/YfF8Rz1a4T9h8XxHPVrhP2HxfEc9WuE/YfF8Rz1a4T9h8XxHPVrhP2HxfEc9WuE/YfF8Rz1a4T9h8XxHPVrhP2HxfEc9WuE/YfF8Rz1a4T8AAAAAAAAAAGHxfEc9WuE/\"},\"shape\":[33],\"dtype\":\"float64\",\"order\":\"little\"}],[\"customer_id\",{\"type\":\"ndarray\",\"array\":{\"type\":\"bytes\",\"data\":\"AgAAAAQAAAAOAAAAEAAAABIAAAAUAAAAFwAAABkAAAAaAAAAHAAAAB4AAAAhAAAAIgAAACQAAAApAAAALQAAAC8AAAAyAAAANAAAADYAAAA3AAAAOwAAADwAAABEAAAARgAAAEkAAABMAAAATQAAAE4AAABWAAAAVwAAAFkAAABcAAAA\"},\"shape\":[33],\"dtype\":\"int32\",\"order\":\"little\"}],[\"monetary\",{\"type\":\"ndarray\",\"array\":{\"type\":\"bytes\",\"data\":\"XuD1sjAIJ0Ay64rgTL0nQEoDqI/00SVAWjkjGC8+JkB6bqPgPdEkQFOln7lijyZAp6NZJ9VwJkDaOp1ANjYmQLNaiEre/SRAhcr8HfyQJkAPhawHH1onQCGig8NwPSZA0JK9R47rJEBZNLHH/HklQIkvduYOoCVAbE50vOqlJUCBGj8EKBYnQJ7V2Jn9iCZA5ncrufV0JkBT0kOTwLYmQAPwzE0xwiZASl1o1JTnJkDlLb3XiAUlQBfdGllajyVAk13CPNH7JECYPKlcku0lQCrH8ib4pSVAMxZQ1JjoJUAa0ejAqQknQFcfOANCViZAmiVBF8IoJkB52QHbCO0kQKZSmYYHSSZA\"},\"shape\":[33],\"dtype\":\"float64\",\"order\":\"little\"}],[\"segment\",{\"type\":\"ndarray\",\"array\":{\"type\":\"bytes\",\"data\":\"AQAAAAEAAAABAAAAAQAAAAEAAAABAAAAAQAAAAEAAAABAAAAAQAAAAEAAAABAAAAAQAAAAEAAAABAAAAAQAAAAEAAAABAAAAAQAAAAEAAAABAAAAAQAAAAEAAAABAAAAAQAAAAEAAAABAAAAAQAAAAEAAAABAAAAAQAAAAEAAAABAAAA\"},\"shape\":[33],\"dtype\":\"int32\",\"order\":\"little\"}]]}}},\"view\":{\"type\":\"object\",\"name\":\"CDSView\",\"id\":\"ad9e8817-dbb0-4cd2-a1ec-f2055c845129\",\"attributes\":{\"filter\":{\"type\":\"object\",\"name\":\"AllIndices\",\"id\":\"29fcb217-8efc-4a15-8bcd-0eeb30ed71bd\"}}},\"glyph\":{\"type\":\"object\",\"name\":\"Scatter\",\"id\":\"5d3a1df0-27d2-4911-a509-96d25b7db9eb\",\"attributes\":{\"tags\":[\"apply_ranges\"],\"x\":{\"type\":\"field\",\"field\":\"recency\"},\"y\":{\"type\":\"field\",\"field\":\"frequency\"},\"size\":{\"type\":\"value\",\"value\":5.477225575051661},\"line_color\":{\"type\":\"value\",\"value\":\"#fc4f30\"},\"fill_color\":{\"type\":\"value\",\"value\":\"#fc4f30\"},\"hatch_color\":{\"type\":\"value\",\"value\":\"#fc4f30\"}}},\"selection_glyph\":{\"type\":\"object\",\"name\":\"Scatter\",\"id\":\"0f2aa726-a7b1-415e-a6f3-bc6f1cc7d5ae\",\"attributes\":{\"tags\":[\"apply_ranges\"],\"x\":{\"type\":\"field\",\"field\":\"recency\"},\"y\":{\"type\":\"field\",\"field\":\"frequency\"},\"size\":{\"type\":\"value\",\"value\":5.477225575051661},\"angle\":{\"type\":\"value\",\"value\":0.0},\"line_color\":{\"type\":\"value\",\"value\":\"#fc4f30\"},\"line_alpha\":{\"type\":\"value\",\"value\":1.0},\"line_width\":{\"type\":\"value\",\"value\":1},\"line_join\":{\"type\":\"value\",\"value\":\"bevel\"},\"line_cap\":{\"type\":\"value\",\"value\":\"butt\"},\"line_dash\":{\"type\":\"value\",\"value\":[]},\"line_dash_offset\":{\"type\":\"value\",\"value\":0},\"fill_color\":{\"type\":\"value\",\"value\":\"#fc4f30\"},\"fill_alpha\":{\"type\":\"value\",\"value\":1.0},\"hatch_color\":{\"type\":\"value\",\"value\":\"#fc4f30\"},\"hatch_alpha\":{\"type\":\"value\",\"value\":1.0},\"hatch_scale\":{\"type\":\"value\",\"value\":12.0},\"hatch_pattern\":{\"type\":\"value\",\"value\":null},\"hatch_weight\":{\"type\":\"value\",\"value\":1.0},\"marker\":{\"type\":\"value\",\"value\":\"circle\"}}},\"nonselection_glyph\":{\"type\":\"object\",\"name\":\"Scatter\",\"id\":\"2e6e5637-e780-4679-b76a-6b748f9fd196\",\"attributes\":{\"tags\":[\"apply_ranges\"],\"x\":{\"type\":\"field\",\"field\":\"recency\"},\"y\":{\"type\":\"field\",\"field\":\"frequency\"},\"size\":{\"type\":\"value\",\"value\":5.477225575051661},\"line_color\":{\"type\":\"value\",\"value\":\"#fc4f30\"},\"line_alpha\":{\"type\":\"value\",\"value\":0.1},\"fill_color\":{\"type\":\"value\",\"value\":\"#fc4f30\"},\"fill_alpha\":{\"type\":\"value\",\"value\":0.1},\"hatch_color\":{\"type\":\"value\",\"value\":\"#fc4f30\"},\"hatch_alpha\":{\"type\":\"value\",\"value\":0.1}}},\"muted_glyph\":{\"type\":\"object\",\"name\":\"Scatter\",\"id\":\"e9b13e75-a3fc-4d54-b19d-3587e3003dee\",\"attributes\":{\"tags\":[\"apply_ranges\"],\"x\":{\"type\":\"field\",\"field\":\"recency\"},\"y\":{\"type\":\"field\",\"field\":\"frequency\"},\"size\":{\"type\":\"value\",\"value\":5.477225575051661},\"line_color\":{\"type\":\"value\",\"value\":\"#fc4f30\"},\"line_alpha\":{\"type\":\"value\",\"value\":0.2},\"fill_color\":{\"type\":\"value\",\"value\":\"#fc4f30\"},\"fill_alpha\":{\"type\":\"value\",\"value\":0.2},\"hatch_color\":{\"type\":\"value\",\"value\":\"#fc4f30\"},\"hatch_alpha\":{\"type\":\"value\",\"value\":0.2}}}}}],\"toolbar\":{\"type\":\"object\",\"name\":\"Toolbar\",\"id\":\"b22d4909-1ecb-4eb2-a18d-a3cdfb15a69c\",\"attributes\":{\"tools\":[{\"type\":\"object\",\"name\":\"WheelZoomTool\",\"id\":\"7f7b3db1-32e5-4363-ba73-53303c141ecd\",\"attributes\":{\"tags\":[\"hv_created\"],\"renderers\":\"auto\",\"zoom_together\":\"none\"}},{\"type\":\"object\",\"name\":\"HoverTool\",\"id\":\"4d9ee1da-ecfa-48d6-bd1d-c0aa6bd905c9\",\"attributes\":{\"tags\":[\"hv_created\"],\"renderers\":[{\"id\":\"bd890dc4-aa23-4951-84da-32d3c06947b9\"},{\"id\":\"193a2b7c-4758-4dc1-b61e-8600d46b8ab3\"}],\"tooltips\":[[\"segment\",\"@{segment}\"],[\"recency\",\"@{recency}\"],[\"frequency\",\"@{frequency}\"],[\"customer_id\",\"@{customer_id}\"],[\"monetary\",\"@{monetary}\"]]}},{\"type\":\"object\",\"name\":\"SaveTool\",\"id\":\"f635bc49-242c-4867-9230-56a0d0869797\"},{\"type\":\"object\",\"name\":\"PanTool\",\"id\":\"b961bafd-e8e3-422c-80d6-48e58fa15f84\"},{\"type\":\"object\",\"name\":\"BoxZoomTool\",\"id\":\"6bb90097-c2e1-4902-a7cd-ea2728a21096\",\"attributes\":{\"overlay\":{\"type\":\"object\",\"name\":\"BoxAnnotation\",\"id\":\"8209bb1c-08ea-47e2-9d46-f05f88621111\",\"attributes\":{\"syncable\":false,\"line_color\":\"black\",\"line_alpha\":1.0,\"line_width\":2,\"line_dash\":[4,4],\"fill_color\":\"lightgrey\",\"fill_alpha\":0.5,\"level\":\"overlay\",\"visible\":false,\"left\":{\"type\":\"number\",\"value\":\"nan\"},\"right\":{\"type\":\"number\",\"value\":\"nan\"},\"top\":{\"type\":\"number\",\"value\":\"nan\"},\"bottom\":{\"type\":\"number\",\"value\":\"nan\"},\"left_units\":\"canvas\",\"right_units\":\"canvas\",\"top_units\":\"canvas\",\"bottom_units\":\"canvas\",\"handles\":{\"type\":\"object\",\"name\":\"BoxInteractionHandles\",\"id\":\"df458ea4-114e-442d-a0f9-db4fec632005\",\"attributes\":{\"all\":{\"type\":\"object\",\"name\":\"AreaVisuals\",\"id\":\"4124f07b-61cf-4c0d-92c3-8a5728967b9d\",\"attributes\":{\"fill_color\":\"white\",\"hover_fill_color\":\"lightgray\"}}}}}}}},{\"type\":\"object\",\"name\":\"ResetTool\",\"id\":\"d61db460-0674-498f-adb2-e621f73d7bb4\"}],\"active_drag\":{\"id\":\"b961bafd-e8e3-422c-80d6-48e58fa15f84\"},\"active_scroll\":{\"id\":\"7f7b3db1-32e5-4363-ba73-53303c141ecd\"}}},\"left\":[{\"type\":\"object\",\"name\":\"LinearAxis\",\"id\":\"90d41561-d1e8-4bab-8d8f-040d0bd38c9d\",\"attributes\":{\"ticker\":{\"type\":\"object\",\"name\":\"BasicTicker\",\"id\":\"c835b5ac-a7e8-4351-a032-afbb223251e6\",\"attributes\":{\"mantissas\":[1,2,5]}},\"formatter\":{\"type\":\"object\",\"name\":\"BasicTickFormatter\",\"id\":\"c2da2404-4b60-432b-a50f-21c20ee423ea\"},\"axis_label\":\"frequency\",\"major_label_policy\":{\"type\":\"object\",\"name\":\"AllLabels\",\"id\":\"0d1b5450-9392-48b4-aa5f-26e99cd99d14\"}}}],\"right\":[{\"type\":\"object\",\"name\":\"Legend\",\"id\":\"01eed4bd-eb22-4214-a89f-6077332fa06c\",\"attributes\":{\"location\":[0,0],\"title\":\"segment\",\"click_policy\":\"mute\",\"items\":[{\"type\":\"object\",\"name\":\"LegendItem\",\"id\":\"7e4e8833-2476-44c0-b11b-8f3778d00f75\",\"attributes\":{\"label\":{\"type\":\"value\",\"value\":\"0\"},\"renderers\":[{\"id\":\"bd890dc4-aa23-4951-84da-32d3c06947b9\"}]}},{\"type\":\"object\",\"name\":\"LegendItem\",\"id\":\"66343a2c-affe-4a05-b491-d5de2e09e9fa\",\"attributes\":{\"label\":{\"type\":\"value\",\"value\":\"1\"},\"renderers\":[{\"id\":\"193a2b7c-4758-4dc1-b61e-8600d46b8ab3\"}]}}]}}],\"below\":[{\"type\":\"object\",\"name\":\"LinearAxis\",\"id\":\"bbdbeda8-3c25-4cd0-a4f9-32bdc67e11ba\",\"attributes\":{\"ticker\":{\"type\":\"object\",\"name\":\"BasicTicker\",\"id\":\"277013ef-462c-43a2-b09d-9c4f9238a99e\",\"attributes\":{\"mantissas\":[1,2,5]}},\"formatter\":{\"type\":\"object\",\"name\":\"BasicTickFormatter\",\"id\":\"ebe693de-75bf-4723-acaa-9ac00dbed44f\"},\"axis_label\":\"recency\",\"major_label_policy\":{\"type\":\"object\",\"name\":\"AllLabels\",\"id\":\"68ab9ed8-6ad2-444e-a9c5-4e9e39ed6201\"}}}],\"center\":[{\"type\":\"object\",\"name\":\"Grid\",\"id\":\"5100af46-e352-42d7-80bb-9d33338cae30\",\"attributes\":{\"axis\":{\"id\":\"bbdbeda8-3c25-4cd0-a4f9-32bdc67e11ba\"},\"grid_line_color\":null}},{\"type\":\"object\",\"name\":\"Grid\",\"id\":\"f2407099-3f16-4a2d-a823-135ec16e59a9\",\"attributes\":{\"dimension\":1,\"axis\":{\"id\":\"90d41561-d1e8-4bab-8d8f-040d0bd38c9d\"},\"grid_line_color\":null}}],\"min_border_top\":10,\"min_border_bottom\":10,\"min_border_left\":10,\"min_border_right\":10,\"output_backend\":\"webgl\"}},{\"type\":\"object\",\"name\":\"Spacer\",\"id\":\"af3d6369-9fb0-420f-998b-c9b56491b52f\",\"attributes\":{\"name\":\"HSpacer10926\",\"stylesheets\":[\"\\n:host(.pn-loading):before, .pn-loading:before {\\n  background-color: #c3c3c3;\\n  mask-size: auto calc(min(50%, 400px));\\n  -webkit-mask-size: auto calc(min(50%, 400px));\\n}\",{\"id\":\"782d9d90-fd2a-45aa-acd3-d947037f1226\"},{\"id\":\"c0bde685-035e-410a-b29c-4a51503f49ca\"},{\"id\":\"7fdb803a-63da-4f32-8476-762df4109f1e\"}],\"margin\":0,\"sizing_mode\":\"stretch_width\",\"align\":\"start\"}}]}}],\"defs\":[{\"type\":\"model\",\"name\":\"ReactiveHTML1\"},{\"type\":\"model\",\"name\":\"FlexBox1\",\"properties\":[{\"name\":\"align_content\",\"kind\":\"Any\",\"default\":\"flex-start\"},{\"name\":\"align_items\",\"kind\":\"Any\",\"default\":\"flex-start\"},{\"name\":\"flex_direction\",\"kind\":\"Any\",\"default\":\"row\"},{\"name\":\"flex_wrap\",\"kind\":\"Any\",\"default\":\"wrap\"},{\"name\":\"gap\",\"kind\":\"Any\",\"default\":\"\"},{\"name\":\"justify_content\",\"kind\":\"Any\",\"default\":\"flex-start\"}]},{\"type\":\"model\",\"name\":\"FloatPanel1\",\"properties\":[{\"name\":\"config\",\"kind\":\"Any\",\"default\":{\"type\":\"map\"}},{\"name\":\"contained\",\"kind\":\"Any\",\"default\":true},{\"name\":\"position\",\"kind\":\"Any\",\"default\":\"right-top\"},{\"name\":\"offsetx\",\"kind\":\"Any\",\"default\":null},{\"name\":\"offsety\",\"kind\":\"Any\",\"default\":null},{\"name\":\"theme\",\"kind\":\"Any\",\"default\":\"primary\"},{\"name\":\"status\",\"kind\":\"Any\",\"default\":\"normalized\"}]},{\"type\":\"model\",\"name\":\"GridStack1\",\"properties\":[{\"name\":\"mode\",\"kind\":\"Any\",\"default\":\"warn\"},{\"name\":\"ncols\",\"kind\":\"Any\",\"default\":null},{\"name\":\"nrows\",\"kind\":\"Any\",\"default\":null},{\"name\":\"allow_resize\",\"kind\":\"Any\",\"default\":true},{\"name\":\"allow_drag\",\"kind\":\"Any\",\"default\":true},{\"name\":\"state\",\"kind\":\"Any\",\"default\":[]}]},{\"type\":\"model\",\"name\":\"drag1\",\"properties\":[{\"name\":\"slider_width\",\"kind\":\"Any\",\"default\":5},{\"name\":\"slider_color\",\"kind\":\"Any\",\"default\":\"black\"},{\"name\":\"value\",\"kind\":\"Any\",\"default\":50}]},{\"type\":\"model\",\"name\":\"click1\",\"properties\":[{\"name\":\"terminal_output\",\"kind\":\"Any\",\"default\":\"\"},{\"name\":\"debug_name\",\"kind\":\"Any\",\"default\":\"\"},{\"name\":\"clears\",\"kind\":\"Any\",\"default\":0}]},{\"type\":\"model\",\"name\":\"FastWrapper1\",\"properties\":[{\"name\":\"object\",\"kind\":\"Any\",\"default\":null},{\"name\":\"style\",\"kind\":\"Any\",\"default\":null}]},{\"type\":\"model\",\"name\":\"NotificationAreaBase1\",\"properties\":[{\"name\":\"js_events\",\"kind\":\"Any\",\"default\":{\"type\":\"map\"}},{\"name\":\"position\",\"kind\":\"Any\",\"default\":\"bottom-right\"},{\"name\":\"_clear\",\"kind\":\"Any\",\"default\":0}]},{\"type\":\"model\",\"name\":\"NotificationArea1\",\"properties\":[{\"name\":\"js_events\",\"kind\":\"Any\",\"default\":{\"type\":\"map\"}},{\"name\":\"notifications\",\"kind\":\"Any\",\"default\":[]},{\"name\":\"position\",\"kind\":\"Any\",\"default\":\"bottom-right\"},{\"name\":\"_clear\",\"kind\":\"Any\",\"default\":0},{\"name\":\"types\",\"kind\":\"Any\",\"default\":[{\"type\":\"map\",\"entries\":[[\"type\",\"warning\"],[\"background\",\"#ffc107\"],[\"icon\",{\"type\":\"map\",\"entries\":[[\"className\",\"fas fa-exclamation-triangle\"],[\"tagName\",\"i\"],[\"color\",\"white\"]]}]]},{\"type\":\"map\",\"entries\":[[\"type\",\"info\"],[\"background\",\"#007bff\"],[\"icon\",{\"type\":\"map\",\"entries\":[[\"className\",\"fas fa-info-circle\"],[\"tagName\",\"i\"],[\"color\",\"white\"]]}]]}]}]},{\"type\":\"model\",\"name\":\"Notification\",\"properties\":[{\"name\":\"background\",\"kind\":\"Any\",\"default\":null},{\"name\":\"duration\",\"kind\":\"Any\",\"default\":3000},{\"name\":\"icon\",\"kind\":\"Any\",\"default\":null},{\"name\":\"message\",\"kind\":\"Any\",\"default\":\"\"},{\"name\":\"notification_type\",\"kind\":\"Any\",\"default\":null},{\"name\":\"_destroyed\",\"kind\":\"Any\",\"default\":false}]},{\"type\":\"model\",\"name\":\"TemplateActions1\",\"properties\":[{\"name\":\"open_modal\",\"kind\":\"Any\",\"default\":0},{\"name\":\"close_modal\",\"kind\":\"Any\",\"default\":0}]},{\"type\":\"model\",\"name\":\"BootstrapTemplateActions1\",\"properties\":[{\"name\":\"open_modal\",\"kind\":\"Any\",\"default\":0},{\"name\":\"close_modal\",\"kind\":\"Any\",\"default\":0}]},{\"type\":\"model\",\"name\":\"TemplateEditor1\",\"properties\":[{\"name\":\"layout\",\"kind\":\"Any\",\"default\":[]}]},{\"type\":\"model\",\"name\":\"MaterialTemplateActions1\",\"properties\":[{\"name\":\"open_modal\",\"kind\":\"Any\",\"default\":0},{\"name\":\"close_modal\",\"kind\":\"Any\",\"default\":0}]},{\"type\":\"model\",\"name\":\"ReactiveESM1\"},{\"type\":\"model\",\"name\":\"JSComponent1\"},{\"type\":\"model\",\"name\":\"ReactComponent1\"},{\"type\":\"model\",\"name\":\"AnyWidgetComponent1\"},{\"type\":\"model\",\"name\":\"request_value1\",\"properties\":[{\"name\":\"fill\",\"kind\":\"Any\",\"default\":\"none\"},{\"name\":\"_synced\",\"kind\":\"Any\",\"default\":null},{\"name\":\"_request_sync\",\"kind\":\"Any\",\"default\":0}]}]}};\n",
       "  var render_items = [{\"docid\":\"eadbe4af-88e3-4edc-821a-258d6fcb9dd6\",\"roots\":{\"b9935ff2-cab6-4680-890f-34092e7d01f1\":\"ae4450fb-3a03-4365-a349-613f40d442ca\"},\"root_ids\":[\"b9935ff2-cab6-4680-890f-34092e7d01f1\"]}];\n",
       "  var docs = Object.values(docs_json)\n",
       "  if (!docs) {\n",
       "    return\n",
       "  }\n",
       "  const py_version = docs[0].version.replace('rc', '-rc.').replace('.dev', '-dev.')\n",
       "  async function embed_document(root) {\n",
       "    var Bokeh = get_bokeh(root)\n",
       "    await Bokeh.embed.embed_items_notebook(docs_json, render_items);\n",
       "    for (const render_item of render_items) {\n",
       "      for (const root_id of render_item.root_ids) {\n",
       "\tconst id_el = document.getElementById(root_id)\n",
       "\tif (id_el.children.length && id_el.children[0].hasAttribute('data-root-id')) {\n",
       "\t  const root_el = id_el.children[0]\n",
       "\t  root_el.id = root_el.id + '-rendered'\n",
       "\t  for (const child of root_el.children) {\n",
       "            // Ensure JupyterLab does not capture keyboard shortcuts\n",
       "            // see: https://jupyterlab.readthedocs.io/en/4.1.x/extension/notebook.html#keyboard-interaction-model\n",
       "\t    child.setAttribute('data-lm-suppress-shortcuts', 'true')\n",
       "\t  }\n",
       "\t}\n",
       "      }\n",
       "    }\n",
       "  }\n",
       "  function get_bokeh(root) {\n",
       "    if (root.Bokeh === undefined) {\n",
       "      return null\n",
       "    } else if (root.Bokeh.version !== py_version) {\n",
       "      if (root.Bokeh.versions === undefined || !root.Bokeh.versions.has(py_version)) {\n",
       "\treturn null\n",
       "      }\n",
       "      return root.Bokeh.versions.get(py_version);\n",
       "    } else if (root.Bokeh.version === py_version) {\n",
       "      return root.Bokeh\n",
       "    }\n",
       "    return null\n",
       "  }\n",
       "  function is_loaded(root) {\n",
       "    var Bokeh = get_bokeh(root)\n",
       "    return (Bokeh != null && Bokeh.Panel !== undefined)\n",
       "  }\n",
       "  if (is_loaded(root)) {\n",
       "    embed_document(root);\n",
       "  } else {\n",
       "    var attempts = 0;\n",
       "    var timer = setInterval(function(root) {\n",
       "      if (is_loaded(root)) {\n",
       "        clearInterval(timer);\n",
       "        embed_document(root);\n",
       "      } else if (document.readyState == \"complete\") {\n",
       "        attempts++;\n",
       "        if (attempts > 200) {\n",
       "          clearInterval(timer);\n",
       "\t  var Bokeh = get_bokeh(root)\n",
       "\t  if (Bokeh == null || Bokeh.Panel == null) {\n",
       "            console.warn(\"Panel: ERROR: Unable to run Panel code because Bokeh or Panel library is missing\");\n",
       "\t  } else {\n",
       "\t    console.warn(\"Panel: WARNING: Attempting to render but not all required libraries could be resolved.\")\n",
       "\t    embed_document(root)\n",
       "\t  }\n",
       "        }\n",
       "      }\n",
       "    }, 25, root)\n",
       "  }\n",
       "})(window);</script>"
      ],
      "text/plain": [
       ":NdOverlay   [segment]\n",
       "   :Scatter   [recency]   (frequency,customer_id,monetary,segment)"
      ]
     },
     "metadata": {
      "application/vnd.holoviews_exec.v0+json": {
       "id": "b9935ff2-cab6-4680-890f-34092e7d01f1"
      }
     },
     "output_type": "display_data"
    }
   ],
   "source": [
    "k_options = [2,3,4,5]\n",
    "#cols = ['recency', 'frequency']\n",
    "\n",
    "\n",
    "# get segments for both metrics\n",
    "print('SILHOUETTE SCORE'.center(150, '-'))\n",
    "s_segments_df, s_segments_plot = get_k_means_segments(\n",
    "    scaled_data=scaled_rfm_df[cols], og_data=transformed_rfm_df,\n",
    "    k_values=k_options, metric='silhouette'\n",
    ")\n",
    "\n",
    "print('CALINSKI HARABASZ SCORE'.center(150, '-'))\n",
    "ch_segments_df, ch_segments_plot = get_k_means_segments(\n",
    "    scaled_data=scaled_rfm_df[cols], og_data=transformed_rfm_df, \n",
    "    k_values=k_options, metric='ch_score'\n",
    ")"
   ]
  }
 ],
 "metadata": {
  "kernelspec": {
   "display_name": "base",
   "language": "python",
   "name": "python3"
  },
  "language_info": {
   "codemirror_mode": {
    "name": "ipython",
    "version": 3
   },
   "file_extension": ".py",
   "mimetype": "text/x-python",
   "name": "python",
   "nbconvert_exporter": "python",
   "pygments_lexer": "ipython3",
   "version": "3.12.4"
  }
 },
 "nbformat": 4,
 "nbformat_minor": 2
}
