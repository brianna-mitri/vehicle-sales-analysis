{
 "cells": [
  {
   "cell_type": "markdown",
   "metadata": {},
   "source": [
    "## Setup"
   ]
  },
  {
   "cell_type": "code",
   "execution_count": 1,
   "metadata": {},
   "outputs": [
    {
     "data": {
      "text/html": [
       "<script type=\"esms-options\">{\"shimMode\": true}</script><style>*[data-root-id],\n",
       "*[data-root-id] > * {\n",
       "  box-sizing: border-box;\n",
       "  font-family: var(--jp-ui-font-family);\n",
       "  font-size: var(--jp-ui-font-size1);\n",
       "  color: var(--vscode-editor-foreground, var(--jp-ui-font-color1));\n",
       "}\n",
       "\n",
       "/* Override VSCode background color */\n",
       ".cell-output-ipywidget-background:has(\n",
       "    > .cell-output-ipywidget-background > .lm-Widget > *[data-root-id]\n",
       "  ),\n",
       ".cell-output-ipywidget-background:has(> .lm-Widget > *[data-root-id]) {\n",
       "  background-color: transparent !important;\n",
       "}\n",
       "</style>"
      ]
     },
     "metadata": {},
     "output_type": "display_data"
    },
    {
     "data": {
      "application/javascript": "(function(root) {\n  function now() {\n    return new Date();\n  }\n\n  const force = true;\n  const py_version = '3.5.2'.replace('rc', '-rc.').replace('.dev', '-dev.');\n  const reloading = false;\n  const Bokeh = root.Bokeh;\n\n  // Set a timeout for this load but only if we are not already initializing\n  if (typeof (root._bokeh_timeout) === \"undefined\" || (force || !root._bokeh_is_initializing)) {\n    root._bokeh_timeout = Date.now() + 5000;\n    root._bokeh_failed_load = false;\n  }\n\n  function run_callbacks() {\n    try {\n      root._bokeh_onload_callbacks.forEach(function(callback) {\n        if (callback != null)\n          callback();\n      });\n    } finally {\n      delete root._bokeh_onload_callbacks;\n    }\n    console.debug(\"Bokeh: all callbacks have finished\");\n  }\n\n  function load_libs(css_urls, js_urls, js_modules, js_exports, callback) {\n    if (css_urls == null) css_urls = [];\n    if (js_urls == null) js_urls = [];\n    if (js_modules == null) js_modules = [];\n    if (js_exports == null) js_exports = {};\n\n    root._bokeh_onload_callbacks.push(callback);\n\n    if (root._bokeh_is_loading > 0) {\n      // Don't load bokeh if it is still initializing\n      console.debug(\"Bokeh: BokehJS is being loaded, scheduling callback at\", now());\n      return null;\n    } else if (js_urls.length === 0 && js_modules.length === 0 && Object.keys(js_exports).length === 0) {\n      // There is nothing to load\n      run_callbacks();\n      return null;\n    }\n\n    function on_load() {\n      root._bokeh_is_loading--;\n      if (root._bokeh_is_loading === 0) {\n        console.debug(\"Bokeh: all BokehJS libraries/stylesheets loaded\");\n        run_callbacks()\n      }\n    }\n    window._bokeh_on_load = on_load\n\n    function on_error(e) {\n      const src_el = e.srcElement\n      console.error(\"failed to load \" + (src_el.href || src_el.src));\n    }\n\n    const skip = [];\n    if (window.requirejs) {\n      window.requirejs.config({'packages': {}, 'paths': {}, 'shim': {}});\n      root._bokeh_is_loading = css_urls.length + 0;\n    } else {\n      root._bokeh_is_loading = css_urls.length + js_urls.length + js_modules.length + Object.keys(js_exports).length;\n    }\n\n    const existing_stylesheets = []\n    const links = document.getElementsByTagName('link')\n    for (let i = 0; i < links.length; i++) {\n      const link = links[i]\n      if (link.href != null) {\n        existing_stylesheets.push(link.href)\n      }\n    }\n    for (let i = 0; i < css_urls.length; i++) {\n      const url = css_urls[i];\n      const escaped = encodeURI(url)\n      if (existing_stylesheets.indexOf(escaped) !== -1) {\n        on_load()\n        continue;\n      }\n      const element = document.createElement(\"link\");\n      element.onload = on_load;\n      element.onerror = on_error;\n      element.rel = \"stylesheet\";\n      element.type = \"text/css\";\n      element.href = url;\n      console.debug(\"Bokeh: injecting link tag for BokehJS stylesheet: \", url);\n      document.body.appendChild(element);\n    }    var existing_scripts = []\n    const scripts = document.getElementsByTagName('script')\n    for (let i = 0; i < scripts.length; i++) {\n      var script = scripts[i]\n      if (script.src != null) {\n        existing_scripts.push(script.src)\n      }\n    }\n    for (let i = 0; i < js_urls.length; i++) {\n      const url = js_urls[i];\n      const escaped = encodeURI(url)\n      if (skip.indexOf(escaped) !== -1 || existing_scripts.indexOf(escaped) !== -1) {\n        if (!window.requirejs) {\n          on_load();\n        }\n        continue;\n      }\n      const element = document.createElement('script');\n      element.onload = on_load;\n      element.onerror = on_error;\n      element.async = false;\n      element.src = url;\n      console.debug(\"Bokeh: injecting script tag for BokehJS library: \", url);\n      document.head.appendChild(element);\n    }\n    for (let i = 0; i < js_modules.length; i++) {\n      const url = js_modules[i];\n      const escaped = encodeURI(url)\n      if (skip.indexOf(escaped) !== -1 || existing_scripts.indexOf(escaped) !== -1) {\n        if (!window.requirejs) {\n          on_load();\n        }\n        continue;\n      }\n      var element = document.createElement('script');\n      element.onload = on_load;\n      element.onerror = on_error;\n      element.async = false;\n      element.src = url;\n      element.type = \"module\";\n      console.debug(\"Bokeh: injecting script tag for BokehJS library: \", url);\n      document.head.appendChild(element);\n    }\n    for (const name in js_exports) {\n      const url = js_exports[name];\n      const escaped = encodeURI(url)\n      if (skip.indexOf(escaped) >= 0 || root[name] != null) {\n        if (!window.requirejs) {\n          on_load();\n        }\n        continue;\n      }\n      var element = document.createElement('script');\n      element.onerror = on_error;\n      element.async = false;\n      element.type = \"module\";\n      console.debug(\"Bokeh: injecting script tag for BokehJS library: \", url);\n      element.textContent = `\n      import ${name} from \"${url}\"\n      window.${name} = ${name}\n      window._bokeh_on_load()\n      `\n      document.head.appendChild(element);\n    }\n    if (!js_urls.length && !js_modules.length) {\n      on_load()\n    }\n  };\n\n  function inject_raw_css(css) {\n    const element = document.createElement(\"style\");\n    element.appendChild(document.createTextNode(css));\n    document.body.appendChild(element);\n  }\n\n  const js_urls = [\"https://cdn.holoviz.org/panel/1.5.3/dist/bundled/reactiveesm/es-module-shims@^1.10.0/dist/es-module-shims.min.js\", \"https://cdn.bokeh.org/bokeh/release/bokeh-3.5.2.min.js\", \"https://cdn.bokeh.org/bokeh/release/bokeh-gl-3.5.2.min.js\", \"https://cdn.bokeh.org/bokeh/release/bokeh-widgets-3.5.2.min.js\", \"https://cdn.bokeh.org/bokeh/release/bokeh-tables-3.5.2.min.js\", \"https://cdn.holoviz.org/panel/1.5.3/dist/panel.min.js\"];\n  const js_modules = [];\n  const js_exports = {};\n  const css_urls = [];\n  const inline_js = [    function(Bokeh) {\n      Bokeh.set_log_level(\"info\");\n    },\nfunction(Bokeh) {} // ensure no trailing comma for IE\n  ];\n\n  function run_inline_js() {\n    if ((root.Bokeh !== undefined) || (force === true)) {\n      for (let i = 0; i < inline_js.length; i++) {\n        try {\n          inline_js[i].call(root, root.Bokeh);\n        } catch(e) {\n          if (!reloading) {\n            throw e;\n          }\n        }\n      }\n      // Cache old bokeh versions\n      if (Bokeh != undefined && !reloading) {\n        var NewBokeh = root.Bokeh;\n        if (Bokeh.versions === undefined) {\n          Bokeh.versions = new Map();\n        }\n        if (NewBokeh.version !== Bokeh.version) {\n          Bokeh.versions.set(NewBokeh.version, NewBokeh)\n        }\n        root.Bokeh = Bokeh;\n      }\n    } else if (Date.now() < root._bokeh_timeout) {\n      setTimeout(run_inline_js, 100);\n    } else if (!root._bokeh_failed_load) {\n      console.log(\"Bokeh: BokehJS failed to load within specified timeout.\");\n      root._bokeh_failed_load = true;\n    }\n    root._bokeh_is_initializing = false\n  }\n\n  function load_or_wait() {\n    // Implement a backoff loop that tries to ensure we do not load multiple\n    // versions of Bokeh and its dependencies at the same time.\n    // In recent versions we use the root._bokeh_is_initializing flag\n    // to determine whether there is an ongoing attempt to initialize\n    // bokeh, however for backward compatibility we also try to ensure\n    // that we do not start loading a newer (Panel>=1.0 and Bokeh>3) version\n    // before older versions are fully initialized.\n    if (root._bokeh_is_initializing && Date.now() > root._bokeh_timeout) {\n      // If the timeout and bokeh was not successfully loaded we reset\n      // everything and try loading again\n      root._bokeh_timeout = Date.now() + 5000;\n      root._bokeh_is_initializing = false;\n      root._bokeh_onload_callbacks = undefined;\n      root._bokeh_is_loading = 0\n      console.log(\"Bokeh: BokehJS was loaded multiple times but one version failed to initialize.\");\n      load_or_wait();\n    } else if (root._bokeh_is_initializing || (typeof root._bokeh_is_initializing === \"undefined\" && root._bokeh_onload_callbacks !== undefined)) {\n      setTimeout(load_or_wait, 100);\n    } else {\n      root._bokeh_is_initializing = true\n      root._bokeh_onload_callbacks = []\n      const bokeh_loaded = root.Bokeh != null && (root.Bokeh.version === py_version || (root.Bokeh.versions !== undefined && root.Bokeh.versions.has(py_version)));\n      if (!reloading && !bokeh_loaded) {\n        if (root.Bokeh) {\n          root.Bokeh = undefined;\n        }\n        console.debug(\"Bokeh: BokehJS not loaded, scheduling load and callback at\", now());\n      }\n      load_libs(css_urls, js_urls, js_modules, js_exports, function() {\n        console.debug(\"Bokeh: BokehJS plotting callback run at\", now());\n        run_inline_js();\n      });\n    }\n  }\n  // Give older versions of the autoload script a head-start to ensure\n  // they initialize before we start loading newer version.\n  setTimeout(load_or_wait, 100)\n}(window));",
      "application/vnd.holoviews_load.v0+json": ""
     },
     "metadata": {},
     "output_type": "display_data"
    },
    {
     "data": {
      "application/javascript": "\nif ((window.PyViz === undefined) || (window.PyViz instanceof HTMLElement)) {\n  window.PyViz = {comms: {}, comm_status:{}, kernels:{}, receivers: {}, plot_index: []}\n}\n\n\n    function JupyterCommManager() {\n    }\n\n    JupyterCommManager.prototype.register_target = function(plot_id, comm_id, msg_handler) {\n      if (window.comm_manager || ((window.Jupyter !== undefined) && (Jupyter.notebook.kernel != null))) {\n        var comm_manager = window.comm_manager || Jupyter.notebook.kernel.comm_manager;\n        comm_manager.register_target(comm_id, function(comm) {\n          comm.on_msg(msg_handler);\n        });\n      } else if ((plot_id in window.PyViz.kernels) && (window.PyViz.kernels[plot_id])) {\n        window.PyViz.kernels[plot_id].registerCommTarget(comm_id, function(comm) {\n          comm.onMsg = msg_handler;\n        });\n      } else if (typeof google != 'undefined' && google.colab.kernel != null) {\n        google.colab.kernel.comms.registerTarget(comm_id, (comm) => {\n          var messages = comm.messages[Symbol.asyncIterator]();\n          function processIteratorResult(result) {\n            var message = result.value;\n            console.log(message)\n            var content = {data: message.data, comm_id};\n            var buffers = []\n            for (var buffer of message.buffers || []) {\n              buffers.push(new DataView(buffer))\n            }\n            var metadata = message.metadata || {};\n            var msg = {content, buffers, metadata}\n            msg_handler(msg);\n            return messages.next().then(processIteratorResult);\n          }\n          return messages.next().then(processIteratorResult);\n        })\n      }\n    }\n\n    JupyterCommManager.prototype.get_client_comm = function(plot_id, comm_id, msg_handler) {\n      if (comm_id in window.PyViz.comms) {\n        return window.PyViz.comms[comm_id];\n      } else if (window.comm_manager || ((window.Jupyter !== undefined) && (Jupyter.notebook.kernel != null))) {\n        var comm_manager = window.comm_manager || Jupyter.notebook.kernel.comm_manager;\n        var comm = comm_manager.new_comm(comm_id, {}, {}, {}, comm_id);\n        if (msg_handler) {\n          comm.on_msg(msg_handler);\n        }\n      } else if ((plot_id in window.PyViz.kernels) && (window.PyViz.kernels[plot_id])) {\n        var comm = window.PyViz.kernels[plot_id].connectToComm(comm_id);\n        comm.open();\n        if (msg_handler) {\n          comm.onMsg = msg_handler;\n        }\n      } else if (typeof google != 'undefined' && google.colab.kernel != null) {\n        var comm_promise = google.colab.kernel.comms.open(comm_id)\n        comm_promise.then((comm) => {\n          window.PyViz.comms[comm_id] = comm;\n          if (msg_handler) {\n            var messages = comm.messages[Symbol.asyncIterator]();\n            function processIteratorResult(result) {\n              var message = result.value;\n              var content = {data: message.data};\n              var metadata = message.metadata || {comm_id};\n              var msg = {content, metadata}\n              msg_handler(msg);\n              return messages.next().then(processIteratorResult);\n            }\n            return messages.next().then(processIteratorResult);\n          }\n        }) \n        var sendClosure = (data, metadata, buffers, disposeOnDone) => {\n          return comm_promise.then((comm) => {\n            comm.send(data, metadata, buffers, disposeOnDone);\n          });\n        };\n        var comm = {\n          send: sendClosure\n        };\n      }\n      window.PyViz.comms[comm_id] = comm;\n      return comm;\n    }\n    window.PyViz.comm_manager = new JupyterCommManager();\n    \n\n\nvar JS_MIME_TYPE = 'application/javascript';\nvar HTML_MIME_TYPE = 'text/html';\nvar EXEC_MIME_TYPE = 'application/vnd.holoviews_exec.v0+json';\nvar CLASS_NAME = 'output';\n\n/**\n * Render data to the DOM node\n */\nfunction render(props, node) {\n  var div = document.createElement(\"div\");\n  var script = document.createElement(\"script\");\n  node.appendChild(div);\n  node.appendChild(script);\n}\n\n/**\n * Handle when a new output is added\n */\nfunction handle_add_output(event, handle) {\n  var output_area = handle.output_area;\n  var output = handle.output;\n  if ((output.data == undefined) || (!output.data.hasOwnProperty(EXEC_MIME_TYPE))) {\n    return\n  }\n  var id = output.metadata[EXEC_MIME_TYPE][\"id\"];\n  var toinsert = output_area.element.find(\".\" + CLASS_NAME.split(' ')[0]);\n  if (id !== undefined) {\n    var nchildren = toinsert.length;\n    var html_node = toinsert[nchildren-1].children[0];\n    html_node.innerHTML = output.data[HTML_MIME_TYPE];\n    var scripts = [];\n    var nodelist = html_node.querySelectorAll(\"script\");\n    for (var i in nodelist) {\n      if (nodelist.hasOwnProperty(i)) {\n        scripts.push(nodelist[i])\n      }\n    }\n\n    scripts.forEach( function (oldScript) {\n      var newScript = document.createElement(\"script\");\n      var attrs = [];\n      var nodemap = oldScript.attributes;\n      for (var j in nodemap) {\n        if (nodemap.hasOwnProperty(j)) {\n          attrs.push(nodemap[j])\n        }\n      }\n      attrs.forEach(function(attr) { newScript.setAttribute(attr.name, attr.value) });\n      newScript.appendChild(document.createTextNode(oldScript.innerHTML));\n      oldScript.parentNode.replaceChild(newScript, oldScript);\n    });\n    if (JS_MIME_TYPE in output.data) {\n      toinsert[nchildren-1].children[1].textContent = output.data[JS_MIME_TYPE];\n    }\n    output_area._hv_plot_id = id;\n    if ((window.Bokeh !== undefined) && (id in Bokeh.index)) {\n      window.PyViz.plot_index[id] = Bokeh.index[id];\n    } else {\n      window.PyViz.plot_index[id] = null;\n    }\n  } else if (output.metadata[EXEC_MIME_TYPE][\"server_id\"] !== undefined) {\n    var bk_div = document.createElement(\"div\");\n    bk_div.innerHTML = output.data[HTML_MIME_TYPE];\n    var script_attrs = bk_div.children[0].attributes;\n    for (var i = 0; i < script_attrs.length; i++) {\n      toinsert[toinsert.length - 1].childNodes[1].setAttribute(script_attrs[i].name, script_attrs[i].value);\n    }\n    // store reference to server id on output_area\n    output_area._bokeh_server_id = output.metadata[EXEC_MIME_TYPE][\"server_id\"];\n  }\n}\n\n/**\n * Handle when an output is cleared or removed\n */\nfunction handle_clear_output(event, handle) {\n  var id = handle.cell.output_area._hv_plot_id;\n  var server_id = handle.cell.output_area._bokeh_server_id;\n  if (((id === undefined) || !(id in PyViz.plot_index)) && (server_id !== undefined)) { return; }\n  var comm = window.PyViz.comm_manager.get_client_comm(\"hv-extension-comm\", \"hv-extension-comm\", function () {});\n  if (server_id !== null) {\n    comm.send({event_type: 'server_delete', 'id': server_id});\n    return;\n  } else if (comm !== null) {\n    comm.send({event_type: 'delete', 'id': id});\n  }\n  delete PyViz.plot_index[id];\n  if ((window.Bokeh !== undefined) & (id in window.Bokeh.index)) {\n    var doc = window.Bokeh.index[id].model.document\n    doc.clear();\n    const i = window.Bokeh.documents.indexOf(doc);\n    if (i > -1) {\n      window.Bokeh.documents.splice(i, 1);\n    }\n  }\n}\n\n/**\n * Handle kernel restart event\n */\nfunction handle_kernel_cleanup(event, handle) {\n  delete PyViz.comms[\"hv-extension-comm\"];\n  window.PyViz.plot_index = {}\n}\n\n/**\n * Handle update_display_data messages\n */\nfunction handle_update_output(event, handle) {\n  handle_clear_output(event, {cell: {output_area: handle.output_area}})\n  handle_add_output(event, handle)\n}\n\nfunction register_renderer(events, OutputArea) {\n  function append_mime(data, metadata, element) {\n    // create a DOM node to render to\n    var toinsert = this.create_output_subarea(\n    metadata,\n    CLASS_NAME,\n    EXEC_MIME_TYPE\n    );\n    this.keyboard_manager.register_events(toinsert);\n    // Render to node\n    var props = {data: data, metadata: metadata[EXEC_MIME_TYPE]};\n    render(props, toinsert[0]);\n    element.append(toinsert);\n    return toinsert\n  }\n\n  events.on('output_added.OutputArea', handle_add_output);\n  events.on('output_updated.OutputArea', handle_update_output);\n  events.on('clear_output.CodeCell', handle_clear_output);\n  events.on('delete.Cell', handle_clear_output);\n  events.on('kernel_ready.Kernel', handle_kernel_cleanup);\n\n  OutputArea.prototype.register_mime_type(EXEC_MIME_TYPE, append_mime, {\n    safe: true,\n    index: 0\n  });\n}\n\nif (window.Jupyter !== undefined) {\n  try {\n    var events = require('base/js/events');\n    var OutputArea = require('notebook/js/outputarea').OutputArea;\n    if (OutputArea.prototype.mime_types().indexOf(EXEC_MIME_TYPE) == -1) {\n      register_renderer(events, OutputArea);\n    }\n  } catch(err) {\n  }\n}\n",
      "application/vnd.holoviews_load.v0+json": ""
     },
     "metadata": {},
     "output_type": "display_data"
    },
    {
     "data": {
      "application/vnd.holoviews_exec.v0+json": "",
      "text/html": [
       "<div id='4c08c4be-7f7d-4a3a-a778-ea561d65c747'>\n",
       "  <div id=\"fa6b14bb-9e4a-4eca-87fc-b4294b6738f6\" data-root-id=\"4c08c4be-7f7d-4a3a-a778-ea561d65c747\" style=\"display: contents;\"></div>\n",
       "</div>\n",
       "<script type=\"application/javascript\">(function(root) {\n",
       "  var docs_json = {\"2e6d37fe-3bca-4718-8692-edebc1bc4bf7\":{\"version\":\"3.5.2\",\"title\":\"Bokeh Application\",\"roots\":[{\"type\":\"object\",\"name\":\"panel.models.browser.BrowserInfo\",\"id\":\"4c08c4be-7f7d-4a3a-a778-ea561d65c747\"},{\"type\":\"object\",\"name\":\"panel.models.comm_manager.CommManager\",\"id\":\"7098685b-e88e-44ec-b3b1-f2df5a7e1054\",\"attributes\":{\"plot_id\":\"4c08c4be-7f7d-4a3a-a778-ea561d65c747\",\"comm_id\":\"2f3d379e06a747c6873cfea05b2f49b2\",\"client_comm_id\":\"c8cff42465a646e2ba78559280b35374\"}}],\"defs\":[{\"type\":\"model\",\"name\":\"ReactiveHTML1\"},{\"type\":\"model\",\"name\":\"FlexBox1\",\"properties\":[{\"name\":\"align_content\",\"kind\":\"Any\",\"default\":\"flex-start\"},{\"name\":\"align_items\",\"kind\":\"Any\",\"default\":\"flex-start\"},{\"name\":\"flex_direction\",\"kind\":\"Any\",\"default\":\"row\"},{\"name\":\"flex_wrap\",\"kind\":\"Any\",\"default\":\"wrap\"},{\"name\":\"gap\",\"kind\":\"Any\",\"default\":\"\"},{\"name\":\"justify_content\",\"kind\":\"Any\",\"default\":\"flex-start\"}]},{\"type\":\"model\",\"name\":\"FloatPanel1\",\"properties\":[{\"name\":\"config\",\"kind\":\"Any\",\"default\":{\"type\":\"map\"}},{\"name\":\"contained\",\"kind\":\"Any\",\"default\":true},{\"name\":\"position\",\"kind\":\"Any\",\"default\":\"right-top\"},{\"name\":\"offsetx\",\"kind\":\"Any\",\"default\":null},{\"name\":\"offsety\",\"kind\":\"Any\",\"default\":null},{\"name\":\"theme\",\"kind\":\"Any\",\"default\":\"primary\"},{\"name\":\"status\",\"kind\":\"Any\",\"default\":\"normalized\"}]},{\"type\":\"model\",\"name\":\"GridStack1\",\"properties\":[{\"name\":\"mode\",\"kind\":\"Any\",\"default\":\"warn\"},{\"name\":\"ncols\",\"kind\":\"Any\",\"default\":null},{\"name\":\"nrows\",\"kind\":\"Any\",\"default\":null},{\"name\":\"allow_resize\",\"kind\":\"Any\",\"default\":true},{\"name\":\"allow_drag\",\"kind\":\"Any\",\"default\":true},{\"name\":\"state\",\"kind\":\"Any\",\"default\":[]}]},{\"type\":\"model\",\"name\":\"drag1\",\"properties\":[{\"name\":\"slider_width\",\"kind\":\"Any\",\"default\":5},{\"name\":\"slider_color\",\"kind\":\"Any\",\"default\":\"black\"},{\"name\":\"value\",\"kind\":\"Any\",\"default\":50}]},{\"type\":\"model\",\"name\":\"click1\",\"properties\":[{\"name\":\"terminal_output\",\"kind\":\"Any\",\"default\":\"\"},{\"name\":\"debug_name\",\"kind\":\"Any\",\"default\":\"\"},{\"name\":\"clears\",\"kind\":\"Any\",\"default\":0}]},{\"type\":\"model\",\"name\":\"FastWrapper1\",\"properties\":[{\"name\":\"object\",\"kind\":\"Any\",\"default\":null},{\"name\":\"style\",\"kind\":\"Any\",\"default\":null}]},{\"type\":\"model\",\"name\":\"NotificationAreaBase1\",\"properties\":[{\"name\":\"js_events\",\"kind\":\"Any\",\"default\":{\"type\":\"map\"}},{\"name\":\"position\",\"kind\":\"Any\",\"default\":\"bottom-right\"},{\"name\":\"_clear\",\"kind\":\"Any\",\"default\":0}]},{\"type\":\"model\",\"name\":\"NotificationArea1\",\"properties\":[{\"name\":\"js_events\",\"kind\":\"Any\",\"default\":{\"type\":\"map\"}},{\"name\":\"notifications\",\"kind\":\"Any\",\"default\":[]},{\"name\":\"position\",\"kind\":\"Any\",\"default\":\"bottom-right\"},{\"name\":\"_clear\",\"kind\":\"Any\",\"default\":0},{\"name\":\"types\",\"kind\":\"Any\",\"default\":[{\"type\":\"map\",\"entries\":[[\"type\",\"warning\"],[\"background\",\"#ffc107\"],[\"icon\",{\"type\":\"map\",\"entries\":[[\"className\",\"fas fa-exclamation-triangle\"],[\"tagName\",\"i\"],[\"color\",\"white\"]]}]]},{\"type\":\"map\",\"entries\":[[\"type\",\"info\"],[\"background\",\"#007bff\"],[\"icon\",{\"type\":\"map\",\"entries\":[[\"className\",\"fas fa-info-circle\"],[\"tagName\",\"i\"],[\"color\",\"white\"]]}]]}]}]},{\"type\":\"model\",\"name\":\"Notification\",\"properties\":[{\"name\":\"background\",\"kind\":\"Any\",\"default\":null},{\"name\":\"duration\",\"kind\":\"Any\",\"default\":3000},{\"name\":\"icon\",\"kind\":\"Any\",\"default\":null},{\"name\":\"message\",\"kind\":\"Any\",\"default\":\"\"},{\"name\":\"notification_type\",\"kind\":\"Any\",\"default\":null},{\"name\":\"_destroyed\",\"kind\":\"Any\",\"default\":false}]},{\"type\":\"model\",\"name\":\"TemplateActions1\",\"properties\":[{\"name\":\"open_modal\",\"kind\":\"Any\",\"default\":0},{\"name\":\"close_modal\",\"kind\":\"Any\",\"default\":0}]},{\"type\":\"model\",\"name\":\"BootstrapTemplateActions1\",\"properties\":[{\"name\":\"open_modal\",\"kind\":\"Any\",\"default\":0},{\"name\":\"close_modal\",\"kind\":\"Any\",\"default\":0}]},{\"type\":\"model\",\"name\":\"TemplateEditor1\",\"properties\":[{\"name\":\"layout\",\"kind\":\"Any\",\"default\":[]}]},{\"type\":\"model\",\"name\":\"MaterialTemplateActions1\",\"properties\":[{\"name\":\"open_modal\",\"kind\":\"Any\",\"default\":0},{\"name\":\"close_modal\",\"kind\":\"Any\",\"default\":0}]},{\"type\":\"model\",\"name\":\"ReactiveESM1\"},{\"type\":\"model\",\"name\":\"JSComponent1\"},{\"type\":\"model\",\"name\":\"ReactComponent1\"},{\"type\":\"model\",\"name\":\"AnyWidgetComponent1\"},{\"type\":\"model\",\"name\":\"request_value1\",\"properties\":[{\"name\":\"fill\",\"kind\":\"Any\",\"default\":\"none\"},{\"name\":\"_synced\",\"kind\":\"Any\",\"default\":null},{\"name\":\"_request_sync\",\"kind\":\"Any\",\"default\":0}]}]}};\n",
       "  var render_items = [{\"docid\":\"2e6d37fe-3bca-4718-8692-edebc1bc4bf7\",\"roots\":{\"4c08c4be-7f7d-4a3a-a778-ea561d65c747\":\"fa6b14bb-9e4a-4eca-87fc-b4294b6738f6\"},\"root_ids\":[\"4c08c4be-7f7d-4a3a-a778-ea561d65c747\"]}];\n",
       "  var docs = Object.values(docs_json)\n",
       "  if (!docs) {\n",
       "    return\n",
       "  }\n",
       "  const py_version = docs[0].version.replace('rc', '-rc.').replace('.dev', '-dev.')\n",
       "  async function embed_document(root) {\n",
       "    var Bokeh = get_bokeh(root)\n",
       "    await Bokeh.embed.embed_items_notebook(docs_json, render_items);\n",
       "    for (const render_item of render_items) {\n",
       "      for (const root_id of render_item.root_ids) {\n",
       "\tconst id_el = document.getElementById(root_id)\n",
       "\tif (id_el.children.length && id_el.children[0].hasAttribute('data-root-id')) {\n",
       "\t  const root_el = id_el.children[0]\n",
       "\t  root_el.id = root_el.id + '-rendered'\n",
       "\t  for (const child of root_el.children) {\n",
       "            // Ensure JupyterLab does not capture keyboard shortcuts\n",
       "            // see: https://jupyterlab.readthedocs.io/en/4.1.x/extension/notebook.html#keyboard-interaction-model\n",
       "\t    child.setAttribute('data-lm-suppress-shortcuts', 'true')\n",
       "\t  }\n",
       "\t}\n",
       "      }\n",
       "    }\n",
       "  }\n",
       "  function get_bokeh(root) {\n",
       "    if (root.Bokeh === undefined) {\n",
       "      return null\n",
       "    } else if (root.Bokeh.version !== py_version) {\n",
       "      if (root.Bokeh.versions === undefined || !root.Bokeh.versions.has(py_version)) {\n",
       "\treturn null\n",
       "      }\n",
       "      return root.Bokeh.versions.get(py_version);\n",
       "    } else if (root.Bokeh.version === py_version) {\n",
       "      return root.Bokeh\n",
       "    }\n",
       "    return null\n",
       "  }\n",
       "  function is_loaded(root) {\n",
       "    var Bokeh = get_bokeh(root)\n",
       "    return (Bokeh != null && Bokeh.Panel !== undefined)\n",
       "  }\n",
       "  if (is_loaded(root)) {\n",
       "    embed_document(root);\n",
       "  } else {\n",
       "    var attempts = 0;\n",
       "    var timer = setInterval(function(root) {\n",
       "      if (is_loaded(root)) {\n",
       "        clearInterval(timer);\n",
       "        embed_document(root);\n",
       "      } else if (document.readyState == \"complete\") {\n",
       "        attempts++;\n",
       "        if (attempts > 200) {\n",
       "          clearInterval(timer);\n",
       "\t  var Bokeh = get_bokeh(root)\n",
       "\t  if (Bokeh == null || Bokeh.Panel == null) {\n",
       "            console.warn(\"Panel: ERROR: Unable to run Panel code because Bokeh or Panel library is missing\");\n",
       "\t  } else {\n",
       "\t    console.warn(\"Panel: WARNING: Attempting to render but not all required libraries could be resolved.\")\n",
       "\t    embed_document(root)\n",
       "\t  }\n",
       "        }\n",
       "      }\n",
       "    }, 25, root)\n",
       "  }\n",
       "})(window);</script>"
      ]
     },
     "metadata": {
      "application/vnd.holoviews_exec.v0+json": {
       "id": "4c08c4be-7f7d-4a3a-a778-ea561d65c747"
      }
     },
     "output_type": "display_data"
    }
   ],
   "source": [
    "# imports\n",
    "import os, threadpoolctl, psycopg2, pandas as pd, numpy as np, seaborn as sns, matplotlib.pyplot as plt, hvplot.pandas\n",
    "from dotenv import load_dotenv\n",
    "from sklearn.preprocessing import PowerTransformer, RobustScaler\n",
    "from sklearn import metrics\n",
    "from sklearn.cluster import KMeans\n",
    "from typing import List, Literal, Tuple, Union, Sequence"
   ]
  },
  {
   "cell_type": "code",
   "execution_count": 2,
   "metadata": {},
   "outputs": [
    {
     "data": {
      "text/plain": [
       "<threadpoolctl.threadpool_limits at 0x23a90f2aa20>"
      ]
     },
     "execution_count": 2,
     "metadata": {},
     "output_type": "execute_result"
    }
   ],
   "source": [
    "# stop leak message from modeling\n",
    "#os.environ.setdefault(\"OMP_NUM_THREADS\", \"1\")\n",
    "os.environ['OMP_NUM_THREADS'] = '1'\n",
    "threadpoolctl.threadpool_limits(1)"
   ]
  },
  {
   "cell_type": "code",
   "execution_count": 3,
   "metadata": {},
   "outputs": [],
   "source": [
    "# database setup\n",
    "db = 'order_mgmt'\n",
    "\n",
    "# pull credentials from .env\n",
    "load_dotenv('../.env')\n",
    "\n",
    "dsn = f'''\n",
    "dbname={db} \n",
    "user={os.getenv('super_user')} \n",
    "password={os.getenv('pg_password')} \n",
    "host={os.getenv('host')} \n",
    "port={os.getenv('port')}\n",
    "'''"
   ]
  },
  {
   "cell_type": "markdown",
   "metadata": {},
   "source": [
    "### Get data from database"
   ]
  },
  {
   "cell_type": "code",
   "execution_count": 4,
   "metadata": {},
   "outputs": [],
   "source": [
    "# connect to database to create dataframe\n",
    "with psycopg2.connect(dsn) as conn, conn.cursor() as cur:\n",
    "    # get one record per purchase\n",
    "    cur.execute(\n",
    "        '''\n",
    "        SELECT \to.order_no,\n",
    "\t\t        o.customer_id,\n",
    "                o.order_date,\n",
    "                -- SUM(ol.quantity) AS total_quantity,\n",
    "                SUM(ol.sales) AS total_sales\n",
    "        FROM orders o\n",
    "        JOIN order_lines ol USING (order_no)\n",
    "        WHERE o.status IN \n",
    "            ('Shipped', 'Resolved')\n",
    "        GROUP BY o.order_no, o.customer_id, o.order_date\n",
    "        ORDER BY o.order_no\n",
    "        '''\n",
    "    )\n",
    "\n",
    "    # fetch data\n",
    "    records = cur.fetchall()\n",
    "    fields = [field.name for field in cur.description]\n",
    "\n",
    "    # setup dataframe\n",
    "    df = pd.DataFrame(records, columns=fields)"
   ]
  },
  {
   "cell_type": "code",
   "execution_count": 5,
   "metadata": {},
   "outputs": [
    {
     "data": {
      "text/html": [
       "<div>\n",
       "<style scoped>\n",
       "    .dataframe tbody tr th:only-of-type {\n",
       "        vertical-align: middle;\n",
       "    }\n",
       "\n",
       "    .dataframe tbody tr th {\n",
       "        vertical-align: top;\n",
       "    }\n",
       "\n",
       "    .dataframe thead th {\n",
       "        text-align: right;\n",
       "    }\n",
       "</style>\n",
       "<table border=\"1\" class=\"dataframe\">\n",
       "  <thead>\n",
       "    <tr style=\"text-align: right;\">\n",
       "      <th></th>\n",
       "      <th>order_no</th>\n",
       "      <th>customer_id</th>\n",
       "      <th>order_date</th>\n",
       "      <th>total_sales</th>\n",
       "    </tr>\n",
       "  </thead>\n",
       "  <tbody>\n",
       "    <tr>\n",
       "      <th>0</th>\n",
       "      <td>10100</td>\n",
       "      <td>15</td>\n",
       "      <td>2003-01-06</td>\n",
       "      <td>12133.25</td>\n",
       "    </tr>\n",
       "    <tr>\n",
       "      <th>1</th>\n",
       "      <td>10101</td>\n",
       "      <td>51</td>\n",
       "      <td>2003-01-09</td>\n",
       "      <td>11432.34</td>\n",
       "    </tr>\n",
       "    <tr>\n",
       "      <th>2</th>\n",
       "      <td>10102</td>\n",
       "      <td>42</td>\n",
       "      <td>2003-01-10</td>\n",
       "      <td>6864.05</td>\n",
       "    </tr>\n",
       "    <tr>\n",
       "      <th>3</th>\n",
       "      <td>10103</td>\n",
       "      <td>65</td>\n",
       "      <td>2003-01-29</td>\n",
       "      <td>54702.00</td>\n",
       "    </tr>\n",
       "    <tr>\n",
       "      <th>4</th>\n",
       "      <td>10104</td>\n",
       "      <td>37</td>\n",
       "      <td>2003-01-31</td>\n",
       "      <td>44621.96</td>\n",
       "    </tr>\n",
       "  </tbody>\n",
       "</table>\n",
       "</div>"
      ],
      "text/plain": [
       "   order_no  customer_id  order_date total_sales\n",
       "0     10100           15  2003-01-06    12133.25\n",
       "1     10101           51  2003-01-09    11432.34\n",
       "2     10102           42  2003-01-10     6864.05\n",
       "3     10103           65  2003-01-29    54702.00\n",
       "4     10104           37  2003-01-31    44621.96"
      ]
     },
     "execution_count": 5,
     "metadata": {},
     "output_type": "execute_result"
    }
   ],
   "source": [
    "# display data\n",
    "df.head()"
   ]
  },
  {
   "cell_type": "markdown",
   "metadata": {},
   "source": [
    "# Preprocessing\n",
    "---"
   ]
  },
  {
   "cell_type": "markdown",
   "metadata": {},
   "source": [
    "## Update data types"
   ]
  },
  {
   "cell_type": "code",
   "execution_count": 6,
   "metadata": {},
   "outputs": [
    {
     "data": {
      "text/plain": [
       "order_no        int64\n",
       "customer_id     int64\n",
       "order_date     object\n",
       "total_sales    object\n",
       "dtype: object"
      ]
     },
     "execution_count": 6,
     "metadata": {},
     "output_type": "execute_result"
    }
   ],
   "source": [
    "# data types\n",
    "df.dtypes"
   ]
  },
  {
   "cell_type": "code",
   "execution_count": 7,
   "metadata": {},
   "outputs": [],
   "source": [
    "# update data types\n",
    "df.total_sales = pd.to_numeric(df.total_sales)\n",
    "df.order_date = pd.to_datetime(df.order_date)"
   ]
  },
  {
   "cell_type": "code",
   "execution_count": 8,
   "metadata": {},
   "outputs": [
    {
     "data": {
      "text/plain": [
       "order_no                int64\n",
       "customer_id             int64\n",
       "order_date     datetime64[ns]\n",
       "total_sales           float64\n",
       "dtype: object"
      ]
     },
     "execution_count": 8,
     "metadata": {},
     "output_type": "execute_result"
    }
   ],
   "source": [
    "# double check dtypes\n",
    "df.dtypes"
   ]
  },
  {
   "cell_type": "markdown",
   "metadata": {},
   "source": [
    "## Get RFM (Recency, Frequency, Monetary)"
   ]
  },
  {
   "cell_type": "markdown",
   "metadata": {},
   "source": [
    "For each customer:\n",
    "- Recency: number of days between \"present\" date and date of last purchase\n",
    "- Frequency: number of orders\n",
    "- Monetary: sum of purchase price"
   ]
  },
  {
   "cell_type": "code",
   "execution_count": 9,
   "metadata": {},
   "outputs": [
    {
     "data": {
      "text/html": [
       "<div>\n",
       "<style scoped>\n",
       "    .dataframe tbody tr th:only-of-type {\n",
       "        vertical-align: middle;\n",
       "    }\n",
       "\n",
       "    .dataframe tbody tr th {\n",
       "        vertical-align: top;\n",
       "    }\n",
       "\n",
       "    .dataframe thead th {\n",
       "        text-align: right;\n",
       "    }\n",
       "</style>\n",
       "<table border=\"1\" class=\"dataframe\">\n",
       "  <thead>\n",
       "    <tr style=\"text-align: right;\">\n",
       "      <th></th>\n",
       "      <th>recency</th>\n",
       "      <th>frequency</th>\n",
       "      <th>monetary</th>\n",
       "    </tr>\n",
       "    <tr>\n",
       "      <th>customer_id</th>\n",
       "      <th></th>\n",
       "      <th></th>\n",
       "      <th></th>\n",
       "    </tr>\n",
       "  </thead>\n",
       "  <tbody>\n",
       "    <tr>\n",
       "      <th>1</th>\n",
       "      <td>183</td>\n",
       "      <td>3</td>\n",
       "      <td>118711.78</td>\n",
       "    </tr>\n",
       "    <tr>\n",
       "      <th>2</th>\n",
       "      <td>213</td>\n",
       "      <td>2</td>\n",
       "      <td>100306.58</td>\n",
       "    </tr>\n",
       "    <tr>\n",
       "      <th>3</th>\n",
       "      <td>188</td>\n",
       "      <td>4</td>\n",
       "      <td>119028.73</td>\n",
       "    </tr>\n",
       "    <tr>\n",
       "      <th>4</th>\n",
       "      <td>441</td>\n",
       "      <td>3</td>\n",
       "      <td>142874.25</td>\n",
       "    </tr>\n",
       "    <tr>\n",
       "      <th>5</th>\n",
       "      <td>132</td>\n",
       "      <td>4</td>\n",
       "      <td>120783.07</td>\n",
       "    </tr>\n",
       "  </tbody>\n",
       "</table>\n",
       "</div>"
      ],
      "text/plain": [
       "             recency  frequency   monetary\n",
       "customer_id                               \n",
       "1                183          3  118711.78\n",
       "2                213          2  100306.58\n",
       "3                188          4  119028.73\n",
       "4                441          3  142874.25\n",
       "5                132          4  120783.07"
      ]
     },
     "execution_count": 9,
     "metadata": {},
     "output_type": "execute_result"
    }
   ],
   "source": [
    "# calculate recency, frequency, monetary for each customer\n",
    "recent_date = df.order_date.max()\n",
    "rfm_df = df.groupby('customer_id').agg({\n",
    "    'order_date': lambda date: (recent_date - date.max()).days,\n",
    "    'order_no': lambda orders: len(orders),\n",
    "    'total_sales': lambda sale: sale.sum()\n",
    "})\n",
    "\n",
    "# update columns\n",
    "rfm_cols = ['recency', 'frequency', 'monetary']\n",
    "rfm_df.columns = rfm_cols\n",
    "#rfm_df = rfm_df.reset_index()\n",
    "\n",
    "# display\n",
    "rfm_df.head()"
   ]
  },
  {
   "cell_type": "markdown",
   "metadata": {},
   "source": [
    "## Check outliers/distribution"
   ]
  },
  {
   "cell_type": "markdown",
   "metadata": {},
   "source": [
    "#### **Analysis:**\n",
    "Recency: mild right skew--> most customers bought at around same time \n",
    "- Outliers: 4 (upper) \n",
    "- Percentiles: 99th percentile is 1.08 times greater than 95th percentile\n",
    "- Skew: 0.769 \n",
    "- Mean > Median --> 189.05 > 181.0\n",
    "\n",
    "Frequency: heavy right skew driven by a few very active/loyal customers (good to look into outliers since they more than triple the 95th percentile)\n",
    "- Outliers: 5 (upper)  \n",
    "- Percentiles: 99th percentile is 3.74 times greater than 95th percentile\n",
    "- Skew: 6.138\n",
    "- Mean > Median: 3.15 > 3.0\n",
    "\n",
    "Monetary: heavy right skew with a few high spending customers (good to look into since they're four times the 95th percentile)\n",
    "- Outliers: 4 (upper)\n",
    "- Percentiles: 99th percentile is 4.01 times greater than 95th percentile\n",
    "- Skew: 5.393\n",
    "- Mean > Median: 102,632.82 > 85,360.0\n",
    "\n",
    "OVERALL:\n",
    "- Overall, all RFM measures are right skewed but mainly Frequency and Monetary driven by high activity/spenders; recency is only mildly skewed\n",
    "- Keep outliers as they are valid and important to understand (transforming/scaling will prevent them from dominating before modeling)"
   ]
  },
  {
   "cell_type": "markdown",
   "metadata": {},
   "source": [
    "#### Outliers"
   ]
  },
  {
   "cell_type": "code",
   "execution_count": 10,
   "metadata": {},
   "outputs": [
    {
     "data": {
      "image/png": "[encoded data removed]",
      "text/plain": [
       "<Figure size 1400x600 with 3 Axes>"
      ]
     },
     "metadata": {},
     "output_type": "display_data"
    }
   ],
   "source": [
    "# boxplots\n",
    "rfm_df.plot(kind='box', subplots=True, figsize=(14,6))\n",
    "plt.show()"
   ]
  },
  {
   "cell_type": "code",
   "execution_count": 11,
   "metadata": {},
   "outputs": [
    {
     "name": "stdout",
     "output_type": "stream",
     "text": [
      "------------------------------\n",
      "RECENCY\n",
      "\n",
      "Number of outliers: 4\n",
      "Upper: 4\n",
      "Lower: 0\n",
      "------------------------------\n",
      "------------------------------\n",
      "FREQUENCY\n",
      "\n",
      "Number of outliers: 5\n",
      "Upper: 5\n",
      "Lower: 0\n",
      "------------------------------\n",
      "------------------------------\n",
      "MONETARY\n",
      "\n",
      "Number of outliers: 4\n",
      "Upper: 4\n",
      "Lower: 0\n",
      "------------------------------\n"
     ]
    }
   ],
   "source": [
    "# number of outliers\n",
    "for rfm_col in rfm_cols:\n",
    "    # calculate iqr\n",
    "    col = rfm_df[rfm_col]\n",
    "    q1, q3 = col.quantile([.25, .75])\n",
    "    iqr = q3 - q1\n",
    "\n",
    "    # find outliers\n",
    "    lower, upper = q1 - 1.5*iqr, q3 + 1.5*iqr\n",
    "    l_outliers = (col < lower).sum()\n",
    "    u_outliers = (col > upper).sum()\n",
    "\n",
    "    # display\n",
    "    print('-'*30)\n",
    "    print(rfm_col.upper())\n",
    "    print(f'\\nNumber of outliers: {l_outliers + u_outliers}')\n",
    "    print(f'Upper: {u_outliers}')\n",
    "    print(f'Lower: {l_outliers}')\n",
    "    print('-'*30)"
   ]
  },
  {
   "cell_type": "markdown",
   "metadata": {},
   "source": [
    "### Distribution"
   ]
  },
  {
   "cell_type": "code",
   "execution_count": 12,
   "metadata": {},
   "outputs": [
    {
     "data": {
      "text/html": [
       "<div>\n",
       "<style scoped>\n",
       "    .dataframe tbody tr th:only-of-type {\n",
       "        vertical-align: middle;\n",
       "    }\n",
       "\n",
       "    .dataframe tbody tr th {\n",
       "        vertical-align: top;\n",
       "    }\n",
       "\n",
       "    .dataframe thead th {\n",
       "        text-align: right;\n",
       "    }\n",
       "</style>\n",
       "<table border=\"1\" class=\"dataframe\">\n",
       "  <thead>\n",
       "    <tr style=\"text-align: right;\">\n",
       "      <th></th>\n",
       "      <th>recency</th>\n",
       "      <th>frequency</th>\n",
       "      <th>monetary</th>\n",
       "    </tr>\n",
       "  </thead>\n",
       "  <tbody>\n",
       "    <tr>\n",
       "      <th>0.25</th>\n",
       "      <td>101.75</td>\n",
       "      <td>2.00</td>\n",
       "      <td>66129.0075</td>\n",
       "    </tr>\n",
       "    <tr>\n",
       "      <th>0.50</th>\n",
       "      <td>181.00</td>\n",
       "      <td>3.00</td>\n",
       "      <td>85360.0000</td>\n",
       "    </tr>\n",
       "    <tr>\n",
       "      <th>0.75</th>\n",
       "      <td>243.25</td>\n",
       "      <td>3.00</td>\n",
       "      <td>115616.8825</td>\n",
       "    </tr>\n",
       "    <tr>\n",
       "      <th>0.90</th>\n",
       "      <td>385.20</td>\n",
       "      <td>4.00</td>\n",
       "      <td>142846.9580</td>\n",
       "    </tr>\n",
       "    <tr>\n",
       "      <th>0.95</th>\n",
       "      <td>448.25</td>\n",
       "      <td>4.45</td>\n",
       "      <td>164639.6515</td>\n",
       "    </tr>\n",
       "    <tr>\n",
       "      <th>0.99</th>\n",
       "      <td>482.17</td>\n",
       "      <td>16.63</td>\n",
       "      <td>660892.1819</td>\n",
       "    </tr>\n",
       "  </tbody>\n",
       "</table>\n",
       "</div>"
      ],
      "text/plain": [
       "      recency  frequency     monetary\n",
       "0.25   101.75       2.00   66129.0075\n",
       "0.50   181.00       3.00   85360.0000\n",
       "0.75   243.25       3.00  115616.8825\n",
       "0.90   385.20       4.00  142846.9580\n",
       "0.95   448.25       4.45  164639.6515\n",
       "0.99   482.17      16.63  660892.1819"
      ]
     },
     "metadata": {},
     "output_type": "display_data"
    },
    {
     "name": "stdout",
     "output_type": "stream",
     "text": [
      "RECENCY\n",
      "top 1: 482.1700000000001\n",
      "top 5: 448.25\n",
      "99th percentile is 1.08 times greater than 95th percentile\n",
      "------------------------------\n",
      "FREQUENCY\n",
      "top 1: 16.630000000000024\n",
      "top 5: 4.450000000000003\n",
      "99th percentile is 3.74 times greater than 95th percentile\n",
      "------------------------------\n",
      "MONETARY\n",
      "top 1: 660892.1819000005\n",
      "top 5: 164639.65150000007\n",
      "99th percentile is 4.01 times greater than 95th percentile\n",
      "------------------------------\n"
     ]
    }
   ],
   "source": [
    "# compare percentiles (mainly 95% and 99%)\n",
    "percentiles = rfm_df.quantile([.25,.5,.75,.9,.95,.99])\n",
    "display(percentiles)\n",
    "\n",
    "for col in rfm_cols:\n",
    "\n",
    "    # calculate top 1% and top 5%\n",
    "    top_1 = percentiles.loc[0.99, col]\n",
    "    top_5 = percentiles.loc[0.95, col]\n",
    "\n",
    "    # display\n",
    "    print(col.upper())\n",
    "    print(f'top 1: {top_1}')\n",
    "    print(f'top 5: {top_5}')\n",
    "    print(f'99th percentile is {round(top_1/top_5,2)} times greater than 95th percentile')\n",
    "    print('-'*30)"
   ]
  },
  {
   "cell_type": "code",
   "execution_count": 13,
   "metadata": {},
   "outputs": [
    {
     "data": {
      "image/png": "[encoded data removed]",
      "text/plain": [
       "<Figure size 1400x600 with 4 Axes>"
      ]
     },
     "metadata": {},
     "output_type": "display_data"
    }
   ],
   "source": [
    "# histograms\n",
    "rfm_df[rfm_cols].hist(bins=20, figsize=(14,6))\n",
    "plt.show()"
   ]
  },
  {
   "cell_type": "code",
   "execution_count": 14,
   "metadata": {},
   "outputs": [
    {
     "name": "stdout",
     "output_type": "stream",
     "text": [
      "RECENCY\n",
      "Skewness: 0.7692197491282079\n",
      "\n",
      "Mean: 189.05434782608697\n",
      "Median: 181.0\n",
      "------------------------------\n",
      "FREQUENCY\n",
      "Skewness: 6.138049494790223\n",
      "\n",
      "Mean: 3.152173913043478\n",
      "Median: 3.0\n",
      "------------------------------\n",
      "MONETARY\n",
      "Skewness: 5.392615515812862\n",
      "\n",
      "Mean: 102632.8191304348\n",
      "Median: 85360.0\n",
      "------------------------------\n"
     ]
    }
   ],
   "source": [
    "# find skewness and compare mean with median (mean > median --> right skew)\n",
    "for col in rfm_cols:\n",
    "    print(col.upper())\n",
    "    print(f'Skewness: {rfm_df[col].skew()}')\n",
    "    print(f'\\nMean: {rfm_df[col].mean()}')\n",
    "    print(f'Median: {rfm_df[col].median()}')\n",
    "    print('-'*30)"
   ]
  },
  {
   "cell_type": "markdown",
   "metadata": {},
   "source": [
    "## Check correlation"
   ]
  },
  {
   "cell_type": "markdown",
   "metadata": {},
   "source": [
    "**Analysis:** \n",
    "- <ins>Frequency & Monetary</ins> (r = 0.95) --> strong relationship where more frequent buyers spend more & vise versa\n",
    "- <ins>Frequency & Recency</ins> (r = -0.35) --> mild relationship where more frequent a buyer, the more recent their last purchase & vise versa\n",
    "- <ins>Monetary and Recency</ins> (r = -0.31) --> mild relationship where higher spending customers have purchased more recently and vise versa\n",
    "\n",
    "Overall:\n",
    "- There is multicollinearity--> recency gives independent information while frequency and monetary have high multicollinearity"
   ]
  },
  {
   "cell_type": "code",
   "execution_count": 15,
   "metadata": {},
   "outputs": [
    {
     "data": {
      "text/html": [
       "<div>\n",
       "<style scoped>\n",
       "    .dataframe tbody tr th:only-of-type {\n",
       "        vertical-align: middle;\n",
       "    }\n",
       "\n",
       "    .dataframe tbody tr th {\n",
       "        vertical-align: top;\n",
       "    }\n",
       "\n",
       "    .dataframe thead th {\n",
       "        text-align: right;\n",
       "    }\n",
       "</style>\n",
       "<table border=\"1\" class=\"dataframe\">\n",
       "  <thead>\n",
       "    <tr style=\"text-align: right;\">\n",
       "      <th></th>\n",
       "      <th>recency</th>\n",
       "      <th>frequency</th>\n",
       "      <th>monetary</th>\n",
       "    </tr>\n",
       "  </thead>\n",
       "  <tbody>\n",
       "    <tr>\n",
       "      <th>recency</th>\n",
       "      <td>1.000000</td>\n",
       "      <td>-0.347882</td>\n",
       "      <td>-0.309187</td>\n",
       "    </tr>\n",
       "    <tr>\n",
       "      <th>frequency</th>\n",
       "      <td>-0.347882</td>\n",
       "      <td>1.000000</td>\n",
       "      <td>0.953394</td>\n",
       "    </tr>\n",
       "    <tr>\n",
       "      <th>monetary</th>\n",
       "      <td>-0.309187</td>\n",
       "      <td>0.953394</td>\n",
       "      <td>1.000000</td>\n",
       "    </tr>\n",
       "  </tbody>\n",
       "</table>\n",
       "</div>"
      ],
      "text/plain": [
       "            recency  frequency  monetary\n",
       "recency    1.000000  -0.347882 -0.309187\n",
       "frequency -0.347882   1.000000  0.953394\n",
       "monetary  -0.309187   0.953394  1.000000"
      ]
     },
     "execution_count": 15,
     "metadata": {},
     "output_type": "execute_result"
    }
   ],
   "source": [
    "# check correlation matrix\n",
    "rfm_df.corr()"
   ]
  },
  {
   "cell_type": "markdown",
   "metadata": {},
   "source": [
    "## Transforming & Scaling"
   ]
  },
  {
   "cell_type": "markdown",
   "metadata": {},
   "source": [
    "### Transforming frequency & monetary"
   ]
  },
  {
   "cell_type": "code",
   "execution_count": 16,
   "metadata": {},
   "outputs": [],
   "source": [
    "# function: get quick distribution view\n",
    "def check_distribution(col, b_vs_a='before'):\n",
    "    # before or after display\n",
    "    if b_vs_a.upper() == 'BEFORE':\n",
    "        print('before transformation...')\n",
    "    else:\n",
    "        print('after transformation...')\n",
    "    \n",
    "    # check skewness\n",
    "    print(f'\\nSkewness: {col.skew()}')\n",
    "\n",
    "    # display histogram\n",
    "    col.hist(bins=20)\n",
    "    plt.show()"
   ]
  },
  {
   "cell_type": "code",
   "execution_count": 17,
   "metadata": {},
   "outputs": [
    {
     "name": "stdout",
     "output_type": "stream",
     "text": [
      "------------------------------FREQUENCY------------------------------\n",
      "before transformation...\n",
      "\n",
      "Skewness: 6.138049494790223\n"
     ]
    },
    {
     "data": {
      "image/png": "[encoded data removed]",
      "text/plain": [
       "<Figure size 640x480 with 1 Axes>"
      ]
     },
     "metadata": {},
     "output_type": "display_data"
    },
    {
     "name": "stdout",
     "output_type": "stream",
     "text": [
      "after transformation...\n",
      "\n",
      "Skewness: -0.2567243779940801\n"
     ]
    },
    {
     "data": {
      "image/png": "[encoded data removed]",
      "text/plain": [
       "<Figure size 640x480 with 1 Axes>"
      ]
     },
     "metadata": {},
     "output_type": "display_data"
    },
    {
     "name": "stdout",
     "output_type": "stream",
     "text": [
      "------------------------------MONETARY------------------------------\n",
      "before transformation...\n",
      "\n",
      "Skewness: 5.392615515812862\n"
     ]
    },
    {
     "data": {
      "image/png": "[encoded data removed]",
      "text/plain": [
       "<Figure size 640x480 with 1 Axes>"
      ]
     },
     "metadata": {},
     "output_type": "display_data"
    },
    {
     "name": "stdout",
     "output_type": "stream",
     "text": [
      "after transformation...\n",
      "\n",
      "Skewness: 0.18604987274083093\n"
     ]
    },
    {
     "data": {
      "image/png": "[encoded data removed]",
      "text/plain": [
       "<Figure size 640x480 with 1 Axes>"
      ]
     },
     "metadata": {},
     "output_type": "display_data"
    }
   ],
   "source": [
    "# set up new df\n",
    "transformed_rfm_df = rfm_df.copy()\n",
    "\n",
    "# transform columns accordingly\n",
    "transformed_rfm_df['monetary'] = np.log1p(transformed_rfm_df['monetary'])\n",
    "pt_frequency = PowerTransformer(method='box-cox', standardize=False)\n",
    "transformed_rfm_df['frequency'] = pt_frequency.fit_transform(transformed_rfm_df[['frequency']])\n",
    "\n",
    "# check og distributions vs new\n",
    "for col_name in ['frequency', 'monetary']:\n",
    "    print('-'*30 + col_name.upper() + '-'*30)\n",
    "    check_distribution(rfm_df[col_name], b_vs_a='before')\n",
    "    check_distribution(transformed_rfm_df[col_name], b_vs_a='after')"
   ]
  },
  {
   "cell_type": "markdown",
   "metadata": {},
   "source": [
    "### Scale Data"
   ]
  },
  {
   "cell_type": "markdown",
   "metadata": {},
   "source": [
    "Using RobustScaler, because it has low outlier sensitivity (ignores tails beyond IQR)"
   ]
  },
  {
   "cell_type": "code",
   "execution_count": 18,
   "metadata": {},
   "outputs": [
    {
     "data": {
      "image/png": "[encoded data removed]",
      "text/plain": [
       "<Figure size 1400x600 with 3 Axes>"
      ]
     },
     "metadata": {},
     "output_type": "display_data"
    }
   ],
   "source": [
    "# quick outliers check\n",
    "transformed_rfm_df.plot(kind='box', subplots=True, figsize=(14,6))\n",
    "plt.show()"
   ]
  },
  {
   "cell_type": "code",
   "execution_count": 19,
   "metadata": {},
   "outputs": [],
   "source": [
    "# normalize data\n",
    "scaler = RobustScaler()\n",
    "scaled_rfm = scaler.fit_transform(transformed_rfm_df)"
   ]
  },
  {
   "cell_type": "code",
   "execution_count": 20,
   "metadata": {},
   "outputs": [
    {
     "data": {
      "text/html": [
       "<div>\n",
       "<style scoped>\n",
       "    .dataframe tbody tr th:only-of-type {\n",
       "        vertical-align: middle;\n",
       "    }\n",
       "\n",
       "    .dataframe tbody tr th {\n",
       "        vertical-align: top;\n",
       "    }\n",
       "\n",
       "    .dataframe thead th {\n",
       "        text-align: right;\n",
       "    }\n",
       "</style>\n",
       "<table border=\"1\" class=\"dataframe\">\n",
       "  <thead>\n",
       "    <tr style=\"text-align: right;\">\n",
       "      <th></th>\n",
       "      <th>recency</th>\n",
       "      <th>frequency</th>\n",
       "      <th>monetary</th>\n",
       "    </tr>\n",
       "    <tr>\n",
       "      <th>customer_id</th>\n",
       "      <th></th>\n",
       "      <th></th>\n",
       "      <th></th>\n",
       "    </tr>\n",
       "  </thead>\n",
       "  <tbody>\n",
       "    <tr>\n",
       "      <th>1</th>\n",
       "      <td>0.014134</td>\n",
       "      <td>0.000000</td>\n",
       "      <td>0.590302</td>\n",
       "    </tr>\n",
       "    <tr>\n",
       "      <th>2</th>\n",
       "      <td>0.226148</td>\n",
       "      <td>-1.000000</td>\n",
       "      <td>0.288787</td>\n",
       "    </tr>\n",
       "    <tr>\n",
       "      <th>3</th>\n",
       "      <td>0.049470</td>\n",
       "      <td>0.548011</td>\n",
       "      <td>0.595074</td>\n",
       "    </tr>\n",
       "    <tr>\n",
       "      <th>4</th>\n",
       "      <td>1.837456</td>\n",
       "      <td>0.000000</td>\n",
       "      <td>0.921884</td>\n",
       "    </tr>\n",
       "    <tr>\n",
       "      <th>5</th>\n",
       "      <td>-0.346290</td>\n",
       "      <td>0.548011</td>\n",
       "      <td>0.621261</td>\n",
       "    </tr>\n",
       "  </tbody>\n",
       "</table>\n",
       "</div>"
      ],
      "text/plain": [
       "              recency  frequency  monetary\n",
       "customer_id                               \n",
       "1            0.014134   0.000000  0.590302\n",
       "2            0.226148  -1.000000  0.288787\n",
       "3            0.049470   0.548011  0.595074\n",
       "4            1.837456   0.000000  0.921884\n",
       "5           -0.346290   0.548011  0.621261"
      ]
     },
     "execution_count": 20,
     "metadata": {},
     "output_type": "execute_result"
    }
   ],
   "source": [
    "# convert to df\n",
    "scaled_rfm_df = pd.DataFrame(\n",
    "    scaled_rfm,\n",
    "    columns=rfm_cols,\n",
    "    index=rfm_df.index\n",
    ")\n",
    "\n",
    "scaled_rfm_df.head()"
   ]
  },
  {
   "cell_type": "markdown",
   "metadata": {},
   "source": [
    "# Modeling\n",
    "---"
   ]
  },
  {
   "cell_type": "markdown",
   "metadata": {},
   "source": [
    "## Functions"
   ]
  },
  {
   "cell_type": "code",
   "execution_count": 21,
   "metadata": {},
   "outputs": [],
   "source": [
    "# function: elbow plot\n",
    "def get_elbow_plot(main_df):\n",
    "    # get copy of df\n",
    "    df = main_df.copy()\n",
    "\n",
    "    # get inertias for k vals\n",
    "    inertias = []\n",
    "    k_vals = list(range(1, 11))\n",
    "\n",
    "    for k in k_vals:\n",
    "        # fit k means model\n",
    "        k_model = KMeans(n_clusters=k, n_init=50, random_state=0)\n",
    "        k_model.fit(df)\n",
    "\n",
    "        # save inertia\n",
    "        inertias.append(k_model.inertia_)\n",
    "\n",
    "    # save to df\n",
    "    elbow_df = pd.DataFrame({\n",
    "        'k': k_vals, \n",
    "        'inertia': inertias\n",
    "    })\n",
    "\n",
    "    # plot\n",
    "    elbow_plot = elbow_df.hvplot.line(\n",
    "        x='k',\n",
    "        y='inertia',\n",
    "        xticks=k\n",
    "    )\n",
    "    \n",
    "    # return \n",
    "    return elbow_plot"
   ]
  },
  {
   "cell_type": "code",
   "execution_count": null,
   "metadata": {},
   "outputs": [],
   "source": [
    "# function: get best k value based on metric to do clusters and return segment labels and plot\n",
    "def get_k_means_segments(\n",
    "        scaled_data: pd.DataFrame,\n",
    "        og_data: pd.DataFrame,\n",
    "        k_values: List[int], \n",
    "        metric: Literal['silhouette', 'ch_score'] = 'silhouette', \n",
    "        x_val: str | None = None, \n",
    "        y_val: str | None = None\n",
    ") -> Tuple[pd.DataFrame, 'hvplot.core.chart.Chart']:\n",
    "    \n",
    "    '''\n",
    "    choose the best k by metric (silhouette or calinksi-harabasz), run k means, get segment labels, and return\n",
    "        - dataframe with segment labels\n",
    "        - scatter plot color coded by segment labels\n",
    "    \n",
    "    Parameters\n",
    "    ----------\n",
    "    scaled_data: scaled/transformed dataframe\n",
    "    og_data: dataframe to attach predictions to and use for plotting (transformed or og data)\n",
    "    k_values: list of potential number of segments\n",
    "    metric: use silhouette or calinksi-harabasz score to get best number of segments\n",
    "    x_val, y_val: optional features to plot in scatter plot (default select first two features in dataframe)\n",
    "    '''\n",
    "    # get copy of df\n",
    "    df = scaled_data.copy()\n",
    "    og_df = og_data.copy()\n",
    "\n",
    "    # check df if it has minimum 2 cols and get axis for plot\n",
    "    if x_val is None or y_val is None:\n",
    "        if df.shape[1] < 2:\n",
    "            raise ValueError(f'⚠ VALUE ERROR: DataFrame, {df}, must have at least 2 columns')\n",
    "        cols = list(df.columns)\n",
    "        x_val = x_val or cols[0]\n",
    "        y_val = y_val or cols[1]\n",
    "\n",
    "    \n",
    "    # score all k values\n",
    "    k_scores = []\n",
    "\n",
    "    for k in k_values:\n",
    "        # get scores\n",
    "        k_model = KMeans(n_clusters=k, n_init=50, random_state=0)\n",
    "        k_model.fit(df)\n",
    "        labels = k_model.labels_\n",
    "\n",
    "        # score based on metric selected\n",
    "        if metric.lower() == 'silhouette':\n",
    "            score = metrics.silhouette_score(df, labels)\n",
    "        elif metric.lower() == 'ch_score':\n",
    "            score = metrics.calinski_harabasz_score(df, labels)\n",
    "        else:\n",
    "            raise ValueError(f'⚠ VALUE ERROR: metric entered is \"{metric}\" when metric needs to be either: \\n\\tsilhouette \\n\\tch_score')\n",
    "            \n",
    "        k_scores.append({\n",
    "            'k': k,\n",
    "            'score': score\n",
    "        })\n",
    "        \n",
    "    # display best score\n",
    "    print(k_scores)\n",
    "    top_k_score = max(k_scores, key=lambda item: item.get('score'))\n",
    "    best_k, best_score = top_k_score['k'], top_k_score['score']\n",
    "    print(f'Best k value = {best_k} ({metric} score = {best_score:.3f})')\n",
    "\n",
    "    # get segments based on best k value\n",
    "    k_model = KMeans(n_clusters=best_k, n_init=50, random_state=0)\n",
    "    predictions = k_model.fit_predict(df)\n",
    "    #df['predictions'] = predictions\n",
    "\n",
    "    # add labels to original dataframe\n",
    "    labeled_og_df = og_df.assign(segment=predictions)\n",
    "\n",
    "    # get scatter plot\n",
    "    scatter_plot = labeled_og_df.hvplot.scatter(\n",
    "        x=x_val,\n",
    "        y=y_val,\n",
    "        by='segment',\n",
    "        hover_cols='all'\n",
    "    )\n",
    "    display(scatter_plot)\n",
    "\n",
    "    # return df\n",
    "    return labeled_og_df, scatter_plot"
   ]
  },
  {
   "cell_type": "markdown",
   "metadata": {},
   "source": [
    "## Elbow plot"
   ]
  },
  {
   "cell_type": "markdown",
   "metadata": {},
   "source": [
    "#### (k = 3 or 4)"
   ]
  },
  {
   "cell_type": "code",
   "execution_count": 23,
   "metadata": {},
   "outputs": [
    {
     "data": {},
     "metadata": {},
     "output_type": "display_data"
    },
    {
     "data": {
      "application/vnd.holoviews_exec.v0+json": "",
      "text/html": [
       "<div id='009262d4-fff3-4b8a-834f-c3e6676605d6'>\n",
       "  <div id=\"d5d6ec4e-0dfe-4f2c-a52b-0d13024623db\" data-root-id=\"009262d4-fff3-4b8a-834f-c3e6676605d6\" style=\"display: contents;\"></div>\n",
       "</div>\n",
       "<script type=\"application/javascript\">(function(root) {\n",
       "  var docs_json = {\"a59c4c57-a0b8-4ea4-9645-1a865cf33786\":{\"version\":\"3.5.2\",\"title\":\"Bokeh Application\",\"roots\":[{\"type\":\"object\",\"name\":\"Row\",\"id\":\"009262d4-fff3-4b8a-834f-c3e6676605d6\",\"attributes\":{\"name\":\"Row00279\",\"tags\":[\"embedded\"],\"stylesheets\":[\"\\n:host(.pn-loading):before, .pn-loading:before {\\n  background-color: #c3c3c3;\\n  mask-size: auto calc(min(50%, 400px));\\n  -webkit-mask-size: auto calc(min(50%, 400px));\\n}\",{\"type\":\"object\",\"name\":\"ImportedStyleSheet\",\"id\":\"2e2d0ec0-b328-412c-acee-5857203fb5fb\",\"attributes\":{\"url\":\"https://cdn.holoviz.org/panel/1.5.3/dist/css/loading.css\"}},{\"type\":\"object\",\"name\":\"ImportedStyleSheet\",\"id\":\"48fab147-2733-4a0b-85b2-581be00594aa\",\"attributes\":{\"url\":\"https://cdn.holoviz.org/panel/1.5.3/dist/css/listpanel.css\"}},{\"type\":\"object\",\"name\":\"ImportedStyleSheet\",\"id\":\"be4c91eb-b51c-4f4e-a497-8ff2097e779c\",\"attributes\":{\"url\":\"https://cdn.holoviz.org/panel/1.5.3/dist/bundled/theme/default.css\"}},{\"type\":\"object\",\"name\":\"ImportedStyleSheet\",\"id\":\"cf425228-7d1f-456e-a64c-fc0912deacab\",\"attributes\":{\"url\":\"https://cdn.holoviz.org/panel/1.5.3/dist/bundled/theme/native.css\"}}],\"min_width\":700,\"margin\":0,\"sizing_mode\":\"stretch_width\",\"align\":\"start\",\"children\":[{\"type\":\"object\",\"name\":\"Spacer\",\"id\":\"9f1df198-850a-4eeb-ad32-f5b6753ac7b7\",\"attributes\":{\"name\":\"HSpacer00283\",\"stylesheets\":[\"\\n:host(.pn-loading):before, .pn-loading:before {\\n  background-color: #c3c3c3;\\n  mask-size: auto calc(min(50%, 400px));\\n  -webkit-mask-size: auto calc(min(50%, 400px));\\n}\",{\"id\":\"2e2d0ec0-b328-412c-acee-5857203fb5fb\"},{\"id\":\"be4c91eb-b51c-4f4e-a497-8ff2097e779c\"},{\"id\":\"cf425228-7d1f-456e-a64c-fc0912deacab\"}],\"margin\":0,\"sizing_mode\":\"stretch_width\",\"align\":\"start\"}},{\"type\":\"object\",\"name\":\"Figure\",\"id\":\"d23765d0-dc99-410e-b361-d081e382dbd7\",\"attributes\":{\"width\":700,\"height\":300,\"margin\":[5,10],\"sizing_mode\":\"fixed\",\"align\":\"start\",\"x_range\":{\"type\":\"object\",\"name\":\"Range1d\",\"id\":\"55b85b02-89dd-47c5-bd54-c9bdb09bdfdb\",\"attributes\":{\"name\":\"k\",\"tags\":[[[\"k\",null]],[]],\"start\":1.0,\"end\":10.0,\"reset_start\":1.0,\"reset_end\":10.0}},\"y_range\":{\"type\":\"object\",\"name\":\"Range1d\",\"id\":\"3de64e2a-2d36-474c-9d10-1144c0c801f9\",\"attributes\":{\"name\":\"inertia\",\"tags\":[[[\"inertia\",null]],{\"type\":\"map\",\"entries\":[[\"invert_yaxis\",false],[\"autorange\",false]]}],\"start\":4.95235956241817,\"end\":247.31239160602286,\"reset_start\":4.95235956241817,\"reset_end\":247.31239160602286}},\"x_scale\":{\"type\":\"object\",\"name\":\"LinearScale\",\"id\":\"0e8320e0-bf59-458e-a2c3-5224df1427c1\"},\"y_scale\":{\"type\":\"object\",\"name\":\"LinearScale\",\"id\":\"b339de8e-3dc3-4dcf-baec-b964b2f4b483\"},\"title\":{\"type\":\"object\",\"name\":\"Title\",\"id\":\"015bb914-a702-4535-baab-c291507b418b\",\"attributes\":{\"text_color\":\"black\",\"text_font_size\":\"12pt\"}},\"renderers\":[{\"type\":\"object\",\"name\":\"GlyphRenderer\",\"id\":\"9b8faac6-6a69-4a83-a4d4-9645b4a75d6f\",\"attributes\":{\"data_source\":{\"type\":\"object\",\"name\":\"ColumnDataSource\",\"id\":\"c5fd5e5a-d2e5-4eb3-a5d5-518a2c080379\",\"attributes\":{\"selected\":{\"type\":\"object\",\"name\":\"Selection\",\"id\":\"d60d4f9b-849e-4eef-b48a-fb1e10e524a0\",\"attributes\":{\"indices\":[],\"line_indices\":[]}},\"selection_policy\":{\"type\":\"object\",\"name\":\"UnionRenderers\",\"id\":\"fcb3f174-362a-4894-b2e0-206437e0e7ee\"},\"data\":{\"type\":\"map\",\"entries\":[[\"k\",{\"type\":\"ndarray\",\"array\":{\"type\":\"bytes\",\"data\":\"AQAAAAIAAAADAAAABAAAAAUAAAAGAAAABwAAAAgAAAAJAAAACgAAAA==\"},\"shape\":[10],\"dtype\":\"int32\",\"order\":\"little\"}],[\"inertia\",{\"type\":\"ndarray\",\"array\":{\"type\":\"bytes\",\"data\":\"byAw/7NjbEAbjzx6DY5gQIw6X3d7GVlAs+lRxVJSU0BQKbbySKZOQPm/KO+tA0lAc8GFRYIORUC8UpP4PGxBQAyVSA4syD1AuAQJwiYmOUA=\"},\"shape\":[10],\"dtype\":\"float64\",\"order\":\"little\"}]]}}},\"view\":{\"type\":\"object\",\"name\":\"CDSView\",\"id\":\"2e45a939-1c78-4797-8449-74a18d757c67\",\"attributes\":{\"filter\":{\"type\":\"object\",\"name\":\"AllIndices\",\"id\":\"9aba0db0-fe56-4279-94a7-0e3ace57269a\"}}},\"glyph\":{\"type\":\"object\",\"name\":\"Line\",\"id\":\"d6a5688b-0535-454a-8dca-20d6df49e6b8\",\"attributes\":{\"tags\":[\"apply_ranges\"],\"x\":{\"type\":\"field\",\"field\":\"k\"},\"y\":{\"type\":\"field\",\"field\":\"inertia\"},\"line_color\":\"#30a2da\",\"line_width\":2}},\"selection_glyph\":{\"type\":\"object\",\"name\":\"Line\",\"id\":\"23017206-48aa-430a-a0af-af105c3b1802\",\"attributes\":{\"tags\":[\"apply_ranges\"],\"x\":{\"type\":\"field\",\"field\":\"k\"},\"y\":{\"type\":\"field\",\"field\":\"inertia\"},\"line_color\":\"#30a2da\",\"line_width\":2}},\"nonselection_glyph\":{\"type\":\"object\",\"name\":\"Line\",\"id\":\"9b8f5dc5-c9c7-45fd-896a-3353928a32a1\",\"attributes\":{\"tags\":[\"apply_ranges\"],\"x\":{\"type\":\"field\",\"field\":\"k\"},\"y\":{\"type\":\"field\",\"field\":\"inertia\"},\"line_color\":\"#30a2da\",\"line_alpha\":0.1,\"line_width\":2}},\"muted_glyph\":{\"type\":\"object\",\"name\":\"Line\",\"id\":\"af62833a-e13b-470a-aa07-17a65d1de775\",\"attributes\":{\"tags\":[\"apply_ranges\"],\"x\":{\"type\":\"field\",\"field\":\"k\"},\"y\":{\"type\":\"field\",\"field\":\"inertia\"},\"line_color\":\"#30a2da\",\"line_alpha\":0.2,\"line_width\":2}}}}],\"toolbar\":{\"type\":\"object\",\"name\":\"Toolbar\",\"id\":\"64462e1f-c7be-4eac-95ab-f4ba93f9a1bc\",\"attributes\":{\"tools\":[{\"type\":\"object\",\"name\":\"WheelZoomTool\",\"id\":\"baa21c8e-c52f-4e9c-9c96-07ef5f2ff752\",\"attributes\":{\"tags\":[\"hv_created\"],\"renderers\":\"auto\",\"zoom_together\":\"none\"}},{\"type\":\"object\",\"name\":\"HoverTool\",\"id\":\"f53632d0-ac09-4886-90e3-b576d4da9b9e\",\"attributes\":{\"tags\":[\"hv_created\"],\"renderers\":[{\"id\":\"9b8faac6-6a69-4a83-a4d4-9645b4a75d6f\"}],\"tooltips\":[[\"k\",\"@{k}\"],[\"inertia\",\"@{inertia}\"]]}},{\"type\":\"object\",\"name\":\"SaveTool\",\"id\":\"0c539da9-2a82-45f0-97dd-3dbf410146f5\"},{\"type\":\"object\",\"name\":\"PanTool\",\"id\":\"ef9e9e00-dfe4-45f9-8172-82e94bfe8e62\"},{\"type\":\"object\",\"name\":\"BoxZoomTool\",\"id\":\"245f77e5-2f07-4e3f-96a9-aec9e29af26c\",\"attributes\":{\"overlay\":{\"type\":\"object\",\"name\":\"BoxAnnotation\",\"id\":\"99e9784f-f65f-4dff-afd0-2c7b22cb4fe2\",\"attributes\":{\"syncable\":false,\"line_color\":\"black\",\"line_alpha\":1.0,\"line_width\":2,\"line_dash\":[4,4],\"fill_color\":\"lightgrey\",\"fill_alpha\":0.5,\"level\":\"overlay\",\"visible\":false,\"left\":{\"type\":\"number\",\"value\":\"nan\"},\"right\":{\"type\":\"number\",\"value\":\"nan\"},\"top\":{\"type\":\"number\",\"value\":\"nan\"},\"bottom\":{\"type\":\"number\",\"value\":\"nan\"},\"left_units\":\"canvas\",\"right_units\":\"canvas\",\"top_units\":\"canvas\",\"bottom_units\":\"canvas\",\"handles\":{\"type\":\"object\",\"name\":\"BoxInteractionHandles\",\"id\":\"cc520fab-dc8e-4584-a444-4c7fc031a9c3\",\"attributes\":{\"all\":{\"type\":\"object\",\"name\":\"AreaVisuals\",\"id\":\"12512f43-9124-4a42-b1d1-6c7c21f3fc88\",\"attributes\":{\"fill_color\":\"white\",\"hover_fill_color\":\"lightgray\"}}}}}}}},{\"type\":\"object\",\"name\":\"ResetTool\",\"id\":\"6140a295-2fac-455c-ace3-a1312797f74a\"}],\"active_drag\":{\"id\":\"ef9e9e00-dfe4-45f9-8172-82e94bfe8e62\"},\"active_scroll\":{\"id\":\"baa21c8e-c52f-4e9c-9c96-07ef5f2ff752\"}}},\"left\":[{\"type\":\"object\",\"name\":\"LinearAxis\",\"id\":\"b45a1339-6be2-4922-b17e-3a3c377be24e\",\"attributes\":{\"ticker\":{\"type\":\"object\",\"name\":\"BasicTicker\",\"id\":\"46bd2c9d-bcad-4c4c-9631-4f5a05c879a7\",\"attributes\":{\"mantissas\":[1,2,5]}},\"formatter\":{\"type\":\"object\",\"name\":\"BasicTickFormatter\",\"id\":\"592bad6d-307a-47b1-8b07-7ef6d2506951\"},\"axis_label\":\"inertia\",\"major_label_policy\":{\"type\":\"object\",\"name\":\"AllLabels\",\"id\":\"f88c00d9-0ca5-4972-83fa-8dd9df331161\"}}}],\"below\":[{\"type\":\"object\",\"name\":\"LinearAxis\",\"id\":\"3de3b89e-e8a3-4528-bedc-741fa29aaae6\",\"attributes\":{\"ticker\":{\"type\":\"object\",\"name\":\"BasicTicker\",\"id\":\"4950b251-5ec7-48b8-8113-6f61ef8c0a27\",\"attributes\":{\"desired_num_ticks\":10,\"mantissas\":[1,2,5]}},\"formatter\":{\"type\":\"object\",\"name\":\"BasicTickFormatter\",\"id\":\"08f6d789-ee41-4588-a212-4a72e14972d8\"},\"axis_label\":\"k\",\"major_label_policy\":{\"type\":\"object\",\"name\":\"AllLabels\",\"id\":\"0656a71c-c29a-41d5-ace6-e2592bcd9c9b\"}}}],\"center\":[{\"type\":\"object\",\"name\":\"Grid\",\"id\":\"31ecdc5c-356a-4775-9cb4-cd4d0470de14\",\"attributes\":{\"axis\":{\"id\":\"3de3b89e-e8a3-4528-bedc-741fa29aaae6\"},\"grid_line_color\":null}},{\"type\":\"object\",\"name\":\"Grid\",\"id\":\"57ba5016-faf9-4472-a5d0-40aa220d7053\",\"attributes\":{\"dimension\":1,\"axis\":{\"id\":\"b45a1339-6be2-4922-b17e-3a3c377be24e\"},\"grid_line_color\":null}}],\"min_border_top\":10,\"min_border_bottom\":10,\"min_border_left\":10,\"min_border_right\":10,\"output_backend\":\"webgl\"}},{\"type\":\"object\",\"name\":\"Spacer\",\"id\":\"47d2ef9c-93f2-49d8-91b2-c1fce6665ebe\",\"attributes\":{\"name\":\"HSpacer00284\",\"stylesheets\":[\"\\n:host(.pn-loading):before, .pn-loading:before {\\n  background-color: #c3c3c3;\\n  mask-size: auto calc(min(50%, 400px));\\n  -webkit-mask-size: auto calc(min(50%, 400px));\\n}\",{\"id\":\"2e2d0ec0-b328-412c-acee-5857203fb5fb\"},{\"id\":\"be4c91eb-b51c-4f4e-a497-8ff2097e779c\"},{\"id\":\"cf425228-7d1f-456e-a64c-fc0912deacab\"}],\"margin\":0,\"sizing_mode\":\"stretch_width\",\"align\":\"start\"}}]}}],\"defs\":[{\"type\":\"model\",\"name\":\"ReactiveHTML1\"},{\"type\":\"model\",\"name\":\"FlexBox1\",\"properties\":[{\"name\":\"align_content\",\"kind\":\"Any\",\"default\":\"flex-start\"},{\"name\":\"align_items\",\"kind\":\"Any\",\"default\":\"flex-start\"},{\"name\":\"flex_direction\",\"kind\":\"Any\",\"default\":\"row\"},{\"name\":\"flex_wrap\",\"kind\":\"Any\",\"default\":\"wrap\"},{\"name\":\"gap\",\"kind\":\"Any\",\"default\":\"\"},{\"name\":\"justify_content\",\"kind\":\"Any\",\"default\":\"flex-start\"}]},{\"type\":\"model\",\"name\":\"FloatPanel1\",\"properties\":[{\"name\":\"config\",\"kind\":\"Any\",\"default\":{\"type\":\"map\"}},{\"name\":\"contained\",\"kind\":\"Any\",\"default\":true},{\"name\":\"position\",\"kind\":\"Any\",\"default\":\"right-top\"},{\"name\":\"offsetx\",\"kind\":\"Any\",\"default\":null},{\"name\":\"offsety\",\"kind\":\"Any\",\"default\":null},{\"name\":\"theme\",\"kind\":\"Any\",\"default\":\"primary\"},{\"name\":\"status\",\"kind\":\"Any\",\"default\":\"normalized\"}]},{\"type\":\"model\",\"name\":\"GridStack1\",\"properties\":[{\"name\":\"mode\",\"kind\":\"Any\",\"default\":\"warn\"},{\"name\":\"ncols\",\"kind\":\"Any\",\"default\":null},{\"name\":\"nrows\",\"kind\":\"Any\",\"default\":null},{\"name\":\"allow_resize\",\"kind\":\"Any\",\"default\":true},{\"name\":\"allow_drag\",\"kind\":\"Any\",\"default\":true},{\"name\":\"state\",\"kind\":\"Any\",\"default\":[]}]},{\"type\":\"model\",\"name\":\"drag1\",\"properties\":[{\"name\":\"slider_width\",\"kind\":\"Any\",\"default\":5},{\"name\":\"slider_color\",\"kind\":\"Any\",\"default\":\"black\"},{\"name\":\"value\",\"kind\":\"Any\",\"default\":50}]},{\"type\":\"model\",\"name\":\"click1\",\"properties\":[{\"name\":\"terminal_output\",\"kind\":\"Any\",\"default\":\"\"},{\"name\":\"debug_name\",\"kind\":\"Any\",\"default\":\"\"},{\"name\":\"clears\",\"kind\":\"Any\",\"default\":0}]},{\"type\":\"model\",\"name\":\"FastWrapper1\",\"properties\":[{\"name\":\"object\",\"kind\":\"Any\",\"default\":null},{\"name\":\"style\",\"kind\":\"Any\",\"default\":null}]},{\"type\":\"model\",\"name\":\"NotificationAreaBase1\",\"properties\":[{\"name\":\"js_events\",\"kind\":\"Any\",\"default\":{\"type\":\"map\"}},{\"name\":\"position\",\"kind\":\"Any\",\"default\":\"bottom-right\"},{\"name\":\"_clear\",\"kind\":\"Any\",\"default\":0}]},{\"type\":\"model\",\"name\":\"NotificationArea1\",\"properties\":[{\"name\":\"js_events\",\"kind\":\"Any\",\"default\":{\"type\":\"map\"}},{\"name\":\"notifications\",\"kind\":\"Any\",\"default\":[]},{\"name\":\"position\",\"kind\":\"Any\",\"default\":\"bottom-right\"},{\"name\":\"_clear\",\"kind\":\"Any\",\"default\":0},{\"name\":\"types\",\"kind\":\"Any\",\"default\":[{\"type\":\"map\",\"entries\":[[\"type\",\"warning\"],[\"background\",\"#ffc107\"],[\"icon\",{\"type\":\"map\",\"entries\":[[\"className\",\"fas fa-exclamation-triangle\"],[\"tagName\",\"i\"],[\"color\",\"white\"]]}]]},{\"type\":\"map\",\"entries\":[[\"type\",\"info\"],[\"background\",\"#007bff\"],[\"icon\",{\"type\":\"map\",\"entries\":[[\"className\",\"fas fa-info-circle\"],[\"tagName\",\"i\"],[\"color\",\"white\"]]}]]}]}]},{\"type\":\"model\",\"name\":\"Notification\",\"properties\":[{\"name\":\"background\",\"kind\":\"Any\",\"default\":null},{\"name\":\"duration\",\"kind\":\"Any\",\"default\":3000},{\"name\":\"icon\",\"kind\":\"Any\",\"default\":null},{\"name\":\"message\",\"kind\":\"Any\",\"default\":\"\"},{\"name\":\"notification_type\",\"kind\":\"Any\",\"default\":null},{\"name\":\"_destroyed\",\"kind\":\"Any\",\"default\":false}]},{\"type\":\"model\",\"name\":\"TemplateActions1\",\"properties\":[{\"name\":\"open_modal\",\"kind\":\"Any\",\"default\":0},{\"name\":\"close_modal\",\"kind\":\"Any\",\"default\":0}]},{\"type\":\"model\",\"name\":\"BootstrapTemplateActions1\",\"properties\":[{\"name\":\"open_modal\",\"kind\":\"Any\",\"default\":0},{\"name\":\"close_modal\",\"kind\":\"Any\",\"default\":0}]},{\"type\":\"model\",\"name\":\"TemplateEditor1\",\"properties\":[{\"name\":\"layout\",\"kind\":\"Any\",\"default\":[]}]},{\"type\":\"model\",\"name\":\"MaterialTemplateActions1\",\"properties\":[{\"name\":\"open_modal\",\"kind\":\"Any\",\"default\":0},{\"name\":\"close_modal\",\"kind\":\"Any\",\"default\":0}]},{\"type\":\"model\",\"name\":\"ReactiveESM1\"},{\"type\":\"model\",\"name\":\"JSComponent1\"},{\"type\":\"model\",\"name\":\"ReactComponent1\"},{\"type\":\"model\",\"name\":\"AnyWidgetComponent1\"},{\"type\":\"model\",\"name\":\"request_value1\",\"properties\":[{\"name\":\"fill\",\"kind\":\"Any\",\"default\":\"none\"},{\"name\":\"_synced\",\"kind\":\"Any\",\"default\":null},{\"name\":\"_request_sync\",\"kind\":\"Any\",\"default\":0}]}]}};\n",
       "  var render_items = [{\"docid\":\"a59c4c57-a0b8-4ea4-9645-1a865cf33786\",\"roots\":{\"009262d4-fff3-4b8a-834f-c3e6676605d6\":\"d5d6ec4e-0dfe-4f2c-a52b-0d13024623db\"},\"root_ids\":[\"009262d4-fff3-4b8a-834f-c3e6676605d6\"]}];\n",
       "  var docs = Object.values(docs_json)\n",
       "  if (!docs) {\n",
       "    return\n",
       "  }\n",
       "  const py_version = docs[0].version.replace('rc', '-rc.').replace('.dev', '-dev.')\n",
       "  async function embed_document(root) {\n",
       "    var Bokeh = get_bokeh(root)\n",
       "    await Bokeh.embed.embed_items_notebook(docs_json, render_items);\n",
       "    for (const render_item of render_items) {\n",
       "      for (const root_id of render_item.root_ids) {\n",
       "\tconst id_el = document.getElementById(root_id)\n",
       "\tif (id_el.children.length && id_el.children[0].hasAttribute('data-root-id')) {\n",
       "\t  const root_el = id_el.children[0]\n",
       "\t  root_el.id = root_el.id + '-rendered'\n",
       "\t  for (const child of root_el.children) {\n",
       "            // Ensure JupyterLab does not capture keyboard shortcuts\n",
       "            // see: https://jupyterlab.readthedocs.io/en/4.1.x/extension/notebook.html#keyboard-interaction-model\n",
       "\t    child.setAttribute('data-lm-suppress-shortcuts', 'true')\n",
       "\t  }\n",
       "\t}\n",
       "      }\n",
       "    }\n",
       "  }\n",
       "  function get_bokeh(root) {\n",
       "    if (root.Bokeh === undefined) {\n",
       "      return null\n",
       "    } else if (root.Bokeh.version !== py_version) {\n",
       "      if (root.Bokeh.versions === undefined || !root.Bokeh.versions.has(py_version)) {\n",
       "\treturn null\n",
       "      }\n",
       "      return root.Bokeh.versions.get(py_version);\n",
       "    } else if (root.Bokeh.version === py_version) {\n",
       "      return root.Bokeh\n",
       "    }\n",
       "    return null\n",
       "  }\n",
       "  function is_loaded(root) {\n",
       "    var Bokeh = get_bokeh(root)\n",
       "    return (Bokeh != null && Bokeh.Panel !== undefined)\n",
       "  }\n",
       "  if (is_loaded(root)) {\n",
       "    embed_document(root);\n",
       "  } else {\n",
       "    var attempts = 0;\n",
       "    var timer = setInterval(function(root) {\n",
       "      if (is_loaded(root)) {\n",
       "        clearInterval(timer);\n",
       "        embed_document(root);\n",
       "      } else if (document.readyState == \"complete\") {\n",
       "        attempts++;\n",
       "        if (attempts > 200) {\n",
       "          clearInterval(timer);\n",
       "\t  var Bokeh = get_bokeh(root)\n",
       "\t  if (Bokeh == null || Bokeh.Panel == null) {\n",
       "            console.warn(\"Panel: ERROR: Unable to run Panel code because Bokeh or Panel library is missing\");\n",
       "\t  } else {\n",
       "\t    console.warn(\"Panel: WARNING: Attempting to render but not all required libraries could be resolved.\")\n",
       "\t    embed_document(root)\n",
       "\t  }\n",
       "        }\n",
       "      }\n",
       "    }, 25, root)\n",
       "  }\n",
       "})(window);</script>"
      ],
      "text/plain": [
       ":Curve   [k]   (inertia)"
      ]
     },
     "execution_count": 23,
     "metadata": {
      "application/vnd.holoviews_exec.v0+json": {
       "id": "009262d4-fff3-4b8a-834f-c3e6676605d6"
      }
     },
     "output_type": "execute_result"
    }
   ],
   "source": [
    "# see it's k = 3 or 4\n",
    "get_elbow_plot(scaled_rfm_df)"
   ]
  },
  {
   "cell_type": "markdown",
   "metadata": {},
   "source": [
    "## K means modeling (deciding best number of cluster from highest score)"
   ]
  },
  {
   "cell_type": "markdown",
   "metadata": {},
   "source": [
    "### All columns--> k = 2,3,4,5"
   ]
  },
  {
   "cell_type": "code",
   "execution_count": 63,
   "metadata": {},
   "outputs": [
    {
     "name": "stdout",
     "output_type": "stream",
     "text": [
      "-------------------------------------------------------------------SILHOUETTE SCORE-------------------------------------------------------------------\n",
      "[{'k': 2, 'score': 0.40910663221363913}, {'k': 3, 'score': 0.43389384683890814}, {'k': 4, 'score': 0.44591393776542587}, {'k': 5, 'score': 0.4247488669907489}]\n",
      "Best k value = 4 (silhouette score = 0.446)\n"
     ]
    },
    {
     "data": {},
     "metadata": {},
     "output_type": "display_data"
    },
    {
     "data": {
      "application/vnd.holoviews_exec.v0+json": "",
      "text/html": [
       "<div id='9b525a11-7fab-4256-9bfd-16f26b35f522'>\n",
       "  <div id=\"df5a2914-2f17-4553-acd4-4d37fea1a4b9\" data-root-id=\"9b525a11-7fab-4256-9bfd-16f26b35f522\" style=\"display: contents;\"></div>\n",
       "</div>\n",
       "<script type=\"application/javascript\">(function(root) {\n",
       "  var docs_json = {\"1e05727f-484b-4024-905a-9d282d43f5c5\":{\"version\":\"3.5.2\",\"title\":\"Bokeh Application\",\"roots\":[{\"type\":\"object\",\"name\":\"Row\",\"id\":\"9b525a11-7fab-4256-9bfd-16f26b35f522\",\"attributes\":{\"name\":\"Row07003\",\"tags\":[\"embedded\"],\"stylesheets\":[\"\\n:host(.pn-loading):before, .pn-loading:before {\\n  background-color: #c3c3c3;\\n  mask-size: auto calc(min(50%, 400px));\\n  -webkit-mask-size: auto calc(min(50%, 400px));\\n}\",{\"type\":\"object\",\"name\":\"ImportedStyleSheet\",\"id\":\"23b58523-d5bc-40a0-9d8d-b53d1f2540b7\",\"attributes\":{\"url\":\"https://cdn.holoviz.org/panel/1.5.3/dist/css/loading.css\"}},{\"type\":\"object\",\"name\":\"ImportedStyleSheet\",\"id\":\"d7e309fd-67b5-43ac-a30d-4cfe0347fc5f\",\"attributes\":{\"url\":\"https://cdn.holoviz.org/panel/1.5.3/dist/css/listpanel.css\"}},{\"type\":\"object\",\"name\":\"ImportedStyleSheet\",\"id\":\"018ee775-5bcc-479b-b4bd-f6789e37e93c\",\"attributes\":{\"url\":\"https://cdn.holoviz.org/panel/1.5.3/dist/bundled/theme/default.css\"}},{\"type\":\"object\",\"name\":\"ImportedStyleSheet\",\"id\":\"6e11ce39-3183-49d7-821c-a1223e484049\",\"attributes\":{\"url\":\"https://cdn.holoviz.org/panel/1.5.3/dist/bundled/theme/native.css\"}}],\"min_width\":700,\"margin\":0,\"sizing_mode\":\"stretch_width\",\"align\":\"start\",\"children\":[{\"type\":\"object\",\"name\":\"Spacer\",\"id\":\"23649ca8-9bb5-4d7c-81e3-183a8ab82d75\",\"attributes\":{\"name\":\"HSpacer07007\",\"stylesheets\":[\"\\n:host(.pn-loading):before, .pn-loading:before {\\n  background-color: #c3c3c3;\\n  mask-size: auto calc(min(50%, 400px));\\n  -webkit-mask-size: auto calc(min(50%, 400px));\\n}\",{\"id\":\"23b58523-d5bc-40a0-9d8d-b53d1f2540b7\"},{\"id\":\"018ee775-5bcc-479b-b4bd-f6789e37e93c\"},{\"id\":\"6e11ce39-3183-49d7-821c-a1223e484049\"}],\"margin\":0,\"sizing_mode\":\"stretch_width\",\"align\":\"start\"}},{\"type\":\"object\",\"name\":\"Figure\",\"id\":\"5dc538f9-1bcb-428c-b004-06aa9fd4661b\",\"attributes\":{\"width\":700,\"height\":300,\"margin\":[5,10],\"sizing_mode\":\"fixed\",\"align\":\"start\",\"x_range\":{\"type\":\"object\",\"name\":\"Range1d\",\"id\":\"6e07bf99-a657-499e-a114-076090b34e25\",\"attributes\":{\"name\":\"recency\",\"tags\":[[[\"recency\",null]],[]],\"start\":-21.17142857142857,\"end\":515.1714285714286,\"reset_start\":-21.17142857142857,\"reset_end\":515.1714285714286}},\"y_range\":{\"type\":\"object\",\"name\":\"Range1d\",\"id\":\"3d002e49-18d4-4783-a83a-45816cd53d1a\",\"attributes\":{\"name\":\"monetary\",\"tags\":[[[\"monetary\",null]],{\"type\":\"map\",\"entries\":[[\"invert_yaxis\",false],[\"autorange\",false]]}],\"start\":8.672644096702083,\"end\":14.03322663243378,\"reset_start\":8.672644096702083,\"reset_end\":14.03322663243378}},\"x_scale\":{\"type\":\"object\",\"name\":\"LinearScale\",\"id\":\"25ae7376-0a8c-448a-8ca8-d121add7f5b9\"},\"y_scale\":{\"type\":\"object\",\"name\":\"LinearScale\",\"id\":\"b86d8c7f-c232-466f-bf5b-d1fcb5739f46\"},\"title\":{\"type\":\"object\",\"name\":\"Title\",\"id\":\"ae48757a-346e-416d-9bab-563d18e7699c\",\"attributes\":{\"text_color\":\"black\",\"text_font_size\":\"12pt\"}},\"renderers\":[{\"type\":\"object\",\"name\":\"GlyphRenderer\",\"id\":\"56088831-434f-436a-9e15-0754ea4e14c5\",\"attributes\":{\"name\":\"1\",\"data_source\":{\"type\":\"object\",\"name\":\"ColumnDataSource\",\"id\":\"8c78525c-1eda-46a5-9c6f-10d106e2030a\",\"attributes\":{\"selected\":{\"type\":\"object\",\"name\":\"Selection\",\"id\":\"aee3b7ba-36db-4dc6-bf08-96fa47a1dc59\",\"attributes\":{\"indices\":[],\"line_indices\":[]}},\"selection_policy\":{\"type\":\"object\",\"name\":\"UnionRenderers\",\"id\":\"9525aa44-d02c-4dde-a091-378021bee5c6\"},\"data\":{\"type\":\"map\",\"entries\":[[\"recency\",{\"type\":\"ndarray\",\"array\":{\"type\":\"bytes\",\"data\":\"twAAALwAAACEAAAApQAAACgAAACnAAAAggAAAC4AAAAMAAAAYQAAAMIAAAC6AAAAqQAAABkAAACDAAAASwAAAEUAAAC1AAAArgAAAIMAAAAhAAAASwAAAD0AAADBAAAAAAAAAFMAAADEAAAARAAAAMEAAADFAAAAtgAAAJcAAACpAAAAEAAAAH0AAADBAAAAsgAAAGcAAABqAAAABwAAAHUAAACxAAAAtAAAACcAAAC1AAAAGAAAAEwAAABoAAAAAAEAAKQAAAAyAAAAMAAAAA==\"},\"shape\":[52],\"dtype\":\"int32\",\"order\":\"little\"}],[\"monetary\",{\"type\":\"ndarray\",\"array\":{\"type\":\"bytes\",\"data\":\"pn+61XFeJ0Bw2fhQz18nQI7RoAtNZydAq6q/FtXJJkDtoCfkZ+ImQPk9XnGvYyhAwmvNEoQyJ0B/YM9YZhEnQK3kk8E7ECdAJNL2VzU9J0BaR1cMjJMnQPp5aC5dqydA5rfNeq+lJkDhvu66XWYnQDLkC8eISSdAsr4VKBUBJ0CiGQdPruMnQOv2/A0z8CdASn6myBuKJkA8vTcz5XImQAHUUl4slyZARPlY9rS2JkDtVPlsJIsmQOZmWbhpxSZAEGsPFojVJ0AQrExz0dUnQDVxp518UidAr1yOu2i6JUADdXpacrQmQKdGTdaWZidA6G4NXAfnJkBsY8nrHywnQAcTYr0NbChAXb/Tt99tJkCqxEd+dh0nQEn6X0xAVSdAUpDxGRr4JkAaXEU8VaUnQFX3ih+GHCdAFVmkQ1K8J0DoHcIYYJ4mQPknaOwQhiZAtVdPNb5vJkAILp1NJT4mQAZGWP5pqyZA1rFjYWVQJ0ClqnF5Oh8oQKKMWoyI/CVAPiXG5/8+J0BY86eudeklQF1Oq1WRUyZAoE5YIXCgJ0A=\"},\"shape\":[52],\"dtype\":\"float64\",\"order\":\"little\"}],[\"customer_id\",{\"type\":\"ndarray\",\"array\":{\"type\":\"bytes\",\"data\":\"AQAAAAMAAAAFAAAABgAAAAcAAAAIAAAACQAAAAoAAAALAAAADAAAAA8AAAARAAAAEwAAABUAAAAWAAAAGAAAABsAAAAdAAAAHwAAACAAAAAmAAAAJwAAACgAAAAqAAAAKwAAACwAAAAuAAAAMAAAADMAAAA1AAAAOgAAAD0AAAA+AAAAPwAAAEAAAABBAAAAQgAAAEMAAABFAAAARwAAAEgAAABKAAAASwAAAE8AAABQAAAAUQAAAFIAAABTAAAAVAAAAFUAAABYAAAAWgAAAA==\"},\"shape\":[52],\"dtype\":\"int32\",\"order\":\"little\"}],[\"frequency\",{\"type\":\"ndarray\",\"array\":{\"type\":\"bytes\",\"data\":\"REQLbI4Q6D+KO75yNr7rP4o7vnI2vus/REQLbI4Q6D9ERAtsjhDoP4o7vnI2vus/REQLbI4Q6D9ERAtsjhDoP0REC2yOEOg/REQLbI4Q6D9ERAtsjhDoP0REC2yOEOg/REQLbI4Q6D+KO75yNr7rP0REC2yOEOg/REQLbI4Q6D+KO75yNr7rP0REC2yOEOg/REQLbI4Q6D9ERAtsjhDoP0REC2yOEOg/YfF8Rz1a4T9ERAtsjhDoP0REC2yOEOg/iju+cja+6z+KO75yNr7rP0REC2yOEOg/REQLbI4Q6D+KO75yNr7rP0REC2yOEOg/REQLbI4Q6D9ERAtsjhDoPyld0uZkGu4/REQLbI4Q6D9ERAtsjhDoP4o7vnI2vus/REQLbI4Q6D9ERAtsjhDoP0REC2yOEOg/REQLbI4Q6D9ERAtsjhDoP0REC2yOEOg/REQLbI4Q6D9h8XxHPVrhP0REC2yOEOg/iju+cja+6z8pXdLmZBruP0REC2yOEOg/REQLbI4Q6D9ERAtsjhDoP0REC2yOEOg/KV3S5mQa7j8=\"},\"shape\":[52],\"dtype\":\"float64\",\"order\":\"little\"}],[\"segment\",{\"type\":\"ndarray\",\"array\":{\"type\":\"bytes\",\"data\":\"AQAAAAEAAAABAAAAAQAAAAEAAAABAAAAAQAAAAEAAAABAAAAAQAAAAEAAAABAAAAAQAAAAEAAAABAAAAAQAAAAEAAAABAAAAAQAAAAEAAAABAAAAAQAAAAEAAAABAAAAAQAAAAEAAAABAAAAAQAAAAEAAAABAAAAAQAAAAEAAAABAAAAAQAAAAEAAAABAAAAAQAAAAEAAAABAAAAAQAAAAEAAAABAAAAAQAAAAEAAAABAAAAAQAAAAEAAAABAAAAAQAAAAEAAAABAAAAAQAAAA==\"},\"shape\":[52],\"dtype\":\"int32\",\"order\":\"little\"}]]}}},\"view\":{\"type\":\"object\",\"name\":\"CDSView\",\"id\":\"8424df64-3875-4bee-95c7-fb3238524047\",\"attributes\":{\"filter\":{\"type\":\"object\",\"name\":\"AllIndices\",\"id\":\"6d3ee3bd-5f0b-44f2-a47e-d3a75a07f40a\"}}},\"glyph\":{\"type\":\"object\",\"name\":\"Scatter\",\"id\":\"77655e38-df0f-4d6f-a8c7-48ca9ff6520f\",\"attributes\":{\"tags\":[\"apply_ranges\"],\"x\":{\"type\":\"field\",\"field\":\"recency\"},\"y\":{\"type\":\"field\",\"field\":\"monetary\"},\"size\":{\"type\":\"value\",\"value\":5.477225575051661},\"line_color\":{\"type\":\"value\",\"value\":\"#30a2da\"},\"fill_color\":{\"type\":\"value\",\"value\":\"#30a2da\"},\"hatch_color\":{\"type\":\"value\",\"value\":\"#30a2da\"}}},\"selection_glyph\":{\"type\":\"object\",\"name\":\"Scatter\",\"id\":\"c4bf72bc-874f-4085-a7f4-ef5f58b63474\",\"attributes\":{\"tags\":[\"apply_ranges\"],\"x\":{\"type\":\"field\",\"field\":\"recency\"},\"y\":{\"type\":\"field\",\"field\":\"monetary\"},\"size\":{\"type\":\"value\",\"value\":5.477225575051661},\"angle\":{\"type\":\"value\",\"value\":0.0},\"line_color\":{\"type\":\"value\",\"value\":\"#30a2da\"},\"line_alpha\":{\"type\":\"value\",\"value\":1.0},\"line_width\":{\"type\":\"value\",\"value\":1},\"line_join\":{\"type\":\"value\",\"value\":\"bevel\"},\"line_cap\":{\"type\":\"value\",\"value\":\"butt\"},\"line_dash\":{\"type\":\"value\",\"value\":[]},\"line_dash_offset\":{\"type\":\"value\",\"value\":0},\"fill_color\":{\"type\":\"value\",\"value\":\"#30a2da\"},\"fill_alpha\":{\"type\":\"value\",\"value\":1.0},\"hatch_color\":{\"type\":\"value\",\"value\":\"#30a2da\"},\"hatch_alpha\":{\"type\":\"value\",\"value\":1.0},\"hatch_scale\":{\"type\":\"value\",\"value\":12.0},\"hatch_pattern\":{\"type\":\"value\",\"value\":null},\"hatch_weight\":{\"type\":\"value\",\"value\":1.0},\"marker\":{\"type\":\"value\",\"value\":\"circle\"}}},\"nonselection_glyph\":{\"type\":\"object\",\"name\":\"Scatter\",\"id\":\"fb8d4c60-0242-46e7-b26f-7217b6f00c21\",\"attributes\":{\"tags\":[\"apply_ranges\"],\"x\":{\"type\":\"field\",\"field\":\"recency\"},\"y\":{\"type\":\"field\",\"field\":\"monetary\"},\"size\":{\"type\":\"value\",\"value\":5.477225575051661},\"line_color\":{\"type\":\"value\",\"value\":\"#30a2da\"},\"line_alpha\":{\"type\":\"value\",\"value\":0.1},\"fill_color\":{\"type\":\"value\",\"value\":\"#30a2da\"},\"fill_alpha\":{\"type\":\"value\",\"value\":0.1},\"hatch_color\":{\"type\":\"value\",\"value\":\"#30a2da\"},\"hatch_alpha\":{\"type\":\"value\",\"value\":0.1}}},\"muted_glyph\":{\"type\":\"object\",\"name\":\"Scatter\",\"id\":\"879abe48-5dbb-4bcb-b0a0-2dcf09e53632\",\"attributes\":{\"tags\":[\"apply_ranges\"],\"x\":{\"type\":\"field\",\"field\":\"recency\"},\"y\":{\"type\":\"field\",\"field\":\"monetary\"},\"size\":{\"type\":\"value\",\"value\":5.477225575051661},\"line_color\":{\"type\":\"value\",\"value\":\"#30a2da\"},\"line_alpha\":{\"type\":\"value\",\"value\":0.2},\"fill_color\":{\"type\":\"value\",\"value\":\"#30a2da\"},\"fill_alpha\":{\"type\":\"value\",\"value\":0.2},\"hatch_color\":{\"type\":\"value\",\"value\":\"#30a2da\"},\"hatch_alpha\":{\"type\":\"value\",\"value\":0.2}}}}},{\"type\":\"object\",\"name\":\"GlyphRenderer\",\"id\":\"5fa68cbb-9219-477b-bbe9-ee774e19bd91\",\"attributes\":{\"name\":\"0\",\"data_source\":{\"type\":\"object\",\"name\":\"ColumnDataSource\",\"id\":\"bdbf6b45-b123-41c4-9b7d-0c53a53927d9\",\"attributes\":{\"selected\":{\"type\":\"object\",\"name\":\"Selection\",\"id\":\"b5d2e163-1741-4239-ad5f-9afcb9dec78c\",\"attributes\":{\"indices\":[],\"line_indices\":[]}},\"selection_policy\":{\"type\":\"object\",\"name\":\"UnionRenderers\",\"id\":\"0c031f61-8fa1-4a88-97a4-cb7093d2459f\"},\"data\":{\"type\":\"map\",\"entries\":[[\"recency\",{\"type\":\"ndarray\",\"array\":{\"type\":\"bytes\",\"data\":\"1QAAALkBAADfAAAAjwEAAA0BAAAOAQAALAEAAHYBAAB6AQAABAEAANcAAADaAQAAqAEAAD8BAADYAAAAxQAAAM8AAADWAAAAvgEAAPoAAABsAQAA7gEAAOEBAADzAAAAzgEAAPkAAADPAAAAggEAANoAAAD0AAAAwwEAAA==\"},\"shape\":[31],\"dtype\":\"int32\",\"order\":\"little\"}],[\"monetary\",{\"type\":\"ndarray\",\"array\":{\"type\":\"bytes\",\"data\":\"XuD1sjAIJ0Ay64rgTL0nQEoDqI/00SVAWjkjGC8+JkBTpZ+5Yo8mQKejWSfVcCZA2jqdQDY2JkCzWohK3v0kQIXK/B38kCZAD4WsBx9aJ0AhooPDcD0mQFk0scf8eSVAiS925g6gJUBsTnS86qUlQIEaPwQoFidAntXYmf2IJkDmdyu59XQmQFPSQ5PAtiZAA/DMTTHCJkBKXWjUlOcmQOUtvdeIBSVAF90aWVqPJUCTXcI80fskQJg8qVyS7SVAKsfyJvilJUAzFlDUmOglQBrR6MCpCSdAVx84A0JWJkCaJUEXwigmQHnZAdsI7SRAplKZhgdJJkA=\"},\"shape\":[31],\"dtype\":\"float64\",\"order\":\"little\"}],[\"customer_id\",{\"type\":\"ndarray\",\"array\":{\"type\":\"bytes\",\"data\":\"AgAAAAQAAAAOAAAAEAAAABQAAAAXAAAAGQAAABoAAAAcAAAAHgAAACEAAAAkAAAAKQAAAC0AAAAvAAAAMgAAADQAAAA2AAAANwAAADsAAAA8AAAARAAAAEYAAABJAAAATAAAAE0AAABOAAAAVgAAAFcAAABZAAAAXAAAAA==\"},\"shape\":[31],\"dtype\":\"int32\",\"order\":\"little\"}],[\"frequency\",{\"type\":\"ndarray\",\"array\":{\"type\":\"bytes\",\"data\":\"YfF8Rz1a4T9ERAtsjhDoP2HxfEc9WuE/YfF8Rz1a4T9h8XxHPVrhP2HxfEc9WuE/YfF8Rz1a4T9h8XxHPVrhP2HxfEc9WuE/YfF8Rz1a4T9h8XxHPVrhP2HxfEc9WuE/YfF8Rz1a4T9h8XxHPVrhP2HxfEc9WuE/YfF8Rz1a4T9h8XxHPVrhP2HxfEc9WuE/YfF8Rz1a4T9h8XxHPVrhP2HxfEc9WuE/YfF8Rz1a4T9h8XxHPVrhP2HxfEc9WuE/YfF8Rz1a4T9h8XxHPVrhP2HxfEc9WuE/YfF8Rz1a4T9h8XxHPVrhPwAAAAAAAAAAYfF8Rz1a4T8=\"},\"shape\":[31],\"dtype\":\"float64\",\"order\":\"little\"}],[\"segment\",{\"type\":\"ndarray\",\"array\":{\"type\":\"bytes\",\"data\":\"AAAAAAAAAAAAAAAAAAAAAAAAAAAAAAAAAAAAAAAAAAAAAAAAAAAAAAAAAAAAAAAAAAAAAAAAAAAAAAAAAAAAAAAAAAAAAAAAAAAAAAAAAAAAAAAAAAAAAAAAAAAAAAAAAAAAAAAAAAAAAAAAAAAAAAAAAAAAAAAAAAAAAA==\"},\"shape\":[31],\"dtype\":\"int32\",\"order\":\"little\"}]]}}},\"view\":{\"type\":\"object\",\"name\":\"CDSView\",\"id\":\"13fa5370-e50e-41cb-ba77-11c733769d7f\",\"attributes\":{\"filter\":{\"type\":\"object\",\"name\":\"AllIndices\",\"id\":\"60e7e1e4-52b6-4c9a-a94d-1f5eaa362686\"}}},\"glyph\":{\"type\":\"object\",\"name\":\"Scatter\",\"id\":\"615a58ac-194b-40bd-aada-b937ebca065c\",\"attributes\":{\"tags\":[\"apply_ranges\"],\"x\":{\"type\":\"field\",\"field\":\"recency\"},\"y\":{\"type\":\"field\",\"field\":\"monetary\"},\"size\":{\"type\":\"value\",\"value\":5.477225575051661},\"line_color\":{\"type\":\"value\",\"value\":\"#fc4f30\"},\"fill_color\":{\"type\":\"value\",\"value\":\"#fc4f30\"},\"hatch_color\":{\"type\":\"value\",\"value\":\"#fc4f30\"}}},\"selection_glyph\":{\"type\":\"object\",\"name\":\"Scatter\",\"id\":\"97d9ee0b-a7ce-4ec4-b2ba-da4979955ea2\",\"attributes\":{\"tags\":[\"apply_ranges\"],\"x\":{\"type\":\"field\",\"field\":\"recency\"},\"y\":{\"type\":\"field\",\"field\":\"monetary\"},\"size\":{\"type\":\"value\",\"value\":5.477225575051661},\"angle\":{\"type\":\"value\",\"value\":0.0},\"line_color\":{\"type\":\"value\",\"value\":\"#fc4f30\"},\"line_alpha\":{\"type\":\"value\",\"value\":1.0},\"line_width\":{\"type\":\"value\",\"value\":1},\"line_join\":{\"type\":\"value\",\"value\":\"bevel\"},\"line_cap\":{\"type\":\"value\",\"value\":\"butt\"},\"line_dash\":{\"type\":\"value\",\"value\":[]},\"line_dash_offset\":{\"type\":\"value\",\"value\":0},\"fill_color\":{\"type\":\"value\",\"value\":\"#fc4f30\"},\"fill_alpha\":{\"type\":\"value\",\"value\":1.0},\"hatch_color\":{\"type\":\"value\",\"value\":\"#fc4f30\"},\"hatch_alpha\":{\"type\":\"value\",\"value\":1.0},\"hatch_scale\":{\"type\":\"value\",\"value\":12.0},\"hatch_pattern\":{\"type\":\"value\",\"value\":null},\"hatch_weight\":{\"type\":\"value\",\"value\":1.0},\"marker\":{\"type\":\"value\",\"value\":\"circle\"}}},\"nonselection_glyph\":{\"type\":\"object\",\"name\":\"Scatter\",\"id\":\"a4a1c903-5c71-4f7d-af0a-90ca4ff97b65\",\"attributes\":{\"tags\":[\"apply_ranges\"],\"x\":{\"type\":\"field\",\"field\":\"recency\"},\"y\":{\"type\":\"field\",\"field\":\"monetary\"},\"size\":{\"type\":\"value\",\"value\":5.477225575051661},\"line_color\":{\"type\":\"value\",\"value\":\"#fc4f30\"},\"line_alpha\":{\"type\":\"value\",\"value\":0.1},\"fill_color\":{\"type\":\"value\",\"value\":\"#fc4f30\"},\"fill_alpha\":{\"type\":\"value\",\"value\":0.1},\"hatch_color\":{\"type\":\"value\",\"value\":\"#fc4f30\"},\"hatch_alpha\":{\"type\":\"value\",\"value\":0.1}}},\"muted_glyph\":{\"type\":\"object\",\"name\":\"Scatter\",\"id\":\"24eef5d1-30d9-4582-9b14-24bd01de2fe1\",\"attributes\":{\"tags\":[\"apply_ranges\"],\"x\":{\"type\":\"field\",\"field\":\"recency\"},\"y\":{\"type\":\"field\",\"field\":\"monetary\"},\"size\":{\"type\":\"value\",\"value\":5.477225575051661},\"line_color\":{\"type\":\"value\",\"value\":\"#fc4f30\"},\"line_alpha\":{\"type\":\"value\",\"value\":0.2},\"fill_color\":{\"type\":\"value\",\"value\":\"#fc4f30\"},\"fill_alpha\":{\"type\":\"value\",\"value\":0.2},\"hatch_color\":{\"type\":\"value\",\"value\":\"#fc4f30\"},\"hatch_alpha\":{\"type\":\"value\",\"value\":0.2}}}}},{\"type\":\"object\",\"name\":\"GlyphRenderer\",\"id\":\"cfdb73db-c756-4824-8191-8236c2e611de\",\"attributes\":{\"name\":\"3\",\"data_source\":{\"type\":\"object\",\"name\":\"ColumnDataSource\",\"id\":\"00d4c0c6-cd04-4c88-a92b-cd2c108c4420\",\"attributes\":{\"selected\":{\"type\":\"object\",\"name\":\"Selection\",\"id\":\"d75cddb9-0b2d-48eb-bad6-502b34df0b99\",\"attributes\":{\"indices\":[],\"line_indices\":[]}},\"selection_policy\":{\"type\":\"object\",\"name\":\"UnionRenderers\",\"id\":\"95d38f87-7da9-41c2-a9bc-a77cb52d11a5\"},\"data\":{\"type\":\"map\",\"entries\":[[\"recency\",{\"type\":\"ndarray\",\"array\":{\"type\":\"bytes\",\"data\":\"vQAAAMMAAAD5AAAApQAAAGIAAAB/AAAArQAAAA==\"},\"shape\":[7],\"dtype\":\"int32\",\"order\":\"little\"}],[\"monetary\",{\"type\":\"ndarray\",\"array\":{\"type\":\"bytes\",\"data\":\"CjEYMomeJUB6bqPgPdEkQNCSvUeO6yRA9J+tikleJEBPx8ipHD0iQPXby+3H1SRAUxhMv8cvJEA=\"},\"shape\":[7],\"dtype\":\"float64\",\"order\":\"little\"}],[\"customer_id\",{\"type\":\"ndarray\",\"array\":{\"type\":\"bytes\",\"data\":\"DQAAABIAAAAiAAAAIwAAADEAAAA4AAAAOQAAAA==\"},\"shape\":[7],\"dtype\":\"int32\",\"order\":\"little\"}],[\"frequency\",{\"type\":\"ndarray\",\"array\":{\"type\":\"bytes\",\"data\":\"REQLbI4Q6D9h8XxHPVrhP2HxfEc9WuE/REQLbI4Q6D9h8XxHPVrhP4o7vnI2vus/REQLbI4Q6D8=\"},\"shape\":[7],\"dtype\":\"float64\",\"order\":\"little\"}],[\"segment\",{\"type\":\"ndarray\",\"array\":{\"type\":\"bytes\",\"data\":\"AwAAAAMAAAADAAAAAwAAAAMAAAADAAAAAwAAAA==\"},\"shape\":[7],\"dtype\":\"int32\",\"order\":\"little\"}]]}}},\"view\":{\"type\":\"object\",\"name\":\"CDSView\",\"id\":\"5b83010c-1d6d-4756-974a-d73254f682f7\",\"attributes\":{\"filter\":{\"type\":\"object\",\"name\":\"AllIndices\",\"id\":\"3c9ea68f-a807-4a26-910d-0b0e80ac762e\"}}},\"glyph\":{\"type\":\"object\",\"name\":\"Scatter\",\"id\":\"c8a9ced2-7c5a-4c37-a41a-157c3032f2ce\",\"attributes\":{\"tags\":[\"apply_ranges\"],\"x\":{\"type\":\"field\",\"field\":\"recency\"},\"y\":{\"type\":\"field\",\"field\":\"monetary\"},\"size\":{\"type\":\"value\",\"value\":5.477225575051661},\"line_color\":{\"type\":\"value\",\"value\":\"#e5ae38\"},\"fill_color\":{\"type\":\"value\",\"value\":\"#e5ae38\"},\"hatch_color\":{\"type\":\"value\",\"value\":\"#e5ae38\"}}},\"selection_glyph\":{\"type\":\"object\",\"name\":\"Scatter\",\"id\":\"c32bb30c-76f7-456d-bb75-ea4b45f24587\",\"attributes\":{\"tags\":[\"apply_ranges\"],\"x\":{\"type\":\"field\",\"field\":\"recency\"},\"y\":{\"type\":\"field\",\"field\":\"monetary\"},\"size\":{\"type\":\"value\",\"value\":5.477225575051661},\"angle\":{\"type\":\"value\",\"value\":0.0},\"line_color\":{\"type\":\"value\",\"value\":\"#e5ae38\"},\"line_alpha\":{\"type\":\"value\",\"value\":1.0},\"line_width\":{\"type\":\"value\",\"value\":1},\"line_join\":{\"type\":\"value\",\"value\":\"bevel\"},\"line_cap\":{\"type\":\"value\",\"value\":\"butt\"},\"line_dash\":{\"type\":\"value\",\"value\":[]},\"line_dash_offset\":{\"type\":\"value\",\"value\":0},\"fill_color\":{\"type\":\"value\",\"value\":\"#e5ae38\"},\"fill_alpha\":{\"type\":\"value\",\"value\":1.0},\"hatch_color\":{\"type\":\"value\",\"value\":\"#e5ae38\"},\"hatch_alpha\":{\"type\":\"value\",\"value\":1.0},\"hatch_scale\":{\"type\":\"value\",\"value\":12.0},\"hatch_pattern\":{\"type\":\"value\",\"value\":null},\"hatch_weight\":{\"type\":\"value\",\"value\":1.0},\"marker\":{\"type\":\"value\",\"value\":\"circle\"}}},\"nonselection_glyph\":{\"type\":\"object\",\"name\":\"Scatter\",\"id\":\"f61c937d-14b9-442a-a918-c971d81ad29b\",\"attributes\":{\"tags\":[\"apply_ranges\"],\"x\":{\"type\":\"field\",\"field\":\"recency\"},\"y\":{\"type\":\"field\",\"field\":\"monetary\"},\"size\":{\"type\":\"value\",\"value\":5.477225575051661},\"line_color\":{\"type\":\"value\",\"value\":\"#e5ae38\"},\"line_alpha\":{\"type\":\"value\",\"value\":0.1},\"fill_color\":{\"type\":\"value\",\"value\":\"#e5ae38\"},\"fill_alpha\":{\"type\":\"value\",\"value\":0.1},\"hatch_color\":{\"type\":\"value\",\"value\":\"#e5ae38\"},\"hatch_alpha\":{\"type\":\"value\",\"value\":0.1}}},\"muted_glyph\":{\"type\":\"object\",\"name\":\"Scatter\",\"id\":\"a35a8f85-3773-45de-a47b-adcc1e74273b\",\"attributes\":{\"tags\":[\"apply_ranges\"],\"x\":{\"type\":\"field\",\"field\":\"recency\"},\"y\":{\"type\":\"field\",\"field\":\"monetary\"},\"size\":{\"type\":\"value\",\"value\":5.477225575051661},\"line_color\":{\"type\":\"value\",\"value\":\"#e5ae38\"},\"line_alpha\":{\"type\":\"value\",\"value\":0.2},\"fill_color\":{\"type\":\"value\",\"value\":\"#e5ae38\"},\"fill_alpha\":{\"type\":\"value\",\"value\":0.2},\"hatch_color\":{\"type\":\"value\",\"value\":\"#e5ae38\"},\"hatch_alpha\":{\"type\":\"value\",\"value\":0.2}}}}},{\"type\":\"object\",\"name\":\"GlyphRenderer\",\"id\":\"76ac9cf0-1572-4743-9a0f-d7444504f627\",\"attributes\":{\"name\":\"2\",\"data_source\":{\"type\":\"object\",\"name\":\"ColumnDataSource\",\"id\":\"9bad433e-d9f9-47e4-8117-ad63edc75e8e\",\"attributes\":{\"selected\":{\"type\":\"object\",\"name\":\"Selection\",\"id\":\"73d7d375-5294-4cca-b78b-40fa46ce73ac\",\"attributes\":{\"indices\":[],\"line_indices\":[]}},\"selection_policy\":{\"type\":\"object\",\"name\":\"UnionRenderers\",\"id\":\"448746dd-61ef-4dcc-b1cd-1f46d2cf691d\"},\"data\":{\"type\":\"map\",\"entries\":[[\"recency\",{\"type\":\"ndarray\",\"array\":{\"type\":\"bytes\",\"data\":\"DgAAADcAAAA=\"},\"shape\":[2],\"dtype\":\"int32\",\"order\":\"little\"}],[\"monetary\",{\"type\":\"ndarray\",\"array\":{\"type\":\"bytes\",\"data\":\"5+eYOUssK0DngIqfFcMqQA==\"},\"shape\":[2],\"dtype\":\"float64\",\"order\":\"little\"}],[\"customer_id\",{\"type\":\"ndarray\",\"array\":{\"type\":\"bytes\",\"data\":\"JQAAAFsAAAA=\"},\"shape\":[2],\"dtype\":\"int32\",\"order\":\"little\"}],[\"frequency\",{\"type\":\"ndarray\",\"array\":{\"type\":\"bytes\",\"data\":\"+XZkR/N/8z+gPTe0W9jyPw==\"},\"shape\":[2],\"dtype\":\"float64\",\"order\":\"little\"}],[\"segment\",{\"type\":\"ndarray\",\"array\":{\"type\":\"bytes\",\"data\":\"AgAAAAIAAAA=\"},\"shape\":[2],\"dtype\":\"int32\",\"order\":\"little\"}]]}}},\"view\":{\"type\":\"object\",\"name\":\"CDSView\",\"id\":\"6789f34f-9059-4bba-909b-27159d09b58c\",\"attributes\":{\"filter\":{\"type\":\"object\",\"name\":\"AllIndices\",\"id\":\"8552c6f4-8f1b-4700-8aac-1fb4cf9c9b1d\"}}},\"glyph\":{\"type\":\"object\",\"name\":\"Scatter\",\"id\":\"f380cd0b-6128-41fe-81b0-72b168503b83\",\"attributes\":{\"tags\":[\"apply_ranges\"],\"x\":{\"type\":\"field\",\"field\":\"recency\"},\"y\":{\"type\":\"field\",\"field\":\"monetary\"},\"size\":{\"type\":\"value\",\"value\":5.477225575051661},\"line_color\":{\"type\":\"value\",\"value\":\"#6d904f\"},\"fill_color\":{\"type\":\"value\",\"value\":\"#6d904f\"},\"hatch_color\":{\"type\":\"value\",\"value\":\"#6d904f\"}}},\"selection_glyph\":{\"type\":\"object\",\"name\":\"Scatter\",\"id\":\"9505cb69-e53c-4e1a-9fff-42787613db6a\",\"attributes\":{\"tags\":[\"apply_ranges\"],\"x\":{\"type\":\"field\",\"field\":\"recency\"},\"y\":{\"type\":\"field\",\"field\":\"monetary\"},\"size\":{\"type\":\"value\",\"value\":5.477225575051661},\"angle\":{\"type\":\"value\",\"value\":0.0},\"line_color\":{\"type\":\"value\",\"value\":\"#6d904f\"},\"line_alpha\":{\"type\":\"value\",\"value\":1.0},\"line_width\":{\"type\":\"value\",\"value\":1},\"line_join\":{\"type\":\"value\",\"value\":\"bevel\"},\"line_cap\":{\"type\":\"value\",\"value\":\"butt\"},\"line_dash\":{\"type\":\"value\",\"value\":[]},\"line_dash_offset\":{\"type\":\"value\",\"value\":0},\"fill_color\":{\"type\":\"value\",\"value\":\"#6d904f\"},\"fill_alpha\":{\"type\":\"value\",\"value\":1.0},\"hatch_color\":{\"type\":\"value\",\"value\":\"#6d904f\"},\"hatch_alpha\":{\"type\":\"value\",\"value\":1.0},\"hatch_scale\":{\"type\":\"value\",\"value\":12.0},\"hatch_pattern\":{\"type\":\"value\",\"value\":null},\"hatch_weight\":{\"type\":\"value\",\"value\":1.0},\"marker\":{\"type\":\"value\",\"value\":\"circle\"}}},\"nonselection_glyph\":{\"type\":\"object\",\"name\":\"Scatter\",\"id\":\"9b2878a3-d020-4863-a453-7594169abffd\",\"attributes\":{\"tags\":[\"apply_ranges\"],\"x\":{\"type\":\"field\",\"field\":\"recency\"},\"y\":{\"type\":\"field\",\"field\":\"monetary\"},\"size\":{\"type\":\"value\",\"value\":5.477225575051661},\"line_color\":{\"type\":\"value\",\"value\":\"#6d904f\"},\"line_alpha\":{\"type\":\"value\",\"value\":0.1},\"fill_color\":{\"type\":\"value\",\"value\":\"#6d904f\"},\"fill_alpha\":{\"type\":\"value\",\"value\":0.1},\"hatch_color\":{\"type\":\"value\",\"value\":\"#6d904f\"},\"hatch_alpha\":{\"type\":\"value\",\"value\":0.1}}},\"muted_glyph\":{\"type\":\"object\",\"name\":\"Scatter\",\"id\":\"0076c1cb-18fb-46a9-9b5b-b760d59fb163\",\"attributes\":{\"tags\":[\"apply_ranges\"],\"x\":{\"type\":\"field\",\"field\":\"recency\"},\"y\":{\"type\":\"field\",\"field\":\"monetary\"},\"size\":{\"type\":\"value\",\"value\":5.477225575051661},\"line_color\":{\"type\":\"value\",\"value\":\"#6d904f\"},\"line_alpha\":{\"type\":\"value\",\"value\":0.2},\"fill_color\":{\"type\":\"value\",\"value\":\"#6d904f\"},\"fill_alpha\":{\"type\":\"value\",\"value\":0.2},\"hatch_color\":{\"type\":\"value\",\"value\":\"#6d904f\"},\"hatch_alpha\":{\"type\":\"value\",\"value\":0.2}}}}}],\"toolbar\":{\"type\":\"object\",\"name\":\"Toolbar\",\"id\":\"6fef4e31-7a37-4af8-b8c2-2be012113a52\",\"attributes\":{\"tools\":[{\"type\":\"object\",\"name\":\"WheelZoomTool\",\"id\":\"b4d4141a-79d8-4b28-8bb7-b4e64ec031d9\",\"attributes\":{\"tags\":[\"hv_created\"],\"renderers\":\"auto\",\"zoom_together\":\"none\"}},{\"type\":\"object\",\"name\":\"HoverTool\",\"id\":\"c77d2023-12fc-45a0-99c8-04355103c8da\",\"attributes\":{\"tags\":[\"hv_created\"],\"renderers\":[{\"id\":\"56088831-434f-436a-9e15-0754ea4e14c5\"},{\"id\":\"5fa68cbb-9219-477b-bbe9-ee774e19bd91\"},{\"id\":\"cfdb73db-c756-4824-8191-8236c2e611de\"},{\"id\":\"76ac9cf0-1572-4743-9a0f-d7444504f627\"}],\"tooltips\":[[\"segment\",\"@{segment}\"],[\"recency\",\"@{recency}\"],[\"monetary\",\"@{monetary}\"],[\"customer_id\",\"@{customer_id}\"],[\"frequency\",\"@{frequency}\"]]}},{\"type\":\"object\",\"name\":\"SaveTool\",\"id\":\"9ce54208-415c-4c08-aa55-17aa734ca81f\"},{\"type\":\"object\",\"name\":\"PanTool\",\"id\":\"257938e8-6cfc-4b70-a784-63fd2eb89b1a\"},{\"type\":\"object\",\"name\":\"BoxZoomTool\",\"id\":\"dc466a82-7b67-4492-aefc-257eaf50bad6\",\"attributes\":{\"overlay\":{\"type\":\"object\",\"name\":\"BoxAnnotation\",\"id\":\"164a4914-f299-45a6-966d-5a1869d715f6\",\"attributes\":{\"syncable\":false,\"line_color\":\"black\",\"line_alpha\":1.0,\"line_width\":2,\"line_dash\":[4,4],\"fill_color\":\"lightgrey\",\"fill_alpha\":0.5,\"level\":\"overlay\",\"visible\":false,\"left\":{\"type\":\"number\",\"value\":\"nan\"},\"right\":{\"type\":\"number\",\"value\":\"nan\"},\"top\":{\"type\":\"number\",\"value\":\"nan\"},\"bottom\":{\"type\":\"number\",\"value\":\"nan\"},\"left_units\":\"canvas\",\"right_units\":\"canvas\",\"top_units\":\"canvas\",\"bottom_units\":\"canvas\",\"handles\":{\"type\":\"object\",\"name\":\"BoxInteractionHandles\",\"id\":\"2e642bd1-a2de-4f9f-a311-765bd7934ea0\",\"attributes\":{\"all\":{\"type\":\"object\",\"name\":\"AreaVisuals\",\"id\":\"fc63a81d-61e2-494b-ac9e-f059dea2fb49\",\"attributes\":{\"fill_color\":\"white\",\"hover_fill_color\":\"lightgray\"}}}}}}}},{\"type\":\"object\",\"name\":\"ResetTool\",\"id\":\"8cc5d2f9-9176-47a3-a1c8-2e8b2871ef9b\"}],\"active_drag\":{\"id\":\"257938e8-6cfc-4b70-a784-63fd2eb89b1a\"},\"active_scroll\":{\"id\":\"b4d4141a-79d8-4b28-8bb7-b4e64ec031d9\"}}},\"left\":[{\"type\":\"object\",\"name\":\"LinearAxis\",\"id\":\"952186f7-4547-49ec-9c8c-879df7854263\",\"attributes\":{\"ticker\":{\"type\":\"object\",\"name\":\"BasicTicker\",\"id\":\"53cc02f7-f1bf-4252-99dc-b514e72b45fd\",\"attributes\":{\"mantissas\":[1,2,5]}},\"formatter\":{\"type\":\"object\",\"name\":\"BasicTickFormatter\",\"id\":\"943f1733-ed7a-4584-a8da-6a7c76619f99\"},\"axis_label\":\"monetary\",\"major_label_policy\":{\"type\":\"object\",\"name\":\"AllLabels\",\"id\":\"1e9eeb0c-c060-4214-8b6b-521624904a1f\"}}}],\"right\":[{\"type\":\"object\",\"name\":\"Legend\",\"id\":\"b2ec2fe1-8faa-46be-bcfe-7f113c5d7791\",\"attributes\":{\"location\":[0,0],\"title\":\"segment\",\"click_policy\":\"mute\",\"items\":[{\"type\":\"object\",\"name\":\"LegendItem\",\"id\":\"8046f384-0bcb-41d2-978b-0eed89be28dc\",\"attributes\":{\"label\":{\"type\":\"value\",\"value\":\"1\"},\"renderers\":[{\"id\":\"56088831-434f-436a-9e15-0754ea4e14c5\"}]}},{\"type\":\"object\",\"name\":\"LegendItem\",\"id\":\"5eec0a95-8b20-4d20-b302-f43e939b6374\",\"attributes\":{\"label\":{\"type\":\"value\",\"value\":\"0\"},\"renderers\":[{\"id\":\"5fa68cbb-9219-477b-bbe9-ee774e19bd91\"}]}},{\"type\":\"object\",\"name\":\"LegendItem\",\"id\":\"fc7ea045-671d-458f-9bd5-fd8070b4fc0d\",\"attributes\":{\"label\":{\"type\":\"value\",\"value\":\"3\"},\"renderers\":[{\"id\":\"cfdb73db-c756-4824-8191-8236c2e611de\"}]}},{\"type\":\"object\",\"name\":\"LegendItem\",\"id\":\"8261033e-a00e-4958-9286-59ffd0d62701\",\"attributes\":{\"label\":{\"type\":\"value\",\"value\":\"2\"},\"renderers\":[{\"id\":\"76ac9cf0-1572-4743-9a0f-d7444504f627\"}]}}]}}],\"below\":[{\"type\":\"object\",\"name\":\"LinearAxis\",\"id\":\"2f501551-cfef-42fb-8b23-3f7d34c84b9f\",\"attributes\":{\"ticker\":{\"type\":\"object\",\"name\":\"BasicTicker\",\"id\":\"8aecd9d8-ee6c-4462-8a89-9dba6a229e2a\",\"attributes\":{\"mantissas\":[1,2,5]}},\"formatter\":{\"type\":\"object\",\"name\":\"BasicTickFormatter\",\"id\":\"49b04ec0-c5cf-46a2-99c7-fc38cd6a6f3d\"},\"axis_label\":\"recency\",\"major_label_policy\":{\"type\":\"object\",\"name\":\"AllLabels\",\"id\":\"6418feb5-3ce6-4207-ba32-74558d4abb2c\"}}}],\"center\":[{\"type\":\"object\",\"name\":\"Grid\",\"id\":\"fb7f19ed-d2b6-404b-af03-27d84b3d0649\",\"attributes\":{\"axis\":{\"id\":\"2f501551-cfef-42fb-8b23-3f7d34c84b9f\"},\"grid_line_color\":null}},{\"type\":\"object\",\"name\":\"Grid\",\"id\":\"2f3c622a-124e-4323-8846-9ed1d4457fca\",\"attributes\":{\"dimension\":1,\"axis\":{\"id\":\"952186f7-4547-49ec-9c8c-879df7854263\"},\"grid_line_color\":null}}],\"min_border_top\":10,\"min_border_bottom\":10,\"min_border_left\":10,\"min_border_right\":10,\"output_backend\":\"webgl\"}},{\"type\":\"object\",\"name\":\"Spacer\",\"id\":\"50967cb1-6f59-4883-929f-7bd045d08b1e\",\"attributes\":{\"name\":\"HSpacer07008\",\"stylesheets\":[\"\\n:host(.pn-loading):before, .pn-loading:before {\\n  background-color: #c3c3c3;\\n  mask-size: auto calc(min(50%, 400px));\\n  -webkit-mask-size: auto calc(min(50%, 400px));\\n}\",{\"id\":\"23b58523-d5bc-40a0-9d8d-b53d1f2540b7\"},{\"id\":\"018ee775-5bcc-479b-b4bd-f6789e37e93c\"},{\"id\":\"6e11ce39-3183-49d7-821c-a1223e484049\"}],\"margin\":0,\"sizing_mode\":\"stretch_width\",\"align\":\"start\"}}]}}],\"defs\":[{\"type\":\"model\",\"name\":\"ReactiveHTML1\"},{\"type\":\"model\",\"name\":\"FlexBox1\",\"properties\":[{\"name\":\"align_content\",\"kind\":\"Any\",\"default\":\"flex-start\"},{\"name\":\"align_items\",\"kind\":\"Any\",\"default\":\"flex-start\"},{\"name\":\"flex_direction\",\"kind\":\"Any\",\"default\":\"row\"},{\"name\":\"flex_wrap\",\"kind\":\"Any\",\"default\":\"wrap\"},{\"name\":\"gap\",\"kind\":\"Any\",\"default\":\"\"},{\"name\":\"justify_content\",\"kind\":\"Any\",\"default\":\"flex-start\"}]},{\"type\":\"model\",\"name\":\"FloatPanel1\",\"properties\":[{\"name\":\"config\",\"kind\":\"Any\",\"default\":{\"type\":\"map\"}},{\"name\":\"contained\",\"kind\":\"Any\",\"default\":true},{\"name\":\"position\",\"kind\":\"Any\",\"default\":\"right-top\"},{\"name\":\"offsetx\",\"kind\":\"Any\",\"default\":null},{\"name\":\"offsety\",\"kind\":\"Any\",\"default\":null},{\"name\":\"theme\",\"kind\":\"Any\",\"default\":\"primary\"},{\"name\":\"status\",\"kind\":\"Any\",\"default\":\"normalized\"}]},{\"type\":\"model\",\"name\":\"GridStack1\",\"properties\":[{\"name\":\"mode\",\"kind\":\"Any\",\"default\":\"warn\"},{\"name\":\"ncols\",\"kind\":\"Any\",\"default\":null},{\"name\":\"nrows\",\"kind\":\"Any\",\"default\":null},{\"name\":\"allow_resize\",\"kind\":\"Any\",\"default\":true},{\"name\":\"allow_drag\",\"kind\":\"Any\",\"default\":true},{\"name\":\"state\",\"kind\":\"Any\",\"default\":[]}]},{\"type\":\"model\",\"name\":\"drag1\",\"properties\":[{\"name\":\"slider_width\",\"kind\":\"Any\",\"default\":5},{\"name\":\"slider_color\",\"kind\":\"Any\",\"default\":\"black\"},{\"name\":\"value\",\"kind\":\"Any\",\"default\":50}]},{\"type\":\"model\",\"name\":\"click1\",\"properties\":[{\"name\":\"terminal_output\",\"kind\":\"Any\",\"default\":\"\"},{\"name\":\"debug_name\",\"kind\":\"Any\",\"default\":\"\"},{\"name\":\"clears\",\"kind\":\"Any\",\"default\":0}]},{\"type\":\"model\",\"name\":\"FastWrapper1\",\"properties\":[{\"name\":\"object\",\"kind\":\"Any\",\"default\":null},{\"name\":\"style\",\"kind\":\"Any\",\"default\":null}]},{\"type\":\"model\",\"name\":\"NotificationAreaBase1\",\"properties\":[{\"name\":\"js_events\",\"kind\":\"Any\",\"default\":{\"type\":\"map\"}},{\"name\":\"position\",\"kind\":\"Any\",\"default\":\"bottom-right\"},{\"name\":\"_clear\",\"kind\":\"Any\",\"default\":0}]},{\"type\":\"model\",\"name\":\"NotificationArea1\",\"properties\":[{\"name\":\"js_events\",\"kind\":\"Any\",\"default\":{\"type\":\"map\"}},{\"name\":\"notifications\",\"kind\":\"Any\",\"default\":[]},{\"name\":\"position\",\"kind\":\"Any\",\"default\":\"bottom-right\"},{\"name\":\"_clear\",\"kind\":\"Any\",\"default\":0},{\"name\":\"types\",\"kind\":\"Any\",\"default\":[{\"type\":\"map\",\"entries\":[[\"type\",\"warning\"],[\"background\",\"#ffc107\"],[\"icon\",{\"type\":\"map\",\"entries\":[[\"className\",\"fas fa-exclamation-triangle\"],[\"tagName\",\"i\"],[\"color\",\"white\"]]}]]},{\"type\":\"map\",\"entries\":[[\"type\",\"info\"],[\"background\",\"#007bff\"],[\"icon\",{\"type\":\"map\",\"entries\":[[\"className\",\"fas fa-info-circle\"],[\"tagName\",\"i\"],[\"color\",\"white\"]]}]]}]}]},{\"type\":\"model\",\"name\":\"Notification\",\"properties\":[{\"name\":\"background\",\"kind\":\"Any\",\"default\":null},{\"name\":\"duration\",\"kind\":\"Any\",\"default\":3000},{\"name\":\"icon\",\"kind\":\"Any\",\"default\":null},{\"name\":\"message\",\"kind\":\"Any\",\"default\":\"\"},{\"name\":\"notification_type\",\"kind\":\"Any\",\"default\":null},{\"name\":\"_destroyed\",\"kind\":\"Any\",\"default\":false}]},{\"type\":\"model\",\"name\":\"TemplateActions1\",\"properties\":[{\"name\":\"open_modal\",\"kind\":\"Any\",\"default\":0},{\"name\":\"close_modal\",\"kind\":\"Any\",\"default\":0}]},{\"type\":\"model\",\"name\":\"BootstrapTemplateActions1\",\"properties\":[{\"name\":\"open_modal\",\"kind\":\"Any\",\"default\":0},{\"name\":\"close_modal\",\"kind\":\"Any\",\"default\":0}]},{\"type\":\"model\",\"name\":\"TemplateEditor1\",\"properties\":[{\"name\":\"layout\",\"kind\":\"Any\",\"default\":[]}]},{\"type\":\"model\",\"name\":\"MaterialTemplateActions1\",\"properties\":[{\"name\":\"open_modal\",\"kind\":\"Any\",\"default\":0},{\"name\":\"close_modal\",\"kind\":\"Any\",\"default\":0}]},{\"type\":\"model\",\"name\":\"ReactiveESM1\"},{\"type\":\"model\",\"name\":\"JSComponent1\"},{\"type\":\"model\",\"name\":\"ReactComponent1\"},{\"type\":\"model\",\"name\":\"AnyWidgetComponent1\"},{\"type\":\"model\",\"name\":\"request_value1\",\"properties\":[{\"name\":\"fill\",\"kind\":\"Any\",\"default\":\"none\"},{\"name\":\"_synced\",\"kind\":\"Any\",\"default\":null},{\"name\":\"_request_sync\",\"kind\":\"Any\",\"default\":0}]}]}};\n",
       "  var render_items = [{\"docid\":\"1e05727f-484b-4024-905a-9d282d43f5c5\",\"roots\":{\"9b525a11-7fab-4256-9bfd-16f26b35f522\":\"df5a2914-2f17-4553-acd4-4d37fea1a4b9\"},\"root_ids\":[\"9b525a11-7fab-4256-9bfd-16f26b35f522\"]}];\n",
       "  var docs = Object.values(docs_json)\n",
       "  if (!docs) {\n",
       "    return\n",
       "  }\n",
       "  const py_version = docs[0].version.replace('rc', '-rc.').replace('.dev', '-dev.')\n",
       "  async function embed_document(root) {\n",
       "    var Bokeh = get_bokeh(root)\n",
       "    await Bokeh.embed.embed_items_notebook(docs_json, render_items);\n",
       "    for (const render_item of render_items) {\n",
       "      for (const root_id of render_item.root_ids) {\n",
       "\tconst id_el = document.getElementById(root_id)\n",
       "\tif (id_el.children.length && id_el.children[0].hasAttribute('data-root-id')) {\n",
       "\t  const root_el = id_el.children[0]\n",
       "\t  root_el.id = root_el.id + '-rendered'\n",
       "\t  for (const child of root_el.children) {\n",
       "            // Ensure JupyterLab does not capture keyboard shortcuts\n",
       "            // see: https://jupyterlab.readthedocs.io/en/4.1.x/extension/notebook.html#keyboard-interaction-model\n",
       "\t    child.setAttribute('data-lm-suppress-shortcuts', 'true')\n",
       "\t  }\n",
       "\t}\n",
       "      }\n",
       "    }\n",
       "  }\n",
       "  function get_bokeh(root) {\n",
       "    if (root.Bokeh === undefined) {\n",
       "      return null\n",
       "    } else if (root.Bokeh.version !== py_version) {\n",
       "      if (root.Bokeh.versions === undefined || !root.Bokeh.versions.has(py_version)) {\n",
       "\treturn null\n",
       "      }\n",
       "      return root.Bokeh.versions.get(py_version);\n",
       "    } else if (root.Bokeh.version === py_version) {\n",
       "      return root.Bokeh\n",
       "    }\n",
       "    return null\n",
       "  }\n",
       "  function is_loaded(root) {\n",
       "    var Bokeh = get_bokeh(root)\n",
       "    return (Bokeh != null && Bokeh.Panel !== undefined)\n",
       "  }\n",
       "  if (is_loaded(root)) {\n",
       "    embed_document(root);\n",
       "  } else {\n",
       "    var attempts = 0;\n",
       "    var timer = setInterval(function(root) {\n",
       "      if (is_loaded(root)) {\n",
       "        clearInterval(timer);\n",
       "        embed_document(root);\n",
       "      } else if (document.readyState == \"complete\") {\n",
       "        attempts++;\n",
       "        if (attempts > 200) {\n",
       "          clearInterval(timer);\n",
       "\t  var Bokeh = get_bokeh(root)\n",
       "\t  if (Bokeh == null || Bokeh.Panel == null) {\n",
       "            console.warn(\"Panel: ERROR: Unable to run Panel code because Bokeh or Panel library is missing\");\n",
       "\t  } else {\n",
       "\t    console.warn(\"Panel: WARNING: Attempting to render but not all required libraries could be resolved.\")\n",
       "\t    embed_document(root)\n",
       "\t  }\n",
       "        }\n",
       "      }\n",
       "    }, 25, root)\n",
       "  }\n",
       "})(window);</script>"
      ],
      "text/plain": [
       ":NdOverlay   [segment]\n",
       "   :Scatter   [recency]   (monetary,customer_id,frequency,segment)"
      ]
     },
     "metadata": {
      "application/vnd.holoviews_exec.v0+json": {
       "id": "9b525a11-7fab-4256-9bfd-16f26b35f522"
      }
     },
     "output_type": "display_data"
    },
    {
     "name": "stdout",
     "output_type": "stream",
     "text": [
      "---------------------------------------------------------------CALINSKI HARABASZ SCORE----------------------------------------------------------------\n",
      "[{'k': 2, 'score': 64.33816771615149}, {'k': 3, 'score': 56.1656851278826}, {'k': 4, 'score': 56.866433254066415}, {'k': 5, 'score': 58.83465561032737}]\n",
      "Best k value = 2 (ch_score score = 64.338)\n"
     ]
    },
    {
     "data": {},
     "metadata": {},
     "output_type": "display_data"
    },
    {
     "data": {
      "application/vnd.holoviews_exec.v0+json": "",
      "text/html": [
       "<div id='d504e499-99fc-4856-9ebd-10eda046ba0e'>\n",
       "  <div id=\"b63e01af-fcad-459c-992b-bf1f8a80a869\" data-root-id=\"d504e499-99fc-4856-9ebd-10eda046ba0e\" style=\"display: contents;\"></div>\n",
       "</div>\n",
       "<script type=\"application/javascript\">(function(root) {\n",
       "  var docs_json = {\"dee2e861-5438-4606-a594-bb33cd100ea6\":{\"version\":\"3.5.2\",\"title\":\"Bokeh Application\",\"roots\":[{\"type\":\"object\",\"name\":\"Row\",\"id\":\"d504e499-99fc-4856-9ebd-10eda046ba0e\",\"attributes\":{\"name\":\"Row07151\",\"tags\":[\"embedded\"],\"stylesheets\":[\"\\n:host(.pn-loading):before, .pn-loading:before {\\n  background-color: #c3c3c3;\\n  mask-size: auto calc(min(50%, 400px));\\n  -webkit-mask-size: auto calc(min(50%, 400px));\\n}\",{\"type\":\"object\",\"name\":\"ImportedStyleSheet\",\"id\":\"f1f9cf76-35bb-4292-998e-d55f9df56149\",\"attributes\":{\"url\":\"https://cdn.holoviz.org/panel/1.5.3/dist/css/loading.css\"}},{\"type\":\"object\",\"name\":\"ImportedStyleSheet\",\"id\":\"0057c695-c762-4bbc-8d85-a23e4a566bc3\",\"attributes\":{\"url\":\"https://cdn.holoviz.org/panel/1.5.3/dist/css/listpanel.css\"}},{\"type\":\"object\",\"name\":\"ImportedStyleSheet\",\"id\":\"59fc5618-21be-42f2-90e8-aa86faaf7613\",\"attributes\":{\"url\":\"https://cdn.holoviz.org/panel/1.5.3/dist/bundled/theme/default.css\"}},{\"type\":\"object\",\"name\":\"ImportedStyleSheet\",\"id\":\"6903f582-6b07-4f4c-8896-6d54ee6c6e12\",\"attributes\":{\"url\":\"https://cdn.holoviz.org/panel/1.5.3/dist/bundled/theme/native.css\"}}],\"min_width\":700,\"margin\":0,\"sizing_mode\":\"stretch_width\",\"align\":\"start\",\"children\":[{\"type\":\"object\",\"name\":\"Spacer\",\"id\":\"354d2279-40a9-4c47-8b33-ed30a7c02491\",\"attributes\":{\"name\":\"HSpacer07155\",\"stylesheets\":[\"\\n:host(.pn-loading):before, .pn-loading:before {\\n  background-color: #c3c3c3;\\n  mask-size: auto calc(min(50%, 400px));\\n  -webkit-mask-size: auto calc(min(50%, 400px));\\n}\",{\"id\":\"f1f9cf76-35bb-4292-998e-d55f9df56149\"},{\"id\":\"59fc5618-21be-42f2-90e8-aa86faaf7613\"},{\"id\":\"6903f582-6b07-4f4c-8896-6d54ee6c6e12\"}],\"margin\":0,\"sizing_mode\":\"stretch_width\",\"align\":\"start\"}},{\"type\":\"object\",\"name\":\"Figure\",\"id\":\"9029f104-3034-4b8d-a9c6-f386db8c201b\",\"attributes\":{\"width\":700,\"height\":300,\"margin\":[5,10],\"sizing_mode\":\"fixed\",\"align\":\"start\",\"x_range\":{\"type\":\"object\",\"name\":\"Range1d\",\"id\":\"c2b8e53e-a552-4242-b9d2-13ad762778e9\",\"attributes\":{\"name\":\"recency\",\"tags\":[[[\"recency\",null]],[]],\"start\":-21.17142857142857,\"end\":515.1714285714286,\"reset_start\":-21.17142857142857,\"reset_end\":515.1714285714286}},\"y_range\":{\"type\":\"object\",\"name\":\"Range1d\",\"id\":\"0485514d-000f-497b-a30c-3aa8e8806e2d\",\"attributes\":{\"name\":\"monetary\",\"tags\":[[[\"monetary\",null]],{\"type\":\"map\",\"entries\":[[\"invert_yaxis\",false],[\"autorange\",false]]}],\"start\":8.672644096702083,\"end\":14.03322663243378,\"reset_start\":8.672644096702083,\"reset_end\":14.03322663243378}},\"x_scale\":{\"type\":\"object\",\"name\":\"LinearScale\",\"id\":\"66d5195d-c250-4512-a982-d012035fb794\"},\"y_scale\":{\"type\":\"object\",\"name\":\"LinearScale\",\"id\":\"4133bc11-ca86-491b-8525-11b3aaf30c8a\"},\"title\":{\"type\":\"object\",\"name\":\"Title\",\"id\":\"65825c31-b48a-47ec-9e4e-25cbce3e8d93\",\"attributes\":{\"text_color\":\"black\",\"text_font_size\":\"12pt\"}},\"renderers\":[{\"type\":\"object\",\"name\":\"GlyphRenderer\",\"id\":\"85f6e697-b2d1-41cf-bfdb-7b8a478c7f2d\",\"attributes\":{\"name\":\"0\",\"data_source\":{\"type\":\"object\",\"name\":\"ColumnDataSource\",\"id\":\"330b93e8-0b49-4353-8c05-812ee216b818\",\"attributes\":{\"selected\":{\"type\":\"object\",\"name\":\"Selection\",\"id\":\"d09f4566-5af7-4a31-830c-9b74a1504d01\",\"attributes\":{\"indices\":[],\"line_indices\":[]}},\"selection_policy\":{\"type\":\"object\",\"name\":\"UnionRenderers\",\"id\":\"19d0e084-4ddf-47fc-af74-01700226b98b\"},\"data\":{\"type\":\"map\",\"entries\":[[\"recency\",{\"type\":\"ndarray\",\"array\":{\"type\":\"bytes\",\"data\":\"twAAALwAAACEAAAApQAAACgAAACnAAAAggAAAC4AAAAMAAAAYQAAAMIAAAC6AAAAqQAAABkAAACDAAAASwAAAEUAAAC1AAAArgAAAIMAAAAOAAAAIQAAAEsAAAA9AAAAwQAAAAAAAABTAAAAxAAAAEQAAADBAAAAxQAAALYAAACXAAAAqQAAABAAAAB9AAAAwQAAALIAAABnAAAAagAAAAcAAAB1AAAAsQAAALQAAAAnAAAAtQAAABgAAABMAAAAaAAAAAABAACkAAAAMgAAADAAAAA3AAAA\"},\"shape\":[54],\"dtype\":\"int32\",\"order\":\"little\"}],[\"monetary\",{\"type\":\"ndarray\",\"array\":{\"type\":\"bytes\",\"data\":\"pn+61XFeJ0Bw2fhQz18nQI7RoAtNZydAq6q/FtXJJkDtoCfkZ+ImQPk9XnGvYyhAwmvNEoQyJ0B/YM9YZhEnQK3kk8E7ECdAJNL2VzU9J0BaR1cMjJMnQPp5aC5dqydA5rfNeq+lJkDhvu66XWYnQDLkC8eISSdAsr4VKBUBJ0CiGQdPruMnQOv2/A0z8CdASn6myBuKJkA8vTcz5XImQOfnmDlLLCtAAdRSXiyXJkBE+Vj2tLYmQO1U+WwkiyZA5mZZuGnFJkAQaw8WiNUnQBCsTHPR1SdANXGnnXxSJ0CvXI67aLolQAN1elpytCZAp0ZN1pZmJ0Dobg1cB+cmQGxjyesfLCdABxNivQ1sKEBdv9O3320mQKrER352HSdASfpfTEBVJ0BSkPEZGvgmQBpcRTxVpSdAVfeKH4YcJ0AVWaRDUrwnQOgdwhhgniZA+Sdo7BCGJkC1V081vm8mQAgunU0lPiZABkZY/mmrJkDWsWNhZVAnQKWqcXk6HyhAooxajIj8JUA+Jcbn/z4nQFjzp6516SVAXU6rVZFTJkCgTlghcKAnQOeAip8VwypA\"},\"shape\":[54],\"dtype\":\"float64\",\"order\":\"little\"}],[\"customer_id\",{\"type\":\"ndarray\",\"array\":{\"type\":\"bytes\",\"data\":\"AQAAAAMAAAAFAAAABgAAAAcAAAAIAAAACQAAAAoAAAALAAAADAAAAA8AAAARAAAAEwAAABUAAAAWAAAAGAAAABsAAAAdAAAAHwAAACAAAAAlAAAAJgAAACcAAAAoAAAAKgAAACsAAAAsAAAALgAAADAAAAAzAAAANQAAADoAAAA9AAAAPgAAAD8AAABAAAAAQQAAAEIAAABDAAAARQAAAEcAAABIAAAASgAAAEsAAABPAAAAUAAAAFEAAABSAAAAUwAAAFQAAABVAAAAWAAAAFoAAABbAAAA\"},\"shape\":[54],\"dtype\":\"int32\",\"order\":\"little\"}],[\"frequency\",{\"type\":\"ndarray\",\"array\":{\"type\":\"bytes\",\"data\":\"REQLbI4Q6D+KO75yNr7rP4o7vnI2vus/REQLbI4Q6D9ERAtsjhDoP4o7vnI2vus/REQLbI4Q6D9ERAtsjhDoP0REC2yOEOg/REQLbI4Q6D9ERAtsjhDoP0REC2yOEOg/REQLbI4Q6D+KO75yNr7rP0REC2yOEOg/REQLbI4Q6D+KO75yNr7rP0REC2yOEOg/REQLbI4Q6D9ERAtsjhDoP/l2ZEfzf/M/REQLbI4Q6D9h8XxHPVrhP0REC2yOEOg/REQLbI4Q6D+KO75yNr7rP4o7vnI2vus/REQLbI4Q6D9ERAtsjhDoP4o7vnI2vus/REQLbI4Q6D9ERAtsjhDoP0REC2yOEOg/KV3S5mQa7j9ERAtsjhDoP0REC2yOEOg/iju+cja+6z9ERAtsjhDoP0REC2yOEOg/REQLbI4Q6D9ERAtsjhDoP0REC2yOEOg/REQLbI4Q6D9ERAtsjhDoP2HxfEc9WuE/REQLbI4Q6D+KO75yNr7rPyld0uZkGu4/REQLbI4Q6D9ERAtsjhDoP0REC2yOEOg/REQLbI4Q6D8pXdLmZBruP6A9N7Rb2PI/\"},\"shape\":[54],\"dtype\":\"float64\",\"order\":\"little\"}],[\"segment\",{\"type\":\"ndarray\",\"array\":{\"type\":\"bytes\",\"data\":\"AAAAAAAAAAAAAAAAAAAAAAAAAAAAAAAAAAAAAAAAAAAAAAAAAAAAAAAAAAAAAAAAAAAAAAAAAAAAAAAAAAAAAAAAAAAAAAAAAAAAAAAAAAAAAAAAAAAAAAAAAAAAAAAAAAAAAAAAAAAAAAAAAAAAAAAAAAAAAAAAAAAAAAAAAAAAAAAAAAAAAAAAAAAAAAAAAAAAAAAAAAAAAAAAAAAAAAAAAAAAAAAAAAAAAAAAAAAAAAAAAAAAAAAAAAAAAAAAAAAAAAAAAAAAAAAAAAAAAAAAAAAAAAAA\"},\"shape\":[54],\"dtype\":\"int32\",\"order\":\"little\"}]]}}},\"view\":{\"type\":\"object\",\"name\":\"CDSView\",\"id\":\"b4c194f3-b807-461a-9bf7-d104b9306f8e\",\"attributes\":{\"filter\":{\"type\":\"object\",\"name\":\"AllIndices\",\"id\":\"49411dac-36a2-454a-bded-19a1ee3ea531\"}}},\"glyph\":{\"type\":\"object\",\"name\":\"Scatter\",\"id\":\"cdc97fa7-a3c5-4f81-ad7a-7579938ef710\",\"attributes\":{\"tags\":[\"apply_ranges\"],\"x\":{\"type\":\"field\",\"field\":\"recency\"},\"y\":{\"type\":\"field\",\"field\":\"monetary\"},\"size\":{\"type\":\"value\",\"value\":5.477225575051661},\"line_color\":{\"type\":\"value\",\"value\":\"#30a2da\"},\"fill_color\":{\"type\":\"value\",\"value\":\"#30a2da\"},\"hatch_color\":{\"type\":\"value\",\"value\":\"#30a2da\"}}},\"selection_glyph\":{\"type\":\"object\",\"name\":\"Scatter\",\"id\":\"34739f59-35de-44cf-8a57-ddddf3d8489b\",\"attributes\":{\"tags\":[\"apply_ranges\"],\"x\":{\"type\":\"field\",\"field\":\"recency\"},\"y\":{\"type\":\"field\",\"field\":\"monetary\"},\"size\":{\"type\":\"value\",\"value\":5.477225575051661},\"angle\":{\"type\":\"value\",\"value\":0.0},\"line_color\":{\"type\":\"value\",\"value\":\"#30a2da\"},\"line_alpha\":{\"type\":\"value\",\"value\":1.0},\"line_width\":{\"type\":\"value\",\"value\":1},\"line_join\":{\"type\":\"value\",\"value\":\"bevel\"},\"line_cap\":{\"type\":\"value\",\"value\":\"butt\"},\"line_dash\":{\"type\":\"value\",\"value\":[]},\"line_dash_offset\":{\"type\":\"value\",\"value\":0},\"fill_color\":{\"type\":\"value\",\"value\":\"#30a2da\"},\"fill_alpha\":{\"type\":\"value\",\"value\":1.0},\"hatch_color\":{\"type\":\"value\",\"value\":\"#30a2da\"},\"hatch_alpha\":{\"type\":\"value\",\"value\":1.0},\"hatch_scale\":{\"type\":\"value\",\"value\":12.0},\"hatch_pattern\":{\"type\":\"value\",\"value\":null},\"hatch_weight\":{\"type\":\"value\",\"value\":1.0},\"marker\":{\"type\":\"value\",\"value\":\"circle\"}}},\"nonselection_glyph\":{\"type\":\"object\",\"name\":\"Scatter\",\"id\":\"2a58c43c-7cab-48fb-8c91-c3b9eac406c8\",\"attributes\":{\"tags\":[\"apply_ranges\"],\"x\":{\"type\":\"field\",\"field\":\"recency\"},\"y\":{\"type\":\"field\",\"field\":\"monetary\"},\"size\":{\"type\":\"value\",\"value\":5.477225575051661},\"line_color\":{\"type\":\"value\",\"value\":\"#30a2da\"},\"line_alpha\":{\"type\":\"value\",\"value\":0.1},\"fill_color\":{\"type\":\"value\",\"value\":\"#30a2da\"},\"fill_alpha\":{\"type\":\"value\",\"value\":0.1},\"hatch_color\":{\"type\":\"value\",\"value\":\"#30a2da\"},\"hatch_alpha\":{\"type\":\"value\",\"value\":0.1}}},\"muted_glyph\":{\"type\":\"object\",\"name\":\"Scatter\",\"id\":\"f36705f7-4076-42e1-8e46-83be9177e555\",\"attributes\":{\"tags\":[\"apply_ranges\"],\"x\":{\"type\":\"field\",\"field\":\"recency\"},\"y\":{\"type\":\"field\",\"field\":\"monetary\"},\"size\":{\"type\":\"value\",\"value\":5.477225575051661},\"line_color\":{\"type\":\"value\",\"value\":\"#30a2da\"},\"line_alpha\":{\"type\":\"value\",\"value\":0.2},\"fill_color\":{\"type\":\"value\",\"value\":\"#30a2da\"},\"fill_alpha\":{\"type\":\"value\",\"value\":0.2},\"hatch_color\":{\"type\":\"value\",\"value\":\"#30a2da\"},\"hatch_alpha\":{\"type\":\"value\",\"value\":0.2}}}}},{\"type\":\"object\",\"name\":\"GlyphRenderer\",\"id\":\"e00ddf2d-8158-4ae5-9826-fe6249069226\",\"attributes\":{\"name\":\"1\",\"data_source\":{\"type\":\"object\",\"name\":\"ColumnDataSource\",\"id\":\"e1080bc5-8d10-40be-876b-aa4b9d3b0fd8\",\"attributes\":{\"selected\":{\"type\":\"object\",\"name\":\"Selection\",\"id\":\"008f1272-a6e6-4f44-a9d3-1c9e50578c81\",\"attributes\":{\"indices\":[],\"line_indices\":[]}},\"selection_policy\":{\"type\":\"object\",\"name\":\"UnionRenderers\",\"id\":\"c417d57e-bfbb-4c27-af41-c015a1093875\"},\"data\":{\"type\":\"map\",\"entries\":[[\"recency\",{\"type\":\"ndarray\",\"array\":{\"type\":\"bytes\",\"data\":\"1QAAALkBAAC9AAAA3wAAAI8BAADDAAAADQEAAA4BAAAsAQAAdgEAAHoBAAAEAQAA1wAAAPkAAAClAAAA2gEAAKgBAAA/AQAA2AAAAGIAAADFAAAAzwAAANYAAAC+AQAAfwAAAK0AAAD6AAAAbAEAAO4BAADhAQAA8wAAAM4BAAD5AAAAzwAAAIIBAADaAAAA9AAAAMMBAAA=\"},\"shape\":[38],\"dtype\":\"int32\",\"order\":\"little\"}],[\"monetary\",{\"type\":\"ndarray\",\"array\":{\"type\":\"bytes\",\"data\":\"XuD1sjAIJ0Ay64rgTL0nQAoxGDKJniVASgOoj/TRJUBaOSMYLz4mQHpuo+A90SRAU6WfuWKPJkCno1kn1XAmQNo6nUA2NiZAs1qISt79JECFyvwd/JAmQA+FrAcfWidAIaKDw3A9JkDQkr1HjuskQPSfrYpJXiRAWTSxx/x5JUCJL3bmDqAlQGxOdLzqpSVAgRo/BCgWJ0BPx8ipHD0iQJ7V2Jn9iCZA5ncrufV0JkBT0kOTwLYmQAPwzE0xwiZA9dvL7cfVJEBTGEy/xy8kQEpdaNSU5yZA5S2914gFJUAX3RpZWo8lQJNdwjzR+yRAmDypXJLtJUAqx/Im+KUlQDMWUNSY6CVAGtHowKkJJ0BXHzgDQlYmQJolQRfCKCZAedkB2wjtJECmUpmGB0kmQA==\"},\"shape\":[38],\"dtype\":\"float64\",\"order\":\"little\"}],[\"customer_id\",{\"type\":\"ndarray\",\"array\":{\"type\":\"bytes\",\"data\":\"AgAAAAQAAAANAAAADgAAABAAAAASAAAAFAAAABcAAAAZAAAAGgAAABwAAAAeAAAAIQAAACIAAAAjAAAAJAAAACkAAAAtAAAALwAAADEAAAAyAAAANAAAADYAAAA3AAAAOAAAADkAAAA7AAAAPAAAAEQAAABGAAAASQAAAEwAAABNAAAATgAAAFYAAABXAAAAWQAAAFwAAAA=\"},\"shape\":[38],\"dtype\":\"int32\",\"order\":\"little\"}],[\"frequency\",{\"type\":\"ndarray\",\"array\":{\"type\":\"bytes\",\"data\":\"YfF8Rz1a4T9ERAtsjhDoP0REC2yOEOg/YfF8Rz1a4T9h8XxHPVrhP2HxfEc9WuE/YfF8Rz1a4T9h8XxHPVrhP2HxfEc9WuE/YfF8Rz1a4T9h8XxHPVrhP2HxfEc9WuE/YfF8Rz1a4T9h8XxHPVrhP0REC2yOEOg/YfF8Rz1a4T9h8XxHPVrhP2HxfEc9WuE/YfF8Rz1a4T9h8XxHPVrhP2HxfEc9WuE/YfF8Rz1a4T9h8XxHPVrhP2HxfEc9WuE/iju+cja+6z9ERAtsjhDoP2HxfEc9WuE/YfF8Rz1a4T9h8XxHPVrhP2HxfEc9WuE/YfF8Rz1a4T9h8XxHPVrhP2HxfEc9WuE/YfF8Rz1a4T9h8XxHPVrhP2HxfEc9WuE/AAAAAAAAAABh8XxHPVrhPw==\"},\"shape\":[38],\"dtype\":\"float64\",\"order\":\"little\"}],[\"segment\",{\"type\":\"ndarray\",\"array\":{\"type\":\"bytes\",\"data\":\"AQAAAAEAAAABAAAAAQAAAAEAAAABAAAAAQAAAAEAAAABAAAAAQAAAAEAAAABAAAAAQAAAAEAAAABAAAAAQAAAAEAAAABAAAAAQAAAAEAAAABAAAAAQAAAAEAAAABAAAAAQAAAAEAAAABAAAAAQAAAAEAAAABAAAAAQAAAAEAAAABAAAAAQAAAAEAAAABAAAAAQAAAAEAAAA=\"},\"shape\":[38],\"dtype\":\"int32\",\"order\":\"little\"}]]}}},\"view\":{\"type\":\"object\",\"name\":\"CDSView\",\"id\":\"7c528d82-efd8-4c73-a6d8-fc25d0555247\",\"attributes\":{\"filter\":{\"type\":\"object\",\"name\":\"AllIndices\",\"id\":\"5d458dd1-7a58-46b3-9200-f34244b86339\"}}},\"glyph\":{\"type\":\"object\",\"name\":\"Scatter\",\"id\":\"41d07df1-5ab8-406e-a29d-4cdd86f61f5b\",\"attributes\":{\"tags\":[\"apply_ranges\"],\"x\":{\"type\":\"field\",\"field\":\"recency\"},\"y\":{\"type\":\"field\",\"field\":\"monetary\"},\"size\":{\"type\":\"value\",\"value\":5.477225575051661},\"line_color\":{\"type\":\"value\",\"value\":\"#fc4f30\"},\"fill_color\":{\"type\":\"value\",\"value\":\"#fc4f30\"},\"hatch_color\":{\"type\":\"value\",\"value\":\"#fc4f30\"}}},\"selection_glyph\":{\"type\":\"object\",\"name\":\"Scatter\",\"id\":\"a436d7b8-02d3-47aa-a552-02b4861419fb\",\"attributes\":{\"tags\":[\"apply_ranges\"],\"x\":{\"type\":\"field\",\"field\":\"recency\"},\"y\":{\"type\":\"field\",\"field\":\"monetary\"},\"size\":{\"type\":\"value\",\"value\":5.477225575051661},\"angle\":{\"type\":\"value\",\"value\":0.0},\"line_color\":{\"type\":\"value\",\"value\":\"#fc4f30\"},\"line_alpha\":{\"type\":\"value\",\"value\":1.0},\"line_width\":{\"type\":\"value\",\"value\":1},\"line_join\":{\"type\":\"value\",\"value\":\"bevel\"},\"line_cap\":{\"type\":\"value\",\"value\":\"butt\"},\"line_dash\":{\"type\":\"value\",\"value\":[]},\"line_dash_offset\":{\"type\":\"value\",\"value\":0},\"fill_color\":{\"type\":\"value\",\"value\":\"#fc4f30\"},\"fill_alpha\":{\"type\":\"value\",\"value\":1.0},\"hatch_color\":{\"type\":\"value\",\"value\":\"#fc4f30\"},\"hatch_alpha\":{\"type\":\"value\",\"value\":1.0},\"hatch_scale\":{\"type\":\"value\",\"value\":12.0},\"hatch_pattern\":{\"type\":\"value\",\"value\":null},\"hatch_weight\":{\"type\":\"value\",\"value\":1.0},\"marker\":{\"type\":\"value\",\"value\":\"circle\"}}},\"nonselection_glyph\":{\"type\":\"object\",\"name\":\"Scatter\",\"id\":\"9bab1133-65e6-4ee5-ba29-87c54e2b2abe\",\"attributes\":{\"tags\":[\"apply_ranges\"],\"x\":{\"type\":\"field\",\"field\":\"recency\"},\"y\":{\"type\":\"field\",\"field\":\"monetary\"},\"size\":{\"type\":\"value\",\"value\":5.477225575051661},\"line_color\":{\"type\":\"value\",\"value\":\"#fc4f30\"},\"line_alpha\":{\"type\":\"value\",\"value\":0.1},\"fill_color\":{\"type\":\"value\",\"value\":\"#fc4f30\"},\"fill_alpha\":{\"type\":\"value\",\"value\":0.1},\"hatch_color\":{\"type\":\"value\",\"value\":\"#fc4f30\"},\"hatch_alpha\":{\"type\":\"value\",\"value\":0.1}}},\"muted_glyph\":{\"type\":\"object\",\"name\":\"Scatter\",\"id\":\"625741d9-059b-4982-a873-9b9ab7d4b614\",\"attributes\":{\"tags\":[\"apply_ranges\"],\"x\":{\"type\":\"field\",\"field\":\"recency\"},\"y\":{\"type\":\"field\",\"field\":\"monetary\"},\"size\":{\"type\":\"value\",\"value\":5.477225575051661},\"line_color\":{\"type\":\"value\",\"value\":\"#fc4f30\"},\"line_alpha\":{\"type\":\"value\",\"value\":0.2},\"fill_color\":{\"type\":\"value\",\"value\":\"#fc4f30\"},\"fill_alpha\":{\"type\":\"value\",\"value\":0.2},\"hatch_color\":{\"type\":\"value\",\"value\":\"#fc4f30\"},\"hatch_alpha\":{\"type\":\"value\",\"value\":0.2}}}}}],\"toolbar\":{\"type\":\"object\",\"name\":\"Toolbar\",\"id\":\"60ae229e-aa15-41cb-8621-aa851f52a893\",\"attributes\":{\"tools\":[{\"type\":\"object\",\"name\":\"WheelZoomTool\",\"id\":\"e1174173-22dd-4683-b4af-0fe796c27515\",\"attributes\":{\"tags\":[\"hv_created\"],\"renderers\":\"auto\",\"zoom_together\":\"none\"}},{\"type\":\"object\",\"name\":\"HoverTool\",\"id\":\"86962ae4-f438-4d8d-aaf9-45c5b637be7d\",\"attributes\":{\"tags\":[\"hv_created\"],\"renderers\":[{\"id\":\"85f6e697-b2d1-41cf-bfdb-7b8a478c7f2d\"},{\"id\":\"e00ddf2d-8158-4ae5-9826-fe6249069226\"}],\"tooltips\":[[\"segment\",\"@{segment}\"],[\"recency\",\"@{recency}\"],[\"monetary\",\"@{monetary}\"],[\"customer_id\",\"@{customer_id}\"],[\"frequency\",\"@{frequency}\"]]}},{\"type\":\"object\",\"name\":\"SaveTool\",\"id\":\"32267873-7d94-4012-8abe-bcf9458fb7b9\"},{\"type\":\"object\",\"name\":\"PanTool\",\"id\":\"40f3e63d-1456-4d49-a498-e1d85dc5811b\"},{\"type\":\"object\",\"name\":\"BoxZoomTool\",\"id\":\"bfb20562-1a8b-4eeb-a552-a402e267cefb\",\"attributes\":{\"overlay\":{\"type\":\"object\",\"name\":\"BoxAnnotation\",\"id\":\"a752e27d-7cb3-464d-bb0b-8dd7af02cf69\",\"attributes\":{\"syncable\":false,\"line_color\":\"black\",\"line_alpha\":1.0,\"line_width\":2,\"line_dash\":[4,4],\"fill_color\":\"lightgrey\",\"fill_alpha\":0.5,\"level\":\"overlay\",\"visible\":false,\"left\":{\"type\":\"number\",\"value\":\"nan\"},\"right\":{\"type\":\"number\",\"value\":\"nan\"},\"top\":{\"type\":\"number\",\"value\":\"nan\"},\"bottom\":{\"type\":\"number\",\"value\":\"nan\"},\"left_units\":\"canvas\",\"right_units\":\"canvas\",\"top_units\":\"canvas\",\"bottom_units\":\"canvas\",\"handles\":{\"type\":\"object\",\"name\":\"BoxInteractionHandles\",\"id\":\"358cf9d4-0eb3-4015-aaa8-104a473417b8\",\"attributes\":{\"all\":{\"type\":\"object\",\"name\":\"AreaVisuals\",\"id\":\"ac6864f8-5b84-4641-80c8-875c479813bf\",\"attributes\":{\"fill_color\":\"white\",\"hover_fill_color\":\"lightgray\"}}}}}}}},{\"type\":\"object\",\"name\":\"ResetTool\",\"id\":\"8e5fe554-28cb-40e1-bab3-57ba97069c34\"}],\"active_drag\":{\"id\":\"40f3e63d-1456-4d49-a498-e1d85dc5811b\"},\"active_scroll\":{\"id\":\"e1174173-22dd-4683-b4af-0fe796c27515\"}}},\"left\":[{\"type\":\"object\",\"name\":\"LinearAxis\",\"id\":\"e0bbfb2b-4956-4fda-90d0-2d1d7853b845\",\"attributes\":{\"ticker\":{\"type\":\"object\",\"name\":\"BasicTicker\",\"id\":\"a1e5da40-db1c-4de0-bcc9-9ced614e3a97\",\"attributes\":{\"mantissas\":[1,2,5]}},\"formatter\":{\"type\":\"object\",\"name\":\"BasicTickFormatter\",\"id\":\"473a7cb7-ff59-4c6a-86ad-4331cf2f1744\"},\"axis_label\":\"monetary\",\"major_label_policy\":{\"type\":\"object\",\"name\":\"AllLabels\",\"id\":\"d2951327-5855-40d9-adb5-b65ff8e3cd56\"}}}],\"right\":[{\"type\":\"object\",\"name\":\"Legend\",\"id\":\"a9bde5d8-85c8-4f32-be65-15e301368bac\",\"attributes\":{\"location\":[0,0],\"title\":\"segment\",\"click_policy\":\"mute\",\"items\":[{\"type\":\"object\",\"name\":\"LegendItem\",\"id\":\"5d07da77-5590-4e05-8e4e-32b7dde2b6af\",\"attributes\":{\"label\":{\"type\":\"value\",\"value\":\"0\"},\"renderers\":[{\"id\":\"85f6e697-b2d1-41cf-bfdb-7b8a478c7f2d\"}]}},{\"type\":\"object\",\"name\":\"LegendItem\",\"id\":\"7ff233b3-03e2-412b-b617-84653ddbe713\",\"attributes\":{\"label\":{\"type\":\"value\",\"value\":\"1\"},\"renderers\":[{\"id\":\"e00ddf2d-8158-4ae5-9826-fe6249069226\"}]}}]}}],\"below\":[{\"type\":\"object\",\"name\":\"LinearAxis\",\"id\":\"0271835a-ee16-4f84-9f21-fc68825b55ac\",\"attributes\":{\"ticker\":{\"type\":\"object\",\"name\":\"BasicTicker\",\"id\":\"8cc3b339-4175-4ac4-9665-ce78e32c8e95\",\"attributes\":{\"mantissas\":[1,2,5]}},\"formatter\":{\"type\":\"object\",\"name\":\"BasicTickFormatter\",\"id\":\"4ff7393f-eca6-4d33-8aec-4a6a446bbefa\"},\"axis_label\":\"recency\",\"major_label_policy\":{\"type\":\"object\",\"name\":\"AllLabels\",\"id\":\"fb1e5c21-f689-48c5-88d4-24ab90c6ec21\"}}}],\"center\":[{\"type\":\"object\",\"name\":\"Grid\",\"id\":\"43ee5933-97d1-490b-9683-27fff7f4c595\",\"attributes\":{\"axis\":{\"id\":\"0271835a-ee16-4f84-9f21-fc68825b55ac\"},\"grid_line_color\":null}},{\"type\":\"object\",\"name\":\"Grid\",\"id\":\"b8293aac-cb5d-45ce-9884-d8fb3c1e5e6d\",\"attributes\":{\"dimension\":1,\"axis\":{\"id\":\"e0bbfb2b-4956-4fda-90d0-2d1d7853b845\"},\"grid_line_color\":null}}],\"min_border_top\":10,\"min_border_bottom\":10,\"min_border_left\":10,\"min_border_right\":10,\"output_backend\":\"webgl\"}},{\"type\":\"object\",\"name\":\"Spacer\",\"id\":\"5a52a5c2-985a-4a41-a0a2-86d283544d1d\",\"attributes\":{\"name\":\"HSpacer07156\",\"stylesheets\":[\"\\n:host(.pn-loading):before, .pn-loading:before {\\n  background-color: #c3c3c3;\\n  mask-size: auto calc(min(50%, 400px));\\n  -webkit-mask-size: auto calc(min(50%, 400px));\\n}\",{\"id\":\"f1f9cf76-35bb-4292-998e-d55f9df56149\"},{\"id\":\"59fc5618-21be-42f2-90e8-aa86faaf7613\"},{\"id\":\"6903f582-6b07-4f4c-8896-6d54ee6c6e12\"}],\"margin\":0,\"sizing_mode\":\"stretch_width\",\"align\":\"start\"}}]}}],\"defs\":[{\"type\":\"model\",\"name\":\"ReactiveHTML1\"},{\"type\":\"model\",\"name\":\"FlexBox1\",\"properties\":[{\"name\":\"align_content\",\"kind\":\"Any\",\"default\":\"flex-start\"},{\"name\":\"align_items\",\"kind\":\"Any\",\"default\":\"flex-start\"},{\"name\":\"flex_direction\",\"kind\":\"Any\",\"default\":\"row\"},{\"name\":\"flex_wrap\",\"kind\":\"Any\",\"default\":\"wrap\"},{\"name\":\"gap\",\"kind\":\"Any\",\"default\":\"\"},{\"name\":\"justify_content\",\"kind\":\"Any\",\"default\":\"flex-start\"}]},{\"type\":\"model\",\"name\":\"FloatPanel1\",\"properties\":[{\"name\":\"config\",\"kind\":\"Any\",\"default\":{\"type\":\"map\"}},{\"name\":\"contained\",\"kind\":\"Any\",\"default\":true},{\"name\":\"position\",\"kind\":\"Any\",\"default\":\"right-top\"},{\"name\":\"offsetx\",\"kind\":\"Any\",\"default\":null},{\"name\":\"offsety\",\"kind\":\"Any\",\"default\":null},{\"name\":\"theme\",\"kind\":\"Any\",\"default\":\"primary\"},{\"name\":\"status\",\"kind\":\"Any\",\"default\":\"normalized\"}]},{\"type\":\"model\",\"name\":\"GridStack1\",\"properties\":[{\"name\":\"mode\",\"kind\":\"Any\",\"default\":\"warn\"},{\"name\":\"ncols\",\"kind\":\"Any\",\"default\":null},{\"name\":\"nrows\",\"kind\":\"Any\",\"default\":null},{\"name\":\"allow_resize\",\"kind\":\"Any\",\"default\":true},{\"name\":\"allow_drag\",\"kind\":\"Any\",\"default\":true},{\"name\":\"state\",\"kind\":\"Any\",\"default\":[]}]},{\"type\":\"model\",\"name\":\"drag1\",\"properties\":[{\"name\":\"slider_width\",\"kind\":\"Any\",\"default\":5},{\"name\":\"slider_color\",\"kind\":\"Any\",\"default\":\"black\"},{\"name\":\"value\",\"kind\":\"Any\",\"default\":50}]},{\"type\":\"model\",\"name\":\"click1\",\"properties\":[{\"name\":\"terminal_output\",\"kind\":\"Any\",\"default\":\"\"},{\"name\":\"debug_name\",\"kind\":\"Any\",\"default\":\"\"},{\"name\":\"clears\",\"kind\":\"Any\",\"default\":0}]},{\"type\":\"model\",\"name\":\"FastWrapper1\",\"properties\":[{\"name\":\"object\",\"kind\":\"Any\",\"default\":null},{\"name\":\"style\",\"kind\":\"Any\",\"default\":null}]},{\"type\":\"model\",\"name\":\"NotificationAreaBase1\",\"properties\":[{\"name\":\"js_events\",\"kind\":\"Any\",\"default\":{\"type\":\"map\"}},{\"name\":\"position\",\"kind\":\"Any\",\"default\":\"bottom-right\"},{\"name\":\"_clear\",\"kind\":\"Any\",\"default\":0}]},{\"type\":\"model\",\"name\":\"NotificationArea1\",\"properties\":[{\"name\":\"js_events\",\"kind\":\"Any\",\"default\":{\"type\":\"map\"}},{\"name\":\"notifications\",\"kind\":\"Any\",\"default\":[]},{\"name\":\"position\",\"kind\":\"Any\",\"default\":\"bottom-right\"},{\"name\":\"_clear\",\"kind\":\"Any\",\"default\":0},{\"name\":\"types\",\"kind\":\"Any\",\"default\":[{\"type\":\"map\",\"entries\":[[\"type\",\"warning\"],[\"background\",\"#ffc107\"],[\"icon\",{\"type\":\"map\",\"entries\":[[\"className\",\"fas fa-exclamation-triangle\"],[\"tagName\",\"i\"],[\"color\",\"white\"]]}]]},{\"type\":\"map\",\"entries\":[[\"type\",\"info\"],[\"background\",\"#007bff\"],[\"icon\",{\"type\":\"map\",\"entries\":[[\"className\",\"fas fa-info-circle\"],[\"tagName\",\"i\"],[\"color\",\"white\"]]}]]}]}]},{\"type\":\"model\",\"name\":\"Notification\",\"properties\":[{\"name\":\"background\",\"kind\":\"Any\",\"default\":null},{\"name\":\"duration\",\"kind\":\"Any\",\"default\":3000},{\"name\":\"icon\",\"kind\":\"Any\",\"default\":null},{\"name\":\"message\",\"kind\":\"Any\",\"default\":\"\"},{\"name\":\"notification_type\",\"kind\":\"Any\",\"default\":null},{\"name\":\"_destroyed\",\"kind\":\"Any\",\"default\":false}]},{\"type\":\"model\",\"name\":\"TemplateActions1\",\"properties\":[{\"name\":\"open_modal\",\"kind\":\"Any\",\"default\":0},{\"name\":\"close_modal\",\"kind\":\"Any\",\"default\":0}]},{\"type\":\"model\",\"name\":\"BootstrapTemplateActions1\",\"properties\":[{\"name\":\"open_modal\",\"kind\":\"Any\",\"default\":0},{\"name\":\"close_modal\",\"kind\":\"Any\",\"default\":0}]},{\"type\":\"model\",\"name\":\"TemplateEditor1\",\"properties\":[{\"name\":\"layout\",\"kind\":\"Any\",\"default\":[]}]},{\"type\":\"model\",\"name\":\"MaterialTemplateActions1\",\"properties\":[{\"name\":\"open_modal\",\"kind\":\"Any\",\"default\":0},{\"name\":\"close_modal\",\"kind\":\"Any\",\"default\":0}]},{\"type\":\"model\",\"name\":\"ReactiveESM1\"},{\"type\":\"model\",\"name\":\"JSComponent1\"},{\"type\":\"model\",\"name\":\"ReactComponent1\"},{\"type\":\"model\",\"name\":\"AnyWidgetComponent1\"},{\"type\":\"model\",\"name\":\"request_value1\",\"properties\":[{\"name\":\"fill\",\"kind\":\"Any\",\"default\":\"none\"},{\"name\":\"_synced\",\"kind\":\"Any\",\"default\":null},{\"name\":\"_request_sync\",\"kind\":\"Any\",\"default\":0}]}]}};\n",
       "  var render_items = [{\"docid\":\"dee2e861-5438-4606-a594-bb33cd100ea6\",\"roots\":{\"d504e499-99fc-4856-9ebd-10eda046ba0e\":\"b63e01af-fcad-459c-992b-bf1f8a80a869\"},\"root_ids\":[\"d504e499-99fc-4856-9ebd-10eda046ba0e\"]}];\n",
       "  var docs = Object.values(docs_json)\n",
       "  if (!docs) {\n",
       "    return\n",
       "  }\n",
       "  const py_version = docs[0].version.replace('rc', '-rc.').replace('.dev', '-dev.')\n",
       "  async function embed_document(root) {\n",
       "    var Bokeh = get_bokeh(root)\n",
       "    await Bokeh.embed.embed_items_notebook(docs_json, render_items);\n",
       "    for (const render_item of render_items) {\n",
       "      for (const root_id of render_item.root_ids) {\n",
       "\tconst id_el = document.getElementById(root_id)\n",
       "\tif (id_el.children.length && id_el.children[0].hasAttribute('data-root-id')) {\n",
       "\t  const root_el = id_el.children[0]\n",
       "\t  root_el.id = root_el.id + '-rendered'\n",
       "\t  for (const child of root_el.children) {\n",
       "            // Ensure JupyterLab does not capture keyboard shortcuts\n",
       "            // see: https://jupyterlab.readthedocs.io/en/4.1.x/extension/notebook.html#keyboard-interaction-model\n",
       "\t    child.setAttribute('data-lm-suppress-shortcuts', 'true')\n",
       "\t  }\n",
       "\t}\n",
       "      }\n",
       "    }\n",
       "  }\n",
       "  function get_bokeh(root) {\n",
       "    if (root.Bokeh === undefined) {\n",
       "      return null\n",
       "    } else if (root.Bokeh.version !== py_version) {\n",
       "      if (root.Bokeh.versions === undefined || !root.Bokeh.versions.has(py_version)) {\n",
       "\treturn null\n",
       "      }\n",
       "      return root.Bokeh.versions.get(py_version);\n",
       "    } else if (root.Bokeh.version === py_version) {\n",
       "      return root.Bokeh\n",
       "    }\n",
       "    return null\n",
       "  }\n",
       "  function is_loaded(root) {\n",
       "    var Bokeh = get_bokeh(root)\n",
       "    return (Bokeh != null && Bokeh.Panel !== undefined)\n",
       "  }\n",
       "  if (is_loaded(root)) {\n",
       "    embed_document(root);\n",
       "  } else {\n",
       "    var attempts = 0;\n",
       "    var timer = setInterval(function(root) {\n",
       "      if (is_loaded(root)) {\n",
       "        clearInterval(timer);\n",
       "        embed_document(root);\n",
       "      } else if (document.readyState == \"complete\") {\n",
       "        attempts++;\n",
       "        if (attempts > 200) {\n",
       "          clearInterval(timer);\n",
       "\t  var Bokeh = get_bokeh(root)\n",
       "\t  if (Bokeh == null || Bokeh.Panel == null) {\n",
       "            console.warn(\"Panel: ERROR: Unable to run Panel code because Bokeh or Panel library is missing\");\n",
       "\t  } else {\n",
       "\t    console.warn(\"Panel: WARNING: Attempting to render but not all required libraries could be resolved.\")\n",
       "\t    embed_document(root)\n",
       "\t  }\n",
       "        }\n",
       "      }\n",
       "    }, 25, root)\n",
       "  }\n",
       "})(window);</script>"
      ],
      "text/plain": [
       ":NdOverlay   [segment]\n",
       "   :Scatter   [recency]   (monetary,customer_id,frequency,segment)"
      ]
     },
     "metadata": {
      "application/vnd.holoviews_exec.v0+json": {
       "id": "d504e499-99fc-4856-9ebd-10eda046ba0e"
      }
     },
     "output_type": "display_data"
    }
   ],
   "source": [
    "# select best k (3 or 4) but include 2 and 5 just in case\n",
    "k_options = [2,3,4,5]\n",
    "x_val = 'recency'\n",
    "y_val = 'monetary'\n",
    "\n",
    "\n",
    "# get segments for both metrics\n",
    "print('SILHOUETTE SCORE'.center(150, '-'))\n",
    "s_segments_df, s_segments_plot = get_k_means_segments(\n",
    "    scaled_data=scaled_rfm_df, og_data=transformed_rfm_df, \n",
    "    k_values=k_options, metric='silhouette', x_val=x_val, y_val=y_val\n",
    ")\n",
    "\n",
    "print('CALINSKI HARABASZ SCORE'.center(150, '-'))\n",
    "ch_segments_df, ch_segments_plot = get_k_means_segments(\n",
    "    scaled_data=scaled_rfm_df, og_data=transformed_rfm_df, \n",
    "    k_values=k_options, metric='ch_score', x_val=x_val, y_val=y_val\n",
    ")"
   ]
  },
  {
   "cell_type": "markdown",
   "metadata": {},
   "source": [
    "### Remove multicollinearity (only monetary or frequency)"
   ]
  },
  {
   "cell_type": "markdown",
   "metadata": {},
   "source": [
    "Recency & Monetary"
   ]
  },
  {
   "cell_type": "code",
   "execution_count": 64,
   "metadata": {},
   "outputs": [
    {
     "name": "stdout",
     "output_type": "stream",
     "text": [
      "-------------------------------------------------------------------SILHOUETTE SCORE-------------------------------------------------------------------\n",
      "[{'k': 2, 'score': 0.4337782295921043}, {'k': 3, 'score': 0.4588957572938468}, {'k': 4, 'score': 0.45947146116531395}, {'k': 5, 'score': 0.3806610717314592}]\n",
      "Best k value = 4 (silhouette score = 0.459)\n"
     ]
    },
    {
     "data": {},
     "metadata": {},
     "output_type": "display_data"
    },
    {
     "data": {
      "application/vnd.holoviews_exec.v0+json": "",
      "text/html": [
       "<div id='9f8a600d-9ec3-4f07-9015-93d65bfb2a20'>\n",
       "  <div id=\"f8616889-e64a-4df3-b40b-ed4433d03e6b\" data-root-id=\"9f8a600d-9ec3-4f07-9015-93d65bfb2a20\" style=\"display: contents;\"></div>\n",
       "</div>\n",
       "<script type=\"application/javascript\">(function(root) {\n",
       "  var docs_json = {\"7d23a186-17eb-40b4-a3c2-ec0c701a5e7f\":{\"version\":\"3.5.2\",\"title\":\"Bokeh Application\",\"roots\":[{\"type\":\"object\",\"name\":\"Row\",\"id\":\"9f8a600d-9ec3-4f07-9015-93d65bfb2a20\",\"attributes\":{\"name\":\"Row07267\",\"tags\":[\"embedded\"],\"stylesheets\":[\"\\n:host(.pn-loading):before, .pn-loading:before {\\n  background-color: #c3c3c3;\\n  mask-size: auto calc(min(50%, 400px));\\n  -webkit-mask-size: auto calc(min(50%, 400px));\\n}\",{\"type\":\"object\",\"name\":\"ImportedStyleSheet\",\"id\":\"a3aebd5d-7eb4-4358-a73b-2e3089abf7b6\",\"attributes\":{\"url\":\"https://cdn.holoviz.org/panel/1.5.3/dist/css/loading.css\"}},{\"type\":\"object\",\"name\":\"ImportedStyleSheet\",\"id\":\"7c1b891d-f087-4e79-9a12-86ee48aa13cb\",\"attributes\":{\"url\":\"https://cdn.holoviz.org/panel/1.5.3/dist/css/listpanel.css\"}},{\"type\":\"object\",\"name\":\"ImportedStyleSheet\",\"id\":\"e546fab5-c223-4e82-9ca9-5b9af55a881f\",\"attributes\":{\"url\":\"https://cdn.holoviz.org/panel/1.5.3/dist/bundled/theme/default.css\"}},{\"type\":\"object\",\"name\":\"ImportedStyleSheet\",\"id\":\"748a6162-e71f-4a5d-8e24-b4ee51b8355e\",\"attributes\":{\"url\":\"https://cdn.holoviz.org/panel/1.5.3/dist/bundled/theme/native.css\"}}],\"min_width\":700,\"margin\":0,\"sizing_mode\":\"stretch_width\",\"align\":\"start\",\"children\":[{\"type\":\"object\",\"name\":\"Spacer\",\"id\":\"39a0da0c-58d6-4f46-b17a-db440e864293\",\"attributes\":{\"name\":\"HSpacer07271\",\"stylesheets\":[\"\\n:host(.pn-loading):before, .pn-loading:before {\\n  background-color: #c3c3c3;\\n  mask-size: auto calc(min(50%, 400px));\\n  -webkit-mask-size: auto calc(min(50%, 400px));\\n}\",{\"id\":\"a3aebd5d-7eb4-4358-a73b-2e3089abf7b6\"},{\"id\":\"e546fab5-c223-4e82-9ca9-5b9af55a881f\"},{\"id\":\"748a6162-e71f-4a5d-8e24-b4ee51b8355e\"}],\"margin\":0,\"sizing_mode\":\"stretch_width\",\"align\":\"start\"}},{\"type\":\"object\",\"name\":\"Figure\",\"id\":\"cfb3f3ce-6e5e-468d-b6f6-731dc6d9ce3a\",\"attributes\":{\"width\":700,\"height\":300,\"margin\":[5,10],\"sizing_mode\":\"fixed\",\"align\":\"start\",\"x_range\":{\"type\":\"object\",\"name\":\"Range1d\",\"id\":\"2ab582ba-261a-4d61-9111-6036d3329bc8\",\"attributes\":{\"name\":\"recency\",\"tags\":[[[\"recency\",null]],[]],\"start\":-21.17142857142857,\"end\":515.1714285714286,\"reset_start\":-21.17142857142857,\"reset_end\":515.1714285714286}},\"y_range\":{\"type\":\"object\",\"name\":\"Range1d\",\"id\":\"5952639e-e541-47a6-86ee-cb70108930eb\",\"attributes\":{\"name\":\"monetary\",\"tags\":[[[\"monetary\",null]],{\"type\":\"map\",\"entries\":[[\"invert_yaxis\",false],[\"autorange\",false]]}],\"start\":8.672644096702083,\"end\":14.03322663243378,\"reset_start\":8.672644096702083,\"reset_end\":14.03322663243378}},\"x_scale\":{\"type\":\"object\",\"name\":\"LinearScale\",\"id\":\"9040df2e-b5f2-47e0-b610-dacb69771dc9\"},\"y_scale\":{\"type\":\"object\",\"name\":\"LinearScale\",\"id\":\"6444afbd-a635-47c0-8b93-f6a0751125d3\"},\"title\":{\"type\":\"object\",\"name\":\"Title\",\"id\":\"ffcb4e41-b32b-4f5f-b1b0-e7c77cdb0684\",\"attributes\":{\"text_color\":\"black\",\"text_font_size\":\"12pt\"}},\"renderers\":[{\"type\":\"object\",\"name\":\"GlyphRenderer\",\"id\":\"9d590888-230b-46eb-a413-fdebd0ebe000\",\"attributes\":{\"name\":\"0\",\"data_source\":{\"type\":\"object\",\"name\":\"ColumnDataSource\",\"id\":\"52c05479-ddc7-4357-8a71-6c108d46ade4\",\"attributes\":{\"selected\":{\"type\":\"object\",\"name\":\"Selection\",\"id\":\"73f47831-8289-49c3-a348-071273da921b\",\"attributes\":{\"indices\":[],\"line_indices\":[]}},\"selection_policy\":{\"type\":\"object\",\"name\":\"UnionRenderers\",\"id\":\"801c2ecf-406c-458d-8196-72fe7ad805ea\"},\"data\":{\"type\":\"map\",\"entries\":[[\"recency\",{\"type\":\"ndarray\",\"array\":{\"type\":\"bytes\",\"data\":\"twAAANUAAAC8AAAAhAAAAKUAAAAoAAAApwAAAIIAAAAuAAAADAAAAGEAAADCAAAAugAAAKkAAAAZAAAAgwAAAEsAAABFAAAAtQAAAAQBAACuAAAAgwAAANcAAAAhAAAASwAAAD0AAADBAAAAAAAAAFMAAADEAAAA2AAAAMUAAADBAAAAzwAAAMUAAADWAAAAtgAAAPoAAACXAAAAqQAAABAAAAB9AAAAwQAAALIAAABnAAAAagAAAAcAAAB1AAAAsQAAALQAAADPAAAAJwAAALUAAAAYAAAATAAAAAABAAAyAAAAMAAAAA==\"},\"shape\":[58],\"dtype\":\"int32\",\"order\":\"little\"}],[\"monetary\",{\"type\":\"ndarray\",\"array\":{\"type\":\"bytes\",\"data\":\"pn+61XFeJ0Be4PWyMAgnQHDZ+FDPXydAjtGgC01nJ0Crqr8W1ckmQO2gJ+Rn4iZA+T1eca9jKEDCa80ShDInQH9gz1hmESdAreSTwTsQJ0Ak0vZXNT0nQFpHVwyMkydA+nloLl2rJ0Dmt816r6UmQOG+7rpdZidAMuQLx4hJJ0CyvhUoFQEnQKIZB0+u4ydA6/b8DTPwJ0APhawHH1onQEp+psgbiiZAPL03M+VyJkAhooPDcD0mQAHUUl4slyZARPlY9rS2JkDtVPlsJIsmQOZmWbhpxSZAEGsPFojVJ0AQrExz0dUnQDVxp518UidAgRo/BCgWJ0Ce1diZ/YgmQAN1elpytCZA5ncrufV0JkCnRk3WlmYnQFPSQ5PAtiZA6G4NXAfnJkBKXWjUlOcmQGxjyesfLCdABxNivQ1sKEBdv9O3320mQKrER352HSdASfpfTEBVJ0BSkPEZGvgmQBpcRTxVpSdAVfeKH4YcJ0AVWaRDUrwnQOgdwhhgniZA+Sdo7BCGJkC1V081vm8mQBrR6MCpCSdACC6dTSU+JkAGRlj+aasmQNaxY2FlUCdApapxeTofKEA+Jcbn/z4nQF1Oq1WRUyZAoE5YIXCgJ0A=\"},\"shape\":[58],\"dtype\":\"float64\",\"order\":\"little\"}],[\"customer_id\",{\"type\":\"ndarray\",\"array\":{\"type\":\"bytes\",\"data\":\"AQAAAAIAAAADAAAABQAAAAYAAAAHAAAACAAAAAkAAAAKAAAACwAAAAwAAAAPAAAAEQAAABMAAAAVAAAAFgAAABgAAAAbAAAAHQAAAB4AAAAfAAAAIAAAACEAAAAmAAAAJwAAACgAAAAqAAAAKwAAACwAAAAuAAAALwAAADIAAAAzAAAANAAAADUAAAA2AAAAOgAAADsAAAA9AAAAPgAAAD8AAABAAAAAQQAAAEIAAABDAAAARQAAAEcAAABIAAAASgAAAEsAAABOAAAATwAAAFAAAABRAAAAUgAAAFQAAABYAAAAWgAAAA==\"},\"shape\":[58],\"dtype\":\"int32\",\"order\":\"little\"}],[\"frequency\",{\"type\":\"ndarray\",\"array\":{\"type\":\"bytes\",\"data\":\"REQLbI4Q6D9h8XxHPVrhP4o7vnI2vus/iju+cja+6z9ERAtsjhDoP0REC2yOEOg/iju+cja+6z9ERAtsjhDoP0REC2yOEOg/REQLbI4Q6D9ERAtsjhDoP0REC2yOEOg/REQLbI4Q6D9ERAtsjhDoP4o7vnI2vus/REQLbI4Q6D9ERAtsjhDoP4o7vnI2vus/REQLbI4Q6D9h8XxHPVrhP0REC2yOEOg/REQLbI4Q6D9h8XxHPVrhP0REC2yOEOg/YfF8Rz1a4T9ERAtsjhDoP0REC2yOEOg/iju+cja+6z+KO75yNr7rP0REC2yOEOg/YfF8Rz1a4T9h8XxHPVrhP4o7vnI2vus/YfF8Rz1a4T9ERAtsjhDoP2HxfEc9WuE/REQLbI4Q6D9h8XxHPVrhP0REC2yOEOg/KV3S5mQa7j9ERAtsjhDoP0REC2yOEOg/iju+cja+6z9ERAtsjhDoP0REC2yOEOg/REQLbI4Q6D9ERAtsjhDoP0REC2yOEOg/REQLbI4Q6D9ERAtsjhDoP2HxfEc9WuE/YfF8Rz1a4T9ERAtsjhDoP4o7vnI2vus/KV3S5mQa7j9ERAtsjhDoP0REC2yOEOg/KV3S5mQa7j8=\"},\"shape\":[58],\"dtype\":\"float64\",\"order\":\"little\"}],[\"segment\",{\"type\":\"ndarray\",\"array\":{\"type\":\"bytes\",\"data\":\"AAAAAAAAAAAAAAAAAAAAAAAAAAAAAAAAAAAAAAAAAAAAAAAAAAAAAAAAAAAAAAAAAAAAAAAAAAAAAAAAAAAAAAAAAAAAAAAAAAAAAAAAAAAAAAAAAAAAAAAAAAAAAAAAAAAAAAAAAAAAAAAAAAAAAAAAAAAAAAAAAAAAAAAAAAAAAAAAAAAAAAAAAAAAAAAAAAAAAAAAAAAAAAAAAAAAAAAAAAAAAAAAAAAAAAAAAAAAAAAAAAAAAAAAAAAAAAAAAAAAAAAAAAAAAAAAAAAAAAAAAAAAAAAAAAAAAAAAAAAAAAAAAAAAAA==\"},\"shape\":[58],\"dtype\":\"int32\",\"order\":\"little\"}]]}}},\"view\":{\"type\":\"object\",\"name\":\"CDSView\",\"id\":\"775f57e9-165a-42c6-aafd-78e955ec5af2\",\"attributes\":{\"filter\":{\"type\":\"object\",\"name\":\"AllIndices\",\"id\":\"2960bf89-cda9-4dc3-993a-b4fe3fe5787f\"}}},\"glyph\":{\"type\":\"object\",\"name\":\"Scatter\",\"id\":\"4d4d827c-5728-4aa6-9823-3ded5033891a\",\"attributes\":{\"tags\":[\"apply_ranges\"],\"x\":{\"type\":\"field\",\"field\":\"recency\"},\"y\":{\"type\":\"field\",\"field\":\"monetary\"},\"size\":{\"type\":\"value\",\"value\":5.477225575051661},\"line_color\":{\"type\":\"value\",\"value\":\"#30a2da\"},\"fill_color\":{\"type\":\"value\",\"value\":\"#30a2da\"},\"hatch_color\":{\"type\":\"value\",\"value\":\"#30a2da\"}}},\"selection_glyph\":{\"type\":\"object\",\"name\":\"Scatter\",\"id\":\"91f644ad-9da7-4c97-8530-07f199b24fc2\",\"attributes\":{\"tags\":[\"apply_ranges\"],\"x\":{\"type\":\"field\",\"field\":\"recency\"},\"y\":{\"type\":\"field\",\"field\":\"monetary\"},\"size\":{\"type\":\"value\",\"value\":5.477225575051661},\"angle\":{\"type\":\"value\",\"value\":0.0},\"line_color\":{\"type\":\"value\",\"value\":\"#30a2da\"},\"line_alpha\":{\"type\":\"value\",\"value\":1.0},\"line_width\":{\"type\":\"value\",\"value\":1},\"line_join\":{\"type\":\"value\",\"value\":\"bevel\"},\"line_cap\":{\"type\":\"value\",\"value\":\"butt\"},\"line_dash\":{\"type\":\"value\",\"value\":[]},\"line_dash_offset\":{\"type\":\"value\",\"value\":0},\"fill_color\":{\"type\":\"value\",\"value\":\"#30a2da\"},\"fill_alpha\":{\"type\":\"value\",\"value\":1.0},\"hatch_color\":{\"type\":\"value\",\"value\":\"#30a2da\"},\"hatch_alpha\":{\"type\":\"value\",\"value\":1.0},\"hatch_scale\":{\"type\":\"value\",\"value\":12.0},\"hatch_pattern\":{\"type\":\"value\",\"value\":null},\"hatch_weight\":{\"type\":\"value\",\"value\":1.0},\"marker\":{\"type\":\"value\",\"value\":\"circle\"}}},\"nonselection_glyph\":{\"type\":\"object\",\"name\":\"Scatter\",\"id\":\"557d558c-3cc3-4fc8-9d2c-2dda339e2377\",\"attributes\":{\"tags\":[\"apply_ranges\"],\"x\":{\"type\":\"field\",\"field\":\"recency\"},\"y\":{\"type\":\"field\",\"field\":\"monetary\"},\"size\":{\"type\":\"value\",\"value\":5.477225575051661},\"line_color\":{\"type\":\"value\",\"value\":\"#30a2da\"},\"line_alpha\":{\"type\":\"value\",\"value\":0.1},\"fill_color\":{\"type\":\"value\",\"value\":\"#30a2da\"},\"fill_alpha\":{\"type\":\"value\",\"value\":0.1},\"hatch_color\":{\"type\":\"value\",\"value\":\"#30a2da\"},\"hatch_alpha\":{\"type\":\"value\",\"value\":0.1}}},\"muted_glyph\":{\"type\":\"object\",\"name\":\"Scatter\",\"id\":\"7044192d-8546-4276-ad2a-e78cc799eb63\",\"attributes\":{\"tags\":[\"apply_ranges\"],\"x\":{\"type\":\"field\",\"field\":\"recency\"},\"y\":{\"type\":\"field\",\"field\":\"monetary\"},\"size\":{\"type\":\"value\",\"value\":5.477225575051661},\"line_color\":{\"type\":\"value\",\"value\":\"#30a2da\"},\"line_alpha\":{\"type\":\"value\",\"value\":0.2},\"fill_color\":{\"type\":\"value\",\"value\":\"#30a2da\"},\"fill_alpha\":{\"type\":\"value\",\"value\":0.2},\"hatch_color\":{\"type\":\"value\",\"value\":\"#30a2da\"},\"hatch_alpha\":{\"type\":\"value\",\"value\":0.2}}}}},{\"type\":\"object\",\"name\":\"GlyphRenderer\",\"id\":\"6bf5bcb1-e4af-45c5-86bc-c1e5067275a2\",\"attributes\":{\"name\":\"1\",\"data_source\":{\"type\":\"object\",\"name\":\"ColumnDataSource\",\"id\":\"d727c74d-7e21-4324-be68-3323aebcaad5\",\"attributes\":{\"selected\":{\"type\":\"object\",\"name\":\"Selection\",\"id\":\"17928dc9-b094-438d-913f-d7ee91ba9a38\",\"attributes\":{\"indices\":[],\"line_indices\":[]}},\"selection_policy\":{\"type\":\"object\",\"name\":\"UnionRenderers\",\"id\":\"edbd5f30-311a-453a-9050-d2113102db58\"},\"data\":{\"type\":\"map\",\"entries\":[[\"recency\",{\"type\":\"ndarray\",\"array\":{\"type\":\"bytes\",\"data\":\"uQEAAI8BAAANAQAADgEAACwBAAB2AQAAegEAANoBAACoAQAAPwEAAL4BAABsAQAA7gEAAOEBAADOAQAAggEAAMMBAAA=\"},\"shape\":[17],\"dtype\":\"int32\",\"order\":\"little\"}],[\"monetary\",{\"type\":\"ndarray\",\"array\":{\"type\":\"bytes\",\"data\":\"MuuK4Ey9J0BaOSMYLz4mQFOln7lijyZAp6NZJ9VwJkDaOp1ANjYmQLNaiEre/SRAhcr8HfyQJkBZNLHH/HklQIkvduYOoCVAbE50vOqlJUAD8MxNMcImQOUtvdeIBSVAF90aWVqPJUCTXcI80fskQCrH8ib4pSVAVx84A0JWJkCmUpmGB0kmQA==\"},\"shape\":[17],\"dtype\":\"float64\",\"order\":\"little\"}],[\"customer_id\",{\"type\":\"ndarray\",\"array\":{\"type\":\"bytes\",\"data\":\"BAAAABAAAAAUAAAAFwAAABkAAAAaAAAAHAAAACQAAAApAAAALQAAADcAAAA8AAAARAAAAEYAAABMAAAAVgAAAFwAAAA=\"},\"shape\":[17],\"dtype\":\"int32\",\"order\":\"little\"}],[\"frequency\",{\"type\":\"ndarray\",\"array\":{\"type\":\"bytes\",\"data\":\"REQLbI4Q6D9h8XxHPVrhP2HxfEc9WuE/YfF8Rz1a4T9h8XxHPVrhP2HxfEc9WuE/YfF8Rz1a4T9h8XxHPVrhP2HxfEc9WuE/YfF8Rz1a4T9h8XxHPVrhP2HxfEc9WuE/YfF8Rz1a4T9h8XxHPVrhP2HxfEc9WuE/YfF8Rz1a4T9h8XxHPVrhPw==\"},\"shape\":[17],\"dtype\":\"float64\",\"order\":\"little\"}],[\"segment\",{\"type\":\"ndarray\",\"array\":{\"type\":\"bytes\",\"data\":\"AQAAAAEAAAABAAAAAQAAAAEAAAABAAAAAQAAAAEAAAABAAAAAQAAAAEAAAABAAAAAQAAAAEAAAABAAAAAQAAAAEAAAA=\"},\"shape\":[17],\"dtype\":\"int32\",\"order\":\"little\"}]]}}},\"view\":{\"type\":\"object\",\"name\":\"CDSView\",\"id\":\"f5f5c9a1-a123-4793-9f43-599cb38e356f\",\"attributes\":{\"filter\":{\"type\":\"object\",\"name\":\"AllIndices\",\"id\":\"9b59bd30-300f-4cf7-b651-bee1e3fffd33\"}}},\"glyph\":{\"type\":\"object\",\"name\":\"Scatter\",\"id\":\"c00a5ceb-f9d2-47fd-b50d-4d5bb10f46a1\",\"attributes\":{\"tags\":[\"apply_ranges\"],\"x\":{\"type\":\"field\",\"field\":\"recency\"},\"y\":{\"type\":\"field\",\"field\":\"monetary\"},\"size\":{\"type\":\"value\",\"value\":5.477225575051661},\"line_color\":{\"type\":\"value\",\"value\":\"#fc4f30\"},\"fill_color\":{\"type\":\"value\",\"value\":\"#fc4f30\"},\"hatch_color\":{\"type\":\"value\",\"value\":\"#fc4f30\"}}},\"selection_glyph\":{\"type\":\"object\",\"name\":\"Scatter\",\"id\":\"ea065df2-e477-4be8-82a2-cbf8d252fe22\",\"attributes\":{\"tags\":[\"apply_ranges\"],\"x\":{\"type\":\"field\",\"field\":\"recency\"},\"y\":{\"type\":\"field\",\"field\":\"monetary\"},\"size\":{\"type\":\"value\",\"value\":5.477225575051661},\"angle\":{\"type\":\"value\",\"value\":0.0},\"line_color\":{\"type\":\"value\",\"value\":\"#fc4f30\"},\"line_alpha\":{\"type\":\"value\",\"value\":1.0},\"line_width\":{\"type\":\"value\",\"value\":1},\"line_join\":{\"type\":\"value\",\"value\":\"bevel\"},\"line_cap\":{\"type\":\"value\",\"value\":\"butt\"},\"line_dash\":{\"type\":\"value\",\"value\":[]},\"line_dash_offset\":{\"type\":\"value\",\"value\":0},\"fill_color\":{\"type\":\"value\",\"value\":\"#fc4f30\"},\"fill_alpha\":{\"type\":\"value\",\"value\":1.0},\"hatch_color\":{\"type\":\"value\",\"value\":\"#fc4f30\"},\"hatch_alpha\":{\"type\":\"value\",\"value\":1.0},\"hatch_scale\":{\"type\":\"value\",\"value\":12.0},\"hatch_pattern\":{\"type\":\"value\",\"value\":null},\"hatch_weight\":{\"type\":\"value\",\"value\":1.0},\"marker\":{\"type\":\"value\",\"value\":\"circle\"}}},\"nonselection_glyph\":{\"type\":\"object\",\"name\":\"Scatter\",\"id\":\"1c5dfd00-0820-4ba8-883f-d31b4bed2608\",\"attributes\":{\"tags\":[\"apply_ranges\"],\"x\":{\"type\":\"field\",\"field\":\"recency\"},\"y\":{\"type\":\"field\",\"field\":\"monetary\"},\"size\":{\"type\":\"value\",\"value\":5.477225575051661},\"line_color\":{\"type\":\"value\",\"value\":\"#fc4f30\"},\"line_alpha\":{\"type\":\"value\",\"value\":0.1},\"fill_color\":{\"type\":\"value\",\"value\":\"#fc4f30\"},\"fill_alpha\":{\"type\":\"value\",\"value\":0.1},\"hatch_color\":{\"type\":\"value\",\"value\":\"#fc4f30\"},\"hatch_alpha\":{\"type\":\"value\",\"value\":0.1}}},\"muted_glyph\":{\"type\":\"object\",\"name\":\"Scatter\",\"id\":\"53587992-4d76-4274-9543-7209f8563cf8\",\"attributes\":{\"tags\":[\"apply_ranges\"],\"x\":{\"type\":\"field\",\"field\":\"recency\"},\"y\":{\"type\":\"field\",\"field\":\"monetary\"},\"size\":{\"type\":\"value\",\"value\":5.477225575051661},\"line_color\":{\"type\":\"value\",\"value\":\"#fc4f30\"},\"line_alpha\":{\"type\":\"value\",\"value\":0.2},\"fill_color\":{\"type\":\"value\",\"value\":\"#fc4f30\"},\"fill_alpha\":{\"type\":\"value\",\"value\":0.2},\"hatch_color\":{\"type\":\"value\",\"value\":\"#fc4f30\"},\"hatch_alpha\":{\"type\":\"value\",\"value\":0.2}}}}},{\"type\":\"object\",\"name\":\"GlyphRenderer\",\"id\":\"90db59be-7c26-4c8f-a3f8-8cb74ce33394\",\"attributes\":{\"name\":\"2\",\"data_source\":{\"type\":\"object\",\"name\":\"ColumnDataSource\",\"id\":\"6fd178d3-1641-46dd-be52-141273b5d7b4\",\"attributes\":{\"selected\":{\"type\":\"object\",\"name\":\"Selection\",\"id\":\"b0f0909b-8ccc-4188-b326-874a01a6f78e\",\"attributes\":{\"indices\":[],\"line_indices\":[]}},\"selection_policy\":{\"type\":\"object\",\"name\":\"UnionRenderers\",\"id\":\"5e3dc368-1498-4fcd-93c4-d7b32792a4c6\"},\"data\":{\"type\":\"map\",\"entries\":[[\"recency\",{\"type\":\"ndarray\",\"array\":{\"type\":\"bytes\",\"data\":\"vQAAAN8AAADDAAAA+QAAAKUAAABEAAAAYgAAAH8AAACtAAAA8wAAAPkAAABoAAAApAAAANoAAAD0AAAA\"},\"shape\":[15],\"dtype\":\"int32\",\"order\":\"little\"}],[\"monetary\",{\"type\":\"ndarray\",\"array\":{\"type\":\"bytes\",\"data\":\"CjEYMomeJUBKA6iP9NElQHpuo+A90SRA0JK9R47rJED0n62KSV4kQK9cjrtouiVAT8fIqRw9IkD128vtx9UkQFMYTL/HLyRAmDypXJLtJUAzFlDUmOglQKKMWoyI/CVAWPOnrnXpJUCaJUEXwigmQHnZAdsI7SRA\"},\"shape\":[15],\"dtype\":\"float64\",\"order\":\"little\"}],[\"customer_id\",{\"type\":\"ndarray\",\"array\":{\"type\":\"bytes\",\"data\":\"DQAAAA4AAAASAAAAIgAAACMAAAAwAAAAMQAAADgAAAA5AAAASQAAAE0AAABTAAAAVQAAAFcAAABZAAAA\"},\"shape\":[15],\"dtype\":\"int32\",\"order\":\"little\"}],[\"frequency\",{\"type\":\"ndarray\",\"array\":{\"type\":\"bytes\",\"data\":\"REQLbI4Q6D9h8XxHPVrhP2HxfEc9WuE/YfF8Rz1a4T9ERAtsjhDoP0REC2yOEOg/YfF8Rz1a4T+KO75yNr7rP0REC2yOEOg/YfF8Rz1a4T9h8XxHPVrhP0REC2yOEOg/REQLbI4Q6D9h8XxHPVrhPwAAAAAAAAAA\"},\"shape\":[15],\"dtype\":\"float64\",\"order\":\"little\"}],[\"segment\",{\"type\":\"ndarray\",\"array\":{\"type\":\"bytes\",\"data\":\"AgAAAAIAAAACAAAAAgAAAAIAAAACAAAAAgAAAAIAAAACAAAAAgAAAAIAAAACAAAAAgAAAAIAAAACAAAA\"},\"shape\":[15],\"dtype\":\"int32\",\"order\":\"little\"}]]}}},\"view\":{\"type\":\"object\",\"name\":\"CDSView\",\"id\":\"14c33fc1-7d4e-479e-b3ee-ebd693d68996\",\"attributes\":{\"filter\":{\"type\":\"object\",\"name\":\"AllIndices\",\"id\":\"b7361df5-2ce1-4136-8660-b60ac59ea0f0\"}}},\"glyph\":{\"type\":\"object\",\"name\":\"Scatter\",\"id\":\"1fb64327-1622-4810-8ffa-b2cb6415d045\",\"attributes\":{\"tags\":[\"apply_ranges\"],\"x\":{\"type\":\"field\",\"field\":\"recency\"},\"y\":{\"type\":\"field\",\"field\":\"monetary\"},\"size\":{\"type\":\"value\",\"value\":5.477225575051661},\"line_color\":{\"type\":\"value\",\"value\":\"#e5ae38\"},\"fill_color\":{\"type\":\"value\",\"value\":\"#e5ae38\"},\"hatch_color\":{\"type\":\"value\",\"value\":\"#e5ae38\"}}},\"selection_glyph\":{\"type\":\"object\",\"name\":\"Scatter\",\"id\":\"1d763dfb-c2de-41a5-8fb4-eccca25e4f0e\",\"attributes\":{\"tags\":[\"apply_ranges\"],\"x\":{\"type\":\"field\",\"field\":\"recency\"},\"y\":{\"type\":\"field\",\"field\":\"monetary\"},\"size\":{\"type\":\"value\",\"value\":5.477225575051661},\"angle\":{\"type\":\"value\",\"value\":0.0},\"line_color\":{\"type\":\"value\",\"value\":\"#e5ae38\"},\"line_alpha\":{\"type\":\"value\",\"value\":1.0},\"line_width\":{\"type\":\"value\",\"value\":1},\"line_join\":{\"type\":\"value\",\"value\":\"bevel\"},\"line_cap\":{\"type\":\"value\",\"value\":\"butt\"},\"line_dash\":{\"type\":\"value\",\"value\":[]},\"line_dash_offset\":{\"type\":\"value\",\"value\":0},\"fill_color\":{\"type\":\"value\",\"value\":\"#e5ae38\"},\"fill_alpha\":{\"type\":\"value\",\"value\":1.0},\"hatch_color\":{\"type\":\"value\",\"value\":\"#e5ae38\"},\"hatch_alpha\":{\"type\":\"value\",\"value\":1.0},\"hatch_scale\":{\"type\":\"value\",\"value\":12.0},\"hatch_pattern\":{\"type\":\"value\",\"value\":null},\"hatch_weight\":{\"type\":\"value\",\"value\":1.0},\"marker\":{\"type\":\"value\",\"value\":\"circle\"}}},\"nonselection_glyph\":{\"type\":\"object\",\"name\":\"Scatter\",\"id\":\"64c620d1-8747-4ea0-b47b-b769c11bd802\",\"attributes\":{\"tags\":[\"apply_ranges\"],\"x\":{\"type\":\"field\",\"field\":\"recency\"},\"y\":{\"type\":\"field\",\"field\":\"monetary\"},\"size\":{\"type\":\"value\",\"value\":5.477225575051661},\"line_color\":{\"type\":\"value\",\"value\":\"#e5ae38\"},\"line_alpha\":{\"type\":\"value\",\"value\":0.1},\"fill_color\":{\"type\":\"value\",\"value\":\"#e5ae38\"},\"fill_alpha\":{\"type\":\"value\",\"value\":0.1},\"hatch_color\":{\"type\":\"value\",\"value\":\"#e5ae38\"},\"hatch_alpha\":{\"type\":\"value\",\"value\":0.1}}},\"muted_glyph\":{\"type\":\"object\",\"name\":\"Scatter\",\"id\":\"a025d326-ea67-420c-adb0-91853e601100\",\"attributes\":{\"tags\":[\"apply_ranges\"],\"x\":{\"type\":\"field\",\"field\":\"recency\"},\"y\":{\"type\":\"field\",\"field\":\"monetary\"},\"size\":{\"type\":\"value\",\"value\":5.477225575051661},\"line_color\":{\"type\":\"value\",\"value\":\"#e5ae38\"},\"line_alpha\":{\"type\":\"value\",\"value\":0.2},\"fill_color\":{\"type\":\"value\",\"value\":\"#e5ae38\"},\"fill_alpha\":{\"type\":\"value\",\"value\":0.2},\"hatch_color\":{\"type\":\"value\",\"value\":\"#e5ae38\"},\"hatch_alpha\":{\"type\":\"value\",\"value\":0.2}}}}},{\"type\":\"object\",\"name\":\"GlyphRenderer\",\"id\":\"4929528a-f64d-45cc-b74c-9c6eba76ed62\",\"attributes\":{\"name\":\"3\",\"data_source\":{\"type\":\"object\",\"name\":\"ColumnDataSource\",\"id\":\"f53dcbf6-ba60-4bd7-918e-8717fa43a8c7\",\"attributes\":{\"selected\":{\"type\":\"object\",\"name\":\"Selection\",\"id\":\"8a1b3219-f420-4caa-8653-eececb6f843c\",\"attributes\":{\"indices\":[],\"line_indices\":[]}},\"selection_policy\":{\"type\":\"object\",\"name\":\"UnionRenderers\",\"id\":\"7f7240c4-a67a-47cf-8fa1-e8635480cfc5\"},\"data\":{\"type\":\"map\",\"entries\":[[\"recency\",{\"type\":\"ndarray\",\"array\":{\"type\":\"bytes\",\"data\":\"DgAAADcAAAA=\"},\"shape\":[2],\"dtype\":\"int32\",\"order\":\"little\"}],[\"monetary\",{\"type\":\"ndarray\",\"array\":{\"type\":\"bytes\",\"data\":\"5+eYOUssK0DngIqfFcMqQA==\"},\"shape\":[2],\"dtype\":\"float64\",\"order\":\"little\"}],[\"customer_id\",{\"type\":\"ndarray\",\"array\":{\"type\":\"bytes\",\"data\":\"JQAAAFsAAAA=\"},\"shape\":[2],\"dtype\":\"int32\",\"order\":\"little\"}],[\"frequency\",{\"type\":\"ndarray\",\"array\":{\"type\":\"bytes\",\"data\":\"+XZkR/N/8z+gPTe0W9jyPw==\"},\"shape\":[2],\"dtype\":\"float64\",\"order\":\"little\"}],[\"segment\",{\"type\":\"ndarray\",\"array\":{\"type\":\"bytes\",\"data\":\"AwAAAAMAAAA=\"},\"shape\":[2],\"dtype\":\"int32\",\"order\":\"little\"}]]}}},\"view\":{\"type\":\"object\",\"name\":\"CDSView\",\"id\":\"ba09e777-3e7e-4ca6-9032-06985febb49e\",\"attributes\":{\"filter\":{\"type\":\"object\",\"name\":\"AllIndices\",\"id\":\"a16aa4f9-19d3-44ad-ab6f-e8b86a9e5a20\"}}},\"glyph\":{\"type\":\"object\",\"name\":\"Scatter\",\"id\":\"e0331e7a-6552-494d-aeba-7b6da8bfcd30\",\"attributes\":{\"tags\":[\"apply_ranges\"],\"x\":{\"type\":\"field\",\"field\":\"recency\"},\"y\":{\"type\":\"field\",\"field\":\"monetary\"},\"size\":{\"type\":\"value\",\"value\":5.477225575051661},\"line_color\":{\"type\":\"value\",\"value\":\"#6d904f\"},\"fill_color\":{\"type\":\"value\",\"value\":\"#6d904f\"},\"hatch_color\":{\"type\":\"value\",\"value\":\"#6d904f\"}}},\"selection_glyph\":{\"type\":\"object\",\"name\":\"Scatter\",\"id\":\"8b286aed-cfc7-428a-9b64-7047481466e4\",\"attributes\":{\"tags\":[\"apply_ranges\"],\"x\":{\"type\":\"field\",\"field\":\"recency\"},\"y\":{\"type\":\"field\",\"field\":\"monetary\"},\"size\":{\"type\":\"value\",\"value\":5.477225575051661},\"angle\":{\"type\":\"value\",\"value\":0.0},\"line_color\":{\"type\":\"value\",\"value\":\"#6d904f\"},\"line_alpha\":{\"type\":\"value\",\"value\":1.0},\"line_width\":{\"type\":\"value\",\"value\":1},\"line_join\":{\"type\":\"value\",\"value\":\"bevel\"},\"line_cap\":{\"type\":\"value\",\"value\":\"butt\"},\"line_dash\":{\"type\":\"value\",\"value\":[]},\"line_dash_offset\":{\"type\":\"value\",\"value\":0},\"fill_color\":{\"type\":\"value\",\"value\":\"#6d904f\"},\"fill_alpha\":{\"type\":\"value\",\"value\":1.0},\"hatch_color\":{\"type\":\"value\",\"value\":\"#6d904f\"},\"hatch_alpha\":{\"type\":\"value\",\"value\":1.0},\"hatch_scale\":{\"type\":\"value\",\"value\":12.0},\"hatch_pattern\":{\"type\":\"value\",\"value\":null},\"hatch_weight\":{\"type\":\"value\",\"value\":1.0},\"marker\":{\"type\":\"value\",\"value\":\"circle\"}}},\"nonselection_glyph\":{\"type\":\"object\",\"name\":\"Scatter\",\"id\":\"f690c717-6bb7-4977-9016-18df62648dfe\",\"attributes\":{\"tags\":[\"apply_ranges\"],\"x\":{\"type\":\"field\",\"field\":\"recency\"},\"y\":{\"type\":\"field\",\"field\":\"monetary\"},\"size\":{\"type\":\"value\",\"value\":5.477225575051661},\"line_color\":{\"type\":\"value\",\"value\":\"#6d904f\"},\"line_alpha\":{\"type\":\"value\",\"value\":0.1},\"fill_color\":{\"type\":\"value\",\"value\":\"#6d904f\"},\"fill_alpha\":{\"type\":\"value\",\"value\":0.1},\"hatch_color\":{\"type\":\"value\",\"value\":\"#6d904f\"},\"hatch_alpha\":{\"type\":\"value\",\"value\":0.1}}},\"muted_glyph\":{\"type\":\"object\",\"name\":\"Scatter\",\"id\":\"8e787c6a-2419-4153-a45e-9218d9df3d31\",\"attributes\":{\"tags\":[\"apply_ranges\"],\"x\":{\"type\":\"field\",\"field\":\"recency\"},\"y\":{\"type\":\"field\",\"field\":\"monetary\"},\"size\":{\"type\":\"value\",\"value\":5.477225575051661},\"line_color\":{\"type\":\"value\",\"value\":\"#6d904f\"},\"line_alpha\":{\"type\":\"value\",\"value\":0.2},\"fill_color\":{\"type\":\"value\",\"value\":\"#6d904f\"},\"fill_alpha\":{\"type\":\"value\",\"value\":0.2},\"hatch_color\":{\"type\":\"value\",\"value\":\"#6d904f\"},\"hatch_alpha\":{\"type\":\"value\",\"value\":0.2}}}}}],\"toolbar\":{\"type\":\"object\",\"name\":\"Toolbar\",\"id\":\"1a6436a0-0600-4c23-a61c-fcd7ce84dd7c\",\"attributes\":{\"tools\":[{\"type\":\"object\",\"name\":\"WheelZoomTool\",\"id\":\"fa0f6aa2-6d1c-4c8a-9f3e-191b6dbe47ad\",\"attributes\":{\"tags\":[\"hv_created\"],\"renderers\":\"auto\",\"zoom_together\":\"none\"}},{\"type\":\"object\",\"name\":\"HoverTool\",\"id\":\"32f3a0bc-140f-446b-9478-8881668480e9\",\"attributes\":{\"tags\":[\"hv_created\"],\"renderers\":[{\"id\":\"9d590888-230b-46eb-a413-fdebd0ebe000\"},{\"id\":\"6bf5bcb1-e4af-45c5-86bc-c1e5067275a2\"},{\"id\":\"90db59be-7c26-4c8f-a3f8-8cb74ce33394\"},{\"id\":\"4929528a-f64d-45cc-b74c-9c6eba76ed62\"}],\"tooltips\":[[\"segment\",\"@{segment}\"],[\"recency\",\"@{recency}\"],[\"monetary\",\"@{monetary}\"],[\"customer_id\",\"@{customer_id}\"],[\"frequency\",\"@{frequency}\"]]}},{\"type\":\"object\",\"name\":\"SaveTool\",\"id\":\"7f78cbf8-7428-4cff-8b10-8cf5202c33f3\"},{\"type\":\"object\",\"name\":\"PanTool\",\"id\":\"855db679-d788-40d0-b3eb-c2b42477c041\"},{\"type\":\"object\",\"name\":\"BoxZoomTool\",\"id\":\"7149a85d-8d7e-4fca-ae6d-946e38e1e237\",\"attributes\":{\"overlay\":{\"type\":\"object\",\"name\":\"BoxAnnotation\",\"id\":\"abad1e53-0ad4-499e-b342-3c5f9db01dca\",\"attributes\":{\"syncable\":false,\"line_color\":\"black\",\"line_alpha\":1.0,\"line_width\":2,\"line_dash\":[4,4],\"fill_color\":\"lightgrey\",\"fill_alpha\":0.5,\"level\":\"overlay\",\"visible\":false,\"left\":{\"type\":\"number\",\"value\":\"nan\"},\"right\":{\"type\":\"number\",\"value\":\"nan\"},\"top\":{\"type\":\"number\",\"value\":\"nan\"},\"bottom\":{\"type\":\"number\",\"value\":\"nan\"},\"left_units\":\"canvas\",\"right_units\":\"canvas\",\"top_units\":\"canvas\",\"bottom_units\":\"canvas\",\"handles\":{\"type\":\"object\",\"name\":\"BoxInteractionHandles\",\"id\":\"c07b02a2-1de8-45e7-b872-dbfd0f7e27fb\",\"attributes\":{\"all\":{\"type\":\"object\",\"name\":\"AreaVisuals\",\"id\":\"a5f92a88-ec39-41dc-9c0b-34ccf7977e62\",\"attributes\":{\"fill_color\":\"white\",\"hover_fill_color\":\"lightgray\"}}}}}}}},{\"type\":\"object\",\"name\":\"ResetTool\",\"id\":\"3ec4709f-e8a5-4fb7-ad2b-e2f51712708c\"}],\"active_drag\":{\"id\":\"855db679-d788-40d0-b3eb-c2b42477c041\"},\"active_scroll\":{\"id\":\"fa0f6aa2-6d1c-4c8a-9f3e-191b6dbe47ad\"}}},\"left\":[{\"type\":\"object\",\"name\":\"LinearAxis\",\"id\":\"960ff1cc-7466-4b69-baaa-a4bdcea2a47f\",\"attributes\":{\"ticker\":{\"type\":\"object\",\"name\":\"BasicTicker\",\"id\":\"9909eb0a-1768-41fe-a201-b382e1aa31bd\",\"attributes\":{\"mantissas\":[1,2,5]}},\"formatter\":{\"type\":\"object\",\"name\":\"BasicTickFormatter\",\"id\":\"1c26d97d-ef97-4e7d-9fbc-d826183741ff\"},\"axis_label\":\"monetary\",\"major_label_policy\":{\"type\":\"object\",\"name\":\"AllLabels\",\"id\":\"1f6878e2-78f4-4b8b-94ea-9e6d5d7fa875\"}}}],\"right\":[{\"type\":\"object\",\"name\":\"Legend\",\"id\":\"2a2a5108-294e-4ba9-a4e1-84f62fcde8ad\",\"attributes\":{\"location\":[0,0],\"title\":\"segment\",\"click_policy\":\"mute\",\"items\":[{\"type\":\"object\",\"name\":\"LegendItem\",\"id\":\"7c8120eb-c046-40fb-88ec-a612db46c376\",\"attributes\":{\"label\":{\"type\":\"value\",\"value\":\"0\"},\"renderers\":[{\"id\":\"9d590888-230b-46eb-a413-fdebd0ebe000\"}]}},{\"type\":\"object\",\"name\":\"LegendItem\",\"id\":\"3c5d7f67-d9c0-477a-8b50-6fa0c5f43430\",\"attributes\":{\"label\":{\"type\":\"value\",\"value\":\"1\"},\"renderers\":[{\"id\":\"6bf5bcb1-e4af-45c5-86bc-c1e5067275a2\"}]}},{\"type\":\"object\",\"name\":\"LegendItem\",\"id\":\"1ee87251-8e69-43f7-b373-9d3c0e7c7096\",\"attributes\":{\"label\":{\"type\":\"value\",\"value\":\"2\"},\"renderers\":[{\"id\":\"90db59be-7c26-4c8f-a3f8-8cb74ce33394\"}]}},{\"type\":\"object\",\"name\":\"LegendItem\",\"id\":\"926bedac-da02-4c27-8fd5-8523fed5b4ee\",\"attributes\":{\"label\":{\"type\":\"value\",\"value\":\"3\"},\"renderers\":[{\"id\":\"4929528a-f64d-45cc-b74c-9c6eba76ed62\"}]}}]}}],\"below\":[{\"type\":\"object\",\"name\":\"LinearAxis\",\"id\":\"30626c6c-01f1-44ce-91df-bc3142503de8\",\"attributes\":{\"ticker\":{\"type\":\"object\",\"name\":\"BasicTicker\",\"id\":\"ee58dae8-a5f4-4bc8-bd23-e24b6f12d9b1\",\"attributes\":{\"mantissas\":[1,2,5]}},\"formatter\":{\"type\":\"object\",\"name\":\"BasicTickFormatter\",\"id\":\"4c53824b-5069-4d7b-af63-7548ea5b31ad\"},\"axis_label\":\"recency\",\"major_label_policy\":{\"type\":\"object\",\"name\":\"AllLabels\",\"id\":\"cbef90f7-608c-44fc-8807-a47733fbb150\"}}}],\"center\":[{\"type\":\"object\",\"name\":\"Grid\",\"id\":\"38e23e4c-ce24-480f-9ecd-cb12de9ac3ae\",\"attributes\":{\"axis\":{\"id\":\"30626c6c-01f1-44ce-91df-bc3142503de8\"},\"grid_line_color\":null}},{\"type\":\"object\",\"name\":\"Grid\",\"id\":\"3edbd91f-a40f-4884-8c5a-5b5c37f8564f\",\"attributes\":{\"dimension\":1,\"axis\":{\"id\":\"960ff1cc-7466-4b69-baaa-a4bdcea2a47f\"},\"grid_line_color\":null}}],\"min_border_top\":10,\"min_border_bottom\":10,\"min_border_left\":10,\"min_border_right\":10,\"output_backend\":\"webgl\"}},{\"type\":\"object\",\"name\":\"Spacer\",\"id\":\"e21a5e73-0c9b-48ff-97be-ede73e832027\",\"attributes\":{\"name\":\"HSpacer07272\",\"stylesheets\":[\"\\n:host(.pn-loading):before, .pn-loading:before {\\n  background-color: #c3c3c3;\\n  mask-size: auto calc(min(50%, 400px));\\n  -webkit-mask-size: auto calc(min(50%, 400px));\\n}\",{\"id\":\"a3aebd5d-7eb4-4358-a73b-2e3089abf7b6\"},{\"id\":\"e546fab5-c223-4e82-9ca9-5b9af55a881f\"},{\"id\":\"748a6162-e71f-4a5d-8e24-b4ee51b8355e\"}],\"margin\":0,\"sizing_mode\":\"stretch_width\",\"align\":\"start\"}}]}}],\"defs\":[{\"type\":\"model\",\"name\":\"ReactiveHTML1\"},{\"type\":\"model\",\"name\":\"FlexBox1\",\"properties\":[{\"name\":\"align_content\",\"kind\":\"Any\",\"default\":\"flex-start\"},{\"name\":\"align_items\",\"kind\":\"Any\",\"default\":\"flex-start\"},{\"name\":\"flex_direction\",\"kind\":\"Any\",\"default\":\"row\"},{\"name\":\"flex_wrap\",\"kind\":\"Any\",\"default\":\"wrap\"},{\"name\":\"gap\",\"kind\":\"Any\",\"default\":\"\"},{\"name\":\"justify_content\",\"kind\":\"Any\",\"default\":\"flex-start\"}]},{\"type\":\"model\",\"name\":\"FloatPanel1\",\"properties\":[{\"name\":\"config\",\"kind\":\"Any\",\"default\":{\"type\":\"map\"}},{\"name\":\"contained\",\"kind\":\"Any\",\"default\":true},{\"name\":\"position\",\"kind\":\"Any\",\"default\":\"right-top\"},{\"name\":\"offsetx\",\"kind\":\"Any\",\"default\":null},{\"name\":\"offsety\",\"kind\":\"Any\",\"default\":null},{\"name\":\"theme\",\"kind\":\"Any\",\"default\":\"primary\"},{\"name\":\"status\",\"kind\":\"Any\",\"default\":\"normalized\"}]},{\"type\":\"model\",\"name\":\"GridStack1\",\"properties\":[{\"name\":\"mode\",\"kind\":\"Any\",\"default\":\"warn\"},{\"name\":\"ncols\",\"kind\":\"Any\",\"default\":null},{\"name\":\"nrows\",\"kind\":\"Any\",\"default\":null},{\"name\":\"allow_resize\",\"kind\":\"Any\",\"default\":true},{\"name\":\"allow_drag\",\"kind\":\"Any\",\"default\":true},{\"name\":\"state\",\"kind\":\"Any\",\"default\":[]}]},{\"type\":\"model\",\"name\":\"drag1\",\"properties\":[{\"name\":\"slider_width\",\"kind\":\"Any\",\"default\":5},{\"name\":\"slider_color\",\"kind\":\"Any\",\"default\":\"black\"},{\"name\":\"value\",\"kind\":\"Any\",\"default\":50}]},{\"type\":\"model\",\"name\":\"click1\",\"properties\":[{\"name\":\"terminal_output\",\"kind\":\"Any\",\"default\":\"\"},{\"name\":\"debug_name\",\"kind\":\"Any\",\"default\":\"\"},{\"name\":\"clears\",\"kind\":\"Any\",\"default\":0}]},{\"type\":\"model\",\"name\":\"FastWrapper1\",\"properties\":[{\"name\":\"object\",\"kind\":\"Any\",\"default\":null},{\"name\":\"style\",\"kind\":\"Any\",\"default\":null}]},{\"type\":\"model\",\"name\":\"NotificationAreaBase1\",\"properties\":[{\"name\":\"js_events\",\"kind\":\"Any\",\"default\":{\"type\":\"map\"}},{\"name\":\"position\",\"kind\":\"Any\",\"default\":\"bottom-right\"},{\"name\":\"_clear\",\"kind\":\"Any\",\"default\":0}]},{\"type\":\"model\",\"name\":\"NotificationArea1\",\"properties\":[{\"name\":\"js_events\",\"kind\":\"Any\",\"default\":{\"type\":\"map\"}},{\"name\":\"notifications\",\"kind\":\"Any\",\"default\":[]},{\"name\":\"position\",\"kind\":\"Any\",\"default\":\"bottom-right\"},{\"name\":\"_clear\",\"kind\":\"Any\",\"default\":0},{\"name\":\"types\",\"kind\":\"Any\",\"default\":[{\"type\":\"map\",\"entries\":[[\"type\",\"warning\"],[\"background\",\"#ffc107\"],[\"icon\",{\"type\":\"map\",\"entries\":[[\"className\",\"fas fa-exclamation-triangle\"],[\"tagName\",\"i\"],[\"color\",\"white\"]]}]]},{\"type\":\"map\",\"entries\":[[\"type\",\"info\"],[\"background\",\"#007bff\"],[\"icon\",{\"type\":\"map\",\"entries\":[[\"className\",\"fas fa-info-circle\"],[\"tagName\",\"i\"],[\"color\",\"white\"]]}]]}]}]},{\"type\":\"model\",\"name\":\"Notification\",\"properties\":[{\"name\":\"background\",\"kind\":\"Any\",\"default\":null},{\"name\":\"duration\",\"kind\":\"Any\",\"default\":3000},{\"name\":\"icon\",\"kind\":\"Any\",\"default\":null},{\"name\":\"message\",\"kind\":\"Any\",\"default\":\"\"},{\"name\":\"notification_type\",\"kind\":\"Any\",\"default\":null},{\"name\":\"_destroyed\",\"kind\":\"Any\",\"default\":false}]},{\"type\":\"model\",\"name\":\"TemplateActions1\",\"properties\":[{\"name\":\"open_modal\",\"kind\":\"Any\",\"default\":0},{\"name\":\"close_modal\",\"kind\":\"Any\",\"default\":0}]},{\"type\":\"model\",\"name\":\"BootstrapTemplateActions1\",\"properties\":[{\"name\":\"open_modal\",\"kind\":\"Any\",\"default\":0},{\"name\":\"close_modal\",\"kind\":\"Any\",\"default\":0}]},{\"type\":\"model\",\"name\":\"TemplateEditor1\",\"properties\":[{\"name\":\"layout\",\"kind\":\"Any\",\"default\":[]}]},{\"type\":\"model\",\"name\":\"MaterialTemplateActions1\",\"properties\":[{\"name\":\"open_modal\",\"kind\":\"Any\",\"default\":0},{\"name\":\"close_modal\",\"kind\":\"Any\",\"default\":0}]},{\"type\":\"model\",\"name\":\"ReactiveESM1\"},{\"type\":\"model\",\"name\":\"JSComponent1\"},{\"type\":\"model\",\"name\":\"ReactComponent1\"},{\"type\":\"model\",\"name\":\"AnyWidgetComponent1\"},{\"type\":\"model\",\"name\":\"request_value1\",\"properties\":[{\"name\":\"fill\",\"kind\":\"Any\",\"default\":\"none\"},{\"name\":\"_synced\",\"kind\":\"Any\",\"default\":null},{\"name\":\"_request_sync\",\"kind\":\"Any\",\"default\":0}]}]}};\n",
       "  var render_items = [{\"docid\":\"7d23a186-17eb-40b4-a3c2-ec0c701a5e7f\",\"roots\":{\"9f8a600d-9ec3-4f07-9015-93d65bfb2a20\":\"f8616889-e64a-4df3-b40b-ed4433d03e6b\"},\"root_ids\":[\"9f8a600d-9ec3-4f07-9015-93d65bfb2a20\"]}];\n",
       "  var docs = Object.values(docs_json)\n",
       "  if (!docs) {\n",
       "    return\n",
       "  }\n",
       "  const py_version = docs[0].version.replace('rc', '-rc.').replace('.dev', '-dev.')\n",
       "  async function embed_document(root) {\n",
       "    var Bokeh = get_bokeh(root)\n",
       "    await Bokeh.embed.embed_items_notebook(docs_json, render_items);\n",
       "    for (const render_item of render_items) {\n",
       "      for (const root_id of render_item.root_ids) {\n",
       "\tconst id_el = document.getElementById(root_id)\n",
       "\tif (id_el.children.length && id_el.children[0].hasAttribute('data-root-id')) {\n",
       "\t  const root_el = id_el.children[0]\n",
       "\t  root_el.id = root_el.id + '-rendered'\n",
       "\t  for (const child of root_el.children) {\n",
       "            // Ensure JupyterLab does not capture keyboard shortcuts\n",
       "            // see: https://jupyterlab.readthedocs.io/en/4.1.x/extension/notebook.html#keyboard-interaction-model\n",
       "\t    child.setAttribute('data-lm-suppress-shortcuts', 'true')\n",
       "\t  }\n",
       "\t}\n",
       "      }\n",
       "    }\n",
       "  }\n",
       "  function get_bokeh(root) {\n",
       "    if (root.Bokeh === undefined) {\n",
       "      return null\n",
       "    } else if (root.Bokeh.version !== py_version) {\n",
       "      if (root.Bokeh.versions === undefined || !root.Bokeh.versions.has(py_version)) {\n",
       "\treturn null\n",
       "      }\n",
       "      return root.Bokeh.versions.get(py_version);\n",
       "    } else if (root.Bokeh.version === py_version) {\n",
       "      return root.Bokeh\n",
       "    }\n",
       "    return null\n",
       "  }\n",
       "  function is_loaded(root) {\n",
       "    var Bokeh = get_bokeh(root)\n",
       "    return (Bokeh != null && Bokeh.Panel !== undefined)\n",
       "  }\n",
       "  if (is_loaded(root)) {\n",
       "    embed_document(root);\n",
       "  } else {\n",
       "    var attempts = 0;\n",
       "    var timer = setInterval(function(root) {\n",
       "      if (is_loaded(root)) {\n",
       "        clearInterval(timer);\n",
       "        embed_document(root);\n",
       "      } else if (document.readyState == \"complete\") {\n",
       "        attempts++;\n",
       "        if (attempts > 200) {\n",
       "          clearInterval(timer);\n",
       "\t  var Bokeh = get_bokeh(root)\n",
       "\t  if (Bokeh == null || Bokeh.Panel == null) {\n",
       "            console.warn(\"Panel: ERROR: Unable to run Panel code because Bokeh or Panel library is missing\");\n",
       "\t  } else {\n",
       "\t    console.warn(\"Panel: WARNING: Attempting to render but not all required libraries could be resolved.\")\n",
       "\t    embed_document(root)\n",
       "\t  }\n",
       "        }\n",
       "      }\n",
       "    }, 25, root)\n",
       "  }\n",
       "})(window);</script>"
      ],
      "text/plain": [
       ":NdOverlay   [segment]\n",
       "   :Scatter   [recency]   (monetary,customer_id,frequency,segment)"
      ]
     },
     "metadata": {
      "application/vnd.holoviews_exec.v0+json": {
       "id": "9f8a600d-9ec3-4f07-9015-93d65bfb2a20"
      }
     },
     "output_type": "display_data"
    },
    {
     "name": "stdout",
     "output_type": "stream",
     "text": [
      "---------------------------------------------------------------CALINSKI HARABASZ SCORE----------------------------------------------------------------\n",
      "[{'k': 2, 'score': 67.55615501238614}, {'k': 3, 'score': 59.06841551216313}, {'k': 4, 'score': 65.7180735912111}, {'k': 5, 'score': 76.4364754417785}]\n",
      "Best k value = 5 (ch_score score = 76.436)\n"
     ]
    },
    {
     "data": {},
     "metadata": {},
     "output_type": "display_data"
    },
    {
     "data": {
      "application/vnd.holoviews_exec.v0+json": "",
      "text/html": [
       "<div id='0d475d1d-fd7a-4567-a89e-8f238a4e98ee'>\n",
       "  <div id=\"cf6e0c4a-b28d-49b3-a9a8-fbc72e018ba8\" data-root-id=\"0d475d1d-fd7a-4567-a89e-8f238a4e98ee\" style=\"display: contents;\"></div>\n",
       "</div>\n",
       "<script type=\"application/javascript\">(function(root) {\n",
       "  var docs_json = {\"1ffc572d-acb8-42a1-9d8a-8a68b3a2683d\":{\"version\":\"3.5.2\",\"title\":\"Bokeh Application\",\"roots\":[{\"type\":\"object\",\"name\":\"Row\",\"id\":\"0d475d1d-fd7a-4567-a89e-8f238a4e98ee\",\"attributes\":{\"name\":\"Row07433\",\"tags\":[\"embedded\"],\"stylesheets\":[\"\\n:host(.pn-loading):before, .pn-loading:before {\\n  background-color: #c3c3c3;\\n  mask-size: auto calc(min(50%, 400px));\\n  -webkit-mask-size: auto calc(min(50%, 400px));\\n}\",{\"type\":\"object\",\"name\":\"ImportedStyleSheet\",\"id\":\"ba856b2f-68ee-47af-b56f-f844488328c9\",\"attributes\":{\"url\":\"https://cdn.holoviz.org/panel/1.5.3/dist/css/loading.css\"}},{\"type\":\"object\",\"name\":\"ImportedStyleSheet\",\"id\":\"5e59f95d-1109-4fc5-98c6-81d8156fd4a0\",\"attributes\":{\"url\":\"https://cdn.holoviz.org/panel/1.5.3/dist/css/listpanel.css\"}},{\"type\":\"object\",\"name\":\"ImportedStyleSheet\",\"id\":\"36a16ed4-d412-4044-b946-cb72f23b4a7a\",\"attributes\":{\"url\":\"https://cdn.holoviz.org/panel/1.5.3/dist/bundled/theme/default.css\"}},{\"type\":\"object\",\"name\":\"ImportedStyleSheet\",\"id\":\"df12e376-e300-41cb-aa1a-4b09d9c0bb01\",\"attributes\":{\"url\":\"https://cdn.holoviz.org/panel/1.5.3/dist/bundled/theme/native.css\"}}],\"min_width\":700,\"margin\":0,\"sizing_mode\":\"stretch_width\",\"align\":\"start\",\"children\":[{\"type\":\"object\",\"name\":\"Spacer\",\"id\":\"f0752954-31cd-454f-bedd-8c56b4d4e1bf\",\"attributes\":{\"name\":\"HSpacer07437\",\"stylesheets\":[\"\\n:host(.pn-loading):before, .pn-loading:before {\\n  background-color: #c3c3c3;\\n  mask-size: auto calc(min(50%, 400px));\\n  -webkit-mask-size: auto calc(min(50%, 400px));\\n}\",{\"id\":\"ba856b2f-68ee-47af-b56f-f844488328c9\"},{\"id\":\"36a16ed4-d412-4044-b946-cb72f23b4a7a\"},{\"id\":\"df12e376-e300-41cb-aa1a-4b09d9c0bb01\"}],\"margin\":0,\"sizing_mode\":\"stretch_width\",\"align\":\"start\"}},{\"type\":\"object\",\"name\":\"Figure\",\"id\":\"492e9a6d-bc8e-43d8-8cb7-dec0b255857d\",\"attributes\":{\"width\":700,\"height\":300,\"margin\":[5,10],\"sizing_mode\":\"fixed\",\"align\":\"start\",\"x_range\":{\"type\":\"object\",\"name\":\"Range1d\",\"id\":\"023b4996-316c-47c5-bee7-212ed22d2439\",\"attributes\":{\"name\":\"recency\",\"tags\":[[[\"recency\",null]],[]],\"start\":-21.17142857142857,\"end\":515.1714285714286,\"reset_start\":-21.17142857142857,\"reset_end\":515.1714285714286}},\"y_range\":{\"type\":\"object\",\"name\":\"Range1d\",\"id\":\"4855e028-6423-4d7c-bb72-de5cad2b4425\",\"attributes\":{\"name\":\"monetary\",\"tags\":[[[\"monetary\",null]],{\"type\":\"map\",\"entries\":[[\"invert_yaxis\",false],[\"autorange\",false]]}],\"start\":8.672644096702083,\"end\":14.03322663243378,\"reset_start\":8.672644096702083,\"reset_end\":14.03322663243378}},\"x_scale\":{\"type\":\"object\",\"name\":\"LinearScale\",\"id\":\"b9c1fcc2-45ed-47ca-882a-391d233459e1\"},\"y_scale\":{\"type\":\"object\",\"name\":\"LinearScale\",\"id\":\"11abefdb-491d-4c25-a3bf-74b244d0defe\"},\"title\":{\"type\":\"object\",\"name\":\"Title\",\"id\":\"df207dc2-67b3-424a-8a78-e07dccd6388c\",\"attributes\":{\"text_color\":\"black\",\"text_font_size\":\"12pt\"}},\"renderers\":[{\"type\":\"object\",\"name\":\"GlyphRenderer\",\"id\":\"0fd12fb6-096e-4679-868b-7f2810d182d0\",\"attributes\":{\"name\":\"1\",\"data_source\":{\"type\":\"object\",\"name\":\"ColumnDataSource\",\"id\":\"59a2b524-604d-4f46-8ed4-d5e4dee5f774\",\"attributes\":{\"selected\":{\"type\":\"object\",\"name\":\"Selection\",\"id\":\"f5cc059e-13b4-42cb-9112-2e71ba8c04cd\",\"attributes\":{\"indices\":[],\"line_indices\":[]}},\"selection_policy\":{\"type\":\"object\",\"name\":\"UnionRenderers\",\"id\":\"a5f385a3-f934-4ecc-80bb-d3f66d793483\"},\"data\":{\"type\":\"map\",\"entries\":[[\"recency\",{\"type\":\"ndarray\",\"array\":{\"type\":\"bytes\",\"data\":\"twAAALwAAACEAAAAKAAAAKcAAACCAAAALgAAAAwAAABhAAAAwgAAALoAAAAZAAAAgwAAAEsAAABFAAAAtQAAACEAAABLAAAAPQAAAAAAAABTAAAAxAAAAMUAAACXAAAAqQAAABAAAAB9AAAAwQAAAGcAAABqAAAABwAAACcAAAAYAAAATAAAADIAAAAwAAAA\"},\"shape\":[36],\"dtype\":\"int32\",\"order\":\"little\"}],[\"monetary\",{\"type\":\"ndarray\",\"array\":{\"type\":\"bytes\",\"data\":\"pn+61XFeJ0Bw2fhQz18nQI7RoAtNZydA7aAn5GfiJkD5PV5xr2MoQMJrzRKEMidAf2DPWGYRJ0Ct5JPBOxAnQCTS9lc1PSdAWkdXDIyTJ0D6eWguXasnQOG+7rpdZidAMuQLx4hJJ0CyvhUoFQEnQKIZB0+u4ydA6/b8DTPwJ0AB1FJeLJcmQET5WPa0tiZA7VT5bCSLJkAQaw8WiNUnQBCsTHPR1SdANXGnnXxSJ0CnRk3WlmYnQGxjyesfLCdABxNivQ1sKEBdv9O3320mQKrER352HSdASfpfTEBVJ0AaXEU8VaUnQFX3ih+GHCdAFVmkQ1K8J0AILp1NJT4mQNaxY2FlUCdApapxeTofKEBdTqtVkVMmQKBOWCFwoCdA\"},\"shape\":[36],\"dtype\":\"float64\",\"order\":\"little\"}],[\"customer_id\",{\"type\":\"ndarray\",\"array\":{\"type\":\"bytes\",\"data\":\"AQAAAAMAAAAFAAAABwAAAAgAAAAJAAAACgAAAAsAAAAMAAAADwAAABEAAAAVAAAAFgAAABgAAAAbAAAAHQAAACYAAAAnAAAAKAAAACsAAAAsAAAALgAAADUAAAA9AAAAPgAAAD8AAABAAAAAQQAAAEMAAABFAAAARwAAAE8AAABRAAAAUgAAAFgAAABaAAAA\"},\"shape\":[36],\"dtype\":\"int32\",\"order\":\"little\"}],[\"frequency\",{\"type\":\"ndarray\",\"array\":{\"type\":\"bytes\",\"data\":\"REQLbI4Q6D+KO75yNr7rP4o7vnI2vus/REQLbI4Q6D+KO75yNr7rP0REC2yOEOg/REQLbI4Q6D9ERAtsjhDoP0REC2yOEOg/REQLbI4Q6D9ERAtsjhDoP4o7vnI2vus/REQLbI4Q6D9ERAtsjhDoP4o7vnI2vus/REQLbI4Q6D9ERAtsjhDoP2HxfEc9WuE/REQLbI4Q6D+KO75yNr7rP4o7vnI2vus/REQLbI4Q6D9ERAtsjhDoP0REC2yOEOg/KV3S5mQa7j9ERAtsjhDoP0REC2yOEOg/iju+cja+6z9ERAtsjhDoP0REC2yOEOg/REQLbI4Q6D9h8XxHPVrhP4o7vnI2vus/KV3S5mQa7j9ERAtsjhDoPyld0uZkGu4/\"},\"shape\":[36],\"dtype\":\"float64\",\"order\":\"little\"}],[\"segment\",{\"type\":\"ndarray\",\"array\":{\"type\":\"bytes\",\"data\":\"AQAAAAEAAAABAAAAAQAAAAEAAAABAAAAAQAAAAEAAAABAAAAAQAAAAEAAAABAAAAAQAAAAEAAAABAAAAAQAAAAEAAAABAAAAAQAAAAEAAAABAAAAAQAAAAEAAAABAAAAAQAAAAEAAAABAAAAAQAAAAEAAAABAAAAAQAAAAEAAAABAAAAAQAAAAEAAAABAAAA\"},\"shape\":[36],\"dtype\":\"int32\",\"order\":\"little\"}]]}}},\"view\":{\"type\":\"object\",\"name\":\"CDSView\",\"id\":\"19a69079-4653-46d8-8761-1feb1c6d9c15\",\"attributes\":{\"filter\":{\"type\":\"object\",\"name\":\"AllIndices\",\"id\":\"a4977cf0-1821-4811-8767-815b7e540f42\"}}},\"glyph\":{\"type\":\"object\",\"name\":\"Scatter\",\"id\":\"e2687ec7-3470-4442-b1d2-5ce761466beb\",\"attributes\":{\"tags\":[\"apply_ranges\"],\"x\":{\"type\":\"field\",\"field\":\"recency\"},\"y\":{\"type\":\"field\",\"field\":\"monetary\"},\"size\":{\"type\":\"value\",\"value\":5.477225575051661},\"line_color\":{\"type\":\"value\",\"value\":\"#30a2da\"},\"fill_color\":{\"type\":\"value\",\"value\":\"#30a2da\"},\"hatch_color\":{\"type\":\"value\",\"value\":\"#30a2da\"}}},\"selection_glyph\":{\"type\":\"object\",\"name\":\"Scatter\",\"id\":\"f644f090-7bae-4389-bbce-d0871ee96b48\",\"attributes\":{\"tags\":[\"apply_ranges\"],\"x\":{\"type\":\"field\",\"field\":\"recency\"},\"y\":{\"type\":\"field\",\"field\":\"monetary\"},\"size\":{\"type\":\"value\",\"value\":5.477225575051661},\"angle\":{\"type\":\"value\",\"value\":0.0},\"line_color\":{\"type\":\"value\",\"value\":\"#30a2da\"},\"line_alpha\":{\"type\":\"value\",\"value\":1.0},\"line_width\":{\"type\":\"value\",\"value\":1},\"line_join\":{\"type\":\"value\",\"value\":\"bevel\"},\"line_cap\":{\"type\":\"value\",\"value\":\"butt\"},\"line_dash\":{\"type\":\"value\",\"value\":[]},\"line_dash_offset\":{\"type\":\"value\",\"value\":0},\"fill_color\":{\"type\":\"value\",\"value\":\"#30a2da\"},\"fill_alpha\":{\"type\":\"value\",\"value\":1.0},\"hatch_color\":{\"type\":\"value\",\"value\":\"#30a2da\"},\"hatch_alpha\":{\"type\":\"value\",\"value\":1.0},\"hatch_scale\":{\"type\":\"value\",\"value\":12.0},\"hatch_pattern\":{\"type\":\"value\",\"value\":null},\"hatch_weight\":{\"type\":\"value\",\"value\":1.0},\"marker\":{\"type\":\"value\",\"value\":\"circle\"}}},\"nonselection_glyph\":{\"type\":\"object\",\"name\":\"Scatter\",\"id\":\"72a0b16f-cd30-4176-b6eb-11bfaa9499c6\",\"attributes\":{\"tags\":[\"apply_ranges\"],\"x\":{\"type\":\"field\",\"field\":\"recency\"},\"y\":{\"type\":\"field\",\"field\":\"monetary\"},\"size\":{\"type\":\"value\",\"value\":5.477225575051661},\"line_color\":{\"type\":\"value\",\"value\":\"#30a2da\"},\"line_alpha\":{\"type\":\"value\",\"value\":0.1},\"fill_color\":{\"type\":\"value\",\"value\":\"#30a2da\"},\"fill_alpha\":{\"type\":\"value\",\"value\":0.1},\"hatch_color\":{\"type\":\"value\",\"value\":\"#30a2da\"},\"hatch_alpha\":{\"type\":\"value\",\"value\":0.1}}},\"muted_glyph\":{\"type\":\"object\",\"name\":\"Scatter\",\"id\":\"08bf53cd-91f9-437c-8fc2-315d19ba075d\",\"attributes\":{\"tags\":[\"apply_ranges\"],\"x\":{\"type\":\"field\",\"field\":\"recency\"},\"y\":{\"type\":\"field\",\"field\":\"monetary\"},\"size\":{\"type\":\"value\",\"value\":5.477225575051661},\"line_color\":{\"type\":\"value\",\"value\":\"#30a2da\"},\"line_alpha\":{\"type\":\"value\",\"value\":0.2},\"fill_color\":{\"type\":\"value\",\"value\":\"#30a2da\"},\"fill_alpha\":{\"type\":\"value\",\"value\":0.2},\"hatch_color\":{\"type\":\"value\",\"value\":\"#30a2da\"},\"hatch_alpha\":{\"type\":\"value\",\"value\":0.2}}}}},{\"type\":\"object\",\"name\":\"GlyphRenderer\",\"id\":\"3b5d49b6-9c12-4bb7-9f93-b52d6bb93c3a\",\"attributes\":{\"name\":\"2\",\"data_source\":{\"type\":\"object\",\"name\":\"ColumnDataSource\",\"id\":\"aca13a0d-2b87-4467-8567-11b287b15027\",\"attributes\":{\"selected\":{\"type\":\"object\",\"name\":\"Selection\",\"id\":\"bffa5ec9-ed2a-4d35-8423-68ea647a31d9\",\"attributes\":{\"indices\":[],\"line_indices\":[]}},\"selection_policy\":{\"type\":\"object\",\"name\":\"UnionRenderers\",\"id\":\"854672a3-cef7-4248-b0f0-4c66562c5e9f\"},\"data\":{\"type\":\"map\",\"entries\":[[\"recency\",{\"type\":\"ndarray\",\"array\":{\"type\":\"bytes\",\"data\":\"1QAAAKUAAAC9AAAA3wAAAKkAAAANAQAADgEAACwBAAAEAQAArgAAAIMAAADXAAAAwQAAANgAAABEAAAAxQAAAMEAAADPAAAA1gAAALYAAAD6AAAAsgAAAHUAAADzAAAAsQAAALQAAAD5AAAAzwAAALUAAABoAAAAAAEAAKQAAADaAAAA\"},\"shape\":[33],\"dtype\":\"int32\",\"order\":\"little\"}],[\"monetary\",{\"type\":\"ndarray\",\"array\":{\"type\":\"bytes\",\"data\":\"XuD1sjAIJ0Crqr8W1ckmQAoxGDKJniVASgOoj/TRJUDmt816r6UmQFOln7lijyZAp6NZJ9VwJkDaOp1ANjYmQA+FrAcfWidASn6myBuKJkA8vTcz5XImQCGig8NwPSZA5mZZuGnFJkCBGj8EKBYnQK9cjrtouiVAntXYmf2IJkADdXpacrQmQOZ3K7n1dCZAU9JDk8C2JkDobg1cB+cmQEpdaNSU5yZAUpDxGRr4JkDoHcIYYJ4mQJg8qVyS7SVA+Sdo7BCGJkC1V081vm8mQDMWUNSY6CVAGtHowKkJJ0AGRlj+aasmQKKMWoyI/CVAPiXG5/8+J0BY86eudeklQJolQRfCKCZA\"},\"shape\":[33],\"dtype\":\"float64\",\"order\":\"little\"}],[\"customer_id\",{\"type\":\"ndarray\",\"array\":{\"type\":\"bytes\",\"data\":\"AgAAAAYAAAANAAAADgAAABMAAAAUAAAAFwAAABkAAAAeAAAAHwAAACAAAAAhAAAAKgAAAC8AAAAwAAAAMgAAADMAAAA0AAAANgAAADoAAAA7AAAAQgAAAEgAAABJAAAASgAAAEsAAABNAAAATgAAAFAAAABTAAAAVAAAAFUAAABXAAAA\"},\"shape\":[33],\"dtype\":\"int32\",\"order\":\"little\"}],[\"frequency\",{\"type\":\"ndarray\",\"array\":{\"type\":\"bytes\",\"data\":\"YfF8Rz1a4T9ERAtsjhDoP0REC2yOEOg/YfF8Rz1a4T9ERAtsjhDoP2HxfEc9WuE/YfF8Rz1a4T9h8XxHPVrhP2HxfEc9WuE/REQLbI4Q6D9ERAtsjhDoP2HxfEc9WuE/REQLbI4Q6D9h8XxHPVrhP0REC2yOEOg/YfF8Rz1a4T+KO75yNr7rP2HxfEc9WuE/YfF8Rz1a4T9ERAtsjhDoP2HxfEc9WuE/REQLbI4Q6D9ERAtsjhDoP2HxfEc9WuE/REQLbI4Q6D9ERAtsjhDoP2HxfEc9WuE/YfF8Rz1a4T9ERAtsjhDoP0REC2yOEOg/REQLbI4Q6D9ERAtsjhDoP2HxfEc9WuE/\"},\"shape\":[33],\"dtype\":\"float64\",\"order\":\"little\"}],[\"segment\",{\"type\":\"ndarray\",\"array\":{\"type\":\"bytes\",\"data\":\"AgAAAAIAAAACAAAAAgAAAAIAAAACAAAAAgAAAAIAAAACAAAAAgAAAAIAAAACAAAAAgAAAAIAAAACAAAAAgAAAAIAAAACAAAAAgAAAAIAAAACAAAAAgAAAAIAAAACAAAAAgAAAAIAAAACAAAAAgAAAAIAAAACAAAAAgAAAAIAAAACAAAA\"},\"shape\":[33],\"dtype\":\"int32\",\"order\":\"little\"}]]}}},\"view\":{\"type\":\"object\",\"name\":\"CDSView\",\"id\":\"c46e0cfc-0da6-4243-81c9-8953f00f62f7\",\"attributes\":{\"filter\":{\"type\":\"object\",\"name\":\"AllIndices\",\"id\":\"a9ad98ac-f40f-4121-8907-17c0285ac975\"}}},\"glyph\":{\"type\":\"object\",\"name\":\"Scatter\",\"id\":\"1d84e9d2-a443-4cde-8a29-4e1ddf71a848\",\"attributes\":{\"tags\":[\"apply_ranges\"],\"x\":{\"type\":\"field\",\"field\":\"recency\"},\"y\":{\"type\":\"field\",\"field\":\"monetary\"},\"size\":{\"type\":\"value\",\"value\":5.477225575051661},\"line_color\":{\"type\":\"value\",\"value\":\"#fc4f30\"},\"fill_color\":{\"type\":\"value\",\"value\":\"#fc4f30\"},\"hatch_color\":{\"type\":\"value\",\"value\":\"#fc4f30\"}}},\"selection_glyph\":{\"type\":\"object\",\"name\":\"Scatter\",\"id\":\"93823d51-064b-4bff-846f-fe818f548bcd\",\"attributes\":{\"tags\":[\"apply_ranges\"],\"x\":{\"type\":\"field\",\"field\":\"recency\"},\"y\":{\"type\":\"field\",\"field\":\"monetary\"},\"size\":{\"type\":\"value\",\"value\":5.477225575051661},\"angle\":{\"type\":\"value\",\"value\":0.0},\"line_color\":{\"type\":\"value\",\"value\":\"#fc4f30\"},\"line_alpha\":{\"type\":\"value\",\"value\":1.0},\"line_width\":{\"type\":\"value\",\"value\":1},\"line_join\":{\"type\":\"value\",\"value\":\"bevel\"},\"line_cap\":{\"type\":\"value\",\"value\":\"butt\"},\"line_dash\":{\"type\":\"value\",\"value\":[]},\"line_dash_offset\":{\"type\":\"value\",\"value\":0},\"fill_color\":{\"type\":\"value\",\"value\":\"#fc4f30\"},\"fill_alpha\":{\"type\":\"value\",\"value\":1.0},\"hatch_color\":{\"type\":\"value\",\"value\":\"#fc4f30\"},\"hatch_alpha\":{\"type\":\"value\",\"value\":1.0},\"hatch_scale\":{\"type\":\"value\",\"value\":12.0},\"hatch_pattern\":{\"type\":\"value\",\"value\":null},\"hatch_weight\":{\"type\":\"value\",\"value\":1.0},\"marker\":{\"type\":\"value\",\"value\":\"circle\"}}},\"nonselection_glyph\":{\"type\":\"object\",\"name\":\"Scatter\",\"id\":\"6b3593e9-e7ad-4e66-a8da-a5b97552063d\",\"attributes\":{\"tags\":[\"apply_ranges\"],\"x\":{\"type\":\"field\",\"field\":\"recency\"},\"y\":{\"type\":\"field\",\"field\":\"monetary\"},\"size\":{\"type\":\"value\",\"value\":5.477225575051661},\"line_color\":{\"type\":\"value\",\"value\":\"#fc4f30\"},\"line_alpha\":{\"type\":\"value\",\"value\":0.1},\"fill_color\":{\"type\":\"value\",\"value\":\"#fc4f30\"},\"fill_alpha\":{\"type\":\"value\",\"value\":0.1},\"hatch_color\":{\"type\":\"value\",\"value\":\"#fc4f30\"},\"hatch_alpha\":{\"type\":\"value\",\"value\":0.1}}},\"muted_glyph\":{\"type\":\"object\",\"name\":\"Scatter\",\"id\":\"416c3243-b3c8-413f-be76-0712839f17ba\",\"attributes\":{\"tags\":[\"apply_ranges\"],\"x\":{\"type\":\"field\",\"field\":\"recency\"},\"y\":{\"type\":\"field\",\"field\":\"monetary\"},\"size\":{\"type\":\"value\",\"value\":5.477225575051661},\"line_color\":{\"type\":\"value\",\"value\":\"#fc4f30\"},\"line_alpha\":{\"type\":\"value\",\"value\":0.2},\"fill_color\":{\"type\":\"value\",\"value\":\"#fc4f30\"},\"fill_alpha\":{\"type\":\"value\",\"value\":0.2},\"hatch_color\":{\"type\":\"value\",\"value\":\"#fc4f30\"},\"hatch_alpha\":{\"type\":\"value\",\"value\":0.2}}}}},{\"type\":\"object\",\"name\":\"GlyphRenderer\",\"id\":\"281601d9-0dd6-41bd-949b-c66b71b840df\",\"attributes\":{\"name\":\"0\",\"data_source\":{\"type\":\"object\",\"name\":\"ColumnDataSource\",\"id\":\"1dd21e32-3713-42b4-8fa1-cad0a71769c2\",\"attributes\":{\"selected\":{\"type\":\"object\",\"name\":\"Selection\",\"id\":\"357e88b3-cb59-4460-9981-fbc228537fbb\",\"attributes\":{\"indices\":[],\"line_indices\":[]}},\"selection_policy\":{\"type\":\"object\",\"name\":\"UnionRenderers\",\"id\":\"996dca30-75b1-4dd6-a324-692d7dc0a2df\"},\"data\":{\"type\":\"map\",\"entries\":[[\"recency\",{\"type\":\"ndarray\",\"array\":{\"type\":\"bytes\",\"data\":\"uQEAAI8BAAB2AQAAegEAANoBAACoAQAAPwEAAL4BAABsAQAA7gEAAOEBAADOAQAAggEAAMMBAAA=\"},\"shape\":[14],\"dtype\":\"int32\",\"order\":\"little\"}],[\"monetary\",{\"type\":\"ndarray\",\"array\":{\"type\":\"bytes\",\"data\":\"MuuK4Ey9J0BaOSMYLz4mQLNaiEre/SRAhcr8HfyQJkBZNLHH/HklQIkvduYOoCVAbE50vOqlJUAD8MxNMcImQOUtvdeIBSVAF90aWVqPJUCTXcI80fskQCrH8ib4pSVAVx84A0JWJkCmUpmGB0kmQA==\"},\"shape\":[14],\"dtype\":\"float64\",\"order\":\"little\"}],[\"customer_id\",{\"type\":\"ndarray\",\"array\":{\"type\":\"bytes\",\"data\":\"BAAAABAAAAAaAAAAHAAAACQAAAApAAAALQAAADcAAAA8AAAARAAAAEYAAABMAAAAVgAAAFwAAAA=\"},\"shape\":[14],\"dtype\":\"int32\",\"order\":\"little\"}],[\"frequency\",{\"type\":\"ndarray\",\"array\":{\"type\":\"bytes\",\"data\":\"REQLbI4Q6D9h8XxHPVrhP2HxfEc9WuE/YfF8Rz1a4T9h8XxHPVrhP2HxfEc9WuE/YfF8Rz1a4T9h8XxHPVrhP2HxfEc9WuE/YfF8Rz1a4T9h8XxHPVrhP2HxfEc9WuE/YfF8Rz1a4T9h8XxHPVrhPw==\"},\"shape\":[14],\"dtype\":\"float64\",\"order\":\"little\"}],[\"segment\",{\"type\":\"ndarray\",\"array\":{\"type\":\"bytes\",\"data\":\"AAAAAAAAAAAAAAAAAAAAAAAAAAAAAAAAAAAAAAAAAAAAAAAAAAAAAAAAAAAAAAAAAAAAAAAAAAA=\"},\"shape\":[14],\"dtype\":\"int32\",\"order\":\"little\"}]]}}},\"view\":{\"type\":\"object\",\"name\":\"CDSView\",\"id\":\"187312ad-7498-4485-98ec-0d23e00da548\",\"attributes\":{\"filter\":{\"type\":\"object\",\"name\":\"AllIndices\",\"id\":\"742ce111-eab5-4a4a-a319-8d51155cdd53\"}}},\"glyph\":{\"type\":\"object\",\"name\":\"Scatter\",\"id\":\"998f6291-ceb4-4027-8a3e-77eb02d27550\",\"attributes\":{\"tags\":[\"apply_ranges\"],\"x\":{\"type\":\"field\",\"field\":\"recency\"},\"y\":{\"type\":\"field\",\"field\":\"monetary\"},\"size\":{\"type\":\"value\",\"value\":5.477225575051661},\"line_color\":{\"type\":\"value\",\"value\":\"#e5ae38\"},\"fill_color\":{\"type\":\"value\",\"value\":\"#e5ae38\"},\"hatch_color\":{\"type\":\"value\",\"value\":\"#e5ae38\"}}},\"selection_glyph\":{\"type\":\"object\",\"name\":\"Scatter\",\"id\":\"27b5f2cf-3751-4e86-8fc0-0cc8303a950a\",\"attributes\":{\"tags\":[\"apply_ranges\"],\"x\":{\"type\":\"field\",\"field\":\"recency\"},\"y\":{\"type\":\"field\",\"field\":\"monetary\"},\"size\":{\"type\":\"value\",\"value\":5.477225575051661},\"angle\":{\"type\":\"value\",\"value\":0.0},\"line_color\":{\"type\":\"value\",\"value\":\"#e5ae38\"},\"line_alpha\":{\"type\":\"value\",\"value\":1.0},\"line_width\":{\"type\":\"value\",\"value\":1},\"line_join\":{\"type\":\"value\",\"value\":\"bevel\"},\"line_cap\":{\"type\":\"value\",\"value\":\"butt\"},\"line_dash\":{\"type\":\"value\",\"value\":[]},\"line_dash_offset\":{\"type\":\"value\",\"value\":0},\"fill_color\":{\"type\":\"value\",\"value\":\"#e5ae38\"},\"fill_alpha\":{\"type\":\"value\",\"value\":1.0},\"hatch_color\":{\"type\":\"value\",\"value\":\"#e5ae38\"},\"hatch_alpha\":{\"type\":\"value\",\"value\":1.0},\"hatch_scale\":{\"type\":\"value\",\"value\":12.0},\"hatch_pattern\":{\"type\":\"value\",\"value\":null},\"hatch_weight\":{\"type\":\"value\",\"value\":1.0},\"marker\":{\"type\":\"value\",\"value\":\"circle\"}}},\"nonselection_glyph\":{\"type\":\"object\",\"name\":\"Scatter\",\"id\":\"1335b8b3-d827-470e-8121-5a3ec82c2390\",\"attributes\":{\"tags\":[\"apply_ranges\"],\"x\":{\"type\":\"field\",\"field\":\"recency\"},\"y\":{\"type\":\"field\",\"field\":\"monetary\"},\"size\":{\"type\":\"value\",\"value\":5.477225575051661},\"line_color\":{\"type\":\"value\",\"value\":\"#e5ae38\"},\"line_alpha\":{\"type\":\"value\",\"value\":0.1},\"fill_color\":{\"type\":\"value\",\"value\":\"#e5ae38\"},\"fill_alpha\":{\"type\":\"value\",\"value\":0.1},\"hatch_color\":{\"type\":\"value\",\"value\":\"#e5ae38\"},\"hatch_alpha\":{\"type\":\"value\",\"value\":0.1}}},\"muted_glyph\":{\"type\":\"object\",\"name\":\"Scatter\",\"id\":\"94311a21-6d48-49a2-9e57-8cce0ff3e84f\",\"attributes\":{\"tags\":[\"apply_ranges\"],\"x\":{\"type\":\"field\",\"field\":\"recency\"},\"y\":{\"type\":\"field\",\"field\":\"monetary\"},\"size\":{\"type\":\"value\",\"value\":5.477225575051661},\"line_color\":{\"type\":\"value\",\"value\":\"#e5ae38\"},\"line_alpha\":{\"type\":\"value\",\"value\":0.2},\"fill_color\":{\"type\":\"value\",\"value\":\"#e5ae38\"},\"fill_alpha\":{\"type\":\"value\",\"value\":0.2},\"hatch_color\":{\"type\":\"value\",\"value\":\"#e5ae38\"},\"hatch_alpha\":{\"type\":\"value\",\"value\":0.2}}}}},{\"type\":\"object\",\"name\":\"GlyphRenderer\",\"id\":\"4f77ce93-118c-4ec7-bc5a-e7315d3ad78c\",\"attributes\":{\"name\":\"4\",\"data_source\":{\"type\":\"object\",\"name\":\"ColumnDataSource\",\"id\":\"21c70e8f-9d45-4d84-b7ff-a85acc908afe\",\"attributes\":{\"selected\":{\"type\":\"object\",\"name\":\"Selection\",\"id\":\"5169271c-0001-4c5c-a030-5128696b00d2\",\"attributes\":{\"indices\":[],\"line_indices\":[]}},\"selection_policy\":{\"type\":\"object\",\"name\":\"UnionRenderers\",\"id\":\"489c930f-ff17-4152-8618-22ce98ee09f7\"},\"data\":{\"type\":\"map\",\"entries\":[[\"recency\",{\"type\":\"ndarray\",\"array\":{\"type\":\"bytes\",\"data\":\"wwAAAPkAAAClAAAAYgAAAH8AAACtAAAA9AAAAA==\"},\"shape\":[7],\"dtype\":\"int32\",\"order\":\"little\"}],[\"monetary\",{\"type\":\"ndarray\",\"array\":{\"type\":\"bytes\",\"data\":\"em6j4D3RJEDQkr1HjuskQPSfrYpJXiRAT8fIqRw9IkD128vtx9UkQFMYTL/HLyRAedkB2wjtJEA=\"},\"shape\":[7],\"dtype\":\"float64\",\"order\":\"little\"}],[\"customer_id\",{\"type\":\"ndarray\",\"array\":{\"type\":\"bytes\",\"data\":\"EgAAACIAAAAjAAAAMQAAADgAAAA5AAAAWQAAAA==\"},\"shape\":[7],\"dtype\":\"int32\",\"order\":\"little\"}],[\"frequency\",{\"type\":\"ndarray\",\"array\":{\"type\":\"bytes\",\"data\":\"YfF8Rz1a4T9h8XxHPVrhP0REC2yOEOg/YfF8Rz1a4T+KO75yNr7rP0REC2yOEOg/AAAAAAAAAAA=\"},\"shape\":[7],\"dtype\":\"float64\",\"order\":\"little\"}],[\"segment\",{\"type\":\"ndarray\",\"array\":{\"type\":\"bytes\",\"data\":\"BAAAAAQAAAAEAAAABAAAAAQAAAAEAAAABAAAAA==\"},\"shape\":[7],\"dtype\":\"int32\",\"order\":\"little\"}]]}}},\"view\":{\"type\":\"object\",\"name\":\"CDSView\",\"id\":\"693b1f81-6742-4c78-b63f-c9ec3f7b09ac\",\"attributes\":{\"filter\":{\"type\":\"object\",\"name\":\"AllIndices\",\"id\":\"779ab2a1-2ba6-42b9-8bc8-2ddc89075f32\"}}},\"glyph\":{\"type\":\"object\",\"name\":\"Scatter\",\"id\":\"3295f455-816e-46e4-a733-d0df5c0b69ef\",\"attributes\":{\"tags\":[\"apply_ranges\"],\"x\":{\"type\":\"field\",\"field\":\"recency\"},\"y\":{\"type\":\"field\",\"field\":\"monetary\"},\"size\":{\"type\":\"value\",\"value\":5.477225575051661},\"line_color\":{\"type\":\"value\",\"value\":\"#6d904f\"},\"fill_color\":{\"type\":\"value\",\"value\":\"#6d904f\"},\"hatch_color\":{\"type\":\"value\",\"value\":\"#6d904f\"}}},\"selection_glyph\":{\"type\":\"object\",\"name\":\"Scatter\",\"id\":\"17adb7ab-91b9-4468-912d-68df56b5e3d7\",\"attributes\":{\"tags\":[\"apply_ranges\"],\"x\":{\"type\":\"field\",\"field\":\"recency\"},\"y\":{\"type\":\"field\",\"field\":\"monetary\"},\"size\":{\"type\":\"value\",\"value\":5.477225575051661},\"angle\":{\"type\":\"value\",\"value\":0.0},\"line_color\":{\"type\":\"value\",\"value\":\"#6d904f\"},\"line_alpha\":{\"type\":\"value\",\"value\":1.0},\"line_width\":{\"type\":\"value\",\"value\":1},\"line_join\":{\"type\":\"value\",\"value\":\"bevel\"},\"line_cap\":{\"type\":\"value\",\"value\":\"butt\"},\"line_dash\":{\"type\":\"value\",\"value\":[]},\"line_dash_offset\":{\"type\":\"value\",\"value\":0},\"fill_color\":{\"type\":\"value\",\"value\":\"#6d904f\"},\"fill_alpha\":{\"type\":\"value\",\"value\":1.0},\"hatch_color\":{\"type\":\"value\",\"value\":\"#6d904f\"},\"hatch_alpha\":{\"type\":\"value\",\"value\":1.0},\"hatch_scale\":{\"type\":\"value\",\"value\":12.0},\"hatch_pattern\":{\"type\":\"value\",\"value\":null},\"hatch_weight\":{\"type\":\"value\",\"value\":1.0},\"marker\":{\"type\":\"value\",\"value\":\"circle\"}}},\"nonselection_glyph\":{\"type\":\"object\",\"name\":\"Scatter\",\"id\":\"3bc7af12-12f2-473c-91b9-214b86ba1888\",\"attributes\":{\"tags\":[\"apply_ranges\"],\"x\":{\"type\":\"field\",\"field\":\"recency\"},\"y\":{\"type\":\"field\",\"field\":\"monetary\"},\"size\":{\"type\":\"value\",\"value\":5.477225575051661},\"line_color\":{\"type\":\"value\",\"value\":\"#6d904f\"},\"line_alpha\":{\"type\":\"value\",\"value\":0.1},\"fill_color\":{\"type\":\"value\",\"value\":\"#6d904f\"},\"fill_alpha\":{\"type\":\"value\",\"value\":0.1},\"hatch_color\":{\"type\":\"value\",\"value\":\"#6d904f\"},\"hatch_alpha\":{\"type\":\"value\",\"value\":0.1}}},\"muted_glyph\":{\"type\":\"object\",\"name\":\"Scatter\",\"id\":\"f2d2892e-e5a3-4365-bd49-e5625cc5f41d\",\"attributes\":{\"tags\":[\"apply_ranges\"],\"x\":{\"type\":\"field\",\"field\":\"recency\"},\"y\":{\"type\":\"field\",\"field\":\"monetary\"},\"size\":{\"type\":\"value\",\"value\":5.477225575051661},\"line_color\":{\"type\":\"value\",\"value\":\"#6d904f\"},\"line_alpha\":{\"type\":\"value\",\"value\":0.2},\"fill_color\":{\"type\":\"value\",\"value\":\"#6d904f\"},\"fill_alpha\":{\"type\":\"value\",\"value\":0.2},\"hatch_color\":{\"type\":\"value\",\"value\":\"#6d904f\"},\"hatch_alpha\":{\"type\":\"value\",\"value\":0.2}}}}},{\"type\":\"object\",\"name\":\"GlyphRenderer\",\"id\":\"7767bdae-b963-4516-8d83-ca101fa02146\",\"attributes\":{\"name\":\"3\",\"data_source\":{\"type\":\"object\",\"name\":\"ColumnDataSource\",\"id\":\"3096da75-0d0c-4df1-9206-be217c91c137\",\"attributes\":{\"selected\":{\"type\":\"object\",\"name\":\"Selection\",\"id\":\"4db7db75-0117-422b-9cfb-318ba923bd93\",\"attributes\":{\"indices\":[],\"line_indices\":[]}},\"selection_policy\":{\"type\":\"object\",\"name\":\"UnionRenderers\",\"id\":\"e4c71d1e-693f-48a4-9ff6-ed52f68f4849\"},\"data\":{\"type\":\"map\",\"entries\":[[\"recency\",{\"type\":\"ndarray\",\"array\":{\"type\":\"bytes\",\"data\":\"DgAAADcAAAA=\"},\"shape\":[2],\"dtype\":\"int32\",\"order\":\"little\"}],[\"monetary\",{\"type\":\"ndarray\",\"array\":{\"type\":\"bytes\",\"data\":\"5+eYOUssK0DngIqfFcMqQA==\"},\"shape\":[2],\"dtype\":\"float64\",\"order\":\"little\"}],[\"customer_id\",{\"type\":\"ndarray\",\"array\":{\"type\":\"bytes\",\"data\":\"JQAAAFsAAAA=\"},\"shape\":[2],\"dtype\":\"int32\",\"order\":\"little\"}],[\"frequency\",{\"type\":\"ndarray\",\"array\":{\"type\":\"bytes\",\"data\":\"+XZkR/N/8z+gPTe0W9jyPw==\"},\"shape\":[2],\"dtype\":\"float64\",\"order\":\"little\"}],[\"segment\",{\"type\":\"ndarray\",\"array\":{\"type\":\"bytes\",\"data\":\"AwAAAAMAAAA=\"},\"shape\":[2],\"dtype\":\"int32\",\"order\":\"little\"}]]}}},\"view\":{\"type\":\"object\",\"name\":\"CDSView\",\"id\":\"963076a8-5c43-406c-801c-b91c83f44187\",\"attributes\":{\"filter\":{\"type\":\"object\",\"name\":\"AllIndices\",\"id\":\"edc9dc33-1d19-45f5-96a9-e730bf90beaa\"}}},\"glyph\":{\"type\":\"object\",\"name\":\"Scatter\",\"id\":\"258ed358-ba8a-4e07-ba39-7f03e76fec07\",\"attributes\":{\"tags\":[\"apply_ranges\"],\"x\":{\"type\":\"field\",\"field\":\"recency\"},\"y\":{\"type\":\"field\",\"field\":\"monetary\"},\"size\":{\"type\":\"value\",\"value\":5.477225575051661},\"line_color\":{\"type\":\"value\",\"value\":\"#8b8b8b\"},\"fill_color\":{\"type\":\"value\",\"value\":\"#8b8b8b\"},\"hatch_color\":{\"type\":\"value\",\"value\":\"#8b8b8b\"}}},\"selection_glyph\":{\"type\":\"object\",\"name\":\"Scatter\",\"id\":\"e04041f1-bc47-497b-a37f-58048351b46e\",\"attributes\":{\"tags\":[\"apply_ranges\"],\"x\":{\"type\":\"field\",\"field\":\"recency\"},\"y\":{\"type\":\"field\",\"field\":\"monetary\"},\"size\":{\"type\":\"value\",\"value\":5.477225575051661},\"angle\":{\"type\":\"value\",\"value\":0.0},\"line_color\":{\"type\":\"value\",\"value\":\"#8b8b8b\"},\"line_alpha\":{\"type\":\"value\",\"value\":1.0},\"line_width\":{\"type\":\"value\",\"value\":1},\"line_join\":{\"type\":\"value\",\"value\":\"bevel\"},\"line_cap\":{\"type\":\"value\",\"value\":\"butt\"},\"line_dash\":{\"type\":\"value\",\"value\":[]},\"line_dash_offset\":{\"type\":\"value\",\"value\":0},\"fill_color\":{\"type\":\"value\",\"value\":\"#8b8b8b\"},\"fill_alpha\":{\"type\":\"value\",\"value\":1.0},\"hatch_color\":{\"type\":\"value\",\"value\":\"#8b8b8b\"},\"hatch_alpha\":{\"type\":\"value\",\"value\":1.0},\"hatch_scale\":{\"type\":\"value\",\"value\":12.0},\"hatch_pattern\":{\"type\":\"value\",\"value\":null},\"hatch_weight\":{\"type\":\"value\",\"value\":1.0},\"marker\":{\"type\":\"value\",\"value\":\"circle\"}}},\"nonselection_glyph\":{\"type\":\"object\",\"name\":\"Scatter\",\"id\":\"44e7f1b9-b829-4574-ad3d-864204ad0760\",\"attributes\":{\"tags\":[\"apply_ranges\"],\"x\":{\"type\":\"field\",\"field\":\"recency\"},\"y\":{\"type\":\"field\",\"field\":\"monetary\"},\"size\":{\"type\":\"value\",\"value\":5.477225575051661},\"line_color\":{\"type\":\"value\",\"value\":\"#8b8b8b\"},\"line_alpha\":{\"type\":\"value\",\"value\":0.1},\"fill_color\":{\"type\":\"value\",\"value\":\"#8b8b8b\"},\"fill_alpha\":{\"type\":\"value\",\"value\":0.1},\"hatch_color\":{\"type\":\"value\",\"value\":\"#8b8b8b\"},\"hatch_alpha\":{\"type\":\"value\",\"value\":0.1}}},\"muted_glyph\":{\"type\":\"object\",\"name\":\"Scatter\",\"id\":\"7cde3c59-6ac2-4c79-a4ca-7d182fd12602\",\"attributes\":{\"tags\":[\"apply_ranges\"],\"x\":{\"type\":\"field\",\"field\":\"recency\"},\"y\":{\"type\":\"field\",\"field\":\"monetary\"},\"size\":{\"type\":\"value\",\"value\":5.477225575051661},\"line_color\":{\"type\":\"value\",\"value\":\"#8b8b8b\"},\"line_alpha\":{\"type\":\"value\",\"value\":0.2},\"fill_color\":{\"type\":\"value\",\"value\":\"#8b8b8b\"},\"fill_alpha\":{\"type\":\"value\",\"value\":0.2},\"hatch_color\":{\"type\":\"value\",\"value\":\"#8b8b8b\"},\"hatch_alpha\":{\"type\":\"value\",\"value\":0.2}}}}}],\"toolbar\":{\"type\":\"object\",\"name\":\"Toolbar\",\"id\":\"d35803a9-5c2b-4b83-b45d-562d2ec0a2cc\",\"attributes\":{\"tools\":[{\"type\":\"object\",\"name\":\"WheelZoomTool\",\"id\":\"c7e1d1b0-c1b9-4b75-a483-c6119bdd578d\",\"attributes\":{\"tags\":[\"hv_created\"],\"renderers\":\"auto\",\"zoom_together\":\"none\"}},{\"type\":\"object\",\"name\":\"HoverTool\",\"id\":\"73fb4070-d614-4399-9988-c0e4634d3d84\",\"attributes\":{\"tags\":[\"hv_created\"],\"renderers\":[{\"id\":\"0fd12fb6-096e-4679-868b-7f2810d182d0\"},{\"id\":\"3b5d49b6-9c12-4bb7-9f93-b52d6bb93c3a\"},{\"id\":\"281601d9-0dd6-41bd-949b-c66b71b840df\"},{\"id\":\"4f77ce93-118c-4ec7-bc5a-e7315d3ad78c\"},{\"id\":\"7767bdae-b963-4516-8d83-ca101fa02146\"}],\"tooltips\":[[\"segment\",\"@{segment}\"],[\"recency\",\"@{recency}\"],[\"monetary\",\"@{monetary}\"],[\"customer_id\",\"@{customer_id}\"],[\"frequency\",\"@{frequency}\"]]}},{\"type\":\"object\",\"name\":\"SaveTool\",\"id\":\"2284759a-7919-48f8-8616-2e80f60a9674\"},{\"type\":\"object\",\"name\":\"PanTool\",\"id\":\"22bce722-e5a3-47e3-8f01-ddcdeb77ca0f\"},{\"type\":\"object\",\"name\":\"BoxZoomTool\",\"id\":\"c748626f-2356-4792-abbe-8a8635734b9d\",\"attributes\":{\"overlay\":{\"type\":\"object\",\"name\":\"BoxAnnotation\",\"id\":\"2575684e-1169-44a5-89b0-f79908d0c78d\",\"attributes\":{\"syncable\":false,\"line_color\":\"black\",\"line_alpha\":1.0,\"line_width\":2,\"line_dash\":[4,4],\"fill_color\":\"lightgrey\",\"fill_alpha\":0.5,\"level\":\"overlay\",\"visible\":false,\"left\":{\"type\":\"number\",\"value\":\"nan\"},\"right\":{\"type\":\"number\",\"value\":\"nan\"},\"top\":{\"type\":\"number\",\"value\":\"nan\"},\"bottom\":{\"type\":\"number\",\"value\":\"nan\"},\"left_units\":\"canvas\",\"right_units\":\"canvas\",\"top_units\":\"canvas\",\"bottom_units\":\"canvas\",\"handles\":{\"type\":\"object\",\"name\":\"BoxInteractionHandles\",\"id\":\"3faf1c85-a148-4aa5-a51d-6476eda976cf\",\"attributes\":{\"all\":{\"type\":\"object\",\"name\":\"AreaVisuals\",\"id\":\"4840b98c-1fae-43bf-a14e-f26772dd3e11\",\"attributes\":{\"fill_color\":\"white\",\"hover_fill_color\":\"lightgray\"}}}}}}}},{\"type\":\"object\",\"name\":\"ResetTool\",\"id\":\"b0aea876-cbf5-4e97-a5aa-727a4d26b34f\"}],\"active_drag\":{\"id\":\"22bce722-e5a3-47e3-8f01-ddcdeb77ca0f\"},\"active_scroll\":{\"id\":\"c7e1d1b0-c1b9-4b75-a483-c6119bdd578d\"}}},\"left\":[{\"type\":\"object\",\"name\":\"LinearAxis\",\"id\":\"c1488219-7653-4a19-a9dc-e17aed07fa29\",\"attributes\":{\"ticker\":{\"type\":\"object\",\"name\":\"BasicTicker\",\"id\":\"531c3afd-9fe9-4dbd-8177-6f78449f7414\",\"attributes\":{\"mantissas\":[1,2,5]}},\"formatter\":{\"type\":\"object\",\"name\":\"BasicTickFormatter\",\"id\":\"afe47746-d671-4579-9e6e-f217c21f4d56\"},\"axis_label\":\"monetary\",\"major_label_policy\":{\"type\":\"object\",\"name\":\"AllLabels\",\"id\":\"8e63baf7-d763-43e6-a68b-784f41ebca04\"}}}],\"right\":[{\"type\":\"object\",\"name\":\"Legend\",\"id\":\"90955ac0-f3ef-47f9-90e5-33e309a4d6e8\",\"attributes\":{\"location\":[0,0],\"title\":\"segment\",\"click_policy\":\"mute\",\"items\":[{\"type\":\"object\",\"name\":\"LegendItem\",\"id\":\"272dd5d2-2347-4918-9f10-b92a13cfda62\",\"attributes\":{\"label\":{\"type\":\"value\",\"value\":\"1\"},\"renderers\":[{\"id\":\"0fd12fb6-096e-4679-868b-7f2810d182d0\"}]}},{\"type\":\"object\",\"name\":\"LegendItem\",\"id\":\"0e6bee6a-66f4-4f18-9386-3b90b93d864f\",\"attributes\":{\"label\":{\"type\":\"value\",\"value\":\"2\"},\"renderers\":[{\"id\":\"3b5d49b6-9c12-4bb7-9f93-b52d6bb93c3a\"}]}},{\"type\":\"object\",\"name\":\"LegendItem\",\"id\":\"e0b671ba-a286-470f-8ddf-ee98b3ef4427\",\"attributes\":{\"label\":{\"type\":\"value\",\"value\":\"0\"},\"renderers\":[{\"id\":\"281601d9-0dd6-41bd-949b-c66b71b840df\"}]}},{\"type\":\"object\",\"name\":\"LegendItem\",\"id\":\"1db44b3a-6e91-4983-b17f-09d7e2b1f867\",\"attributes\":{\"label\":{\"type\":\"value\",\"value\":\"4\"},\"renderers\":[{\"id\":\"4f77ce93-118c-4ec7-bc5a-e7315d3ad78c\"}]}},{\"type\":\"object\",\"name\":\"LegendItem\",\"id\":\"2a89ae3d-bdc7-4ca2-a18a-8c42426ba82e\",\"attributes\":{\"label\":{\"type\":\"value\",\"value\":\"3\"},\"renderers\":[{\"id\":\"7767bdae-b963-4516-8d83-ca101fa02146\"}]}}]}}],\"below\":[{\"type\":\"object\",\"name\":\"LinearAxis\",\"id\":\"68464331-61bc-4baf-8d20-6fd914782bf5\",\"attributes\":{\"ticker\":{\"type\":\"object\",\"name\":\"BasicTicker\",\"id\":\"031861d8-47ba-4eec-b38f-7d311ceae5b0\",\"attributes\":{\"mantissas\":[1,2,5]}},\"formatter\":{\"type\":\"object\",\"name\":\"BasicTickFormatter\",\"id\":\"887ff353-a403-4e4c-9df0-0a696784442b\"},\"axis_label\":\"recency\",\"major_label_policy\":{\"type\":\"object\",\"name\":\"AllLabels\",\"id\":\"4e7e1113-015a-45ec-8b64-dcbf619889af\"}}}],\"center\":[{\"type\":\"object\",\"name\":\"Grid\",\"id\":\"0f9be335-ef98-4724-a41d-f8aec63c2a00\",\"attributes\":{\"axis\":{\"id\":\"68464331-61bc-4baf-8d20-6fd914782bf5\"},\"grid_line_color\":null}},{\"type\":\"object\",\"name\":\"Grid\",\"id\":\"afea1a24-ad53-4882-8d1f-e2459ade1888\",\"attributes\":{\"dimension\":1,\"axis\":{\"id\":\"c1488219-7653-4a19-a9dc-e17aed07fa29\"},\"grid_line_color\":null}}],\"min_border_top\":10,\"min_border_bottom\":10,\"min_border_left\":10,\"min_border_right\":10,\"output_backend\":\"webgl\"}},{\"type\":\"object\",\"name\":\"Spacer\",\"id\":\"c2516d9c-2fca-4579-8386-1c4b705e2386\",\"attributes\":{\"name\":\"HSpacer07438\",\"stylesheets\":[\"\\n:host(.pn-loading):before, .pn-loading:before {\\n  background-color: #c3c3c3;\\n  mask-size: auto calc(min(50%, 400px));\\n  -webkit-mask-size: auto calc(min(50%, 400px));\\n}\",{\"id\":\"ba856b2f-68ee-47af-b56f-f844488328c9\"},{\"id\":\"36a16ed4-d412-4044-b946-cb72f23b4a7a\"},{\"id\":\"df12e376-e300-41cb-aa1a-4b09d9c0bb01\"}],\"margin\":0,\"sizing_mode\":\"stretch_width\",\"align\":\"start\"}}]}}],\"defs\":[{\"type\":\"model\",\"name\":\"ReactiveHTML1\"},{\"type\":\"model\",\"name\":\"FlexBox1\",\"properties\":[{\"name\":\"align_content\",\"kind\":\"Any\",\"default\":\"flex-start\"},{\"name\":\"align_items\",\"kind\":\"Any\",\"default\":\"flex-start\"},{\"name\":\"flex_direction\",\"kind\":\"Any\",\"default\":\"row\"},{\"name\":\"flex_wrap\",\"kind\":\"Any\",\"default\":\"wrap\"},{\"name\":\"gap\",\"kind\":\"Any\",\"default\":\"\"},{\"name\":\"justify_content\",\"kind\":\"Any\",\"default\":\"flex-start\"}]},{\"type\":\"model\",\"name\":\"FloatPanel1\",\"properties\":[{\"name\":\"config\",\"kind\":\"Any\",\"default\":{\"type\":\"map\"}},{\"name\":\"contained\",\"kind\":\"Any\",\"default\":true},{\"name\":\"position\",\"kind\":\"Any\",\"default\":\"right-top\"},{\"name\":\"offsetx\",\"kind\":\"Any\",\"default\":null},{\"name\":\"offsety\",\"kind\":\"Any\",\"default\":null},{\"name\":\"theme\",\"kind\":\"Any\",\"default\":\"primary\"},{\"name\":\"status\",\"kind\":\"Any\",\"default\":\"normalized\"}]},{\"type\":\"model\",\"name\":\"GridStack1\",\"properties\":[{\"name\":\"mode\",\"kind\":\"Any\",\"default\":\"warn\"},{\"name\":\"ncols\",\"kind\":\"Any\",\"default\":null},{\"name\":\"nrows\",\"kind\":\"Any\",\"default\":null},{\"name\":\"allow_resize\",\"kind\":\"Any\",\"default\":true},{\"name\":\"allow_drag\",\"kind\":\"Any\",\"default\":true},{\"name\":\"state\",\"kind\":\"Any\",\"default\":[]}]},{\"type\":\"model\",\"name\":\"drag1\",\"properties\":[{\"name\":\"slider_width\",\"kind\":\"Any\",\"default\":5},{\"name\":\"slider_color\",\"kind\":\"Any\",\"default\":\"black\"},{\"name\":\"value\",\"kind\":\"Any\",\"default\":50}]},{\"type\":\"model\",\"name\":\"click1\",\"properties\":[{\"name\":\"terminal_output\",\"kind\":\"Any\",\"default\":\"\"},{\"name\":\"debug_name\",\"kind\":\"Any\",\"default\":\"\"},{\"name\":\"clears\",\"kind\":\"Any\",\"default\":0}]},{\"type\":\"model\",\"name\":\"FastWrapper1\",\"properties\":[{\"name\":\"object\",\"kind\":\"Any\",\"default\":null},{\"name\":\"style\",\"kind\":\"Any\",\"default\":null}]},{\"type\":\"model\",\"name\":\"NotificationAreaBase1\",\"properties\":[{\"name\":\"js_events\",\"kind\":\"Any\",\"default\":{\"type\":\"map\"}},{\"name\":\"position\",\"kind\":\"Any\",\"default\":\"bottom-right\"},{\"name\":\"_clear\",\"kind\":\"Any\",\"default\":0}]},{\"type\":\"model\",\"name\":\"NotificationArea1\",\"properties\":[{\"name\":\"js_events\",\"kind\":\"Any\",\"default\":{\"type\":\"map\"}},{\"name\":\"notifications\",\"kind\":\"Any\",\"default\":[]},{\"name\":\"position\",\"kind\":\"Any\",\"default\":\"bottom-right\"},{\"name\":\"_clear\",\"kind\":\"Any\",\"default\":0},{\"name\":\"types\",\"kind\":\"Any\",\"default\":[{\"type\":\"map\",\"entries\":[[\"type\",\"warning\"],[\"background\",\"#ffc107\"],[\"icon\",{\"type\":\"map\",\"entries\":[[\"className\",\"fas fa-exclamation-triangle\"],[\"tagName\",\"i\"],[\"color\",\"white\"]]}]]},{\"type\":\"map\",\"entries\":[[\"type\",\"info\"],[\"background\",\"#007bff\"],[\"icon\",{\"type\":\"map\",\"entries\":[[\"className\",\"fas fa-info-circle\"],[\"tagName\",\"i\"],[\"color\",\"white\"]]}]]}]}]},{\"type\":\"model\",\"name\":\"Notification\",\"properties\":[{\"name\":\"background\",\"kind\":\"Any\",\"default\":null},{\"name\":\"duration\",\"kind\":\"Any\",\"default\":3000},{\"name\":\"icon\",\"kind\":\"Any\",\"default\":null},{\"name\":\"message\",\"kind\":\"Any\",\"default\":\"\"},{\"name\":\"notification_type\",\"kind\":\"Any\",\"default\":null},{\"name\":\"_destroyed\",\"kind\":\"Any\",\"default\":false}]},{\"type\":\"model\",\"name\":\"TemplateActions1\",\"properties\":[{\"name\":\"open_modal\",\"kind\":\"Any\",\"default\":0},{\"name\":\"close_modal\",\"kind\":\"Any\",\"default\":0}]},{\"type\":\"model\",\"name\":\"BootstrapTemplateActions1\",\"properties\":[{\"name\":\"open_modal\",\"kind\":\"Any\",\"default\":0},{\"name\":\"close_modal\",\"kind\":\"Any\",\"default\":0}]},{\"type\":\"model\",\"name\":\"TemplateEditor1\",\"properties\":[{\"name\":\"layout\",\"kind\":\"Any\",\"default\":[]}]},{\"type\":\"model\",\"name\":\"MaterialTemplateActions1\",\"properties\":[{\"name\":\"open_modal\",\"kind\":\"Any\",\"default\":0},{\"name\":\"close_modal\",\"kind\":\"Any\",\"default\":0}]},{\"type\":\"model\",\"name\":\"ReactiveESM1\"},{\"type\":\"model\",\"name\":\"JSComponent1\"},{\"type\":\"model\",\"name\":\"ReactComponent1\"},{\"type\":\"model\",\"name\":\"AnyWidgetComponent1\"},{\"type\":\"model\",\"name\":\"request_value1\",\"properties\":[{\"name\":\"fill\",\"kind\":\"Any\",\"default\":\"none\"},{\"name\":\"_synced\",\"kind\":\"Any\",\"default\":null},{\"name\":\"_request_sync\",\"kind\":\"Any\",\"default\":0}]}]}};\n",
       "  var render_items = [{\"docid\":\"1ffc572d-acb8-42a1-9d8a-8a68b3a2683d\",\"roots\":{\"0d475d1d-fd7a-4567-a89e-8f238a4e98ee\":\"cf6e0c4a-b28d-49b3-a9a8-fbc72e018ba8\"},\"root_ids\":[\"0d475d1d-fd7a-4567-a89e-8f238a4e98ee\"]}];\n",
       "  var docs = Object.values(docs_json)\n",
       "  if (!docs) {\n",
       "    return\n",
       "  }\n",
       "  const py_version = docs[0].version.replace('rc', '-rc.').replace('.dev', '-dev.')\n",
       "  async function embed_document(root) {\n",
       "    var Bokeh = get_bokeh(root)\n",
       "    await Bokeh.embed.embed_items_notebook(docs_json, render_items);\n",
       "    for (const render_item of render_items) {\n",
       "      for (const root_id of render_item.root_ids) {\n",
       "\tconst id_el = document.getElementById(root_id)\n",
       "\tif (id_el.children.length && id_el.children[0].hasAttribute('data-root-id')) {\n",
       "\t  const root_el = id_el.children[0]\n",
       "\t  root_el.id = root_el.id + '-rendered'\n",
       "\t  for (const child of root_el.children) {\n",
       "            // Ensure JupyterLab does not capture keyboard shortcuts\n",
       "            // see: https://jupyterlab.readthedocs.io/en/4.1.x/extension/notebook.html#keyboard-interaction-model\n",
       "\t    child.setAttribute('data-lm-suppress-shortcuts', 'true')\n",
       "\t  }\n",
       "\t}\n",
       "      }\n",
       "    }\n",
       "  }\n",
       "  function get_bokeh(root) {\n",
       "    if (root.Bokeh === undefined) {\n",
       "      return null\n",
       "    } else if (root.Bokeh.version !== py_version) {\n",
       "      if (root.Bokeh.versions === undefined || !root.Bokeh.versions.has(py_version)) {\n",
       "\treturn null\n",
       "      }\n",
       "      return root.Bokeh.versions.get(py_version);\n",
       "    } else if (root.Bokeh.version === py_version) {\n",
       "      return root.Bokeh\n",
       "    }\n",
       "    return null\n",
       "  }\n",
       "  function is_loaded(root) {\n",
       "    var Bokeh = get_bokeh(root)\n",
       "    return (Bokeh != null && Bokeh.Panel !== undefined)\n",
       "  }\n",
       "  if (is_loaded(root)) {\n",
       "    embed_document(root);\n",
       "  } else {\n",
       "    var attempts = 0;\n",
       "    var timer = setInterval(function(root) {\n",
       "      if (is_loaded(root)) {\n",
       "        clearInterval(timer);\n",
       "        embed_document(root);\n",
       "      } else if (document.readyState == \"complete\") {\n",
       "        attempts++;\n",
       "        if (attempts > 200) {\n",
       "          clearInterval(timer);\n",
       "\t  var Bokeh = get_bokeh(root)\n",
       "\t  if (Bokeh == null || Bokeh.Panel == null) {\n",
       "            console.warn(\"Panel: ERROR: Unable to run Panel code because Bokeh or Panel library is missing\");\n",
       "\t  } else {\n",
       "\t    console.warn(\"Panel: WARNING: Attempting to render but not all required libraries could be resolved.\")\n",
       "\t    embed_document(root)\n",
       "\t  }\n",
       "        }\n",
       "      }\n",
       "    }, 25, root)\n",
       "  }\n",
       "})(window);</script>"
      ],
      "text/plain": [
       ":NdOverlay   [segment]\n",
       "   :Scatter   [recency]   (monetary,customer_id,frequency,segment)"
      ]
     },
     "metadata": {
      "application/vnd.holoviews_exec.v0+json": {
       "id": "0d475d1d-fd7a-4567-a89e-8f238a4e98ee"
      }
     },
     "output_type": "display_data"
    }
   ],
   "source": [
    "k_options = [2,3,4,5]\n",
    "cols = ['recency', 'monetary']\n",
    "\n",
    "\n",
    "# get segments for both metrics\n",
    "print('SILHOUETTE SCORE'.center(150, '-'))\n",
    "s_segments_df, s_segments_plot = get_k_means_segments(\n",
    "    scaled_data=scaled_rfm_df[cols], og_data=transformed_rfm_df,\n",
    "    k_values=k_options, metric='silhouette'\n",
    ")\n",
    "\n",
    "print('CALINSKI HARABASZ SCORE'.center(150, '-'))\n",
    "ch_segments_df, ch_segments_plot = get_k_means_segments(\n",
    "    scaled_data=scaled_rfm_df[cols], og_data=transformed_rfm_df, \n",
    "    k_values=k_options, metric='ch_score'\n",
    ")"
   ]
  },
  {
   "cell_type": "markdown",
   "metadata": {},
   "source": [
    "Recency & Frequency"
   ]
  },
  {
   "cell_type": "code",
   "execution_count": 65,
   "metadata": {},
   "outputs": [
    {
     "name": "stdout",
     "output_type": "stream",
     "text": [
      "-------------------------------------------------------------------SILHOUETTE SCORE-------------------------------------------------------------------\n",
      "[{'k': 2, 'score': 0.5546091779179882}, {'k': 3, 'score': 0.5468970161282904}, {'k': 4, 'score': 0.5218983825867292}, {'k': 5, 'score': 0.5359261064462826}]\n",
      "Best k value = 2 (silhouette score = 0.555)\n"
     ]
    },
    {
     "data": {},
     "metadata": {},
     "output_type": "display_data"
    },
    {
     "data": {
      "application/vnd.holoviews_exec.v0+json": "",
      "text/html": [
       "<div id='e7f50ae0-fe2f-4057-8b9b-ab635ea351b4'>\n",
       "  <div id=\"c68e1b35-af45-4ef5-a9a8-85120612271b\" data-root-id=\"e7f50ae0-fe2f-4057-8b9b-ab635ea351b4\" style=\"display: contents;\"></div>\n",
       "</div>\n",
       "<script type=\"application/javascript\">(function(root) {\n",
       "  var docs_json = {\"77eb7f46-c917-47d0-9414-53c3c8116001\":{\"version\":\"3.5.2\",\"title\":\"Bokeh Application\",\"roots\":[{\"type\":\"object\",\"name\":\"Row\",\"id\":\"e7f50ae0-fe2f-4057-8b9b-ab635ea351b4\",\"attributes\":{\"name\":\"Row07603\",\"tags\":[\"embedded\"],\"stylesheets\":[\"\\n:host(.pn-loading):before, .pn-loading:before {\\n  background-color: #c3c3c3;\\n  mask-size: auto calc(min(50%, 400px));\\n  -webkit-mask-size: auto calc(min(50%, 400px));\\n}\",{\"type\":\"object\",\"name\":\"ImportedStyleSheet\",\"id\":\"71a1c14a-a1e2-438b-bb47-d67bede01c78\",\"attributes\":{\"url\":\"https://cdn.holoviz.org/panel/1.5.3/dist/css/loading.css\"}},{\"type\":\"object\",\"name\":\"ImportedStyleSheet\",\"id\":\"ac818857-0855-4fa6-bb4e-a1a9cc347bf1\",\"attributes\":{\"url\":\"https://cdn.holoviz.org/panel/1.5.3/dist/css/listpanel.css\"}},{\"type\":\"object\",\"name\":\"ImportedStyleSheet\",\"id\":\"6dec6eca-5d13-412e-9dc4-47fd83e1dd94\",\"attributes\":{\"url\":\"https://cdn.holoviz.org/panel/1.5.3/dist/bundled/theme/default.css\"}},{\"type\":\"object\",\"name\":\"ImportedStyleSheet\",\"id\":\"73e9e309-b6a2-4b28-bca1-9f9d04030376\",\"attributes\":{\"url\":\"https://cdn.holoviz.org/panel/1.5.3/dist/bundled/theme/native.css\"}}],\"min_width\":700,\"margin\":0,\"sizing_mode\":\"stretch_width\",\"align\":\"start\",\"children\":[{\"type\":\"object\",\"name\":\"Spacer\",\"id\":\"b46582de-4f15-4aa2-a8e2-144b1c7d05c9\",\"attributes\":{\"name\":\"HSpacer07607\",\"stylesheets\":[\"\\n:host(.pn-loading):before, .pn-loading:before {\\n  background-color: #c3c3c3;\\n  mask-size: auto calc(min(50%, 400px));\\n  -webkit-mask-size: auto calc(min(50%, 400px));\\n}\",{\"id\":\"71a1c14a-a1e2-438b-bb47-d67bede01c78\"},{\"id\":\"6dec6eca-5d13-412e-9dc4-47fd83e1dd94\"},{\"id\":\"73e9e309-b6a2-4b28-bca1-9f9d04030376\"}],\"margin\":0,\"sizing_mode\":\"stretch_width\",\"align\":\"start\"}},{\"type\":\"object\",\"name\":\"Figure\",\"id\":\"5d37a7fd-6e7d-4b0d-8510-ef8dd4d10ec5\",\"attributes\":{\"width\":700,\"height\":300,\"margin\":[5,10],\"sizing_mode\":\"fixed\",\"align\":\"start\",\"x_range\":{\"type\":\"object\",\"name\":\"Range1d\",\"id\":\"a2796c94-58e8-4a6c-a383-1494104aa5fa\",\"attributes\":{\"name\":\"recency\",\"tags\":[[[\"recency\",null]],[]],\"start\":-21.17142857142857,\"end\":515.1714285714286,\"reset_start\":-21.17142857142857,\"reset_end\":515.1714285714286}},\"y_range\":{\"type\":\"object\",\"name\":\"Range1d\",\"id\":\"3854d6ae-d953-44e1-8820-866038dfd83d\",\"attributes\":{\"name\":\"frequency\",\"tags\":[[[\"frequency\",null]],{\"type\":\"map\",\"entries\":[[\"invert_yaxis\",false],[\"autorange\",false]]}],\"start\":-0.12187378681914524,\"end\":1.3406116550105975,\"reset_start\":-0.12187378681914524,\"reset_end\":1.3406116550105975}},\"x_scale\":{\"type\":\"object\",\"name\":\"LinearScale\",\"id\":\"1d1c5ba9-fc27-4310-bc3e-82e3634dc51a\"},\"y_scale\":{\"type\":\"object\",\"name\":\"LinearScale\",\"id\":\"ed8ecf4d-8818-4b1c-b8f5-d210f658ca16\"},\"title\":{\"type\":\"object\",\"name\":\"Title\",\"id\":\"650e3c31-dd55-44a1-9712-7cd79208d8e4\",\"attributes\":{\"text_color\":\"black\",\"text_font_size\":\"12pt\"}},\"renderers\":[{\"type\":\"object\",\"name\":\"GlyphRenderer\",\"id\":\"be489e22-64fd-4b20-8d49-a1d8a530d49e\",\"attributes\":{\"name\":\"0\",\"data_source\":{\"type\":\"object\",\"name\":\"ColumnDataSource\",\"id\":\"91308ac2-5f14-4abd-a365-1a6b0c357b6d\",\"attributes\":{\"selected\":{\"type\":\"object\",\"name\":\"Selection\",\"id\":\"a8e2ab8d-c4b2-4573-8285-a64d4ce57e20\",\"attributes\":{\"indices\":[],\"line_indices\":[]}},\"selection_policy\":{\"type\":\"object\",\"name\":\"UnionRenderers\",\"id\":\"45a6883a-444d-4a35-a3c8-e21bebd2218d\"},\"data\":{\"type\":\"map\",\"entries\":[[\"recency\",{\"type\":\"ndarray\",\"array\":{\"type\":\"bytes\",\"data\":\"twAAALwAAACEAAAApQAAACgAAACnAAAAggAAAC4AAAAMAAAAYQAAAL0AAADCAAAAugAAAKkAAAAZAAAAgwAAAEsAAABFAAAAtQAAAK4AAACDAAAApQAAAA4AAAAhAAAASwAAAD0AAADBAAAAAAAAAFMAAADEAAAARAAAAGIAAADBAAAAxQAAAH8AAACtAAAAtgAAAJcAAACpAAAAEAAAAH0AAADBAAAAsgAAAGcAAABqAAAABwAAAHUAAACxAAAAtAAAACcAAAC1AAAAGAAAAEwAAABoAAAAAAEAAKQAAAAyAAAAMAAAADcAAAA=\"},\"shape\":[59],\"dtype\":\"int32\",\"order\":\"little\"}],[\"frequency\",{\"type\":\"ndarray\",\"array\":{\"type\":\"bytes\",\"data\":\"REQLbI4Q6D+KO75yNr7rP4o7vnI2vus/REQLbI4Q6D9ERAtsjhDoP4o7vnI2vus/REQLbI4Q6D9ERAtsjhDoP0REC2yOEOg/REQLbI4Q6D9ERAtsjhDoP0REC2yOEOg/REQLbI4Q6D9ERAtsjhDoP4o7vnI2vus/REQLbI4Q6D9ERAtsjhDoP4o7vnI2vus/REQLbI4Q6D9ERAtsjhDoP0REC2yOEOg/REQLbI4Q6D/5dmRH83/zP0REC2yOEOg/YfF8Rz1a4T9ERAtsjhDoP0REC2yOEOg/iju+cja+6z+KO75yNr7rP0REC2yOEOg/REQLbI4Q6D9h8XxHPVrhP4o7vnI2vus/REQLbI4Q6D+KO75yNr7rP0REC2yOEOg/REQLbI4Q6D9ERAtsjhDoPyld0uZkGu4/REQLbI4Q6D9ERAtsjhDoP4o7vnI2vus/REQLbI4Q6D9ERAtsjhDoP0REC2yOEOg/REQLbI4Q6D9ERAtsjhDoP0REC2yOEOg/REQLbI4Q6D9h8XxHPVrhP0REC2yOEOg/iju+cja+6z8pXdLmZBruP0REC2yOEOg/REQLbI4Q6D9ERAtsjhDoP0REC2yOEOg/KV3S5mQa7j+gPTe0W9jyPw==\"},\"shape\":[59],\"dtype\":\"float64\",\"order\":\"little\"}],[\"customer_id\",{\"type\":\"ndarray\",\"array\":{\"type\":\"bytes\",\"data\":\"AQAAAAMAAAAFAAAABgAAAAcAAAAIAAAACQAAAAoAAAALAAAADAAAAA0AAAAPAAAAEQAAABMAAAAVAAAAFgAAABgAAAAbAAAAHQAAAB8AAAAgAAAAIwAAACUAAAAmAAAAJwAAACgAAAAqAAAAKwAAACwAAAAuAAAAMAAAADEAAAAzAAAANQAAADgAAAA5AAAAOgAAAD0AAAA+AAAAPwAAAEAAAABBAAAAQgAAAEMAAABFAAAARwAAAEgAAABKAAAASwAAAE8AAABQAAAAUQAAAFIAAABTAAAAVAAAAFUAAABYAAAAWgAAAFsAAAA=\"},\"shape\":[59],\"dtype\":\"int32\",\"order\":\"little\"}],[\"monetary\",{\"type\":\"ndarray\",\"array\":{\"type\":\"bytes\",\"data\":\"pn+61XFeJ0Bw2fhQz18nQI7RoAtNZydAq6q/FtXJJkDtoCfkZ+ImQPk9XnGvYyhAwmvNEoQyJ0B/YM9YZhEnQK3kk8E7ECdAJNL2VzU9J0AKMRgyiZ4lQFpHVwyMkydA+nloLl2rJ0Dmt816r6UmQOG+7rpdZidAMuQLx4hJJ0CyvhUoFQEnQKIZB0+u4ydA6/b8DTPwJ0BKfqbIG4omQDy9NzPlciZA9J+tikleJEDn55g5SywrQAHUUl4slyZARPlY9rS2JkDtVPlsJIsmQOZmWbhpxSZAEGsPFojVJ0AQrExz0dUnQDVxp518UidAr1yOu2i6JUBPx8ipHD0iQAN1elpytCZAp0ZN1pZmJ0D128vtx9UkQFMYTL/HLyRA6G4NXAfnJkBsY8nrHywnQAcTYr0NbChAXb/Tt99tJkCqxEd+dh0nQEn6X0xAVSdAUpDxGRr4JkAaXEU8VaUnQFX3ih+GHCdAFVmkQ1K8J0DoHcIYYJ4mQPknaOwQhiZAtVdPNb5vJkAILp1NJT4mQAZGWP5pqyZA1rFjYWVQJ0ClqnF5Oh8oQKKMWoyI/CVAPiXG5/8+J0BY86eudeklQF1Oq1WRUyZAoE5YIXCgJ0DngIqfFcMqQA==\"},\"shape\":[59],\"dtype\":\"float64\",\"order\":\"little\"}],[\"segment\",{\"type\":\"ndarray\",\"array\":{\"type\":\"bytes\",\"data\":\"AAAAAAAAAAAAAAAAAAAAAAAAAAAAAAAAAAAAAAAAAAAAAAAAAAAAAAAAAAAAAAAAAAAAAAAAAAAAAAAAAAAAAAAAAAAAAAAAAAAAAAAAAAAAAAAAAAAAAAAAAAAAAAAAAAAAAAAAAAAAAAAAAAAAAAAAAAAAAAAAAAAAAAAAAAAAAAAAAAAAAAAAAAAAAAAAAAAAAAAAAAAAAAAAAAAAAAAAAAAAAAAAAAAAAAAAAAAAAAAAAAAAAAAAAAAAAAAAAAAAAAAAAAAAAAAAAAAAAAAAAAAAAAAAAAAAAAAAAAAAAAAAAAAAAAAAAAA=\"},\"shape\":[59],\"dtype\":\"int32\",\"order\":\"little\"}]]}}},\"view\":{\"type\":\"object\",\"name\":\"CDSView\",\"id\":\"4a7faf4d-9d57-4730-9aa5-8ae944debd80\",\"attributes\":{\"filter\":{\"type\":\"object\",\"name\":\"AllIndices\",\"id\":\"63025d4d-9e80-4927-8025-18267ab7997a\"}}},\"glyph\":{\"type\":\"object\",\"name\":\"Scatter\",\"id\":\"c3a4b4a4-8dea-49c5-a155-6b174d9ef1ef\",\"attributes\":{\"tags\":[\"apply_ranges\"],\"x\":{\"type\":\"field\",\"field\":\"recency\"},\"y\":{\"type\":\"field\",\"field\":\"frequency\"},\"size\":{\"type\":\"value\",\"value\":5.477225575051661},\"line_color\":{\"type\":\"value\",\"value\":\"#30a2da\"},\"fill_color\":{\"type\":\"value\",\"value\":\"#30a2da\"},\"hatch_color\":{\"type\":\"value\",\"value\":\"#30a2da\"}}},\"selection_glyph\":{\"type\":\"object\",\"name\":\"Scatter\",\"id\":\"c110fc83-bbe6-4cfa-bf4b-8499474ac650\",\"attributes\":{\"tags\":[\"apply_ranges\"],\"x\":{\"type\":\"field\",\"field\":\"recency\"},\"y\":{\"type\":\"field\",\"field\":\"frequency\"},\"size\":{\"type\":\"value\",\"value\":5.477225575051661},\"angle\":{\"type\":\"value\",\"value\":0.0},\"line_color\":{\"type\":\"value\",\"value\":\"#30a2da\"},\"line_alpha\":{\"type\":\"value\",\"value\":1.0},\"line_width\":{\"type\":\"value\",\"value\":1},\"line_join\":{\"type\":\"value\",\"value\":\"bevel\"},\"line_cap\":{\"type\":\"value\",\"value\":\"butt\"},\"line_dash\":{\"type\":\"value\",\"value\":[]},\"line_dash_offset\":{\"type\":\"value\",\"value\":0},\"fill_color\":{\"type\":\"value\",\"value\":\"#30a2da\"},\"fill_alpha\":{\"type\":\"value\",\"value\":1.0},\"hatch_color\":{\"type\":\"value\",\"value\":\"#30a2da\"},\"hatch_alpha\":{\"type\":\"value\",\"value\":1.0},\"hatch_scale\":{\"type\":\"value\",\"value\":12.0},\"hatch_pattern\":{\"type\":\"value\",\"value\":null},\"hatch_weight\":{\"type\":\"value\",\"value\":1.0},\"marker\":{\"type\":\"value\",\"value\":\"circle\"}}},\"nonselection_glyph\":{\"type\":\"object\",\"name\":\"Scatter\",\"id\":\"c4c721d0-b47e-4cb9-9d5f-ee2d6a62f1be\",\"attributes\":{\"tags\":[\"apply_ranges\"],\"x\":{\"type\":\"field\",\"field\":\"recency\"},\"y\":{\"type\":\"field\",\"field\":\"frequency\"},\"size\":{\"type\":\"value\",\"value\":5.477225575051661},\"line_color\":{\"type\":\"value\",\"value\":\"#30a2da\"},\"line_alpha\":{\"type\":\"value\",\"value\":0.1},\"fill_color\":{\"type\":\"value\",\"value\":\"#30a2da\"},\"fill_alpha\":{\"type\":\"value\",\"value\":0.1},\"hatch_color\":{\"type\":\"value\",\"value\":\"#30a2da\"},\"hatch_alpha\":{\"type\":\"value\",\"value\":0.1}}},\"muted_glyph\":{\"type\":\"object\",\"name\":\"Scatter\",\"id\":\"bf72d036-63c5-4106-ace9-42022143c47c\",\"attributes\":{\"tags\":[\"apply_ranges\"],\"x\":{\"type\":\"field\",\"field\":\"recency\"},\"y\":{\"type\":\"field\",\"field\":\"frequency\"},\"size\":{\"type\":\"value\",\"value\":5.477225575051661},\"line_color\":{\"type\":\"value\",\"value\":\"#30a2da\"},\"line_alpha\":{\"type\":\"value\",\"value\":0.2},\"fill_color\":{\"type\":\"value\",\"value\":\"#30a2da\"},\"fill_alpha\":{\"type\":\"value\",\"value\":0.2},\"hatch_color\":{\"type\":\"value\",\"value\":\"#30a2da\"},\"hatch_alpha\":{\"type\":\"value\",\"value\":0.2}}}}},{\"type\":\"object\",\"name\":\"GlyphRenderer\",\"id\":\"05aa926d-8864-4515-ae27-b51b5cd247f9\",\"attributes\":{\"name\":\"1\",\"data_source\":{\"type\":\"object\",\"name\":\"ColumnDataSource\",\"id\":\"1e045a2a-f000-47f7-b84f-f5a9623e2430\",\"attributes\":{\"selected\":{\"type\":\"object\",\"name\":\"Selection\",\"id\":\"704f55e5-a1ca-4718-8cc4-26e0aa912eed\",\"attributes\":{\"indices\":[],\"line_indices\":[]}},\"selection_policy\":{\"type\":\"object\",\"name\":\"UnionRenderers\",\"id\":\"54e38cf5-6949-4458-962a-a949ae7d3e09\"},\"data\":{\"type\":\"map\",\"entries\":[[\"recency\",{\"type\":\"ndarray\",\"array\":{\"type\":\"bytes\",\"data\":\"1QAAALkBAADfAAAAjwEAAMMAAAANAQAADgEAACwBAAB2AQAAegEAAAQBAADXAAAA+QAAANoBAACoAQAAPwEAANgAAADFAAAAzwAAANYAAAC+AQAA+gAAAGwBAADuAQAA4QEAAPMAAADOAQAA+QAAAM8AAACCAQAA2gAAAPQAAADDAQAA\"},\"shape\":[33],\"dtype\":\"int32\",\"order\":\"little\"}],[\"frequency\",{\"type\":\"ndarray\",\"array\":{\"type\":\"bytes\",\"data\":\"YfF8Rz1a4T9ERAtsjhDoP2HxfEc9WuE/YfF8Rz1a4T9h8XxHPVrhP2HxfEc9WuE/YfF8Rz1a4T9h8XxHPVrhP2HxfEc9WuE/YfF8Rz1a4T9h8XxHPVrhP2HxfEc9WuE/YfF8Rz1a4T9h8XxHPVrhP2HxfEc9WuE/YfF8Rz1a4T9h8XxHPVrhP2HxfEc9WuE/YfF8Rz1a4T9h8XxHPVrhP2HxfEc9WuE/YfF8Rz1a4T9h8XxHPVrhP2HxfEc9WuE/YfF8Rz1a4T9h8XxHPVrhP2HxfEc9WuE/YfF8Rz1a4T9h8XxHPVrhP2HxfEc9WuE/YfF8Rz1a4T8AAAAAAAAAAGHxfEc9WuE/\"},\"shape\":[33],\"dtype\":\"float64\",\"order\":\"little\"}],[\"customer_id\",{\"type\":\"ndarray\",\"array\":{\"type\":\"bytes\",\"data\":\"AgAAAAQAAAAOAAAAEAAAABIAAAAUAAAAFwAAABkAAAAaAAAAHAAAAB4AAAAhAAAAIgAAACQAAAApAAAALQAAAC8AAAAyAAAANAAAADYAAAA3AAAAOwAAADwAAABEAAAARgAAAEkAAABMAAAATQAAAE4AAABWAAAAVwAAAFkAAABcAAAA\"},\"shape\":[33],\"dtype\":\"int32\",\"order\":\"little\"}],[\"monetary\",{\"type\":\"ndarray\",\"array\":{\"type\":\"bytes\",\"data\":\"XuD1sjAIJ0Ay64rgTL0nQEoDqI/00SVAWjkjGC8+JkB6bqPgPdEkQFOln7lijyZAp6NZJ9VwJkDaOp1ANjYmQLNaiEre/SRAhcr8HfyQJkAPhawHH1onQCGig8NwPSZA0JK9R47rJEBZNLHH/HklQIkvduYOoCVAbE50vOqlJUCBGj8EKBYnQJ7V2Jn9iCZA5ncrufV0JkBT0kOTwLYmQAPwzE0xwiZASl1o1JTnJkDlLb3XiAUlQBfdGllajyVAk13CPNH7JECYPKlcku0lQCrH8ib4pSVAMxZQ1JjoJUAa0ejAqQknQFcfOANCViZAmiVBF8IoJkB52QHbCO0kQKZSmYYHSSZA\"},\"shape\":[33],\"dtype\":\"float64\",\"order\":\"little\"}],[\"segment\",{\"type\":\"ndarray\",\"array\":{\"type\":\"bytes\",\"data\":\"AQAAAAEAAAABAAAAAQAAAAEAAAABAAAAAQAAAAEAAAABAAAAAQAAAAEAAAABAAAAAQAAAAEAAAABAAAAAQAAAAEAAAABAAAAAQAAAAEAAAABAAAAAQAAAAEAAAABAAAAAQAAAAEAAAABAAAAAQAAAAEAAAABAAAAAQAAAAEAAAABAAAA\"},\"shape\":[33],\"dtype\":\"int32\",\"order\":\"little\"}]]}}},\"view\":{\"type\":\"object\",\"name\":\"CDSView\",\"id\":\"e2c2f506-aa41-4da9-ae26-65b3e2b5bd6a\",\"attributes\":{\"filter\":{\"type\":\"object\",\"name\":\"AllIndices\",\"id\":\"20f6c7db-36c0-493b-bfa3-aec48ad47eb1\"}}},\"glyph\":{\"type\":\"object\",\"name\":\"Scatter\",\"id\":\"4fb0f952-3168-4575-9c24-1952c6453b2e\",\"attributes\":{\"tags\":[\"apply_ranges\"],\"x\":{\"type\":\"field\",\"field\":\"recency\"},\"y\":{\"type\":\"field\",\"field\":\"frequency\"},\"size\":{\"type\":\"value\",\"value\":5.477225575051661},\"line_color\":{\"type\":\"value\",\"value\":\"#fc4f30\"},\"fill_color\":{\"type\":\"value\",\"value\":\"#fc4f30\"},\"hatch_color\":{\"type\":\"value\",\"value\":\"#fc4f30\"}}},\"selection_glyph\":{\"type\":\"object\",\"name\":\"Scatter\",\"id\":\"3e448dc4-4dc2-40c8-849d-8814b8387526\",\"attributes\":{\"tags\":[\"apply_ranges\"],\"x\":{\"type\":\"field\",\"field\":\"recency\"},\"y\":{\"type\":\"field\",\"field\":\"frequency\"},\"size\":{\"type\":\"value\",\"value\":5.477225575051661},\"angle\":{\"type\":\"value\",\"value\":0.0},\"line_color\":{\"type\":\"value\",\"value\":\"#fc4f30\"},\"line_alpha\":{\"type\":\"value\",\"value\":1.0},\"line_width\":{\"type\":\"value\",\"value\":1},\"line_join\":{\"type\":\"value\",\"value\":\"bevel\"},\"line_cap\":{\"type\":\"value\",\"value\":\"butt\"},\"line_dash\":{\"type\":\"value\",\"value\":[]},\"line_dash_offset\":{\"type\":\"value\",\"value\":0},\"fill_color\":{\"type\":\"value\",\"value\":\"#fc4f30\"},\"fill_alpha\":{\"type\":\"value\",\"value\":1.0},\"hatch_color\":{\"type\":\"value\",\"value\":\"#fc4f30\"},\"hatch_alpha\":{\"type\":\"value\",\"value\":1.0},\"hatch_scale\":{\"type\":\"value\",\"value\":12.0},\"hatch_pattern\":{\"type\":\"value\",\"value\":null},\"hatch_weight\":{\"type\":\"value\",\"value\":1.0},\"marker\":{\"type\":\"value\",\"value\":\"circle\"}}},\"nonselection_glyph\":{\"type\":\"object\",\"name\":\"Scatter\",\"id\":\"85ee60bf-3edb-45a0-a5bf-4c2c0af88211\",\"attributes\":{\"tags\":[\"apply_ranges\"],\"x\":{\"type\":\"field\",\"field\":\"recency\"},\"y\":{\"type\":\"field\",\"field\":\"frequency\"},\"size\":{\"type\":\"value\",\"value\":5.477225575051661},\"line_color\":{\"type\":\"value\",\"value\":\"#fc4f30\"},\"line_alpha\":{\"type\":\"value\",\"value\":0.1},\"fill_color\":{\"type\":\"value\",\"value\":\"#fc4f30\"},\"fill_alpha\":{\"type\":\"value\",\"value\":0.1},\"hatch_color\":{\"type\":\"value\",\"value\":\"#fc4f30\"},\"hatch_alpha\":{\"type\":\"value\",\"value\":0.1}}},\"muted_glyph\":{\"type\":\"object\",\"name\":\"Scatter\",\"id\":\"7eb91b8c-de2e-4b2c-a59f-d6968148459f\",\"attributes\":{\"tags\":[\"apply_ranges\"],\"x\":{\"type\":\"field\",\"field\":\"recency\"},\"y\":{\"type\":\"field\",\"field\":\"frequency\"},\"size\":{\"type\":\"value\",\"value\":5.477225575051661},\"line_color\":{\"type\":\"value\",\"value\":\"#fc4f30\"},\"line_alpha\":{\"type\":\"value\",\"value\":0.2},\"fill_color\":{\"type\":\"value\",\"value\":\"#fc4f30\"},\"fill_alpha\":{\"type\":\"value\",\"value\":0.2},\"hatch_color\":{\"type\":\"value\",\"value\":\"#fc4f30\"},\"hatch_alpha\":{\"type\":\"value\",\"value\":0.2}}}}}],\"toolbar\":{\"type\":\"object\",\"name\":\"Toolbar\",\"id\":\"35a752d5-d959-4c14-9725-9d78f5d24431\",\"attributes\":{\"tools\":[{\"type\":\"object\",\"name\":\"WheelZoomTool\",\"id\":\"b10075f2-f0d8-46af-8294-b0b13103f465\",\"attributes\":{\"tags\":[\"hv_created\"],\"renderers\":\"auto\",\"zoom_together\":\"none\"}},{\"type\":\"object\",\"name\":\"HoverTool\",\"id\":\"11f47035-8ae8-43ac-8d37-7d1d5b92dcb5\",\"attributes\":{\"tags\":[\"hv_created\"],\"renderers\":[{\"id\":\"be489e22-64fd-4b20-8d49-a1d8a530d49e\"},{\"id\":\"05aa926d-8864-4515-ae27-b51b5cd247f9\"}],\"tooltips\":[[\"segment\",\"@{segment}\"],[\"recency\",\"@{recency}\"],[\"frequency\",\"@{frequency}\"],[\"customer_id\",\"@{customer_id}\"],[\"monetary\",\"@{monetary}\"]]}},{\"type\":\"object\",\"name\":\"SaveTool\",\"id\":\"a12f0fd5-bf37-4683-b51f-a9bb76abc80b\"},{\"type\":\"object\",\"name\":\"PanTool\",\"id\":\"78ae270a-89c0-4551-af41-06c7f802bad9\"},{\"type\":\"object\",\"name\":\"BoxZoomTool\",\"id\":\"38bd2887-cd2b-4f6f-bb12-b382103e3b08\",\"attributes\":{\"overlay\":{\"type\":\"object\",\"name\":\"BoxAnnotation\",\"id\":\"bffc1aba-24dc-4d8b-ae86-dfe2484bd3b8\",\"attributes\":{\"syncable\":false,\"line_color\":\"black\",\"line_alpha\":1.0,\"line_width\":2,\"line_dash\":[4,4],\"fill_color\":\"lightgrey\",\"fill_alpha\":0.5,\"level\":\"overlay\",\"visible\":false,\"left\":{\"type\":\"number\",\"value\":\"nan\"},\"right\":{\"type\":\"number\",\"value\":\"nan\"},\"top\":{\"type\":\"number\",\"value\":\"nan\"},\"bottom\":{\"type\":\"number\",\"value\":\"nan\"},\"left_units\":\"canvas\",\"right_units\":\"canvas\",\"top_units\":\"canvas\",\"bottom_units\":\"canvas\",\"handles\":{\"type\":\"object\",\"name\":\"BoxInteractionHandles\",\"id\":\"d39d2e4c-bb0b-43da-a4cb-81ad8411cbef\",\"attributes\":{\"all\":{\"type\":\"object\",\"name\":\"AreaVisuals\",\"id\":\"417c263b-98cc-4a73-b119-e2b56f7409a5\",\"attributes\":{\"fill_color\":\"white\",\"hover_fill_color\":\"lightgray\"}}}}}}}},{\"type\":\"object\",\"name\":\"ResetTool\",\"id\":\"5055a092-9c0b-41cd-884c-cdbec5c64462\"}],\"active_drag\":{\"id\":\"78ae270a-89c0-4551-af41-06c7f802bad9\"},\"active_scroll\":{\"id\":\"b10075f2-f0d8-46af-8294-b0b13103f465\"}}},\"left\":[{\"type\":\"object\",\"name\":\"LinearAxis\",\"id\":\"5fa3b225-f500-4e76-9c40-d181968f299a\",\"attributes\":{\"ticker\":{\"type\":\"object\",\"name\":\"BasicTicker\",\"id\":\"436f60f7-cebf-415c-99db-ff5089707922\",\"attributes\":{\"mantissas\":[1,2,5]}},\"formatter\":{\"type\":\"object\",\"name\":\"BasicTickFormatter\",\"id\":\"1b7eb2d2-6d8b-45c1-ae30-6525460c91bd\"},\"axis_label\":\"frequency\",\"major_label_policy\":{\"type\":\"object\",\"name\":\"AllLabels\",\"id\":\"963c9051-586a-4cdc-ad1d-6e2a7ac6cdbe\"}}}],\"right\":[{\"type\":\"object\",\"name\":\"Legend\",\"id\":\"80ec51a4-a9db-424b-b2f1-a85c5b341b70\",\"attributes\":{\"location\":[0,0],\"title\":\"segment\",\"click_policy\":\"mute\",\"items\":[{\"type\":\"object\",\"name\":\"LegendItem\",\"id\":\"eb5a7f06-ef70-482f-97f7-cadd7d5a557c\",\"attributes\":{\"label\":{\"type\":\"value\",\"value\":\"0\"},\"renderers\":[{\"id\":\"be489e22-64fd-4b20-8d49-a1d8a530d49e\"}]}},{\"type\":\"object\",\"name\":\"LegendItem\",\"id\":\"d22cb876-cd00-415b-9838-b5179091ee02\",\"attributes\":{\"label\":{\"type\":\"value\",\"value\":\"1\"},\"renderers\":[{\"id\":\"05aa926d-8864-4515-ae27-b51b5cd247f9\"}]}}]}}],\"below\":[{\"type\":\"object\",\"name\":\"LinearAxis\",\"id\":\"ce02b6ac-9b7b-4c8a-8839-271a8f6ca805\",\"attributes\":{\"ticker\":{\"type\":\"object\",\"name\":\"BasicTicker\",\"id\":\"afc491ba-c778-49a1-8899-9d1ffee7a0d4\",\"attributes\":{\"mantissas\":[1,2,5]}},\"formatter\":{\"type\":\"object\",\"name\":\"BasicTickFormatter\",\"id\":\"3d21f5cc-c3c3-40e4-a5dc-adbfeee61ee9\"},\"axis_label\":\"recency\",\"major_label_policy\":{\"type\":\"object\",\"name\":\"AllLabels\",\"id\":\"aa4b0e7e-20c8-4c36-ab24-20ac0a159ec9\"}}}],\"center\":[{\"type\":\"object\",\"name\":\"Grid\",\"id\":\"86a79a94-2e65-4951-9c5d-fa44dc4a24eb\",\"attributes\":{\"axis\":{\"id\":\"ce02b6ac-9b7b-4c8a-8839-271a8f6ca805\"},\"grid_line_color\":null}},{\"type\":\"object\",\"name\":\"Grid\",\"id\":\"374088bb-063b-4d55-97ed-98c237dac359\",\"attributes\":{\"dimension\":1,\"axis\":{\"id\":\"5fa3b225-f500-4e76-9c40-d181968f299a\"},\"grid_line_color\":null}}],\"min_border_top\":10,\"min_border_bottom\":10,\"min_border_left\":10,\"min_border_right\":10,\"output_backend\":\"webgl\"}},{\"type\":\"object\",\"name\":\"Spacer\",\"id\":\"123cbd25-d647-4b83-a9d3-bd3399cf0776\",\"attributes\":{\"name\":\"HSpacer07608\",\"stylesheets\":[\"\\n:host(.pn-loading):before, .pn-loading:before {\\n  background-color: #c3c3c3;\\n  mask-size: auto calc(min(50%, 400px));\\n  -webkit-mask-size: auto calc(min(50%, 400px));\\n}\",{\"id\":\"71a1c14a-a1e2-438b-bb47-d67bede01c78\"},{\"id\":\"6dec6eca-5d13-412e-9dc4-47fd83e1dd94\"},{\"id\":\"73e9e309-b6a2-4b28-bca1-9f9d04030376\"}],\"margin\":0,\"sizing_mode\":\"stretch_width\",\"align\":\"start\"}}]}}],\"defs\":[{\"type\":\"model\",\"name\":\"ReactiveHTML1\"},{\"type\":\"model\",\"name\":\"FlexBox1\",\"properties\":[{\"name\":\"align_content\",\"kind\":\"Any\",\"default\":\"flex-start\"},{\"name\":\"align_items\",\"kind\":\"Any\",\"default\":\"flex-start\"},{\"name\":\"flex_direction\",\"kind\":\"Any\",\"default\":\"row\"},{\"name\":\"flex_wrap\",\"kind\":\"Any\",\"default\":\"wrap\"},{\"name\":\"gap\",\"kind\":\"Any\",\"default\":\"\"},{\"name\":\"justify_content\",\"kind\":\"Any\",\"default\":\"flex-start\"}]},{\"type\":\"model\",\"name\":\"FloatPanel1\",\"properties\":[{\"name\":\"config\",\"kind\":\"Any\",\"default\":{\"type\":\"map\"}},{\"name\":\"contained\",\"kind\":\"Any\",\"default\":true},{\"name\":\"position\",\"kind\":\"Any\",\"default\":\"right-top\"},{\"name\":\"offsetx\",\"kind\":\"Any\",\"default\":null},{\"name\":\"offsety\",\"kind\":\"Any\",\"default\":null},{\"name\":\"theme\",\"kind\":\"Any\",\"default\":\"primary\"},{\"name\":\"status\",\"kind\":\"Any\",\"default\":\"normalized\"}]},{\"type\":\"model\",\"name\":\"GridStack1\",\"properties\":[{\"name\":\"mode\",\"kind\":\"Any\",\"default\":\"warn\"},{\"name\":\"ncols\",\"kind\":\"Any\",\"default\":null},{\"name\":\"nrows\",\"kind\":\"Any\",\"default\":null},{\"name\":\"allow_resize\",\"kind\":\"Any\",\"default\":true},{\"name\":\"allow_drag\",\"kind\":\"Any\",\"default\":true},{\"name\":\"state\",\"kind\":\"Any\",\"default\":[]}]},{\"type\":\"model\",\"name\":\"drag1\",\"properties\":[{\"name\":\"slider_width\",\"kind\":\"Any\",\"default\":5},{\"name\":\"slider_color\",\"kind\":\"Any\",\"default\":\"black\"},{\"name\":\"value\",\"kind\":\"Any\",\"default\":50}]},{\"type\":\"model\",\"name\":\"click1\",\"properties\":[{\"name\":\"terminal_output\",\"kind\":\"Any\",\"default\":\"\"},{\"name\":\"debug_name\",\"kind\":\"Any\",\"default\":\"\"},{\"name\":\"clears\",\"kind\":\"Any\",\"default\":0}]},{\"type\":\"model\",\"name\":\"FastWrapper1\",\"properties\":[{\"name\":\"object\",\"kind\":\"Any\",\"default\":null},{\"name\":\"style\",\"kind\":\"Any\",\"default\":null}]},{\"type\":\"model\",\"name\":\"NotificationAreaBase1\",\"properties\":[{\"name\":\"js_events\",\"kind\":\"Any\",\"default\":{\"type\":\"map\"}},{\"name\":\"position\",\"kind\":\"Any\",\"default\":\"bottom-right\"},{\"name\":\"_clear\",\"kind\":\"Any\",\"default\":0}]},{\"type\":\"model\",\"name\":\"NotificationArea1\",\"properties\":[{\"name\":\"js_events\",\"kind\":\"Any\",\"default\":{\"type\":\"map\"}},{\"name\":\"notifications\",\"kind\":\"Any\",\"default\":[]},{\"name\":\"position\",\"kind\":\"Any\",\"default\":\"bottom-right\"},{\"name\":\"_clear\",\"kind\":\"Any\",\"default\":0},{\"name\":\"types\",\"kind\":\"Any\",\"default\":[{\"type\":\"map\",\"entries\":[[\"type\",\"warning\"],[\"background\",\"#ffc107\"],[\"icon\",{\"type\":\"map\",\"entries\":[[\"className\",\"fas fa-exclamation-triangle\"],[\"tagName\",\"i\"],[\"color\",\"white\"]]}]]},{\"type\":\"map\",\"entries\":[[\"type\",\"info\"],[\"background\",\"#007bff\"],[\"icon\",{\"type\":\"map\",\"entries\":[[\"className\",\"fas fa-info-circle\"],[\"tagName\",\"i\"],[\"color\",\"white\"]]}]]}]}]},{\"type\":\"model\",\"name\":\"Notification\",\"properties\":[{\"name\":\"background\",\"kind\":\"Any\",\"default\":null},{\"name\":\"duration\",\"kind\":\"Any\",\"default\":3000},{\"name\":\"icon\",\"kind\":\"Any\",\"default\":null},{\"name\":\"message\",\"kind\":\"Any\",\"default\":\"\"},{\"name\":\"notification_type\",\"kind\":\"Any\",\"default\":null},{\"name\":\"_destroyed\",\"kind\":\"Any\",\"default\":false}]},{\"type\":\"model\",\"name\":\"TemplateActions1\",\"properties\":[{\"name\":\"open_modal\",\"kind\":\"Any\",\"default\":0},{\"name\":\"close_modal\",\"kind\":\"Any\",\"default\":0}]},{\"type\":\"model\",\"name\":\"BootstrapTemplateActions1\",\"properties\":[{\"name\":\"open_modal\",\"kind\":\"Any\",\"default\":0},{\"name\":\"close_modal\",\"kind\":\"Any\",\"default\":0}]},{\"type\":\"model\",\"name\":\"TemplateEditor1\",\"properties\":[{\"name\":\"layout\",\"kind\":\"Any\",\"default\":[]}]},{\"type\":\"model\",\"name\":\"MaterialTemplateActions1\",\"properties\":[{\"name\":\"open_modal\",\"kind\":\"Any\",\"default\":0},{\"name\":\"close_modal\",\"kind\":\"Any\",\"default\":0}]},{\"type\":\"model\",\"name\":\"ReactiveESM1\"},{\"type\":\"model\",\"name\":\"JSComponent1\"},{\"type\":\"model\",\"name\":\"ReactComponent1\"},{\"type\":\"model\",\"name\":\"AnyWidgetComponent1\"},{\"type\":\"model\",\"name\":\"request_value1\",\"properties\":[{\"name\":\"fill\",\"kind\":\"Any\",\"default\":\"none\"},{\"name\":\"_synced\",\"kind\":\"Any\",\"default\":null},{\"name\":\"_request_sync\",\"kind\":\"Any\",\"default\":0}]}]}};\n",
       "  var render_items = [{\"docid\":\"77eb7f46-c917-47d0-9414-53c3c8116001\",\"roots\":{\"e7f50ae0-fe2f-4057-8b9b-ab635ea351b4\":\"c68e1b35-af45-4ef5-a9a8-85120612271b\"},\"root_ids\":[\"e7f50ae0-fe2f-4057-8b9b-ab635ea351b4\"]}];\n",
       "  var docs = Object.values(docs_json)\n",
       "  if (!docs) {\n",
       "    return\n",
       "  }\n",
       "  const py_version = docs[0].version.replace('rc', '-rc.').replace('.dev', '-dev.')\n",
       "  async function embed_document(root) {\n",
       "    var Bokeh = get_bokeh(root)\n",
       "    await Bokeh.embed.embed_items_notebook(docs_json, render_items);\n",
       "    for (const render_item of render_items) {\n",
       "      for (const root_id of render_item.root_ids) {\n",
       "\tconst id_el = document.getElementById(root_id)\n",
       "\tif (id_el.children.length && id_el.children[0].hasAttribute('data-root-id')) {\n",
       "\t  const root_el = id_el.children[0]\n",
       "\t  root_el.id = root_el.id + '-rendered'\n",
       "\t  for (const child of root_el.children) {\n",
       "            // Ensure JupyterLab does not capture keyboard shortcuts\n",
       "            // see: https://jupyterlab.readthedocs.io/en/4.1.x/extension/notebook.html#keyboard-interaction-model\n",
       "\t    child.setAttribute('data-lm-suppress-shortcuts', 'true')\n",
       "\t  }\n",
       "\t}\n",
       "      }\n",
       "    }\n",
       "  }\n",
       "  function get_bokeh(root) {\n",
       "    if (root.Bokeh === undefined) {\n",
       "      return null\n",
       "    } else if (root.Bokeh.version !== py_version) {\n",
       "      if (root.Bokeh.versions === undefined || !root.Bokeh.versions.has(py_version)) {\n",
       "\treturn null\n",
       "      }\n",
       "      return root.Bokeh.versions.get(py_version);\n",
       "    } else if (root.Bokeh.version === py_version) {\n",
       "      return root.Bokeh\n",
       "    }\n",
       "    return null\n",
       "  }\n",
       "  function is_loaded(root) {\n",
       "    var Bokeh = get_bokeh(root)\n",
       "    return (Bokeh != null && Bokeh.Panel !== undefined)\n",
       "  }\n",
       "  if (is_loaded(root)) {\n",
       "    embed_document(root);\n",
       "  } else {\n",
       "    var attempts = 0;\n",
       "    var timer = setInterval(function(root) {\n",
       "      if (is_loaded(root)) {\n",
       "        clearInterval(timer);\n",
       "        embed_document(root);\n",
       "      } else if (document.readyState == \"complete\") {\n",
       "        attempts++;\n",
       "        if (attempts > 200) {\n",
       "          clearInterval(timer);\n",
       "\t  var Bokeh = get_bokeh(root)\n",
       "\t  if (Bokeh == null || Bokeh.Panel == null) {\n",
       "            console.warn(\"Panel: ERROR: Unable to run Panel code because Bokeh or Panel library is missing\");\n",
       "\t  } else {\n",
       "\t    console.warn(\"Panel: WARNING: Attempting to render but not all required libraries could be resolved.\")\n",
       "\t    embed_document(root)\n",
       "\t  }\n",
       "        }\n",
       "      }\n",
       "    }, 25, root)\n",
       "  }\n",
       "})(window);</script>"
      ],
      "text/plain": [
       ":NdOverlay   [segment]\n",
       "   :Scatter   [recency]   (frequency,customer_id,monetary,segment)"
      ]
     },
     "metadata": {
      "application/vnd.holoviews_exec.v0+json": {
       "id": "e7f50ae0-fe2f-4057-8b9b-ab635ea351b4"
      }
     },
     "output_type": "display_data"
    },
    {
     "name": "stdout",
     "output_type": "stream",
     "text": [
      "---------------------------------------------------------------CALINSKI HARABASZ SCORE----------------------------------------------------------------\n",
      "[{'k': 2, 'score': 121.02061461641048}, {'k': 3, 'score': 104.02296447055113}, {'k': 4, 'score': 108.59552988567877}, {'k': 5, 'score': 114.21025770035111}]\n",
      "Best k value = 2 (ch_score score = 121.021)\n"
     ]
    },
    {
     "data": {},
     "metadata": {},
     "output_type": "display_data"
    },
    {
     "data": {
      "application/vnd.holoviews_exec.v0+json": "",
      "text/html": [
       "<div id='3afa524c-cf9b-434e-873b-5940859fbee4'>\n",
       "  <div id=\"b8244350-05a2-4199-8808-95f9e3090155\" data-root-id=\"3afa524c-cf9b-434e-873b-5940859fbee4\" style=\"display: contents;\"></div>\n",
       "</div>\n",
       "<script type=\"application/javascript\">(function(root) {\n",
       "  var docs_json = {\"c7a2e44a-82c9-45ff-a354-efbb317c0d33\":{\"version\":\"3.5.2\",\"title\":\"Bokeh Application\",\"roots\":[{\"type\":\"object\",\"name\":\"Row\",\"id\":\"3afa524c-cf9b-434e-873b-5940859fbee4\",\"attributes\":{\"name\":\"Row07707\",\"tags\":[\"embedded\"],\"stylesheets\":[\"\\n:host(.pn-loading):before, .pn-loading:before {\\n  background-color: #c3c3c3;\\n  mask-size: auto calc(min(50%, 400px));\\n  -webkit-mask-size: auto calc(min(50%, 400px));\\n}\",{\"type\":\"object\",\"name\":\"ImportedStyleSheet\",\"id\":\"a52e000e-465a-4fc8-b2c8-e12b7cd66e64\",\"attributes\":{\"url\":\"https://cdn.holoviz.org/panel/1.5.3/dist/css/loading.css\"}},{\"type\":\"object\",\"name\":\"ImportedStyleSheet\",\"id\":\"5a943fdc-bb43-4529-b4c4-92407c091c9b\",\"attributes\":{\"url\":\"https://cdn.holoviz.org/panel/1.5.3/dist/css/listpanel.css\"}},{\"type\":\"object\",\"name\":\"ImportedStyleSheet\",\"id\":\"2c8b88c0-7312-435a-a4dc-c0deab39419c\",\"attributes\":{\"url\":\"https://cdn.holoviz.org/panel/1.5.3/dist/bundled/theme/default.css\"}},{\"type\":\"object\",\"name\":\"ImportedStyleSheet\",\"id\":\"0f9cc261-0903-443b-bf98-bf45610db228\",\"attributes\":{\"url\":\"https://cdn.holoviz.org/panel/1.5.3/dist/bundled/theme/native.css\"}}],\"min_width\":700,\"margin\":0,\"sizing_mode\":\"stretch_width\",\"align\":\"start\",\"children\":[{\"type\":\"object\",\"name\":\"Spacer\",\"id\":\"17738cc3-35ef-449c-bb5d-0463e20f79ef\",\"attributes\":{\"name\":\"HSpacer07711\",\"stylesheets\":[\"\\n:host(.pn-loading):before, .pn-loading:before {\\n  background-color: #c3c3c3;\\n  mask-size: auto calc(min(50%, 400px));\\n  -webkit-mask-size: auto calc(min(50%, 400px));\\n}\",{\"id\":\"a52e000e-465a-4fc8-b2c8-e12b7cd66e64\"},{\"id\":\"2c8b88c0-7312-435a-a4dc-c0deab39419c\"},{\"id\":\"0f9cc261-0903-443b-bf98-bf45610db228\"}],\"margin\":0,\"sizing_mode\":\"stretch_width\",\"align\":\"start\"}},{\"type\":\"object\",\"name\":\"Figure\",\"id\":\"08715321-ca08-4d33-98a5-36cbb2387714\",\"attributes\":{\"width\":700,\"height\":300,\"margin\":[5,10],\"sizing_mode\":\"fixed\",\"align\":\"start\",\"x_range\":{\"type\":\"object\",\"name\":\"Range1d\",\"id\":\"e05d8956-11d4-4b11-ae45-d3151c8ba1ef\",\"attributes\":{\"name\":\"recency\",\"tags\":[[[\"recency\",null]],[]],\"start\":-21.17142857142857,\"end\":515.1714285714286,\"reset_start\":-21.17142857142857,\"reset_end\":515.1714285714286}},\"y_range\":{\"type\":\"object\",\"name\":\"Range1d\",\"id\":\"a269a343-9c97-404b-a94d-74981ccbfcfe\",\"attributes\":{\"name\":\"frequency\",\"tags\":[[[\"frequency\",null]],{\"type\":\"map\",\"entries\":[[\"invert_yaxis\",false],[\"autorange\",false]]}],\"start\":-0.12187378681914524,\"end\":1.3406116550105975,\"reset_start\":-0.12187378681914524,\"reset_end\":1.3406116550105975}},\"x_scale\":{\"type\":\"object\",\"name\":\"LinearScale\",\"id\":\"a1bbff15-8e40-4941-9839-3d3b6d2de34f\"},\"y_scale\":{\"type\":\"object\",\"name\":\"LinearScale\",\"id\":\"3168f9a1-2e5a-4e06-890b-241e41fa079a\"},\"title\":{\"type\":\"object\",\"name\":\"Title\",\"id\":\"b4c3b221-4812-4de2-85bd-998429d1d8d4\",\"attributes\":{\"text_color\":\"black\",\"text_font_size\":\"12pt\"}},\"renderers\":[{\"type\":\"object\",\"name\":\"GlyphRenderer\",\"id\":\"95aae15d-f555-4128-a1c8-08f526931bca\",\"attributes\":{\"name\":\"0\",\"data_source\":{\"type\":\"object\",\"name\":\"ColumnDataSource\",\"id\":\"7a101417-d650-45f0-9bb1-90744bb76981\",\"attributes\":{\"selected\":{\"type\":\"object\",\"name\":\"Selection\",\"id\":\"17d4a65a-6c4f-4e60-8e02-a783e9bb3239\",\"attributes\":{\"indices\":[],\"line_indices\":[]}},\"selection_policy\":{\"type\":\"object\",\"name\":\"UnionRenderers\",\"id\":\"79425669-c4c8-4e96-a72f-24ff778587df\"},\"data\":{\"type\":\"map\",\"entries\":[[\"recency\",{\"type\":\"ndarray\",\"array\":{\"type\":\"bytes\",\"data\":\"twAAALwAAACEAAAApQAAACgAAACnAAAAggAAAC4AAAAMAAAAYQAAAL0AAADCAAAAugAAAKkAAAAZAAAAgwAAAEsAAABFAAAAtQAAAK4AAACDAAAApQAAAA4AAAAhAAAASwAAAD0AAADBAAAAAAAAAFMAAADEAAAARAAAAGIAAADBAAAAxQAAAH8AAACtAAAAtgAAAJcAAACpAAAAEAAAAH0AAADBAAAAsgAAAGcAAABqAAAABwAAAHUAAACxAAAAtAAAACcAAAC1AAAAGAAAAEwAAABoAAAAAAEAAKQAAAAyAAAAMAAAADcAAAA=\"},\"shape\":[59],\"dtype\":\"int32\",\"order\":\"little\"}],[\"frequency\",{\"type\":\"ndarray\",\"array\":{\"type\":\"bytes\",\"data\":\"REQLbI4Q6D+KO75yNr7rP4o7vnI2vus/REQLbI4Q6D9ERAtsjhDoP4o7vnI2vus/REQLbI4Q6D9ERAtsjhDoP0REC2yOEOg/REQLbI4Q6D9ERAtsjhDoP0REC2yOEOg/REQLbI4Q6D9ERAtsjhDoP4o7vnI2vus/REQLbI4Q6D9ERAtsjhDoP4o7vnI2vus/REQLbI4Q6D9ERAtsjhDoP0REC2yOEOg/REQLbI4Q6D/5dmRH83/zP0REC2yOEOg/YfF8Rz1a4T9ERAtsjhDoP0REC2yOEOg/iju+cja+6z+KO75yNr7rP0REC2yOEOg/REQLbI4Q6D9h8XxHPVrhP4o7vnI2vus/REQLbI4Q6D+KO75yNr7rP0REC2yOEOg/REQLbI4Q6D9ERAtsjhDoPyld0uZkGu4/REQLbI4Q6D9ERAtsjhDoP4o7vnI2vus/REQLbI4Q6D9ERAtsjhDoP0REC2yOEOg/REQLbI4Q6D9ERAtsjhDoP0REC2yOEOg/REQLbI4Q6D9h8XxHPVrhP0REC2yOEOg/iju+cja+6z8pXdLmZBruP0REC2yOEOg/REQLbI4Q6D9ERAtsjhDoP0REC2yOEOg/KV3S5mQa7j+gPTe0W9jyPw==\"},\"shape\":[59],\"dtype\":\"float64\",\"order\":\"little\"}],[\"customer_id\",{\"type\":\"ndarray\",\"array\":{\"type\":\"bytes\",\"data\":\"AQAAAAMAAAAFAAAABgAAAAcAAAAIAAAACQAAAAoAAAALAAAADAAAAA0AAAAPAAAAEQAAABMAAAAVAAAAFgAAABgAAAAbAAAAHQAAAB8AAAAgAAAAIwAAACUAAAAmAAAAJwAAACgAAAAqAAAAKwAAACwAAAAuAAAAMAAAADEAAAAzAAAANQAAADgAAAA5AAAAOgAAAD0AAAA+AAAAPwAAAEAAAABBAAAAQgAAAEMAAABFAAAARwAAAEgAAABKAAAASwAAAE8AAABQAAAAUQAAAFIAAABTAAAAVAAAAFUAAABYAAAAWgAAAFsAAAA=\"},\"shape\":[59],\"dtype\":\"int32\",\"order\":\"little\"}],[\"monetary\",{\"type\":\"ndarray\",\"array\":{\"type\":\"bytes\",\"data\":\"pn+61XFeJ0Bw2fhQz18nQI7RoAtNZydAq6q/FtXJJkDtoCfkZ+ImQPk9XnGvYyhAwmvNEoQyJ0B/YM9YZhEnQK3kk8E7ECdAJNL2VzU9J0AKMRgyiZ4lQFpHVwyMkydA+nloLl2rJ0Dmt816r6UmQOG+7rpdZidAMuQLx4hJJ0CyvhUoFQEnQKIZB0+u4ydA6/b8DTPwJ0BKfqbIG4omQDy9NzPlciZA9J+tikleJEDn55g5SywrQAHUUl4slyZARPlY9rS2JkDtVPlsJIsmQOZmWbhpxSZAEGsPFojVJ0AQrExz0dUnQDVxp518UidAr1yOu2i6JUBPx8ipHD0iQAN1elpytCZAp0ZN1pZmJ0D128vtx9UkQFMYTL/HLyRA6G4NXAfnJkBsY8nrHywnQAcTYr0NbChAXb/Tt99tJkCqxEd+dh0nQEn6X0xAVSdAUpDxGRr4JkAaXEU8VaUnQFX3ih+GHCdAFVmkQ1K8J0DoHcIYYJ4mQPknaOwQhiZAtVdPNb5vJkAILp1NJT4mQAZGWP5pqyZA1rFjYWVQJ0ClqnF5Oh8oQKKMWoyI/CVAPiXG5/8+J0BY86eudeklQF1Oq1WRUyZAoE5YIXCgJ0DngIqfFcMqQA==\"},\"shape\":[59],\"dtype\":\"float64\",\"order\":\"little\"}],[\"segment\",{\"type\":\"ndarray\",\"array\":{\"type\":\"bytes\",\"data\":\"AAAAAAAAAAAAAAAAAAAAAAAAAAAAAAAAAAAAAAAAAAAAAAAAAAAAAAAAAAAAAAAAAAAAAAAAAAAAAAAAAAAAAAAAAAAAAAAAAAAAAAAAAAAAAAAAAAAAAAAAAAAAAAAAAAAAAAAAAAAAAAAAAAAAAAAAAAAAAAAAAAAAAAAAAAAAAAAAAAAAAAAAAAAAAAAAAAAAAAAAAAAAAAAAAAAAAAAAAAAAAAAAAAAAAAAAAAAAAAAAAAAAAAAAAAAAAAAAAAAAAAAAAAAAAAAAAAAAAAAAAAAAAAAAAAAAAAAAAAAAAAAAAAAAAAAAAAA=\"},\"shape\":[59],\"dtype\":\"int32\",\"order\":\"little\"}]]}}},\"view\":{\"type\":\"object\",\"name\":\"CDSView\",\"id\":\"633a6526-97f0-445f-9ef6-71e3a7aac0ce\",\"attributes\":{\"filter\":{\"type\":\"object\",\"name\":\"AllIndices\",\"id\":\"d23eaeb0-0a32-4214-a285-1cd8ce2b98b3\"}}},\"glyph\":{\"type\":\"object\",\"name\":\"Scatter\",\"id\":\"05b1c10e-332f-4b92-985c-6b300e006522\",\"attributes\":{\"tags\":[\"apply_ranges\"],\"x\":{\"type\":\"field\",\"field\":\"recency\"},\"y\":{\"type\":\"field\",\"field\":\"frequency\"},\"size\":{\"type\":\"value\",\"value\":5.477225575051661},\"line_color\":{\"type\":\"value\",\"value\":\"#30a2da\"},\"fill_color\":{\"type\":\"value\",\"value\":\"#30a2da\"},\"hatch_color\":{\"type\":\"value\",\"value\":\"#30a2da\"}}},\"selection_glyph\":{\"type\":\"object\",\"name\":\"Scatter\",\"id\":\"0666b308-e006-49d5-8815-24bedec5e3c3\",\"attributes\":{\"tags\":[\"apply_ranges\"],\"x\":{\"type\":\"field\",\"field\":\"recency\"},\"y\":{\"type\":\"field\",\"field\":\"frequency\"},\"size\":{\"type\":\"value\",\"value\":5.477225575051661},\"angle\":{\"type\":\"value\",\"value\":0.0},\"line_color\":{\"type\":\"value\",\"value\":\"#30a2da\"},\"line_alpha\":{\"type\":\"value\",\"value\":1.0},\"line_width\":{\"type\":\"value\",\"value\":1},\"line_join\":{\"type\":\"value\",\"value\":\"bevel\"},\"line_cap\":{\"type\":\"value\",\"value\":\"butt\"},\"line_dash\":{\"type\":\"value\",\"value\":[]},\"line_dash_offset\":{\"type\":\"value\",\"value\":0},\"fill_color\":{\"type\":\"value\",\"value\":\"#30a2da\"},\"fill_alpha\":{\"type\":\"value\",\"value\":1.0},\"hatch_color\":{\"type\":\"value\",\"value\":\"#30a2da\"},\"hatch_alpha\":{\"type\":\"value\",\"value\":1.0},\"hatch_scale\":{\"type\":\"value\",\"value\":12.0},\"hatch_pattern\":{\"type\":\"value\",\"value\":null},\"hatch_weight\":{\"type\":\"value\",\"value\":1.0},\"marker\":{\"type\":\"value\",\"value\":\"circle\"}}},\"nonselection_glyph\":{\"type\":\"object\",\"name\":\"Scatter\",\"id\":\"6ecade5f-8753-48d2-9fe3-4fefc72143bd\",\"attributes\":{\"tags\":[\"apply_ranges\"],\"x\":{\"type\":\"field\",\"field\":\"recency\"},\"y\":{\"type\":\"field\",\"field\":\"frequency\"},\"size\":{\"type\":\"value\",\"value\":5.477225575051661},\"line_color\":{\"type\":\"value\",\"value\":\"#30a2da\"},\"line_alpha\":{\"type\":\"value\",\"value\":0.1},\"fill_color\":{\"type\":\"value\",\"value\":\"#30a2da\"},\"fill_alpha\":{\"type\":\"value\",\"value\":0.1},\"hatch_color\":{\"type\":\"value\",\"value\":\"#30a2da\"},\"hatch_alpha\":{\"type\":\"value\",\"value\":0.1}}},\"muted_glyph\":{\"type\":\"object\",\"name\":\"Scatter\",\"id\":\"a943dff4-2707-4545-a07c-ec83c4c707e7\",\"attributes\":{\"tags\":[\"apply_ranges\"],\"x\":{\"type\":\"field\",\"field\":\"recency\"},\"y\":{\"type\":\"field\",\"field\":\"frequency\"},\"size\":{\"type\":\"value\",\"value\":5.477225575051661},\"line_color\":{\"type\":\"value\",\"value\":\"#30a2da\"},\"line_alpha\":{\"type\":\"value\",\"value\":0.2},\"fill_color\":{\"type\":\"value\",\"value\":\"#30a2da\"},\"fill_alpha\":{\"type\":\"value\",\"value\":0.2},\"hatch_color\":{\"type\":\"value\",\"value\":\"#30a2da\"},\"hatch_alpha\":{\"type\":\"value\",\"value\":0.2}}}}},{\"type\":\"object\",\"name\":\"GlyphRenderer\",\"id\":\"5b89f4af-77e6-4f26-b0c3-747ce59fb1ef\",\"attributes\":{\"name\":\"1\",\"data_source\":{\"type\":\"object\",\"name\":\"ColumnDataSource\",\"id\":\"02a53f98-9175-4cbd-a348-6d50abbf3d64\",\"attributes\":{\"selected\":{\"type\":\"object\",\"name\":\"Selection\",\"id\":\"bdf88c18-5c94-489b-9b0a-25be117d9145\",\"attributes\":{\"indices\":[],\"line_indices\":[]}},\"selection_policy\":{\"type\":\"object\",\"name\":\"UnionRenderers\",\"id\":\"4d0eaa13-4007-46b9-9536-6b72730ece1e\"},\"data\":{\"type\":\"map\",\"entries\":[[\"recency\",{\"type\":\"ndarray\",\"array\":{\"type\":\"bytes\",\"data\":\"1QAAALkBAADfAAAAjwEAAMMAAAANAQAADgEAACwBAAB2AQAAegEAAAQBAADXAAAA+QAAANoBAACoAQAAPwEAANgAAADFAAAAzwAAANYAAAC+AQAA+gAAAGwBAADuAQAA4QEAAPMAAADOAQAA+QAAAM8AAACCAQAA2gAAAPQAAADDAQAA\"},\"shape\":[33],\"dtype\":\"int32\",\"order\":\"little\"}],[\"frequency\",{\"type\":\"ndarray\",\"array\":{\"type\":\"bytes\",\"data\":\"YfF8Rz1a4T9ERAtsjhDoP2HxfEc9WuE/YfF8Rz1a4T9h8XxHPVrhP2HxfEc9WuE/YfF8Rz1a4T9h8XxHPVrhP2HxfEc9WuE/YfF8Rz1a4T9h8XxHPVrhP2HxfEc9WuE/YfF8Rz1a4T9h8XxHPVrhP2HxfEc9WuE/YfF8Rz1a4T9h8XxHPVrhP2HxfEc9WuE/YfF8Rz1a4T9h8XxHPVrhP2HxfEc9WuE/YfF8Rz1a4T9h8XxHPVrhP2HxfEc9WuE/YfF8Rz1a4T9h8XxHPVrhP2HxfEc9WuE/YfF8Rz1a4T9h8XxHPVrhP2HxfEc9WuE/YfF8Rz1a4T8AAAAAAAAAAGHxfEc9WuE/\"},\"shape\":[33],\"dtype\":\"float64\",\"order\":\"little\"}],[\"customer_id\",{\"type\":\"ndarray\",\"array\":{\"type\":\"bytes\",\"data\":\"AgAAAAQAAAAOAAAAEAAAABIAAAAUAAAAFwAAABkAAAAaAAAAHAAAAB4AAAAhAAAAIgAAACQAAAApAAAALQAAAC8AAAAyAAAANAAAADYAAAA3AAAAOwAAADwAAABEAAAARgAAAEkAAABMAAAATQAAAE4AAABWAAAAVwAAAFkAAABcAAAA\"},\"shape\":[33],\"dtype\":\"int32\",\"order\":\"little\"}],[\"monetary\",{\"type\":\"ndarray\",\"array\":{\"type\":\"bytes\",\"data\":\"XuD1sjAIJ0Ay64rgTL0nQEoDqI/00SVAWjkjGC8+JkB6bqPgPdEkQFOln7lijyZAp6NZJ9VwJkDaOp1ANjYmQLNaiEre/SRAhcr8HfyQJkAPhawHH1onQCGig8NwPSZA0JK9R47rJEBZNLHH/HklQIkvduYOoCVAbE50vOqlJUCBGj8EKBYnQJ7V2Jn9iCZA5ncrufV0JkBT0kOTwLYmQAPwzE0xwiZASl1o1JTnJkDlLb3XiAUlQBfdGllajyVAk13CPNH7JECYPKlcku0lQCrH8ib4pSVAMxZQ1JjoJUAa0ejAqQknQFcfOANCViZAmiVBF8IoJkB52QHbCO0kQKZSmYYHSSZA\"},\"shape\":[33],\"dtype\":\"float64\",\"order\":\"little\"}],[\"segment\",{\"type\":\"ndarray\",\"array\":{\"type\":\"bytes\",\"data\":\"AQAAAAEAAAABAAAAAQAAAAEAAAABAAAAAQAAAAEAAAABAAAAAQAAAAEAAAABAAAAAQAAAAEAAAABAAAAAQAAAAEAAAABAAAAAQAAAAEAAAABAAAAAQAAAAEAAAABAAAAAQAAAAEAAAABAAAAAQAAAAEAAAABAAAAAQAAAAEAAAABAAAA\"},\"shape\":[33],\"dtype\":\"int32\",\"order\":\"little\"}]]}}},\"view\":{\"type\":\"object\",\"name\":\"CDSView\",\"id\":\"967ea25d-5024-4fbd-8c3f-e8b928721aa1\",\"attributes\":{\"filter\":{\"type\":\"object\",\"name\":\"AllIndices\",\"id\":\"15846a7a-92da-4c10-bfa3-3480352a2a82\"}}},\"glyph\":{\"type\":\"object\",\"name\":\"Scatter\",\"id\":\"b3f987cb-95f9-45fd-a81d-73e5c143e681\",\"attributes\":{\"tags\":[\"apply_ranges\"],\"x\":{\"type\":\"field\",\"field\":\"recency\"},\"y\":{\"type\":\"field\",\"field\":\"frequency\"},\"size\":{\"type\":\"value\",\"value\":5.477225575051661},\"line_color\":{\"type\":\"value\",\"value\":\"#fc4f30\"},\"fill_color\":{\"type\":\"value\",\"value\":\"#fc4f30\"},\"hatch_color\":{\"type\":\"value\",\"value\":\"#fc4f30\"}}},\"selection_glyph\":{\"type\":\"object\",\"name\":\"Scatter\",\"id\":\"3c045bf0-c7e0-4ad6-91ad-3b0e674b4812\",\"attributes\":{\"tags\":[\"apply_ranges\"],\"x\":{\"type\":\"field\",\"field\":\"recency\"},\"y\":{\"type\":\"field\",\"field\":\"frequency\"},\"size\":{\"type\":\"value\",\"value\":5.477225575051661},\"angle\":{\"type\":\"value\",\"value\":0.0},\"line_color\":{\"type\":\"value\",\"value\":\"#fc4f30\"},\"line_alpha\":{\"type\":\"value\",\"value\":1.0},\"line_width\":{\"type\":\"value\",\"value\":1},\"line_join\":{\"type\":\"value\",\"value\":\"bevel\"},\"line_cap\":{\"type\":\"value\",\"value\":\"butt\"},\"line_dash\":{\"type\":\"value\",\"value\":[]},\"line_dash_offset\":{\"type\":\"value\",\"value\":0},\"fill_color\":{\"type\":\"value\",\"value\":\"#fc4f30\"},\"fill_alpha\":{\"type\":\"value\",\"value\":1.0},\"hatch_color\":{\"type\":\"value\",\"value\":\"#fc4f30\"},\"hatch_alpha\":{\"type\":\"value\",\"value\":1.0},\"hatch_scale\":{\"type\":\"value\",\"value\":12.0},\"hatch_pattern\":{\"type\":\"value\",\"value\":null},\"hatch_weight\":{\"type\":\"value\",\"value\":1.0},\"marker\":{\"type\":\"value\",\"value\":\"circle\"}}},\"nonselection_glyph\":{\"type\":\"object\",\"name\":\"Scatter\",\"id\":\"9979c640-38d5-4743-bfb1-ad9df7fb2c0c\",\"attributes\":{\"tags\":[\"apply_ranges\"],\"x\":{\"type\":\"field\",\"field\":\"recency\"},\"y\":{\"type\":\"field\",\"field\":\"frequency\"},\"size\":{\"type\":\"value\",\"value\":5.477225575051661},\"line_color\":{\"type\":\"value\",\"value\":\"#fc4f30\"},\"line_alpha\":{\"type\":\"value\",\"value\":0.1},\"fill_color\":{\"type\":\"value\",\"value\":\"#fc4f30\"},\"fill_alpha\":{\"type\":\"value\",\"value\":0.1},\"hatch_color\":{\"type\":\"value\",\"value\":\"#fc4f30\"},\"hatch_alpha\":{\"type\":\"value\",\"value\":0.1}}},\"muted_glyph\":{\"type\":\"object\",\"name\":\"Scatter\",\"id\":\"c7c60844-6128-4517-8287-0be193772fde\",\"attributes\":{\"tags\":[\"apply_ranges\"],\"x\":{\"type\":\"field\",\"field\":\"recency\"},\"y\":{\"type\":\"field\",\"field\":\"frequency\"},\"size\":{\"type\":\"value\",\"value\":5.477225575051661},\"line_color\":{\"type\":\"value\",\"value\":\"#fc4f30\"},\"line_alpha\":{\"type\":\"value\",\"value\":0.2},\"fill_color\":{\"type\":\"value\",\"value\":\"#fc4f30\"},\"fill_alpha\":{\"type\":\"value\",\"value\":0.2},\"hatch_color\":{\"type\":\"value\",\"value\":\"#fc4f30\"},\"hatch_alpha\":{\"type\":\"value\",\"value\":0.2}}}}}],\"toolbar\":{\"type\":\"object\",\"name\":\"Toolbar\",\"id\":\"8b2a248f-25d0-4578-85e4-213ffba1f1d8\",\"attributes\":{\"tools\":[{\"type\":\"object\",\"name\":\"WheelZoomTool\",\"id\":\"b2ee0cf3-e175-48cb-92ae-b0ad6f62e5cb\",\"attributes\":{\"tags\":[\"hv_created\"],\"renderers\":\"auto\",\"zoom_together\":\"none\"}},{\"type\":\"object\",\"name\":\"HoverTool\",\"id\":\"77bbc5c8-9ac2-4de0-a00c-e52113d0646d\",\"attributes\":{\"tags\":[\"hv_created\"],\"renderers\":[{\"id\":\"95aae15d-f555-4128-a1c8-08f526931bca\"},{\"id\":\"5b89f4af-77e6-4f26-b0c3-747ce59fb1ef\"}],\"tooltips\":[[\"segment\",\"@{segment}\"],[\"recency\",\"@{recency}\"],[\"frequency\",\"@{frequency}\"],[\"customer_id\",\"@{customer_id}\"],[\"monetary\",\"@{monetary}\"]]}},{\"type\":\"object\",\"name\":\"SaveTool\",\"id\":\"5e95be04-81ff-4a8b-8262-930e88012fa4\"},{\"type\":\"object\",\"name\":\"PanTool\",\"id\":\"41d9e241-a95e-4137-a370-c390b54285f9\"},{\"type\":\"object\",\"name\":\"BoxZoomTool\",\"id\":\"de72b188-dc9b-452c-b75c-490326fda32a\",\"attributes\":{\"overlay\":{\"type\":\"object\",\"name\":\"BoxAnnotation\",\"id\":\"09d6fc5f-9ce6-41aa-8dd2-3d5133f1c276\",\"attributes\":{\"syncable\":false,\"line_color\":\"black\",\"line_alpha\":1.0,\"line_width\":2,\"line_dash\":[4,4],\"fill_color\":\"lightgrey\",\"fill_alpha\":0.5,\"level\":\"overlay\",\"visible\":false,\"left\":{\"type\":\"number\",\"value\":\"nan\"},\"right\":{\"type\":\"number\",\"value\":\"nan\"},\"top\":{\"type\":\"number\",\"value\":\"nan\"},\"bottom\":{\"type\":\"number\",\"value\":\"nan\"},\"left_units\":\"canvas\",\"right_units\":\"canvas\",\"top_units\":\"canvas\",\"bottom_units\":\"canvas\",\"handles\":{\"type\":\"object\",\"name\":\"BoxInteractionHandles\",\"id\":\"ace24d4e-e689-4d5e-9353-54e1e28446ee\",\"attributes\":{\"all\":{\"type\":\"object\",\"name\":\"AreaVisuals\",\"id\":\"e0430ca2-cf5a-4741-8c31-7446aa2a22e1\",\"attributes\":{\"fill_color\":\"white\",\"hover_fill_color\":\"lightgray\"}}}}}}}},{\"type\":\"object\",\"name\":\"ResetTool\",\"id\":\"4caef5bf-b540-49f4-b160-87896cad5b06\"}],\"active_drag\":{\"id\":\"41d9e241-a95e-4137-a370-c390b54285f9\"},\"active_scroll\":{\"id\":\"b2ee0cf3-e175-48cb-92ae-b0ad6f62e5cb\"}}},\"left\":[{\"type\":\"object\",\"name\":\"LinearAxis\",\"id\":\"cfa55ec2-f156-45fa-8bb0-e1aa8a99986f\",\"attributes\":{\"ticker\":{\"type\":\"object\",\"name\":\"BasicTicker\",\"id\":\"c02e376c-f834-468b-acb8-7ce051b3f95e\",\"attributes\":{\"mantissas\":[1,2,5]}},\"formatter\":{\"type\":\"object\",\"name\":\"BasicTickFormatter\",\"id\":\"bd39188c-45cb-4949-9f96-21ded63c2b93\"},\"axis_label\":\"frequency\",\"major_label_policy\":{\"type\":\"object\",\"name\":\"AllLabels\",\"id\":\"8e5c04cc-205a-41ec-918c-9d18173e94cd\"}}}],\"right\":[{\"type\":\"object\",\"name\":\"Legend\",\"id\":\"78e38025-ffbb-4268-bd0f-e5b3a8401a1b\",\"attributes\":{\"location\":[0,0],\"title\":\"segment\",\"click_policy\":\"mute\",\"items\":[{\"type\":\"object\",\"name\":\"LegendItem\",\"id\":\"6393ced5-a269-467d-acd5-8fddacaddeef\",\"attributes\":{\"label\":{\"type\":\"value\",\"value\":\"0\"},\"renderers\":[{\"id\":\"95aae15d-f555-4128-a1c8-08f526931bca\"}]}},{\"type\":\"object\",\"name\":\"LegendItem\",\"id\":\"9f5e63ef-ba7f-4605-972f-a2cf50f9b1e1\",\"attributes\":{\"label\":{\"type\":\"value\",\"value\":\"1\"},\"renderers\":[{\"id\":\"5b89f4af-77e6-4f26-b0c3-747ce59fb1ef\"}]}}]}}],\"below\":[{\"type\":\"object\",\"name\":\"LinearAxis\",\"id\":\"36e8813e-75af-4054-aa4f-699e2c8e2e33\",\"attributes\":{\"ticker\":{\"type\":\"object\",\"name\":\"BasicTicker\",\"id\":\"1eeee201-f3d9-48f9-adc1-99f47cdb6c67\",\"attributes\":{\"mantissas\":[1,2,5]}},\"formatter\":{\"type\":\"object\",\"name\":\"BasicTickFormatter\",\"id\":\"f01e0828-aac3-4a07-b185-0e461403699d\"},\"axis_label\":\"recency\",\"major_label_policy\":{\"type\":\"object\",\"name\":\"AllLabels\",\"id\":\"eaf1b07b-08f2-4ea8-83b6-639f95517c57\"}}}],\"center\":[{\"type\":\"object\",\"name\":\"Grid\",\"id\":\"01a4056c-6c5f-4903-a27a-a6f4e7cb1722\",\"attributes\":{\"axis\":{\"id\":\"36e8813e-75af-4054-aa4f-699e2c8e2e33\"},\"grid_line_color\":null}},{\"type\":\"object\",\"name\":\"Grid\",\"id\":\"c18ff996-7609-43ed-a38c-f05b4495491f\",\"attributes\":{\"dimension\":1,\"axis\":{\"id\":\"cfa55ec2-f156-45fa-8bb0-e1aa8a99986f\"},\"grid_line_color\":null}}],\"min_border_top\":10,\"min_border_bottom\":10,\"min_border_left\":10,\"min_border_right\":10,\"output_backend\":\"webgl\"}},{\"type\":\"object\",\"name\":\"Spacer\",\"id\":\"ca810480-7a53-4c5f-aef6-bac7dc6d68ae\",\"attributes\":{\"name\":\"HSpacer07712\",\"stylesheets\":[\"\\n:host(.pn-loading):before, .pn-loading:before {\\n  background-color: #c3c3c3;\\n  mask-size: auto calc(min(50%, 400px));\\n  -webkit-mask-size: auto calc(min(50%, 400px));\\n}\",{\"id\":\"a52e000e-465a-4fc8-b2c8-e12b7cd66e64\"},{\"id\":\"2c8b88c0-7312-435a-a4dc-c0deab39419c\"},{\"id\":\"0f9cc261-0903-443b-bf98-bf45610db228\"}],\"margin\":0,\"sizing_mode\":\"stretch_width\",\"align\":\"start\"}}]}}],\"defs\":[{\"type\":\"model\",\"name\":\"ReactiveHTML1\"},{\"type\":\"model\",\"name\":\"FlexBox1\",\"properties\":[{\"name\":\"align_content\",\"kind\":\"Any\",\"default\":\"flex-start\"},{\"name\":\"align_items\",\"kind\":\"Any\",\"default\":\"flex-start\"},{\"name\":\"flex_direction\",\"kind\":\"Any\",\"default\":\"row\"},{\"name\":\"flex_wrap\",\"kind\":\"Any\",\"default\":\"wrap\"},{\"name\":\"gap\",\"kind\":\"Any\",\"default\":\"\"},{\"name\":\"justify_content\",\"kind\":\"Any\",\"default\":\"flex-start\"}]},{\"type\":\"model\",\"name\":\"FloatPanel1\",\"properties\":[{\"name\":\"config\",\"kind\":\"Any\",\"default\":{\"type\":\"map\"}},{\"name\":\"contained\",\"kind\":\"Any\",\"default\":true},{\"name\":\"position\",\"kind\":\"Any\",\"default\":\"right-top\"},{\"name\":\"offsetx\",\"kind\":\"Any\",\"default\":null},{\"name\":\"offsety\",\"kind\":\"Any\",\"default\":null},{\"name\":\"theme\",\"kind\":\"Any\",\"default\":\"primary\"},{\"name\":\"status\",\"kind\":\"Any\",\"default\":\"normalized\"}]},{\"type\":\"model\",\"name\":\"GridStack1\",\"properties\":[{\"name\":\"mode\",\"kind\":\"Any\",\"default\":\"warn\"},{\"name\":\"ncols\",\"kind\":\"Any\",\"default\":null},{\"name\":\"nrows\",\"kind\":\"Any\",\"default\":null},{\"name\":\"allow_resize\",\"kind\":\"Any\",\"default\":true},{\"name\":\"allow_drag\",\"kind\":\"Any\",\"default\":true},{\"name\":\"state\",\"kind\":\"Any\",\"default\":[]}]},{\"type\":\"model\",\"name\":\"drag1\",\"properties\":[{\"name\":\"slider_width\",\"kind\":\"Any\",\"default\":5},{\"name\":\"slider_color\",\"kind\":\"Any\",\"default\":\"black\"},{\"name\":\"value\",\"kind\":\"Any\",\"default\":50}]},{\"type\":\"model\",\"name\":\"click1\",\"properties\":[{\"name\":\"terminal_output\",\"kind\":\"Any\",\"default\":\"\"},{\"name\":\"debug_name\",\"kind\":\"Any\",\"default\":\"\"},{\"name\":\"clears\",\"kind\":\"Any\",\"default\":0}]},{\"type\":\"model\",\"name\":\"FastWrapper1\",\"properties\":[{\"name\":\"object\",\"kind\":\"Any\",\"default\":null},{\"name\":\"style\",\"kind\":\"Any\",\"default\":null}]},{\"type\":\"model\",\"name\":\"NotificationAreaBase1\",\"properties\":[{\"name\":\"js_events\",\"kind\":\"Any\",\"default\":{\"type\":\"map\"}},{\"name\":\"position\",\"kind\":\"Any\",\"default\":\"bottom-right\"},{\"name\":\"_clear\",\"kind\":\"Any\",\"default\":0}]},{\"type\":\"model\",\"name\":\"NotificationArea1\",\"properties\":[{\"name\":\"js_events\",\"kind\":\"Any\",\"default\":{\"type\":\"map\"}},{\"name\":\"notifications\",\"kind\":\"Any\",\"default\":[]},{\"name\":\"position\",\"kind\":\"Any\",\"default\":\"bottom-right\"},{\"name\":\"_clear\",\"kind\":\"Any\",\"default\":0},{\"name\":\"types\",\"kind\":\"Any\",\"default\":[{\"type\":\"map\",\"entries\":[[\"type\",\"warning\"],[\"background\",\"#ffc107\"],[\"icon\",{\"type\":\"map\",\"entries\":[[\"className\",\"fas fa-exclamation-triangle\"],[\"tagName\",\"i\"],[\"color\",\"white\"]]}]]},{\"type\":\"map\",\"entries\":[[\"type\",\"info\"],[\"background\",\"#007bff\"],[\"icon\",{\"type\":\"map\",\"entries\":[[\"className\",\"fas fa-info-circle\"],[\"tagName\",\"i\"],[\"color\",\"white\"]]}]]}]}]},{\"type\":\"model\",\"name\":\"Notification\",\"properties\":[{\"name\":\"background\",\"kind\":\"Any\",\"default\":null},{\"name\":\"duration\",\"kind\":\"Any\",\"default\":3000},{\"name\":\"icon\",\"kind\":\"Any\",\"default\":null},{\"name\":\"message\",\"kind\":\"Any\",\"default\":\"\"},{\"name\":\"notification_type\",\"kind\":\"Any\",\"default\":null},{\"name\":\"_destroyed\",\"kind\":\"Any\",\"default\":false}]},{\"type\":\"model\",\"name\":\"TemplateActions1\",\"properties\":[{\"name\":\"open_modal\",\"kind\":\"Any\",\"default\":0},{\"name\":\"close_modal\",\"kind\":\"Any\",\"default\":0}]},{\"type\":\"model\",\"name\":\"BootstrapTemplateActions1\",\"properties\":[{\"name\":\"open_modal\",\"kind\":\"Any\",\"default\":0},{\"name\":\"close_modal\",\"kind\":\"Any\",\"default\":0}]},{\"type\":\"model\",\"name\":\"TemplateEditor1\",\"properties\":[{\"name\":\"layout\",\"kind\":\"Any\",\"default\":[]}]},{\"type\":\"model\",\"name\":\"MaterialTemplateActions1\",\"properties\":[{\"name\":\"open_modal\",\"kind\":\"Any\",\"default\":0},{\"name\":\"close_modal\",\"kind\":\"Any\",\"default\":0}]},{\"type\":\"model\",\"name\":\"ReactiveESM1\"},{\"type\":\"model\",\"name\":\"JSComponent1\"},{\"type\":\"model\",\"name\":\"ReactComponent1\"},{\"type\":\"model\",\"name\":\"AnyWidgetComponent1\"},{\"type\":\"model\",\"name\":\"request_value1\",\"properties\":[{\"name\":\"fill\",\"kind\":\"Any\",\"default\":\"none\"},{\"name\":\"_synced\",\"kind\":\"Any\",\"default\":null},{\"name\":\"_request_sync\",\"kind\":\"Any\",\"default\":0}]}]}};\n",
       "  var render_items = [{\"docid\":\"c7a2e44a-82c9-45ff-a354-efbb317c0d33\",\"roots\":{\"3afa524c-cf9b-434e-873b-5940859fbee4\":\"b8244350-05a2-4199-8808-95f9e3090155\"},\"root_ids\":[\"3afa524c-cf9b-434e-873b-5940859fbee4\"]}];\n",
       "  var docs = Object.values(docs_json)\n",
       "  if (!docs) {\n",
       "    return\n",
       "  }\n",
       "  const py_version = docs[0].version.replace('rc', '-rc.').replace('.dev', '-dev.')\n",
       "  async function embed_document(root) {\n",
       "    var Bokeh = get_bokeh(root)\n",
       "    await Bokeh.embed.embed_items_notebook(docs_json, render_items);\n",
       "    for (const render_item of render_items) {\n",
       "      for (const root_id of render_item.root_ids) {\n",
       "\tconst id_el = document.getElementById(root_id)\n",
       "\tif (id_el.children.length && id_el.children[0].hasAttribute('data-root-id')) {\n",
       "\t  const root_el = id_el.children[0]\n",
       "\t  root_el.id = root_el.id + '-rendered'\n",
       "\t  for (const child of root_el.children) {\n",
       "            // Ensure JupyterLab does not capture keyboard shortcuts\n",
       "            // see: https://jupyterlab.readthedocs.io/en/4.1.x/extension/notebook.html#keyboard-interaction-model\n",
       "\t    child.setAttribute('data-lm-suppress-shortcuts', 'true')\n",
       "\t  }\n",
       "\t}\n",
       "      }\n",
       "    }\n",
       "  }\n",
       "  function get_bokeh(root) {\n",
       "    if (root.Bokeh === undefined) {\n",
       "      return null\n",
       "    } else if (root.Bokeh.version !== py_version) {\n",
       "      if (root.Bokeh.versions === undefined || !root.Bokeh.versions.has(py_version)) {\n",
       "\treturn null\n",
       "      }\n",
       "      return root.Bokeh.versions.get(py_version);\n",
       "    } else if (root.Bokeh.version === py_version) {\n",
       "      return root.Bokeh\n",
       "    }\n",
       "    return null\n",
       "  }\n",
       "  function is_loaded(root) {\n",
       "    var Bokeh = get_bokeh(root)\n",
       "    return (Bokeh != null && Bokeh.Panel !== undefined)\n",
       "  }\n",
       "  if (is_loaded(root)) {\n",
       "    embed_document(root);\n",
       "  } else {\n",
       "    var attempts = 0;\n",
       "    var timer = setInterval(function(root) {\n",
       "      if (is_loaded(root)) {\n",
       "        clearInterval(timer);\n",
       "        embed_document(root);\n",
       "      } else if (document.readyState == \"complete\") {\n",
       "        attempts++;\n",
       "        if (attempts > 200) {\n",
       "          clearInterval(timer);\n",
       "\t  var Bokeh = get_bokeh(root)\n",
       "\t  if (Bokeh == null || Bokeh.Panel == null) {\n",
       "            console.warn(\"Panel: ERROR: Unable to run Panel code because Bokeh or Panel library is missing\");\n",
       "\t  } else {\n",
       "\t    console.warn(\"Panel: WARNING: Attempting to render but not all required libraries could be resolved.\")\n",
       "\t    embed_document(root)\n",
       "\t  }\n",
       "        }\n",
       "      }\n",
       "    }, 25, root)\n",
       "  }\n",
       "})(window);</script>"
      ],
      "text/plain": [
       ":NdOverlay   [segment]\n",
       "   :Scatter   [recency]   (frequency,customer_id,monetary,segment)"
      ]
     },
     "metadata": {
      "application/vnd.holoviews_exec.v0+json": {
       "id": "3afa524c-cf9b-434e-873b-5940859fbee4"
      }
     },
     "output_type": "display_data"
    }
   ],
   "source": [
    "k_options = [2,3,4,5]\n",
    "cols = ['recency', 'frequency']\n",
    "\n",
    "\n",
    "# get segments for both metrics\n",
    "print('SILHOUETTE SCORE'.center(150, '-'))\n",
    "s_segments_df, s_segments_plot = get_k_means_segments(\n",
    "    scaled_data=scaled_rfm_df[cols], og_data=transformed_rfm_df,\n",
    "    k_values=k_options, metric='silhouette'\n",
    ")\n",
    "\n",
    "print('CALINSKI HARABASZ SCORE'.center(150, '-'))\n",
    "ch_segments_df, ch_segments_plot = get_k_means_segments(\n",
    "    scaled_data=scaled_rfm_df[cols], og_data=transformed_rfm_df, \n",
    "    k_values=k_options, metric='ch_score'\n",
    ")"
   ]
  }
 ],
 "metadata": {
  "kernelspec": {
   "display_name": "base",
   "language": "python",
   "name": "python3"
  },
  "language_info": {
   "codemirror_mode": {
    "name": "ipython",
    "version": 3
   },
   "file_extension": ".py",
   "mimetype": "text/x-python",
   "name": "python",
   "nbconvert_exporter": "python",
   "pygments_lexer": "ipython3",
   "version": "3.12.4"
  }
 },
 "nbformat": 4,
 "nbformat_minor": 2
}
