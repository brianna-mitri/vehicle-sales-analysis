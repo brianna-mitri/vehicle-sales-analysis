{
 "cells": [
  {
   "cell_type": "markdown",
   "metadata": {},
   "source": [
    "## Setup"
   ]
  },
  {
   "cell_type": "code",
   "execution_count": 24,
   "metadata": {},
   "outputs": [],
   "source": [
    "# imports\n",
    "import os, psycopg2, pandas as pd, seaborn as sns, matplotlib.pyplot as plt\n",
    "from dotenv import load_dotenv"
   ]
  },
  {
   "cell_type": "code",
   "execution_count": 2,
   "metadata": {},
   "outputs": [],
   "source": [
    "# database setup\n",
    "db = 'order_mgmt'\n",
    "\n",
    "# pull credentials from .env\n",
    "load_dotenv('../.env')\n",
    "\n",
    "dsn = f'''\n",
    "dbname={db} \n",
    "user={os.getenv('super_user')} \n",
    "password={os.getenv('pg_password')} \n",
    "host={os.getenv('host')} \n",
    "port={os.getenv('port')}\n",
    "'''"
   ]
  },
  {
   "cell_type": "markdown",
   "metadata": {},
   "source": [
    "### Get data from database"
   ]
  },
  {
   "cell_type": "code",
   "execution_count": 8,
   "metadata": {},
   "outputs": [],
   "source": [
    "# connect to database to create dataframe\n",
    "with psycopg2.connect(dsn) as conn, conn.cursor() as cur:\n",
    "    # get one record per purchase\n",
    "    cur.execute(\n",
    "        '''\n",
    "        SELECT \to.order_no,\n",
    "\t\t        o.customer_id,\n",
    "                o.order_date,\n",
    "                -- SUM(ol.quantity) AS total_quantity,\n",
    "                SUM(ol.sales) AS total_sales\n",
    "        FROM orders o\n",
    "        JOIN order_lines ol USING (order_no)\n",
    "        WHERE o.status IN \n",
    "            ('Shipped', 'Resolved')\n",
    "        GROUP BY o.order_no, o.customer_id, o.order_date\n",
    "        ORDER BY o.order_no\n",
    "        '''\n",
    "    )\n",
    "\n",
    "    # fetch data\n",
    "    records = cur.fetchall()\n",
    "    fields = [field.name for field in cur.description]\n",
    "\n",
    "    # setup dataframe\n",
    "    df = pd.DataFrame(records, columns=fields)"
   ]
  },
  {
   "cell_type": "code",
   "execution_count": 9,
   "metadata": {},
   "outputs": [
    {
     "data": {
      "text/html": [
       "<div>\n",
       "<style scoped>\n",
       "    .dataframe tbody tr th:only-of-type {\n",
       "        vertical-align: middle;\n",
       "    }\n",
       "\n",
       "    .dataframe tbody tr th {\n",
       "        vertical-align: top;\n",
       "    }\n",
       "\n",
       "    .dataframe thead th {\n",
       "        text-align: right;\n",
       "    }\n",
       "</style>\n",
       "<table border=\"1\" class=\"dataframe\">\n",
       "  <thead>\n",
       "    <tr style=\"text-align: right;\">\n",
       "      <th></th>\n",
       "      <th>order_no</th>\n",
       "      <th>customer_id</th>\n",
       "      <th>order_date</th>\n",
       "      <th>total_sales</th>\n",
       "    </tr>\n",
       "  </thead>\n",
       "  <tbody>\n",
       "    <tr>\n",
       "      <th>0</th>\n",
       "      <td>10100</td>\n",
       "      <td>15</td>\n",
       "      <td>2003-01-06</td>\n",
       "      <td>12133.25</td>\n",
       "    </tr>\n",
       "    <tr>\n",
       "      <th>1</th>\n",
       "      <td>10101</td>\n",
       "      <td>51</td>\n",
       "      <td>2003-01-09</td>\n",
       "      <td>11432.34</td>\n",
       "    </tr>\n",
       "    <tr>\n",
       "      <th>2</th>\n",
       "      <td>10102</td>\n",
       "      <td>42</td>\n",
       "      <td>2003-01-10</td>\n",
       "      <td>6864.05</td>\n",
       "    </tr>\n",
       "    <tr>\n",
       "      <th>3</th>\n",
       "      <td>10103</td>\n",
       "      <td>65</td>\n",
       "      <td>2003-01-29</td>\n",
       "      <td>54702.00</td>\n",
       "    </tr>\n",
       "    <tr>\n",
       "      <th>4</th>\n",
       "      <td>10104</td>\n",
       "      <td>37</td>\n",
       "      <td>2003-01-31</td>\n",
       "      <td>44621.96</td>\n",
       "    </tr>\n",
       "  </tbody>\n",
       "</table>\n",
       "</div>"
      ],
      "text/plain": [
       "   order_no  customer_id  order_date total_sales\n",
       "0     10100           15  2003-01-06    12133.25\n",
       "1     10101           51  2003-01-09    11432.34\n",
       "2     10102           42  2003-01-10     6864.05\n",
       "3     10103           65  2003-01-29    54702.00\n",
       "4     10104           37  2003-01-31    44621.96"
      ]
     },
     "execution_count": 9,
     "metadata": {},
     "output_type": "execute_result"
    }
   ],
   "source": [
    "# display data\n",
    "df.head()"
   ]
  },
  {
   "cell_type": "markdown",
   "metadata": {},
   "source": [
    "# Preprocessing\n",
    "---"
   ]
  },
  {
   "cell_type": "markdown",
   "metadata": {},
   "source": [
    "## Update data types"
   ]
  },
  {
   "cell_type": "code",
   "execution_count": 10,
   "metadata": {},
   "outputs": [
    {
     "data": {
      "text/plain": [
       "order_no        int64\n",
       "customer_id     int64\n",
       "order_date     object\n",
       "total_sales    object\n",
       "dtype: object"
      ]
     },
     "execution_count": 10,
     "metadata": {},
     "output_type": "execute_result"
    }
   ],
   "source": [
    "# data types\n",
    "df.dtypes"
   ]
  },
  {
   "cell_type": "code",
   "execution_count": 11,
   "metadata": {},
   "outputs": [],
   "source": [
    "# update data types\n",
    "df.total_sales = pd.to_numeric(df.total_sales)\n",
    "df.order_date = pd.to_datetime(df.order_date)"
   ]
  },
  {
   "cell_type": "code",
   "execution_count": 12,
   "metadata": {},
   "outputs": [
    {
     "data": {
      "text/plain": [
       "order_no                int64\n",
       "customer_id             int64\n",
       "order_date     datetime64[ns]\n",
       "total_sales           float64\n",
       "dtype: object"
      ]
     },
     "execution_count": 12,
     "metadata": {},
     "output_type": "execute_result"
    }
   ],
   "source": [
    "# double check dtypes\n",
    "df.dtypes"
   ]
  },
  {
   "cell_type": "markdown",
   "metadata": {},
   "source": [
    "## Get RFM (Recency, Frequency, Monetary)"
   ]
  },
  {
   "cell_type": "markdown",
   "metadata": {},
   "source": [
    "For each customer:\n",
    "- Recency: number of days between \"present\" date and date of last purchase\n",
    "- Frequency: number of orders\n",
    "- Monetary: sum of purchase price"
   ]
  },
  {
   "cell_type": "code",
   "execution_count": 31,
   "metadata": {},
   "outputs": [
    {
     "data": {
      "text/html": [
       "<div>\n",
       "<style scoped>\n",
       "    .dataframe tbody tr th:only-of-type {\n",
       "        vertical-align: middle;\n",
       "    }\n",
       "\n",
       "    .dataframe tbody tr th {\n",
       "        vertical-align: top;\n",
       "    }\n",
       "\n",
       "    .dataframe thead th {\n",
       "        text-align: right;\n",
       "    }\n",
       "</style>\n",
       "<table border=\"1\" class=\"dataframe\">\n",
       "  <thead>\n",
       "    <tr style=\"text-align: right;\">\n",
       "      <th></th>\n",
       "      <th>recency</th>\n",
       "      <th>frequency</th>\n",
       "      <th>monetary</th>\n",
       "    </tr>\n",
       "    <tr>\n",
       "      <th>customer_id</th>\n",
       "      <th></th>\n",
       "      <th></th>\n",
       "      <th></th>\n",
       "    </tr>\n",
       "  </thead>\n",
       "  <tbody>\n",
       "    <tr>\n",
       "      <th>1</th>\n",
       "      <td>183</td>\n",
       "      <td>3</td>\n",
       "      <td>118711.78</td>\n",
       "    </tr>\n",
       "    <tr>\n",
       "      <th>2</th>\n",
       "      <td>213</td>\n",
       "      <td>2</td>\n",
       "      <td>100306.58</td>\n",
       "    </tr>\n",
       "    <tr>\n",
       "      <th>3</th>\n",
       "      <td>188</td>\n",
       "      <td>4</td>\n",
       "      <td>119028.73</td>\n",
       "    </tr>\n",
       "    <tr>\n",
       "      <th>4</th>\n",
       "      <td>441</td>\n",
       "      <td>3</td>\n",
       "      <td>142874.25</td>\n",
       "    </tr>\n",
       "    <tr>\n",
       "      <th>5</th>\n",
       "      <td>132</td>\n",
       "      <td>4</td>\n",
       "      <td>120783.07</td>\n",
       "    </tr>\n",
       "  </tbody>\n",
       "</table>\n",
       "</div>"
      ],
      "text/plain": [
       "             recency  frequency   monetary\n",
       "customer_id                               \n",
       "1                183          3  118711.78\n",
       "2                213          2  100306.58\n",
       "3                188          4  119028.73\n",
       "4                441          3  142874.25\n",
       "5                132          4  120783.07"
      ]
     },
     "execution_count": 31,
     "metadata": {},
     "output_type": "execute_result"
    }
   ],
   "source": [
    "# calculate recency, frequency, monetary for each customer\n",
    "recent_date = df.order_date.max()\n",
    "rfm_df = df.groupby('customer_id').agg({\n",
    "    'order_date': lambda date: (recent_date - date.max()).days,\n",
    "    'order_no': lambda orders: len(orders),\n",
    "    'total_sales': lambda sale: sale.sum()\n",
    "})\n",
    "\n",
    "# update columns\n",
    "rfm_cols = ['recency', 'frequency', 'monetary']\n",
    "rfm_df.columns = rfm_cols\n",
    "#rfm_df = rfm_df.reset_index()\n",
    "\n",
    "# display\n",
    "rfm_df.head()"
   ]
  },
  {
   "cell_type": "markdown",
   "metadata": {},
   "source": [
    "## Check outliers/distribution"
   ]
  },
  {
   "cell_type": "markdown",
   "metadata": {},
   "source": [
    "#### **Analysis:**\n",
    "Recency: mild right skew--> most customers bought at around same time \n",
    "- Outliers: 4 (upper) \n",
    "- Percentiles: 99th percentile is 1.08 times greater than 95th percentile\n",
    "- Skew: 0.769 \n",
    "- Mean > Median --> 189.05 > 181.0\n",
    "\n",
    "Frequency: heavy right skew driven by a few very active/loyal customers (good to look into outliers since they more than triple the 95th percentile)\n",
    "- Outliers: 5 (upper)  \n",
    "- Percentiles: 99th percentile is 3.74 times greater than 95th percentile\n",
    "- Skew: 6.138\n",
    "- Mean > Median: 3.15 > 3.0\n",
    "\n",
    "Monetary: heavy right skew with a few high spending customers (good to look into since they're four times the 95th percentile)\n",
    "- Outliers: 4 (upper)\n",
    "- Percentiles: 99th percentile is 4.01 times greater than 95th percentile\n",
    "- Skew: 5.393\n",
    "- Mean > Median: 102,632.82 > 85,360.0\n",
    "\n",
    "OVERALL:\n",
    "- Overall, all RFM measures are right skewed but mainly Frequency and Monetary driven by high activity/spenders; recency is only mildly skewed\n",
    "- Keep outliers as they are valid and important to understand (transforming/scaling will prevent them from dominating before modeling)"
   ]
  },
  {
   "cell_type": "markdown",
   "metadata": {},
   "source": [
    "#### Outliers"
   ]
  },
  {
   "cell_type": "code",
   "execution_count": 90,
   "metadata": {},
   "outputs": [
    {
     "data": {
      "image/png": "[encoded data removed]",
      "text/plain": [
       "<Figure size 1400x600 with 3 Axes>"
      ]
     },
     "metadata": {},
     "output_type": "display_data"
    }
   ],
   "source": [
    "# boxplots\n",
    "rfm_df.plot(kind='box', subplots=True, figsize=(14,6))\n",
    "plt.show()"
   ]
  },
  {
   "cell_type": "code",
   "execution_count": null,
   "metadata": {},
   "outputs": [
    {
     "name": "stdout",
     "output_type": "stream",
     "text": [
      "------------------------------\n",
      "RECENCY\n",
      "\n",
      "Number of outliers: 4\n",
      "Upper: 4\n",
      "Lower: 0\n",
      "------------------------------\n",
      "------------------------------\n",
      "FREQUENCY\n",
      "\n",
      "Number of outliers: 5\n",
      "Upper: 5\n",
      "Lower: 0\n",
      "------------------------------\n",
      "------------------------------\n",
      "MONETARY\n",
      "\n",
      "Number of outliers: 4\n",
      "Upper: 4\n",
      "Lower: 0\n",
      "------------------------------\n"
     ]
    }
   ],
   "source": [
    "# number of outliers\n",
    "for rfm_col in rfm_cols:\n",
    "    # calculate iqr\n",
    "    col = rfm_df[rfm_col]\n",
    "    q1, q3 = col.quantile([.25, .75])\n",
    "    iqr = q3 - q1\n",
    "\n",
    "    # find outliers\n",
    "    lower, upper = q1 - 1.5*iqr, q3 + 1.5*iqr\n",
    "    l_outliers = (col < lower).sum()\n",
    "    u_outliers = (col > upper).sum()\n",
    "\n",
    "    # display\n",
    "    print('-'*30)\n",
    "    print(rfm_col.upper())\n",
    "    print(f'\\nNumber of outliers: {l_outliers + u_outliers}')\n",
    "    print(f'Upper: {u_outliers}')\n",
    "    print(f'Lower: {l_outliers}')\n",
    "    print('-'*30)"
   ]
  },
  {
   "cell_type": "markdown",
   "metadata": {},
   "source": [
    "### Distribution"
   ]
  },
  {
   "cell_type": "code",
   "execution_count": null,
   "metadata": {},
   "outputs": [
    {
     "data": {
      "text/html": [
       "<div>\n",
       "<style scoped>\n",
       "    .dataframe tbody tr th:only-of-type {\n",
       "        vertical-align: middle;\n",
       "    }\n",
       "\n",
       "    .dataframe tbody tr th {\n",
       "        vertical-align: top;\n",
       "    }\n",
       "\n",
       "    .dataframe thead th {\n",
       "        text-align: right;\n",
       "    }\n",
       "</style>\n",
       "<table border=\"1\" class=\"dataframe\">\n",
       "  <thead>\n",
       "    <tr style=\"text-align: right;\">\n",
       "      <th></th>\n",
       "      <th>recency</th>\n",
       "      <th>frequency</th>\n",
       "      <th>monetary</th>\n",
       "    </tr>\n",
       "  </thead>\n",
       "  <tbody>\n",
       "    <tr>\n",
       "      <th>0.25</th>\n",
       "      <td>101.75</td>\n",
       "      <td>2.00</td>\n",
       "      <td>66129.0075</td>\n",
       "    </tr>\n",
       "    <tr>\n",
       "      <th>0.50</th>\n",
       "      <td>181.00</td>\n",
       "      <td>3.00</td>\n",
       "      <td>85360.0000</td>\n",
       "    </tr>\n",
       "    <tr>\n",
       "      <th>0.75</th>\n",
       "      <td>243.25</td>\n",
       "      <td>3.00</td>\n",
       "      <td>115616.8825</td>\n",
       "    </tr>\n",
       "    <tr>\n",
       "      <th>0.90</th>\n",
       "      <td>385.20</td>\n",
       "      <td>4.00</td>\n",
       "      <td>142846.9580</td>\n",
       "    </tr>\n",
       "    <tr>\n",
       "      <th>0.95</th>\n",
       "      <td>448.25</td>\n",
       "      <td>4.45</td>\n",
       "      <td>164639.6515</td>\n",
       "    </tr>\n",
       "    <tr>\n",
       "      <th>0.99</th>\n",
       "      <td>482.17</td>\n",
       "      <td>16.63</td>\n",
       "      <td>660892.1819</td>\n",
       "    </tr>\n",
       "  </tbody>\n",
       "</table>\n",
       "</div>"
      ],
      "text/plain": [
       "      recency  frequency     monetary\n",
       "0.25   101.75       2.00   66129.0075\n",
       "0.50   181.00       3.00   85360.0000\n",
       "0.75   243.25       3.00  115616.8825\n",
       "0.90   385.20       4.00  142846.9580\n",
       "0.95   448.25       4.45  164639.6515\n",
       "0.99   482.17      16.63  660892.1819"
      ]
     },
     "metadata": {},
     "output_type": "display_data"
    },
    {
     "name": "stdout",
     "output_type": "stream",
     "text": [
      "RECENCY\n",
      "top 1: 482.1700000000001\n",
      "top 5: 448.25\n",
      "99th percentile is 1.08 times greater than 95th percentile\n",
      "------------------------------\n",
      "FREQUENCY\n",
      "top 1: 16.630000000000024\n",
      "top 5: 4.450000000000003\n",
      "99th percentile is 3.74 times greater than 95th percentile\n",
      "------------------------------\n",
      "MONETARY\n",
      "top 1: 660892.1819000005\n",
      "top 5: 164639.65150000007\n",
      "99th percentile is 4.01 times greater than 95th percentile\n",
      "------------------------------\n"
     ]
    }
   ],
   "source": [
    "# compare percentiles (mainly 95% and 99%)\n",
    "percentiles = rfm_df.quantile([.25,.5,.75,.9,.95,.99])\n",
    "display(percentiles)\n",
    "\n",
    "for col in rfm_cols:\n",
    "\n",
    "    # calculate top 1% and top 5%\n",
    "    top_1 = percentiles.loc[0.99, col]\n",
    "    top_5 = percentiles.loc[0.95, col]\n",
    "\n",
    "    # display\n",
    "    print(col.upper())\n",
    "    print(f'top 1: {top_1}')\n",
    "    print(f'top 5: {top_5}')\n",
    "    print(f'99th percentile is {round(top_1/top_5,2)} times greater than 95th percentile')\n",
    "    print('-'*30)"
   ]
  },
  {
   "cell_type": "code",
   "execution_count": 91,
   "metadata": {},
   "outputs": [
    {
     "data": {
      "image/png": "[encoded data removed]",
      "text/plain": [
       "<Figure size 1400x600 with 4 Axes>"
      ]
     },
     "metadata": {},
     "output_type": "display_data"
    }
   ],
   "source": [
    "# histograms\n",
    "rfm_df[rfm_cols].hist(bins=20, figsize=(14,6))\n",
    "plt.show()"
   ]
  },
  {
   "cell_type": "code",
   "execution_count": null,
   "metadata": {},
   "outputs": [
    {
     "name": "stdout",
     "output_type": "stream",
     "text": [
      "RECENCY\n",
      "Skewness: 0.7692197491282079\n",
      "\n",
      "Mean: 189.05434782608697\n",
      "Median: 181.0\n",
      "------------------------------\n",
      "FREQUENCY\n",
      "Skewness: 6.138049494790223\n",
      "\n",
      "Mean: 3.152173913043478\n",
      "Median: 3.0\n",
      "------------------------------\n",
      "MONETARY\n",
      "Skewness: 5.392615515812862\n",
      "\n",
      "Mean: 102632.8191304348\n",
      "Median: 85360.0\n",
      "------------------------------\n"
     ]
    }
   ],
   "source": [
    "# find skewness and compare mean with median (mean > median --> right skew)\n",
    "for col in rfm_cols:\n",
    "    print(col.upper())\n",
    "    print(f'Skewness: {rfm_df[col].skew()}')\n",
    "    print(f'\\nMean: {rfm_df[col].mean()}')\n",
    "    print(f'Median: {rfm_df[col].median()}')\n",
    "    print('-'*30)"
   ]
  }
 ],
 "metadata": {
  "kernelspec": {
   "display_name": "base",
   "language": "python",
   "name": "python3"
  },
  "language_info": {
   "codemirror_mode": {
    "name": "ipython",
    "version": 3
   },
   "file_extension": ".py",
   "mimetype": "text/x-python",
   "name": "python",
   "nbconvert_exporter": "python",
   "pygments_lexer": "ipython3",
   "version": "3.12.4"
  }
 },
 "nbformat": 4,
 "nbformat_minor": 2
}
