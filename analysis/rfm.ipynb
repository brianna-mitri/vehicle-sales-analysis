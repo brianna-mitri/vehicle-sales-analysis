{
 "cells": [
  {
   "cell_type": "markdown",
   "metadata": {},
   "source": [
    "## Setup"
   ]
  },
  {
   "cell_type": "code",
   "execution_count": 48,
   "metadata": {},
   "outputs": [
    {
     "data": {
      "text/html": [
       "<script type=\"esms-options\">{\"shimMode\": true}</script><style>*[data-root-id],\n",
       "*[data-root-id] > * {\n",
       "  box-sizing: border-box;\n",
       "  font-family: var(--jp-ui-font-family);\n",
       "  font-size: var(--jp-ui-font-size1);\n",
       "  color: var(--vscode-editor-foreground, var(--jp-ui-font-color1));\n",
       "}\n",
       "\n",
       "/* Override VSCode background color */\n",
       ".cell-output-ipywidget-background:has(\n",
       "    > .cell-output-ipywidget-background > .lm-Widget > *[data-root-id]\n",
       "  ),\n",
       ".cell-output-ipywidget-background:has(> .lm-Widget > *[data-root-id]) {\n",
       "  background-color: transparent !important;\n",
       "}\n",
       "</style>"
      ]
     },
     "metadata": {},
     "output_type": "display_data"
    },
    {
     "data": {
      "application/javascript": "(function(root) {\n  function now() {\n    return new Date();\n  }\n\n  const force = true;\n  const py_version = '3.5.2'.replace('rc', '-rc.').replace('.dev', '-dev.');\n  const reloading = false;\n  const Bokeh = root.Bokeh;\n\n  // Set a timeout for this load but only if we are not already initializing\n  if (typeof (root._bokeh_timeout) === \"undefined\" || (force || !root._bokeh_is_initializing)) {\n    root._bokeh_timeout = Date.now() + 5000;\n    root._bokeh_failed_load = false;\n  }\n\n  function run_callbacks() {\n    try {\n      root._bokeh_onload_callbacks.forEach(function(callback) {\n        if (callback != null)\n          callback();\n      });\n    } finally {\n      delete root._bokeh_onload_callbacks;\n    }\n    console.debug(\"Bokeh: all callbacks have finished\");\n  }\n\n  function load_libs(css_urls, js_urls, js_modules, js_exports, callback) {\n    if (css_urls == null) css_urls = [];\n    if (js_urls == null) js_urls = [];\n    if (js_modules == null) js_modules = [];\n    if (js_exports == null) js_exports = {};\n\n    root._bokeh_onload_callbacks.push(callback);\n\n    if (root._bokeh_is_loading > 0) {\n      // Don't load bokeh if it is still initializing\n      console.debug(\"Bokeh: BokehJS is being loaded, scheduling callback at\", now());\n      return null;\n    } else if (js_urls.length === 0 && js_modules.length === 0 && Object.keys(js_exports).length === 0) {\n      // There is nothing to load\n      run_callbacks();\n      return null;\n    }\n\n    function on_load() {\n      root._bokeh_is_loading--;\n      if (root._bokeh_is_loading === 0) {\n        console.debug(\"Bokeh: all BokehJS libraries/stylesheets loaded\");\n        run_callbacks()\n      }\n    }\n    window._bokeh_on_load = on_load\n\n    function on_error(e) {\n      const src_el = e.srcElement\n      console.error(\"failed to load \" + (src_el.href || src_el.src));\n    }\n\n    const skip = [];\n    if (window.requirejs) {\n      window.requirejs.config({'packages': {}, 'paths': {}, 'shim': {}});\n      root._bokeh_is_loading = css_urls.length + 0;\n    } else {\n      root._bokeh_is_loading = css_urls.length + js_urls.length + js_modules.length + Object.keys(js_exports).length;\n    }\n\n    const existing_stylesheets = []\n    const links = document.getElementsByTagName('link')\n    for (let i = 0; i < links.length; i++) {\n      const link = links[i]\n      if (link.href != null) {\n        existing_stylesheets.push(link.href)\n      }\n    }\n    for (let i = 0; i < css_urls.length; i++) {\n      const url = css_urls[i];\n      const escaped = encodeURI(url)\n      if (existing_stylesheets.indexOf(escaped) !== -1) {\n        on_load()\n        continue;\n      }\n      const element = document.createElement(\"link\");\n      element.onload = on_load;\n      element.onerror = on_error;\n      element.rel = \"stylesheet\";\n      element.type = \"text/css\";\n      element.href = url;\n      console.debug(\"Bokeh: injecting link tag for BokehJS stylesheet: \", url);\n      document.body.appendChild(element);\n    }    var existing_scripts = []\n    const scripts = document.getElementsByTagName('script')\n    for (let i = 0; i < scripts.length; i++) {\n      var script = scripts[i]\n      if (script.src != null) {\n        existing_scripts.push(script.src)\n      }\n    }\n    for (let i = 0; i < js_urls.length; i++) {\n      const url = js_urls[i];\n      const escaped = encodeURI(url)\n      if (skip.indexOf(escaped) !== -1 || existing_scripts.indexOf(escaped) !== -1) {\n        if (!window.requirejs) {\n          on_load();\n        }\n        continue;\n      }\n      const element = document.createElement('script');\n      element.onload = on_load;\n      element.onerror = on_error;\n      element.async = false;\n      element.src = url;\n      console.debug(\"Bokeh: injecting script tag for BokehJS library: \", url);\n      document.head.appendChild(element);\n    }\n    for (let i = 0; i < js_modules.length; i++) {\n      const url = js_modules[i];\n      const escaped = encodeURI(url)\n      if (skip.indexOf(escaped) !== -1 || existing_scripts.indexOf(escaped) !== -1) {\n        if (!window.requirejs) {\n          on_load();\n        }\n        continue;\n      }\n      var element = document.createElement('script');\n      element.onload = on_load;\n      element.onerror = on_error;\n      element.async = false;\n      element.src = url;\n      element.type = \"module\";\n      console.debug(\"Bokeh: injecting script tag for BokehJS library: \", url);\n      document.head.appendChild(element);\n    }\n    for (const name in js_exports) {\n      const url = js_exports[name];\n      const escaped = encodeURI(url)\n      if (skip.indexOf(escaped) >= 0 || root[name] != null) {\n        if (!window.requirejs) {\n          on_load();\n        }\n        continue;\n      }\n      var element = document.createElement('script');\n      element.onerror = on_error;\n      element.async = false;\n      element.type = \"module\";\n      console.debug(\"Bokeh: injecting script tag for BokehJS library: \", url);\n      element.textContent = `\n      import ${name} from \"${url}\"\n      window.${name} = ${name}\n      window._bokeh_on_load()\n      `\n      document.head.appendChild(element);\n    }\n    if (!js_urls.length && !js_modules.length) {\n      on_load()\n    }\n  };\n\n  function inject_raw_css(css) {\n    const element = document.createElement(\"style\");\n    element.appendChild(document.createTextNode(css));\n    document.body.appendChild(element);\n  }\n\n  const js_urls = [\"https://cdn.holoviz.org/panel/1.5.3/dist/bundled/reactiveesm/es-module-shims@^1.10.0/dist/es-module-shims.min.js\", \"https://cdn.bokeh.org/bokeh/release/bokeh-3.5.2.min.js\", \"https://cdn.bokeh.org/bokeh/release/bokeh-gl-3.5.2.min.js\", \"https://cdn.bokeh.org/bokeh/release/bokeh-widgets-3.5.2.min.js\", \"https://cdn.bokeh.org/bokeh/release/bokeh-tables-3.5.2.min.js\", \"https://cdn.holoviz.org/panel/1.5.3/dist/panel.min.js\"];\n  const js_modules = [];\n  const js_exports = {};\n  const css_urls = [];\n  const inline_js = [    function(Bokeh) {\n      Bokeh.set_log_level(\"info\");\n    },\nfunction(Bokeh) {} // ensure no trailing comma for IE\n  ];\n\n  function run_inline_js() {\n    if ((root.Bokeh !== undefined) || (force === true)) {\n      for (let i = 0; i < inline_js.length; i++) {\n        try {\n          inline_js[i].call(root, root.Bokeh);\n        } catch(e) {\n          if (!reloading) {\n            throw e;\n          }\n        }\n      }\n      // Cache old bokeh versions\n      if (Bokeh != undefined && !reloading) {\n        var NewBokeh = root.Bokeh;\n        if (Bokeh.versions === undefined) {\n          Bokeh.versions = new Map();\n        }\n        if (NewBokeh.version !== Bokeh.version) {\n          Bokeh.versions.set(NewBokeh.version, NewBokeh)\n        }\n        root.Bokeh = Bokeh;\n      }\n    } else if (Date.now() < root._bokeh_timeout) {\n      setTimeout(run_inline_js, 100);\n    } else if (!root._bokeh_failed_load) {\n      console.log(\"Bokeh: BokehJS failed to load within specified timeout.\");\n      root._bokeh_failed_load = true;\n    }\n    root._bokeh_is_initializing = false\n  }\n\n  function load_or_wait() {\n    // Implement a backoff loop that tries to ensure we do not load multiple\n    // versions of Bokeh and its dependencies at the same time.\n    // In recent versions we use the root._bokeh_is_initializing flag\n    // to determine whether there is an ongoing attempt to initialize\n    // bokeh, however for backward compatibility we also try to ensure\n    // that we do not start loading a newer (Panel>=1.0 and Bokeh>3) version\n    // before older versions are fully initialized.\n    if (root._bokeh_is_initializing && Date.now() > root._bokeh_timeout) {\n      // If the timeout and bokeh was not successfully loaded we reset\n      // everything and try loading again\n      root._bokeh_timeout = Date.now() + 5000;\n      root._bokeh_is_initializing = false;\n      root._bokeh_onload_callbacks = undefined;\n      root._bokeh_is_loading = 0\n      console.log(\"Bokeh: BokehJS was loaded multiple times but one version failed to initialize.\");\n      load_or_wait();\n    } else if (root._bokeh_is_initializing || (typeof root._bokeh_is_initializing === \"undefined\" && root._bokeh_onload_callbacks !== undefined)) {\n      setTimeout(load_or_wait, 100);\n    } else {\n      root._bokeh_is_initializing = true\n      root._bokeh_onload_callbacks = []\n      const bokeh_loaded = root.Bokeh != null && (root.Bokeh.version === py_version || (root.Bokeh.versions !== undefined && root.Bokeh.versions.has(py_version)));\n      if (!reloading && !bokeh_loaded) {\n        if (root.Bokeh) {\n          root.Bokeh = undefined;\n        }\n        console.debug(\"Bokeh: BokehJS not loaded, scheduling load and callback at\", now());\n      }\n      load_libs(css_urls, js_urls, js_modules, js_exports, function() {\n        console.debug(\"Bokeh: BokehJS plotting callback run at\", now());\n        run_inline_js();\n      });\n    }\n  }\n  // Give older versions of the autoload script a head-start to ensure\n  // they initialize before we start loading newer version.\n  setTimeout(load_or_wait, 100)\n}(window));",
      "application/vnd.holoviews_load.v0+json": ""
     },
     "metadata": {},
     "output_type": "display_data"
    },
    {
     "data": {
      "application/javascript": "\nif ((window.PyViz === undefined) || (window.PyViz instanceof HTMLElement)) {\n  window.PyViz = {comms: {}, comm_status:{}, kernels:{}, receivers: {}, plot_index: []}\n}\n\n\n    function JupyterCommManager() {\n    }\n\n    JupyterCommManager.prototype.register_target = function(plot_id, comm_id, msg_handler) {\n      if (window.comm_manager || ((window.Jupyter !== undefined) && (Jupyter.notebook.kernel != null))) {\n        var comm_manager = window.comm_manager || Jupyter.notebook.kernel.comm_manager;\n        comm_manager.register_target(comm_id, function(comm) {\n          comm.on_msg(msg_handler);\n        });\n      } else if ((plot_id in window.PyViz.kernels) && (window.PyViz.kernels[plot_id])) {\n        window.PyViz.kernels[plot_id].registerCommTarget(comm_id, function(comm) {\n          comm.onMsg = msg_handler;\n        });\n      } else if (typeof google != 'undefined' && google.colab.kernel != null) {\n        google.colab.kernel.comms.registerTarget(comm_id, (comm) => {\n          var messages = comm.messages[Symbol.asyncIterator]();\n          function processIteratorResult(result) {\n            var message = result.value;\n            console.log(message)\n            var content = {data: message.data, comm_id};\n            var buffers = []\n            for (var buffer of message.buffers || []) {\n              buffers.push(new DataView(buffer))\n            }\n            var metadata = message.metadata || {};\n            var msg = {content, buffers, metadata}\n            msg_handler(msg);\n            return messages.next().then(processIteratorResult);\n          }\n          return messages.next().then(processIteratorResult);\n        })\n      }\n    }\n\n    JupyterCommManager.prototype.get_client_comm = function(plot_id, comm_id, msg_handler) {\n      if (comm_id in window.PyViz.comms) {\n        return window.PyViz.comms[comm_id];\n      } else if (window.comm_manager || ((window.Jupyter !== undefined) && (Jupyter.notebook.kernel != null))) {\n        var comm_manager = window.comm_manager || Jupyter.notebook.kernel.comm_manager;\n        var comm = comm_manager.new_comm(comm_id, {}, {}, {}, comm_id);\n        if (msg_handler) {\n          comm.on_msg(msg_handler);\n        }\n      } else if ((plot_id in window.PyViz.kernels) && (window.PyViz.kernels[plot_id])) {\n        var comm = window.PyViz.kernels[plot_id].connectToComm(comm_id);\n        comm.open();\n        if (msg_handler) {\n          comm.onMsg = msg_handler;\n        }\n      } else if (typeof google != 'undefined' && google.colab.kernel != null) {\n        var comm_promise = google.colab.kernel.comms.open(comm_id)\n        comm_promise.then((comm) => {\n          window.PyViz.comms[comm_id] = comm;\n          if (msg_handler) {\n            var messages = comm.messages[Symbol.asyncIterator]();\n            function processIteratorResult(result) {\n              var message = result.value;\n              var content = {data: message.data};\n              var metadata = message.metadata || {comm_id};\n              var msg = {content, metadata}\n              msg_handler(msg);\n              return messages.next().then(processIteratorResult);\n            }\n            return messages.next().then(processIteratorResult);\n          }\n        }) \n        var sendClosure = (data, metadata, buffers, disposeOnDone) => {\n          return comm_promise.then((comm) => {\n            comm.send(data, metadata, buffers, disposeOnDone);\n          });\n        };\n        var comm = {\n          send: sendClosure\n        };\n      }\n      window.PyViz.comms[comm_id] = comm;\n      return comm;\n    }\n    window.PyViz.comm_manager = new JupyterCommManager();\n    \n\n\nvar JS_MIME_TYPE = 'application/javascript';\nvar HTML_MIME_TYPE = 'text/html';\nvar EXEC_MIME_TYPE = 'application/vnd.holoviews_exec.v0+json';\nvar CLASS_NAME = 'output';\n\n/**\n * Render data to the DOM node\n */\nfunction render(props, node) {\n  var div = document.createElement(\"div\");\n  var script = document.createElement(\"script\");\n  node.appendChild(div);\n  node.appendChild(script);\n}\n\n/**\n * Handle when a new output is added\n */\nfunction handle_add_output(event, handle) {\n  var output_area = handle.output_area;\n  var output = handle.output;\n  if ((output.data == undefined) || (!output.data.hasOwnProperty(EXEC_MIME_TYPE))) {\n    return\n  }\n  var id = output.metadata[EXEC_MIME_TYPE][\"id\"];\n  var toinsert = output_area.element.find(\".\" + CLASS_NAME.split(' ')[0]);\n  if (id !== undefined) {\n    var nchildren = toinsert.length;\n    var html_node = toinsert[nchildren-1].children[0];\n    html_node.innerHTML = output.data[HTML_MIME_TYPE];\n    var scripts = [];\n    var nodelist = html_node.querySelectorAll(\"script\");\n    for (var i in nodelist) {\n      if (nodelist.hasOwnProperty(i)) {\n        scripts.push(nodelist[i])\n      }\n    }\n\n    scripts.forEach( function (oldScript) {\n      var newScript = document.createElement(\"script\");\n      var attrs = [];\n      var nodemap = oldScript.attributes;\n      for (var j in nodemap) {\n        if (nodemap.hasOwnProperty(j)) {\n          attrs.push(nodemap[j])\n        }\n      }\n      attrs.forEach(function(attr) { newScript.setAttribute(attr.name, attr.value) });\n      newScript.appendChild(document.createTextNode(oldScript.innerHTML));\n      oldScript.parentNode.replaceChild(newScript, oldScript);\n    });\n    if (JS_MIME_TYPE in output.data) {\n      toinsert[nchildren-1].children[1].textContent = output.data[JS_MIME_TYPE];\n    }\n    output_area._hv_plot_id = id;\n    if ((window.Bokeh !== undefined) && (id in Bokeh.index)) {\n      window.PyViz.plot_index[id] = Bokeh.index[id];\n    } else {\n      window.PyViz.plot_index[id] = null;\n    }\n  } else if (output.metadata[EXEC_MIME_TYPE][\"server_id\"] !== undefined) {\n    var bk_div = document.createElement(\"div\");\n    bk_div.innerHTML = output.data[HTML_MIME_TYPE];\n    var script_attrs = bk_div.children[0].attributes;\n    for (var i = 0; i < script_attrs.length; i++) {\n      toinsert[toinsert.length - 1].childNodes[1].setAttribute(script_attrs[i].name, script_attrs[i].value);\n    }\n    // store reference to server id on output_area\n    output_area._bokeh_server_id = output.metadata[EXEC_MIME_TYPE][\"server_id\"];\n  }\n}\n\n/**\n * Handle when an output is cleared or removed\n */\nfunction handle_clear_output(event, handle) {\n  var id = handle.cell.output_area._hv_plot_id;\n  var server_id = handle.cell.output_area._bokeh_server_id;\n  if (((id === undefined) || !(id in PyViz.plot_index)) && (server_id !== undefined)) { return; }\n  var comm = window.PyViz.comm_manager.get_client_comm(\"hv-extension-comm\", \"hv-extension-comm\", function () {});\n  if (server_id !== null) {\n    comm.send({event_type: 'server_delete', 'id': server_id});\n    return;\n  } else if (comm !== null) {\n    comm.send({event_type: 'delete', 'id': id});\n  }\n  delete PyViz.plot_index[id];\n  if ((window.Bokeh !== undefined) & (id in window.Bokeh.index)) {\n    var doc = window.Bokeh.index[id].model.document\n    doc.clear();\n    const i = window.Bokeh.documents.indexOf(doc);\n    if (i > -1) {\n      window.Bokeh.documents.splice(i, 1);\n    }\n  }\n}\n\n/**\n * Handle kernel restart event\n */\nfunction handle_kernel_cleanup(event, handle) {\n  delete PyViz.comms[\"hv-extension-comm\"];\n  window.PyViz.plot_index = {}\n}\n\n/**\n * Handle update_display_data messages\n */\nfunction handle_update_output(event, handle) {\n  handle_clear_output(event, {cell: {output_area: handle.output_area}})\n  handle_add_output(event, handle)\n}\n\nfunction register_renderer(events, OutputArea) {\n  function append_mime(data, metadata, element) {\n    // create a DOM node to render to\n    var toinsert = this.create_output_subarea(\n    metadata,\n    CLASS_NAME,\n    EXEC_MIME_TYPE\n    );\n    this.keyboard_manager.register_events(toinsert);\n    // Render to node\n    var props = {data: data, metadata: metadata[EXEC_MIME_TYPE]};\n    render(props, toinsert[0]);\n    element.append(toinsert);\n    return toinsert\n  }\n\n  events.on('output_added.OutputArea', handle_add_output);\n  events.on('output_updated.OutputArea', handle_update_output);\n  events.on('clear_output.CodeCell', handle_clear_output);\n  events.on('delete.Cell', handle_clear_output);\n  events.on('kernel_ready.Kernel', handle_kernel_cleanup);\n\n  OutputArea.prototype.register_mime_type(EXEC_MIME_TYPE, append_mime, {\n    safe: true,\n    index: 0\n  });\n}\n\nif (window.Jupyter !== undefined) {\n  try {\n    var events = require('base/js/events');\n    var OutputArea = require('notebook/js/outputarea').OutputArea;\n    if (OutputArea.prototype.mime_types().indexOf(EXEC_MIME_TYPE) == -1) {\n      register_renderer(events, OutputArea);\n    }\n  } catch(err) {\n  }\n}\n",
      "application/vnd.holoviews_load.v0+json": ""
     },
     "metadata": {},
     "output_type": "display_data"
    },
    {
     "data": {
      "application/vnd.holoviews_exec.v0+json": "",
      "text/html": [
       "<div id='c8dbc55a-b6c2-4f0c-9983-7989fcecf0b8'>\n",
       "  <div id=\"f3d3c8ca-2285-46e6-9623-82fff9d44b50\" data-root-id=\"c8dbc55a-b6c2-4f0c-9983-7989fcecf0b8\" style=\"display: contents;\"></div>\n",
       "</div>\n",
       "<script type=\"application/javascript\">(function(root) {\n",
       "  var docs_json = {\"eb8aefe0-2d9f-4a8e-ba52-e9a4d715fc20\":{\"version\":\"3.5.2\",\"title\":\"Bokeh Application\",\"roots\":[{\"type\":\"object\",\"name\":\"panel.models.browser.BrowserInfo\",\"id\":\"c8dbc55a-b6c2-4f0c-9983-7989fcecf0b8\"},{\"type\":\"object\",\"name\":\"panel.models.comm_manager.CommManager\",\"id\":\"120c08c9-1719-45a8-a7e6-54d21f78f82f\",\"attributes\":{\"plot_id\":\"c8dbc55a-b6c2-4f0c-9983-7989fcecf0b8\",\"comm_id\":\"fa45444a39a14bbab9e4dea66399a7d4\",\"client_comm_id\":\"ad66b877c81048e7a37d0314bc60be3e\"}}],\"defs\":[{\"type\":\"model\",\"name\":\"ReactiveHTML1\"},{\"type\":\"model\",\"name\":\"FlexBox1\",\"properties\":[{\"name\":\"align_content\",\"kind\":\"Any\",\"default\":\"flex-start\"},{\"name\":\"align_items\",\"kind\":\"Any\",\"default\":\"flex-start\"},{\"name\":\"flex_direction\",\"kind\":\"Any\",\"default\":\"row\"},{\"name\":\"flex_wrap\",\"kind\":\"Any\",\"default\":\"wrap\"},{\"name\":\"gap\",\"kind\":\"Any\",\"default\":\"\"},{\"name\":\"justify_content\",\"kind\":\"Any\",\"default\":\"flex-start\"}]},{\"type\":\"model\",\"name\":\"FloatPanel1\",\"properties\":[{\"name\":\"config\",\"kind\":\"Any\",\"default\":{\"type\":\"map\"}},{\"name\":\"contained\",\"kind\":\"Any\",\"default\":true},{\"name\":\"position\",\"kind\":\"Any\",\"default\":\"right-top\"},{\"name\":\"offsetx\",\"kind\":\"Any\",\"default\":null},{\"name\":\"offsety\",\"kind\":\"Any\",\"default\":null},{\"name\":\"theme\",\"kind\":\"Any\",\"default\":\"primary\"},{\"name\":\"status\",\"kind\":\"Any\",\"default\":\"normalized\"}]},{\"type\":\"model\",\"name\":\"GridStack1\",\"properties\":[{\"name\":\"mode\",\"kind\":\"Any\",\"default\":\"warn\"},{\"name\":\"ncols\",\"kind\":\"Any\",\"default\":null},{\"name\":\"nrows\",\"kind\":\"Any\",\"default\":null},{\"name\":\"allow_resize\",\"kind\":\"Any\",\"default\":true},{\"name\":\"allow_drag\",\"kind\":\"Any\",\"default\":true},{\"name\":\"state\",\"kind\":\"Any\",\"default\":[]}]},{\"type\":\"model\",\"name\":\"drag1\",\"properties\":[{\"name\":\"slider_width\",\"kind\":\"Any\",\"default\":5},{\"name\":\"slider_color\",\"kind\":\"Any\",\"default\":\"black\"},{\"name\":\"value\",\"kind\":\"Any\",\"default\":50}]},{\"type\":\"model\",\"name\":\"click1\",\"properties\":[{\"name\":\"terminal_output\",\"kind\":\"Any\",\"default\":\"\"},{\"name\":\"debug_name\",\"kind\":\"Any\",\"default\":\"\"},{\"name\":\"clears\",\"kind\":\"Any\",\"default\":0}]},{\"type\":\"model\",\"name\":\"FastWrapper1\",\"properties\":[{\"name\":\"object\",\"kind\":\"Any\",\"default\":null},{\"name\":\"style\",\"kind\":\"Any\",\"default\":null}]},{\"type\":\"model\",\"name\":\"NotificationAreaBase1\",\"properties\":[{\"name\":\"js_events\",\"kind\":\"Any\",\"default\":{\"type\":\"map\"}},{\"name\":\"position\",\"kind\":\"Any\",\"default\":\"bottom-right\"},{\"name\":\"_clear\",\"kind\":\"Any\",\"default\":0}]},{\"type\":\"model\",\"name\":\"NotificationArea1\",\"properties\":[{\"name\":\"js_events\",\"kind\":\"Any\",\"default\":{\"type\":\"map\"}},{\"name\":\"notifications\",\"kind\":\"Any\",\"default\":[]},{\"name\":\"position\",\"kind\":\"Any\",\"default\":\"bottom-right\"},{\"name\":\"_clear\",\"kind\":\"Any\",\"default\":0},{\"name\":\"types\",\"kind\":\"Any\",\"default\":[{\"type\":\"map\",\"entries\":[[\"type\",\"warning\"],[\"background\",\"#ffc107\"],[\"icon\",{\"type\":\"map\",\"entries\":[[\"className\",\"fas fa-exclamation-triangle\"],[\"tagName\",\"i\"],[\"color\",\"white\"]]}]]},{\"type\":\"map\",\"entries\":[[\"type\",\"info\"],[\"background\",\"#007bff\"],[\"icon\",{\"type\":\"map\",\"entries\":[[\"className\",\"fas fa-info-circle\"],[\"tagName\",\"i\"],[\"color\",\"white\"]]}]]}]}]},{\"type\":\"model\",\"name\":\"Notification\",\"properties\":[{\"name\":\"background\",\"kind\":\"Any\",\"default\":null},{\"name\":\"duration\",\"kind\":\"Any\",\"default\":3000},{\"name\":\"icon\",\"kind\":\"Any\",\"default\":null},{\"name\":\"message\",\"kind\":\"Any\",\"default\":\"\"},{\"name\":\"notification_type\",\"kind\":\"Any\",\"default\":null},{\"name\":\"_destroyed\",\"kind\":\"Any\",\"default\":false}]},{\"type\":\"model\",\"name\":\"TemplateActions1\",\"properties\":[{\"name\":\"open_modal\",\"kind\":\"Any\",\"default\":0},{\"name\":\"close_modal\",\"kind\":\"Any\",\"default\":0}]},{\"type\":\"model\",\"name\":\"BootstrapTemplateActions1\",\"properties\":[{\"name\":\"open_modal\",\"kind\":\"Any\",\"default\":0},{\"name\":\"close_modal\",\"kind\":\"Any\",\"default\":0}]},{\"type\":\"model\",\"name\":\"TemplateEditor1\",\"properties\":[{\"name\":\"layout\",\"kind\":\"Any\",\"default\":[]}]},{\"type\":\"model\",\"name\":\"MaterialTemplateActions1\",\"properties\":[{\"name\":\"open_modal\",\"kind\":\"Any\",\"default\":0},{\"name\":\"close_modal\",\"kind\":\"Any\",\"default\":0}]},{\"type\":\"model\",\"name\":\"ReactiveESM1\"},{\"type\":\"model\",\"name\":\"JSComponent1\"},{\"type\":\"model\",\"name\":\"ReactComponent1\"},{\"type\":\"model\",\"name\":\"AnyWidgetComponent1\"},{\"type\":\"model\",\"name\":\"request_value1\",\"properties\":[{\"name\":\"fill\",\"kind\":\"Any\",\"default\":\"none\"},{\"name\":\"_synced\",\"kind\":\"Any\",\"default\":null},{\"name\":\"_request_sync\",\"kind\":\"Any\",\"default\":0}]}]}};\n",
       "  var render_items = [{\"docid\":\"eb8aefe0-2d9f-4a8e-ba52-e9a4d715fc20\",\"roots\":{\"c8dbc55a-b6c2-4f0c-9983-7989fcecf0b8\":\"f3d3c8ca-2285-46e6-9623-82fff9d44b50\"},\"root_ids\":[\"c8dbc55a-b6c2-4f0c-9983-7989fcecf0b8\"]}];\n",
       "  var docs = Object.values(docs_json)\n",
       "  if (!docs) {\n",
       "    return\n",
       "  }\n",
       "  const py_version = docs[0].version.replace('rc', '-rc.').replace('.dev', '-dev.')\n",
       "  async function embed_document(root) {\n",
       "    var Bokeh = get_bokeh(root)\n",
       "    await Bokeh.embed.embed_items_notebook(docs_json, render_items);\n",
       "    for (const render_item of render_items) {\n",
       "      for (const root_id of render_item.root_ids) {\n",
       "\tconst id_el = document.getElementById(root_id)\n",
       "\tif (id_el.children.length && id_el.children[0].hasAttribute('data-root-id')) {\n",
       "\t  const root_el = id_el.children[0]\n",
       "\t  root_el.id = root_el.id + '-rendered'\n",
       "\t  for (const child of root_el.children) {\n",
       "            // Ensure JupyterLab does not capture keyboard shortcuts\n",
       "            // see: https://jupyterlab.readthedocs.io/en/4.1.x/extension/notebook.html#keyboard-interaction-model\n",
       "\t    child.setAttribute('data-lm-suppress-shortcuts', 'true')\n",
       "\t  }\n",
       "\t}\n",
       "      }\n",
       "    }\n",
       "  }\n",
       "  function get_bokeh(root) {\n",
       "    if (root.Bokeh === undefined) {\n",
       "      return null\n",
       "    } else if (root.Bokeh.version !== py_version) {\n",
       "      if (root.Bokeh.versions === undefined || !root.Bokeh.versions.has(py_version)) {\n",
       "\treturn null\n",
       "      }\n",
       "      return root.Bokeh.versions.get(py_version);\n",
       "    } else if (root.Bokeh.version === py_version) {\n",
       "      return root.Bokeh\n",
       "    }\n",
       "    return null\n",
       "  }\n",
       "  function is_loaded(root) {\n",
       "    var Bokeh = get_bokeh(root)\n",
       "    return (Bokeh != null && Bokeh.Panel !== undefined)\n",
       "  }\n",
       "  if (is_loaded(root)) {\n",
       "    embed_document(root);\n",
       "  } else {\n",
       "    var attempts = 0;\n",
       "    var timer = setInterval(function(root) {\n",
       "      if (is_loaded(root)) {\n",
       "        clearInterval(timer);\n",
       "        embed_document(root);\n",
       "      } else if (document.readyState == \"complete\") {\n",
       "        attempts++;\n",
       "        if (attempts > 200) {\n",
       "          clearInterval(timer);\n",
       "\t  var Bokeh = get_bokeh(root)\n",
       "\t  if (Bokeh == null || Bokeh.Panel == null) {\n",
       "            console.warn(\"Panel: ERROR: Unable to run Panel code because Bokeh or Panel library is missing\");\n",
       "\t  } else {\n",
       "\t    console.warn(\"Panel: WARNING: Attempting to render but not all required libraries could be resolved.\")\n",
       "\t    embed_document(root)\n",
       "\t  }\n",
       "        }\n",
       "      }\n",
       "    }, 25, root)\n",
       "  }\n",
       "})(window);</script>"
      ]
     },
     "metadata": {
      "application/vnd.holoviews_exec.v0+json": {
       "id": "c8dbc55a-b6c2-4f0c-9983-7989fcecf0b8"
      }
     },
     "output_type": "display_data"
    }
   ],
   "source": [
    "# imports\n",
    "import os, psycopg2, pandas as pd, numpy as np, seaborn as sns, matplotlib.pyplot as plt, hvplot.pandas\n",
    "from dotenv import load_dotenv\n",
    "from sklearn.preprocessing import PowerTransformer, RobustScaler\n",
    "from sklearn import metrics\n",
    "from sklearn.cluster import KMeans\n",
    "from typing import List, Literal, Tuple, Union, Sequence"
   ]
  },
  {
   "cell_type": "code",
   "execution_count": null,
   "metadata": {},
   "outputs": [],
   "source": [
    "# stop leak message from modeling\n",
    "os.environ.setdefault(\"OMP_NUM_THREADS\", \"1\")"
   ]
  },
  {
   "cell_type": "code",
   "execution_count": 2,
   "metadata": {},
   "outputs": [],
   "source": [
    "# database setup\n",
    "db = 'order_mgmt'\n",
    "\n",
    "# pull credentials from .env\n",
    "load_dotenv('../.env')\n",
    "\n",
    "dsn = f'''\n",
    "dbname={db} \n",
    "user={os.getenv('super_user')} \n",
    "password={os.getenv('pg_password')} \n",
    "host={os.getenv('host')} \n",
    "port={os.getenv('port')}\n",
    "'''"
   ]
  },
  {
   "cell_type": "markdown",
   "metadata": {},
   "source": [
    "### Get data from database"
   ]
  },
  {
   "cell_type": "code",
   "execution_count": 3,
   "metadata": {},
   "outputs": [],
   "source": [
    "# connect to database to create dataframe\n",
    "with psycopg2.connect(dsn) as conn, conn.cursor() as cur:\n",
    "    # get one record per purchase\n",
    "    cur.execute(\n",
    "        '''\n",
    "        SELECT \to.order_no,\n",
    "\t\t        o.customer_id,\n",
    "                o.order_date,\n",
    "                -- SUM(ol.quantity) AS total_quantity,\n",
    "                SUM(ol.sales) AS total_sales\n",
    "        FROM orders o\n",
    "        JOIN order_lines ol USING (order_no)\n",
    "        WHERE o.status IN \n",
    "            ('Shipped', 'Resolved')\n",
    "        GROUP BY o.order_no, o.customer_id, o.order_date\n",
    "        ORDER BY o.order_no\n",
    "        '''\n",
    "    )\n",
    "\n",
    "    # fetch data\n",
    "    records = cur.fetchall()\n",
    "    fields = [field.name for field in cur.description]\n",
    "\n",
    "    # setup dataframe\n",
    "    df = pd.DataFrame(records, columns=fields)"
   ]
  },
  {
   "cell_type": "code",
   "execution_count": 4,
   "metadata": {},
   "outputs": [
    {
     "data": {
      "text/html": [
       "<div>\n",
       "<style scoped>\n",
       "    .dataframe tbody tr th:only-of-type {\n",
       "        vertical-align: middle;\n",
       "    }\n",
       "\n",
       "    .dataframe tbody tr th {\n",
       "        vertical-align: top;\n",
       "    }\n",
       "\n",
       "    .dataframe thead th {\n",
       "        text-align: right;\n",
       "    }\n",
       "</style>\n",
       "<table border=\"1\" class=\"dataframe\">\n",
       "  <thead>\n",
       "    <tr style=\"text-align: right;\">\n",
       "      <th></th>\n",
       "      <th>order_no</th>\n",
       "      <th>customer_id</th>\n",
       "      <th>order_date</th>\n",
       "      <th>total_sales</th>\n",
       "    </tr>\n",
       "  </thead>\n",
       "  <tbody>\n",
       "    <tr>\n",
       "      <th>0</th>\n",
       "      <td>10100</td>\n",
       "      <td>15</td>\n",
       "      <td>2003-01-06</td>\n",
       "      <td>12133.25</td>\n",
       "    </tr>\n",
       "    <tr>\n",
       "      <th>1</th>\n",
       "      <td>10101</td>\n",
       "      <td>51</td>\n",
       "      <td>2003-01-09</td>\n",
       "      <td>11432.34</td>\n",
       "    </tr>\n",
       "    <tr>\n",
       "      <th>2</th>\n",
       "      <td>10102</td>\n",
       "      <td>42</td>\n",
       "      <td>2003-01-10</td>\n",
       "      <td>6864.05</td>\n",
       "    </tr>\n",
       "    <tr>\n",
       "      <th>3</th>\n",
       "      <td>10103</td>\n",
       "      <td>65</td>\n",
       "      <td>2003-01-29</td>\n",
       "      <td>54702.00</td>\n",
       "    </tr>\n",
       "    <tr>\n",
       "      <th>4</th>\n",
       "      <td>10104</td>\n",
       "      <td>37</td>\n",
       "      <td>2003-01-31</td>\n",
       "      <td>44621.96</td>\n",
       "    </tr>\n",
       "  </tbody>\n",
       "</table>\n",
       "</div>"
      ],
      "text/plain": [
       "   order_no  customer_id  order_date total_sales\n",
       "0     10100           15  2003-01-06    12133.25\n",
       "1     10101           51  2003-01-09    11432.34\n",
       "2     10102           42  2003-01-10     6864.05\n",
       "3     10103           65  2003-01-29    54702.00\n",
       "4     10104           37  2003-01-31    44621.96"
      ]
     },
     "execution_count": 4,
     "metadata": {},
     "output_type": "execute_result"
    }
   ],
   "source": [
    "# display data\n",
    "df.head()"
   ]
  },
  {
   "cell_type": "markdown",
   "metadata": {},
   "source": [
    "# Preprocessing\n",
    "---"
   ]
  },
  {
   "cell_type": "markdown",
   "metadata": {},
   "source": [
    "## Update data types"
   ]
  },
  {
   "cell_type": "code",
   "execution_count": 5,
   "metadata": {},
   "outputs": [
    {
     "data": {
      "text/plain": [
       "order_no        int64\n",
       "customer_id     int64\n",
       "order_date     object\n",
       "total_sales    object\n",
       "dtype: object"
      ]
     },
     "execution_count": 5,
     "metadata": {},
     "output_type": "execute_result"
    }
   ],
   "source": [
    "# data types\n",
    "df.dtypes"
   ]
  },
  {
   "cell_type": "code",
   "execution_count": 6,
   "metadata": {},
   "outputs": [],
   "source": [
    "# update data types\n",
    "df.total_sales = pd.to_numeric(df.total_sales)\n",
    "df.order_date = pd.to_datetime(df.order_date)"
   ]
  },
  {
   "cell_type": "code",
   "execution_count": 7,
   "metadata": {},
   "outputs": [
    {
     "data": {
      "text/plain": [
       "order_no                int64\n",
       "customer_id             int64\n",
       "order_date     datetime64[ns]\n",
       "total_sales           float64\n",
       "dtype: object"
      ]
     },
     "execution_count": 7,
     "metadata": {},
     "output_type": "execute_result"
    }
   ],
   "source": [
    "# double check dtypes\n",
    "df.dtypes"
   ]
  },
  {
   "cell_type": "markdown",
   "metadata": {},
   "source": [
    "## Get RFM (Recency, Frequency, Monetary)"
   ]
  },
  {
   "cell_type": "markdown",
   "metadata": {},
   "source": [
    "For each customer:\n",
    "- Recency: number of days between \"present\" date and date of last purchase\n",
    "- Frequency: number of orders\n",
    "- Monetary: sum of purchase price"
   ]
  },
  {
   "cell_type": "code",
   "execution_count": 8,
   "metadata": {},
   "outputs": [
    {
     "data": {
      "text/html": [
       "<div>\n",
       "<style scoped>\n",
       "    .dataframe tbody tr th:only-of-type {\n",
       "        vertical-align: middle;\n",
       "    }\n",
       "\n",
       "    .dataframe tbody tr th {\n",
       "        vertical-align: top;\n",
       "    }\n",
       "\n",
       "    .dataframe thead th {\n",
       "        text-align: right;\n",
       "    }\n",
       "</style>\n",
       "<table border=\"1\" class=\"dataframe\">\n",
       "  <thead>\n",
       "    <tr style=\"text-align: right;\">\n",
       "      <th></th>\n",
       "      <th>recency</th>\n",
       "      <th>frequency</th>\n",
       "      <th>monetary</th>\n",
       "    </tr>\n",
       "    <tr>\n",
       "      <th>customer_id</th>\n",
       "      <th></th>\n",
       "      <th></th>\n",
       "      <th></th>\n",
       "    </tr>\n",
       "  </thead>\n",
       "  <tbody>\n",
       "    <tr>\n",
       "      <th>1</th>\n",
       "      <td>183</td>\n",
       "      <td>3</td>\n",
       "      <td>118711.78</td>\n",
       "    </tr>\n",
       "    <tr>\n",
       "      <th>2</th>\n",
       "      <td>213</td>\n",
       "      <td>2</td>\n",
       "      <td>100306.58</td>\n",
       "    </tr>\n",
       "    <tr>\n",
       "      <th>3</th>\n",
       "      <td>188</td>\n",
       "      <td>4</td>\n",
       "      <td>119028.73</td>\n",
       "    </tr>\n",
       "    <tr>\n",
       "      <th>4</th>\n",
       "      <td>441</td>\n",
       "      <td>3</td>\n",
       "      <td>142874.25</td>\n",
       "    </tr>\n",
       "    <tr>\n",
       "      <th>5</th>\n",
       "      <td>132</td>\n",
       "      <td>4</td>\n",
       "      <td>120783.07</td>\n",
       "    </tr>\n",
       "  </tbody>\n",
       "</table>\n",
       "</div>"
      ],
      "text/plain": [
       "             recency  frequency   monetary\n",
       "customer_id                               \n",
       "1                183          3  118711.78\n",
       "2                213          2  100306.58\n",
       "3                188          4  119028.73\n",
       "4                441          3  142874.25\n",
       "5                132          4  120783.07"
      ]
     },
     "execution_count": 8,
     "metadata": {},
     "output_type": "execute_result"
    }
   ],
   "source": [
    "# calculate recency, frequency, monetary for each customer\n",
    "recent_date = df.order_date.max()\n",
    "rfm_df = df.groupby('customer_id').agg({\n",
    "    'order_date': lambda date: (recent_date - date.max()).days,\n",
    "    'order_no': lambda orders: len(orders),\n",
    "    'total_sales': lambda sale: sale.sum()\n",
    "})\n",
    "\n",
    "# update columns\n",
    "rfm_cols = ['recency', 'frequency', 'monetary']\n",
    "rfm_df.columns = rfm_cols\n",
    "#rfm_df = rfm_df.reset_index()\n",
    "\n",
    "# display\n",
    "rfm_df.head()"
   ]
  },
  {
   "cell_type": "markdown",
   "metadata": {},
   "source": [
    "## Check outliers/distribution"
   ]
  },
  {
   "cell_type": "markdown",
   "metadata": {},
   "source": [
    "#### **Analysis:**\n",
    "Recency: mild right skew--> most customers bought at around same time \n",
    "- Outliers: 4 (upper) \n",
    "- Percentiles: 99th percentile is 1.08 times greater than 95th percentile\n",
    "- Skew: 0.769 \n",
    "- Mean > Median --> 189.05 > 181.0\n",
    "\n",
    "Frequency: heavy right skew driven by a few very active/loyal customers (good to look into outliers since they more than triple the 95th percentile)\n",
    "- Outliers: 5 (upper)  \n",
    "- Percentiles: 99th percentile is 3.74 times greater than 95th percentile\n",
    "- Skew: 6.138\n",
    "- Mean > Median: 3.15 > 3.0\n",
    "\n",
    "Monetary: heavy right skew with a few high spending customers (good to look into since they're four times the 95th percentile)\n",
    "- Outliers: 4 (upper)\n",
    "- Percentiles: 99th percentile is 4.01 times greater than 95th percentile\n",
    "- Skew: 5.393\n",
    "- Mean > Median: 102,632.82 > 85,360.0\n",
    "\n",
    "OVERALL:\n",
    "- Overall, all RFM measures are right skewed but mainly Frequency and Monetary driven by high activity/spenders; recency is only mildly skewed\n",
    "- Keep outliers as they are valid and important to understand (transforming/scaling will prevent them from dominating before modeling)"
   ]
  },
  {
   "cell_type": "markdown",
   "metadata": {},
   "source": [
    "#### Outliers"
   ]
  },
  {
   "cell_type": "code",
   "execution_count": 9,
   "metadata": {},
   "outputs": [
    {
     "data": {
      "image/png": "[encoded data removed]",
      "text/plain": [
       "<Figure size 1400x600 with 3 Axes>"
      ]
     },
     "metadata": {},
     "output_type": "display_data"
    }
   ],
   "source": [
    "# boxplots\n",
    "rfm_df.plot(kind='box', subplots=True, figsize=(14,6))\n",
    "plt.show()"
   ]
  },
  {
   "cell_type": "code",
   "execution_count": 10,
   "metadata": {},
   "outputs": [
    {
     "name": "stdout",
     "output_type": "stream",
     "text": [
      "------------------------------\n",
      "RECENCY\n",
      "\n",
      "Number of outliers: 4\n",
      "Upper: 4\n",
      "Lower: 0\n",
      "------------------------------\n",
      "------------------------------\n",
      "FREQUENCY\n",
      "\n",
      "Number of outliers: 5\n",
      "Upper: 5\n",
      "Lower: 0\n",
      "------------------------------\n",
      "------------------------------\n",
      "MONETARY\n",
      "\n",
      "Number of outliers: 4\n",
      "Upper: 4\n",
      "Lower: 0\n",
      "------------------------------\n"
     ]
    }
   ],
   "source": [
    "# number of outliers\n",
    "for rfm_col in rfm_cols:\n",
    "    # calculate iqr\n",
    "    col = rfm_df[rfm_col]\n",
    "    q1, q3 = col.quantile([.25, .75])\n",
    "    iqr = q3 - q1\n",
    "\n",
    "    # find outliers\n",
    "    lower, upper = q1 - 1.5*iqr, q3 + 1.5*iqr\n",
    "    l_outliers = (col < lower).sum()\n",
    "    u_outliers = (col > upper).sum()\n",
    "\n",
    "    # display\n",
    "    print('-'*30)\n",
    "    print(rfm_col.upper())\n",
    "    print(f'\\nNumber of outliers: {l_outliers + u_outliers}')\n",
    "    print(f'Upper: {u_outliers}')\n",
    "    print(f'Lower: {l_outliers}')\n",
    "    print('-'*30)"
   ]
  },
  {
   "cell_type": "markdown",
   "metadata": {},
   "source": [
    "### Distribution"
   ]
  },
  {
   "cell_type": "code",
   "execution_count": 11,
   "metadata": {},
   "outputs": [
    {
     "data": {
      "text/html": [
       "<div>\n",
       "<style scoped>\n",
       "    .dataframe tbody tr th:only-of-type {\n",
       "        vertical-align: middle;\n",
       "    }\n",
       "\n",
       "    .dataframe tbody tr th {\n",
       "        vertical-align: top;\n",
       "    }\n",
       "\n",
       "    .dataframe thead th {\n",
       "        text-align: right;\n",
       "    }\n",
       "</style>\n",
       "<table border=\"1\" class=\"dataframe\">\n",
       "  <thead>\n",
       "    <tr style=\"text-align: right;\">\n",
       "      <th></th>\n",
       "      <th>recency</th>\n",
       "      <th>frequency</th>\n",
       "      <th>monetary</th>\n",
       "    </tr>\n",
       "  </thead>\n",
       "  <tbody>\n",
       "    <tr>\n",
       "      <th>0.25</th>\n",
       "      <td>101.75</td>\n",
       "      <td>2.00</td>\n",
       "      <td>66129.0075</td>\n",
       "    </tr>\n",
       "    <tr>\n",
       "      <th>0.50</th>\n",
       "      <td>181.00</td>\n",
       "      <td>3.00</td>\n",
       "      <td>85360.0000</td>\n",
       "    </tr>\n",
       "    <tr>\n",
       "      <th>0.75</th>\n",
       "      <td>243.25</td>\n",
       "      <td>3.00</td>\n",
       "      <td>115616.8825</td>\n",
       "    </tr>\n",
       "    <tr>\n",
       "      <th>0.90</th>\n",
       "      <td>385.20</td>\n",
       "      <td>4.00</td>\n",
       "      <td>142846.9580</td>\n",
       "    </tr>\n",
       "    <tr>\n",
       "      <th>0.95</th>\n",
       "      <td>448.25</td>\n",
       "      <td>4.45</td>\n",
       "      <td>164639.6515</td>\n",
       "    </tr>\n",
       "    <tr>\n",
       "      <th>0.99</th>\n",
       "      <td>482.17</td>\n",
       "      <td>16.63</td>\n",
       "      <td>660892.1819</td>\n",
       "    </tr>\n",
       "  </tbody>\n",
       "</table>\n",
       "</div>"
      ],
      "text/plain": [
       "      recency  frequency     monetary\n",
       "0.25   101.75       2.00   66129.0075\n",
       "0.50   181.00       3.00   85360.0000\n",
       "0.75   243.25       3.00  115616.8825\n",
       "0.90   385.20       4.00  142846.9580\n",
       "0.95   448.25       4.45  164639.6515\n",
       "0.99   482.17      16.63  660892.1819"
      ]
     },
     "metadata": {},
     "output_type": "display_data"
    },
    {
     "name": "stdout",
     "output_type": "stream",
     "text": [
      "RECENCY\n",
      "top 1: 482.1700000000001\n",
      "top 5: 448.25\n",
      "99th percentile is 1.08 times greater than 95th percentile\n",
      "------------------------------\n",
      "FREQUENCY\n",
      "top 1: 16.630000000000024\n",
      "top 5: 4.450000000000003\n",
      "99th percentile is 3.74 times greater than 95th percentile\n",
      "------------------------------\n",
      "MONETARY\n",
      "top 1: 660892.1819000005\n",
      "top 5: 164639.65150000007\n",
      "99th percentile is 4.01 times greater than 95th percentile\n",
      "------------------------------\n"
     ]
    }
   ],
   "source": [
    "# compare percentiles (mainly 95% and 99%)\n",
    "percentiles = rfm_df.quantile([.25,.5,.75,.9,.95,.99])\n",
    "display(percentiles)\n",
    "\n",
    "for col in rfm_cols:\n",
    "\n",
    "    # calculate top 1% and top 5%\n",
    "    top_1 = percentiles.loc[0.99, col]\n",
    "    top_5 = percentiles.loc[0.95, col]\n",
    "\n",
    "    # display\n",
    "    print(col.upper())\n",
    "    print(f'top 1: {top_1}')\n",
    "    print(f'top 5: {top_5}')\n",
    "    print(f'99th percentile is {round(top_1/top_5,2)} times greater than 95th percentile')\n",
    "    print('-'*30)"
   ]
  },
  {
   "cell_type": "code",
   "execution_count": 12,
   "metadata": {},
   "outputs": [
    {
     "data": {
      "image/png": "[encoded data removed]",
      "text/plain": [
       "<Figure size 1400x600 with 4 Axes>"
      ]
     },
     "metadata": {},
     "output_type": "display_data"
    }
   ],
   "source": [
    "# histograms\n",
    "rfm_df[rfm_cols].hist(bins=20, figsize=(14,6))\n",
    "plt.show()"
   ]
  },
  {
   "cell_type": "code",
   "execution_count": 13,
   "metadata": {},
   "outputs": [
    {
     "name": "stdout",
     "output_type": "stream",
     "text": [
      "RECENCY\n",
      "Skewness: 0.7692197491282079\n",
      "\n",
      "Mean: 189.05434782608697\n",
      "Median: 181.0\n",
      "------------------------------\n",
      "FREQUENCY\n",
      "Skewness: 6.138049494790223\n",
      "\n",
      "Mean: 3.152173913043478\n",
      "Median: 3.0\n",
      "------------------------------\n",
      "MONETARY\n",
      "Skewness: 5.392615515812862\n",
      "\n",
      "Mean: 102632.8191304348\n",
      "Median: 85360.0\n",
      "------------------------------\n"
     ]
    }
   ],
   "source": [
    "# find skewness and compare mean with median (mean > median --> right skew)\n",
    "for col in rfm_cols:\n",
    "    print(col.upper())\n",
    "    print(f'Skewness: {rfm_df[col].skew()}')\n",
    "    print(f'\\nMean: {rfm_df[col].mean()}')\n",
    "    print(f'Median: {rfm_df[col].median()}')\n",
    "    print('-'*30)"
   ]
  },
  {
   "cell_type": "markdown",
   "metadata": {},
   "source": [
    "## Check correlation"
   ]
  },
  {
   "cell_type": "markdown",
   "metadata": {},
   "source": [
    "**Analysis:** \n",
    "- <ins>Frequency & Monetary</ins> (r = 0.95) --> strong relationship where more frequent buyers spend more & vise versa\n",
    "- <ins>Frequency & Recency</ins> (r = -0.35) --> mild relationship where more frequent a buyer, the more recent their last purchase & vise versa\n",
    "- <ins>Monetary and Recency</ins> (r = -0.31) --> mild relationship where higher spending customers have purchased more recently and vise versa\n",
    "\n",
    "Overall:\n",
    "- There is multicollinearity--> recency gives independent information while frequency and monetary have high multicollinearity"
   ]
  },
  {
   "cell_type": "code",
   "execution_count": 14,
   "metadata": {},
   "outputs": [
    {
     "data": {
      "text/html": [
       "<div>\n",
       "<style scoped>\n",
       "    .dataframe tbody tr th:only-of-type {\n",
       "        vertical-align: middle;\n",
       "    }\n",
       "\n",
       "    .dataframe tbody tr th {\n",
       "        vertical-align: top;\n",
       "    }\n",
       "\n",
       "    .dataframe thead th {\n",
       "        text-align: right;\n",
       "    }\n",
       "</style>\n",
       "<table border=\"1\" class=\"dataframe\">\n",
       "  <thead>\n",
       "    <tr style=\"text-align: right;\">\n",
       "      <th></th>\n",
       "      <th>recency</th>\n",
       "      <th>frequency</th>\n",
       "      <th>monetary</th>\n",
       "    </tr>\n",
       "  </thead>\n",
       "  <tbody>\n",
       "    <tr>\n",
       "      <th>recency</th>\n",
       "      <td>1.000000</td>\n",
       "      <td>-0.347882</td>\n",
       "      <td>-0.309187</td>\n",
       "    </tr>\n",
       "    <tr>\n",
       "      <th>frequency</th>\n",
       "      <td>-0.347882</td>\n",
       "      <td>1.000000</td>\n",
       "      <td>0.953394</td>\n",
       "    </tr>\n",
       "    <tr>\n",
       "      <th>monetary</th>\n",
       "      <td>-0.309187</td>\n",
       "      <td>0.953394</td>\n",
       "      <td>1.000000</td>\n",
       "    </tr>\n",
       "  </tbody>\n",
       "</table>\n",
       "</div>"
      ],
      "text/plain": [
       "            recency  frequency  monetary\n",
       "recency    1.000000  -0.347882 -0.309187\n",
       "frequency -0.347882   1.000000  0.953394\n",
       "monetary  -0.309187   0.953394  1.000000"
      ]
     },
     "execution_count": 14,
     "metadata": {},
     "output_type": "execute_result"
    }
   ],
   "source": [
    "# check correlation matrix\n",
    "rfm_df.corr()"
   ]
  },
  {
   "cell_type": "markdown",
   "metadata": {},
   "source": [
    "## Transforming & Scaling"
   ]
  },
  {
   "cell_type": "markdown",
   "metadata": {},
   "source": [
    "### Transforming frequency & monetary"
   ]
  },
  {
   "cell_type": "code",
   "execution_count": 15,
   "metadata": {},
   "outputs": [],
   "source": [
    "# function: get quick distribution view\n",
    "def check_distribution(col, b_vs_a='before'):\n",
    "    # before or after display\n",
    "    if b_vs_a.upper() == 'BEFORE':\n",
    "        print('before transformation...')\n",
    "    else:\n",
    "        print('after transformation...')\n",
    "    \n",
    "    # check skewness\n",
    "    print(f'\\nSkewness: {col.skew()}')\n",
    "\n",
    "    # display histogram\n",
    "    col.hist(bins=20)\n",
    "    plt.show()"
   ]
  },
  {
   "cell_type": "code",
   "execution_count": 16,
   "metadata": {},
   "outputs": [
    {
     "name": "stdout",
     "output_type": "stream",
     "text": [
      "------------------------------FREQUENCY------------------------------\n",
      "before transformation...\n",
      "\n",
      "Skewness: 6.138049494790223\n"
     ]
    },
    {
     "data": {
      "image/png": "[encoded data removed]",
      "text/plain": [
       "<Figure size 640x480 with 1 Axes>"
      ]
     },
     "metadata": {},
     "output_type": "display_data"
    },
    {
     "name": "stdout",
     "output_type": "stream",
     "text": [
      "after transformation...\n",
      "\n",
      "Skewness: -0.2567243779940801\n"
     ]
    },
    {
     "data": {
      "image/png": "[encoded data removed]",
      "text/plain": [
       "<Figure size 640x480 with 1 Axes>"
      ]
     },
     "metadata": {},
     "output_type": "display_data"
    },
    {
     "name": "stdout",
     "output_type": "stream",
     "text": [
      "------------------------------MONETARY------------------------------\n",
      "before transformation...\n",
      "\n",
      "Skewness: 5.392615515812862\n"
     ]
    },
    {
     "data": {
      "image/png": "[encoded data removed]",
      "text/plain": [
       "<Figure size 640x480 with 1 Axes>"
      ]
     },
     "metadata": {},
     "output_type": "display_data"
    },
    {
     "name": "stdout",
     "output_type": "stream",
     "text": [
      "after transformation...\n",
      "\n",
      "Skewness: 0.18604987274083093\n"
     ]
    },
    {
     "data": {
      "image/png": "[encoded data removed]",
      "text/plain": [
       "<Figure size 640x480 with 1 Axes>"
      ]
     },
     "metadata": {},
     "output_type": "display_data"
    }
   ],
   "source": [
    "# set up new df\n",
    "transformed_rfm_df = rfm_df.copy()\n",
    "\n",
    "# transform columns accordingly\n",
    "transformed_rfm_df['monetary'] = np.log1p(transformed_rfm_df['monetary'])\n",
    "pt_frequency = PowerTransformer(method='box-cox', standardize=False)\n",
    "transformed_rfm_df['frequency'] = pt_frequency.fit_transform(transformed_rfm_df[['frequency']])\n",
    "\n",
    "# check og distributions vs new\n",
    "for col_name in ['frequency', 'monetary']:\n",
    "    print('-'*30 + col_name.upper() + '-'*30)\n",
    "    check_distribution(rfm_df[col_name], b_vs_a='before')\n",
    "    check_distribution(transformed_rfm_df[col_name], b_vs_a='after')"
   ]
  },
  {
   "cell_type": "markdown",
   "metadata": {},
   "source": [
    "### Scale Data"
   ]
  },
  {
   "cell_type": "markdown",
   "metadata": {},
   "source": [
    "Using RobustScaler, because it has low outlier sensitivity (ignores tails beyond IQR)"
   ]
  },
  {
   "cell_type": "code",
   "execution_count": 17,
   "metadata": {},
   "outputs": [
    {
     "data": {
      "image/png": "[encoded data removed]",
      "text/plain": [
       "<Figure size 1400x600 with 3 Axes>"
      ]
     },
     "metadata": {},
     "output_type": "display_data"
    }
   ],
   "source": [
    "# quick outliers check\n",
    "transformed_rfm_df.plot(kind='box', subplots=True, figsize=(14,6))\n",
    "plt.show()"
   ]
  },
  {
   "cell_type": "code",
   "execution_count": 22,
   "metadata": {},
   "outputs": [],
   "source": [
    "# normalize data\n",
    "scaler = RobustScaler()\n",
    "scaled_rfm = scaler.fit_transform(transformed_rfm_df)"
   ]
  },
  {
   "cell_type": "code",
   "execution_count": 24,
   "metadata": {},
   "outputs": [
    {
     "data": {
      "text/html": [
       "<div>\n",
       "<style scoped>\n",
       "    .dataframe tbody tr th:only-of-type {\n",
       "        vertical-align: middle;\n",
       "    }\n",
       "\n",
       "    .dataframe tbody tr th {\n",
       "        vertical-align: top;\n",
       "    }\n",
       "\n",
       "    .dataframe thead th {\n",
       "        text-align: right;\n",
       "    }\n",
       "</style>\n",
       "<table border=\"1\" class=\"dataframe\">\n",
       "  <thead>\n",
       "    <tr style=\"text-align: right;\">\n",
       "      <th></th>\n",
       "      <th>recency</th>\n",
       "      <th>frequency</th>\n",
       "      <th>monetary</th>\n",
       "    </tr>\n",
       "    <tr>\n",
       "      <th>customer_id</th>\n",
       "      <th></th>\n",
       "      <th></th>\n",
       "      <th></th>\n",
       "    </tr>\n",
       "  </thead>\n",
       "  <tbody>\n",
       "    <tr>\n",
       "      <th>1</th>\n",
       "      <td>0.014134</td>\n",
       "      <td>0.000000</td>\n",
       "      <td>0.590302</td>\n",
       "    </tr>\n",
       "    <tr>\n",
       "      <th>2</th>\n",
       "      <td>0.226148</td>\n",
       "      <td>-1.000000</td>\n",
       "      <td>0.288787</td>\n",
       "    </tr>\n",
       "    <tr>\n",
       "      <th>3</th>\n",
       "      <td>0.049470</td>\n",
       "      <td>0.548011</td>\n",
       "      <td>0.595074</td>\n",
       "    </tr>\n",
       "    <tr>\n",
       "      <th>4</th>\n",
       "      <td>1.837456</td>\n",
       "      <td>0.000000</td>\n",
       "      <td>0.921884</td>\n",
       "    </tr>\n",
       "    <tr>\n",
       "      <th>5</th>\n",
       "      <td>-0.346290</td>\n",
       "      <td>0.548011</td>\n",
       "      <td>0.621261</td>\n",
       "    </tr>\n",
       "  </tbody>\n",
       "</table>\n",
       "</div>"
      ],
      "text/plain": [
       "              recency  frequency  monetary\n",
       "customer_id                               \n",
       "1            0.014134   0.000000  0.590302\n",
       "2            0.226148  -1.000000  0.288787\n",
       "3            0.049470   0.548011  0.595074\n",
       "4            1.837456   0.000000  0.921884\n",
       "5           -0.346290   0.548011  0.621261"
      ]
     },
     "execution_count": 24,
     "metadata": {},
     "output_type": "execute_result"
    }
   ],
   "source": [
    "# convert to df\n",
    "scaled_rfm_df = pd.DataFrame(\n",
    "    scaled_rfm,\n",
    "    columns=rfm_cols,\n",
    "    index=rfm_df.index\n",
    ")\n",
    "\n",
    "scaled_rfm_df.head()"
   ]
  },
  {
   "cell_type": "markdown",
   "metadata": {},
   "source": [
    "# Modeling\n",
    "---"
   ]
  },
  {
   "cell_type": "markdown",
   "metadata": {},
   "source": [
    "## Find best k value (elbow plot)"
   ]
  },
  {
   "cell_type": "markdown",
   "metadata": {},
   "source": [
    "### Functions"
   ]
  },
  {
   "cell_type": "code",
   "execution_count": 37,
   "metadata": {},
   "outputs": [],
   "source": [
    "# function: elbow plot\n",
    "def get_elbow_plot(main_df):\n",
    "    # get copy of df\n",
    "    df = main_df.copy()\n",
    "\n",
    "    # get inertias for k vals\n",
    "    inertias = []\n",
    "    k_vals = list(range(1, 11))\n",
    "\n",
    "    for k in k_vals:\n",
    "        # fit k means model\n",
    "        k_model = KMeans(n_clusters=k, n_init=50, random_state=0)\n",
    "        k_model.fit(df)\n",
    "\n",
    "        # save inertia\n",
    "        inertias.append(k_model.inertia_)\n",
    "\n",
    "    # save to df\n",
    "    elbow_df = pd.DataFrame({\n",
    "        'k': k_vals, \n",
    "        'inertia': inertias\n",
    "    })\n",
    "\n",
    "    # plot\n",
    "    elbow_plot = elbow_df.hvplot.line(\n",
    "        x='k',\n",
    "        y='inertia',\n",
    "        xticks=k\n",
    "    )\n",
    "    \n",
    "    # return \n",
    "    return elbow_plot"
   ]
  },
  {
   "cell_type": "code",
   "execution_count": null,
   "metadata": {},
   "outputs": [],
   "source": [
    "# function: get best k value based on metric to do clusters and return segment labels and plot\n",
    "def get_k_means_segments(\n",
    "        data: pd.DataFrame, \n",
    "        k_values: List[int], \n",
    "        metric: Literal['silhouette', 'ch_score'] = 'silhouette', \n",
    "        x_val: str | None = None, \n",
    "        y_val: str | None = None\n",
    ") -> Tuple[pd.DataFrame, 'hvplot.core.chart.Chart']:\n",
    "    \n",
    "    '''\n",
    "    choose the best k by metric (silhouette or calinksi-harabasz), run k means, get segment labels, and return\n",
    "        - dataframe with segment labels\n",
    "        - scatter plot color coded by segment labels\n",
    "    \n",
    "    Parameters\n",
    "    ----------\n",
    "    data: scaled/transformed dataframe\n",
    "    k_values: list of potential number of segments\n",
    "    metric: use silhouette or calinksi-harabasz score to get best number of segments\n",
    "    x_val, y_val: optional features to plot in scatter plot (default select first two features in dataframe)\n",
    "    '''\n",
    "    # get copy of df\n",
    "    df = data.copy()\n",
    "\n",
    "    # check df if it has minimum 2 cols and get axis for plot\n",
    "    if x_val is None or y_val is None:\n",
    "        if df.shape[1] < 2:\n",
    "            raise ValueError(f'⚠ VALUE ERROR: DataFrame, {df}, must have at least 2 columns')\n",
    "        cols = list(df.columns)\n",
    "        x_val = x_val or cols[0]\n",
    "        y_val = y_val or cols[1]\n",
    "\n",
    "    \n",
    "    # score all k values\n",
    "    k_scores = []\n",
    "\n",
    "    for k in k_values:\n",
    "        # get scores\n",
    "        k_model = KMeans(n_clusters=k, n_init=50, random_state=0)\n",
    "        k_model.fit(df)\n",
    "        labels = k_model.labels_\n",
    "\n",
    "        # score based on metric selected\n",
    "        if metric.lower() == 'silhouette':\n",
    "            score = metrics.silhouette_score(df, labels)\n",
    "        elif metric.lower() == 'ch_score':\n",
    "            score = metrics.calinski_harabasz_score(df, labels)\n",
    "        else:\n",
    "            raise ValueError(f'⚠ VALUE ERROR: metric entered is \"{metric}\" when metric needs to be either: \\n\\tsilhouette \\n\\tch_score')\n",
    "            \n",
    "        k_scores.append({\n",
    "            'k': k,\n",
    "            'score': score\n",
    "        })\n",
    "        \n",
    "    # display best score\n",
    "    print(k_scores)\n",
    "    top_k_score = max(k_scores, key=lambda item: item.get('score'))\n",
    "    best_k, best_score = top_k_score['k'], top_k_score['score']\n",
    "    print(f'Best k value = {best_k} ({metric} score = {best_score:.3f})')\n",
    "\n",
    "    # get segments based on best k value\n",
    "    k_model = KMeans(n_clusters=best_k, n_init=50, random_state=0)\n",
    "    predictions = k_model.fit_predict(df)\n",
    "    df['predictions'] = predictions\n",
    "\n",
    "    # get scatter plot\n",
    "    scatter_plot = df.hvplot.scatter(\n",
    "        x=x_val,\n",
    "        y=y_val,\n",
    "        by='predictions'\n",
    "    )\n",
    "\n",
    "    # return df\n",
    "    return df, scatter_plot"
   ]
  },
  {
   "cell_type": "markdown",
   "metadata": {},
   "source": [
    "### Elbow plot (k = 3 or 4)"
   ]
  },
  {
   "cell_type": "code",
   "execution_count": 103,
   "metadata": {},
   "outputs": [
    {
     "data": {},
     "metadata": {},
     "output_type": "display_data"
    },
    {
     "data": {
      "application/vnd.holoviews_exec.v0+json": "",
      "text/html": [
       "<div id='a54aa49f-547c-4506-b717-50b69701bcbc'>\n",
       "  <div id=\"d346f105-d05c-47a6-91c9-53387d85f2c4\" data-root-id=\"a54aa49f-547c-4506-b717-50b69701bcbc\" style=\"display: contents;\"></div>\n",
       "</div>\n",
       "<script type=\"application/javascript\">(function(root) {\n",
       "  var docs_json = {\"1e1d864d-c437-4366-86eb-80b97a7d022c\":{\"version\":\"3.5.2\",\"title\":\"Bokeh Application\",\"roots\":[{\"type\":\"object\",\"name\":\"Row\",\"id\":\"a54aa49f-547c-4506-b717-50b69701bcbc\",\"attributes\":{\"name\":\"Row02283\",\"tags\":[\"embedded\"],\"stylesheets\":[\"\\n:host(.pn-loading):before, .pn-loading:before {\\n  background-color: #c3c3c3;\\n  mask-size: auto calc(min(50%, 400px));\\n  -webkit-mask-size: auto calc(min(50%, 400px));\\n}\",{\"type\":\"object\",\"name\":\"ImportedStyleSheet\",\"id\":\"90a95333-0e84-4bb6-8781-096d7db4cfa2\",\"attributes\":{\"url\":\"https://cdn.holoviz.org/panel/1.5.3/dist/css/loading.css\"}},{\"type\":\"object\",\"name\":\"ImportedStyleSheet\",\"id\":\"ec28c797-1cd2-4667-870e-6fc697bd7a75\",\"attributes\":{\"url\":\"https://cdn.holoviz.org/panel/1.5.3/dist/css/listpanel.css\"}},{\"type\":\"object\",\"name\":\"ImportedStyleSheet\",\"id\":\"a86dce00-f563-4e74-b164-04ed563b005c\",\"attributes\":{\"url\":\"https://cdn.holoviz.org/panel/1.5.3/dist/bundled/theme/default.css\"}},{\"type\":\"object\",\"name\":\"ImportedStyleSheet\",\"id\":\"0d5bb543-6851-4c02-aa52-f9efdcdb260d\",\"attributes\":{\"url\":\"https://cdn.holoviz.org/panel/1.5.3/dist/bundled/theme/native.css\"}}],\"min_width\":700,\"margin\":0,\"sizing_mode\":\"stretch_width\",\"align\":\"start\",\"children\":[{\"type\":\"object\",\"name\":\"Spacer\",\"id\":\"fe25d5e0-1b65-4443-8097-8d7e642abad1\",\"attributes\":{\"name\":\"HSpacer02287\",\"stylesheets\":[\"\\n:host(.pn-loading):before, .pn-loading:before {\\n  background-color: #c3c3c3;\\n  mask-size: auto calc(min(50%, 400px));\\n  -webkit-mask-size: auto calc(min(50%, 400px));\\n}\",{\"id\":\"90a95333-0e84-4bb6-8781-096d7db4cfa2\"},{\"id\":\"a86dce00-f563-4e74-b164-04ed563b005c\"},{\"id\":\"0d5bb543-6851-4c02-aa52-f9efdcdb260d\"}],\"margin\":0,\"sizing_mode\":\"stretch_width\",\"align\":\"start\"}},{\"type\":\"object\",\"name\":\"Figure\",\"id\":\"ad5196bc-dac2-4925-b7a2-daeb8065e718\",\"attributes\":{\"width\":700,\"height\":300,\"margin\":[5,10],\"sizing_mode\":\"fixed\",\"align\":\"start\",\"x_range\":{\"type\":\"object\",\"name\":\"Range1d\",\"id\":\"75ebcf0c-26f9-4d70-9d8a-636c7986d6f0\",\"attributes\":{\"name\":\"k\",\"tags\":[[[\"k\",null]],[]],\"start\":1.0,\"end\":10.0,\"reset_start\":1.0,\"reset_end\":10.0}},\"y_range\":{\"type\":\"object\",\"name\":\"Range1d\",\"id\":\"68e363ce-d47a-442d-b5b9-4dcf917e6ad8\",\"attributes\":{\"name\":\"inertia\",\"tags\":[[[\"inertia\",null]],{\"type\":\"map\",\"entries\":[[\"invert_yaxis\",false],[\"autorange\",false]]}],\"start\":4.95235956241817,\"end\":247.31239160602286,\"reset_start\":4.95235956241817,\"reset_end\":247.31239160602286}},\"x_scale\":{\"type\":\"object\",\"name\":\"LinearScale\",\"id\":\"2454a961-2a11-4150-83d7-043ef509393f\"},\"y_scale\":{\"type\":\"object\",\"name\":\"LinearScale\",\"id\":\"b15e4ab3-3127-428d-8011-61970b7b106e\"},\"title\":{\"type\":\"object\",\"name\":\"Title\",\"id\":\"3c7c7c3c-66de-4b34-9cae-ff97f1cd2163\",\"attributes\":{\"text_color\":\"black\",\"text_font_size\":\"12pt\"}},\"renderers\":[{\"type\":\"object\",\"name\":\"GlyphRenderer\",\"id\":\"b1da3eca-75af-4bef-a707-6ba76a2772eb\",\"attributes\":{\"data_source\":{\"type\":\"object\",\"name\":\"ColumnDataSource\",\"id\":\"f57c97d7-b0c7-4b43-bc4e-3c216e78a8fe\",\"attributes\":{\"selected\":{\"type\":\"object\",\"name\":\"Selection\",\"id\":\"3b0d3c50-6ccd-4abd-be2b-3b41eeeafd36\",\"attributes\":{\"indices\":[],\"line_indices\":[]}},\"selection_policy\":{\"type\":\"object\",\"name\":\"UnionRenderers\",\"id\":\"d634e4e6-f547-4cc6-9678-5e38cccdb30d\"},\"data\":{\"type\":\"map\",\"entries\":[[\"k\",{\"type\":\"ndarray\",\"array\":{\"type\":\"bytes\",\"data\":\"AQAAAAIAAAADAAAABAAAAAUAAAAGAAAABwAAAAgAAAAJAAAACgAAAA==\"},\"shape\":[10],\"dtype\":\"int32\",\"order\":\"little\"}],[\"inertia\",{\"type\":\"ndarray\",\"array\":{\"type\":\"bytes\",\"data\":\"byAw/7NjbEAbjzx6DY5gQIw6X3d7GVlAs+lRxVJSU0BQKbbySKZOQPm/KO+tA0lAc8GFRYIORUC8UpP4PGxBQAyVSA4syD1AuAQJwiYmOUA=\"},\"shape\":[10],\"dtype\":\"float64\",\"order\":\"little\"}]]}}},\"view\":{\"type\":\"object\",\"name\":\"CDSView\",\"id\":\"61410323-2163-4ebb-93c5-91001a3e78cd\",\"attributes\":{\"filter\":{\"type\":\"object\",\"name\":\"AllIndices\",\"id\":\"b30307a1-8c79-46e3-8d51-350d19ebc5a9\"}}},\"glyph\":{\"type\":\"object\",\"name\":\"Line\",\"id\":\"8664211d-8682-4f54-881d-e58b94cd286e\",\"attributes\":{\"tags\":[\"apply_ranges\"],\"x\":{\"type\":\"field\",\"field\":\"k\"},\"y\":{\"type\":\"field\",\"field\":\"inertia\"},\"line_color\":\"#30a2da\",\"line_width\":2}},\"selection_glyph\":{\"type\":\"object\",\"name\":\"Line\",\"id\":\"73c64ea1-0f60-4142-9eb0-0d539988a67c\",\"attributes\":{\"tags\":[\"apply_ranges\"],\"x\":{\"type\":\"field\",\"field\":\"k\"},\"y\":{\"type\":\"field\",\"field\":\"inertia\"},\"line_color\":\"#30a2da\",\"line_width\":2}},\"nonselection_glyph\":{\"type\":\"object\",\"name\":\"Line\",\"id\":\"e8927dcb-41c0-44f4-a85a-dd2d26629cdf\",\"attributes\":{\"tags\":[\"apply_ranges\"],\"x\":{\"type\":\"field\",\"field\":\"k\"},\"y\":{\"type\":\"field\",\"field\":\"inertia\"},\"line_color\":\"#30a2da\",\"line_alpha\":0.1,\"line_width\":2}},\"muted_glyph\":{\"type\":\"object\",\"name\":\"Line\",\"id\":\"2b005d3e-f816-4680-8389-ca95fe6078c0\",\"attributes\":{\"tags\":[\"apply_ranges\"],\"x\":{\"type\":\"field\",\"field\":\"k\"},\"y\":{\"type\":\"field\",\"field\":\"inertia\"},\"line_color\":\"#30a2da\",\"line_alpha\":0.2,\"line_width\":2}}}}],\"toolbar\":{\"type\":\"object\",\"name\":\"Toolbar\",\"id\":\"739bf75a-d0b2-467f-bb1e-baee0d123bf6\",\"attributes\":{\"tools\":[{\"type\":\"object\",\"name\":\"WheelZoomTool\",\"id\":\"250fb715-b49b-4188-b845-1381f780c01f\",\"attributes\":{\"tags\":[\"hv_created\"],\"renderers\":\"auto\",\"zoom_together\":\"none\"}},{\"type\":\"object\",\"name\":\"HoverTool\",\"id\":\"8de3bb10-3c61-49c8-b6a4-ae78c011e0c0\",\"attributes\":{\"tags\":[\"hv_created\"],\"renderers\":[{\"id\":\"b1da3eca-75af-4bef-a707-6ba76a2772eb\"}],\"tooltips\":[[\"k\",\"@{k}\"],[\"inertia\",\"@{inertia}\"]]}},{\"type\":\"object\",\"name\":\"SaveTool\",\"id\":\"4d6767f6-f9ce-4540-ac41-34083c3af4e2\"},{\"type\":\"object\",\"name\":\"PanTool\",\"id\":\"42c40330-b5b5-4ff1-a58a-6fe844dc532d\"},{\"type\":\"object\",\"name\":\"BoxZoomTool\",\"id\":\"bd93ebbb-647b-4b9a-8301-f76561422ebd\",\"attributes\":{\"overlay\":{\"type\":\"object\",\"name\":\"BoxAnnotation\",\"id\":\"2de28c87-64dd-4025-a4a7-c43babb51cee\",\"attributes\":{\"syncable\":false,\"line_color\":\"black\",\"line_alpha\":1.0,\"line_width\":2,\"line_dash\":[4,4],\"fill_color\":\"lightgrey\",\"fill_alpha\":0.5,\"level\":\"overlay\",\"visible\":false,\"left\":{\"type\":\"number\",\"value\":\"nan\"},\"right\":{\"type\":\"number\",\"value\":\"nan\"},\"top\":{\"type\":\"number\",\"value\":\"nan\"},\"bottom\":{\"type\":\"number\",\"value\":\"nan\"},\"left_units\":\"canvas\",\"right_units\":\"canvas\",\"top_units\":\"canvas\",\"bottom_units\":\"canvas\",\"handles\":{\"type\":\"object\",\"name\":\"BoxInteractionHandles\",\"id\":\"af880cd3-e496-4889-a745-95c692ba2cc3\",\"attributes\":{\"all\":{\"type\":\"object\",\"name\":\"AreaVisuals\",\"id\":\"41e2f44e-d1d7-47ea-9f71-7c127306455c\",\"attributes\":{\"fill_color\":\"white\",\"hover_fill_color\":\"lightgray\"}}}}}}}},{\"type\":\"object\",\"name\":\"ResetTool\",\"id\":\"94cfe3bc-3014-411c-8a66-30a586f328ad\"}],\"active_drag\":{\"id\":\"42c40330-b5b5-4ff1-a58a-6fe844dc532d\"},\"active_scroll\":{\"id\":\"250fb715-b49b-4188-b845-1381f780c01f\"}}},\"left\":[{\"type\":\"object\",\"name\":\"LinearAxis\",\"id\":\"02acc5d0-7f92-4396-945a-0b92ca1b8059\",\"attributes\":{\"ticker\":{\"type\":\"object\",\"name\":\"BasicTicker\",\"id\":\"763be969-c644-458e-968e-41be58a8514e\",\"attributes\":{\"mantissas\":[1,2,5]}},\"formatter\":{\"type\":\"object\",\"name\":\"BasicTickFormatter\",\"id\":\"73b0e2d2-c38e-477b-8b95-e4867c149d67\"},\"axis_label\":\"inertia\",\"major_label_policy\":{\"type\":\"object\",\"name\":\"AllLabels\",\"id\":\"142da697-6005-4fed-80a6-1f110f1ffda2\"}}}],\"below\":[{\"type\":\"object\",\"name\":\"LinearAxis\",\"id\":\"ce073d1d-84fd-418e-80d9-eb14ffebfb07\",\"attributes\":{\"ticker\":{\"type\":\"object\",\"name\":\"BasicTicker\",\"id\":\"f51d5adf-f0ab-471b-bba0-bba18486d74a\",\"attributes\":{\"desired_num_ticks\":10,\"mantissas\":[1,2,5]}},\"formatter\":{\"type\":\"object\",\"name\":\"BasicTickFormatter\",\"id\":\"72ca305a-2c4e-43ff-ac0a-9493eb443ca3\"},\"axis_label\":\"k\",\"major_label_policy\":{\"type\":\"object\",\"name\":\"AllLabels\",\"id\":\"07522531-7fa7-4ce8-beae-6185f449e86d\"}}}],\"center\":[{\"type\":\"object\",\"name\":\"Grid\",\"id\":\"3110616c-46d6-4e22-917b-7870b1458cc3\",\"attributes\":{\"axis\":{\"id\":\"ce073d1d-84fd-418e-80d9-eb14ffebfb07\"},\"grid_line_color\":null}},{\"type\":\"object\",\"name\":\"Grid\",\"id\":\"2809920b-0511-4ce2-998a-bac92ead5731\",\"attributes\":{\"dimension\":1,\"axis\":{\"id\":\"02acc5d0-7f92-4396-945a-0b92ca1b8059\"},\"grid_line_color\":null}}],\"min_border_top\":10,\"min_border_bottom\":10,\"min_border_left\":10,\"min_border_right\":10,\"output_backend\":\"webgl\"}},{\"type\":\"object\",\"name\":\"Spacer\",\"id\":\"e32052fa-477a-440b-91d3-77f20208b491\",\"attributes\":{\"name\":\"HSpacer02288\",\"stylesheets\":[\"\\n:host(.pn-loading):before, .pn-loading:before {\\n  background-color: #c3c3c3;\\n  mask-size: auto calc(min(50%, 400px));\\n  -webkit-mask-size: auto calc(min(50%, 400px));\\n}\",{\"id\":\"90a95333-0e84-4bb6-8781-096d7db4cfa2\"},{\"id\":\"a86dce00-f563-4e74-b164-04ed563b005c\"},{\"id\":\"0d5bb543-6851-4c02-aa52-f9efdcdb260d\"}],\"margin\":0,\"sizing_mode\":\"stretch_width\",\"align\":\"start\"}}]}}],\"defs\":[{\"type\":\"model\",\"name\":\"ReactiveHTML1\"},{\"type\":\"model\",\"name\":\"FlexBox1\",\"properties\":[{\"name\":\"align_content\",\"kind\":\"Any\",\"default\":\"flex-start\"},{\"name\":\"align_items\",\"kind\":\"Any\",\"default\":\"flex-start\"},{\"name\":\"flex_direction\",\"kind\":\"Any\",\"default\":\"row\"},{\"name\":\"flex_wrap\",\"kind\":\"Any\",\"default\":\"wrap\"},{\"name\":\"gap\",\"kind\":\"Any\",\"default\":\"\"},{\"name\":\"justify_content\",\"kind\":\"Any\",\"default\":\"flex-start\"}]},{\"type\":\"model\",\"name\":\"FloatPanel1\",\"properties\":[{\"name\":\"config\",\"kind\":\"Any\",\"default\":{\"type\":\"map\"}},{\"name\":\"contained\",\"kind\":\"Any\",\"default\":true},{\"name\":\"position\",\"kind\":\"Any\",\"default\":\"right-top\"},{\"name\":\"offsetx\",\"kind\":\"Any\",\"default\":null},{\"name\":\"offsety\",\"kind\":\"Any\",\"default\":null},{\"name\":\"theme\",\"kind\":\"Any\",\"default\":\"primary\"},{\"name\":\"status\",\"kind\":\"Any\",\"default\":\"normalized\"}]},{\"type\":\"model\",\"name\":\"GridStack1\",\"properties\":[{\"name\":\"mode\",\"kind\":\"Any\",\"default\":\"warn\"},{\"name\":\"ncols\",\"kind\":\"Any\",\"default\":null},{\"name\":\"nrows\",\"kind\":\"Any\",\"default\":null},{\"name\":\"allow_resize\",\"kind\":\"Any\",\"default\":true},{\"name\":\"allow_drag\",\"kind\":\"Any\",\"default\":true},{\"name\":\"state\",\"kind\":\"Any\",\"default\":[]}]},{\"type\":\"model\",\"name\":\"drag1\",\"properties\":[{\"name\":\"slider_width\",\"kind\":\"Any\",\"default\":5},{\"name\":\"slider_color\",\"kind\":\"Any\",\"default\":\"black\"},{\"name\":\"value\",\"kind\":\"Any\",\"default\":50}]},{\"type\":\"model\",\"name\":\"click1\",\"properties\":[{\"name\":\"terminal_output\",\"kind\":\"Any\",\"default\":\"\"},{\"name\":\"debug_name\",\"kind\":\"Any\",\"default\":\"\"},{\"name\":\"clears\",\"kind\":\"Any\",\"default\":0}]},{\"type\":\"model\",\"name\":\"FastWrapper1\",\"properties\":[{\"name\":\"object\",\"kind\":\"Any\",\"default\":null},{\"name\":\"style\",\"kind\":\"Any\",\"default\":null}]},{\"type\":\"model\",\"name\":\"NotificationAreaBase1\",\"properties\":[{\"name\":\"js_events\",\"kind\":\"Any\",\"default\":{\"type\":\"map\"}},{\"name\":\"position\",\"kind\":\"Any\",\"default\":\"bottom-right\"},{\"name\":\"_clear\",\"kind\":\"Any\",\"default\":0}]},{\"type\":\"model\",\"name\":\"NotificationArea1\",\"properties\":[{\"name\":\"js_events\",\"kind\":\"Any\",\"default\":{\"type\":\"map\"}},{\"name\":\"notifications\",\"kind\":\"Any\",\"default\":[]},{\"name\":\"position\",\"kind\":\"Any\",\"default\":\"bottom-right\"},{\"name\":\"_clear\",\"kind\":\"Any\",\"default\":0},{\"name\":\"types\",\"kind\":\"Any\",\"default\":[{\"type\":\"map\",\"entries\":[[\"type\",\"warning\"],[\"background\",\"#ffc107\"],[\"icon\",{\"type\":\"map\",\"entries\":[[\"className\",\"fas fa-exclamation-triangle\"],[\"tagName\",\"i\"],[\"color\",\"white\"]]}]]},{\"type\":\"map\",\"entries\":[[\"type\",\"info\"],[\"background\",\"#007bff\"],[\"icon\",{\"type\":\"map\",\"entries\":[[\"className\",\"fas fa-info-circle\"],[\"tagName\",\"i\"],[\"color\",\"white\"]]}]]}]}]},{\"type\":\"model\",\"name\":\"Notification\",\"properties\":[{\"name\":\"background\",\"kind\":\"Any\",\"default\":null},{\"name\":\"duration\",\"kind\":\"Any\",\"default\":3000},{\"name\":\"icon\",\"kind\":\"Any\",\"default\":null},{\"name\":\"message\",\"kind\":\"Any\",\"default\":\"\"},{\"name\":\"notification_type\",\"kind\":\"Any\",\"default\":null},{\"name\":\"_destroyed\",\"kind\":\"Any\",\"default\":false}]},{\"type\":\"model\",\"name\":\"TemplateActions1\",\"properties\":[{\"name\":\"open_modal\",\"kind\":\"Any\",\"default\":0},{\"name\":\"close_modal\",\"kind\":\"Any\",\"default\":0}]},{\"type\":\"model\",\"name\":\"BootstrapTemplateActions1\",\"properties\":[{\"name\":\"open_modal\",\"kind\":\"Any\",\"default\":0},{\"name\":\"close_modal\",\"kind\":\"Any\",\"default\":0}]},{\"type\":\"model\",\"name\":\"TemplateEditor1\",\"properties\":[{\"name\":\"layout\",\"kind\":\"Any\",\"default\":[]}]},{\"type\":\"model\",\"name\":\"MaterialTemplateActions1\",\"properties\":[{\"name\":\"open_modal\",\"kind\":\"Any\",\"default\":0},{\"name\":\"close_modal\",\"kind\":\"Any\",\"default\":0}]},{\"type\":\"model\",\"name\":\"ReactiveESM1\"},{\"type\":\"model\",\"name\":\"JSComponent1\"},{\"type\":\"model\",\"name\":\"ReactComponent1\"},{\"type\":\"model\",\"name\":\"AnyWidgetComponent1\"},{\"type\":\"model\",\"name\":\"request_value1\",\"properties\":[{\"name\":\"fill\",\"kind\":\"Any\",\"default\":\"none\"},{\"name\":\"_synced\",\"kind\":\"Any\",\"default\":null},{\"name\":\"_request_sync\",\"kind\":\"Any\",\"default\":0}]}]}};\n",
       "  var render_items = [{\"docid\":\"1e1d864d-c437-4366-86eb-80b97a7d022c\",\"roots\":{\"a54aa49f-547c-4506-b717-50b69701bcbc\":\"d346f105-d05c-47a6-91c9-53387d85f2c4\"},\"root_ids\":[\"a54aa49f-547c-4506-b717-50b69701bcbc\"]}];\n",
       "  var docs = Object.values(docs_json)\n",
       "  if (!docs) {\n",
       "    return\n",
       "  }\n",
       "  const py_version = docs[0].version.replace('rc', '-rc.').replace('.dev', '-dev.')\n",
       "  async function embed_document(root) {\n",
       "    var Bokeh = get_bokeh(root)\n",
       "    await Bokeh.embed.embed_items_notebook(docs_json, render_items);\n",
       "    for (const render_item of render_items) {\n",
       "      for (const root_id of render_item.root_ids) {\n",
       "\tconst id_el = document.getElementById(root_id)\n",
       "\tif (id_el.children.length && id_el.children[0].hasAttribute('data-root-id')) {\n",
       "\t  const root_el = id_el.children[0]\n",
       "\t  root_el.id = root_el.id + '-rendered'\n",
       "\t  for (const child of root_el.children) {\n",
       "            // Ensure JupyterLab does not capture keyboard shortcuts\n",
       "            // see: https://jupyterlab.readthedocs.io/en/4.1.x/extension/notebook.html#keyboard-interaction-model\n",
       "\t    child.setAttribute('data-lm-suppress-shortcuts', 'true')\n",
       "\t  }\n",
       "\t}\n",
       "      }\n",
       "    }\n",
       "  }\n",
       "  function get_bokeh(root) {\n",
       "    if (root.Bokeh === undefined) {\n",
       "      return null\n",
       "    } else if (root.Bokeh.version !== py_version) {\n",
       "      if (root.Bokeh.versions === undefined || !root.Bokeh.versions.has(py_version)) {\n",
       "\treturn null\n",
       "      }\n",
       "      return root.Bokeh.versions.get(py_version);\n",
       "    } else if (root.Bokeh.version === py_version) {\n",
       "      return root.Bokeh\n",
       "    }\n",
       "    return null\n",
       "  }\n",
       "  function is_loaded(root) {\n",
       "    var Bokeh = get_bokeh(root)\n",
       "    return (Bokeh != null && Bokeh.Panel !== undefined)\n",
       "  }\n",
       "  if (is_loaded(root)) {\n",
       "    embed_document(root);\n",
       "  } else {\n",
       "    var attempts = 0;\n",
       "    var timer = setInterval(function(root) {\n",
       "      if (is_loaded(root)) {\n",
       "        clearInterval(timer);\n",
       "        embed_document(root);\n",
       "      } else if (document.readyState == \"complete\") {\n",
       "        attempts++;\n",
       "        if (attempts > 200) {\n",
       "          clearInterval(timer);\n",
       "\t  var Bokeh = get_bokeh(root)\n",
       "\t  if (Bokeh == null || Bokeh.Panel == null) {\n",
       "            console.warn(\"Panel: ERROR: Unable to run Panel code because Bokeh or Panel library is missing\");\n",
       "\t  } else {\n",
       "\t    console.warn(\"Panel: WARNING: Attempting to render but not all required libraries could be resolved.\")\n",
       "\t    embed_document(root)\n",
       "\t  }\n",
       "        }\n",
       "      }\n",
       "    }, 25, root)\n",
       "  }\n",
       "})(window);</script>"
      ],
      "text/plain": [
       ":Curve   [k]   (inertia)"
      ]
     },
     "execution_count": 103,
     "metadata": {
      "application/vnd.holoviews_exec.v0+json": {
       "id": "a54aa49f-547c-4506-b717-50b69701bcbc"
      }
     },
     "output_type": "execute_result"
    }
   ],
   "source": [
    "# see it's k = 3 or 4\n",
    "get_elbow_plot(scaled_rfm_df)"
   ]
  },
  {
   "cell_type": "markdown",
   "metadata": {},
   "source": [
    "### K means modeling (deciding best number of cluster from highest score)"
   ]
  },
  {
   "cell_type": "code",
   "execution_count": 109,
   "metadata": {},
   "outputs": [
    {
     "name": "stdout",
     "output_type": "stream",
     "text": [
      "[{'k': 2, 'score': 0.40910663221363913}, {'k': 3, 'score': 0.43389384683890814}, {'k': 4, 'score': 0.44591393776542587}, {'k': 5, 'score': 0.4247488669907489}]\n",
      "Best k value = 4 (silhouette score = 0.446)\n"
     ]
    },
    {
     "data": {},
     "metadata": {},
     "output_type": "display_data"
    },
    {
     "data": {
      "application/vnd.holoviews_exec.v0+json": "",
      "text/html": [
       "<div id='01c2aa71-f1ee-43f6-98d1-d0e6ecec43fe'>\n",
       "  <div id=\"f39bcaad-54cf-44dd-a4ca-e033eeab8639\" data-root-id=\"01c2aa71-f1ee-43f6-98d1-d0e6ecec43fe\" style=\"display: contents;\"></div>\n",
       "</div>\n",
       "<script type=\"application/javascript\">(function(root) {\n",
       "  var docs_json = {\"96c269af-fa02-4f7e-870c-8760f116dee6\":{\"version\":\"3.5.2\",\"title\":\"Bokeh Application\",\"roots\":[{\"type\":\"object\",\"name\":\"Row\",\"id\":\"01c2aa71-f1ee-43f6-98d1-d0e6ecec43fe\",\"attributes\":{\"name\":\"Row02591\",\"tags\":[\"embedded\"],\"stylesheets\":[\"\\n:host(.pn-loading):before, .pn-loading:before {\\n  background-color: #c3c3c3;\\n  mask-size: auto calc(min(50%, 400px));\\n  -webkit-mask-size: auto calc(min(50%, 400px));\\n}\",{\"type\":\"object\",\"name\":\"ImportedStyleSheet\",\"id\":\"069caf96-29ba-48f4-8ff7-be41819dd7fa\",\"attributes\":{\"url\":\"https://cdn.holoviz.org/panel/1.5.3/dist/css/loading.css\"}},{\"type\":\"object\",\"name\":\"ImportedStyleSheet\",\"id\":\"077489a1-1107-486f-8c5c-3062cbf681ca\",\"attributes\":{\"url\":\"https://cdn.holoviz.org/panel/1.5.3/dist/css/listpanel.css\"}},{\"type\":\"object\",\"name\":\"ImportedStyleSheet\",\"id\":\"a6d06278-7e2a-4ae2-bb4c-be78a0010460\",\"attributes\":{\"url\":\"https://cdn.holoviz.org/panel/1.5.3/dist/bundled/theme/default.css\"}},{\"type\":\"object\",\"name\":\"ImportedStyleSheet\",\"id\":\"c095c361-9660-489f-9abf-b2b1abc6eaf7\",\"attributes\":{\"url\":\"https://cdn.holoviz.org/panel/1.5.3/dist/bundled/theme/native.css\"}}],\"min_width\":700,\"margin\":0,\"sizing_mode\":\"stretch_width\",\"align\":\"start\",\"children\":[{\"type\":\"object\",\"name\":\"Spacer\",\"id\":\"99543ee4-4621-4ce1-b17a-5a7cee8e6f36\",\"attributes\":{\"name\":\"HSpacer02595\",\"stylesheets\":[\"\\n:host(.pn-loading):before, .pn-loading:before {\\n  background-color: #c3c3c3;\\n  mask-size: auto calc(min(50%, 400px));\\n  -webkit-mask-size: auto calc(min(50%, 400px));\\n}\",{\"id\":\"069caf96-29ba-48f4-8ff7-be41819dd7fa\"},{\"id\":\"a6d06278-7e2a-4ae2-bb4c-be78a0010460\"},{\"id\":\"c095c361-9660-489f-9abf-b2b1abc6eaf7\"}],\"margin\":0,\"sizing_mode\":\"stretch_width\",\"align\":\"start\"}},{\"type\":\"object\",\"name\":\"Figure\",\"id\":\"c14ff134-43d6-4af8-a1c7-026f6863a221\",\"attributes\":{\"width\":700,\"height\":300,\"margin\":[5,10],\"sizing_mode\":\"fixed\",\"align\":\"start\",\"x_range\":{\"type\":\"object\",\"name\":\"Range1d\",\"id\":\"262c704d-a5f1-4777-a40a-ca8aba7811d1\",\"attributes\":{\"name\":\"recency\",\"tags\":[[[\"recency\",null]],[]],\"start\":-1.4287733467945483,\"end\":2.361635537607269,\"reset_start\":-1.4287733467945483,\"reset_end\":2.361635537607269}},\"y_range\":{\"type\":\"object\",\"name\":\"Range1d\",\"id\":\"1d2c90e6-6988-44b5-a9de-ecbaf5163599\",\"attributes\":{\"name\":\"monetary\",\"tags\":[[[\"monetary\",null]],{\"type\":\"map\",\"entries\":[[\"invert_yaxis\",false],[\"autorange\",false]]}],\"start\":-4.800160580109285,\"end\":4.794051018215261,\"reset_start\":-4.800160580109285,\"reset_end\":4.794051018215261}},\"x_scale\":{\"type\":\"object\",\"name\":\"LinearScale\",\"id\":\"3e99297f-5cf3-4e84-be14-2c89446476ec\"},\"y_scale\":{\"type\":\"object\",\"name\":\"LinearScale\",\"id\":\"1cd7c6fe-a41b-4b9c-8afe-d93d79957ac6\"},\"title\":{\"type\":\"object\",\"name\":\"Title\",\"id\":\"bda60e68-f69b-4926-9d26-b7875af05d52\",\"attributes\":{\"text_color\":\"black\",\"text_font_size\":\"12pt\"}},\"renderers\":[{\"type\":\"object\",\"name\":\"GlyphRenderer\",\"id\":\"f3b8326a-59b4-4997-8215-61342ab2cfcd\",\"attributes\":{\"name\":\"1\",\"data_source\":{\"type\":\"object\",\"name\":\"ColumnDataSource\",\"id\":\"59160539-3d02-4cb1-a0ba-39a736493962\",\"attributes\":{\"selected\":{\"type\":\"object\",\"name\":\"Selection\",\"id\":\"a9a92234-28f5-4538-9005-9cccec425aaf\",\"attributes\":{\"indices\":[],\"line_indices\":[]}},\"selection_policy\":{\"type\":\"object\",\"name\":\"UnionRenderers\",\"id\":\"5b9d5213-a585-455e-a101-6038db849e22\"},\"data\":{\"type\":\"map\",\"entries\":[[\"recency\",{\"type\":\"ndarray\",\"array\":{\"type\":\"bytes\",\"data\":\"xr9EXG7yjD/NJ7yQIFSpP9SipH6cKda/xr9EXG7yvL9Au6ORDePvv80nvJAgVLm/0siG8S8R179DglBlsIfuv5pi6doKHPO/2h2NbBj/4r/R2/eq+YS3P9z3qvmEF6I/1Y8zxdK1tb/d5DlAu6Pxv9O1FThmnda/0O5oZMP457/NJ7yQIFTpvwAAAAAAAAAAzSe8kCBUqb/TtRU4Zp3Wv9++V80nvPC/0O5oZMP457/Kc4B2RyPrv9WPM8XStbU/l5s8B2h39L/UoqR+nCnmv8pzgHZHI7s/TbF0bQWO6b/VjzPF0rW1P8a/RFxu8rw/xr9EXG7yfD/Kc4B2RyPLv9WPM8XStbW/m094IUGo8r/NJ7yQIFTZv9WPM8XStbU/1Y8zxdK1lb/d5DlAu6Phv15IEKoM9uC/Wbq2Ases87/Gv0RcbvLcv8a/RFxu8py/xr9EXG7yfL9gIi43eQ7wvwAAAAAAAAAAnCmWrq3A8b9RZbCH3r7nv11bgWPWaeG/XkgQqgz24D/CCwlClcG+v0VcbvIcoO2/RG/fq+YT7r8=\"},\"shape\":[52],\"dtype\":\"float64\",\"order\":\"little\"}],[\"monetary\",{\"type\":\"ndarray\",\"array\":{\"type\":\"bytes\",\"data\":\"iIf9acHj4j9w1BVH2QrjP5CgK/5d4eM/nq5xg10gsj8RZiuc9A7EPzURYy1dDvg/hy0CQ5jz2z8JXipk8orUP/TgtU4lSNQ/imrM+vpX3j8Ldte6adToP2OUXzdxfus/bgpcxhpxrL/gJmrimMbjP3wxpoX1jOA/a5ngoGvk0D+mGEZik+XwP0KYI3XRmPE/qquQsBVzw7/N57O7DNbNvzzBmHYmNbu/a4ro004ucD+mcWs0rPzCvwZxRCHXV6w/9DL9z/sa8D8lB9RAFh/wPxs0f1lTjeE/xuBG8YQY7L+9mOjTTi5wvwDhbTf8zOM/AJBTWX0gxj/awP55jYXaP/Hs6+4uhvg/3gjvU50K0L8DWjS41D3XPx1yqMZ83OE/1tYOSCXEzT+uetlHvNHqP3hMrRYOCNc/vapA4Qlk7T8VmASlOcO0v5ls4xMgQsW/I8X12iE/z78jphlWIrjav5T44rJhMKK/RGieLHRR4T8Dz/zTLzr0P+w+y4H2suS/jp7rBpK+3j9SNrzYKdXmvyO9V1E97dW/uDv6849F6j8=\"},\"shape\":[52],\"dtype\":\"float64\",\"order\":\"little\"}],[\"predictions\",[1,1,1,1,1,1,1,1,1,1,1,1,1,1,1,1,1,1,1,1,1,1,1,1,1,1,1,1,1,1,1,1,1,1,1,1,1,1,1,1,1,1,1,1,1,1,1,1,1,1,1,1]]]}}},\"view\":{\"type\":\"object\",\"name\":\"CDSView\",\"id\":\"785d5e72-5f71-4d01-86bd-df4689d6e5ce\",\"attributes\":{\"filter\":{\"type\":\"object\",\"name\":\"AllIndices\",\"id\":\"3fd7dac1-f944-46b9-9b2e-59a24bf7c1e1\"}}},\"glyph\":{\"type\":\"object\",\"name\":\"Scatter\",\"id\":\"b7edf162-8a65-4a14-93d0-3abc70426257\",\"attributes\":{\"tags\":[\"apply_ranges\"],\"x\":{\"type\":\"field\",\"field\":\"recency\"},\"y\":{\"type\":\"field\",\"field\":\"monetary\"},\"size\":{\"type\":\"value\",\"value\":5.477225575051661},\"line_color\":{\"type\":\"value\",\"value\":\"#30a2da\"},\"fill_color\":{\"type\":\"value\",\"value\":\"#30a2da\"},\"hatch_color\":{\"type\":\"value\",\"value\":\"#30a2da\"}}},\"selection_glyph\":{\"type\":\"object\",\"name\":\"Scatter\",\"id\":\"0afd3f34-e5ac-479b-8278-842c30c062fa\",\"attributes\":{\"tags\":[\"apply_ranges\"],\"x\":{\"type\":\"field\",\"field\":\"recency\"},\"y\":{\"type\":\"field\",\"field\":\"monetary\"},\"size\":{\"type\":\"value\",\"value\":5.477225575051661},\"angle\":{\"type\":\"value\",\"value\":0.0},\"line_color\":{\"type\":\"value\",\"value\":\"#30a2da\"},\"line_alpha\":{\"type\":\"value\",\"value\":1.0},\"line_width\":{\"type\":\"value\",\"value\":1},\"line_join\":{\"type\":\"value\",\"value\":\"bevel\"},\"line_cap\":{\"type\":\"value\",\"value\":\"butt\"},\"line_dash\":{\"type\":\"value\",\"value\":[]},\"line_dash_offset\":{\"type\":\"value\",\"value\":0},\"fill_color\":{\"type\":\"value\",\"value\":\"#30a2da\"},\"fill_alpha\":{\"type\":\"value\",\"value\":1.0},\"hatch_color\":{\"type\":\"value\",\"value\":\"#30a2da\"},\"hatch_alpha\":{\"type\":\"value\",\"value\":1.0},\"hatch_scale\":{\"type\":\"value\",\"value\":12.0},\"hatch_pattern\":{\"type\":\"value\",\"value\":null},\"hatch_weight\":{\"type\":\"value\",\"value\":1.0},\"marker\":{\"type\":\"value\",\"value\":\"circle\"}}},\"nonselection_glyph\":{\"type\":\"object\",\"name\":\"Scatter\",\"id\":\"c1f50d5a-b3c6-4f06-901b-4141e951e4a9\",\"attributes\":{\"tags\":[\"apply_ranges\"],\"x\":{\"type\":\"field\",\"field\":\"recency\"},\"y\":{\"type\":\"field\",\"field\":\"monetary\"},\"size\":{\"type\":\"value\",\"value\":5.477225575051661},\"line_color\":{\"type\":\"value\",\"value\":\"#30a2da\"},\"line_alpha\":{\"type\":\"value\",\"value\":0.1},\"fill_color\":{\"type\":\"value\",\"value\":\"#30a2da\"},\"fill_alpha\":{\"type\":\"value\",\"value\":0.1},\"hatch_color\":{\"type\":\"value\",\"value\":\"#30a2da\"},\"hatch_alpha\":{\"type\":\"value\",\"value\":0.1}}},\"muted_glyph\":{\"type\":\"object\",\"name\":\"Scatter\",\"id\":\"511fc7c8-14d4-49a8-89d1-2490892f3f12\",\"attributes\":{\"tags\":[\"apply_ranges\"],\"x\":{\"type\":\"field\",\"field\":\"recency\"},\"y\":{\"type\":\"field\",\"field\":\"monetary\"},\"size\":{\"type\":\"value\",\"value\":5.477225575051661},\"line_color\":{\"type\":\"value\",\"value\":\"#30a2da\"},\"line_alpha\":{\"type\":\"value\",\"value\":0.2},\"fill_color\":{\"type\":\"value\",\"value\":\"#30a2da\"},\"fill_alpha\":{\"type\":\"value\",\"value\":0.2},\"hatch_color\":{\"type\":\"value\",\"value\":\"#30a2da\"},\"hatch_alpha\":{\"type\":\"value\",\"value\":0.2}}}}},{\"type\":\"object\",\"name\":\"GlyphRenderer\",\"id\":\"cc623f0b-abfc-4412-8115-f929d4ec69ae\",\"attributes\":{\"name\":\"0\",\"data_source\":{\"type\":\"object\",\"name\":\"ColumnDataSource\",\"id\":\"16b254aa-9dc5-4812-9c6a-0d5c7388cad4\",\"attributes\":{\"selected\":{\"type\":\"object\",\"name\":\"Selection\",\"id\":\"7eee201f-53ef-4039-ba0b-b5b89b1d8b52\",\"attributes\":{\"indices\":[],\"line_indices\":[]}},\"selection_policy\":{\"type\":\"object\",\"name\":\"UnionRenderers\",\"id\":\"4f7dc520-91da-45cc-a099-a5b4977c6119\"},\"data\":{\"type\":\"map\",\"entries\":[[\"recency\",{\"type\":\"ndarray\",\"array\":{\"type\":\"bytes\",\"data\":\"xr9EXG7yzD/F0rUVOGb9P9odjWwY/9I/T4uS+nGm+D/YQ2/fq+bjP1jNJ7yQIOQ/SurHmWLp6j+U1I8zxdL1P5PnAO2ORvY/XG7yHKDd4T/CCwlClcHOP79XzSe8kABACUKVwR56+z/CHnr7XjXvP8Ex67Qoqc8/xr9EXG7yvD/R2/eq+YTHP8TlJs8B2s0/hCqDPfT2/T/CHnr7XjXfPxcl9eNMsfQ/PQdodzSyAUBeSBCqDPYAQMiZYunaCtw/gHZHIxvG/z/CCwlClcHeP9Hb96r5hMc/kg3jXyIu9z/fvlfNJ7zQP8es06Kkftw/Q4JQZbCH/j8=\"},\"shape\":[31],\"dtype\":\"float64\",\"order\":\"little\"}],[\"monetary\",{\"type\":\"ndarray\",\"array\":{\"type\":\"bytes\",\"data\":\"PaNDpn170j/kOyKDEoDtP1HnexU+dum/l1bZkvG12r9vNQu2nRbBv7IOYfZRws6/ePSM/4V+3L/x2H870Zf4v4L5mMZvX8C/Q4S6lvJn4j/Hjy9PhuDavxZia+6opvG/YUc7yxwL778uZTsBV2PuvwEuqI9dm9U/OCZ1liLzw7+jX9LgkOnMv44N2IqV1HA/SddqHlOUpj9CF6YWyl/GP6rsehkNKvi/+1tExL508L/y1cUJL7X4vys90fdoX+a/kYzx0dZh7r9hYiBD3u3mv5B3OY/Yz9I/pEI/6CpT1b+SSKRCDoHfv0f6227YiPm/zZST+8tI2L8=\"},\"shape\":[31],\"dtype\":\"float64\",\"order\":\"little\"}],[\"predictions\",[0,0,0,0,0,0,0,0,0,0,0,0,0,0,0,0,0,0,0,0,0,0,0,0,0,0,0,0,0,0,0]]]}}},\"view\":{\"type\":\"object\",\"name\":\"CDSView\",\"id\":\"5222b339-e51e-45f5-8619-fc3f7a7e7db0\",\"attributes\":{\"filter\":{\"type\":\"object\",\"name\":\"AllIndices\",\"id\":\"c6c97ace-fab6-4d63-bd7a-c0ed5139621a\"}}},\"glyph\":{\"type\":\"object\",\"name\":\"Scatter\",\"id\":\"feb82171-18d1-433e-bcbe-54ab756d909b\",\"attributes\":{\"tags\":[\"apply_ranges\"],\"x\":{\"type\":\"field\",\"field\":\"recency\"},\"y\":{\"type\":\"field\",\"field\":\"monetary\"},\"size\":{\"type\":\"value\",\"value\":5.477225575051661},\"line_color\":{\"type\":\"value\",\"value\":\"#fc4f30\"},\"fill_color\":{\"type\":\"value\",\"value\":\"#fc4f30\"},\"hatch_color\":{\"type\":\"value\",\"value\":\"#fc4f30\"}}},\"selection_glyph\":{\"type\":\"object\",\"name\":\"Scatter\",\"id\":\"d337a595-9e36-42ec-a00e-dfb917edd802\",\"attributes\":{\"tags\":[\"apply_ranges\"],\"x\":{\"type\":\"field\",\"field\":\"recency\"},\"y\":{\"type\":\"field\",\"field\":\"monetary\"},\"size\":{\"type\":\"value\",\"value\":5.477225575051661},\"angle\":{\"type\":\"value\",\"value\":0.0},\"line_color\":{\"type\":\"value\",\"value\":\"#fc4f30\"},\"line_alpha\":{\"type\":\"value\",\"value\":1.0},\"line_width\":{\"type\":\"value\",\"value\":1},\"line_join\":{\"type\":\"value\",\"value\":\"bevel\"},\"line_cap\":{\"type\":\"value\",\"value\":\"butt\"},\"line_dash\":{\"type\":\"value\",\"value\":[]},\"line_dash_offset\":{\"type\":\"value\",\"value\":0},\"fill_color\":{\"type\":\"value\",\"value\":\"#fc4f30\"},\"fill_alpha\":{\"type\":\"value\",\"value\":1.0},\"hatch_color\":{\"type\":\"value\",\"value\":\"#fc4f30\"},\"hatch_alpha\":{\"type\":\"value\",\"value\":1.0},\"hatch_scale\":{\"type\":\"value\",\"value\":12.0},\"hatch_pattern\":{\"type\":\"value\",\"value\":null},\"hatch_weight\":{\"type\":\"value\",\"value\":1.0},\"marker\":{\"type\":\"value\",\"value\":\"circle\"}}},\"nonselection_glyph\":{\"type\":\"object\",\"name\":\"Scatter\",\"id\":\"4914c56c-f666-4ef9-948e-2b8f6f5f30b3\",\"attributes\":{\"tags\":[\"apply_ranges\"],\"x\":{\"type\":\"field\",\"field\":\"recency\"},\"y\":{\"type\":\"field\",\"field\":\"monetary\"},\"size\":{\"type\":\"value\",\"value\":5.477225575051661},\"line_color\":{\"type\":\"value\",\"value\":\"#fc4f30\"},\"line_alpha\":{\"type\":\"value\",\"value\":0.1},\"fill_color\":{\"type\":\"value\",\"value\":\"#fc4f30\"},\"fill_alpha\":{\"type\":\"value\",\"value\":0.1},\"hatch_color\":{\"type\":\"value\",\"value\":\"#fc4f30\"},\"hatch_alpha\":{\"type\":\"value\",\"value\":0.1}}},\"muted_glyph\":{\"type\":\"object\",\"name\":\"Scatter\",\"id\":\"97834bf0-8f8f-4905-8602-acb5957d613c\",\"attributes\":{\"tags\":[\"apply_ranges\"],\"x\":{\"type\":\"field\",\"field\":\"recency\"},\"y\":{\"type\":\"field\",\"field\":\"monetary\"},\"size\":{\"type\":\"value\",\"value\":5.477225575051661},\"line_color\":{\"type\":\"value\",\"value\":\"#fc4f30\"},\"line_alpha\":{\"type\":\"value\",\"value\":0.2},\"fill_color\":{\"type\":\"value\",\"value\":\"#fc4f30\"},\"fill_alpha\":{\"type\":\"value\",\"value\":0.2},\"hatch_color\":{\"type\":\"value\",\"value\":\"#fc4f30\"},\"hatch_alpha\":{\"type\":\"value\",\"value\":0.2}}}}},{\"type\":\"object\",\"name\":\"GlyphRenderer\",\"id\":\"09462519-cf27-4b34-ae88-9b43be6c61d8\",\"attributes\":{\"name\":\"3\",\"data_source\":{\"type\":\"object\",\"name\":\"ColumnDataSource\",\"id\":\"07c77f33-9671-4c65-9e81-6864e7bdc730\",\"attributes\":{\"selected\":{\"type\":\"object\",\"name\":\"Selection\",\"id\":\"484162d9-f277-4ccb-88e3-de4df6d732cb\",\"attributes\":{\"indices\":[],\"line_indices\":[]}},\"selection_policy\":{\"type\":\"object\",\"name\":\"UnionRenderers\",\"id\":\"939aa4eb-f3bd-4d0f-acbf-e0fcaa3c8985\"},\"data\":{\"type\":\"map\",\"entries\":[[\"recency\",{\"type\":\"ndarray\",\"array\":{\"type\":\"bytes\",\"data\":\"xr9EXG7yrD/NJ7yQIFS5P8ILCUKVwd4/xr9EXG7yvL9alNSPM8Xiv88B2h2NbNi/xr9EXG7yrL8=\"},\"shape\":[7],\"dtype\":\"float64\",\"order\":\"little\"}],[\"monetary\",{\"type\":\"ndarray\",\"array\":{\"type\":\"bytes\",\"data\":\"wLgbgLQ2778P03TYyRb7v4rsae8Envm/JOmzxVzCAMDc5m+LqAAQwOdJkmfL1fq/Boi8Uk8PAsA=\"},\"shape\":[7],\"dtype\":\"float64\",\"order\":\"little\"}],[\"predictions\",[3,3,3,3,3,3,3]]]}}},\"view\":{\"type\":\"object\",\"name\":\"CDSView\",\"id\":\"471a437c-60b5-4066-9772-6afab396480c\",\"attributes\":{\"filter\":{\"type\":\"object\",\"name\":\"AllIndices\",\"id\":\"9bdb026e-51b1-4379-88fa-af4adf4e18f9\"}}},\"glyph\":{\"type\":\"object\",\"name\":\"Scatter\",\"id\":\"3d4d11c2-c14d-474a-8890-36aaa1a5004b\",\"attributes\":{\"tags\":[\"apply_ranges\"],\"x\":{\"type\":\"field\",\"field\":\"recency\"},\"y\":{\"type\":\"field\",\"field\":\"monetary\"},\"size\":{\"type\":\"value\",\"value\":5.477225575051661},\"line_color\":{\"type\":\"value\",\"value\":\"#e5ae38\"},\"fill_color\":{\"type\":\"value\",\"value\":\"#e5ae38\"},\"hatch_color\":{\"type\":\"value\",\"value\":\"#e5ae38\"}}},\"selection_glyph\":{\"type\":\"object\",\"name\":\"Scatter\",\"id\":\"595f3c97-1f32-44d0-b9ed-08abbbd83598\",\"attributes\":{\"tags\":[\"apply_ranges\"],\"x\":{\"type\":\"field\",\"field\":\"recency\"},\"y\":{\"type\":\"field\",\"field\":\"monetary\"},\"size\":{\"type\":\"value\",\"value\":5.477225575051661},\"angle\":{\"type\":\"value\",\"value\":0.0},\"line_color\":{\"type\":\"value\",\"value\":\"#e5ae38\"},\"line_alpha\":{\"type\":\"value\",\"value\":1.0},\"line_width\":{\"type\":\"value\",\"value\":1},\"line_join\":{\"type\":\"value\",\"value\":\"bevel\"},\"line_cap\":{\"type\":\"value\",\"value\":\"butt\"},\"line_dash\":{\"type\":\"value\",\"value\":[]},\"line_dash_offset\":{\"type\":\"value\",\"value\":0},\"fill_color\":{\"type\":\"value\",\"value\":\"#e5ae38\"},\"fill_alpha\":{\"type\":\"value\",\"value\":1.0},\"hatch_color\":{\"type\":\"value\",\"value\":\"#e5ae38\"},\"hatch_alpha\":{\"type\":\"value\",\"value\":1.0},\"hatch_scale\":{\"type\":\"value\",\"value\":12.0},\"hatch_pattern\":{\"type\":\"value\",\"value\":null},\"hatch_weight\":{\"type\":\"value\",\"value\":1.0},\"marker\":{\"type\":\"value\",\"value\":\"circle\"}}},\"nonselection_glyph\":{\"type\":\"object\",\"name\":\"Scatter\",\"id\":\"8f2141ca-defc-4ac9-b52d-78b613a992bd\",\"attributes\":{\"tags\":[\"apply_ranges\"],\"x\":{\"type\":\"field\",\"field\":\"recency\"},\"y\":{\"type\":\"field\",\"field\":\"monetary\"},\"size\":{\"type\":\"value\",\"value\":5.477225575051661},\"line_color\":{\"type\":\"value\",\"value\":\"#e5ae38\"},\"line_alpha\":{\"type\":\"value\",\"value\":0.1},\"fill_color\":{\"type\":\"value\",\"value\":\"#e5ae38\"},\"fill_alpha\":{\"type\":\"value\",\"value\":0.1},\"hatch_color\":{\"type\":\"value\",\"value\":\"#e5ae38\"},\"hatch_alpha\":{\"type\":\"value\",\"value\":0.1}}},\"muted_glyph\":{\"type\":\"object\",\"name\":\"Scatter\",\"id\":\"8005f186-6a60-406a-b795-b7b5c488a07b\",\"attributes\":{\"tags\":[\"apply_ranges\"],\"x\":{\"type\":\"field\",\"field\":\"recency\"},\"y\":{\"type\":\"field\",\"field\":\"monetary\"},\"size\":{\"type\":\"value\",\"value\":5.477225575051661},\"line_color\":{\"type\":\"value\",\"value\":\"#e5ae38\"},\"line_alpha\":{\"type\":\"value\",\"value\":0.2},\"fill_color\":{\"type\":\"value\",\"value\":\"#e5ae38\"},\"fill_alpha\":{\"type\":\"value\",\"value\":0.2},\"hatch_color\":{\"type\":\"value\",\"value\":\"#e5ae38\"},\"hatch_alpha\":{\"type\":\"value\",\"value\":0.2}}}}},{\"type\":\"object\",\"name\":\"GlyphRenderer\",\"id\":\"3b37dba3-f0cf-4e8d-ac5b-ce26b97cbc1c\",\"attributes\":{\"name\":\"2\",\"data_source\":{\"type\":\"object\",\"name\":\"ColumnDataSource\",\"id\":\"876ecee2-6a3d-4cff-af07-062ee840b454\",\"attributes\":{\"selected\":{\"type\":\"object\",\"name\":\"Selection\",\"id\":\"e527b9d0-2cb7-4fbd-865e-3fd7a4a12b16\",\"attributes\":{\"indices\":[],\"line_indices\":[]}},\"selection_policy\":{\"type\":\"object\",\"name\":\"UnionRenderers\",\"id\":\"7c568bcd-e9bb-4586-9720-16a7f442b1f1\"},\"data\":{\"type\":\"map\",\"entries\":[[\"recency\",{\"type\":\"ndarray\",\"array\":{\"type\":\"bytes\",\"data\":\"Gtkw/iXi8r/HrNOipH7svw==\"},\"shape\":[2],\"dtype\":\"float64\",\"order\":\"little\"}],[\"monetary\",{\"type\":\"ndarray\",\"array\":{\"type\":\"bytes\",\"data\":\"8pRb6830D0APY88SmgMNQA==\"},\"shape\":[2],\"dtype\":\"float64\",\"order\":\"little\"}],[\"predictions\",[2,2]]]}}},\"view\":{\"type\":\"object\",\"name\":\"CDSView\",\"id\":\"60823be8-c8af-4b6b-aa63-470778cd94b8\",\"attributes\":{\"filter\":{\"type\":\"object\",\"name\":\"AllIndices\",\"id\":\"c0e8ec26-aaeb-4190-83dd-823d79c8a618\"}}},\"glyph\":{\"type\":\"object\",\"name\":\"Scatter\",\"id\":\"94bdc786-21ad-41b5-a174-9cdd42f2d21e\",\"attributes\":{\"tags\":[\"apply_ranges\"],\"x\":{\"type\":\"field\",\"field\":\"recency\"},\"y\":{\"type\":\"field\",\"field\":\"monetary\"},\"size\":{\"type\":\"value\",\"value\":5.477225575051661},\"line_color\":{\"type\":\"value\",\"value\":\"#6d904f\"},\"fill_color\":{\"type\":\"value\",\"value\":\"#6d904f\"},\"hatch_color\":{\"type\":\"value\",\"value\":\"#6d904f\"}}},\"selection_glyph\":{\"type\":\"object\",\"name\":\"Scatter\",\"id\":\"68b17e82-0059-4249-9f4d-affe061d32d2\",\"attributes\":{\"tags\":[\"apply_ranges\"],\"x\":{\"type\":\"field\",\"field\":\"recency\"},\"y\":{\"type\":\"field\",\"field\":\"monetary\"},\"size\":{\"type\":\"value\",\"value\":5.477225575051661},\"angle\":{\"type\":\"value\",\"value\":0.0},\"line_color\":{\"type\":\"value\",\"value\":\"#6d904f\"},\"line_alpha\":{\"type\":\"value\",\"value\":1.0},\"line_width\":{\"type\":\"value\",\"value\":1},\"line_join\":{\"type\":\"value\",\"value\":\"bevel\"},\"line_cap\":{\"type\":\"value\",\"value\":\"butt\"},\"line_dash\":{\"type\":\"value\",\"value\":[]},\"line_dash_offset\":{\"type\":\"value\",\"value\":0},\"fill_color\":{\"type\":\"value\",\"value\":\"#6d904f\"},\"fill_alpha\":{\"type\":\"value\",\"value\":1.0},\"hatch_color\":{\"type\":\"value\",\"value\":\"#6d904f\"},\"hatch_alpha\":{\"type\":\"value\",\"value\":1.0},\"hatch_scale\":{\"type\":\"value\",\"value\":12.0},\"hatch_pattern\":{\"type\":\"value\",\"value\":null},\"hatch_weight\":{\"type\":\"value\",\"value\":1.0},\"marker\":{\"type\":\"value\",\"value\":\"circle\"}}},\"nonselection_glyph\":{\"type\":\"object\",\"name\":\"Scatter\",\"id\":\"3d5e6b68-9cb4-47c9-87a8-044523bafa24\",\"attributes\":{\"tags\":[\"apply_ranges\"],\"x\":{\"type\":\"field\",\"field\":\"recency\"},\"y\":{\"type\":\"field\",\"field\":\"monetary\"},\"size\":{\"type\":\"value\",\"value\":5.477225575051661},\"line_color\":{\"type\":\"value\",\"value\":\"#6d904f\"},\"line_alpha\":{\"type\":\"value\",\"value\":0.1},\"fill_color\":{\"type\":\"value\",\"value\":\"#6d904f\"},\"fill_alpha\":{\"type\":\"value\",\"value\":0.1},\"hatch_color\":{\"type\":\"value\",\"value\":\"#6d904f\"},\"hatch_alpha\":{\"type\":\"value\",\"value\":0.1}}},\"muted_glyph\":{\"type\":\"object\",\"name\":\"Scatter\",\"id\":\"d5c0cdbe-dca4-4223-88bf-f8e016e11585\",\"attributes\":{\"tags\":[\"apply_ranges\"],\"x\":{\"type\":\"field\",\"field\":\"recency\"},\"y\":{\"type\":\"field\",\"field\":\"monetary\"},\"size\":{\"type\":\"value\",\"value\":5.477225575051661},\"line_color\":{\"type\":\"value\",\"value\":\"#6d904f\"},\"line_alpha\":{\"type\":\"value\",\"value\":0.2},\"fill_color\":{\"type\":\"value\",\"value\":\"#6d904f\"},\"fill_alpha\":{\"type\":\"value\",\"value\":0.2},\"hatch_color\":{\"type\":\"value\",\"value\":\"#6d904f\"},\"hatch_alpha\":{\"type\":\"value\",\"value\":0.2}}}}}],\"toolbar\":{\"type\":\"object\",\"name\":\"Toolbar\",\"id\":\"cb51d8ff-594b-49b7-bf52-b285112eabd5\",\"attributes\":{\"tools\":[{\"type\":\"object\",\"name\":\"WheelZoomTool\",\"id\":\"a5c9312d-b4f6-4d71-a725-d97c037ca18e\",\"attributes\":{\"tags\":[\"hv_created\"],\"renderers\":\"auto\",\"zoom_together\":\"none\"}},{\"type\":\"object\",\"name\":\"HoverTool\",\"id\":\"87e72aff-7c77-46c3-b4dc-155afe93ba71\",\"attributes\":{\"tags\":[\"hv_created\"],\"renderers\":[{\"id\":\"f3b8326a-59b4-4997-8215-61342ab2cfcd\"},{\"id\":\"cc623f0b-abfc-4412-8115-f929d4ec69ae\"},{\"id\":\"09462519-cf27-4b34-ae88-9b43be6c61d8\"},{\"id\":\"3b37dba3-f0cf-4e8d-ac5b-ce26b97cbc1c\"}],\"tooltips\":[[\"predictions\",\"@{predictions}\"],[\"recency\",\"@{recency}\"],[\"monetary\",\"@{monetary}\"]]}},{\"type\":\"object\",\"name\":\"SaveTool\",\"id\":\"f33369fe-6b50-4d6b-8789-1c06f75d56d0\"},{\"type\":\"object\",\"name\":\"PanTool\",\"id\":\"fc1af666-a9c9-41a7-901a-88d849544fb8\"},{\"type\":\"object\",\"name\":\"BoxZoomTool\",\"id\":\"4fd68e20-a05b-413f-927d-00b0d382275c\",\"attributes\":{\"overlay\":{\"type\":\"object\",\"name\":\"BoxAnnotation\",\"id\":\"c0a0fbfd-ee9b-4327-b5a1-106aced4c4b5\",\"attributes\":{\"syncable\":false,\"line_color\":\"black\",\"line_alpha\":1.0,\"line_width\":2,\"line_dash\":[4,4],\"fill_color\":\"lightgrey\",\"fill_alpha\":0.5,\"level\":\"overlay\",\"visible\":false,\"left\":{\"type\":\"number\",\"value\":\"nan\"},\"right\":{\"type\":\"number\",\"value\":\"nan\"},\"top\":{\"type\":\"number\",\"value\":\"nan\"},\"bottom\":{\"type\":\"number\",\"value\":\"nan\"},\"left_units\":\"canvas\",\"right_units\":\"canvas\",\"top_units\":\"canvas\",\"bottom_units\":\"canvas\",\"handles\":{\"type\":\"object\",\"name\":\"BoxInteractionHandles\",\"id\":\"0b35c0b1-69d6-4657-919c-ed3378ba7c37\",\"attributes\":{\"all\":{\"type\":\"object\",\"name\":\"AreaVisuals\",\"id\":\"2e120f2d-c255-4026-83e8-6770e17c3904\",\"attributes\":{\"fill_color\":\"white\",\"hover_fill_color\":\"lightgray\"}}}}}}}},{\"type\":\"object\",\"name\":\"ResetTool\",\"id\":\"c0dd73c4-731d-4783-b346-47c59960faa0\"}],\"active_drag\":{\"id\":\"fc1af666-a9c9-41a7-901a-88d849544fb8\"},\"active_scroll\":{\"id\":\"a5c9312d-b4f6-4d71-a725-d97c037ca18e\"}}},\"left\":[{\"type\":\"object\",\"name\":\"LinearAxis\",\"id\":\"f09e992f-f534-4d77-8ae8-301c3b9a669e\",\"attributes\":{\"ticker\":{\"type\":\"object\",\"name\":\"BasicTicker\",\"id\":\"3ef78e7d-a29a-4519-9a8b-9e4d455bc32e\",\"attributes\":{\"mantissas\":[1,2,5]}},\"formatter\":{\"type\":\"object\",\"name\":\"BasicTickFormatter\",\"id\":\"0efe023a-aa08-491b-a756-aed5af976473\"},\"axis_label\":\"monetary\",\"major_label_policy\":{\"type\":\"object\",\"name\":\"AllLabels\",\"id\":\"ad765353-3849-412c-a645-c02f77fddd7f\"}}}],\"right\":[{\"type\":\"object\",\"name\":\"Legend\",\"id\":\"4e0dd23f-ac93-4838-830c-b2699a87e5f4\",\"attributes\":{\"location\":[0,0],\"title\":\"predictions\",\"click_policy\":\"mute\",\"items\":[{\"type\":\"object\",\"name\":\"LegendItem\",\"id\":\"b84c3636-1798-4937-8248-bfb09f05c442\",\"attributes\":{\"label\":{\"type\":\"value\",\"value\":\"1\"},\"renderers\":[{\"id\":\"f3b8326a-59b4-4997-8215-61342ab2cfcd\"}]}},{\"type\":\"object\",\"name\":\"LegendItem\",\"id\":\"1e1f66a1-ace8-4dfc-bf2c-ee0bfa9274ec\",\"attributes\":{\"label\":{\"type\":\"value\",\"value\":\"0\"},\"renderers\":[{\"id\":\"cc623f0b-abfc-4412-8115-f929d4ec69ae\"}]}},{\"type\":\"object\",\"name\":\"LegendItem\",\"id\":\"40ba586d-8663-4f38-87ed-3a102270421b\",\"attributes\":{\"label\":{\"type\":\"value\",\"value\":\"3\"},\"renderers\":[{\"id\":\"09462519-cf27-4b34-ae88-9b43be6c61d8\"}]}},{\"type\":\"object\",\"name\":\"LegendItem\",\"id\":\"8b21914e-f044-4480-9f7d-7ae534375dc3\",\"attributes\":{\"label\":{\"type\":\"value\",\"value\":\"2\"},\"renderers\":[{\"id\":\"3b37dba3-f0cf-4e8d-ac5b-ce26b97cbc1c\"}]}}]}}],\"below\":[{\"type\":\"object\",\"name\":\"LinearAxis\",\"id\":\"e4801534-233f-4219-acc4-2b556d390d04\",\"attributes\":{\"ticker\":{\"type\":\"object\",\"name\":\"BasicTicker\",\"id\":\"bfc6e6ff-2655-444d-9b77-f17c4abe8155\",\"attributes\":{\"mantissas\":[1,2,5]}},\"formatter\":{\"type\":\"object\",\"name\":\"BasicTickFormatter\",\"id\":\"167fc1a0-0621-4b7c-954c-e5900892dcfd\"},\"axis_label\":\"recency\",\"major_label_policy\":{\"type\":\"object\",\"name\":\"AllLabels\",\"id\":\"86eea351-2ef9-4a7c-af6d-d8687523bcd5\"}}}],\"center\":[{\"type\":\"object\",\"name\":\"Grid\",\"id\":\"421b371f-cdd0-4360-ba34-2f9636c970a9\",\"attributes\":{\"axis\":{\"id\":\"e4801534-233f-4219-acc4-2b556d390d04\"},\"grid_line_color\":null}},{\"type\":\"object\",\"name\":\"Grid\",\"id\":\"1369c349-47a3-4a14-96e2-4487182747d1\",\"attributes\":{\"dimension\":1,\"axis\":{\"id\":\"f09e992f-f534-4d77-8ae8-301c3b9a669e\"},\"grid_line_color\":null}}],\"min_border_top\":10,\"min_border_bottom\":10,\"min_border_left\":10,\"min_border_right\":10,\"output_backend\":\"webgl\"}},{\"type\":\"object\",\"name\":\"Spacer\",\"id\":\"d86d83fb-b004-494b-a1db-4d22f32a2fe1\",\"attributes\":{\"name\":\"HSpacer02596\",\"stylesheets\":[\"\\n:host(.pn-loading):before, .pn-loading:before {\\n  background-color: #c3c3c3;\\n  mask-size: auto calc(min(50%, 400px));\\n  -webkit-mask-size: auto calc(min(50%, 400px));\\n}\",{\"id\":\"069caf96-29ba-48f4-8ff7-be41819dd7fa\"},{\"id\":\"a6d06278-7e2a-4ae2-bb4c-be78a0010460\"},{\"id\":\"c095c361-9660-489f-9abf-b2b1abc6eaf7\"}],\"margin\":0,\"sizing_mode\":\"stretch_width\",\"align\":\"start\"}}]}}],\"defs\":[{\"type\":\"model\",\"name\":\"ReactiveHTML1\"},{\"type\":\"model\",\"name\":\"FlexBox1\",\"properties\":[{\"name\":\"align_content\",\"kind\":\"Any\",\"default\":\"flex-start\"},{\"name\":\"align_items\",\"kind\":\"Any\",\"default\":\"flex-start\"},{\"name\":\"flex_direction\",\"kind\":\"Any\",\"default\":\"row\"},{\"name\":\"flex_wrap\",\"kind\":\"Any\",\"default\":\"wrap\"},{\"name\":\"gap\",\"kind\":\"Any\",\"default\":\"\"},{\"name\":\"justify_content\",\"kind\":\"Any\",\"default\":\"flex-start\"}]},{\"type\":\"model\",\"name\":\"FloatPanel1\",\"properties\":[{\"name\":\"config\",\"kind\":\"Any\",\"default\":{\"type\":\"map\"}},{\"name\":\"contained\",\"kind\":\"Any\",\"default\":true},{\"name\":\"position\",\"kind\":\"Any\",\"default\":\"right-top\"},{\"name\":\"offsetx\",\"kind\":\"Any\",\"default\":null},{\"name\":\"offsety\",\"kind\":\"Any\",\"default\":null},{\"name\":\"theme\",\"kind\":\"Any\",\"default\":\"primary\"},{\"name\":\"status\",\"kind\":\"Any\",\"default\":\"normalized\"}]},{\"type\":\"model\",\"name\":\"GridStack1\",\"properties\":[{\"name\":\"mode\",\"kind\":\"Any\",\"default\":\"warn\"},{\"name\":\"ncols\",\"kind\":\"Any\",\"default\":null},{\"name\":\"nrows\",\"kind\":\"Any\",\"default\":null},{\"name\":\"allow_resize\",\"kind\":\"Any\",\"default\":true},{\"name\":\"allow_drag\",\"kind\":\"Any\",\"default\":true},{\"name\":\"state\",\"kind\":\"Any\",\"default\":[]}]},{\"type\":\"model\",\"name\":\"drag1\",\"properties\":[{\"name\":\"slider_width\",\"kind\":\"Any\",\"default\":5},{\"name\":\"slider_color\",\"kind\":\"Any\",\"default\":\"black\"},{\"name\":\"value\",\"kind\":\"Any\",\"default\":50}]},{\"type\":\"model\",\"name\":\"click1\",\"properties\":[{\"name\":\"terminal_output\",\"kind\":\"Any\",\"default\":\"\"},{\"name\":\"debug_name\",\"kind\":\"Any\",\"default\":\"\"},{\"name\":\"clears\",\"kind\":\"Any\",\"default\":0}]},{\"type\":\"model\",\"name\":\"FastWrapper1\",\"properties\":[{\"name\":\"object\",\"kind\":\"Any\",\"default\":null},{\"name\":\"style\",\"kind\":\"Any\",\"default\":null}]},{\"type\":\"model\",\"name\":\"NotificationAreaBase1\",\"properties\":[{\"name\":\"js_events\",\"kind\":\"Any\",\"default\":{\"type\":\"map\"}},{\"name\":\"position\",\"kind\":\"Any\",\"default\":\"bottom-right\"},{\"name\":\"_clear\",\"kind\":\"Any\",\"default\":0}]},{\"type\":\"model\",\"name\":\"NotificationArea1\",\"properties\":[{\"name\":\"js_events\",\"kind\":\"Any\",\"default\":{\"type\":\"map\"}},{\"name\":\"notifications\",\"kind\":\"Any\",\"default\":[]},{\"name\":\"position\",\"kind\":\"Any\",\"default\":\"bottom-right\"},{\"name\":\"_clear\",\"kind\":\"Any\",\"default\":0},{\"name\":\"types\",\"kind\":\"Any\",\"default\":[{\"type\":\"map\",\"entries\":[[\"type\",\"warning\"],[\"background\",\"#ffc107\"],[\"icon\",{\"type\":\"map\",\"entries\":[[\"className\",\"fas fa-exclamation-triangle\"],[\"tagName\",\"i\"],[\"color\",\"white\"]]}]]},{\"type\":\"map\",\"entries\":[[\"type\",\"info\"],[\"background\",\"#007bff\"],[\"icon\",{\"type\":\"map\",\"entries\":[[\"className\",\"fas fa-info-circle\"],[\"tagName\",\"i\"],[\"color\",\"white\"]]}]]}]}]},{\"type\":\"model\",\"name\":\"Notification\",\"properties\":[{\"name\":\"background\",\"kind\":\"Any\",\"default\":null},{\"name\":\"duration\",\"kind\":\"Any\",\"default\":3000},{\"name\":\"icon\",\"kind\":\"Any\",\"default\":null},{\"name\":\"message\",\"kind\":\"Any\",\"default\":\"\"},{\"name\":\"notification_type\",\"kind\":\"Any\",\"default\":null},{\"name\":\"_destroyed\",\"kind\":\"Any\",\"default\":false}]},{\"type\":\"model\",\"name\":\"TemplateActions1\",\"properties\":[{\"name\":\"open_modal\",\"kind\":\"Any\",\"default\":0},{\"name\":\"close_modal\",\"kind\":\"Any\",\"default\":0}]},{\"type\":\"model\",\"name\":\"BootstrapTemplateActions1\",\"properties\":[{\"name\":\"open_modal\",\"kind\":\"Any\",\"default\":0},{\"name\":\"close_modal\",\"kind\":\"Any\",\"default\":0}]},{\"type\":\"model\",\"name\":\"TemplateEditor1\",\"properties\":[{\"name\":\"layout\",\"kind\":\"Any\",\"default\":[]}]},{\"type\":\"model\",\"name\":\"MaterialTemplateActions1\",\"properties\":[{\"name\":\"open_modal\",\"kind\":\"Any\",\"default\":0},{\"name\":\"close_modal\",\"kind\":\"Any\",\"default\":0}]},{\"type\":\"model\",\"name\":\"ReactiveESM1\"},{\"type\":\"model\",\"name\":\"JSComponent1\"},{\"type\":\"model\",\"name\":\"ReactComponent1\"},{\"type\":\"model\",\"name\":\"AnyWidgetComponent1\"},{\"type\":\"model\",\"name\":\"request_value1\",\"properties\":[{\"name\":\"fill\",\"kind\":\"Any\",\"default\":\"none\"},{\"name\":\"_synced\",\"kind\":\"Any\",\"default\":null},{\"name\":\"_request_sync\",\"kind\":\"Any\",\"default\":0}]}]}};\n",
       "  var render_items = [{\"docid\":\"96c269af-fa02-4f7e-870c-8760f116dee6\",\"roots\":{\"01c2aa71-f1ee-43f6-98d1-d0e6ecec43fe\":\"f39bcaad-54cf-44dd-a4ca-e033eeab8639\"},\"root_ids\":[\"01c2aa71-f1ee-43f6-98d1-d0e6ecec43fe\"]}];\n",
       "  var docs = Object.values(docs_json)\n",
       "  if (!docs) {\n",
       "    return\n",
       "  }\n",
       "  const py_version = docs[0].version.replace('rc', '-rc.').replace('.dev', '-dev.')\n",
       "  async function embed_document(root) {\n",
       "    var Bokeh = get_bokeh(root)\n",
       "    await Bokeh.embed.embed_items_notebook(docs_json, render_items);\n",
       "    for (const render_item of render_items) {\n",
       "      for (const root_id of render_item.root_ids) {\n",
       "\tconst id_el = document.getElementById(root_id)\n",
       "\tif (id_el.children.length && id_el.children[0].hasAttribute('data-root-id')) {\n",
       "\t  const root_el = id_el.children[0]\n",
       "\t  root_el.id = root_el.id + '-rendered'\n",
       "\t  for (const child of root_el.children) {\n",
       "            // Ensure JupyterLab does not capture keyboard shortcuts\n",
       "            // see: https://jupyterlab.readthedocs.io/en/4.1.x/extension/notebook.html#keyboard-interaction-model\n",
       "\t    child.setAttribute('data-lm-suppress-shortcuts', 'true')\n",
       "\t  }\n",
       "\t}\n",
       "      }\n",
       "    }\n",
       "  }\n",
       "  function get_bokeh(root) {\n",
       "    if (root.Bokeh === undefined) {\n",
       "      return null\n",
       "    } else if (root.Bokeh.version !== py_version) {\n",
       "      if (root.Bokeh.versions === undefined || !root.Bokeh.versions.has(py_version)) {\n",
       "\treturn null\n",
       "      }\n",
       "      return root.Bokeh.versions.get(py_version);\n",
       "    } else if (root.Bokeh.version === py_version) {\n",
       "      return root.Bokeh\n",
       "    }\n",
       "    return null\n",
       "  }\n",
       "  function is_loaded(root) {\n",
       "    var Bokeh = get_bokeh(root)\n",
       "    return (Bokeh != null && Bokeh.Panel !== undefined)\n",
       "  }\n",
       "  if (is_loaded(root)) {\n",
       "    embed_document(root);\n",
       "  } else {\n",
       "    var attempts = 0;\n",
       "    var timer = setInterval(function(root) {\n",
       "      if (is_loaded(root)) {\n",
       "        clearInterval(timer);\n",
       "        embed_document(root);\n",
       "      } else if (document.readyState == \"complete\") {\n",
       "        attempts++;\n",
       "        if (attempts > 200) {\n",
       "          clearInterval(timer);\n",
       "\t  var Bokeh = get_bokeh(root)\n",
       "\t  if (Bokeh == null || Bokeh.Panel == null) {\n",
       "            console.warn(\"Panel: ERROR: Unable to run Panel code because Bokeh or Panel library is missing\");\n",
       "\t  } else {\n",
       "\t    console.warn(\"Panel: WARNING: Attempting to render but not all required libraries could be resolved.\")\n",
       "\t    embed_document(root)\n",
       "\t  }\n",
       "        }\n",
       "      }\n",
       "    }, 25, root)\n",
       "  }\n",
       "})(window);</script>"
      ],
      "text/plain": [
       ":NdOverlay   [predictions]\n",
       "   :Scatter   [recency]   (monetary)"
      ]
     },
     "metadata": {
      "application/vnd.holoviews_exec.v0+json": {
       "id": "01c2aa71-f1ee-43f6-98d1-d0e6ecec43fe"
      }
     },
     "output_type": "display_data"
    },
    {
     "name": "stdout",
     "output_type": "stream",
     "text": [
      "[{'k': 2, 'score': 64.33816771615149}, {'k': 3, 'score': 56.1656851278826}, {'k': 4, 'score': 56.866433254066415}, {'k': 5, 'score': 58.83465561032737}]\n",
      "Best k value = 2 (ch_score score = 64.338)\n"
     ]
    },
    {
     "data": {},
     "metadata": {},
     "output_type": "display_data"
    },
    {
     "data": {
      "application/vnd.holoviews_exec.v0+json": "",
      "text/html": [
       "<div id='78620443-12d4-427c-8f4d-dec63b113cbf'>\n",
       "  <div id=\"c881671e-9577-4d95-ab65-24c3dbf46336\" data-root-id=\"78620443-12d4-427c-8f4d-dec63b113cbf\" style=\"display: contents;\"></div>\n",
       "</div>\n",
       "<script type=\"application/javascript\">(function(root) {\n",
       "  var docs_json = {\"39ed50fd-fdb2-4733-92b5-9c2a001b6d8e\":{\"version\":\"3.5.2\",\"title\":\"Bokeh Application\",\"roots\":[{\"type\":\"object\",\"name\":\"Row\",\"id\":\"78620443-12d4-427c-8f4d-dec63b113cbf\",\"attributes\":{\"name\":\"Row02688\",\"tags\":[\"embedded\"],\"stylesheets\":[\"\\n:host(.pn-loading):before, .pn-loading:before {\\n  background-color: #c3c3c3;\\n  mask-size: auto calc(min(50%, 400px));\\n  -webkit-mask-size: auto calc(min(50%, 400px));\\n}\",{\"type\":\"object\",\"name\":\"ImportedStyleSheet\",\"id\":\"dfb1ac00-de28-4160-aa33-60c92c782daf\",\"attributes\":{\"url\":\"https://cdn.holoviz.org/panel/1.5.3/dist/css/loading.css\"}},{\"type\":\"object\",\"name\":\"ImportedStyleSheet\",\"id\":\"6124e04a-aa29-46bf-a6e3-fc4a61e7a9fb\",\"attributes\":{\"url\":\"https://cdn.holoviz.org/panel/1.5.3/dist/css/listpanel.css\"}},{\"type\":\"object\",\"name\":\"ImportedStyleSheet\",\"id\":\"3216e164-0b8a-45d8-b7e0-08fd9cf71293\",\"attributes\":{\"url\":\"https://cdn.holoviz.org/panel/1.5.3/dist/bundled/theme/default.css\"}},{\"type\":\"object\",\"name\":\"ImportedStyleSheet\",\"id\":\"4ebecd4c-63a7-4b4e-95f0-f78a0e589513\",\"attributes\":{\"url\":\"https://cdn.holoviz.org/panel/1.5.3/dist/bundled/theme/native.css\"}}],\"min_width\":700,\"margin\":0,\"sizing_mode\":\"stretch_width\",\"align\":\"start\",\"children\":[{\"type\":\"object\",\"name\":\"Spacer\",\"id\":\"3513e533-e2ec-4eca-a479-43704ae39fa5\",\"attributes\":{\"name\":\"HSpacer02692\",\"stylesheets\":[\"\\n:host(.pn-loading):before, .pn-loading:before {\\n  background-color: #c3c3c3;\\n  mask-size: auto calc(min(50%, 400px));\\n  -webkit-mask-size: auto calc(min(50%, 400px));\\n}\",{\"id\":\"dfb1ac00-de28-4160-aa33-60c92c782daf\"},{\"id\":\"3216e164-0b8a-45d8-b7e0-08fd9cf71293\"},{\"id\":\"4ebecd4c-63a7-4b4e-95f0-f78a0e589513\"}],\"margin\":0,\"sizing_mode\":\"stretch_width\",\"align\":\"start\"}},{\"type\":\"object\",\"name\":\"Figure\",\"id\":\"2f05dec5-083f-4e09-9427-46cdc217eb6d\",\"attributes\":{\"width\":700,\"height\":300,\"margin\":[5,10],\"sizing_mode\":\"fixed\",\"align\":\"start\",\"x_range\":{\"type\":\"object\",\"name\":\"Range1d\",\"id\":\"10ff50c3-d540-4151-a7f2-9a2734bb5467\",\"attributes\":{\"name\":\"recency\",\"tags\":[[[\"recency\",null]],[]],\"start\":-1.4287733467945483,\"end\":2.361635537607269,\"reset_start\":-1.4287733467945483,\"reset_end\":2.361635537607269}},\"y_range\":{\"type\":\"object\",\"name\":\"Range1d\",\"id\":\"ffcaf605-055a-4327-be09-861fe7025b19\",\"attributes\":{\"name\":\"monetary\",\"tags\":[[[\"monetary\",null]],{\"type\":\"map\",\"entries\":[[\"invert_yaxis\",false],[\"autorange\",false]]}],\"start\":-4.800160580109285,\"end\":4.794051018215261,\"reset_start\":-4.800160580109285,\"reset_end\":4.794051018215261}},\"x_scale\":{\"type\":\"object\",\"name\":\"LinearScale\",\"id\":\"2a38aafb-2057-48dc-a6e2-63452196ff3d\"},\"y_scale\":{\"type\":\"object\",\"name\":\"LinearScale\",\"id\":\"a52229aa-ac33-421f-820d-d962d5ea30be\"},\"title\":{\"type\":\"object\",\"name\":\"Title\",\"id\":\"2648871e-1d91-461a-a0bb-5519307f34e1\",\"attributes\":{\"text_color\":\"black\",\"text_font_size\":\"12pt\"}},\"renderers\":[{\"type\":\"object\",\"name\":\"GlyphRenderer\",\"id\":\"8062298b-a2c1-4885-9bcb-d382a7933177\",\"attributes\":{\"name\":\"0\",\"data_source\":{\"type\":\"object\",\"name\":\"ColumnDataSource\",\"id\":\"8560aa60-0645-4fb3-a889-642739dcea24\",\"attributes\":{\"selected\":{\"type\":\"object\",\"name\":\"Selection\",\"id\":\"dcc6943d-358e-4f69-9395-40632ea3e1da\",\"attributes\":{\"indices\":[],\"line_indices\":[]}},\"selection_policy\":{\"type\":\"object\",\"name\":\"UnionRenderers\",\"id\":\"2d9f4a3a-e8e2-488e-85d0-67b254dad44d\"},\"data\":{\"type\":\"map\",\"entries\":[[\"recency\",{\"type\":\"ndarray\",\"array\":{\"type\":\"bytes\",\"data\":\"xr9EXG7yjD/NJ7yQIFSpP9SipH6cKda/xr9EXG7yvL9Au6ORDePvv80nvJAgVLm/0siG8S8R179DglBlsIfuv5pi6doKHPO/2h2NbBj/4r/R2/eq+YS3P9z3qvmEF6I/1Y8zxdK1tb/d5DlAu6Pxv9O1FThmnda/0O5oZMP457/NJ7yQIFTpvwAAAAAAAAAAzSe8kCBUqb/TtRU4Zp3WvxrZMP4l4vK/375XzSe88L/Q7mhkw/jnv8pzgHZHI+u/1Y8zxdK1tT+XmzwHaHf0v9SipH6cKea/ynOAdkcjuz9NsXRtBY7pv9WPM8XStbU/xr9EXG7yvD/Gv0RcbvJ8P8pzgHZHI8u/1Y8zxdK1tb+bT3ghQajyv80nvJAgVNm/1Y8zxdK1tT/VjzPF0rWVv93kOUC7o+G/XkgQqgz24L9ZurYCx6zzv8a/RFxu8ty/xr9EXG7ynL/Gv0RcbvJ8v2AiLjd5DvC/AAAAAAAAAACcKZaurcDxv1FlsIfevue/XVuBY9Zp4b9eSBCqDPbgP8ILCUKVwb6/RVxu8hyg7b9Eb9+r5hPuv8es06Kkfuy/\"},\"shape\":[54],\"dtype\":\"float64\",\"order\":\"little\"}],[\"monetary\",{\"type\":\"ndarray\",\"array\":{\"type\":\"bytes\",\"data\":\"iIf9acHj4j9w1BVH2QrjP5CgK/5d4eM/nq5xg10gsj8RZiuc9A7EPzURYy1dDvg/hy0CQ5jz2z8JXipk8orUP/TgtU4lSNQ/imrM+vpX3j8Ldte6adToP2OUXzdxfus/bgpcxhpxrL/gJmrimMbjP3wxpoX1jOA/a5ngoGvk0D+mGEZik+XwP0KYI3XRmPE/qquQsBVzw7/N57O7DNbNv/KUW+vN9A9APMGYdiY1u79riujTTi5wP6ZxazSs/MK/BnFEIddXrD/0Mv3P+xrwPyUH1EAWH/A/GzR/WVON4T/G4EbxhBjsv72Y6NNOLnC/AOFtN/zM4z8AkFNZfSDGP9rA/nmNhdo/8ezr7i6G+D/eCO9TnQrQvwNaNLjUPdc/HXKoxnzc4T/W1g5IJcTNP6562Ue80eo/eEytFg4I1z+9qkDhCWTtPxWYBKU5w7S/mWzjEyBCxb8jxfXaIT/PvyOmGVYiuNq/lPjismEwor9EaJ4sdFHhPwPP/NMvOvQ/7D7Lgfay5L+OnusGkr7eP1I2vNgp1ea/I71XUT3t1b+4O/rzj0XqPw9jzxKaAw1A\"},\"shape\":[54],\"dtype\":\"float64\",\"order\":\"little\"}],[\"predictions\",[0,0,0,0,0,0,0,0,0,0,0,0,0,0,0,0,0,0,0,0,0,0,0,0,0,0,0,0,0,0,0,0,0,0,0,0,0,0,0,0,0,0,0,0,0,0,0,0,0,0,0,0,0,0]]]}}},\"view\":{\"type\":\"object\",\"name\":\"CDSView\",\"id\":\"ae42a9ed-086e-46ff-b137-9c2443a22d50\",\"attributes\":{\"filter\":{\"type\":\"object\",\"name\":\"AllIndices\",\"id\":\"a0139445-65b0-4864-9225-aadebba29885\"}}},\"glyph\":{\"type\":\"object\",\"name\":\"Scatter\",\"id\":\"30e1f3ca-cf7b-4763-99eb-f09fed8ec4b1\",\"attributes\":{\"tags\":[\"apply_ranges\"],\"x\":{\"type\":\"field\",\"field\":\"recency\"},\"y\":{\"type\":\"field\",\"field\":\"monetary\"},\"size\":{\"type\":\"value\",\"value\":5.477225575051661},\"line_color\":{\"type\":\"value\",\"value\":\"#30a2da\"},\"fill_color\":{\"type\":\"value\",\"value\":\"#30a2da\"},\"hatch_color\":{\"type\":\"value\",\"value\":\"#30a2da\"}}},\"selection_glyph\":{\"type\":\"object\",\"name\":\"Scatter\",\"id\":\"18f625e5-8a16-4f67-b3b4-4e764b65d3c8\",\"attributes\":{\"tags\":[\"apply_ranges\"],\"x\":{\"type\":\"field\",\"field\":\"recency\"},\"y\":{\"type\":\"field\",\"field\":\"monetary\"},\"size\":{\"type\":\"value\",\"value\":5.477225575051661},\"angle\":{\"type\":\"value\",\"value\":0.0},\"line_color\":{\"type\":\"value\",\"value\":\"#30a2da\"},\"line_alpha\":{\"type\":\"value\",\"value\":1.0},\"line_width\":{\"type\":\"value\",\"value\":1},\"line_join\":{\"type\":\"value\",\"value\":\"bevel\"},\"line_cap\":{\"type\":\"value\",\"value\":\"butt\"},\"line_dash\":{\"type\":\"value\",\"value\":[]},\"line_dash_offset\":{\"type\":\"value\",\"value\":0},\"fill_color\":{\"type\":\"value\",\"value\":\"#30a2da\"},\"fill_alpha\":{\"type\":\"value\",\"value\":1.0},\"hatch_color\":{\"type\":\"value\",\"value\":\"#30a2da\"},\"hatch_alpha\":{\"type\":\"value\",\"value\":1.0},\"hatch_scale\":{\"type\":\"value\",\"value\":12.0},\"hatch_pattern\":{\"type\":\"value\",\"value\":null},\"hatch_weight\":{\"type\":\"value\",\"value\":1.0},\"marker\":{\"type\":\"value\",\"value\":\"circle\"}}},\"nonselection_glyph\":{\"type\":\"object\",\"name\":\"Scatter\",\"id\":\"1adde21d-0c18-4807-88f8-cd7ded9678d8\",\"attributes\":{\"tags\":[\"apply_ranges\"],\"x\":{\"type\":\"field\",\"field\":\"recency\"},\"y\":{\"type\":\"field\",\"field\":\"monetary\"},\"size\":{\"type\":\"value\",\"value\":5.477225575051661},\"line_color\":{\"type\":\"value\",\"value\":\"#30a2da\"},\"line_alpha\":{\"type\":\"value\",\"value\":0.1},\"fill_color\":{\"type\":\"value\",\"value\":\"#30a2da\"},\"fill_alpha\":{\"type\":\"value\",\"value\":0.1},\"hatch_color\":{\"type\":\"value\",\"value\":\"#30a2da\"},\"hatch_alpha\":{\"type\":\"value\",\"value\":0.1}}},\"muted_glyph\":{\"type\":\"object\",\"name\":\"Scatter\",\"id\":\"27bedb0d-a1a4-49f2-aaf2-9cd89fc6d45d\",\"attributes\":{\"tags\":[\"apply_ranges\"],\"x\":{\"type\":\"field\",\"field\":\"recency\"},\"y\":{\"type\":\"field\",\"field\":\"monetary\"},\"size\":{\"type\":\"value\",\"value\":5.477225575051661},\"line_color\":{\"type\":\"value\",\"value\":\"#30a2da\"},\"line_alpha\":{\"type\":\"value\",\"value\":0.2},\"fill_color\":{\"type\":\"value\",\"value\":\"#30a2da\"},\"fill_alpha\":{\"type\":\"value\",\"value\":0.2},\"hatch_color\":{\"type\":\"value\",\"value\":\"#30a2da\"},\"hatch_alpha\":{\"type\":\"value\",\"value\":0.2}}}}},{\"type\":\"object\",\"name\":\"GlyphRenderer\",\"id\":\"de71f67a-c6cc-41bc-bb27-707e093b388d\",\"attributes\":{\"name\":\"1\",\"data_source\":{\"type\":\"object\",\"name\":\"ColumnDataSource\",\"id\":\"4b3456b1-1f11-4dcb-a5be-85483155cef7\",\"attributes\":{\"selected\":{\"type\":\"object\",\"name\":\"Selection\",\"id\":\"f3ffb489-ace3-4c6b-91eb-987f0810a4a8\",\"attributes\":{\"indices\":[],\"line_indices\":[]}},\"selection_policy\":{\"type\":\"object\",\"name\":\"UnionRenderers\",\"id\":\"253a315a-8f85-4214-9788-f457b1f355a7\"},\"data\":{\"type\":\"map\",\"entries\":[[\"recency\",{\"type\":\"ndarray\",\"array\":{\"type\":\"bytes\",\"data\":\"xr9EXG7yzD/F0rUVOGb9P8a/RFxu8qw/2h2NbBj/0j9Pi5L6cab4P80nvJAgVLk/2ENv36vm4z9YzSe8kCDkP0rqx5li6eo/lNSPM8XS9T+T5wDtjkb2P1xu8hyg3eE/wgsJQpXBzj/CCwlClcHeP8a/RFxu8ry/v1fNJ7yQAEAJQpXBHnr7P8IeevteNe8/wTHrtCipzz9alNSPM8Xiv8a/RFxu8rw/0dv3qvmExz/E5SbPAdrNP4Qqgz309v0/zwHaHY1s2L/Gv0RcbvKsv8IeevteNd8/FyX140yx9D89B2h3NLIBQF5IEKoM9gBAyJli6doK3D+AdkcjG8b/P8ILCUKVwd4/0dv3qvmExz+SDeNfIi73P9++V80nvNA/x6zToqR+3D9DglBlsIf+Pw==\"},\"shape\":[38],\"dtype\":\"float64\",\"order\":\"little\"}],[\"monetary\",{\"type\":\"ndarray\",\"array\":{\"type\":\"bytes\",\"data\":\"PaNDpn170j/kOyKDEoDtP8C4G4C0Nu+/Ued7FT526b+XVtmS8bXavw/TdNjJFvu/bzULtp0Wwb+yDmH2UcLOv3j0jP+Ffty/8dh/O9GX+L+C+ZjGb1/Av0OEupbyZ+I/x48vT4bg2r+K7GnvBJ75vyTps8VcwgDAFmJr7qim8b9hRzvLHAvvvy5lOwFXY+6/AS6oj12b1T/c5m+LqAAQwDgmdZYi88O/o1/S4JDpzL+ODdiKldRwP0nXah5TlKY/50mSZ8vV+r8GiLxSTw8CwEIXphbKX8Y/qux6GQ0q+L/7W0TEvnTwv/LVxQkvtfi/Kz3R92hf5r+RjPHR1mHuv2FiIEPe7ea/kHc5j9jP0j+kQj/oKlPVv5JIpEIOgd+/R/rbbtiI+b/NlJP7y0jYvw==\"},\"shape\":[38],\"dtype\":\"float64\",\"order\":\"little\"}],[\"predictions\",[1,1,1,1,1,1,1,1,1,1,1,1,1,1,1,1,1,1,1,1,1,1,1,1,1,1,1,1,1,1,1,1,1,1,1,1,1,1]]]}}},\"view\":{\"type\":\"object\",\"name\":\"CDSView\",\"id\":\"22c6a520-ce37-426f-acec-90f5162f3806\",\"attributes\":{\"filter\":{\"type\":\"object\",\"name\":\"AllIndices\",\"id\":\"cf48e01e-f11e-4090-925e-9ea7d35f4e60\"}}},\"glyph\":{\"type\":\"object\",\"name\":\"Scatter\",\"id\":\"2c47f0be-c258-4ed7-8acc-ffc82f2fc709\",\"attributes\":{\"tags\":[\"apply_ranges\"],\"x\":{\"type\":\"field\",\"field\":\"recency\"},\"y\":{\"type\":\"field\",\"field\":\"monetary\"},\"size\":{\"type\":\"value\",\"value\":5.477225575051661},\"line_color\":{\"type\":\"value\",\"value\":\"#fc4f30\"},\"fill_color\":{\"type\":\"value\",\"value\":\"#fc4f30\"},\"hatch_color\":{\"type\":\"value\",\"value\":\"#fc4f30\"}}},\"selection_glyph\":{\"type\":\"object\",\"name\":\"Scatter\",\"id\":\"d693d348-555a-4e04-9031-a87340574f19\",\"attributes\":{\"tags\":[\"apply_ranges\"],\"x\":{\"type\":\"field\",\"field\":\"recency\"},\"y\":{\"type\":\"field\",\"field\":\"monetary\"},\"size\":{\"type\":\"value\",\"value\":5.477225575051661},\"angle\":{\"type\":\"value\",\"value\":0.0},\"line_color\":{\"type\":\"value\",\"value\":\"#fc4f30\"},\"line_alpha\":{\"type\":\"value\",\"value\":1.0},\"line_width\":{\"type\":\"value\",\"value\":1},\"line_join\":{\"type\":\"value\",\"value\":\"bevel\"},\"line_cap\":{\"type\":\"value\",\"value\":\"butt\"},\"line_dash\":{\"type\":\"value\",\"value\":[]},\"line_dash_offset\":{\"type\":\"value\",\"value\":0},\"fill_color\":{\"type\":\"value\",\"value\":\"#fc4f30\"},\"fill_alpha\":{\"type\":\"value\",\"value\":1.0},\"hatch_color\":{\"type\":\"value\",\"value\":\"#fc4f30\"},\"hatch_alpha\":{\"type\":\"value\",\"value\":1.0},\"hatch_scale\":{\"type\":\"value\",\"value\":12.0},\"hatch_pattern\":{\"type\":\"value\",\"value\":null},\"hatch_weight\":{\"type\":\"value\",\"value\":1.0},\"marker\":{\"type\":\"value\",\"value\":\"circle\"}}},\"nonselection_glyph\":{\"type\":\"object\",\"name\":\"Scatter\",\"id\":\"6c51bc4e-6652-414e-ae29-f0e31e889d62\",\"attributes\":{\"tags\":[\"apply_ranges\"],\"x\":{\"type\":\"field\",\"field\":\"recency\"},\"y\":{\"type\":\"field\",\"field\":\"monetary\"},\"size\":{\"type\":\"value\",\"value\":5.477225575051661},\"line_color\":{\"type\":\"value\",\"value\":\"#fc4f30\"},\"line_alpha\":{\"type\":\"value\",\"value\":0.1},\"fill_color\":{\"type\":\"value\",\"value\":\"#fc4f30\"},\"fill_alpha\":{\"type\":\"value\",\"value\":0.1},\"hatch_color\":{\"type\":\"value\",\"value\":\"#fc4f30\"},\"hatch_alpha\":{\"type\":\"value\",\"value\":0.1}}},\"muted_glyph\":{\"type\":\"object\",\"name\":\"Scatter\",\"id\":\"b9bf7dc3-27b2-4aa3-91f3-e63f282ac2f3\",\"attributes\":{\"tags\":[\"apply_ranges\"],\"x\":{\"type\":\"field\",\"field\":\"recency\"},\"y\":{\"type\":\"field\",\"field\":\"monetary\"},\"size\":{\"type\":\"value\",\"value\":5.477225575051661},\"line_color\":{\"type\":\"value\",\"value\":\"#fc4f30\"},\"line_alpha\":{\"type\":\"value\",\"value\":0.2},\"fill_color\":{\"type\":\"value\",\"value\":\"#fc4f30\"},\"fill_alpha\":{\"type\":\"value\",\"value\":0.2},\"hatch_color\":{\"type\":\"value\",\"value\":\"#fc4f30\"},\"hatch_alpha\":{\"type\":\"value\",\"value\":0.2}}}}}],\"toolbar\":{\"type\":\"object\",\"name\":\"Toolbar\",\"id\":\"6fc400be-c4ee-410a-ae94-2141b66ae2ae\",\"attributes\":{\"tools\":[{\"type\":\"object\",\"name\":\"WheelZoomTool\",\"id\":\"6446ade0-ba0e-455f-a351-8c8d18d6fcc2\",\"attributes\":{\"tags\":[\"hv_created\"],\"renderers\":\"auto\",\"zoom_together\":\"none\"}},{\"type\":\"object\",\"name\":\"HoverTool\",\"id\":\"2c9d0217-d3be-47b3-92db-3bfc1494be30\",\"attributes\":{\"tags\":[\"hv_created\"],\"renderers\":[{\"id\":\"8062298b-a2c1-4885-9bcb-d382a7933177\"},{\"id\":\"de71f67a-c6cc-41bc-bb27-707e093b388d\"}],\"tooltips\":[[\"predictions\",\"@{predictions}\"],[\"recency\",\"@{recency}\"],[\"monetary\",\"@{monetary}\"]]}},{\"type\":\"object\",\"name\":\"SaveTool\",\"id\":\"bf9041aa-b1f6-4fbf-95d1-046f8c41b5f0\"},{\"type\":\"object\",\"name\":\"PanTool\",\"id\":\"32cce137-1df2-433d-a545-fd7ff3ac4f2b\"},{\"type\":\"object\",\"name\":\"BoxZoomTool\",\"id\":\"82358076-29d0-4a17-ba45-ebc02bc2e585\",\"attributes\":{\"overlay\":{\"type\":\"object\",\"name\":\"BoxAnnotation\",\"id\":\"d9488791-913a-4f9b-9299-439f6b3ef4fd\",\"attributes\":{\"syncable\":false,\"line_color\":\"black\",\"line_alpha\":1.0,\"line_width\":2,\"line_dash\":[4,4],\"fill_color\":\"lightgrey\",\"fill_alpha\":0.5,\"level\":\"overlay\",\"visible\":false,\"left\":{\"type\":\"number\",\"value\":\"nan\"},\"right\":{\"type\":\"number\",\"value\":\"nan\"},\"top\":{\"type\":\"number\",\"value\":\"nan\"},\"bottom\":{\"type\":\"number\",\"value\":\"nan\"},\"left_units\":\"canvas\",\"right_units\":\"canvas\",\"top_units\":\"canvas\",\"bottom_units\":\"canvas\",\"handles\":{\"type\":\"object\",\"name\":\"BoxInteractionHandles\",\"id\":\"e65a8d8f-227e-49af-9b31-e9bbadaad9f6\",\"attributes\":{\"all\":{\"type\":\"object\",\"name\":\"AreaVisuals\",\"id\":\"422a6109-d93d-4d75-8dc3-c9f50c12b686\",\"attributes\":{\"fill_color\":\"white\",\"hover_fill_color\":\"lightgray\"}}}}}}}},{\"type\":\"object\",\"name\":\"ResetTool\",\"id\":\"7b88f18a-188b-44cd-a1e3-3fd6dfa2a967\"}],\"active_drag\":{\"id\":\"32cce137-1df2-433d-a545-fd7ff3ac4f2b\"},\"active_scroll\":{\"id\":\"6446ade0-ba0e-455f-a351-8c8d18d6fcc2\"}}},\"left\":[{\"type\":\"object\",\"name\":\"LinearAxis\",\"id\":\"9fc79ae8-5166-4ae0-a2f1-8d3afd356f45\",\"attributes\":{\"ticker\":{\"type\":\"object\",\"name\":\"BasicTicker\",\"id\":\"5444c9eb-3db1-4673-b8f2-2ad64791bc53\",\"attributes\":{\"mantissas\":[1,2,5]}},\"formatter\":{\"type\":\"object\",\"name\":\"BasicTickFormatter\",\"id\":\"d4bc55b8-4976-4a73-9b9a-a31107d222eb\"},\"axis_label\":\"monetary\",\"major_label_policy\":{\"type\":\"object\",\"name\":\"AllLabels\",\"id\":\"6353a1c9-29a0-48ee-8bbb-e23b155f2ec1\"}}}],\"right\":[{\"type\":\"object\",\"name\":\"Legend\",\"id\":\"4abcf234-9730-42de-aefb-be4b88bdbee4\",\"attributes\":{\"location\":[0,0],\"title\":\"predictions\",\"click_policy\":\"mute\",\"items\":[{\"type\":\"object\",\"name\":\"LegendItem\",\"id\":\"635e4cef-bc0c-49b2-9ad1-6a03443586d5\",\"attributes\":{\"label\":{\"type\":\"value\",\"value\":\"0\"},\"renderers\":[{\"id\":\"8062298b-a2c1-4885-9bcb-d382a7933177\"}]}},{\"type\":\"object\",\"name\":\"LegendItem\",\"id\":\"17b067fd-ece9-4cfe-9866-9fb45d5a083c\",\"attributes\":{\"label\":{\"type\":\"value\",\"value\":\"1\"},\"renderers\":[{\"id\":\"de71f67a-c6cc-41bc-bb27-707e093b388d\"}]}}]}}],\"below\":[{\"type\":\"object\",\"name\":\"LinearAxis\",\"id\":\"2bf8696d-aa82-49f7-a1e2-f3d0d5d8e058\",\"attributes\":{\"ticker\":{\"type\":\"object\",\"name\":\"BasicTicker\",\"id\":\"4830362c-518d-4a5c-8d55-ad67838d3843\",\"attributes\":{\"mantissas\":[1,2,5]}},\"formatter\":{\"type\":\"object\",\"name\":\"BasicTickFormatter\",\"id\":\"e8a17d6e-eee7-4ce7-80ad-13ec381a8290\"},\"axis_label\":\"recency\",\"major_label_policy\":{\"type\":\"object\",\"name\":\"AllLabels\",\"id\":\"aff6bae5-851c-4f7b-999e-fede9b3d0bf6\"}}}],\"center\":[{\"type\":\"object\",\"name\":\"Grid\",\"id\":\"8fe24013-b5e7-4b05-b26d-2ad04644e1a7\",\"attributes\":{\"axis\":{\"id\":\"2bf8696d-aa82-49f7-a1e2-f3d0d5d8e058\"},\"grid_line_color\":null}},{\"type\":\"object\",\"name\":\"Grid\",\"id\":\"cb41b07f-22fc-49e2-a52d-18664045ad7c\",\"attributes\":{\"dimension\":1,\"axis\":{\"id\":\"9fc79ae8-5166-4ae0-a2f1-8d3afd356f45\"},\"grid_line_color\":null}}],\"min_border_top\":10,\"min_border_bottom\":10,\"min_border_left\":10,\"min_border_right\":10,\"output_backend\":\"webgl\"}},{\"type\":\"object\",\"name\":\"Spacer\",\"id\":\"edb1ec8a-b6b6-4e28-91c4-5350bca4a40c\",\"attributes\":{\"name\":\"HSpacer02693\",\"stylesheets\":[\"\\n:host(.pn-loading):before, .pn-loading:before {\\n  background-color: #c3c3c3;\\n  mask-size: auto calc(min(50%, 400px));\\n  -webkit-mask-size: auto calc(min(50%, 400px));\\n}\",{\"id\":\"dfb1ac00-de28-4160-aa33-60c92c782daf\"},{\"id\":\"3216e164-0b8a-45d8-b7e0-08fd9cf71293\"},{\"id\":\"4ebecd4c-63a7-4b4e-95f0-f78a0e589513\"}],\"margin\":0,\"sizing_mode\":\"stretch_width\",\"align\":\"start\"}}]}}],\"defs\":[{\"type\":\"model\",\"name\":\"ReactiveHTML1\"},{\"type\":\"model\",\"name\":\"FlexBox1\",\"properties\":[{\"name\":\"align_content\",\"kind\":\"Any\",\"default\":\"flex-start\"},{\"name\":\"align_items\",\"kind\":\"Any\",\"default\":\"flex-start\"},{\"name\":\"flex_direction\",\"kind\":\"Any\",\"default\":\"row\"},{\"name\":\"flex_wrap\",\"kind\":\"Any\",\"default\":\"wrap\"},{\"name\":\"gap\",\"kind\":\"Any\",\"default\":\"\"},{\"name\":\"justify_content\",\"kind\":\"Any\",\"default\":\"flex-start\"}]},{\"type\":\"model\",\"name\":\"FloatPanel1\",\"properties\":[{\"name\":\"config\",\"kind\":\"Any\",\"default\":{\"type\":\"map\"}},{\"name\":\"contained\",\"kind\":\"Any\",\"default\":true},{\"name\":\"position\",\"kind\":\"Any\",\"default\":\"right-top\"},{\"name\":\"offsetx\",\"kind\":\"Any\",\"default\":null},{\"name\":\"offsety\",\"kind\":\"Any\",\"default\":null},{\"name\":\"theme\",\"kind\":\"Any\",\"default\":\"primary\"},{\"name\":\"status\",\"kind\":\"Any\",\"default\":\"normalized\"}]},{\"type\":\"model\",\"name\":\"GridStack1\",\"properties\":[{\"name\":\"mode\",\"kind\":\"Any\",\"default\":\"warn\"},{\"name\":\"ncols\",\"kind\":\"Any\",\"default\":null},{\"name\":\"nrows\",\"kind\":\"Any\",\"default\":null},{\"name\":\"allow_resize\",\"kind\":\"Any\",\"default\":true},{\"name\":\"allow_drag\",\"kind\":\"Any\",\"default\":true},{\"name\":\"state\",\"kind\":\"Any\",\"default\":[]}]},{\"type\":\"model\",\"name\":\"drag1\",\"properties\":[{\"name\":\"slider_width\",\"kind\":\"Any\",\"default\":5},{\"name\":\"slider_color\",\"kind\":\"Any\",\"default\":\"black\"},{\"name\":\"value\",\"kind\":\"Any\",\"default\":50}]},{\"type\":\"model\",\"name\":\"click1\",\"properties\":[{\"name\":\"terminal_output\",\"kind\":\"Any\",\"default\":\"\"},{\"name\":\"debug_name\",\"kind\":\"Any\",\"default\":\"\"},{\"name\":\"clears\",\"kind\":\"Any\",\"default\":0}]},{\"type\":\"model\",\"name\":\"FastWrapper1\",\"properties\":[{\"name\":\"object\",\"kind\":\"Any\",\"default\":null},{\"name\":\"style\",\"kind\":\"Any\",\"default\":null}]},{\"type\":\"model\",\"name\":\"NotificationAreaBase1\",\"properties\":[{\"name\":\"js_events\",\"kind\":\"Any\",\"default\":{\"type\":\"map\"}},{\"name\":\"position\",\"kind\":\"Any\",\"default\":\"bottom-right\"},{\"name\":\"_clear\",\"kind\":\"Any\",\"default\":0}]},{\"type\":\"model\",\"name\":\"NotificationArea1\",\"properties\":[{\"name\":\"js_events\",\"kind\":\"Any\",\"default\":{\"type\":\"map\"}},{\"name\":\"notifications\",\"kind\":\"Any\",\"default\":[]},{\"name\":\"position\",\"kind\":\"Any\",\"default\":\"bottom-right\"},{\"name\":\"_clear\",\"kind\":\"Any\",\"default\":0},{\"name\":\"types\",\"kind\":\"Any\",\"default\":[{\"type\":\"map\",\"entries\":[[\"type\",\"warning\"],[\"background\",\"#ffc107\"],[\"icon\",{\"type\":\"map\",\"entries\":[[\"className\",\"fas fa-exclamation-triangle\"],[\"tagName\",\"i\"],[\"color\",\"white\"]]}]]},{\"type\":\"map\",\"entries\":[[\"type\",\"info\"],[\"background\",\"#007bff\"],[\"icon\",{\"type\":\"map\",\"entries\":[[\"className\",\"fas fa-info-circle\"],[\"tagName\",\"i\"],[\"color\",\"white\"]]}]]}]}]},{\"type\":\"model\",\"name\":\"Notification\",\"properties\":[{\"name\":\"background\",\"kind\":\"Any\",\"default\":null},{\"name\":\"duration\",\"kind\":\"Any\",\"default\":3000},{\"name\":\"icon\",\"kind\":\"Any\",\"default\":null},{\"name\":\"message\",\"kind\":\"Any\",\"default\":\"\"},{\"name\":\"notification_type\",\"kind\":\"Any\",\"default\":null},{\"name\":\"_destroyed\",\"kind\":\"Any\",\"default\":false}]},{\"type\":\"model\",\"name\":\"TemplateActions1\",\"properties\":[{\"name\":\"open_modal\",\"kind\":\"Any\",\"default\":0},{\"name\":\"close_modal\",\"kind\":\"Any\",\"default\":0}]},{\"type\":\"model\",\"name\":\"BootstrapTemplateActions1\",\"properties\":[{\"name\":\"open_modal\",\"kind\":\"Any\",\"default\":0},{\"name\":\"close_modal\",\"kind\":\"Any\",\"default\":0}]},{\"type\":\"model\",\"name\":\"TemplateEditor1\",\"properties\":[{\"name\":\"layout\",\"kind\":\"Any\",\"default\":[]}]},{\"type\":\"model\",\"name\":\"MaterialTemplateActions1\",\"properties\":[{\"name\":\"open_modal\",\"kind\":\"Any\",\"default\":0},{\"name\":\"close_modal\",\"kind\":\"Any\",\"default\":0}]},{\"type\":\"model\",\"name\":\"ReactiveESM1\"},{\"type\":\"model\",\"name\":\"JSComponent1\"},{\"type\":\"model\",\"name\":\"ReactComponent1\"},{\"type\":\"model\",\"name\":\"AnyWidgetComponent1\"},{\"type\":\"model\",\"name\":\"request_value1\",\"properties\":[{\"name\":\"fill\",\"kind\":\"Any\",\"default\":\"none\"},{\"name\":\"_synced\",\"kind\":\"Any\",\"default\":null},{\"name\":\"_request_sync\",\"kind\":\"Any\",\"default\":0}]}]}};\n",
       "  var render_items = [{\"docid\":\"39ed50fd-fdb2-4733-92b5-9c2a001b6d8e\",\"roots\":{\"78620443-12d4-427c-8f4d-dec63b113cbf\":\"c881671e-9577-4d95-ab65-24c3dbf46336\"},\"root_ids\":[\"78620443-12d4-427c-8f4d-dec63b113cbf\"]}];\n",
       "  var docs = Object.values(docs_json)\n",
       "  if (!docs) {\n",
       "    return\n",
       "  }\n",
       "  const py_version = docs[0].version.replace('rc', '-rc.').replace('.dev', '-dev.')\n",
       "  async function embed_document(root) {\n",
       "    var Bokeh = get_bokeh(root)\n",
       "    await Bokeh.embed.embed_items_notebook(docs_json, render_items);\n",
       "    for (const render_item of render_items) {\n",
       "      for (const root_id of render_item.root_ids) {\n",
       "\tconst id_el = document.getElementById(root_id)\n",
       "\tif (id_el.children.length && id_el.children[0].hasAttribute('data-root-id')) {\n",
       "\t  const root_el = id_el.children[0]\n",
       "\t  root_el.id = root_el.id + '-rendered'\n",
       "\t  for (const child of root_el.children) {\n",
       "            // Ensure JupyterLab does not capture keyboard shortcuts\n",
       "            // see: https://jupyterlab.readthedocs.io/en/4.1.x/extension/notebook.html#keyboard-interaction-model\n",
       "\t    child.setAttribute('data-lm-suppress-shortcuts', 'true')\n",
       "\t  }\n",
       "\t}\n",
       "      }\n",
       "    }\n",
       "  }\n",
       "  function get_bokeh(root) {\n",
       "    if (root.Bokeh === undefined) {\n",
       "      return null\n",
       "    } else if (root.Bokeh.version !== py_version) {\n",
       "      if (root.Bokeh.versions === undefined || !root.Bokeh.versions.has(py_version)) {\n",
       "\treturn null\n",
       "      }\n",
       "      return root.Bokeh.versions.get(py_version);\n",
       "    } else if (root.Bokeh.version === py_version) {\n",
       "      return root.Bokeh\n",
       "    }\n",
       "    return null\n",
       "  }\n",
       "  function is_loaded(root) {\n",
       "    var Bokeh = get_bokeh(root)\n",
       "    return (Bokeh != null && Bokeh.Panel !== undefined)\n",
       "  }\n",
       "  if (is_loaded(root)) {\n",
       "    embed_document(root);\n",
       "  } else {\n",
       "    var attempts = 0;\n",
       "    var timer = setInterval(function(root) {\n",
       "      if (is_loaded(root)) {\n",
       "        clearInterval(timer);\n",
       "        embed_document(root);\n",
       "      } else if (document.readyState == \"complete\") {\n",
       "        attempts++;\n",
       "        if (attempts > 200) {\n",
       "          clearInterval(timer);\n",
       "\t  var Bokeh = get_bokeh(root)\n",
       "\t  if (Bokeh == null || Bokeh.Panel == null) {\n",
       "            console.warn(\"Panel: ERROR: Unable to run Panel code because Bokeh or Panel library is missing\");\n",
       "\t  } else {\n",
       "\t    console.warn(\"Panel: WARNING: Attempting to render but not all required libraries could be resolved.\")\n",
       "\t    embed_document(root)\n",
       "\t  }\n",
       "        }\n",
       "      }\n",
       "    }, 25, root)\n",
       "  }\n",
       "})(window);</script>"
      ],
      "text/plain": [
       ":NdOverlay   [predictions]\n",
       "   :Scatter   [recency]   (monetary)"
      ]
     },
     "metadata": {
      "application/vnd.holoviews_exec.v0+json": {
       "id": "78620443-12d4-427c-8f4d-dec63b113cbf"
      }
     },
     "output_type": "display_data"
    }
   ],
   "source": [
    "# select best k (3 or 4) but include 2 and 5 just in case\n",
    "k_options = [2,3,4,5]\n",
    "x_val = 'recency'\n",
    "y_val = 'monetary'\n",
    "\n",
    "\n",
    "# get segments for both metrics\n",
    "s_segments_df, s_segments_plot = get_k_means_segments(data=scaled_rfm_df, k_values=k_options, metric='silhouette', x_val=x_val, y_val=y_val)\n",
    "display(s_segments_plot)\n",
    "\n",
    "ch_segments_df, ch_segments_plot = get_k_means_segments(data=scaled_rfm_df, k_values=k_options, metric='ch_score', x_val=x_val, y_val=y_val)\n",
    "display(ch_segments_plot)"
   ]
  }
 ],
 "metadata": {
  "kernelspec": {
   "display_name": "base",
   "language": "python",
   "name": "python3"
  },
  "language_info": {
   "codemirror_mode": {
    "name": "ipython",
    "version": 3
   },
   "file_extension": ".py",
   "mimetype": "text/x-python",
   "name": "python",
   "nbconvert_exporter": "python",
   "pygments_lexer": "ipython3",
   "version": "3.12.4"
  }
 },
 "nbformat": 4,
 "nbformat_minor": 2
}
