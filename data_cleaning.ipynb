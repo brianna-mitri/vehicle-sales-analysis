{
 "cells": [
  {
   "cell_type": "markdown",
   "metadata": {},
   "source": [
    "## Setup"
   ]
  },
  {
   "cell_type": "code",
   "execution_count": 2,
   "metadata": {},
   "outputs": [],
   "source": [
    "# imports\n",
    "from kaggle.api.kaggle_api_extended import KaggleApi\n",
    "import pandas as pd"
   ]
  },
  {
   "cell_type": "code",
   "execution_count": null,
   "metadata": {},
   "outputs": [
    {
     "name": "stdout",
     "output_type": "stream",
     "text": [
      "Dataset URL: https://www.kaggle.com/datasets/kyanyoga/sample-sales-data\n"
     ]
    }
   ],
   "source": [
    "# import dataset through kaggle api\n",
    "api = KaggleApi()\n",
    "api.authenticate()\n",
    "\n",
    "api.dataset_download_files('kyanyoga/sample-sales-data', path='./Resources', unzip=True)"
   ]
  },
  {
   "cell_type": "code",
   "execution_count": 3,
   "metadata": {},
   "outputs": [
    {
     "name": "stdout",
     "output_type": "stream",
     "text": [
      "(2823, 25)\n"
     ]
    },
    {
     "data": {
      "text/html": [
       "<div>\n",
       "<style scoped>\n",
       "    .dataframe tbody tr th:only-of-type {\n",
       "        vertical-align: middle;\n",
       "    }\n",
       "\n",
       "    .dataframe tbody tr th {\n",
       "        vertical-align: top;\n",
       "    }\n",
       "\n",
       "    .dataframe thead th {\n",
       "        text-align: right;\n",
       "    }\n",
       "</style>\n",
       "<table border=\"1\" class=\"dataframe\">\n",
       "  <thead>\n",
       "    <tr style=\"text-align: right;\">\n",
       "      <th></th>\n",
       "      <th>ORDERNUMBER</th>\n",
       "      <th>QUANTITYORDERED</th>\n",
       "      <th>PRICEEACH</th>\n",
       "      <th>ORDERLINENUMBER</th>\n",
       "      <th>SALES</th>\n",
       "      <th>ORDERDATE</th>\n",
       "      <th>STATUS</th>\n",
       "      <th>QTR_ID</th>\n",
       "      <th>MONTH_ID</th>\n",
       "      <th>YEAR_ID</th>\n",
       "      <th>...</th>\n",
       "      <th>ADDRESSLINE1</th>\n",
       "      <th>ADDRESSLINE2</th>\n",
       "      <th>CITY</th>\n",
       "      <th>STATE</th>\n",
       "      <th>POSTALCODE</th>\n",
       "      <th>COUNTRY</th>\n",
       "      <th>TERRITORY</th>\n",
       "      <th>CONTACTLASTNAME</th>\n",
       "      <th>CONTACTFIRSTNAME</th>\n",
       "      <th>DEALSIZE</th>\n",
       "    </tr>\n",
       "  </thead>\n",
       "  <tbody>\n",
       "    <tr>\n",
       "      <th>0</th>\n",
       "      <td>10107</td>\n",
       "      <td>30</td>\n",
       "      <td>95.70</td>\n",
       "      <td>2</td>\n",
       "      <td>2871.00</td>\n",
       "      <td>2/24/2003 0:00</td>\n",
       "      <td>Shipped</td>\n",
       "      <td>1</td>\n",
       "      <td>2</td>\n",
       "      <td>2003</td>\n",
       "      <td>...</td>\n",
       "      <td>897 Long Airport Avenue</td>\n",
       "      <td>NaN</td>\n",
       "      <td>NYC</td>\n",
       "      <td>NY</td>\n",
       "      <td>10022</td>\n",
       "      <td>USA</td>\n",
       "      <td>NaN</td>\n",
       "      <td>Yu</td>\n",
       "      <td>Kwai</td>\n",
       "      <td>Small</td>\n",
       "    </tr>\n",
       "    <tr>\n",
       "      <th>1</th>\n",
       "      <td>10121</td>\n",
       "      <td>34</td>\n",
       "      <td>81.35</td>\n",
       "      <td>5</td>\n",
       "      <td>2765.90</td>\n",
       "      <td>5/7/2003 0:00</td>\n",
       "      <td>Shipped</td>\n",
       "      <td>2</td>\n",
       "      <td>5</td>\n",
       "      <td>2003</td>\n",
       "      <td>...</td>\n",
       "      <td>59 rue de l'Abbaye</td>\n",
       "      <td>NaN</td>\n",
       "      <td>Reims</td>\n",
       "      <td>NaN</td>\n",
       "      <td>51100</td>\n",
       "      <td>France</td>\n",
       "      <td>EMEA</td>\n",
       "      <td>Henriot</td>\n",
       "      <td>Paul</td>\n",
       "      <td>Small</td>\n",
       "    </tr>\n",
       "    <tr>\n",
       "      <th>2</th>\n",
       "      <td>10134</td>\n",
       "      <td>41</td>\n",
       "      <td>94.74</td>\n",
       "      <td>2</td>\n",
       "      <td>3884.34</td>\n",
       "      <td>7/1/2003 0:00</td>\n",
       "      <td>Shipped</td>\n",
       "      <td>3</td>\n",
       "      <td>7</td>\n",
       "      <td>2003</td>\n",
       "      <td>...</td>\n",
       "      <td>27 rue du Colonel Pierre Avia</td>\n",
       "      <td>NaN</td>\n",
       "      <td>Paris</td>\n",
       "      <td>NaN</td>\n",
       "      <td>75508</td>\n",
       "      <td>France</td>\n",
       "      <td>EMEA</td>\n",
       "      <td>Da Cunha</td>\n",
       "      <td>Daniel</td>\n",
       "      <td>Medium</td>\n",
       "    </tr>\n",
       "    <tr>\n",
       "      <th>3</th>\n",
       "      <td>10145</td>\n",
       "      <td>45</td>\n",
       "      <td>83.26</td>\n",
       "      <td>6</td>\n",
       "      <td>3746.70</td>\n",
       "      <td>8/25/2003 0:00</td>\n",
       "      <td>Shipped</td>\n",
       "      <td>3</td>\n",
       "      <td>8</td>\n",
       "      <td>2003</td>\n",
       "      <td>...</td>\n",
       "      <td>78934 Hillside Dr.</td>\n",
       "      <td>NaN</td>\n",
       "      <td>Pasadena</td>\n",
       "      <td>CA</td>\n",
       "      <td>90003</td>\n",
       "      <td>USA</td>\n",
       "      <td>NaN</td>\n",
       "      <td>Young</td>\n",
       "      <td>Julie</td>\n",
       "      <td>Medium</td>\n",
       "    </tr>\n",
       "    <tr>\n",
       "      <th>4</th>\n",
       "      <td>10159</td>\n",
       "      <td>49</td>\n",
       "      <td>100.00</td>\n",
       "      <td>14</td>\n",
       "      <td>5205.27</td>\n",
       "      <td>10/10/2003 0:00</td>\n",
       "      <td>Shipped</td>\n",
       "      <td>4</td>\n",
       "      <td>10</td>\n",
       "      <td>2003</td>\n",
       "      <td>...</td>\n",
       "      <td>7734 Strong St.</td>\n",
       "      <td>NaN</td>\n",
       "      <td>San Francisco</td>\n",
       "      <td>CA</td>\n",
       "      <td>NaN</td>\n",
       "      <td>USA</td>\n",
       "      <td>NaN</td>\n",
       "      <td>Brown</td>\n",
       "      <td>Julie</td>\n",
       "      <td>Medium</td>\n",
       "    </tr>\n",
       "  </tbody>\n",
       "</table>\n",
       "<p>5 rows × 25 columns</p>\n",
       "</div>"
      ],
      "text/plain": [
       "   ORDERNUMBER  QUANTITYORDERED  PRICEEACH  ORDERLINENUMBER    SALES  \\\n",
       "0        10107               30      95.70                2  2871.00   \n",
       "1        10121               34      81.35                5  2765.90   \n",
       "2        10134               41      94.74                2  3884.34   \n",
       "3        10145               45      83.26                6  3746.70   \n",
       "4        10159               49     100.00               14  5205.27   \n",
       "\n",
       "         ORDERDATE   STATUS  QTR_ID  MONTH_ID  YEAR_ID  ...  \\\n",
       "0   2/24/2003 0:00  Shipped       1         2     2003  ...   \n",
       "1    5/7/2003 0:00  Shipped       2         5     2003  ...   \n",
       "2    7/1/2003 0:00  Shipped       3         7     2003  ...   \n",
       "3   8/25/2003 0:00  Shipped       3         8     2003  ...   \n",
       "4  10/10/2003 0:00  Shipped       4        10     2003  ...   \n",
       "\n",
       "                    ADDRESSLINE1  ADDRESSLINE2           CITY STATE  \\\n",
       "0        897 Long Airport Avenue           NaN            NYC    NY   \n",
       "1             59 rue de l'Abbaye           NaN          Reims   NaN   \n",
       "2  27 rue du Colonel Pierre Avia           NaN          Paris   NaN   \n",
       "3             78934 Hillside Dr.           NaN       Pasadena    CA   \n",
       "4                7734 Strong St.           NaN  San Francisco    CA   \n",
       "\n",
       "  POSTALCODE COUNTRY TERRITORY CONTACTLASTNAME CONTACTFIRSTNAME DEALSIZE  \n",
       "0      10022     USA       NaN              Yu             Kwai    Small  \n",
       "1      51100  France      EMEA         Henriot             Paul    Small  \n",
       "2      75508  France      EMEA        Da Cunha           Daniel   Medium  \n",
       "3      90003     USA       NaN           Young            Julie   Medium  \n",
       "4        NaN     USA       NaN           Brown            Julie   Medium  \n",
       "\n",
       "[5 rows x 25 columns]"
      ]
     },
     "execution_count": 3,
     "metadata": {},
     "output_type": "execute_result"
    }
   ],
   "source": [
    "# convert to df\n",
    "sales_df = pd.read_csv('Resources/sales_data_sample.csv', encoding='latin1')\n",
    "\n",
    "# display df\n",
    "print(sales_df.shape)\n",
    "sales_df.head()"
   ]
  },
  {
   "cell_type": "markdown",
   "metadata": {},
   "source": [
    "## Data Check\n",
    "---"
   ]
  },
  {
   "cell_type": "code",
   "execution_count": 4,
   "metadata": {},
   "outputs": [
    {
     "data": {
      "text/plain": [
       "ORDERNUMBER            0\n",
       "QUANTITYORDERED        0\n",
       "PRICEEACH              0\n",
       "ORDERLINENUMBER        0\n",
       "SALES                  0\n",
       "ORDERDATE              0\n",
       "STATUS                 0\n",
       "QTR_ID                 0\n",
       "MONTH_ID               0\n",
       "YEAR_ID                0\n",
       "PRODUCTLINE            0\n",
       "MSRP                   0\n",
       "PRODUCTCODE            0\n",
       "CUSTOMERNAME           0\n",
       "PHONE                  0\n",
       "ADDRESSLINE1           0\n",
       "ADDRESSLINE2        2521\n",
       "CITY                   0\n",
       "STATE               1486\n",
       "POSTALCODE            76\n",
       "COUNTRY                0\n",
       "TERRITORY           1074\n",
       "CONTACTLASTNAME        0\n",
       "CONTACTFIRSTNAME       0\n",
       "DEALSIZE               0\n",
       "dtype: int64"
      ]
     },
     "execution_count": 4,
     "metadata": {},
     "output_type": "execute_result"
    }
   ],
   "source": [
    "# check nulls\n",
    "sales_df.isna().sum()"
   ]
  },
  {
   "cell_type": "code",
   "execution_count": 5,
   "metadata": {},
   "outputs": [
    {
     "data": {
      "text/plain": [
       "ORDERNUMBER          307\n",
       "QUANTITYORDERED       58\n",
       "PRICEEACH           1016\n",
       "ORDERLINENUMBER       18\n",
       "SALES               2763\n",
       "ORDERDATE            252\n",
       "STATUS                 6\n",
       "QTR_ID                 4\n",
       "MONTH_ID              12\n",
       "YEAR_ID                3\n",
       "PRODUCTLINE            7\n",
       "MSRP                  80\n",
       "PRODUCTCODE          109\n",
       "CUSTOMERNAME          92\n",
       "PHONE                 91\n",
       "ADDRESSLINE1          92\n",
       "ADDRESSLINE2           9\n",
       "CITY                  73\n",
       "STATE                 16\n",
       "POSTALCODE            73\n",
       "COUNTRY               19\n",
       "TERRITORY              3\n",
       "CONTACTLASTNAME       77\n",
       "CONTACTFIRSTNAME      72\n",
       "DEALSIZE               3\n",
       "dtype: int64"
      ]
     },
     "execution_count": 5,
     "metadata": {},
     "output_type": "execute_result"
    }
   ],
   "source": [
    "# look at unique count\n",
    "sales_df.nunique()"
   ]
  },
  {
   "cell_type": "code",
   "execution_count": 6,
   "metadata": {},
   "outputs": [
    {
     "data": {
      "text/plain": [
       "ORDERNUMBER           int64\n",
       "QUANTITYORDERED       int64\n",
       "PRICEEACH           float64\n",
       "ORDERLINENUMBER       int64\n",
       "SALES               float64\n",
       "ORDERDATE            object\n",
       "STATUS               object\n",
       "QTR_ID                int64\n",
       "MONTH_ID              int64\n",
       "YEAR_ID               int64\n",
       "PRODUCTLINE          object\n",
       "MSRP                  int64\n",
       "PRODUCTCODE          object\n",
       "CUSTOMERNAME         object\n",
       "PHONE                object\n",
       "ADDRESSLINE1         object\n",
       "ADDRESSLINE2         object\n",
       "CITY                 object\n",
       "STATE                object\n",
       "POSTALCODE           object\n",
       "COUNTRY              object\n",
       "TERRITORY            object\n",
       "CONTACTLASTNAME      object\n",
       "CONTACTFIRSTNAME     object\n",
       "DEALSIZE             object\n",
       "dtype: object"
      ]
     },
     "execution_count": 6,
     "metadata": {},
     "output_type": "execute_result"
    }
   ],
   "source": [
    "# data types check\n",
    "sales_df.dtypes"
   ]
  }
 ],
 "metadata": {
  "kernelspec": {
   "display_name": "base",
   "language": "python",
   "name": "python3"
  },
  "language_info": {
   "codemirror_mode": {
    "name": "ipython",
    "version": 3
   },
   "file_extension": ".py",
   "mimetype": "text/x-python",
   "name": "python",
   "nbconvert_exporter": "python",
   "pygments_lexer": "ipython3",
   "version": "3.12.4"
  }
 },
 "nbformat": 4,
 "nbformat_minor": 2
}
